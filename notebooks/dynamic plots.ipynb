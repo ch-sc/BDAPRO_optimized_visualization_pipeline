{
 "cells": [
  {
   "cell_type": "markdown",
   "metadata": {},
   "source": [
    "example from here:  https://github.com/bokeh/bokeh/blob/1.0.4/examples/howto/notebook_comms/Jupyter%20Interactors.ipynb\n",
    "\n",
    "http://bokeh.pydata.org/en/latest/docs/user_guide/notebook.html\n"
   ]
  },
  {
   "cell_type": "markdown",
   "metadata": {},
   "source": [
    "<h1>Basic Interactor Demo</h1>\n",
    "\n",
    "This demo shows off an interactive visualization using Bokeh for plotting, and Ipython interactors for widgets. The demo runs entirely inside the Ipython notebook, with no Bokeh server required.\n",
    "\n",
    "The dropdown offers a choice of trig functions to plot, and the sliders control the frequency, amplitude, and phase.\n",
    "\n",
    "To run, click on, Cell->Run All in the top menu, then scroll to the bottom and move the sliders."
   ]
  },
  {
   "cell_type": "code",
   "execution_count": 1,
   "metadata": {},
   "outputs": [
    {
     "data": {
      "text/html": [
       "\n",
       "    <div class=\"bk-root\">\n",
       "        <a href=\"https://bokeh.pydata.org\" target=\"_blank\" class=\"bk-logo bk-logo-small bk-logo-notebook\"></a>\n",
       "        <span id=\"1001\">Loading BokehJS ...</span>\n",
       "    </div>"
      ]
     },
     "metadata": {},
     "output_type": "display_data"
    },
    {
     "data": {
      "application/javascript": [
       "\n",
       "(function(root) {\n",
       "  function now() {\n",
       "    return new Date();\n",
       "  }\n",
       "\n",
       "  var force = true;\n",
       "\n",
       "  if (typeof (root._bokeh_onload_callbacks) === \"undefined\" || force === true) {\n",
       "    root._bokeh_onload_callbacks = [];\n",
       "    root._bokeh_is_loading = undefined;\n",
       "  }\n",
       "\n",
       "  var JS_MIME_TYPE = 'application/javascript';\n",
       "  var HTML_MIME_TYPE = 'text/html';\n",
       "  var EXEC_MIME_TYPE = 'application/vnd.bokehjs_exec.v0+json';\n",
       "  var CLASS_NAME = 'output_bokeh rendered_html';\n",
       "\n",
       "  /**\n",
       "   * Render data to the DOM node\n",
       "   */\n",
       "  function render(props, node) {\n",
       "    var script = document.createElement(\"script\");\n",
       "    node.appendChild(script);\n",
       "  }\n",
       "\n",
       "  /**\n",
       "   * Handle when an output is cleared or removed\n",
       "   */\n",
       "  function handleClearOutput(event, handle) {\n",
       "    var cell = handle.cell;\n",
       "\n",
       "    var id = cell.output_area._bokeh_element_id;\n",
       "    var server_id = cell.output_area._bokeh_server_id;\n",
       "    // Clean up Bokeh references\n",
       "    if (id != null && id in Bokeh.index) {\n",
       "      Bokeh.index[id].model.document.clear();\n",
       "      delete Bokeh.index[id];\n",
       "    }\n",
       "\n",
       "    if (server_id !== undefined) {\n",
       "      // Clean up Bokeh references\n",
       "      var cmd = \"from bokeh.io.state import curstate; print(curstate().uuid_to_server['\" + server_id + \"'].get_sessions()[0].document.roots[0]._id)\";\n",
       "      cell.notebook.kernel.execute(cmd, {\n",
       "        iopub: {\n",
       "          output: function(msg) {\n",
       "            var id = msg.content.text.trim();\n",
       "            if (id in Bokeh.index) {\n",
       "              Bokeh.index[id].model.document.clear();\n",
       "              delete Bokeh.index[id];\n",
       "            }\n",
       "          }\n",
       "        }\n",
       "      });\n",
       "      // Destroy server and session\n",
       "      var cmd = \"import bokeh.io.notebook as ion; ion.destroy_server('\" + server_id + \"')\";\n",
       "      cell.notebook.kernel.execute(cmd);\n",
       "    }\n",
       "  }\n",
       "\n",
       "  /**\n",
       "   * Handle when a new output is added\n",
       "   */\n",
       "  function handleAddOutput(event, handle) {\n",
       "    var output_area = handle.output_area;\n",
       "    var output = handle.output;\n",
       "\n",
       "    // limit handleAddOutput to display_data with EXEC_MIME_TYPE content only\n",
       "    if ((output.output_type != \"display_data\") || (!output.data.hasOwnProperty(EXEC_MIME_TYPE))) {\n",
       "      return\n",
       "    }\n",
       "\n",
       "    var toinsert = output_area.element.find(\".\" + CLASS_NAME.split(' ')[0]);\n",
       "\n",
       "    if (output.metadata[EXEC_MIME_TYPE][\"id\"] !== undefined) {\n",
       "      toinsert[toinsert.length - 1].firstChild.textContent = output.data[JS_MIME_TYPE];\n",
       "      // store reference to embed id on output_area\n",
       "      output_area._bokeh_element_id = output.metadata[EXEC_MIME_TYPE][\"id\"];\n",
       "    }\n",
       "    if (output.metadata[EXEC_MIME_TYPE][\"server_id\"] !== undefined) {\n",
       "      var bk_div = document.createElement(\"div\");\n",
       "      bk_div.innerHTML = output.data[HTML_MIME_TYPE];\n",
       "      var script_attrs = bk_div.children[0].attributes;\n",
       "      for (var i = 0; i < script_attrs.length; i++) {\n",
       "        toinsert[toinsert.length - 1].firstChild.setAttribute(script_attrs[i].name, script_attrs[i].value);\n",
       "      }\n",
       "      // store reference to server id on output_area\n",
       "      output_area._bokeh_server_id = output.metadata[EXEC_MIME_TYPE][\"server_id\"];\n",
       "    }\n",
       "  }\n",
       "\n",
       "  function register_renderer(events, OutputArea) {\n",
       "\n",
       "    function append_mime(data, metadata, element) {\n",
       "      // create a DOM node to render to\n",
       "      var toinsert = this.create_output_subarea(\n",
       "        metadata,\n",
       "        CLASS_NAME,\n",
       "        EXEC_MIME_TYPE\n",
       "      );\n",
       "      this.keyboard_manager.register_events(toinsert);\n",
       "      // Render to node\n",
       "      var props = {data: data, metadata: metadata[EXEC_MIME_TYPE]};\n",
       "      render(props, toinsert[toinsert.length - 1]);\n",
       "      element.append(toinsert);\n",
       "      return toinsert\n",
       "    }\n",
       "\n",
       "    /* Handle when an output is cleared or removed */\n",
       "    events.on('clear_output.CodeCell', handleClearOutput);\n",
       "    events.on('delete.Cell', handleClearOutput);\n",
       "\n",
       "    /* Handle when a new output is added */\n",
       "    events.on('output_added.OutputArea', handleAddOutput);\n",
       "\n",
       "    /**\n",
       "     * Register the mime type and append_mime function with output_area\n",
       "     */\n",
       "    OutputArea.prototype.register_mime_type(EXEC_MIME_TYPE, append_mime, {\n",
       "      /* Is output safe? */\n",
       "      safe: true,\n",
       "      /* Index of renderer in `output_area.display_order` */\n",
       "      index: 0\n",
       "    });\n",
       "  }\n",
       "\n",
       "  // register the mime type if in Jupyter Notebook environment and previously unregistered\n",
       "  if (root.Jupyter !== undefined) {\n",
       "    var events = require('base/js/events');\n",
       "    var OutputArea = require('notebook/js/outputarea').OutputArea;\n",
       "\n",
       "    if (OutputArea.prototype.mime_types().indexOf(EXEC_MIME_TYPE) == -1) {\n",
       "      register_renderer(events, OutputArea);\n",
       "    }\n",
       "  }\n",
       "\n",
       "  \n",
       "  if (typeof (root._bokeh_timeout) === \"undefined\" || force === true) {\n",
       "    root._bokeh_timeout = Date.now() + 5000;\n",
       "    root._bokeh_failed_load = false;\n",
       "  }\n",
       "\n",
       "  var NB_LOAD_WARNING = {'data': {'text/html':\n",
       "     \"<div style='background-color: #fdd'>\\n\"+\n",
       "     \"<p>\\n\"+\n",
       "     \"BokehJS does not appear to have successfully loaded. If loading BokehJS from CDN, this \\n\"+\n",
       "     \"may be due to a slow or bad network connection. Possible fixes:\\n\"+\n",
       "     \"</p>\\n\"+\n",
       "     \"<ul>\\n\"+\n",
       "     \"<li>re-rerun `output_notebook()` to attempt to load from CDN again, or</li>\\n\"+\n",
       "     \"<li>use INLINE resources instead, as so:</li>\\n\"+\n",
       "     \"</ul>\\n\"+\n",
       "     \"<code>\\n\"+\n",
       "     \"from bokeh.resources import INLINE\\n\"+\n",
       "     \"output_notebook(resources=INLINE)\\n\"+\n",
       "     \"</code>\\n\"+\n",
       "     \"</div>\"}};\n",
       "\n",
       "  function display_loaded() {\n",
       "    var el = document.getElementById(\"1001\");\n",
       "    if (el != null) {\n",
       "      el.textContent = \"BokehJS is loading...\";\n",
       "    }\n",
       "    if (root.Bokeh !== undefined) {\n",
       "      if (el != null) {\n",
       "        el.textContent = \"BokehJS \" + root.Bokeh.version + \" successfully loaded.\";\n",
       "      }\n",
       "    } else if (Date.now() < root._bokeh_timeout) {\n",
       "      setTimeout(display_loaded, 100)\n",
       "    }\n",
       "  }\n",
       "\n",
       "\n",
       "  function run_callbacks() {\n",
       "    try {\n",
       "      root._bokeh_onload_callbacks.forEach(function(callback) { callback() });\n",
       "    }\n",
       "    finally {\n",
       "      delete root._bokeh_onload_callbacks\n",
       "    }\n",
       "    console.info(\"Bokeh: all callbacks have finished\");\n",
       "  }\n",
       "\n",
       "  function load_libs(js_urls, callback) {\n",
       "    root._bokeh_onload_callbacks.push(callback);\n",
       "    if (root._bokeh_is_loading > 0) {\n",
       "      console.log(\"Bokeh: BokehJS is being loaded, scheduling callback at\", now());\n",
       "      return null;\n",
       "    }\n",
       "    if (js_urls == null || js_urls.length === 0) {\n",
       "      run_callbacks();\n",
       "      return null;\n",
       "    }\n",
       "    console.log(\"Bokeh: BokehJS not loaded, scheduling load and callback at\", now());\n",
       "    root._bokeh_is_loading = js_urls.length;\n",
       "    for (var i = 0; i < js_urls.length; i++) {\n",
       "      var url = js_urls[i];\n",
       "      var s = document.createElement('script');\n",
       "      s.src = url;\n",
       "      s.async = false;\n",
       "      s.onreadystatechange = s.onload = function() {\n",
       "        root._bokeh_is_loading--;\n",
       "        if (root._bokeh_is_loading === 0) {\n",
       "          console.log(\"Bokeh: all BokehJS libraries loaded\");\n",
       "          run_callbacks()\n",
       "        }\n",
       "      };\n",
       "      s.onerror = function() {\n",
       "        console.warn(\"failed to load library \" + url);\n",
       "      };\n",
       "      console.log(\"Bokeh: injecting script tag for BokehJS library: \", url);\n",
       "      document.getElementsByTagName(\"head\")[0].appendChild(s);\n",
       "    }\n",
       "  };var element = document.getElementById(\"1001\");\n",
       "  if (element == null) {\n",
       "    console.log(\"Bokeh: ERROR: autoload.js configured with elementid '1001' but no matching script tag was found. \")\n",
       "    return false;\n",
       "  }\n",
       "\n",
       "  var js_urls = [\"https://cdn.pydata.org/bokeh/release/bokeh-1.0.4.min.js\", \"https://cdn.pydata.org/bokeh/release/bokeh-widgets-1.0.4.min.js\", \"https://cdn.pydata.org/bokeh/release/bokeh-tables-1.0.4.min.js\", \"https://cdn.pydata.org/bokeh/release/bokeh-gl-1.0.4.min.js\"];\n",
       "\n",
       "  var inline_js = [\n",
       "    function(Bokeh) {\n",
       "      Bokeh.set_log_level(\"info\");\n",
       "    },\n",
       "    \n",
       "    function(Bokeh) {\n",
       "      \n",
       "    },\n",
       "    function(Bokeh) {\n",
       "      console.log(\"Bokeh: injecting CSS: https://cdn.pydata.org/bokeh/release/bokeh-1.0.4.min.css\");\n",
       "      Bokeh.embed.inject_css(\"https://cdn.pydata.org/bokeh/release/bokeh-1.0.4.min.css\");\n",
       "      console.log(\"Bokeh: injecting CSS: https://cdn.pydata.org/bokeh/release/bokeh-widgets-1.0.4.min.css\");\n",
       "      Bokeh.embed.inject_css(\"https://cdn.pydata.org/bokeh/release/bokeh-widgets-1.0.4.min.css\");\n",
       "      console.log(\"Bokeh: injecting CSS: https://cdn.pydata.org/bokeh/release/bokeh-tables-1.0.4.min.css\");\n",
       "      Bokeh.embed.inject_css(\"https://cdn.pydata.org/bokeh/release/bokeh-tables-1.0.4.min.css\");\n",
       "    }\n",
       "  ];\n",
       "\n",
       "  function run_inline_js() {\n",
       "    \n",
       "    if ((root.Bokeh !== undefined) || (force === true)) {\n",
       "      for (var i = 0; i < inline_js.length; i++) {\n",
       "        inline_js[i].call(root, root.Bokeh);\n",
       "      }if (force === true) {\n",
       "        display_loaded();\n",
       "      }} else if (Date.now() < root._bokeh_timeout) {\n",
       "      setTimeout(run_inline_js, 100);\n",
       "    } else if (!root._bokeh_failed_load) {\n",
       "      console.log(\"Bokeh: BokehJS failed to load within specified timeout.\");\n",
       "      root._bokeh_failed_load = true;\n",
       "    } else if (force !== true) {\n",
       "      var cell = $(document.getElementById(\"1001\")).parents('.cell').data().cell;\n",
       "      cell.output_area.append_execute_result(NB_LOAD_WARNING)\n",
       "    }\n",
       "\n",
       "  }\n",
       "\n",
       "  if (root._bokeh_is_loading === 0) {\n",
       "    console.log(\"Bokeh: BokehJS loaded, going straight to plotting\");\n",
       "    run_inline_js();\n",
       "  } else {\n",
       "    load_libs(js_urls, function() {\n",
       "      console.log(\"Bokeh: BokehJS plotting callback run at\", now());\n",
       "      run_inline_js();\n",
       "    });\n",
       "  }\n",
       "}(window));"
      ],
      "application/vnd.bokehjs_load.v0+json": "\n(function(root) {\n  function now() {\n    return new Date();\n  }\n\n  var force = true;\n\n  if (typeof (root._bokeh_onload_callbacks) === \"undefined\" || force === true) {\n    root._bokeh_onload_callbacks = [];\n    root._bokeh_is_loading = undefined;\n  }\n\n  \n\n  \n  if (typeof (root._bokeh_timeout) === \"undefined\" || force === true) {\n    root._bokeh_timeout = Date.now() + 5000;\n    root._bokeh_failed_load = false;\n  }\n\n  var NB_LOAD_WARNING = {'data': {'text/html':\n     \"<div style='background-color: #fdd'>\\n\"+\n     \"<p>\\n\"+\n     \"BokehJS does not appear to have successfully loaded. If loading BokehJS from CDN, this \\n\"+\n     \"may be due to a slow or bad network connection. Possible fixes:\\n\"+\n     \"</p>\\n\"+\n     \"<ul>\\n\"+\n     \"<li>re-rerun `output_notebook()` to attempt to load from CDN again, or</li>\\n\"+\n     \"<li>use INLINE resources instead, as so:</li>\\n\"+\n     \"</ul>\\n\"+\n     \"<code>\\n\"+\n     \"from bokeh.resources import INLINE\\n\"+\n     \"output_notebook(resources=INLINE)\\n\"+\n     \"</code>\\n\"+\n     \"</div>\"}};\n\n  function display_loaded() {\n    var el = document.getElementById(\"1001\");\n    if (el != null) {\n      el.textContent = \"BokehJS is loading...\";\n    }\n    if (root.Bokeh !== undefined) {\n      if (el != null) {\n        el.textContent = \"BokehJS \" + root.Bokeh.version + \" successfully loaded.\";\n      }\n    } else if (Date.now() < root._bokeh_timeout) {\n      setTimeout(display_loaded, 100)\n    }\n  }\n\n\n  function run_callbacks() {\n    try {\n      root._bokeh_onload_callbacks.forEach(function(callback) { callback() });\n    }\n    finally {\n      delete root._bokeh_onload_callbacks\n    }\n    console.info(\"Bokeh: all callbacks have finished\");\n  }\n\n  function load_libs(js_urls, callback) {\n    root._bokeh_onload_callbacks.push(callback);\n    if (root._bokeh_is_loading > 0) {\n      console.log(\"Bokeh: BokehJS is being loaded, scheduling callback at\", now());\n      return null;\n    }\n    if (js_urls == null || js_urls.length === 0) {\n      run_callbacks();\n      return null;\n    }\n    console.log(\"Bokeh: BokehJS not loaded, scheduling load and callback at\", now());\n    root._bokeh_is_loading = js_urls.length;\n    for (var i = 0; i < js_urls.length; i++) {\n      var url = js_urls[i];\n      var s = document.createElement('script');\n      s.src = url;\n      s.async = false;\n      s.onreadystatechange = s.onload = function() {\n        root._bokeh_is_loading--;\n        if (root._bokeh_is_loading === 0) {\n          console.log(\"Bokeh: all BokehJS libraries loaded\");\n          run_callbacks()\n        }\n      };\n      s.onerror = function() {\n        console.warn(\"failed to load library \" + url);\n      };\n      console.log(\"Bokeh: injecting script tag for BokehJS library: \", url);\n      document.getElementsByTagName(\"head\")[0].appendChild(s);\n    }\n  };var element = document.getElementById(\"1001\");\n  if (element == null) {\n    console.log(\"Bokeh: ERROR: autoload.js configured with elementid '1001' but no matching script tag was found. \")\n    return false;\n  }\n\n  var js_urls = [\"https://cdn.pydata.org/bokeh/release/bokeh-1.0.4.min.js\", \"https://cdn.pydata.org/bokeh/release/bokeh-widgets-1.0.4.min.js\", \"https://cdn.pydata.org/bokeh/release/bokeh-tables-1.0.4.min.js\", \"https://cdn.pydata.org/bokeh/release/bokeh-gl-1.0.4.min.js\"];\n\n  var inline_js = [\n    function(Bokeh) {\n      Bokeh.set_log_level(\"info\");\n    },\n    \n    function(Bokeh) {\n      \n    },\n    function(Bokeh) {\n      console.log(\"Bokeh: injecting CSS: https://cdn.pydata.org/bokeh/release/bokeh-1.0.4.min.css\");\n      Bokeh.embed.inject_css(\"https://cdn.pydata.org/bokeh/release/bokeh-1.0.4.min.css\");\n      console.log(\"Bokeh: injecting CSS: https://cdn.pydata.org/bokeh/release/bokeh-widgets-1.0.4.min.css\");\n      Bokeh.embed.inject_css(\"https://cdn.pydata.org/bokeh/release/bokeh-widgets-1.0.4.min.css\");\n      console.log(\"Bokeh: injecting CSS: https://cdn.pydata.org/bokeh/release/bokeh-tables-1.0.4.min.css\");\n      Bokeh.embed.inject_css(\"https://cdn.pydata.org/bokeh/release/bokeh-tables-1.0.4.min.css\");\n    }\n  ];\n\n  function run_inline_js() {\n    \n    if ((root.Bokeh !== undefined) || (force === true)) {\n      for (var i = 0; i < inline_js.length; i++) {\n        inline_js[i].call(root, root.Bokeh);\n      }if (force === true) {\n        display_loaded();\n      }} else if (Date.now() < root._bokeh_timeout) {\n      setTimeout(run_inline_js, 100);\n    } else if (!root._bokeh_failed_load) {\n      console.log(\"Bokeh: BokehJS failed to load within specified timeout.\");\n      root._bokeh_failed_load = true;\n    } else if (force !== true) {\n      var cell = $(document.getElementById(\"1001\")).parents('.cell').data().cell;\n      cell.output_area.append_execute_result(NB_LOAD_WARNING)\n    }\n\n  }\n\n  if (root._bokeh_is_loading === 0) {\n    console.log(\"Bokeh: BokehJS loaded, going straight to plotting\");\n    run_inline_js();\n  } else {\n    load_libs(js_urls, function() {\n      console.log(\"Bokeh: BokehJS plotting callback run at\", now());\n      run_inline_js();\n    });\n  }\n}(window));"
     },
     "metadata": {},
     "output_type": "display_data"
    }
   ],
   "source": [
    "from ipywidgets import interact\n",
    "import numpy as np\n",
    "\n",
    "from bokeh.io import push_notebook, show, output_notebook\n",
    "from bokeh.plotting import figure\n",
    "output_notebook()\n"
   ]
  },
  {
   "cell_type": "code",
   "execution_count": 2,
   "metadata": {},
   "outputs": [],
   "source": [
    "x = np.linspace(0, 2*np.pi, 2000)\n",
    "y = np.sin(x)"
   ]
  },
  {
   "cell_type": "code",
   "execution_count": 3,
   "metadata": {},
   "outputs": [],
   "source": [
    "p = figure(title=\"simple line example\", plot_height=300, plot_width=600, y_range=(-5,5),\n",
    "           background_fill_color='#efefef')\n",
    "r = p.line(x, y, color=\"#8888cc\", line_width=1.5, alpha=0.8)"
   ]
  },
  {
   "cell_type": "code",
   "execution_count": 4,
   "metadata": {},
   "outputs": [],
   "source": [
    "def update(f, w=1, A=1, phi=0):\n",
    "    if   f == \"sin\": func = np.sin\n",
    "    elif f == \"cos\": func = np.cos\n",
    "    r.data_source.data['y'] = A * func(w * x + phi)\n",
    "    push_notebook()"
   ]
  },
  {
   "cell_type": "code",
   "execution_count": 5,
   "metadata": {},
   "outputs": [],
   "source": []
  },
  {
   "cell_type": "code",
   "execution_count": 12,
   "metadata": {},
   "outputs": [
    {
     "data": {
      "text/html": [
       "\n",
       "\n",
       "\n",
       "\n",
       "\n",
       "\n",
       "  <div class=\"bk-root\" id=\"d254d6b9-aef7-4e5c-8f34-f3a04407db15\" data-root-id=\"1003\"></div>\n"
      ]
     },
     "metadata": {},
     "output_type": "display_data"
    },
    {
     "data": {
      "application/javascript": [
       "(function(root) {\n",
       "  function embed_document(root) {\n",
       "    \n",
       "  var docs_json = {\"f6078db5-1c77-41cf-a6e8-9b5bc5385d2f\":{\"roots\":{\"references\":[{\"attributes\":{\"background_fill_color\":{\"value\":\"#efefef\"},\"below\":[{\"id\":\"1013\",\"type\":\"LinearAxis\"}],\"left\":[{\"id\":\"1018\",\"type\":\"LinearAxis\"}],\"plot_height\":300,\"renderers\":[{\"id\":\"1013\",\"type\":\"LinearAxis\"},{\"id\":\"1017\",\"type\":\"Grid\"},{\"id\":\"1018\",\"type\":\"LinearAxis\"},{\"id\":\"1022\",\"type\":\"Grid\"},{\"id\":\"1031\",\"type\":\"BoxAnnotation\"},{\"id\":\"1041\",\"type\":\"GlyphRenderer\"}],\"title\":{\"id\":\"1002\",\"type\":\"Title\"},\"toolbar\":{\"id\":\"1029\",\"type\":\"Toolbar\"},\"x_range\":{\"id\":\"1005\",\"type\":\"DataRange1d\"},\"x_scale\":{\"id\":\"1009\",\"type\":\"LinearScale\"},\"y_range\":{\"id\":\"1007\",\"type\":\"Range1d\"},\"y_scale\":{\"id\":\"1011\",\"type\":\"LinearScale\"}},\"id\":\"1003\",\"subtype\":\"Figure\",\"type\":\"Plot\"},{\"attributes\":{},\"id\":\"1024\",\"type\":\"WheelZoomTool\"},{\"attributes\":{},\"id\":\"1044\",\"type\":\"BasicTickFormatter\"},{\"attributes\":{\"overlay\":{\"id\":\"1031\",\"type\":\"BoxAnnotation\"}},\"id\":\"1025\",\"type\":\"BoxZoomTool\"},{\"attributes\":{\"callback\":null,\"data\":{\"x\":{\"__ndarray__\":\"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\",\"dtype\":\"float64\",\"shape\":[2000]},\"y\":{\"__ndarray__\":\"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\",\"dtype\":\"float64\",\"shape\":[2000]}},\"selected\":{\"id\":\"1048\",\"type\":\"Selection\"},\"selection_policy\":{\"id\":\"1049\",\"type\":\"UnionRenderers\"}},\"id\":\"1038\",\"type\":\"ColumnDataSource\"},{\"attributes\":{\"line_alpha\":0.1,\"line_color\":\"#1f77b4\",\"line_width\":1.5,\"x\":{\"field\":\"x\"},\"y\":{\"field\":\"y\"}},\"id\":\"1040\",\"type\":\"Line\"},{\"attributes\":{},\"id\":\"1026\",\"type\":\"SaveTool\"},{\"attributes\":{\"plot\":null,\"text\":\"simple line example\"},\"id\":\"1002\",\"type\":\"Title\"},{\"attributes\":{},\"id\":\"1027\",\"type\":\"ResetTool\"},{\"attributes\":{},\"id\":\"1028\",\"type\":\"HelpTool\"},{\"attributes\":{\"callback\":null},\"id\":\"1005\",\"type\":\"DataRange1d\"},{\"attributes\":{\"callback\":null,\"end\":5,\"start\":-5},\"id\":\"1007\",\"type\":\"Range1d\"},{\"attributes\":{\"bottom_units\":\"screen\",\"fill_alpha\":{\"value\":0.5},\"fill_color\":{\"value\":\"lightgrey\"},\"left_units\":\"screen\",\"level\":\"overlay\",\"line_alpha\":{\"value\":1.0},\"line_color\":{\"value\":\"black\"},\"line_dash\":[4,4],\"line_width\":{\"value\":2},\"plot\":null,\"render_mode\":\"css\",\"right_units\":\"screen\",\"top_units\":\"screen\"},\"id\":\"1031\",\"type\":\"BoxAnnotation\"},{\"attributes\":{},\"id\":\"1009\",\"type\":\"LinearScale\"},{\"attributes\":{},\"id\":\"1011\",\"type\":\"LinearScale\"},{\"attributes\":{\"formatter\":{\"id\":\"1046\",\"type\":\"BasicTickFormatter\"},\"plot\":{\"id\":\"1003\",\"subtype\":\"Figure\",\"type\":\"Plot\"},\"ticker\":{\"id\":\"1014\",\"type\":\"BasicTicker\"}},\"id\":\"1013\",\"type\":\"LinearAxis\"},{\"attributes\":{},\"id\":\"1014\",\"type\":\"BasicTicker\"},{\"attributes\":{\"plot\":{\"id\":\"1003\",\"subtype\":\"Figure\",\"type\":\"Plot\"},\"ticker\":{\"id\":\"1014\",\"type\":\"BasicTicker\"}},\"id\":\"1017\",\"type\":\"Grid\"},{\"attributes\":{\"formatter\":{\"id\":\"1044\",\"type\":\"BasicTickFormatter\"},\"plot\":{\"id\":\"1003\",\"subtype\":\"Figure\",\"type\":\"Plot\"},\"ticker\":{\"id\":\"1019\",\"type\":\"BasicTicker\"}},\"id\":\"1018\",\"type\":\"LinearAxis\"},{\"attributes\":{},\"id\":\"1019\",\"type\":\"BasicTicker\"},{\"attributes\":{\"line_alpha\":0.8,\"line_color\":\"#8888cc\",\"line_width\":1.5,\"x\":{\"field\":\"x\"},\"y\":{\"field\":\"y\"}},\"id\":\"1039\",\"type\":\"Line\"},{\"attributes\":{},\"id\":\"1046\",\"type\":\"BasicTickFormatter\"},{\"attributes\":{\"dimension\":1,\"plot\":{\"id\":\"1003\",\"subtype\":\"Figure\",\"type\":\"Plot\"},\"ticker\":{\"id\":\"1019\",\"type\":\"BasicTicker\"}},\"id\":\"1022\",\"type\":\"Grid\"},{\"attributes\":{},\"id\":\"1048\",\"type\":\"Selection\"},{\"attributes\":{\"data_source\":{\"id\":\"1038\",\"type\":\"ColumnDataSource\"},\"glyph\":{\"id\":\"1039\",\"type\":\"Line\"},\"hover_glyph\":null,\"muted_glyph\":null,\"nonselection_glyph\":{\"id\":\"1040\",\"type\":\"Line\"},\"selection_glyph\":null,\"view\":{\"id\":\"1042\",\"type\":\"CDSView\"}},\"id\":\"1041\",\"type\":\"GlyphRenderer\"},{\"attributes\":{\"active_drag\":\"auto\",\"active_inspect\":\"auto\",\"active_multi\":null,\"active_scroll\":\"auto\",\"active_tap\":\"auto\",\"tools\":[{\"id\":\"1023\",\"type\":\"PanTool\"},{\"id\":\"1024\",\"type\":\"WheelZoomTool\"},{\"id\":\"1025\",\"type\":\"BoxZoomTool\"},{\"id\":\"1026\",\"type\":\"SaveTool\"},{\"id\":\"1027\",\"type\":\"ResetTool\"},{\"id\":\"1028\",\"type\":\"HelpTool\"}]},\"id\":\"1029\",\"type\":\"Toolbar\"},{\"attributes\":{},\"id\":\"1049\",\"type\":\"UnionRenderers\"},{\"attributes\":{},\"id\":\"1023\",\"type\":\"PanTool\"},{\"attributes\":{\"source\":{\"id\":\"1038\",\"type\":\"ColumnDataSource\"}},\"id\":\"1042\",\"type\":\"CDSView\"}],\"root_ids\":[\"1003\"]},\"title\":\"Bokeh Application\",\"version\":\"1.0.4\"}};\n",
       "  var render_items = [{\"docid\":\"f6078db5-1c77-41cf-a6e8-9b5bc5385d2f\",\"notebook_comms_target\":\"1172\",\"roots\":{\"1003\":\"d254d6b9-aef7-4e5c-8f34-f3a04407db15\"}}];\n",
       "  root.Bokeh.embed.embed_items_notebook(docs_json, render_items);\n",
       "\n",
       "  }\n",
       "  if (root.Bokeh !== undefined) {\n",
       "    embed_document(root);\n",
       "  } else {\n",
       "    var attempts = 0;\n",
       "    var timer = setInterval(function(root) {\n",
       "      if (root.Bokeh !== undefined) {\n",
       "        embed_document(root);\n",
       "        clearInterval(timer);\n",
       "      }\n",
       "      attempts++;\n",
       "      if (attempts > 100) {\n",
       "        console.log(\"Bokeh: ERROR: Unable to run BokehJS code because BokehJS library is missing\");\n",
       "        clearInterval(timer);\n",
       "      }\n",
       "    }, 10, root)\n",
       "  }\n",
       "})(window);"
      ],
      "application/vnd.bokehjs_exec.v0+json": ""
     },
     "metadata": {
      "application/vnd.bokehjs_exec.v0+json": {
       "id": "1003"
      }
     },
     "output_type": "display_data"
    },
    {
     "data": {
      "text/html": [
       "<p><code>&lt;Bokeh Notebook handle for <strong>In[16]</strong>&gt;</code></p>"
      ],
      "text/plain": [
       "<bokeh.io.notebook.CommsHandle at 0x7fc50261fb00>"
      ]
     },
     "execution_count": 12,
     "metadata": {},
     "output_type": "execute_result"
    }
   ],
   "source": [
    "show(p, notebook_handle=True)"
   ]
  },
  {
   "cell_type": "code",
   "execution_count": 13,
   "metadata": {},
   "outputs": [
    {
     "data": {
      "application/vnd.jupyter.widget-view+json": {
       "model_id": "d0bc3b72c0ca49439d23b8c1fd05bffc"
      }
     },
     "metadata": {},
     "output_type": "display_data"
    },
    {
     "data": {
      "text/plain": [
       "<function __main__.update>"
      ]
     },
     "execution_count": 13,
     "metadata": {},
     "output_type": "execute_result"
    }
   ],
   "source": [
    "interact(update, f=[\"sin\", \"cos\"], w=(0,50), A=(1,10), phi=(0, 20, 0.1))"
   ]
  },
  {
   "cell_type": "code",
   "execution_count": null,
   "metadata": {},
   "outputs": [],
   "source": []
  }
 ],
 "metadata": {
  "kernelspec": {
   "display_name": "Python 3",
   "language": "python",
   "name": "python3"
  },
  "language_info": {
   "codemirror_mode": {
    "name": "ipython",
    "version": 3
   },
   "file_extension": ".py",
   "mimetype": "text/x-python",
   "name": "python",
   "nbconvert_exporter": "python",
   "pygments_lexer": "ipython3",
   "version": "3.6.7"
  }
 },
 "nbformat": 4,
 "nbformat_minor": 2
}
