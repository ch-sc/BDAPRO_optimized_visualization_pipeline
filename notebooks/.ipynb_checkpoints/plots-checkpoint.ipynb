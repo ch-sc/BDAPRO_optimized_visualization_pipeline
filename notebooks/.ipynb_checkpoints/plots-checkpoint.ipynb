{
 "cells": [
  {
   "cell_type": "code",
   "execution_count": 1,
   "metadata": {},
   "outputs": [
    {
     "data": {
      "text/html": [
       "\n",
       "    <div class=\"bk-root\">\n",
       "        <a href=\"https://bokeh.pydata.org\" target=\"_blank\" class=\"bk-logo bk-logo-small bk-logo-notebook\"></a>\n",
       "        <span id=\"1001\">Loading BokehJS ...</span>\n",
       "    </div>"
      ]
     },
     "metadata": {},
     "output_type": "display_data"
    },
    {
     "data": {
      "application/javascript": [
       "\n",
       "(function(root) {\n",
       "  function now() {\n",
       "    return new Date();\n",
       "  }\n",
       "\n",
       "  var force = true;\n",
       "\n",
       "  if (typeof (root._bokeh_onload_callbacks) === \"undefined\" || force === true) {\n",
       "    root._bokeh_onload_callbacks = [];\n",
       "    root._bokeh_is_loading = undefined;\n",
       "  }\n",
       "\n",
       "  var JS_MIME_TYPE = 'application/javascript';\n",
       "  var HTML_MIME_TYPE = 'text/html';\n",
       "  var EXEC_MIME_TYPE = 'application/vnd.bokehjs_exec.v0+json';\n",
       "  var CLASS_NAME = 'output_bokeh rendered_html';\n",
       "\n",
       "  /**\n",
       "   * Render data to the DOM node\n",
       "   */\n",
       "  function render(props, node) {\n",
       "    var script = document.createElement(\"script\");\n",
       "    node.appendChild(script);\n",
       "  }\n",
       "\n",
       "  /**\n",
       "   * Handle when an output is cleared or removed\n",
       "   */\n",
       "  function handleClearOutput(event, handle) {\n",
       "    var cell = handle.cell;\n",
       "\n",
       "    var id = cell.output_area._bokeh_element_id;\n",
       "    var server_id = cell.output_area._bokeh_server_id;\n",
       "    // Clean up Bokeh references\n",
       "    if (id != null && id in Bokeh.index) {\n",
       "      Bokeh.index[id].model.document.clear();\n",
       "      delete Bokeh.index[id];\n",
       "    }\n",
       "\n",
       "    if (server_id !== undefined) {\n",
       "      // Clean up Bokeh references\n",
       "      var cmd = \"from bokeh.io.state import curstate; print(curstate().uuid_to_server['\" + server_id + \"'].get_sessions()[0].document.roots[0]._id)\";\n",
       "      cell.notebook.kernel.execute(cmd, {\n",
       "        iopub: {\n",
       "          output: function(msg) {\n",
       "            var id = msg.content.text.trim();\n",
       "            if (id in Bokeh.index) {\n",
       "              Bokeh.index[id].model.document.clear();\n",
       "              delete Bokeh.index[id];\n",
       "            }\n",
       "          }\n",
       "        }\n",
       "      });\n",
       "      // Destroy server and session\n",
       "      var cmd = \"import bokeh.io.notebook as ion; ion.destroy_server('\" + server_id + \"')\";\n",
       "      cell.notebook.kernel.execute(cmd);\n",
       "    }\n",
       "  }\n",
       "\n",
       "  /**\n",
       "   * Handle when a new output is added\n",
       "   */\n",
       "  function handleAddOutput(event, handle) {\n",
       "    var output_area = handle.output_area;\n",
       "    var output = handle.output;\n",
       "\n",
       "    // limit handleAddOutput to display_data with EXEC_MIME_TYPE content only\n",
       "    if ((output.output_type != \"display_data\") || (!output.data.hasOwnProperty(EXEC_MIME_TYPE))) {\n",
       "      return\n",
       "    }\n",
       "\n",
       "    var toinsert = output_area.element.find(\".\" + CLASS_NAME.split(' ')[0]);\n",
       "\n",
       "    if (output.metadata[EXEC_MIME_TYPE][\"id\"] !== undefined) {\n",
       "      toinsert[toinsert.length - 1].firstChild.textContent = output.data[JS_MIME_TYPE];\n",
       "      // store reference to embed id on output_area\n",
       "      output_area._bokeh_element_id = output.metadata[EXEC_MIME_TYPE][\"id\"];\n",
       "    }\n",
       "    if (output.metadata[EXEC_MIME_TYPE][\"server_id\"] !== undefined) {\n",
       "      var bk_div = document.createElement(\"div\");\n",
       "      bk_div.innerHTML = output.data[HTML_MIME_TYPE];\n",
       "      var script_attrs = bk_div.children[0].attributes;\n",
       "      for (var i = 0; i < script_attrs.length; i++) {\n",
       "        toinsert[toinsert.length - 1].firstChild.setAttribute(script_attrs[i].name, script_attrs[i].value);\n",
       "      }\n",
       "      // store reference to server id on output_area\n",
       "      output_area._bokeh_server_id = output.metadata[EXEC_MIME_TYPE][\"server_id\"];\n",
       "    }\n",
       "  }\n",
       "\n",
       "  function register_renderer(events, OutputArea) {\n",
       "\n",
       "    function append_mime(data, metadata, element) {\n",
       "      // create a DOM node to render to\n",
       "      var toinsert = this.create_output_subarea(\n",
       "        metadata,\n",
       "        CLASS_NAME,\n",
       "        EXEC_MIME_TYPE\n",
       "      );\n",
       "      this.keyboard_manager.register_events(toinsert);\n",
       "      // Render to node\n",
       "      var props = {data: data, metadata: metadata[EXEC_MIME_TYPE]};\n",
       "      render(props, toinsert[toinsert.length - 1]);\n",
       "      element.append(toinsert);\n",
       "      return toinsert\n",
       "    }\n",
       "\n",
       "    /* Handle when an output is cleared or removed */\n",
       "    events.on('clear_output.CodeCell', handleClearOutput);\n",
       "    events.on('delete.Cell', handleClearOutput);\n",
       "\n",
       "    /* Handle when a new output is added */\n",
       "    events.on('output_added.OutputArea', handleAddOutput);\n",
       "\n",
       "    /**\n",
       "     * Register the mime type and append_mime function with output_area\n",
       "     */\n",
       "    OutputArea.prototype.register_mime_type(EXEC_MIME_TYPE, append_mime, {\n",
       "      /* Is output safe? */\n",
       "      safe: true,\n",
       "      /* Index of renderer in `output_area.display_order` */\n",
       "      index: 0\n",
       "    });\n",
       "  }\n",
       "\n",
       "  // register the mime type if in Jupyter Notebook environment and previously unregistered\n",
       "  if (root.Jupyter !== undefined) {\n",
       "    var events = require('base/js/events');\n",
       "    var OutputArea = require('notebook/js/outputarea').OutputArea;\n",
       "\n",
       "    if (OutputArea.prototype.mime_types().indexOf(EXEC_MIME_TYPE) == -1) {\n",
       "      register_renderer(events, OutputArea);\n",
       "    }\n",
       "  }\n",
       "\n",
       "  \n",
       "  if (typeof (root._bokeh_timeout) === \"undefined\" || force === true) {\n",
       "    root._bokeh_timeout = Date.now() + 5000;\n",
       "    root._bokeh_failed_load = false;\n",
       "  }\n",
       "\n",
       "  var NB_LOAD_WARNING = {'data': {'text/html':\n",
       "     \"<div style='background-color: #fdd'>\\n\"+\n",
       "     \"<p>\\n\"+\n",
       "     \"BokehJS does not appear to have successfully loaded. If loading BokehJS from CDN, this \\n\"+\n",
       "     \"may be due to a slow or bad network connection. Possible fixes:\\n\"+\n",
       "     \"</p>\\n\"+\n",
       "     \"<ul>\\n\"+\n",
       "     \"<li>re-rerun `output_notebook()` to attempt to load from CDN again, or</li>\\n\"+\n",
       "     \"<li>use INLINE resources instead, as so:</li>\\n\"+\n",
       "     \"</ul>\\n\"+\n",
       "     \"<code>\\n\"+\n",
       "     \"from bokeh.resources import INLINE\\n\"+\n",
       "     \"output_notebook(resources=INLINE)\\n\"+\n",
       "     \"</code>\\n\"+\n",
       "     \"</div>\"}};\n",
       "\n",
       "  function display_loaded() {\n",
       "    var el = document.getElementById(\"1001\");\n",
       "    if (el != null) {\n",
       "      el.textContent = \"BokehJS is loading...\";\n",
       "    }\n",
       "    if (root.Bokeh !== undefined) {\n",
       "      if (el != null) {\n",
       "        el.textContent = \"BokehJS \" + root.Bokeh.version + \" successfully loaded.\";\n",
       "      }\n",
       "    } else if (Date.now() < root._bokeh_timeout) {\n",
       "      setTimeout(display_loaded, 100)\n",
       "    }\n",
       "  }\n",
       "\n",
       "\n",
       "  function run_callbacks() {\n",
       "    try {\n",
       "      root._bokeh_onload_callbacks.forEach(function(callback) { callback() });\n",
       "    }\n",
       "    finally {\n",
       "      delete root._bokeh_onload_callbacks\n",
       "    }\n",
       "    console.info(\"Bokeh: all callbacks have finished\");\n",
       "  }\n",
       "\n",
       "  function load_libs(js_urls, callback) {\n",
       "    root._bokeh_onload_callbacks.push(callback);\n",
       "    if (root._bokeh_is_loading > 0) {\n",
       "      console.log(\"Bokeh: BokehJS is being loaded, scheduling callback at\", now());\n",
       "      return null;\n",
       "    }\n",
       "    if (js_urls == null || js_urls.length === 0) {\n",
       "      run_callbacks();\n",
       "      return null;\n",
       "    }\n",
       "    console.log(\"Bokeh: BokehJS not loaded, scheduling load and callback at\", now());\n",
       "    root._bokeh_is_loading = js_urls.length;\n",
       "    for (var i = 0; i < js_urls.length; i++) {\n",
       "      var url = js_urls[i];\n",
       "      var s = document.createElement('script');\n",
       "      s.src = url;\n",
       "      s.async = false;\n",
       "      s.onreadystatechange = s.onload = function() {\n",
       "        root._bokeh_is_loading--;\n",
       "        if (root._bokeh_is_loading === 0) {\n",
       "          console.log(\"Bokeh: all BokehJS libraries loaded\");\n",
       "          run_callbacks()\n",
       "        }\n",
       "      };\n",
       "      s.onerror = function() {\n",
       "        console.warn(\"failed to load library \" + url);\n",
       "      };\n",
       "      console.log(\"Bokeh: injecting script tag for BokehJS library: \", url);\n",
       "      document.getElementsByTagName(\"head\")[0].appendChild(s);\n",
       "    }\n",
       "  };var element = document.getElementById(\"1001\");\n",
       "  if (element == null) {\n",
       "    console.log(\"Bokeh: ERROR: autoload.js configured with elementid '1001' but no matching script tag was found. \")\n",
       "    return false;\n",
       "  }\n",
       "\n",
       "  var js_urls = [\"https://cdn.pydata.org/bokeh/release/bokeh-1.0.4.min.js\", \"https://cdn.pydata.org/bokeh/release/bokeh-widgets-1.0.4.min.js\", \"https://cdn.pydata.org/bokeh/release/bokeh-tables-1.0.4.min.js\", \"https://cdn.pydata.org/bokeh/release/bokeh-gl-1.0.4.min.js\"];\n",
       "\n",
       "  var inline_js = [\n",
       "    function(Bokeh) {\n",
       "      Bokeh.set_log_level(\"info\");\n",
       "    },\n",
       "    \n",
       "    function(Bokeh) {\n",
       "      \n",
       "    },\n",
       "    function(Bokeh) {\n",
       "      console.log(\"Bokeh: injecting CSS: https://cdn.pydata.org/bokeh/release/bokeh-1.0.4.min.css\");\n",
       "      Bokeh.embed.inject_css(\"https://cdn.pydata.org/bokeh/release/bokeh-1.0.4.min.css\");\n",
       "      console.log(\"Bokeh: injecting CSS: https://cdn.pydata.org/bokeh/release/bokeh-widgets-1.0.4.min.css\");\n",
       "      Bokeh.embed.inject_css(\"https://cdn.pydata.org/bokeh/release/bokeh-widgets-1.0.4.min.css\");\n",
       "      console.log(\"Bokeh: injecting CSS: https://cdn.pydata.org/bokeh/release/bokeh-tables-1.0.4.min.css\");\n",
       "      Bokeh.embed.inject_css(\"https://cdn.pydata.org/bokeh/release/bokeh-tables-1.0.4.min.css\");\n",
       "    }\n",
       "  ];\n",
       "\n",
       "  function run_inline_js() {\n",
       "    \n",
       "    if ((root.Bokeh !== undefined) || (force === true)) {\n",
       "      for (var i = 0; i < inline_js.length; i++) {\n",
       "        inline_js[i].call(root, root.Bokeh);\n",
       "      }if (force === true) {\n",
       "        display_loaded();\n",
       "      }} else if (Date.now() < root._bokeh_timeout) {\n",
       "      setTimeout(run_inline_js, 100);\n",
       "    } else if (!root._bokeh_failed_load) {\n",
       "      console.log(\"Bokeh: BokehJS failed to load within specified timeout.\");\n",
       "      root._bokeh_failed_load = true;\n",
       "    } else if (force !== true) {\n",
       "      var cell = $(document.getElementById(\"1001\")).parents('.cell').data().cell;\n",
       "      cell.output_area.append_execute_result(NB_LOAD_WARNING)\n",
       "    }\n",
       "\n",
       "  }\n",
       "\n",
       "  if (root._bokeh_is_loading === 0) {\n",
       "    console.log(\"Bokeh: BokehJS loaded, going straight to plotting\");\n",
       "    run_inline_js();\n",
       "  } else {\n",
       "    load_libs(js_urls, function() {\n",
       "      console.log(\"Bokeh: BokehJS plotting callback run at\", now());\n",
       "      run_inline_js();\n",
       "    });\n",
       "  }\n",
       "}(window));"
      ],
      "application/vnd.bokehjs_load.v0+json": "\n(function(root) {\n  function now() {\n    return new Date();\n  }\n\n  var force = true;\n\n  if (typeof (root._bokeh_onload_callbacks) === \"undefined\" || force === true) {\n    root._bokeh_onload_callbacks = [];\n    root._bokeh_is_loading = undefined;\n  }\n\n  \n\n  \n  if (typeof (root._bokeh_timeout) === \"undefined\" || force === true) {\n    root._bokeh_timeout = Date.now() + 5000;\n    root._bokeh_failed_load = false;\n  }\n\n  var NB_LOAD_WARNING = {'data': {'text/html':\n     \"<div style='background-color: #fdd'>\\n\"+\n     \"<p>\\n\"+\n     \"BokehJS does not appear to have successfully loaded. If loading BokehJS from CDN, this \\n\"+\n     \"may be due to a slow or bad network connection. Possible fixes:\\n\"+\n     \"</p>\\n\"+\n     \"<ul>\\n\"+\n     \"<li>re-rerun `output_notebook()` to attempt to load from CDN again, or</li>\\n\"+\n     \"<li>use INLINE resources instead, as so:</li>\\n\"+\n     \"</ul>\\n\"+\n     \"<code>\\n\"+\n     \"from bokeh.resources import INLINE\\n\"+\n     \"output_notebook(resources=INLINE)\\n\"+\n     \"</code>\\n\"+\n     \"</div>\"}};\n\n  function display_loaded() {\n    var el = document.getElementById(\"1001\");\n    if (el != null) {\n      el.textContent = \"BokehJS is loading...\";\n    }\n    if (root.Bokeh !== undefined) {\n      if (el != null) {\n        el.textContent = \"BokehJS \" + root.Bokeh.version + \" successfully loaded.\";\n      }\n    } else if (Date.now() < root._bokeh_timeout) {\n      setTimeout(display_loaded, 100)\n    }\n  }\n\n\n  function run_callbacks() {\n    try {\n      root._bokeh_onload_callbacks.forEach(function(callback) { callback() });\n    }\n    finally {\n      delete root._bokeh_onload_callbacks\n    }\n    console.info(\"Bokeh: all callbacks have finished\");\n  }\n\n  function load_libs(js_urls, callback) {\n    root._bokeh_onload_callbacks.push(callback);\n    if (root._bokeh_is_loading > 0) {\n      console.log(\"Bokeh: BokehJS is being loaded, scheduling callback at\", now());\n      return null;\n    }\n    if (js_urls == null || js_urls.length === 0) {\n      run_callbacks();\n      return null;\n    }\n    console.log(\"Bokeh: BokehJS not loaded, scheduling load and callback at\", now());\n    root._bokeh_is_loading = js_urls.length;\n    for (var i = 0; i < js_urls.length; i++) {\n      var url = js_urls[i];\n      var s = document.createElement('script');\n      s.src = url;\n      s.async = false;\n      s.onreadystatechange = s.onload = function() {\n        root._bokeh_is_loading--;\n        if (root._bokeh_is_loading === 0) {\n          console.log(\"Bokeh: all BokehJS libraries loaded\");\n          run_callbacks()\n        }\n      };\n      s.onerror = function() {\n        console.warn(\"failed to load library \" + url);\n      };\n      console.log(\"Bokeh: injecting script tag for BokehJS library: \", url);\n      document.getElementsByTagName(\"head\")[0].appendChild(s);\n    }\n  };var element = document.getElementById(\"1001\");\n  if (element == null) {\n    console.log(\"Bokeh: ERROR: autoload.js configured with elementid '1001' but no matching script tag was found. \")\n    return false;\n  }\n\n  var js_urls = [\"https://cdn.pydata.org/bokeh/release/bokeh-1.0.4.min.js\", \"https://cdn.pydata.org/bokeh/release/bokeh-widgets-1.0.4.min.js\", \"https://cdn.pydata.org/bokeh/release/bokeh-tables-1.0.4.min.js\", \"https://cdn.pydata.org/bokeh/release/bokeh-gl-1.0.4.min.js\"];\n\n  var inline_js = [\n    function(Bokeh) {\n      Bokeh.set_log_level(\"info\");\n    },\n    \n    function(Bokeh) {\n      \n    },\n    function(Bokeh) {\n      console.log(\"Bokeh: injecting CSS: https://cdn.pydata.org/bokeh/release/bokeh-1.0.4.min.css\");\n      Bokeh.embed.inject_css(\"https://cdn.pydata.org/bokeh/release/bokeh-1.0.4.min.css\");\n      console.log(\"Bokeh: injecting CSS: https://cdn.pydata.org/bokeh/release/bokeh-widgets-1.0.4.min.css\");\n      Bokeh.embed.inject_css(\"https://cdn.pydata.org/bokeh/release/bokeh-widgets-1.0.4.min.css\");\n      console.log(\"Bokeh: injecting CSS: https://cdn.pydata.org/bokeh/release/bokeh-tables-1.0.4.min.css\");\n      Bokeh.embed.inject_css(\"https://cdn.pydata.org/bokeh/release/bokeh-tables-1.0.4.min.css\");\n    }\n  ];\n\n  function run_inline_js() {\n    \n    if ((root.Bokeh !== undefined) || (force === true)) {\n      for (var i = 0; i < inline_js.length; i++) {\n        inline_js[i].call(root, root.Bokeh);\n      }if (force === true) {\n        display_loaded();\n      }} else if (Date.now() < root._bokeh_timeout) {\n      setTimeout(run_inline_js, 100);\n    } else if (!root._bokeh_failed_load) {\n      console.log(\"Bokeh: BokehJS failed to load within specified timeout.\");\n      root._bokeh_failed_load = true;\n    } else if (force !== true) {\n      var cell = $(document.getElementById(\"1001\")).parents('.cell').data().cell;\n      cell.output_area.append_execute_result(NB_LOAD_WARNING)\n    }\n\n  }\n\n  if (root._bokeh_is_loading === 0) {\n    console.log(\"Bokeh: BokehJS loaded, going straight to plotting\");\n    run_inline_js();\n  } else {\n    load_libs(js_urls, function() {\n      console.log(\"Bokeh: BokehJS plotting callback run at\", now());\n      run_inline_js();\n    });\n  }\n}(window));"
     },
     "metadata": {},
     "output_type": "display_data"
    }
   ],
   "source": [
    "%matplotlib inline\n",
    "\n",
    "import http.client\n",
    "import json\n",
    "import numpy as np\n",
    "import matplotlib.mlab as mlab\n",
    "import matplotlib.pyplot as plt\n",
    "import pika\n",
    "import time\n",
    "from ipywidgets import interact\n",
    "\n",
    "# from bokeh.plotting import output_file, figure, show, hplot\n",
    "\n",
    "from bokeh.io import push_notebook, show, output_notebook\n",
    "from bokeh.plotting import output_file, figure, show, output_notebook\n",
    "from bokeh.models import ColumnDataSource, CustomJS, Rect\n",
    "\n",
    "from six.moves import zip\n",
    "\n",
    "output_notebook()\n",
    "\n",
    "source = ColumnDataSource({'x': [], 'y': [], 'width': [], 'height': []})"
   ]
  },
  {
   "cell_type": "code",
   "execution_count": 2,
   "metadata": {},
   "outputs": [],
   "source": [
    "# backend service connection\n",
    "baseEndpoint = \"localhost:8082\" \n",
    "basePath = \"/2d/scatter\"\n",
    "baseUri = baseEndpoint + basePath\n",
    "\n",
    "# rabbitMQ connection\n",
    "credentials = pika.PlainCredentials(\"user\", \"password\")\n",
    "parameters = pika.ConnectionParameters('localhost', 5672, '/', credentials)\n",
    "\n",
    "# setting up exchange and queue\n",
    "\n",
    "#channel = connection.channel()\n",
    "#channel.exchange_declare(exchange='BDAPRO', exchange_type='direct')\n",
    "#\n",
    "#result = channel.queue_declare(exclusive=True)\n",
    "#queue_name = result.method.queue"
   ]
  },
  {
   "cell_type": "code",
   "execution_count": 3,
   "metadata": {},
   "outputs": [],
   "source": [
    "# functions\n",
    "\n",
    "def getData(x=100,y=100):\n",
    "    relativePath = \"{}?x={}&y={}\".format(basePath,x,y)\n",
    "    conn = http.client.HTTPConnection(baseEndpoint)\n",
    "    conn.request(\"GET\", relativePath)\n",
    "    r1 = conn.getresponse()\n",
    "\n",
    "    if (r1.status >= 400):\n",
    "        print(\"Error:\", relativePath, r1.status, r1.reason)\n",
    "        return []\n",
    "    else:\n",
    "        payload = r1.read()\n",
    "        jsonPayload = payload.decode('utf-8')\n",
    "        return json.loads(jsonPayload)\n",
    "    \n",
    "\n",
    "def scatterPlot(data):\n",
    "    grid = np.array(data)\n",
    "    plt.scatter(grid[:,0], grid[:,1], c='b', marker='.', s=1)\n",
    "    plt.title('Optimized Scatter Plot')\n",
    "    plt.xlabel('X-Axis')\n",
    "    plt.ylabel('Y-Axis')\n",
    "    plt.show()\n",
    "    plt.close()"
   ]
  },
  {
   "cell_type": "code",
   "execution_count": 4,
   "metadata": {
    "scrolled": false
   },
   "outputs": [],
   "source": [
    "data = getData(4000,4000)\n",
    "\n"
   ]
  },
  {
   "cell_type": "code",
   "execution_count": 5,
   "metadata": {},
   "outputs": [
    {
     "data": {
      "image/png": "[encoded data removed]",
      "text/plain": [
       "<Figure size 432x288 with 1 Axes>"
      ]
     },
     "metadata": {},
     "output_type": "display_data"
    }
   ],
   "source": [
    "scatterPlot(data)"
   ]
  },
  {
   "cell_type": "code",
   "execution_count": 15,
   "metadata": {},
   "outputs": [
    {
     "name": "stdout",
     "output_type": "stream",
     "text": [
      "4397\n",
      "13191\n"
     ]
    }
   ],
   "source": [
    "grid = np.array(data)\n",
    "\n",
    "TOOLS=\"hover,crosshair,pan,wheel_zoom,box_zoom,reset,tap,save,box_select,poly_select,lasso_select\"\n",
    "\n",
    "distance = grid[:,0]\n",
    "fair = grid[:,1]\n",
    "radii = grid[:,2]\n",
    "\n",
    "size = grid.shape[0]\n",
    "# print(grid.size)\n",
    "\n",
    "colors = [\"#%02x%02x%02x\" % (int(red % 255), int(green % 255), 150) for red, green in zip(50+2*distance, 30+2*fair)]\n",
    "\n",
    "p = figure(title=\"Optimized Visaulization Pipeline: Taxi Data\", width=500, height=500, tools=TOOLS,\n",
    "          x_axis_label='distance', y_axis_label='fair amount')\n",
    "#, x_range_name='distance', y_range_name='fair'\n",
    "r = p.scatter(x = distance, y = fair, radius=radii, fill_color=colors, fill_alpha=0.6, line_color=None)"
   ]
  },
  {
   "cell_type": "code",
   "execution_count": 9,
   "metadata": {
    "scrolled": true
   },
   "outputs": [],
   "source": [
    "MESSAGE_DELAY_SECONDS = 1\n",
    "RADIUS = 3\n",
    "\n",
    "def consumeQueue(ch, method, properties, body):\n",
    "    print(\" [x] Consuming Queue Message:%r\" % (method.routing_key))\n",
    "    \n",
    "    # parse message; e.g. {\"data\":[[719,0,0,536, ... ,0,0]]}\n",
    "    jsonPayload = body.decode('utf-8')\n",
    "    data = json.loads(jsonPayload)\n",
    "    \n",
    "    # acknowledge message received\n",
    "    # ch.basic_ack(delivery_tag = method.delivery_tag)\n",
    "    \n",
    "    # scatterPlot(data)\n",
    "\n",
    "    # convert data\n",
    "    grid = np.array(data)\n",
    "    x = grid[:,0]\n",
    "    y = grid[:,1]\n",
    "    radii = grid[:,2]\n",
    "    colors = [\"#%02x%02x%02x\" % (int(red % 255), int(green % 255), 150) for red, green in zip(50+2*x, 30+2*y)]\n",
    "    \n",
    "    # update plot\n",
    "    r.data_source.data['x'] = x\n",
    "    r.data_source.data['y'] = y\n",
    "    r.data_source.data['radius'] = [(radius % RADIUS) for radius in radii]\n",
    "    r.data_source.data['fill_color'] = colors\n",
    "    \n",
    "    # time.sleep(MESSAGE_DELAY_SECONDS)\n",
    "    push_notebook()\n",
    "    \n",
    "\n"
   ]
  },
  {
   "cell_type": "code",
   "execution_count": 12,
   "metadata": {},
   "outputs": [
    {
     "data": {
      "text/html": [
       "\n",
       "\n",
       "\n",
       "\n",
       "\n",
       "\n",
       "  <div class=\"bk-root\" id=\"ddf6fc80-6be6-4393-b48d-1fc2b81ebb30\" data-root-id=\"1206\"></div>\n"
      ]
     },
     "metadata": {},
     "output_type": "display_data"
    },
    {
     "data": {
      "application/javascript": [
       "(function(root) {\n",
       "  function embed_document(root) {\n",
       "    \n",
       "  var docs_json = {\"82833884-52f0-4dda-ae78-4078943f2977\":{\"roots\":{\"references\":[{\"attributes\":{\"below\":[{\"id\":\"1216\",\"type\":\"LinearAxis\"}],\"left\":[{\"id\":\"1221\",\"type\":\"LinearAxis\"}],\"plot_height\":500,\"plot_width\":500,\"renderers\":[{\"id\":\"1216\",\"type\":\"LinearAxis\"},{\"id\":\"1220\",\"type\":\"Grid\"},{\"id\":\"1221\",\"type\":\"LinearAxis\"},{\"id\":\"1225\",\"type\":\"Grid\"},{\"id\":\"1241\",\"type\":\"BoxAnnotation\"},{\"id\":\"1247\",\"type\":\"BoxAnnotation\"},{\"id\":\"1250\",\"type\":\"PolyAnnotation\"},{\"id\":\"1253\",\"type\":\"PolyAnnotation\"},{\"id\":\"1260\",\"type\":\"GlyphRenderer\"}],\"title\":{\"id\":\"1205\",\"type\":\"Title\"},\"toolbar\":{\"id\":\"1237\",\"type\":\"Toolbar\"},\"x_range\":{\"id\":\"1208\",\"type\":\"DataRange1d\"},\"x_scale\":{\"id\":\"1212\",\"type\":\"LinearScale\"},\"y_range\":{\"id\":\"1210\",\"type\":\"DataRange1d\"},\"y_scale\":{\"id\":\"1214\",\"type\":\"LinearScale\"}},\"id\":\"1206\",\"subtype\":\"Figure\",\"type\":\"Plot\"},{\"attributes\":{},\"id\":\"1228\",\"type\":\"PanTool\"},{\"attributes\":{\"plot\":null,\"text\":\"Optimized Visaulization Pipeline: Taxi Data\"},\"id\":\"1205\",\"type\":\"Title\"},{\"attributes\":{},\"id\":\"1229\",\"type\":\"WheelZoomTool\"},{\"attributes\":{\"overlay\":{\"id\":\"1241\",\"type\":\"BoxAnnotation\"}},\"id\":\"1230\",\"type\":\"BoxZoomTool\"},{\"attributes\":{},\"id\":\"1231\",\"type\":\"ResetTool\"},{\"attributes\":{\"callback\":null},\"id\":\"1208\",\"type\":\"DataRange1d\"},{\"attributes\":{\"callback\":null},\"id\":\"1232\",\"type\":\"TapTool\"},{\"attributes\":{\"callback\":null},\"id\":\"1210\",\"type\":\"DataRange1d\"},{\"attributes\":{},\"id\":\"1275\",\"type\":\"BasicTickFormatter\"},{\"attributes\":{},\"id\":\"1233\",\"type\":\"SaveTool\"},{\"attributes\":{},\"id\":\"1212\",\"type\":\"LinearScale\"},{\"attributes\":{\"callback\":null,\"overlay\":{\"id\":\"1247\",\"type\":\"BoxAnnotation\"}},\"id\":\"1234\",\"type\":\"BoxSelectTool\"},{\"attributes\":{},\"id\":\"1214\",\"type\":\"LinearScale\"},{\"attributes\":{\"callback\":null,\"overlay\":{\"id\":\"1250\",\"type\":\"PolyAnnotation\"}},\"id\":\"1235\",\"type\":\"PolySelectTool\"},{\"attributes\":{\"axis_label\":\"distance\",\"formatter\":{\"id\":\"1277\",\"type\":\"BasicTickFormatter\"},\"plot\":{\"id\":\"1206\",\"subtype\":\"Figure\",\"type\":\"Plot\"},\"ticker\":{\"id\":\"1217\",\"type\":\"BasicTicker\"}},\"id\":\"1216\",\"type\":\"LinearAxis\"},{\"attributes\":{},\"id\":\"1283\",\"type\":\"Selection\"},{\"attributes\":{\"callback\":null,\"overlay\":{\"id\":\"1253\",\"type\":\"PolyAnnotation\"}},\"id\":\"1236\",\"type\":\"LassoSelectTool\"},{\"attributes\":{},\"id\":\"1217\",\"type\":\"BasicTicker\"},{\"attributes\":{\"plot\":{\"id\":\"1206\",\"subtype\":\"Figure\",\"type\":\"Plot\"},\"ticker\":{\"id\":\"1217\",\"type\":\"BasicTicker\"}},\"id\":\"1220\",\"type\":\"Grid\"},{\"attributes\":{\"bottom_units\":\"screen\",\"fill_alpha\":{\"value\":0.5},\"fill_color\":{\"value\":\"lightgrey\"},\"left_units\":\"screen\",\"level\":\"overlay\",\"line_alpha\":{\"value\":1.0},\"line_color\":{\"value\":\"black\"},\"line_dash\":[4,4],\"line_width\":{\"value\":2},\"plot\":null,\"render_mode\":\"css\",\"right_units\":\"screen\",\"top_units\":\"screen\"},\"id\":\"1241\",\"type\":\"BoxAnnotation\"},{\"attributes\":{\"axis_label\":\"fair amount\",\"formatter\":{\"id\":\"1275\",\"type\":\"BasicTickFormatter\"},\"plot\":{\"id\":\"1206\",\"subtype\":\"Figure\",\"type\":\"Plot\"},\"ticker\":{\"id\":\"1222\",\"type\":\"BasicTicker\"}},\"id\":\"1221\",\"type\":\"LinearAxis\"},{\"attributes\":{},\"id\":\"1277\",\"type\":\"BasicTickFormatter\"},{\"attributes\":{\"bottom_units\":\"screen\",\"fill_alpha\":{\"value\":0.5},\"fill_color\":{\"value\":\"lightgrey\"},\"left_units\":\"screen\",\"level\":\"overlay\",\"line_alpha\":{\"value\":1.0},\"line_color\":{\"value\":\"black\"},\"line_dash\":[4,4],\"line_width\":{\"value\":2},\"plot\":null,\"render_mode\":\"css\",\"right_units\":\"screen\",\"top_units\":\"screen\"},\"id\":\"1247\",\"type\":\"BoxAnnotation\"},{\"attributes\":{},\"id\":\"1222\",\"type\":\"BasicTicker\"},{\"attributes\":{\"fill_alpha\":{\"value\":0.5},\"fill_color\":{\"value\":\"lightgrey\"},\"level\":\"overlay\",\"line_alpha\":{\"value\":1.0},\"line_color\":{\"value\":\"black\"},\"line_dash\":[4,4],\"line_width\":{\"value\":2},\"plot\":null,\"xs_units\":\"screen\",\"ys_units\":\"screen\"},\"id\":\"1250\",\"type\":\"PolyAnnotation\"},{\"attributes\":{\"fill_alpha\":{\"value\":0.6},\"fill_color\":{\"field\":\"fill_color\"},\"line_color\":{\"value\":null},\"radius\":{\"field\":\"radius\",\"units\":\"data\"},\"x\":{\"field\":\"x\"},\"y\":{\"field\":\"y\"}},\"id\":\"1258\",\"type\":\"Circle\"},{\"attributes\":{\"dimension\":1,\"plot\":{\"id\":\"1206\",\"subtype\":\"Figure\",\"type\":\"Plot\"},\"ticker\":{\"id\":\"1222\",\"type\":\"BasicTicker\"}},\"id\":\"1225\",\"type\":\"Grid\"},{\"attributes\":{\"fill_alpha\":{\"value\":0.5},\"fill_color\":{\"value\":\"lightgrey\"},\"level\":\"overlay\",\"line_alpha\":{\"value\":1.0},\"line_color\":{\"value\":\"black\"},\"line_dash\":[4,4],\"line_width\":{\"value\":2},\"plot\":null,\"xs_units\":\"screen\",\"ys_units\":\"screen\"},\"id\":\"1253\",\"type\":\"PolyAnnotation\"},{\"attributes\":{\"source\":{\"id\":\"1257\",\"type\":\"ColumnDataSource\"}},\"id\":\"1261\",\"type\":\"CDSView\"},{\"attributes\":{\"callback\":null,\"data\":{\"fill_color\":[\"#321e96\",\"#324096\",\"#324896\",\"#325096\",\"#325696\",\"#325e96\",\"#326696\",\"#327496\",\"#328096\",\"#328496\",\"#328e96\",\"#329296\",\"#329a96\",\"#329e96\",\"#32a296\",\"#32a696\",\"#32ae96\",\"#32b096\",\"#32b696\",\"#32c096\",\"#32c296\",\"#32c496\",\"#32ce96\",\"#32d696\",\"#32e496\",\"#32f896\",\"#32fc96\",\"#321b96\",\"#322996\",\"#324796\",\"#324f96\",\"#327396\",\"#32a996\",\"#32d396\",\"#32dd96\",\"#32f796\",\"#320e96\",\"#327496\",\"#329296\",\"#32be96\",\"#320996\",\"#322796\",\"#329196\",\"#329f96\",\"#32e396\",\"#320c96\",\"#322696\",\"#323696\",\"#326096\",\"#32cc96\",\"#323596\",\"#327f96\",\"#32da96\",\"#322596\",\"#326196\",\"#32d196\",\"#32e696\",\"#32d596\",\"#32bf96\",\"#327b96\",\"#34ec96\",\"#364096\",\"#364896\",\"#381e96\",\"#384096\",\"#3a1e96\",\"#3a4096\",\"#3a4896\",\"#3c4896\",\"#3c5096\",\"#3e4896\",\"#404096\",\"#404896\",\"#405096\",\"#402796\",\"#444896\",\"#445096\",\"#484096\",\"#488c96\",\"#4a1e96\",\"#4a4896\",\"#4c4896\",\"#4c5096\",\"#4e4896\",\"#4e5096\",\"#4e5696\",\"#504896\",\"#505096\",\"#505696\",\"#505e96\",\"#506e96\",\"#524896\",\"#544896\",\"#545096\",\"#565696\",\"#565e96\",\"#584896\",\"#585096\",\"#585e96\",\"#5a1e96\",\"#5a4896\",\"#5a5096\",\"#5c5696\",\"#5e4896\",\"#5e5096\",\"#5e5696\",\"#5e6696\",\"#5e7c96\",\"#5eb196\",\"#624896\",\"#625096\",\"#625696\",\"#625e96\",\"#624796\",\"#644896\",\"#645096\",\"#645696\",\"#646696\",\"#664896\",\"#665096\",\"#665696\",\"#684896\",\"#685096\",\"#685696\",\"#6a5096\",\"#6a5696\",\"#6a5e96\",\"#6c4896\",\"#6c5096\",\"#6c5696\",\"#6e4896\",\"#6e5096\",\"#6e5696\",\"#6e5e96\",\"#6e6696\",\"#6e7c96\",\"#705096\",\"#705696\",\"#705e96\",\"#721e96\",\"#724096\",\"#724896\",\"#725096\",\"#725696\",\"#725e96\",\"#726696\",\"#726e96\",\"#729a96\",\"#72b096\",\"#745096\",\"#745696\",\"#746696\",\"#761e96\",\"#765096\",\"#765696\",\"#765e96\",\"#766696\",\"#785096\",\"#785696\",\"#785e96\",\"#789a96\",\"#7a5096\",\"#7a5696\",\"#7a5e96\",\"#7c5096\",\"#7c5696\",\"#7c5e96\",\"#7c6696\",\"#7e5096\",\"#7e5696\",\"#7e5e96\",\"#805096\",\"#805696\",\"#805e96\",\"#806e96\",\"#807496\",\"#824096\",\"#825096\",\"#825696\",\"#825e96\",\"#826696\",\"#826e96\",\"#827496\",\"#827c96\",\"#82b096\",\"#845096\",\"#845696\",\"#845e96\",\"#846696\",\"#846e96\",\"#865096\",\"#865696\",\"#865e96\",\"#866696\",\"#885096\",\"#885696\",\"#885e96\",\"#886e96\",\"#8a5096\",\"#8a5696\",\"#8a5e96\",\"#8a6696\",\"#8c5096\",\"#8c5696\",\"#8c5e96\",\"#8c6696\",\"#8e1e96\",\"#8e5096\",\"#8e5696\",\"#8e5e96\",\"#8e6696\",\"#8e6e96\",\"#925696\",\"#925e96\",\"#926696\",\"#927496\",\"#944096\",\"#945096\",\"#945696\",\"#945e96\",\"#946696\",\"#946e96\",\"#947496\",\"#947c96\",\"#948496\",\"#949296\",\"#94c096\",\"#965696\",\"#965e96\",\"#966696\",\"#966e96\",\"#985696\",\"#985e96\",\"#986696\",\"#986e96\",\"#9a5696\",\"#9a5e96\",\"#9a6696\",\"#9a6e96\",\"#9a7c96\",\"#9a8496\",\"#9c1e96\",\"#9c5696\",\"#9c5e96\",\"#9c6696\",\"#9c6e96\",\"#9c8c96\",\"#9e5696\",\"#9e5e96\",\"#9e6696\",\"#9e6e96\",\"#9e7496\",\"#a05696\",\"#a05e96\",\"#a06696\",\"#a06e96\",\"#a07496\",\"#a07c96\",\"#a25696\",\"#a25e96\",\"#a26696\",\"#a26e96\",\"#a27496\",\"#a28c96\",\"#a44096\",\"#a45696\",\"#a45e96\",\"#a46696\",\"#a46e96\",\"#a47496\",\"#a47c96\",\"#a48496\",\"#a48c96\",\"#a65696\",\"#a65e96\",\"#a66696\",\"#a66e96\",\"#a67496\",\"#a81e96\",\"#a85696\",\"#a85e96\",\"#a86696\",\"#a86e96\",\"#a87496\",\"#a87c96\",\"#aa5696\",\"#aa5e96\",\"#aa6696\",\"#aa6e96\",\"#aa7496\",\"#aa7c96\",\"#aa9296\",\"#ac5696\",\"#ac5e96\",\"#ac6696\",\"#ac6e96\",\"#ac7496\",\"#ae5696\",\"#ae5e96\",\"#ae6696\",\"#ae6e96\",\"#ae7496\",\"#ae7c96\",\"#b05696\",\"#b05e96\",\"#b06696\",\"#b06e96\",\"#b07496\",\"#b07c96\",\"#b25696\",\"#b25e96\",\"#b26696\",\"#b26e96\",\"#b27c96\",\"#b45696\",\"#b45e96\",\"#b46696\",\"#b46e96\",\"#b47496\",\"#b47c96\",\"#b48c96\",\"#b64096\",\"#b65696\",\"#b65e96\",\"#b66696\",\"#b66e96\",\"#b67496\",\"#b67c96\",\"#b68496\",\"#b68c96\",\"#b6aa96\",\"#b85e96\",\"#b86696\",\"#b86e96\",\"#b87496\",\"#b87c96\",\"#ba6696\",\"#ba6e96\",\"#ba7496\",\"#ba7c96\",\"#ba8496\",\"#bc5e96\",\"#bc6696\",\"#bc6e96\",\"#bc7496\",\"#bc7c96\",\"#bc9296\",\"#be5e96\",\"#be6696\",\"#be6e96\",\"#be7496\",\"#c05e96\",\"#c06696\",\"#c06e96\",\"#c07496\",\"#c07c96\",\"#c08c96\",\"#c25e96\",\"#c26696\",\"#c26e96\",\"#c27496\",\"#c27c96\",\"#c28496\",\"#c28c96\",\"#c45e96\",\"#c46696\",\"#c46e96\",\"#c47496\",\"#c47c96\",\"#c49296\",\"#c65e96\",\"#c66696\",\"#c66e96\",\"#c67496\",\"#c67c96\",\"#c68496\",\"#c68c96\",\"#c69296\",\"#c69a96\",\"#c85e96\",\"#c86696\",\"#c86e96\",\"#c87496\",\"#c87c96\",\"#c88496\",\"#ca1e96\",\"#ca5e96\",\"#ca6696\",\"#ca6e96\",\"#ca7496\",\"#ca7c96\",\"#ca8496\",\"#ca8c96\",\"#cc5e96\",\"#cc6696\",\"#cc6e96\",\"#cc7496\",\"#cc7c96\",\"#cc8496\",\"#cc8c96\",\"#ce5e96\",\"#ce6696\",\"#ce6e96\",\"#ce7496\",\"#ce7c96\",\"#ce8c96\",\"#d05e96\",\"#d06696\",\"#d06e96\",\"#d07496\",\"#d07c96\",\"#d08496\",\"#d08c96\",\"#d26696\",\"#d26e96\",\"#d27496\",\"#d27c96\",\"#d28496\",\"#d41e96\",\"#d46696\",\"#d46e96\",\"#d47496\",\"#d47c96\",\"#d48496\",\"#d65e96\",\"#d66696\",\"#d66e96\",\"#d67496\",\"#d67c96\",\"#d68496\",\"#d68c96\",\"#d69296\",\"#d69a96\",\"#d86696\",\"#d86e96\",\"#d87496\",\"#d87c96\",\"#d88496\",\"#da6696\",\"#da6e96\",\"#da7496\",\"#da7c96\",\"#da8496\",\"#da8c96\",\"#dc6696\",\"#dc6e96\",\"#dc7496\",\"#dc7c96\",\"#dc8496\",\"#dc8c96\",\"#dc9a96\",\"#de6696\",\"#de6e96\",\"#de7496\",\"#de7c96\",\"#de8496\",\"#e06696\",\"#e06e96\",\"#e07496\",\"#e07c96\",\"#e08496\",\"#e08c96\",\"#e0f496\",\"#e26696\",\"#e26e96\",\"#e27496\",\"#e27c96\",\"#e28496\",\"#e28c96\",\"#e29296\",\"#e29a96\",\"#e46696\",\"#e46e96\",\"#e47496\",\"#e47c96\",\"#e48496\",\"#e48c96\",\"#e66696\",\"#e66e96\",\"#e67496\",\"#e67c96\",\"#e68496\",\"#e69a96\",\"#e84096\",\"#e86696\",\"#e86e96\",\"#e87496\",\"#e87c96\",\"#e88496\",\"#e88c96\",\"#e89296\",\"#e89a96\",\"#e8a296\",\"#e8aa96\",\"#ea6696\",\"#ea6e96\",\"#ea7496\",\"#ea7c96\",\"#ea8496\",\"#ea8c96\",\"#ec6696\",\"#ec6e96\",\"#ec7496\",\"#ec7c96\",\"#ec8496\",\"#ec8c96\",\"#eca296\",\"#ee6696\",\"#ee6e96\",\"#ee7496\",\"#ee7c96\",\"#ee8496\",\"#ee8c96\",\"#ee9296\",\"#ee9a96\",\"#f06696\",\"#f06e96\",\"#f07496\",\"#f07c96\",\"#f08496\",\"#f08c96\",\"#f09296\",\"#f46e96\",\"#f47496\",\"#f47c96\",\"#f48496\",\"#f48c96\",\"#f49a96\",\"#f4a296\",\"#f66e96\",\"#f67496\",\"#f67c96\",\"#f68496\",\"#f68c96\",\"#f69296\",\"#f69a96\",\"#f84096\",\"#f86e96\",\"#f87496\",\"#f87c96\",\"#f88496\",\"#f88c96\",\"#f89296\",\"#f89a96\",\"#f8a296\",\"#f8b096\",\"#fa6e96\",\"#fa7496\",\"#fa7c96\",\"#fa8496\",\"#fa8c96\",\"#fa9296\",\"#fc6e96\",\"#fc7496\",\"#fc7c96\",\"#fc8496\",\"#fc8c96\",\"#fc9296\",\"#fe6e96\",\"#fe7496\",\"#fe7c96\",\"#fe8496\",\"#fe8c96\",\"#fe9296\",\"#fe9a96\",\"#016e96\",\"#017496\",\"#017c96\",\"#018496\",\"#018c96\",\"#019296\",\"#019a96\",\"#01aa96\",\"#036e96\",\"#037496\",\"#037c96\",\"#038496\",\"#038c96\",\"#039296\",\"#03a296\",\"#057496\",\"#057c96\",\"#058496\",\"#058c96\",\"#059296\",\"#059a96\",\"#076e96\",\"#077496\",\"#077c96\",\"#078496\",\"#078c96\",\"#079296\",\"#07a296\",\"#097496\",\"#097c96\",\"#098496\",\"#098c96\",\"#0b1e96\",\"#0b6e96\",\"#0b7496\",\"#0b7c96\",\"#0b8496\",\"#0b8c96\",\"#0b9296\",\"#0b9a96\",\"#0ba296\",\"#0baa96\",\"#0d7496\",\"#0d7c96\",\"#0d8496\",\"#0d8c96\",\"#0d9296\",\"#0d9a96\",\"#0da296\",\"#0db096\",\"#0f6e96\",\"#0f7496\",\"#0f7c96\",\"#0f8496\",\"#0f8c96\",\"#0f9296\",\"#0f9a96\",\"#0fa296\",\"#116e96\",\"#117496\",\"#117c96\",\"#118496\",\"#118c96\",\"#119296\",\"#119a96\",\"#11a296\",\"#11aa96\",\"#136e96\",\"#137496\",\"#137c96\",\"#138496\",\"#138c96\",\"#139296\",\"#157496\",\"#157c96\",\"#158496\",\"#158c96\",\"#159296\",\"#159a96\",\"#177496\",\"#177c96\",\"#178496\",\"#178c96\",\"#179296\",\"#179a96\",\"#17a296\",\"#197c96\",\"#198496\",\"#198c96\",\"#199296\",\"#199a96\",\"#19aa96\",\"#1b7496\",\"#1b7c96\",\"#1b8496\",\"#1b8c96\",\"#1b9296\",\"#1b9a96\",\"#1ba296\",\"#1baa96\",\"#1b0996\",\"#1d7c96\",\"#1d8496\",\"#1d8c96\",\"#1d9296\",\"#1d9a96\",\"#1f7c96\",\"#1f8496\",\"#1f8c96\",\"#1f9296\",\"#1f9a96\",\"#1fa296\",\"#1faa96\",\"#217496\",\"#217c96\",\"#218496\",\"#218c96\",\"#219296\",\"#219a96\",\"#21a296\",\"#21aa96\",\"#21b096\",\"#21c696\",\"#237496\",\"#237c96\",\"#238496\",\"#238c96\",\"#239296\",\"#239a96\",\"#23a296\",\"#257496\",\"#257c96\",\"#258496\",\"#258c96\",\"#259296\",\"#259a96\",\"#25a296\",\"#277c96\",\"#278496\",\"#278c96\",\"#279296\",\"#279a96\",\"#297496\",\"#297c96\",\"#298496\",\"#298c96\",\"#299296\",\"#299a96\",\"#29a296\",\"#29b096\",\"#29b896\",\"#2b7496\",\"#2b7c96\",\"#2b8496\",\"#2b8c96\",\"#2b9296\",\"#2b9a96\",\"#2ba296\",\"#2baa96\",\"#2bb096\",\"#2bce96\",\"#2d7c96\",\"#2d8496\",\"#2d8c96\",\"#2d9296\",\"#2d9a96\",\"#2f7496\",\"#2f7c96\",\"#2f8496\",\"#2f8c96\",\"#2f9296\",\"#2f9a96\",\"#2fb096\",\"#317496\",\"#318496\",\"#318c96\",\"#319296\",\"#319a96\",\"#31a296\",\"#31aa96\",\"#337496\",\"#337c96\",\"#338496\",\"#338c96\",\"#339296\",\"#339a96\",\"#33a296\",\"#33aa96\",\"#357c96\",\"#358496\",\"#358c96\",\"#359296\",\"#359a96\",\"#35a296\",\"#35aa96\",\"#35ce96\",\"#377c96\",\"#378496\",\"#378c96\",\"#379296\",\"#379a96\",\"#37aa96\",\"#37b096\",\"#397c96\",\"#398496\",\"#398c96\",\"#399296\",\"#399a96\",\"#39a296\",\"#39aa96\",\"#39b896\",\"#3b8496\",\"#3b8c96\",\"#3b9296\",\"#3b9a96\",\"#3ba296\",\"#3baa96\",\"#3bb096\",\"#3bce96\",\"#3d7496\",\"#3d7c96\",\"#3d8496\",\"#3d8c96\",\"#3d9296\",\"#3d9a96\",\"#3da296\",\"#3daa96\",\"#3db096\",\"#3db896\",\"#3dc696\",\"#3f7c96\",\"#3f8496\",\"#3f8c96\",\"#3f9296\",\"#3f9a96\",\"#3faa96\",\"#3fb096\",\"#3fb896\",\"#3fc096\",\"#417c96\",\"#418496\",\"#418c96\",\"#419296\",\"#419a96\",\"#41a296\",\"#41b896\",\"#438496\",\"#438c96\",\"#439296\",\"#439a96\",\"#43a296\",\"#457c96\",\"#458496\",\"#458c96\",\"#459296\",\"#459a96\",\"#45a296\",\"#45aa96\",\"#478496\",\"#478c96\",\"#479296\",\"#479a96\",\"#47a296\",\"#497c96\",\"#498496\",\"#498c96\",\"#499296\",\"#499a96\",\"#49a296\",\"#49aa96\",\"#4b7c96\",\"#4b8496\",\"#4b8c96\",\"#4b9296\",\"#4b9a96\",\"#4ba296\",\"#4baa96\",\"#4bb096\",\"#4bc696\",\"#4d7c96\",\"#4d8496\",\"#4d8c96\",\"#4d9296\",\"#4d9a96\",\"#4da296\",\"#4daa96\",\"#4db096\",\"#4db896\",\"#4dc096\",\"#4dd696\",\"#4f8496\",\"#4f8c96\",\"#4f9296\",\"#4f9a96\",\"#4fa296\",\"#4fc696\",\"#4f2796\",\"#4f9196\",\"#518496\",\"#518c96\",\"#519296\",\"#519a96\",\"#51a296\",\"#51aa96\",\"#51c096\",\"#538496\",\"#538c96\",\"#539296\",\"#539a96\",\"#53a296\",\"#53aa96\",\"#53c096\",\"#53e496\",\"#558496\",\"#558c96\",\"#559296\",\"#559a96\",\"#55a296\",\"#55aa96\",\"#55b096\",\"#578496\",\"#578c96\",\"#579296\",\"#579a96\",\"#57a296\",\"#57aa96\",\"#598496\",\"#598c96\",\"#599296\",\"#599a96\",\"#59a296\",\"#59aa96\",\"#59c096\",\"#59c696\",\"#5b8496\",\"#5b8c96\",\"#5b9296\",\"#5b9a96\",\"#5ba296\",\"#5baa96\",\"#5bb096\",\"#5bb896\",\"#5d7c96\",\"#5d8c96\",\"#5d9296\",\"#5d9a96\",\"#5da296\",\"#5daa96\",\"#5f8496\",\"#5f8c96\",\"#5f9296\",\"#5f9a96\",\"#5fa296\",\"#5faa96\",\"#5fb096\",\"#5fb896\",\"#5fc096\",\"#5fc696\",\"#5fd696\",\"#5fe496\",\"#618c96\",\"#619296\",\"#619a96\",\"#61a296\",\"#61aa96\",\"#61b096\",\"#61b896\",\"#638496\",\"#638c96\",\"#639296\",\"#639a96\",\"#63a296\",\"#63aa96\",\"#63b096\",\"#63b896\",\"#658c96\",\"#659296\",\"#659a96\",\"#65a296\",\"#65aa96\",\"#65b096\",\"#65b896\",\"#679296\",\"#679a96\",\"#67a296\",\"#67b096\",\"#67b896\",\"#698c96\",\"#699296\",\"#699a96\",\"#69aa96\",\"#69c096\",\"#6b8496\",\"#6b8c96\",\"#6b9296\",\"#6b9a96\",\"#6ba296\",\"#6baa96\",\"#6bb096\",\"#6bb896\",\"#6bd696\",\"#6d8496\",\"#6d8c96\",\"#6da296\",\"#6daa96\",\"#6db096\",\"#6f4096\",\"#6f8496\",\"#6f8c96\",\"#6f9296\",\"#6f9a96\",\"#6fa296\",\"#6faa96\",\"#6fb096\",\"#6fb896\",\"#6fc096\",\"#6fc696\",\"#6fde96\",\"#6ff496\",\"#718c96\",\"#719296\",\"#719a96\",\"#71a296\",\"#71aa96\",\"#71b096\",\"#738c96\",\"#739296\",\"#739a96\",\"#73a296\",\"#73aa96\",\"#73b096\",\"#758496\",\"#758c96\",\"#759296\",\"#759a96\",\"#75a296\",\"#75aa96\",\"#75b096\",\"#75b896\",\"#75c096\",\"#778c96\",\"#779296\",\"#779a96\",\"#77a296\",\"#77aa96\",\"#77b096\",\"#77b896\",\"#77ce96\",\"#799296\",\"#799a96\",\"#79a296\",\"#79aa96\",\"#79b096\",\"#79c096\",\"#79c696\",\"#7b8c96\",\"#7b9a96\",\"#7ba296\",\"#7baa96\",\"#7bb096\",\"#7bc696\",\"#7d9a96\",\"#7da296\",\"#7daa96\",\"#7db096\",\"#7f8c96\",\"#7f9296\",\"#7f9a96\",\"#7fa296\",\"#7faa96\",\"#7fb096\",\"#7fb896\",\"#7fc096\",\"#7fc696\",\"#7fde96\",\"#7fe496\",\"#838c96\",\"#839296\",\"#839a96\",\"#83a296\",\"#83aa96\",\"#83b096\",\"#83b896\",\"#83c096\",\"#83c696\",\"#878c96\",\"#879296\",\"#879a96\",\"#87a296\",\"#87aa96\",\"#87b096\",\"#87b896\",\"#8b9296\",\"#8b9a96\",\"#8ba296\",\"#8baa96\",\"#8bb096\",\"#8bb896\",\"#8bc096\",\"#8d8c96\",\"#8d9296\",\"#8d9a96\",\"#8da296\",\"#8daa96\",\"#8db096\",\"#8db896\",\"#8dc696\",\"#8dde96\",\"#8fa296\",\"#8faa96\",\"#8fb096\",\"#8fb896\",\"#8fc096\",\"#918c96\",\"#919296\",\"#919a96\",\"#91a296\",\"#91aa96\",\"#91b096\",\"#91b896\",\"#91c096\",\"#91c696\",\"#91ce96\",\"#91d696\",\"#939a96\",\"#93a296\",\"#93aa96\",\"#93b096\",\"#93b896\",\"#93ce96\",\"#959296\",\"#959a96\",\"#95a296\",\"#95aa96\",\"#95b096\",\"#95b896\",\"#95c696\",\"#979296\",\"#979a96\",\"#97a296\",\"#97aa96\",\"#97b096\",\"#97c096\",\"#97c696\",\"#97ce96\",\"#999a96\",\"#99a296\",\"#99aa96\",\"#99b096\",\"#99b896\",\"#99c096\",\"#99c696\",\"#9b9296\",\"#9b9a96\",\"#9ba296\",\"#9baa96\",\"#9bb096\",\"#9d9296\",\"#9d9a96\",\"#9da296\",\"#9daa96\",\"#9db096\",\"#9dc096\",\"#9f9296\",\"#9f9a96\",\"#9fa296\",\"#9faa96\",\"#9fb096\",\"#9fb896\",\"#9fc096\",\"#a19296\",\"#a19a96\",\"#a1a296\",\"#a1aa96\",\"#a1b096\",\"#a1b896\",\"#a1c096\",\"#a1c696\",\"#a1ce96\",\"#a1d696\",\"#a1f496\",\"#a39a96\",\"#a3a296\",\"#a3aa96\",\"#a3c096\",\"#a3c696\",\"#a3ce96\",\"#a59296\",\"#a5a296\",\"#a5aa96\",\"#a5b096\",\"#a5b896\",\"#a5c096\",\"#a5ce96\",\"#a5d696\",\"#a5e496\",\"#a79a96\",\"#a7a296\",\"#a7aa96\",\"#a7b096\",\"#a7b896\",\"#a7c096\",\"#a7c696\",\"#a7ce96\",\"#a7ec96\",\"#a99296\",\"#a99a96\",\"#a9a296\",\"#a9aa96\",\"#a9b096\",\"#a9b896\",\"#a9c096\",\"#a9c696\",\"#a9de96\",\"#ad9a96\",\"#ada296\",\"#adaa96\",\"#adb096\",\"#adb896\",\"#adc096\",\"#adc696\",\"#b19296\",\"#b19a96\",\"#b1a296\",\"#b1aa96\",\"#b1b096\",\"#b1b896\",\"#b1c096\",\"#b1c696\",\"#b1ce96\",\"#b1d696\",\"#b1de96\",\"#b1e496\",\"#b1f496\",\"#b1fc96\",\"#b39a96\",\"#b3a296\",\"#b3aa96\",\"#b3b096\",\"#b3b896\",\"#b3c096\",\"#b79a96\",\"#b7aa96\",\"#b7b096\",\"#b7b896\",\"#b7c096\",\"#b7ce96\",\"#b7d696\",\"#b9aa96\",\"#b9b896\",\"#b9c096\",\"#b9d696\",\"#bba296\",\"#bbaa96\",\"#bbb096\",\"#bbc696\",\"#bbce96\",\"#bd9296\",\"#bd9a96\",\"#bda296\",\"#bdaa96\",\"#bdb096\",\"#bdb896\",\"#bdc096\",\"#bf9296\",\"#bf9a96\",\"#bfa296\",\"#bfaa96\",\"#bfb096\",\"#bfb896\",\"#bfc096\",\"#bfc696\",\"#bfe496\",\"#c1a296\",\"#c1aa96\",\"#c1b096\",\"#c1b896\",\"#c1c096\",\"#c1de96\",\"#c39a96\",\"#c3a296\",\"#c3aa96\",\"#c3b096\",\"#c3b896\",\"#c3c096\",\"#c3c696\",\"#c3ce96\",\"#c3d696\",\"#c3de96\",\"#c3e496\",\"#c3fc96\",\"#c59a96\",\"#c5aa96\",\"#c5b096\",\"#c5b896\",\"#c5c696\",\"#c5e496\",\"#c7a296\",\"#c7aa96\",\"#c7b096\",\"#c7b896\",\"#c7c096\",\"#c7c696\",\"#c7ce96\",\"#c9a296\",\"#c9aa96\",\"#c9b096\",\"#c9b896\",\"#c9c096\",\"#c9c696\",\"#c9ce96\",\"#cba296\",\"#cbaa96\",\"#cbb096\",\"#cbb896\",\"#cbc096\",\"#cbc696\",\"#cbce96\",\"#cbd696\",\"#cd9a96\",\"#cdaa96\",\"#cdb096\",\"#cdb896\",\"#cdc096\",\"#cdc696\",\"#cdd696\",\"#cdde96\",\"#cf9a96\",\"#cfaa96\",\"#cfb096\",\"#cfb896\",\"#cfc096\",\"#cfce96\",\"#cfde96\",\"#d1a296\",\"#d1aa96\",\"#d1b096\",\"#d1b896\",\"#d1c096\",\"#d1c696\",\"#d1ce96\",\"#d1d696\",\"#d1e496\",\"#d39a96\",\"#d3a296\",\"#d3aa96\",\"#d3b096\",\"#d3b896\",\"#d3c096\",\"#d3c696\",\"#d3ce96\",\"#d3d696\",\"#d3de96\",\"#d3e496\",\"#d3ec96\",\"#d7aa96\",\"#d7b096\",\"#d7b896\",\"#d7c096\",\"#d7c696\",\"#d7ce96\",\"#d7e496\",\"#db9a96\",\"#dba296\",\"#dbaa96\",\"#dbb096\",\"#dbb896\",\"#dbc096\",\"#dbc696\",\"#dbce96\",\"#ddaa96\",\"#ddb096\",\"#ddb896\",\"#ddc096\",\"#ddc696\",\"#ddce96\",\"#ddd696\",\"#ddde96\",\"#dfaa96\",\"#dfb096\",\"#dfb896\",\"#dfc096\",\"#dfc696\",\"#dfd696\",\"#dfde96\",\"#e1aa96\",\"#e1b096\",\"#e1b896\",\"#e1c096\",\"#e1c696\",\"#e3b096\",\"#e3b896\",\"#e3c096\",\"#e3c696\",\"#e3ce96\",\"#e3d696\",\"#e3de96\",\"#e5a296\",\"#e5aa96\",\"#e5b096\",\"#e5b896\",\"#e5c096\",\"#e5c696\",\"#e5ce96\",\"#e5d696\",\"#e5de96\",\"#e5e496\",\"#e5ec96\",\"#e51b96\",\"#e52196\",\"#e7b096\",\"#e7b896\",\"#e7c096\",\"#e7c696\",\"#e7ce96\",\"#e7d696\",\"#e9a296\",\"#e9aa96\",\"#e9b096\",\"#e9b896\",\"#e9c096\",\"#e9c696\",\"#e9ce96\",\"#e9d696\",\"#e9de96\",\"#e9ec96\",\"#eba296\",\"#ebaa96\",\"#ebb096\",\"#ebb896\",\"#ebc096\",\"#ebce96\",\"#ebd696\",\"#edb896\",\"#edc096\",\"#edc696\",\"#edce96\",\"#edd696\",\"#efa296\",\"#efb096\",\"#efb896\",\"#efc096\",\"#efc696\",\"#efce96\",\"#efd696\",\"#f1b896\",\"#f1c096\",\"#f1c696\",\"#f1ce96\",\"#f3a296\",\"#f3aa96\",\"#f3b096\",\"#f3b896\",\"#f3c096\",\"#f3c696\",\"#f3ce96\",\"#f3d696\",\"#f3fc96\",\"#f5a296\",\"#f5aa96\",\"#f5b096\",\"#f5b896\",\"#f5c096\",\"#f5c696\",\"#f5ce96\",\"#f5d696\",\"#f5de96\",\"#f5e496\",\"#f5f496\",\"#f5fc96\",\"#f7b096\",\"#f7b896\",\"#f7c096\",\"#f7c696\",\"#f7ce96\",\"#f7de96\",\"#f9b096\",\"#f9b896\",\"#f9c096\",\"#f9c696\",\"#f9d696\",\"#f9de96\",\"#fbb096\",\"#fbb896\",\"#fbc096\",\"#fbc696\",\"#fbde96\",\"#fdb096\",\"#fdb896\",\"#fdc096\",\"#fdc696\",\"#fdce96\",\"#fdd696\",\"#fde496\",\"#fd2796\",\"#00b896\",\"#00c096\",\"#00ce96\",\"#00d696\",\"#00de96\",\"#00f496\",\"#02aa96\",\"#02b096\",\"#02b896\",\"#02c096\",\"#02c696\",\"#02d696\",\"#02e496\",\"#02ec96\",\"#020b96\",\"#04b096\",\"#04b896\",\"#04c096\",\"#04c696\",\"#04d696\",\"#04de96\",\"#06b896\",\"#06c096\",\"#06c696\",\"#06ce96\",\"#06d696\",\"#084096\",\"#08aa96\",\"#08b096\",\"#08b896\",\"#08c096\",\"#08c696\",\"#08ce96\",\"#08d696\",\"#08de96\",\"#08e496\",\"#08ec96\",\"#08f496\",\"#080396\",\"#082996\",\"#0ab096\",\"#0ab896\",\"#0ac096\",\"#0ac696\",\"#0ace96\",\"#0ad696\",\"#0ade96\",\"#0afc96\",\"#0caa96\",\"#0cb096\",\"#0cc096\",\"#0cc696\",\"#0cce96\",\"#0cd696\",\"#0cde96\",\"#0ec096\",\"#0ec696\",\"#0ede96\",\"#0eec96\",\"#10b096\",\"#10c096\",\"#10c696\",\"#10ce96\",\"#10de96\",\"#12b096\",\"#12b896\",\"#12c096\",\"#12ce96\",\"#12d696\",\"#14b096\",\"#14b896\",\"#14c096\",\"#14c696\",\"#14ce96\",\"#14d696\",\"#14de96\",\"#14e496\",\"#14ec96\",\"#16b096\",\"#16b896\",\"#16c096\",\"#16c696\",\"#16ce96\",\"#16e496\",\"#18b096\",\"#18b896\",\"#18c096\",\"#18c696\",\"#18ce96\",\"#18d696\",\"#18de96\",\"#18e496\",\"#18ec96\",\"#18f496\",\"#18fc96\",\"#180396\",\"#1ab896\",\"#1ac096\",\"#1ac696\",\"#1ace96\",\"#1ad696\",\"#1ae496\",\"#1cb896\",\"#1cc096\",\"#1cc696\",\"#1cce96\",\"#1cd696\",\"#1c3196\",\"#1eaa96\",\"#1eb096\",\"#1ec096\",\"#1ec696\",\"#1ece96\",\"#1ed696\",\"#1ede96\",\"#1ef496\",\"#1e1396\",\"#20b096\",\"#20c096\",\"#20c696\",\"#20ce96\",\"#20ec96\",\"#201396\",\"#22aa96\",\"#22b096\",\"#22b896\",\"#22c096\",\"#22c696\",\"#22ce96\",\"#24c696\",\"#24ce96\",\"#24d696\",\"#24f496\",\"#26c696\",\"#26ce96\",\"#26d696\",\"#26de96\",\"#28b096\",\"#28b896\",\"#28c096\",\"#28c696\",\"#28ce96\",\"#28d696\",\"#28de96\",\"#28e496\",\"#28ec96\",\"#28f496\",\"#280396\",\"#2ac096\",\"#2ac696\",\"#2ace96\",\"#2ade96\",\"#2cb096\",\"#2cc096\",\"#2cc696\",\"#2cce96\",\"#2cd696\",\"#2ce496\",\"#2ec096\",\"#2ec696\",\"#2ece96\",\"#2ed696\",\"#2ede96\",\"#2ee496\",\"#2eec96\",\"#30c696\",\"#30d696\",\"#30de96\",\"#30f496\",\"#32c096\",\"#32c696\",\"#32ce96\",\"#32d696\",\"#32de96\",\"#32e496\",\"#34b096\",\"#34c096\",\"#34c696\",\"#34ce96\",\"#34d696\",\"#34de96\",\"#36b896\",\"#36c696\",\"#36ce96\",\"#36d696\",\"#36e496\",\"#360b96\",\"#361396\",\"#366d96\",\"#38b896\",\"#38c696\",\"#38ce96\",\"#38d696\",\"#38de96\",\"#38e496\",\"#38ec96\",\"#3ab896\",\"#3ac096\",\"#3ac696\",\"#3ace96\",\"#3ad696\",\"#3ade96\",\"#3ae496\",\"#3aec96\",\"#3af496\",\"#3a0396\",\"#3a0b96\",\"#3a2996\",\"#3a3f96\",\"#3afa96\",\"#3cb896\",\"#3cc096\",\"#3cc696\",\"#3cce96\",\"#3cd696\",\"#3ec096\",\"#3ec696\",\"#3ece96\",\"#3ed696\",\"#3ede96\",\"#3ee496\",\"#3eec96\",\"#40b096\",\"#40b896\",\"#40c096\",\"#40c696\",\"#40d696\",\"#40e496\",\"#40ec96\",\"#42c096\",\"#42c696\",\"#42ce96\",\"#42d696\",\"#42de96\",\"#42ec96\",\"#420396\",\"#420b96\",\"#44c696\",\"#44ce96\",\"#44d696\",\"#442796\",\"#46b896\",\"#46c696\",\"#46ce96\",\"#46d696\",\"#46de96\",\"#46e496\",\"#46ec96\",\"#46f496\",\"#48c696\",\"#48ce96\",\"#48d696\",\"#48de96\",\"#48e496\",\"#48ec96\",\"#4ab896\",\"#4ac096\",\"#4ac696\",\"#4ace96\",\"#4ad696\",\"#4ade96\",\"#4ae496\",\"#4aec96\",\"#4af496\",\"#4afc96\",\"#4a0396\",\"#4a0b96\",\"#4a1396\",\"#4a1b96\",\"#4a4c96\",\"#4cce96\",\"#4cde96\",\"#4ce496\",\"#4ece96\",\"#4ed696\",\"#4ede96\",\"#4ee496\",\"#50b896\",\"#50c096\",\"#50d696\",\"#50de96\",\"#50e496\",\"#50ec96\",\"#50f496\",\"#52b896\",\"#52c696\",\"#52ce96\",\"#52d696\",\"#52e496\",\"#52ec96\",\"#520b96\",\"#54c696\",\"#54ce96\",\"#54d696\",\"#54de96\",\"#54e496\",\"#54ec96\",\"#54fc96\",\"#56c096\",\"#56ce96\",\"#56d696\",\"#56de96\",\"#56ec96\",\"#56f496\",\"#56fc96\",\"#58d696\",\"#58de96\",\"#58ec96\",\"#58fc96\",\"#5ab896\",\"#5ac696\",\"#5ace96\",\"#5ad696\",\"#5ade96\",\"#5ae496\",\"#5aec96\",\"#5af496\",\"#5cb896\",\"#5cc096\",\"#5cc696\",\"#5cce96\",\"#5cd696\",\"#5cde96\",\"#5ce496\",\"#5cec96\",\"#5cf496\",\"#5cfc96\",\"#5c0396\",\"#5c0b96\",\"#5c2996\",\"#5ec096\",\"#5ec696\",\"#5ece96\",\"#5ede96\",\"#5ee496\",\"#5efc96\",\"#5e2196\",\"#60c096\",\"#60ce96\",\"#60d696\",\"#60de96\",\"#60e496\",\"#60ec96\",\"#601396\",\"#62c696\",\"#62d696\",\"#62e496\",\"#62ec96\",\"#620396\",\"#621396\",\"#621b96\",\"#64c696\",\"#64de96\",\"#64f496\",\"#640396\",\"#641b96\",\"#66d696\",\"#66de96\",\"#66e496\",\"#66ec96\",\"#66f496\",\"#68c696\",\"#68ce96\",\"#68d696\",\"#68de96\",\"#68e496\",\"#68ec96\",\"#68f496\",\"#68fc96\",\"#680396\",\"#6ace96\",\"#6ad696\",\"#6ade96\",\"#6ae496\",\"#6cc096\",\"#6cc696\",\"#6cce96\",\"#6cd696\",\"#6cde96\",\"#6ce496\",\"#6cec96\",\"#6cf496\",\"#6cfc96\",\"#6c0396\",\"#6c0b96\",\"#6c1396\",\"#6c1b96\",\"#6c9f96\",\"#6ec096\",\"#6ec696\",\"#6ece96\",\"#6ed696\",\"#6ede96\",\"#6ee496\",\"#6eec96\",\"#6ef496\",\"#6e0396\",\"#6e9f96\",\"#70c096\",\"#70e496\",\"#70f496\",\"#700396\",\"#72c696\",\"#72ce96\",\"#72d696\",\"#72e496\",\"#72ec96\",\"#720396\",\"#720b96\",\"#741e96\",\"#74c696\",\"#74ce96\",\"#74e496\",\"#74ec96\",\"#74f496\",\"#741396\",\"#76d696\",\"#76e496\",\"#76ec96\",\"#76f496\",\"#76fc96\",\"#78de96\",\"#78e496\",\"#78ec96\",\"#78f496\",\"#78fc96\",\"#7ad696\",\"#7ae496\",\"#7afc96\",\"#7cc096\",\"#7cce96\",\"#7cd696\",\"#7cde96\",\"#7ce496\",\"#7cec96\",\"#7cf496\",\"#7cfc96\",\"#7c0b96\",\"#7c1b96\",\"#7c2996\",\"#7c6d96\",\"#7c7496\",\"#7ece96\",\"#7ede96\",\"#7ee496\",\"#7e0396\",\"#80ce96\",\"#80d696\",\"#80de96\",\"#80e496\",\"#80ec96\",\"#80fc96\",\"#82c096\",\"#82de96\",\"#82e496\",\"#82f496\",\"#82fc96\",\"#820b96\",\"#821396\",\"#821b96\",\"#84ce96\",\"#84d696\",\"#84de96\",\"#84e496\",\"#84ec96\",\"#84f496\",\"#84fc96\",\"#86d696\",\"#86de96\",\"#86e496\",\"#86ec96\",\"#86f496\",\"#860396\",\"#860b96\",\"#864f96\",\"#863696\",\"#88d696\",\"#88e496\",\"#88ec96\",\"#88f496\",\"#88fc96\",\"#8ad696\",\"#8ce496\",\"#8cec96\",\"#8cf496\",\"#8c0b96\",\"#8ec696\",\"#8ece96\",\"#8ed696\",\"#8ede96\",\"#8ee496\",\"#8eec96\",\"#8ef496\",\"#8efc96\",\"#8e0396\",\"#8e0b96\",\"#8e1396\",\"#8e1b96\",\"#8e0996\",\"#90de96\",\"#90e496\",\"#90ec96\",\"#90f496\",\"#92ce96\",\"#92e496\",\"#92f496\",\"#920396\",\"#94d696\",\"#94e496\",\"#94ec96\",\"#94f496\",\"#941396\",\"#96c696\",\"#96d696\",\"#96ec96\",\"#96f496\",\"#96fc96\",\"#960b96\",\"#965d96\",\"#960996\",\"#98d696\",\"#98f496\",\"#980b96\",\"#981396\",\"#9ace96\",\"#9ae496\",\"#9aec96\",\"#9af496\",\"#9cd696\",\"#9cde96\",\"#9cec96\",\"#9cf496\",\"#9cfc96\",\"#9c0396\",\"#9c0b96\",\"#9c1396\",\"#9c1b96\",\"#9ed696\",\"#9ede96\",\"#9ee496\",\"#9eec96\",\"#9ef496\",\"#9efc96\",\"#9e0b96\",\"#9e1396\",\"#9e1b96\",\"#9e3996\",\"#9e9f96\",\"#a0de96\",\"#a0e496\",\"#a0ec96\",\"#a0f496\",\"#a00396\",\"#a00b96\",\"#a01396\",\"#a2e496\",\"#a2ec96\",\"#a2fc96\",\"#a20396\",\"#a20b96\",\"#a21396\",\"#a2d596\",\"#a4ce96\",\"#a4d696\",\"#a4e496\",\"#a4ec96\",\"#a4fc96\",\"#a6de96\",\"#a6e496\",\"#a6f496\",\"#a6fc96\",\"#a60396\",\"#a61396\",\"#a8de96\",\"#a8e496\",\"#a8ec96\",\"#a8f496\",\"#a8fc96\",\"#aade96\",\"#aae496\",\"#aaec96\",\"#aaf496\",\"#aa0396\",\"#aa1b96\",\"#aa2196\",\"#acce96\",\"#acd696\",\"#acde96\",\"#ace496\",\"#acec96\",\"#acfc96\",\"#ac0b96\",\"#ac2196\",\"#ac3f96\",\"#aede96\",\"#aee496\",\"#aefc96\",\"#ae0396\",\"#b0d696\",\"#b0de96\",\"#b0e496\",\"#b0ec96\",\"#b0f496\",\"#b0fc96\",\"#b00396\",\"#b00b96\",\"#b01396\",\"#b01b96\",\"#b02196\",\"#b2ce96\",\"#b2d696\",\"#b2de96\",\"#b2ec96\",\"#b2f496\",\"#b2fc96\",\"#b20396\",\"#b20b96\",\"#b4ec96\",\"#b6d696\",\"#b6de96\",\"#b6e496\",\"#b60b96\",\"#b8d696\",\"#b8de96\",\"#b8f496\",\"#b8fc96\",\"#b80396\",\"#b81396\",\"#baf496\",\"#bafc96\",\"#ba1396\",\"#ba1b96\",\"#bcde96\",\"#bce496\",\"#bcec96\",\"#bcf496\",\"#bcfc96\",\"#bc1396\",\"#bc1b96\",\"#bc2196\",\"#bece96\",\"#bed696\",\"#bee496\",\"#beec96\",\"#befc96\",\"#be0396\",\"#c0d696\",\"#c0de96\",\"#c0e496\",\"#c0ec96\",\"#c0f496\",\"#c0fc96\",\"#c00396\",\"#c00b96\",\"#c01396\",\"#c01b96\",\"#c02196\",\"#c04f96\",\"#c0ea96\",\"#c2fc96\",\"#c20396\",\"#c20b96\",\"#c4ec96\",\"#c40396\",\"#c6d696\",\"#c6de96\",\"#c6e496\",\"#c6ec96\",\"#c6f496\",\"#c6fc96\",\"#c60396\",\"#c61396\",\"#c62196\",\"#c8d696\",\"#c8f496\",\"#c80b96\",\"#c81b96\",\"#cae496\",\"#caf496\",\"#cafc96\",\"#ca0396\",\"#ca1396\",\"#ccde96\",\"#cce496\",\"#ccec96\",\"#cc0396\",\"#cc0b96\",\"#cc1396\",\"#cc2196\",\"#ceec96\",\"#cef496\",\"#ce0396\",\"#ce3996\",\"#d0de96\",\"#d0e496\",\"#d0ec96\",\"#d0f496\",\"#d0fc96\",\"#d00396\",\"#d00b96\",\"#d01396\",\"#d01b96\",\"#d02196\",\"#d02996\",\"#d03196\",\"#d06d96\",\"#d09f96\",\"#d2ec96\",\"#d2f496\",\"#d2fc96\",\"#d20396\",\"#d20b96\",\"#d22196\",\"#d23f96\",\"#d6fc96\",\"#d60396\",\"#d61396\",\"#d63196\",\"#d8f496\",\"#d8fc96\",\"#d80b96\",\"#d81396\",\"#dae496\",\"#daec96\",\"#daf496\",\"#dafc96\",\"#da0396\",\"#da0b96\",\"#da1396\",\"#da2996\",\"#dcd696\",\"#dcec96\",\"#dcf496\",\"#dcfc96\",\"#dc1396\",\"#dc1b96\",\"#dc3196\",\"#def496\",\"#defc96\",\"#de0396\",\"#de0b96\",\"#e0de96\",\"#e0e496\",\"#e0ec96\",\"#e0f496\",\"#e0fc96\",\"#e00396\",\"#e00b96\",\"#e01396\",\"#e01b96\",\"#e04796\",\"#e00996\",\"#e4f496\",\"#e40b96\",\"#e41396\",\"#e6de96\",\"#e6e496\",\"#e6f496\",\"#e6fc96\",\"#e60396\",\"#e61b96\",\"#e63996\",\"#e64f96\",\"#eade96\",\"#eaec96\",\"#ea0396\",\"#ea0b96\",\"#ea1396\",\"#ea2996\",\"#ece496\",\"#ecec96\",\"#ecf496\",\"#ecfc96\",\"#ec0396\",\"#ec0b96\",\"#eede96\",\"#eef496\",\"#eefc96\",\"#ee1b96\",\"#f0d696\",\"#f0fc96\",\"#f00396\",\"#f00b96\",\"#f01396\",\"#f01b96\",\"#f02196\",\"#f04796\",\"#f2de96\",\"#f2e496\",\"#f2ec96\",\"#f2f496\",\"#f2fc96\",\"#f20396\",\"#f20b96\",\"#f21396\",\"#f21b96\",\"#f22196\",\"#f22996\",\"#f23196\",\"#f23f96\",\"#f4e496\",\"#f4ec96\",\"#f40396\",\"#f41b96\",\"#f6f496\",\"#f6fc96\",\"#f60396\",\"#f60b96\",\"#f61396\",\"#f8ec96\",\"#f8f496\",\"#f82196\",\"#faf496\",\"#fafc96\",\"#fa0396\",\"#fa1396\",\"#fa2196\",\"#fcec96\",\"#fcfc96\",\"#fc0b96\",\"#fc1396\",\"#fc1b96\",\"#fc2196\",\"#fc2996\",\"#fc3196\",\"#fc3f96\",\"#01fc96\",\"#010396\",\"#010b96\",\"#03e496\",\"#03fc96\",\"#031396\",\"#031b96\",\"#032196\",\"#034796\",\"#05ec96\",\"#05f496\",\"#05fc96\",\"#050396\",\"#050b96\",\"#051396\",\"#051b96\",\"#052196\",\"#052996\",\"#053996\",\"#057396\",\"#052896\",\"#057496\",\"#07f496\",\"#07fc96\",\"#071b96\",\"#072196\",\"#074796\",\"#090396\",\"#091396\",\"#092196\",\"#0bec96\",\"#0bf496\",\"#0bfc96\",\"#0b0396\",\"#0b0b96\",\"#0b1396\",\"#0b2196\",\"#0b2996\",\"#0b0996\",\"#0ff496\",\"#0f0396\",\"#0f0b96\",\"#0f1396\",\"#0f1b96\",\"#0f2196\",\"#11f496\",\"#110396\",\"#111396\",\"#111b96\",\"#113f96\",\"#15ec96\",\"#15f496\",\"#15fc96\",\"#150396\",\"#150b96\",\"#151396\",\"#151b96\",\"#152196\",\"#152996\",\"#153196\",\"#153996\",\"#154f96\",\"#15be96\",\"#17f496\",\"#171396\",\"#171b96\",\"#172196\",\"#173996\",\"#17a996\",\"#19f496\",\"#19fc96\",\"#190396\",\"#190b96\",\"#191b96\",\"#1bec96\",\"#1bf496\",\"#1bfc96\",\"#1b0396\",\"#1b0b96\",\"#1b1396\",\"#1b1b96\",\"#1b5796\",\"#1d0396\",\"#1d0b96\",\"#1d1396\",\"#1ff496\",\"#1ffc96\",\"#1f0396\",\"#1f0b96\",\"#1f1b96\",\"#210396\",\"#210b96\",\"#211396\",\"#212196\",\"#213196\",\"#23fc96\",\"#231396\",\"#231b96\",\"#25f496\",\"#25fc96\",\"#250396\",\"#250b96\",\"#251396\",\"#251b96\",\"#252196\",\"#252996\",\"#253196\",\"#253996\",\"#253f96\",\"#254f96\",\"#255d96\",\"#25be96\",\"#27f496\",\"#270396\",\"#270b96\",\"#271396\",\"#271b96\",\"#2bfc96\",\"#2b0396\",\"#2b0b96\",\"#2b2196\",\"#2dec96\",\"#2d1396\",\"#2d1b96\",\"#2d3996\",\"#2f0396\",\"#2f0b96\",\"#2f1396\",\"#2f1b96\",\"#2f2996\",\"#31f496\",\"#31fc96\",\"#310396\",\"#311396\",\"#312196\",\"#312996\",\"#330b96\",\"#331396\",\"#332196\",\"#35f496\",\"#35fc96\",\"#350396\",\"#350b96\",\"#351396\",\"#351b96\",\"#352196\",\"#352996\",\"#353196\",\"#353996\",\"#353f96\",\"#354796\",\"#354f96\",\"#355d96\",\"#390b96\",\"#391b96\",\"#392196\",\"#393996\",\"#3bf496\",\"#3b0396\",\"#3b0b96\",\"#3b1b96\",\"#3b2196\",\"#3b2996\",\"#3b3196\",\"#3b5796\",\"#3f2196\",\"#41f496\",\"#410396\",\"#410b96\",\"#411396\",\"#413196\",\"#413996\",\"#430b96\",\"#431396\",\"#432996\",\"#433f96\",\"#45f496\",\"#450396\",\"#451396\",\"#451b96\",\"#452196\",\"#452996\",\"#453996\",\"#457496\",\"#47fc96\",\"#470396\",\"#470b96\",\"#471396\",\"#471b96\",\"#472196\",\"#472996\",\"#473196\",\"#473f96\",\"#475796\",\"#479f96\",\"#490396\",\"#490b96\",\"#493196\",\"#493f96\",\"#4bfc96\",\"#4b0b96\",\"#4b1396\",\"#4b2196\",\"#4b5796\",\"#4df496\",\"#4d0396\",\"#4d1396\",\"#4d1b96\",\"#4d2196\",\"#4d3196\",\"#4ffc96\",\"#4f0b96\",\"#4f1396\",\"#4f1b96\",\"#4f2196\",\"#4f2996\",\"#4f3996\",\"#4f3f96\",\"#4f2796\",\"#51fc96\",\"#510b96\",\"#511396\",\"#512196\",\"#512996\",\"#513196\",\"#513f96\",\"#515796\",\"#550b96\",\"#553196\",\"#556596\",\"#570396\",\"#570b96\",\"#577b96\",\"#59f496\",\"#59fc96\",\"#590396\",\"#590b96\",\"#591396\",\"#591b96\",\"#592196\",\"#592996\",\"#593196\",\"#593996\",\"#593f96\",\"#594796\",\"#595796\",\"#595d96\",\"#596596\",\"#5b0396\",\"#5b1b96\",\"#5b2996\",\"#5b3996\",\"#5b7b96\",\"#5d2196\",\"#5d5d96\",\"#5f1396\",\"#5f2196\",\"#5f2996\",\"#5f3196\",\"#5f3f96\",\"#5f4f96\",\"#630396\",\"#631396\",\"#631b96\",\"#632196\",\"#632996\",\"#633196\",\"#633f96\",\"#637396\",\"#651396\",\"#651b96\",\"#652196\",\"#652996\",\"#653196\",\"#69fc96\",\"#690396\",\"#691396\",\"#691b96\",\"#692196\",\"#692996\",\"#693196\",\"#693996\",\"#693f96\",\"#694796\",\"#694f96\",\"#695d96\",\"#696596\",\"#696d96\",\"#6b0b96\",\"#6b1396\",\"#6b2996\",\"#6b3196\",\"#6b3996\",\"#6b5d96\",\"#6d1396\",\"#6d2196\",\"#6d2996\",\"#6d3f96\",\"#6ffc96\",\"#6f1396\",\"#6f1b96\",\"#6f2196\",\"#6f2996\",\"#6f3196\",\"#6f3996\",\"#6f3f96\",\"#6f4f96\",\"#711b96\",\"#714f96\",\"#731b96\",\"#732196\",\"#733196\",\"#734796\",\"#737b96\",\"#75fc96\",\"#751396\",\"#751b96\",\"#752196\",\"#752996\",\"#753196\",\"#754f96\",\"#771396\",\"#773196\",\"#773996\",\"#777396\",\"#79fc96\",\"#790396\",\"#790b96\",\"#791396\",\"#791b96\",\"#792196\",\"#792996\",\"#793196\",\"#793996\",\"#793f96\",\"#794796\",\"#794f96\",\"#796596\",\"#799196\",\"#7b1396\",\"#7b2196\",\"#7b2996\",\"#7b3196\",\"#7b3996\",\"#7b4f96\",\"#7f1b96\",\"#7f2196\",\"#7f3196\",\"#7f3996\",\"#7f4796\",\"#812196\",\"#813196\",\"#814796\",\"#830396\",\"#830b96\",\"#831b96\",\"#832996\",\"#833196\",\"#833996\",\"#833f96\",\"#834f96\",\"#851396\",\"#851b96\",\"#852196\",\"#854f96\",\"#85b796\",\"#872196\",\"#890396\",\"#890b96\",\"#891396\",\"#891b96\",\"#892196\",\"#892996\",\"#893196\",\"#893996\",\"#893f96\",\"#894f96\",\"#895796\",\"#8d2196\",\"#8d3196\",\"#8d3f96\",\"#8d4f96\",\"#8f4796\",\"#910396\",\"#910b96\",\"#911b96\",\"#915796\",\"#916596\",\"#919996\",\"#932996\",\"#933196\",\"#952996\",\"#953196\",\"#958396\",\"#971b96\",\"#972196\",\"#973f96\",\"#975d96\",\"#990b96\",\"#991396\",\"#992196\",\"#993996\",\"#995796\",\"#995d96\",\"#999f96\",\"#9b0b96\",\"#9b1b96\",\"#9b2196\",\"#9b2996\",\"#9b3196\",\"#9b3996\",\"#9b3f96\",\"#9b4796\",\"#9b5796\",\"#9b6596\",\"#9b8396\",\"#9d2196\",\"#9d3f96\",\"#9d4f96\",\"#9f0b96\",\"#9f4796\",\"#9f7396\",\"#9f9f96\",\"#a12996\",\"#a13196\",\"#a13996\",\"#a15d96\",\"#a32996\",\"#a33996\",\"#a34796\",\"#a34f96\",\"#a53196\",\"#a53f96\",\"#a71396\",\"#a72196\",\"#a73196\",\"#a73f96\",\"#a74796\",\"#ab1396\",\"#ab4796\",\"#ab4f96\",\"#ad0b96\",\"#ad1396\",\"#ad1b96\",\"#ad2196\",\"#ad2996\",\"#ad3196\",\"#ad3996\",\"#ad3f96\",\"#ad4796\",\"#ad4f96\",\"#ad5796\",\"#ad6596\",\"#ad7b96\",\"#ada996\",\"#af3196\",\"#af4796\",\"#af9996\",\"#b11396\",\"#b13196\",\"#b36596\",\"#b37396\",\"#b52196\",\"#b52996\",\"#b53196\",\"#b71b96\",\"#b72996\",\"#b73196\",\"#b73996\",\"#b73f96\",\"#b74796\",\"#b75d96\",\"#b76d96\",\"#b92196\",\"#b92996\",\"#b93f96\",\"#b94796\",\"#bb3996\",\"#bb3f96\",\"#bb4f96\",\"#bb5796\",\"#bd0b96\",\"#bd1b96\",\"#bd2196\",\"#bd2996\",\"#bd3196\",\"#bd3996\",\"#bd3f96\",\"#bd4796\",\"#bd4f96\",\"#bd5796\",\"#bd5d96\",\"#bd6596\",\"#bd6d96\",\"#bd7396\",\"#bd7b96\",\"#bd8396\",\"#bf2196\",\"#bf2996\",\"#bf3f96\",\"#c11b96\",\"#c17b96\",\"#c31b96\",\"#c32996\",\"#c33196\",\"#c33996\",\"#c33f96\",\"#c34f96\",\"#c35796\",\"#c39196\",\"#c50b96\",\"#c52196\",\"#c53996\",\"#c53f96\",\"#c54796\",\"#c55796\",\"#c56d96\",\"#c57396\",\"#c73196\",\"#c75796\",\"#c75d96\",\"#c7a196\",\"#c92196\",\"#c93196\",\"#c93996\",\"#c95d96\",\"#c96d96\",\"#cb1b96\",\"#cb2196\",\"#cb3196\",\"#cb3f96\",\"#cd2196\",\"#cd2996\",\"#cd3196\",\"#cd3996\",\"#cd3f96\",\"#cd4796\",\"#cd4f96\",\"#cd5796\",\"#cd5d96\",\"#cd6596\",\"#cd7396\",\"#cd8396\",\"#cdbe96\",\"#cd0996\",\"#cf2996\",\"#cf5796\",\"#cf6d96\",\"#d12196\",\"#d12996\",\"#d13196\",\"#d13f96\",\"#d14796\",\"#d15d96\",\"#d19196\",\"#d33196\",\"#d33996\",\"#d34796\",\"#d52196\",\"#d53996\",\"#d55d96\",\"#d50996\",\"#d72996\",\"#d74796\",\"#d74f96\",\"#d75796\",\"#d79196\",\"#d92196\",\"#d93996\",\"#d93f96\",\"#d94796\",\"#d94f96\",\"#d96596\",\"#db2196\",\"#db3996\",\"#db6596\",\"#dd3996\",\"#dd5d96\",\"#df2196\",\"#df2996\",\"#df3196\",\"#df3996\",\"#df3f96\",\"#df4796\",\"#df4f96\",\"#df5796\",\"#df6596\",\"#df6d96\",\"#df7396\",\"#dfa196\",\"#dfa996\",\"#e12996\",\"#e13996\",\"#e14796\",\"#e15d96\",\"#e16d96\",\"#e32196\",\"#e34796\",\"#e52196\",\"#e52996\",\"#e53196\",\"#e53996\",\"#e53f96\",\"#e54796\",\"#e73f96\",\"#e77396\",\"#e93196\",\"#eb3f96\",\"#eb4796\",\"#eb6d96\",\"#ed2996\",\"#ed3996\",\"#ef2996\",\"#ef3196\",\"#ef3996\",\"#ef3f96\",\"#ef4796\",\"#ef4f96\",\"#ef5796\",\"#ef5d96\",\"#ef6596\",\"#ef9296\",\"#f13996\",\"#f14796\",\"#f14f96\",\"#f31b96\",\"#f32196\",\"#f33996\",\"#f33f96\",\"#f35d96\",\"#f37396\",\"#f55796\",\"#f72196\",\"#f73996\",\"#f73f96\",\"#f74796\",\"#f75d96\",\"#f7a996\",\"#f92996\",\"#f93996\",\"#f93f96\",\"#f94796\",\"#f94f96\",\"#f95796\",\"#fb3196\",\"#fb3f96\",\"#fb5796\",\"#fb5d96\",\"#fd3f96\",\"#fd4796\",\"#fd5796\",\"#fd7396\",\"#002996\",\"#022996\",\"#023196\",\"#023996\",\"#023f96\",\"#024796\",\"#024f96\",\"#025796\",\"#025d96\",\"#026596\",\"#026d96\",\"#027396\",\"#028396\",\"#043f96\",\"#046d96\",\"#066d96\",\"#06c796\",\"#082196\",\"#083196\",\"#0a3196\",\"#0a3996\",\"#0a3f96\",\"#0a4796\",\"#0a5796\",\"#0a9196\",\"#0c2196\",\"#0c3996\",\"#0c3f96\",\"#0c4796\",\"#0c4f96\",\"#0c5796\",\"#0c6596\",\"#0c6d96\",\"#0c7396\",\"#0e3196\",\"#0e4796\",\"#0e4f96\",\"#103f96\",\"#105796\",\"#123196\",\"#123f96\",\"#124796\",\"#124f96\",\"#125796\",\"#125d96\",\"#126596\",\"#126d96\",\"#128396\",\"#143f96\",\"#147b96\",\"#165796\",\"#183996\",\"#183f96\",\"#184796\",\"#184f96\",\"#187396\",\"#1a3f96\",\"#1e3996\",\"#1e3f96\",\"#1e5796\",\"#1e5d96\",\"#202996\",\"#203f96\",\"#223196\",\"#223996\",\"#223f96\",\"#224796\",\"#224f96\",\"#225796\",\"#225d96\",\"#226596\",\"#226d96\",\"#227396\",\"#227b96\",\"#22dd96\",\"#243996\",\"#243f96\",\"#247b96\",\"#263196\",\"#263996\",\"#264796\",\"#266596\",\"#266d96\",\"#283996\",\"#283f96\",\"#284796\",\"#285796\",\"#286d96\",\"#2a6596\",\"#2a8396\",\"#2c3196\",\"#2c3996\",\"#2c3f96\",\"#2c4f96\",\"#2c5d96\",\"#2c6d96\",\"#2c7b96\",\"#2c8396\",\"#2c8b96\",\"#2e5d96\",\"#303996\",\"#327396\",\"#341b96\",\"#343996\",\"#343f96\",\"#344796\",\"#344f96\",\"#345796\",\"#345d96\",\"#346596\",\"#346d96\",\"#347396\",\"#347b96\",\"#348396\",\"#349996\",\"#364f96\",\"#365d96\",\"#366d96\",\"#367396\",\"#383996\",\"#384f96\",\"#385796\",\"#386d96\",\"#3a3196\",\"#3a4f96\",\"#3a6596\",\"#3a7396\",\"#3aa996\",\"#3c3996\",\"#3c4796\",\"#3c7396\",\"#3c9196\",\"#3c9296\",\"#403f96\",\"#404f96\",\"#407396\",\"#408b96\",\"#424f96\",\"#425796\",\"#425d96\",\"#443196\",\"#443996\",\"#444796\",\"#444f96\",\"#445796\",\"#445d96\",\"#446596\",\"#446d96\",\"#447396\",\"#447b96\",\"#448396\",\"#448b96\",\"#449996\",\"#440296\",\"#440996\",\"#464796\",\"#466d96\",\"#488396\",\"#4a4796\",\"#4a4f96\",\"#4a5d96\",\"#4a6596\",\"#4c3f96\",\"#4c4f96\",\"#4c5796\",\"#4caf96\",\"#4c9f96\",\"#4e6596\",\"#505796\",\"#506d96\",\"#507396\",\"#507b96\",\"#523196\",\"#524796\",\"#524f96\",\"#527396\",\"#543f96\",\"#545796\",\"#545d96\",\"#547396\",\"#564796\",\"#564f96\",\"#565796\",\"#565d96\",\"#566596\",\"#566d96\",\"#567396\",\"#567b96\",\"#56b796\",\"#56c796\",\"#583f96\",\"#584796\",\"#585d96\",\"#586d96\",\"#587b96\",\"#588b96\",\"#5a4796\",\"#5a7396\",\"#5c5796\",\"#5c6d96\",\"#5e5d96\",\"#5e6d96\",\"#604f96\",\"#605796\",\"#605d96\",\"#606d96\",\"#624796\",\"#643996\",\"#644f96\",\"#647b96\",\"#663996\",\"#663f96\",\"#665796\",\"#665d96\",\"#666596\",\"#666d96\",\"#667396\",\"#667b96\",\"#668396\",\"#669196\",\"#669996\",\"#66a196\",\"#667a96\",\"#685796\",\"#686d96\",\"#687b96\",\"#6a4796\",\"#6a5d96\",\"#6a6596\",\"#6a8b96\",\"#6ac796\",\"#6c5796\",\"#6c6596\",\"#6ca196\",\"#6e6596\",\"#704796\",\"#704f96\",\"#705d96\",\"#706d96\",\"#724796\",\"#743f96\",\"#744f96\",\"#745796\",\"#747b96\",\"#742796\",\"#763f96\",\"#764796\",\"#764f96\",\"#765796\",\"#765d96\",\"#766596\",\"#766d96\",\"#767396\",\"#767b96\",\"#768396\",\"#769996\",\"#786596\",\"#7a3996\",\"#7a4f96\",\"#7a7b96\",\"#7aa196\",\"#7c3996\",\"#7c3f96\",\"#7c4f96\",\"#7cb796\",\"#7e4796\",\"#7e5d96\",\"#7e7b96\",\"#7e8b96\",\"#824f96\",\"#844f96\",\"#845d96\",\"#847396\",\"#865d96\",\"#866d96\",\"#867b96\",\"#883f96\",\"#884796\",\"#884f96\",\"#885796\",\"#885d96\",\"#886596\",\"#886d96\",\"#887396\",\"#888396\",\"#888b96\",\"#889196\",\"#88b796\",\"#880a96\",\"#8a5d96\",\"#8a6596\",\"#8a6d96\",\"#8a7396\",\"#8a7b96\",\"#8a8b96\",\"#8aaf96\",\"#8c4f96\",\"#8c5796\",\"#8c7b96\",\"#8e4f96\",\"#8e5796\",\"#903f96\",\"#908b96\",\"#924f96\",\"#927396\",\"#928396\",\"#929996\",\"#944f96\",\"#945796\",\"#948b96\",\"#966596\",\"#969996\",\"#983f96\",\"#984796\",\"#984f96\",\"#985d96\",\"#986596\",\"#986d96\",\"#988396\",\"#988b96\",\"#989996\",\"#98a196\",\"#98a996\",\"#9a6d96\",\"#9c5d96\",\"#9c8b96\",\"#9e6d96\",\"#9e9996\",\"#a04f96\",\"#a05796\",\"#a08396\",\"#a0a196\",\"#a0c796\",\"#a25d96\",\"#a26d96\",\"#a29196\",\"#a2af96\",\"#a2b796\",\"#a44796\",\"#a45796\",\"#a48b96\",\"#a66596\",\"#a84796\",\"#a86d96\",\"#a87396\",\"#a87b96\",\"#aa4f96\",\"#aa5796\",\"#aa5d96\",\"#aa6596\",\"#aa6d96\",\"#aa7396\",\"#aa7b96\",\"#aa8396\",\"#aa8b96\",\"#aa9996\",\"#ac5d96\",\"#ac6d96\",\"#ae4796\",\"#ae4f96\",\"#ae7396\",\"#ae8396\",\"#ae8b96\",\"#ae9196\",\"#b26596\",\"#b45d96\",\"#b46596\",\"#b46d96\",\"#b48396\",\"#b65796\",\"#b65d96\",\"#b67b96\",\"#b84f96\",\"#b85796\",\"#b87396\",\"#ba4f96\",\"#ba5796\",\"#ba6d96\",\"#ba7396\",\"#ba7b96\",\"#ba8396\",\"#ba9996\",\"#baa996\",\"#bab796\",\"#bc0296\",\"#be5796\",\"#be5d96\",\"#be6596\",\"#be6d96\",\"#be7396\",\"#be7b96\",\"#be8396\",\"#be9196\",\"#c05d96\",\"#c06d96\",\"#c09f96\",\"#c48396\",\"#c67b96\",\"#c69196\",\"#c88b96\",\"#ca5d96\",\"#ca6596\",\"#ca7b96\",\"#ca8b96\",\"#ca9196\",\"#ca9996\",\"#caa996\",\"#cab796\",\"#cad596\",\"#cc6596\",\"#d25796\",\"#d27396\",\"#d44f96\",\"#d46d96\",\"#d49996\",\"#d4e996\",\"#d65796\",\"#d67b96\",\"#d69996\",\"#da5d96\",\"#daa196\",\"#dc1e96\",\"#dc6596\",\"#dc6d96\",\"#dc7b96\",\"#dc8396\",\"#dc8b96\",\"#dc9196\",\"#dc9996\",\"#dca996\",\"#dcbf96\",\"#de7396\",\"#de8b96\",\"#de9196\",\"#e26596\",\"#e46596\",\"#e46d96\",\"#e49196\",\"#e6af96\",\"#e85d96\",\"#e8a996\",\"#e8af96\",\"#eacd96\",\"#ec4096\",\"#ec5d96\",\"#ec6596\",\"#ec6d96\",\"#ec7396\",\"#ec7b96\",\"#ec8396\",\"#ec8b96\",\"#ec9996\",\"#eca196\",\"#eca996\",\"#ee7b96\",\"#f06596\",\"#f25796\",\"#f2e596\",\"#f47396\",\"#f47b96\",\"#f40296\",\"#f86d96\",\"#f88b96\",\"#fe5d96\",\"#fe6d96\",\"#fe7396\",\"#fe7b96\",\"#fe8396\",\"#fe8b96\",\"#fe9196\",\"#fe9996\",\"#feb796\",\"#feeb96\",\"#016596\",\"#038b96\",\"#057396\",\"#077396\",\"#079996\",\"#07dd96\",\"#099196\",\"#0b9196\",\"#0d6d96\",\"#0d7396\",\"#0d9196\",\"#0f5d96\",\"#0f6596\",\"#0f6d96\",\"#0f7396\",\"#0f7b96\",\"#0f8396\",\"#0f8b96\",\"#0f9196\",\"#0f9996\",\"#0fa196\",\"#0fb796\",\"#116d96\",\"#119996\",\"#137396\",\"#13a196\",\"#157396\",\"#159196\",\"#159996\",\"#15a196\",\"#15cd96\",\"#197b96\",\"#1b5d96\",\"#1b9996\",\"#1d6596\",\"#1d9196\",\"#1f5d96\",\"#1f6596\",\"#1f7396\",\"#1f8396\",\"#1f8b96\",\"#1f9196\",\"#1f9996\",\"#1fa196\",\"#1faf96\",\"#1fc796\",\"#236596\",\"#238b96\",\"#277396\",\"#279996\",\"#27a996\",\"#298396\",\"#2b9196\",\"#2ba996\",\"#2d6596\",\"#2f6596\",\"#2fa196\",\"#2fd596\",\"#316596\",\"#316d96\",\"#317396\",\"#317b96\",\"#318396\",\"#319196\",\"#319996\",\"#31af96\",\"#31c796\",\"#31cd96\",\"#336d96\",\"#338396\",\"#338b96\",\"#33a996\",\"#33f396\",\"#330296\",\"#358396\",\"#35af96\",\"#35bf96\",\"#39a196\",\"#3b7396\",\"#3b2096\",\"#3d9196\",\"#3da996\",\"#3daf96\",\"#3fd596\",\"#418396\",\"#419196\",\"#419996\",\"#41a196\",\"#41af96\",\"#41bf96\",\"#41fb96\",\"#411296\",\"#439196\",\"#458396\",\"#45a196\",\"#477396\",\"#47a196\",\"#47a996\",\"#498396\",\"#49a196\",\"#49b796\",\"#49cd96\",\"#4db796\",\"#4f7396\",\"#4faf96\",\"#537396\",\"#538396\",\"#538b96\",\"#539196\",\"#53a196\",\"#53a996\",\"#53af96\",\"#53b796\",\"#53bf96\",\"#53c796\",\"#53cd96\",\"#55a996\",\"#597b96\",\"#59a996\",\"#59f396\",\"#5ba196\",\"#5da996\",\"#5dbf96\",\"#637396\",\"#637b96\",\"#638396\",\"#638b96\",\"#639196\",\"#639996\",\"#63a196\",\"#63af96\",\"#63cd96\",\"#63f396\",\"#633896\",\"#679196\",\"#67af96\",\"#67b796\",\"#673e96\",\"#69a196\",\"#69b796\",\"#6baf96\",\"#6d9196\",\"#6d9996\",\"#6daf96\",\"#6dbf96\",\"#737396\",\"#737b96\",\"#738b96\",\"#739196\",\"#739996\",\"#73a196\",\"#73bf96\",\"#73c796\",\"#73e596\",\"#777b96\",\"#778b96\",\"#77af96\",\"#77c796\",\"#79af96\",\"#7d9996\",\"#7fa196\",\"#857b96\",\"#858396\",\"#859196\",\"#85a196\",\"#85a996\",\"#85af96\",\"#85bf96\",\"#852796\",\"#87a196\",\"#87dd96\",\"#899996\",\"#8bbf96\",\"#8da196\",\"#91b796\",\"#937b96\",\"#938b96\",\"#939196\",\"#93a196\",\"#93a996\",\"#93af96\",\"#93b796\",\"#93c796\",\"#93cd96\",\"#93dd96\",\"#97a196\",\"#9bc796\",\"#9d8b96\",\"#9d9996\",\"#9dc796\",\"#9dd596\",\"#9ddd96\",\"#9faf96\",\"#9fb796\",\"#a19196\",\"#a1af96\",\"#a1c796\",\"#a1d596\",\"#a39996\",\"#a78396\",\"#a78b96\",\"#a79996\",\"#a7a996\",\"#a7af96\",\"#a7b796\",\"#a7c796\",\"#a7cd96\",\"#a7dd96\",\"#a70296\",\"#a70a96\",\"#a91296\",\"#ab8b96\",\"#ab9196\",\"#abbf96\",\"#abc796\",\"#ada196\",\"#ada996\",\"#b1b796\",\"#b1bf96\",\"#b39196\",\"#b78396\",\"#b79196\",\"#b79996\",\"#b7a196\",\"#b7af96\",\"#b7b796\",\"#b7bf96\",\"#b7c796\",\"#b7cd96\",\"#b7f396\",\"#b97b96\",\"#b99196\",\"#b9cd96\",\"#bb9996\",\"#bda996\",\"#c3af96\",\"#c58b96\",\"#c59996\",\"#c79196\",\"#c79996\",\"#c7a196\",\"#c7a996\",\"#c7b796\",\"#c7c796\",\"#c7cd96\",\"#c9a196\",\"#c9b796\",\"#cba196\",\"#cba996\",\"#cbb796\",\"#cbc796\",\"#d1a196\",\"#d1cd96\",\"#d1dd96\",\"#d7b796\",\"#d99996\",\"#d9a196\",\"#d9a996\",\"#d9af96\",\"#d9b796\",\"#d9bf96\",\"#d9c796\",\"#d9cd96\",\"#d9e596\",\"#dbaf96\",\"#dbc796\",\"#dda996\",\"#df8b96\",\"#df9996\",\"#dfa196\",\"#dfbf96\",\"#e39196\",\"#e31296\",\"#e5af96\",\"#e5b796\",\"#e79996\",\"#e7a196\",\"#e7a996\",\"#e7b796\",\"#e7bf96\",\"#e7c796\",\"#e7cd96\",\"#e7d596\",\"#e7dd96\",\"#e73896\",\"#ebfb96\",\"#edbf96\",\"#eddd96\",\"#edeb96\",\"#efa196\",\"#efa996\",\"#efd596\",\"#effb96\",\"#f5b796\",\"#f50296\",\"#f50996\",\"#f79996\",\"#f7a996\",\"#f7d596\",\"#fb9996\",\"#fba996\",\"#fbaf96\",\"#fbb796\",\"#fbc796\",\"#fbd596\",\"#fbdd96\",\"#fbe596\",\"#fbeb96\",\"#000a96\",\"#02dd96\",\"#04a996\",\"#04f396\",\"#06cd96\",\"#06eb96\",\"#08c796\",\"#080a96\",\"#081296\",\"#0c9996\",\"#0caf96\",\"#0cbf96\",\"#0cc796\",\"#0ccd96\",\"#0ce596\",\"#0cfb96\",\"#0ebf96\",\"#0ee596\",\"#10a196\",\"#101296\",\"#129996\",\"#12a196\",\"#12b796\",\"#18c796\",\"#18cd96\",\"#1aa196\",\"#1caf96\",\"#1cb796\",\"#1cbf96\",\"#1cc796\",\"#1ccd96\",\"#1c3e96\",\"#20a196\",\"#20a996\",\"#20d596\",\"#229996\",\"#22eb96\",\"#26c796\",\"#28a196\",\"#2abf96\",\"#2ea196\",\"#2eb796\",\"#2ebf96\",\"#2ec796\",\"#2ecd96\",\"#2ed596\",\"#2efb96\",\"#2e0a96\",\"#30a996\",\"#34dd96\",\"#360296\",\"#38dd96\",\"#3ac796\",\"#3aeb96\",\"#3caf96\",\"#3cb796\",\"#3cbf96\",\"#3cc796\",\"#3cdd96\",\"#3ceb96\",\"#40e596\",\"#42c796\",\"#44a996\",\"#44b796\",\"#44e596\",\"#440296\",\"#446496\",\"#48af96\",\"#4aa996\",\"#4add96\",\"#4afb96\",\"#4a3096\",\"#4cc796\",\"#4ccd96\",\"#4cdd96\",\"#50a996\",\"#50b796\",\"#50cd96\",\"#50e596\",\"#50eb96\",\"#54d596\",\"#56af96\",\"#56cd96\",\"#58d596\",\"#58eb96\",\"#5aaf96\",\"#5abf96\",\"#5a0a96\",\"#5caf96\",\"#60af96\",\"#60b796\",\"#60c796\",\"#600a96\",\"#601a96\",\"#62b796\",\"#64fb96\",\"#66e596\",\"#6ac796\",\"#70dd96\",\"#70fb96\",\"#701296\",\"#72af96\",\"#74bf96\",\"#74d596\",\"#74f396\",\"#74fb96\",\"#760296\",\"#7add96\",\"#7afb96\",\"#7ebf96\",\"#82cd96\",\"#82d596\",\"#82e596\",\"#82eb96\",\"#820296\",\"#820a96\",\"#824696\",\"#84d596\",\"#86dd96\",\"#8ce596\",\"#8ec796\",\"#8ecd96\",\"#8ed596\",\"#90b796\",\"#90d596\",\"#90dd96\",\"#90f396\",\"#900296\",\"#9acd96\",\"#9ef396\",\"#9e2096\",\"#a0c796\",\"#a4b796\",\"#a4c796\",\"#a4cd96\",\"#a4d596\",\"#a4f396\",\"#a44e96\",\"#a6d596\",\"#a80a96\",\"#aa2096\",\"#ace596\",\"#b0c796\",\"#b0d596\",\"#b0fb96\",\"#b4c796\",\"#b4d596\",\"#b4dd96\",\"#b4e596\",\"#b4eb96\",\"#b4f396\",\"#b41296\",\"#b42896\",\"#b6cd96\",\"#b6eb96\",\"#b8bf96\",\"#ba3896\",\"#be0296\",\"#c2d596\",\"#c2dd96\",\"#c2e596\",\"#c4d596\",\"#c4e596\",\"#c4f396\",\"#c40296\",\"#c40a96\",\"#c41a96\",\"#c6dd96\",\"#c8d596\",\"#ced596\",\"#cedd96\",\"#ce1a96\",\"#d0eb96\",\"#d6cd96\",\"#d6dd96\",\"#d6f396\",\"#dcdd96\",\"#e2eb96\",\"#e4dd96\",\"#e40a96\",\"#e8f396\",\"#eaeb96\",\"#ea2896\",\"#ecf396\",\"#ec6496\",\"#eef396\",\"#ee1296\",\"#f42096\",\"#f8eb96\",\"#f8f396\",\"#f8fb96\",\"#f80296\",\"#fcdd96\",\"#fce596\",\"#03f396\",\"#03fb96\",\"#030296\",\"#030a96\",\"#07e596\",\"#07fb96\",\"#09cd96\",\"#09e596\",\"#09f396\",\"#09fb96\",\"#090296\",\"#090a96\",\"#092096\",\"#092896\",\"#093696\",\"#0bd596\",\"#0dfb96\",\"#0d0296\",\"#11e596\",\"#11e996\",\"#19dd96\",\"#19e596\",\"#190a96\",\"#1de596\",\"#1d3896\",\"#251a96\",\"#27d596\",\"#291296\",\"#2be596\",\"#2b1296\",\"#2b1a96\",\"#2b2096\",\"#2b2896\",\"#2de596\",\"#2deb96\",\"#330296\",\"#350a96\",\"#37d596\",\"#37f396\",\"#370a96\",\"#39eb96\",\"#3b1a96\",\"#3b2096\",\"#3b2896\",\"#3b3096\",\"#3feb96\",\"#3f0a96\",\"#413096\",\"#41e996\",\"#450296\",\"#4bfb96\",\"#4b0296\",\"#4b1a96\",\"#4ddd96\",\"#4d2096\",\"#4d2896\",\"#4fd596\",\"#4f0a96\",\"#4f1296\",\"#4f1a96\",\"#4f3096\",\"#53eb96\",\"#552096\",\"#5be596\",\"#5b0296\",\"#5deb96\",\"#5df396\",\"#5d0a96\",\"#5d1296\",\"#5d2896\",\"#5ff396\",\"#5ffb96\",\"#61f396\",\"#630a96\",\"#635696\",\"#651a96\",\"#6dfb96\",\"#6d0a96\",\"#6d1a96\",\"#6d2096\",\"#6d3096\",\"#6d3e96\",\"#71e596\",\"#711296\",\"#712896\",\"#771296\",\"#794e96\",\"#7ffb96\",\"#7f0a96\",\"#8b0a96\",\"#8b1296\",\"#8f0296\",\"#8f0a96\",\"#8f1a96\",\"#8f2896\",\"#8f4696\",\"#91fb96\",\"#930a96\",\"#97f396\",\"#972096\",\"#9b1a96\",\"#9f1296\",\"#9f1a96\",\"#9f2896\",\"#9f3e96\",\"#9f8a96\",\"#a33e96\",\"#a34e96\",\"#ab2896\",\"#b12896\",\"#b13096\",\"#bb0a96\",\"#bf1296\",\"#c12896\",\"#c13096\",\"#c14e96\",\"#c32096\",\"#c53096\",\"#c91a96\",\"#c95c96\",\"#cb0296\",\"#cd3896\",\"#d12896\",\"#d30296\",\"#d37496\",\"#d51296\",\"#d54696\",\"#d57a96\",\"#d71296\",\"#dd0a96\",\"#dd1a96\",\"#e3fb96\",\"#e32096\",\"#e36c96\",\"#e32796\",\"#e71a96\",\"#e73096\",\"#ef3096\",\"#f32896\",\"#f33896\",\"#f34696\",\"#fd5c96\",\"#002096\",\"#062096\",\"#063896\",\"#084696\",\"#0a2096\",\"#0c1a96\",\"#142096\",\"#144e96\",\"#163e96\",\"#1c2896\",\"#1e4e96\",\"#283096\",\"#283896\",\"#286c96\",\"#2a3896\",\"#2a4696\",\"#2c2896\",\"#2c8296\",\"#343096\",\"#345c96\",\"#383896\",\"#385696\",\"#405696\",\"#422096\",\"#443e96\",\"#483096\",\"#483896\",\"#483e96\",\"#484e96\",\"#486496\",\"#48cd96\",\"#5a7496\",\"#683e96\",\"#684e96\",\"#6a2896\",\"#6a3096\",\"#6a3896\",\"#6a5c96\",\"#6c4e96\",\"#6cae96\",\"#746c96\",\"#7c7a96\",\"#7e3896\",\"#865c96\",\"#866c96\",\"#867a96\",\"#883896\",\"#882196\",\"#8c3896\",\"#8c4696\",\"#8c6496\",\"#8c6c96\",\"#925696\",\"#946c96\",\"#9a3e96\",\"#9c4696\",\"#9c6c96\",\"#9c9f96\",\"#b24696\",\"#b28a96\",\"#b63096\",\"#b83896\",\"#be8a96\",\"#be9296\",\"#c06c96\",\"#d05c96\",\"#d27a96\",\"#d63096\",\"#d89296\",\"#dae496\",\"#e03e96\",\"#e06496\",\"#e06c96\",\"#e07496\",\"#e09296\",\"#ec8296\",\"#f04e96\",\"#f05c96\",\"#f24e96\",\"#f66c96\",\"#fe5c96\",\"#037496\",\"#038296\",\"#0fa096\",\"#117496\",\"#13cc96\",\"#258296\",\"#354e96\",\"#395c96\",\"#412796\",\"#454696\",\"#455c96\",\"#459296\",\"#557496\",\"#575696\",\"#59f296\",\"#674096\",\"#677496\",\"#677a96\",\"#67cc96\",\"#778a96\",\"#797a96\",\"#798a96\",\"#79a096\",\"#7b9296\",\"#7f7496\",\"#85a096\",\"#89b696\",\"#ab7a96\",\"#abb696\",\"#b72796\",\"#bb7a96\",\"#cd7a96\",\"#cd2796\",\"#d7ae96\",\"#dd7496\",\"#dd7a96\",\"#dd0396\",\"#e3be96\",\"#ed7a96\",\"#ed8296\",\"#edb696\",\"#f5ae96\",\"#f77a96\",\"#007a96\",\"#00a896\",\"#0e9296\",\"#108a96\",\"#10be96\",\"#20c696\",\"#228a96\",\"#249296\",\"#2c8a96\",\"#32a096\",\"#38be96\",\"#4ca896\",\"#4cbe96\",\"#549296\",\"#54a896\",\"#5aa096\",\"#5ea896\",\"#64ae96\",\"#6cae96\",\"#76a096\",\"#76a796\",\"#86b696\",\"#86be96\",\"#96d496\",\"#96dc96\",\"#962796\",\"#a8ae96\",\"#c0cc96\",\"#cabe96\",\"#cecc96\",\"#d6e496\",\"#daae96\",\"#eab696\",\"#eabe96\",\"#eaea96\",\"#05dc96\",\"#0dfa96\",\"#0d2796\",\"#0d2f96\",\"#0d5596\",\"#11be96\",\"#132796\",\"#154d96\",\"#1fcc96\",\"#1fd496\",\"#1ff296\",\"#21c696\",\"#252796\",\"#2b2796\",\"#2f0996\",\"#2f2796\",\"#33c696\",\"#33f296\",\"#332796\",\"#3fe496\",\"#4f2796\",\"#532796\",\"#5df296\",\"#5d2796\",\"#61cc96\",\"#612796\",\"#732796\",\"#7d2796\",\"#83ea96\",\"#832796\",\"#87fa96\",\"#8b2796\",\"#932796\",\"#934596\",\"#971996\",\"#9dea96\",\"#a32796\",\"#b52796\",\"#bd2796\",\"#c72796\",\"#c72f96\",\"#cd2796\",\"#d32796\",\"#d72796\",\"#e32796\",\"#e72796\",\"#eb0996\",\"#f72796\",\"#022796\",\"#062796\",\"#0a2796\",\"#122796\",\"#1a2796\",\"#1cea96\",\"#1c2796\",\"#1e2796\",\"#262796\",\"#2c2196\",\"#2c2796\",\"#302796\",\"#362796\",\"#3c2796\",\"#3c2f96\",\"#46fa96\",\"#462796\",\"#4a2796\",\"#4c2796\",\"#4c8996\",\"#502796\",\"#542796\",\"#562796\",\"#5e2796\",\"#662796\",\"#701196\",\"#825596\",\"#8a2796\",\"#8a4d96\",\"#8e2796\",\"#902196\",\"#902796\",\"#9c2796\",\"#a00996\",\"#a02796\",\"#a42796\",\"#aa2796\",\"#ae2796\",\"#b82196\",\"#b82796\",\"#be1196\",\"#c22796\",\"#c42796\",\"#ca2196\",\"#ca2796\",\"#d42796\",\"#d42f96\",\"#e23f96\",\"#e42796\",\"#ec2796\",\"#ee4d96\",\"#f42796\",\"#fc2796\",\"#032796\",\"#072796\",\"#092796\",\"#094596\",\"#0f2796\",\"#132796\",\"#192796\",\"#196b96\",\"#197396\",\"#452796\",\"#492796\",\"#512796\",\"#5b2796\",\"#5b7396\",\"#5bd396\",\"#6d2796\",\"#6d5b96\",\"#6f2796\",\"#732796\",\"#7df996\",\"#855b96\",\"#8b2796\",\"#8d9f96\",\"#97f796\",\"#9d2796\",\"#9d5596\",\"#b57396\",\"#bb8196\",\"#c12796\",\"#c32796\",\"#d17996\",\"#dd2796\",\"#e52796\",\"#f39796\",\"#f56396\",\"#f92796\",\"#002796\",\"#042796\",\"#048996\",\"#142796\",\"#146b96\",\"#148096\",\"#18e396\",\"#202796\",\"#262796\",\"#322796\",\"#342796\",\"#3e2796\",\"#482796\",\"#582796\",\"#682796\",\"#a28196\",\"#a42796\",\"#aa6196\",\"#de1e96\",\"#decd96\",\"#de7f96\",\"#01c596\",\"#19e396\",\"#61bd96\",\"#65f796\",\"#87c596\",\"#87e096\",\"#806196\",\"#a62e96\",\"#172696\",\"#f76196\",\"#002c96\",\"#2ae696\",\"#072796\",\"#4dba96\",\"#9dae96\",\"#bf4096\",\"#bf5696\",\"#3ecc96\",\"#21d896\",\"#68f796\",\"#b67196\",\"#dffe96\",\"#d00996\",\"#238596\",\"#8fa896\"],\"radius\":[5,36,5,3,3,2,2,2,1,2,1,3,1,1,1,4,1,3,1,2,1,1,2,1,1,1,2,1,2,3,1,1,1,1,1,1,1,2,1,3,3,6,2,1,1,1,1,3,1,2,1,1,1,1,1,1,1,1,1,1,1,2,1,1,1,1,2,2,1,1,1,3,6,5,1,1,1,1,1,2,2,1,1,3,2,1,14,15,7,1,1,2,2,1,1,2,4,2,1,1,2,1,1,4,2,3,1,1,1,8,34,17,6,1,1,4,2,1,2,2,3,4,3,2,4,1,1,3,3,2,2,8,7,1,1,1,4,5,1,1,2,1,29,38,17,9,1,1,1,5,3,1,1,6,7,1,2,15,13,3,1,3,6,2,2,7,1,1,1,3,3,2,5,1,1,1,1,24,60,59,24,8,2,1,1,1,7,6,1,3,4,9,10,1,1,8,4,1,2,6,10,3,4,3,8,5,1,2,18,17,10,5,6,6,4,1,1,1,44,76,57,13,4,1,1,2,1,2,3,7,2,6,23,8,5,3,15,7,4,1,1,1,1,10,10,2,1,3,11,3,4,3,4,8,8,3,2,2,4,32,18,9,1,2,1,15,62,81,30,7,4,4,2,2,13,11,5,1,1,4,9,4,9,3,1,3,8,14,5,1,3,1,3,7,8,6,4,2,6,13,6,2,1,1,8,7,5,2,1,2,5,10,7,3,1,6,8,4,2,1,1,1,1,26,69,68,34,9,3,3,1,8,16,13,9,2,8,6,5,1,2,8,14,6,4,1,1,1,11,8,1,3,7,7,3,4,1,6,16,16,9,1,2,1,5,9,4,7,1,2,14,59,64,65,30,11,3,1,1,1,5,10,5,4,1,1,4,2,7,7,2,3,1,3,8,20,8,9,3,1,1,4,6,2,4,2,1,5,11,10,5,3,1,2,8,7,3,2,1,4,7,10,5,2,1,31,81,87,44,18,11,3,3,1,3,7,8,3,3,5,3,3,1,1,5,7,10,6,8,1,1,3,6,7,6,2,4,8,3,8,4,2,1,6,13,14,13,2,2,1,1,1,10,13,5,4,3,1,6,8,7,4,1,1,10,41,72,54,29,12,5,2,2,2,2,5,10,6,3,1,5,12,26,24,14,7,1,1,2,7,2,3,1,1,2,1,3,8,4,4,5,2,5,4,3,6,3,1,1,6,8,19,8,5,4,2,1,14,58,62,49,31,14,8,3,1,2,7,11,5,1,2,3,4,9,3,2,1,3,5,3,2,3,1,2,3,7,11,15,3,1,1,1,1,8,6,8,6,1,1,3,4,3,3,1,1,1,7,7,7,3,1,1,1,5,9,4,1,2,27,56,65,41,19,8,3,5,7,13,14,11,7,2,1,1,1,2,7,1,2,5,1,1,1,2,4,6,3,1,1,1,1,1,9,6,10,6,3,2,3,10,4,2,1,4,12,20,9,10,4,2,5,12,5,4,2,1,10,46,56,42,39,16,6,3,1,4,9,4,3,2,5,4,3,3,2,1,1,2,13,14,9,6,4,3,1,1,1,1,1,6,4,1,1,1,2,2,7,3,8,3,1,2,8,6,6,4,1,4,3,7,4,1,1,1,1,1,24,50,61,43,25,5,6,3,1,4,6,4,5,1,1,5,2,6,5,2,1,2,4,7,5,3,2,2,1,1,2,7,7,3,1,1,3,6,7,3,1,1,1,1,3,10,9,11,3,3,1,3,4,9,6,4,3,1,1,6,6,4,2,3,2,1,1,1,8,29,57,51,29,21,5,5,1,2,3,4,7,5,5,1,1,2,1,1,6,10,9,4,3,1,6,7,6,3,3,1,1,5,6,3,1,1,3,6,3,3,4,1,4,8,4,4,2,1,1,5,10,12,9,7,4,1,2,1,16,38,33,28,26,17,5,4,2,1,2,1,6,7,4,1,1,1,1,4,6,3,4,1,1,2,4,6,2,3,1,1,1,2,6,8,12,3,1,4,2,3,4,4,3,3,2,3,4,4,4,3,1,1,1,6,3,2,2,4,1,1,1,3,3,7,5,3,8,12,31,38,32,20,10,4,1,3,1,1,1,6,5,8,1,4,1,3,3,4,4,3,1,2,1,1,4,3,4,1,1,1,2,6,5,2,1,1,5,3,1,1,1,4,5,13,6,8,3,1,1,1,1,2,1,3,2,1,10,26,43,42,24,8,3,3,2,1,1,2,3,4,1,3,1,1,2,3,3,6,1,2,1,9,6,10,8,4,2,1,2,2,1,4,4,4,1,2,4,5,8,5,3,1,1,3,5,3,1,2,1,4,3,3,2,8,22,30,55,54,31,11,4,1,1,2,2,4,8,9,4,1,2,2,1,1,6,9,9,2,3,2,2,3,3,3,1,5,1,1,1,2,9,6,2,3,1,1,2,3,2,1,1,1,7,16,32,28,23,17,3,8,1,2,6,10,5,1,1,1,1,6,7,7,1,5,2,1,1,6,3,1,1,1,1,1,3,2,1,1,2,1,1,2,3,2,2,1,1,3,1,3,3,1,3,4,10,3,3,3,1,12,21,24,31,26,15,5,1,2,1,1,2,5,1,2,1,1,3,3,3,1,1,3,1,1,1,3,5,4,3,1,2,1,1,1,5,10,11,11,8,4,2,1,2,2,11,9,5,2,1,1,3,8,16,32,23,19,11,7,5,2,3,1,1,4,2,8,5,6,1,1,4,3,1,1,2,1,4,3,3,1,3,4,7,1,1,1,1,1,3,5,1,2,1,3,6,2,9,7,1,4,1,1,4,4,4,2,1,4,8,21,34,32,19,7,7,6,1,2,1,1,4,3,2,2,1,1,1,3,6,1,1,1,2,2,6,5,5,4,1,2,1,6,2,5,1,1,1,1,5,4,1,3,2,1,1,1,2,4,2,1,4,1,1,3,2,1,5,1,1,2,1,1,8,16,31,36,28,20,9,5,3,1,1,6,4,6,3,3,4,1,1,1,2,3,4,6,2,1,1,3,3,5,3,2,1,1,2,2,2,4,1,1,1,1,1,2,2,2,1,2,1,1,1,1,1,3,12,19,26,28,17,7,6,2,1,1,1,1,6,4,1,1,1,1,1,3,4,7,6,3,5,3,3,1,1,1,1,2,4,1,1,4,2,1,1,1,1,4,1,6,2,3,1,5,2,3,2,1,1,4,2,7,5,3,6,1,1,5,14,15,19,13,14,5,3,3,1,1,3,3,2,3,4,1,3,3,2,2,5,1,1,1,5,1,2,1,1,3,3,3,3,1,1,1,4,2,1,1,1,1,1,2,1,5,1,1,1,1,1,2,3,2,2,2,4,3,2,3,1,1,1,8,19,22,14,18,15,8,2,1,4,1,1,2,2,2,2,1,3,1,1,1,3,1,3,2,1,1,1,2,2,1,1,1,3,4,1,4,1,1,1,1,1,1,6,6,3,5,4,1,1,2,2,3,5,3,2,5,8,11,23,15,12,11,7,1,2,1,1,2,2,3,4,3,1,1,1,3,2,1,1,1,1,5,4,6,6,2,1,1,1,2,2,2,2,1,1,1,2,2,1,1,3,1,2,1,3,4,1,1,1,7,9,16,24,18,13,3,8,1,2,1,3,1,1,1,3,5,5,2,1,1,5,4,1,1,2,1,3,2,3,1,3,4,3,3,3,4,1,1,3,1,4,1,1,1,2,3,1,1,1,1,2,1,2,3,1,1,1,2,4,10,15,15,13,6,4,2,2,1,1,1,1,1,2,3,1,1,4,3,3,5,2,3,2,1,1,1,2,2,3,2,2,1,1,1,1,1,1,1,2,2,1,1,1,1,1,1,2,1,1,1,3,2,5,5,4,1,1,6,8,19,13,11,8,6,8,1,2,1,2,1,1,2,1,2,2,1,4,3,1,1,2,1,2,3,1,1,3,5,4,1,1,2,2,1,2,2,3,3,1,1,2,2,1,2,1,1,2,2,1,4,1,1,2,1,2,2,1,1,1,5,9,5,15,14,11,8,4,3,1,1,1,1,1,1,2,1,1,1,1,1,1,2,1,1,1,1,1,3,2,1,2,1,1,1,2,1,1,2,3,3,2,1,1,1,1,4,3,4,3,1,1,4,2,1,2,1,4,10,10,13,14,8,7,5,5,2,3,1,1,1,1,1,1,2,1,2,1,1,1,1,2,1,1,1,2,6,3,2,1,1,1,1,1,3,1,1,1,1,4,1,1,1,4,1,1,1,1,2,1,2,1,4,3,12,17,17,8,2,2,3,1,1,1,1,2,1,1,1,1,1,3,2,1,1,2,2,1,1,1,1,1,1,2,2,4,3,1,1,4,2,2,3,4,1,2,1,1,1,1,1,1,1,1,1,1,1,1,1,6,6,11,12,8,9,9,7,2,2,1,1,1,2,1,2,2,4,1,1,1,2,3,2,1,1,5,4,3,2,1,1,1,1,1,2,1,1,4,1,1,1,3,2,3,6,3,2,1,1,3,6,7,22,7,6,6,2,1,1,1,2,1,2,3,1,1,2,1,1,2,1,1,1,1,1,1,1,2,3,2,3,2,2,3,1,1,1,2,1,3,1,1,2,3,1,1,1,1,1,3,1,1,1,1,1,1,1,1,1,1,4,8,9,9,18,5,6,4,2,4,1,1,1,1,1,2,1,1,1,1,1,1,2,1,1,1,1,1,1,2,1,3,1,1,1,1,1,5,6,1,2,1,1,1,1,3,2,2,1,2,3,16,11,7,9,8,4,1,1,1,1,2,1,1,2,1,1,3,1,1,4,1,1,2,1,1,2,1,1,2,1,1,4,1,2,1,2,1,1,1,1,1,1,2,1,4,7,7,6,8,10,6,4,1,3,2,1,1,1,1,3,3,3,1,1,1,5,1,2,1,1,1,1,1,2,1,4,1,1,3,1,1,1,1,1,1,2,1,1,2,2,1,3,1,2,5,9,10,7,4,3,4,1,1,1,1,1,1,1,1,5,2,1,1,1,1,1,2,1,2,1,1,1,1,3,1,2,1,1,2,1,2,4,2,2,1,1,2,1,1,3,4,6,4,6,9,5,4,5,1,3,1,1,1,1,1,1,1,1,1,1,1,1,2,2,1,1,1,1,1,2,4,2,1,1,1,1,1,1,3,2,1,1,1,1,1,1,4,4,15,9,14,8,7,2,4,2,1,1,1,1,1,1,1,1,1,1,1,1,1,4,2,1,1,2,1,1,1,1,1,2,2,1,2,3,3,1,1,2,4,4,7,8,5,9,5,5,1,2,1,1,1,1,1,1,1,1,2,1,1,1,2,1,2,1,2,1,1,1,1,2,1,2,1,1,1,3,1,1,1,1,1,1,1,1,1,3,3,6,9,9,9,4,8,2,2,3,1,1,1,1,2,2,4,1,3,1,2,1,2,2,1,1,1,2,2,3,2,1,1,2,1,1,1,4,2,2,1,2,4,5,7,6,7,6,3,4,1,3,1,2,1,3,1,1,1,1,3,2,3,1,2,1,1,1,1,2,1,1,1,2,1,1,1,2,5,1,1,3,1,1,1,2,5,1,7,4,4,4,6,2,2,1,1,1,2,1,1,1,1,1,1,1,2,1,1,1,1,1,1,2,2,2,1,1,1,1,1,1,1,3,1,1,1,1,1,2,1,1,2,1,1,1,4,3,4,8,6,6,3,5,3,2,1,1,1,2,1,1,1,1,1,1,1,3,1,1,2,1,1,2,1,1,1,2,1,2,1,3,4,1,1,1,3,6,6,3,11,4,2,2,2,1,1,1,1,1,1,1,1,1,1,1,1,1,1,1,1,4,2,2,1,2,1,1,1,1,1,2,2,1,1,1,3,2,1,1,2,1,1,1,2,1,1,5,3,3,7,7,1,3,2,2,3,1,1,1,2,2,1,2,1,1,1,1,1,1,1,1,1,1,1,1,1,1,1,2,3,1,2,1,2,1,1,2,1,2,4,4,5,13,3,5,1,3,1,1,3,2,2,2,1,1,1,1,1,1,2,1,1,1,1,1,1,1,1,2,1,1,3,1,1,1,1,4,6,3,7,4,4,6,2,3,1,1,1,1,1,1,1,1,2,2,2,1,1,1,2,1,1,1,1,1,2,2,1,1,1,1,3,1,8,3,2,5,3,6,2,2,2,2,1,2,1,2,1,1,1,1,1,1,1,3,1,1,2,3,1,1,1,1,1,3,1,2,1,3,1,1,1,4,3,4,4,4,7,2,1,1,2,2,1,2,1,2,1,2,1,1,1,1,2,1,1,1,1,1,1,1,1,1,2,1,2,1,1,3,2,1,1,1,1,2,1,1,1,1,2,1,1,8,5,5,1,3,6,4,1,1,1,1,1,1,1,1,1,1,1,1,2,1,2,1,1,1,1,1,1,1,1,1,2,1,1,1,2,2,1,1,1,1,1,1,1,1,1,1,3,4,3,2,5,3,6,4,1,2,1,1,1,1,1,1,1,1,1,1,1,1,1,1,1,1,1,1,1,1,1,1,1,3,8,5,7,3,1,4,4,3,1,2,1,2,1,1,1,2,1,1,1,1,3,1,1,1,1,1,1,2,2,1,1,1,1,1,1,1,1,1,1,1,2,1,2,3,5,9,3,1,1,1,1,1,1,1,1,1,1,1,1,1,1,1,1,1,1,1,2,1,1,2,3,1,1,1,1,1,2,1,2,6,2,3,7,2,2,4,1,1,1,1,2,2,2,1,1,1,1,1,1,1,1,1,1,4,1,6,5,6,3,4,4,1,3,1,1,1,1,1,1,1,1,1,1,1,1,1,1,1,2,1,1,1,1,2,1,1,1,1,1,1,1,1,2,2,4,2,3,1,6,1,1,2,2,1,1,1,1,1,1,1,1,1,1,1,1,1,1,1,1,2,1,1,1,1,1,1,2,1,1,1,3,5,3,7,3,2,3,2,1,1,1,1,1,1,1,1,1,1,1,2,2,1,1,2,1,1,2,1,1,1,1,1,1,1,1,1,1,1,1,1,6,1,8,1,2,3,3,1,1,1,2,1,1,1,1,1,2,2,1,1,3,1,1,1,1,1,1,1,1,1,2,3,1,4,1,5,2,3,2,1,1,1,1,1,1,1,1,1,1,1,1,1,1,1,1,1,2,1,1,1,1,1,1,1,1,1,1,3,1,3,1,3,4,1,1,1,1,1,1,1,1,1,1,1,1,1,1,1,2,1,1,1,2,1,1,2,2,1,2,2,1,1,1,3,1,3,1,1,1,1,1,2,2,2,1,1,1,1,1,1,1,1,1,1,1,2,1,1,1,1,1,1,3,1,1,1,3,3,2,1,1,1,1,1,1,1,1,1,2,1,1,1,1,1,1,1,1,1,1,1,1,1,1,1,1,1,2,3,3,5,7,1,1,3,4,1,1,2,1,1,1,1,1,2,1,1,1,1,3,2,1,1,1,1,3,2,1,1,2,2,1,1,1,1,1,1,1,3,1,1,2,1,1,1,1,1,1,1,2,1,3,3,1,3,1,1,1,1,1,1,1,1,1,2,1,1,1,1,1,1,1,1,2,1,2,2,1,3,1,2,1,2,1,3,1,1,1,1,1,1,1,1,1,1,4,3,1,1,2,2,1,2,1,2,2,1,1,2,1,1,1,1,2,1,2,3,3,1,1,2,1,1,1,1,1,1,1,1,1,1,1,2,1,1,2,2,1,2,2,2,1,1,1,1,1,1,1,1,1,1,1,1,1,1,1,1,1,1,1,2,1,5,1,1,1,3,1,1,1,1,1,1,1,1,1,1,1,1,1,1,1,1,1,1,1,2,1,4,1,2,1,1,2,1,1,1,1,1,1,1,1,1,1,1,1,1,2,2,1,2,2,1,1,1,1,1,1,1,1,1,1,1,1,1,1,1,1,1,1,2,1,1,4,2,1,1,1,1,1,1,1,1,1,1,1,1,1,2,1,5,1,2,1,1,1,1,1,1,1,1,1,1,1,1,2,1,1,1,1,1,1,3,2,1,1,1,1,1,1,1,1,1,1,2,1,1,2,2,1,2,1,1,1,1,1,1,1,1,2,2,1,1,1,3,1,2,2,1,1,1,1,1,1,1,1,1,1,1,1,1,1,1,1,1,2,2,2,3,2,1,1,1,1,1,1,1,1,2,1,1,1,1,1,2,2,1,2,1,1,1,1,1,1,1,1,1,1,1,1,1,1,4,2,1,2,1,1,1,1,1,2,1,1,2,1,1,1,1,1,1,2,2,1,3,2,1,1,1,1,1,1,1,1,1,1,1,1,1,1,1,1,2,1,2,1,1,1,1,1,1,1,1,2,1,1,1,1,1,1,1,1,2,1,1,1,2,1,1,2,1,1,1,2,1,1,1,1,1,1,1,2,1,1,3,1,1,1,1,1,1,1,1,1,1,1,1,4,2,2,2,1,1,1,1,2,1,1,1,1,1,2,1,2,1,1,2,1,1,1,1,2,1,1,1,1,1,1,3,1,2,1,1,1,1,1,1,1,1,1,1,1,1,1,1,2,1,2,2,1,1,1,1,1,1,1,1,1,1,1,1,2,2,2,1,1,1,1,2,1,2,1,1,1,1,1,1,1,1,2,1,1,1,1,1,1,1,1,1,1,1,1,1,1,1,2,1,2,1,1,1,1,1,1,2,1,1,2,1,1,1,1,1,1,1,1,1,1,4,2,1,1,1,1,1,1,1,1,1,1,1,1,1,1,1,1,1,1,1,1,1,1,1,1,1,2,1,1,1,2,1,1,1,1,1,1,1,1,1,3,1,2,2,1,1,1,1,1,1,1,1,1,1,1,1,1,1,1,1,1,1,1,1,1,1,1,2,1,1,1,1,1,1,1,1,2,2,1,1,1,1,1,1,1,1,1,1,1,1,1,1,1,1,1,1,2,1,1,1,1,1,1,1,1,1,1,1,1,1,1,1,1,1,1,1,1,1,1,1,1,1,2,1,3,1,1,1,1,1,1,1,1,1,2,1,1,3,1,1,1,1,1,1,1,1,1,1,1,1,1,1,1,1,1,1,1,1,1,1,1,1,1,1,1,1,1,1,1,1,1,1,1,1,1,1,1,1,1,1,1,1,1,1,1,1,1,1,1,1,1,1,1,1,1,1,1,1,1,1,1,1,1,1,1,1,1,1,2,2,1,1,1,1,2,1,1,1,1,1,1,1,1,1,1,1,1,1,1,1,1,1,1,1,1,1,2,1,1,1,1,1,1,1,2,1,1,1,1,1,1,1,1,1,1,1,1,1,1,1,1,1,1,1,1,1,1,1,1,1,1,1,1,1,1,1,1,1,1,1,1,1,2,1,1,1,1,1,1,1,1,1,1,1,1,1,1,1,1,1,1,1,1,1,1,1,1,1,1,1,1,1,1,1,1,1,1,1,1,1,1,1,1,1,1,1,1,1,1,1,1,1,1,1,1,1,1,1,1,1,1,1,1,1,1,1,1,1,1,1,1,1,1,1,1,1,1,1,2,1,1,1,1,1,1,1,1,1,1,1,2,1,1,1,1,1,2,1,1,2,1,1,1,1,1,3,2,1,2,1,2,2,3,1,3,1,2,3,1,1,1,3,1,1,1,1,2,1,3,1,1,1,1,1,1,1,1,1,1,1,1,1,1,1,1,1,3,1,1,1,1,1,2,1,2,1,1,1,1,1,2,1,1,2,1,1,2,1,1,2,2,1,1,1,3,1,1,1,2,1,1,1,1,2,1,1,1,1,1,1,1,1,1,1,1,1,1,1,1,1,1,1,1,1,1,1,1,1,1,1,1,1,1,1,1,1,1,2,1,1,1,1,1,1,1,1,1,1,1,1,1,1,1,1,1,1,1,1,1,1,1,1,1,1,1,1,1,1,1,1],\"x\":[0,0,0,0,0,0,0,0,0,0,0,0,0,0,0,0,0,0,0,0,0,0,0,0,0,0,0,0,0,0,0,0,0,0,0,0,0,0,0,0,0,0,0,0,0,0,0,0,0,0,0,0,0,0,0,0,0,0,0,0,1,2,2,3,3,4,4,4,5,5,6,7,7,7,7,9,9,11,11,12,12,13,13,14,14,14,15,15,15,15,15,16,17,17,18,18,19,19,19,20,20,20,21,22,22,22,22,22,22,24,24,24,24,24,25,25,25,25,26,26,26,27,27,27,28,28,28,29,29,29,30,30,30,30,30,30,31,31,31,32,32,32,32,32,32,32,32,32,32,33,33,33,34,34,34,34,34,35,35,35,35,36,36,36,37,37,37,37,38,38,38,39,39,39,39,39,40,40,40,40,40,40,40,40,40,41,41,41,41,41,42,42,42,42,43,43,43,43,44,44,44,44,45,45,45,45,46,46,46,46,46,46,48,48,48,48,49,49,49,49,49,49,49,49,49,49,49,50,50,50,50,51,51,51,51,52,52,52,52,52,52,53,53,53,53,53,53,54,54,54,54,54,55,55,55,55,55,55,56,56,56,56,56,56,57,57,57,57,57,57,57,57,57,58,58,58,58,58,59,59,59,59,59,59,59,60,60,60,60,60,60,60,61,61,61,61,61,62,62,62,62,62,62,63,63,63,63,63,63,64,64,64,64,64,65,65,65,65,65,65,65,66,66,66,66,66,66,66,66,66,66,67,67,67,67,67,68,68,68,68,68,69,69,69,69,69,69,70,70,70,70,71,71,71,71,71,71,72,72,72,72,72,72,72,73,73,73,73,73,73,74,74,74,74,74,74,74,74,74,75,75,75,75,75,75,76,76,76,76,76,76,76,76,77,77,77,77,77,77,77,78,78,78,78,78,78,79,79,79,79,79,79,79,80,80,80,80,80,81,81,81,81,81,81,82,82,82,82,82,82,82,82,82,83,83,83,83,83,84,84,84,84,84,84,85,85,85,85,85,85,85,86,86,86,86,86,87,87,87,87,87,87,87,88,88,88,88,88,88,88,88,89,89,89,89,89,89,90,90,90,90,90,90,91,91,91,91,91,91,91,91,91,91,91,92,92,92,92,92,92,93,93,93,93,93,93,93,94,94,94,94,94,94,94,94,95,95,95,95,95,95,95,97,97,97,97,97,97,97,98,98,98,98,98,98,98,99,99,99,99,99,99,99,99,99,99,100,100,100,100,100,100,101,101,101,101,101,101,102,102,102,102,102,102,102,103,103,103,103,103,103,103,103,104,104,104,104,104,104,104,105,105,105,105,105,105,106,106,106,106,106,106,106,107,107,107,107,108,108,108,108,108,108,108,108,108,108,109,109,109,109,109,109,109,109,110,110,110,110,110,110,110,110,111,111,111,111,111,111,111,111,111,112,112,112,112,112,112,113,113,113,113,113,113,114,114,114,114,114,114,114,115,115,115,115,115,115,116,116,116,116,116,116,116,116,116,117,117,117,117,117,118,118,118,118,118,118,118,119,119,119,119,119,119,119,119,119,119,120,120,120,120,120,120,120,121,121,121,121,121,121,121,122,122,122,122,122,123,123,123,123,123,123,123,123,123,124,124,124,124,124,124,124,124,124,124,125,125,125,125,125,126,126,126,126,126,126,126,127,127,127,127,127,127,127,128,128,128,128,128,128,128,128,129,129,129,129,129,129,129,129,130,130,130,130,130,130,130,131,131,131,131,131,131,131,131,132,132,132,132,132,132,132,132,133,133,133,133,133,133,133,133,133,133,133,134,134,134,134,134,134,134,134,134,135,135,135,135,135,135,135,136,136,136,136,136,137,137,137,137,137,137,137,138,138,138,138,138,139,139,139,139,139,139,139,140,140,140,140,140,140,140,140,140,141,141,141,141,141,141,141,141,141,141,141,142,142,142,142,142,142,142,142,143,143,143,143,143,143,143,144,144,144,144,144,144,144,144,145,145,145,145,145,145,145,146,146,146,146,146,146,147,147,147,147,147,147,147,147,148,148,148,148,148,148,148,148,149,149,149,149,149,149,150,150,150,150,150,150,150,150,150,150,150,150,151,151,151,151,151,151,151,152,152,152,152,152,152,152,152,153,153,153,153,153,153,153,154,154,154,154,154,155,155,155,155,155,156,156,156,156,156,156,156,156,156,157,157,157,157,157,158,158,158,158,158,158,158,158,158,158,158,158,158,159,159,159,159,159,159,160,160,160,160,160,160,161,161,161,161,161,161,161,161,161,162,162,162,162,162,162,162,162,163,163,163,163,163,163,163,164,164,164,164,164,164,165,165,165,165,166,166,166,166,166,166,166,166,166,166,166,168,168,168,168,168,168,168,168,168,170,170,170,170,170,170,170,172,172,172,172,172,172,172,173,173,173,173,173,173,173,173,173,174,174,174,174,174,175,175,175,175,175,175,175,175,175,175,175,176,176,176,176,176,176,177,177,177,177,177,177,177,178,178,178,178,178,178,178,178,179,179,179,179,179,179,179,180,180,180,180,180,181,181,181,181,181,181,182,182,182,182,182,182,182,183,183,183,183,183,183,183,183,183,183,183,184,184,184,184,184,184,185,185,185,185,185,185,185,185,185,186,186,186,186,186,186,186,186,186,187,187,187,187,187,187,187,187,187,189,189,189,189,189,189,189,191,191,191,191,191,191,191,191,191,191,191,191,191,191,192,192,192,192,192,192,194,194,194,194,194,194,194,195,195,195,195,196,196,196,196,196,197,197,197,197,197,197,197,198,198,198,198,198,198,198,198,198,199,199,199,199,199,199,200,200,200,200,200,200,200,200,200,200,200,200,201,201,201,201,201,201,202,202,202,202,202,202,202,203,203,203,203,203,203,203,204,204,204,204,204,204,204,204,205,205,205,205,205,205,205,205,206,206,206,206,206,206,206,207,207,207,207,207,207,207,207,207,208,208,208,208,208,208,208,208,208,208,208,208,210,210,210,210,210,210,210,212,212,212,212,212,212,212,212,213,213,213,213,213,213,213,213,214,214,214,214,214,214,214,215,215,215,215,215,216,216,216,216,216,216,216,217,217,217,217,217,217,217,217,217,217,217,217,217,218,218,218,218,218,218,219,219,219,219,219,219,219,219,219,219,220,220,220,220,220,220,220,221,221,221,221,221,222,222,222,222,222,222,222,223,223,223,223,224,224,224,224,224,224,224,224,224,225,225,225,225,225,225,225,225,225,225,225,225,226,226,226,226,226,226,227,227,227,227,227,227,228,228,228,228,228,229,229,229,229,229,229,229,229,230,230,230,230,230,230,231,231,231,231,231,231,231,231,231,232,232,232,232,232,232,233,233,233,233,233,234,234,234,234,234,234,234,234,234,234,234,234,234,234,235,235,235,235,235,235,235,235,236,236,236,236,236,236,236,237,237,237,237,238,238,238,238,238,239,239,239,239,239,240,240,240,240,240,240,240,240,240,241,241,241,241,241,241,242,242,242,242,242,242,242,242,242,242,242,242,243,243,243,243,243,243,244,244,244,244,244,244,245,245,245,245,245,245,245,245,245,246,246,246,246,246,246,247,247,247,247,247,247,248,248,248,248,249,249,249,249,250,250,250,250,250,250,250,250,250,250,250,251,251,251,251,252,252,252,252,252,252,253,253,253,253,253,253,253,254,254,254,254,255,255,255,255,255,255,256,256,256,256,256,256,257,257,257,257,257,257,257,257,258,258,258,258,258,258,258,259,259,259,259,259,259,259,259,259,259,259,259,259,259,260,260,260,260,260,261,261,261,261,261,261,261,262,262,262,262,262,262,262,263,263,263,263,263,263,263,263,264,264,264,264,265,265,265,265,265,265,265,265,266,266,266,266,266,266,267,267,267,267,267,267,267,267,267,267,267,267,267,267,267,268,268,268,269,269,269,269,270,270,270,270,270,270,270,271,271,271,271,271,271,271,272,272,272,272,272,272,272,273,273,273,273,273,273,273,274,274,274,274,275,275,275,275,275,275,275,275,276,276,276,276,276,276,276,276,276,276,276,276,276,277,277,277,277,277,277,277,278,278,278,278,278,278,278,279,279,279,279,279,279,279,280,280,280,280,280,281,281,281,281,281,282,282,282,282,282,282,282,282,282,283,283,283,283,284,284,284,284,284,284,284,284,284,284,284,284,284,284,285,285,285,285,285,285,285,285,285,285,286,286,286,286,287,287,287,287,287,287,287,288,288,288,288,288,288,288,289,289,289,289,289,290,290,290,290,290,291,291,291,292,292,292,292,292,292,292,292,292,292,292,292,292,293,293,293,293,294,294,294,294,294,294,295,295,295,295,295,295,295,295,296,296,296,296,296,296,296,297,297,297,297,297,297,297,297,297,298,298,298,298,298,299,300,300,300,300,301,301,301,301,301,301,301,301,301,301,301,301,301,302,302,302,302,303,303,303,303,304,304,304,304,304,305,305,305,305,305,305,305,305,306,306,306,306,307,307,307,307,308,308,308,308,308,308,308,308,308,309,309,309,309,309,309,309,309,309,309,309,310,310,310,310,310,310,310,311,311,311,311,311,311,311,312,312,312,312,312,313,313,313,313,313,313,314,314,314,314,314,315,315,315,315,315,315,315,316,316,316,316,316,316,316,316,316,317,317,317,317,318,318,318,318,318,318,318,318,318,318,318,319,319,319,319,319,319,319,319,320,321,321,321,321,322,322,322,322,322,322,323,323,323,323,324,324,324,324,324,324,324,324,325,325,325,325,325,325,326,326,326,326,326,326,326,326,326,326,326,326,326,327,327,327,328,328,329,329,329,329,329,329,329,329,329,330,330,330,330,331,331,331,331,331,332,332,332,332,332,332,332,333,333,333,333,334,334,334,334,334,334,334,334,334,334,334,334,334,334,335,335,335,335,335,335,335,337,337,337,337,338,338,338,338,339,339,339,339,339,339,339,339,340,340,340,340,340,340,340,341,341,341,341,342,342,342,342,342,342,342,342,342,342,342,344,344,344,345,345,345,345,345,345,345,345,347,347,347,347,347,347,348,348,348,348,348,348,349,349,349,349,350,350,350,350,350,350,350,350,351,351,351,351,351,351,351,351,351,351,351,351,351,352,352,352,352,353,353,353,353,353,354,354,354,355,355,355,355,355,356,356,356,356,356,356,356,356,356,358,358,358,359,359,359,359,359,359,360,360,360,360,360,360,360,360,360,360,360,360,360,361,361,361,361,361,362,362,362,363,363,363,363,363,363,363,363,363,365,365,365,365,365,365,366,366,366,366,366,368,368,368,368,368,368,368,368,368,368,368,368,368,369,369,369,369,369,369,370,370,370,370,370,371,371,371,371,371,371,371,371,372,372,372,373,373,373,373,373,374,374,374,374,374,375,375,375,376,376,376,376,376,376,376,376,376,376,376,376,376,376,377,377,377,377,377,379,379,379,379,380,380,380,380,381,381,381,381,381,382,382,382,382,382,382,383,383,383,384,384,384,384,384,384,384,384,384,384,384,384,384,384,386,386,386,386,387,387,387,387,387,387,387,387,389,390,390,390,390,390,390,391,391,391,391,392,392,392,392,392,392,392,392,393,393,393,393,393,393,393,393,393,393,393,394,394,394,394,395,395,395,395,395,396,396,396,396,396,396,397,397,397,397,397,397,397,397,397,398,398,398,398,398,398,398,398,400,400,400,401,401,401,402,402,402,402,402,402,402,402,402,402,402,402,402,402,402,403,403,403,403,403,404,404,405,405,405,405,405,405,407,407,407,407,407,407,407,407,408,408,408,408,408,410,410,410,410,410,410,410,410,410,410,410,410,410,410,411,411,411,411,411,411,412,412,412,412,413,413,413,413,413,413,413,413,413,414,414,415,415,415,415,415,416,416,416,416,416,416,416,417,417,417,417,418,418,418,418,418,418,418,418,418,418,418,418,418,418,419,419,419,419,419,419,421,421,421,421,421,422,422,422,423,423,423,423,423,423,423,423,424,424,424,424,424,425,426,426,426,426,426,426,426,426,426,426,426,428,428,428,428,429,430,430,430,430,430,430,431,431,432,432,432,433,433,433,433,434,434,434,434,434,434,434,435,435,435,435,435,435,435,435,435,435,435,436,436,436,437,437,437,437,438,438,438,438,439,439,439,439,440,440,441,441,441,441,441,443,443,443,444,444,444,444,444,444,444,444,444,444,444,444,444,444,445,445,445,446,446,447,447,448,448,448,449,449,449,449,449,449,449,449,450,450,450,450,451,451,451,451,452,452,452,452,452,452,452,452,452,452,452,452,452,452,452,452,453,453,453,454,454,455,455,455,455,455,455,455,455,456,456,456,456,456,456,456,456,457,457,457,457,458,458,458,458,458,459,459,459,459,460,460,460,460,460,460,460,460,460,460,460,460,460,460,461,461,461,462,462,462,462,462,462,462,463,463,463,464,464,464,464,465,465,465,465,465,466,466,466,466,466,466,467,467,467,468,468,469,469,469,469,469,469,469,469,469,469,469,469,469,470,470,470,470,470,471,471,472,472,472,472,472,472,473,473,474,475,475,475,476,476,477,477,477,477,477,477,477,477,477,477,478,478,478,479,479,479,479,479,479,480,481,481,481,481,481,481,482,482,482,482,482,482,483,483,483,483,484,484,484,484,485,486,486,486,486,486,486,486,486,486,486,486,486,487,487,488,488,489,489,490,490,490,490,490,490,491,491,491,491,491,491,491,491,491,492,492,492,493,493,494,494,494,494,494,494,494,494,494,495,495,496,497,497,497,497,497,498,500,500,500,500,501,501,502,502,502,502,502,502,502,502,502,502,502,502,503,503,503,504,504,504,504,504,505,505,505,505,505,506,506,507,507,507,507,507,507,507,507,507,508,509,510,511,511,511,511,511,511,511,511,511,511,511,511,511,512,512,512,512,513,513,513,513,514,514,514,514,514,515,515,515,515,515,517,517,517,517,518,518,518,519,519,519,519,519,519,519,519,519,519,519,519,519,519,519,520,520,521,522,522,522,522,523,523,523,523,523,524,525,525,525,525,526,526,526,526,527,527,527,527,528,528,528,528,528,528,528,528,528,528,529,529,529,529,529,529,530,530,531,531,532,532,533,533,533,533,534,535,535,535,536,536,536,536,536,536,536,536,536,536,536,536,536,537,537,537,538,538,538,538,538,539,539,539,540,541,541,541,541,542,543,543,543,543,543,544,544,544,544,544,544,544,544,544,544,544,545,546,546,546,546,547,547,547,547,548,548,548,548,550,551,551,551,552,552,552,553,553,553,553,553,553,553,553,553,553,553,553,553,554,554,554,554,554,554,554,555,555,555,556,556,557,557,558,558,558,558,559,559,559,560,560,561,561,561,561,561,561,561,561,561,561,561,562,563,563,564,564,565,565,565,565,565,566,566,566,566,566,567,567,567,568,569,569,569,569,570,570,570,570,570,570,570,570,570,570,571,571,572,572,572,572,572,572,574,575,575,575,575,576,576,576,577,577,577,578,578,578,578,578,578,578,578,578,579,580,580,580,580,580,580,580,580,581,581,581,583,584,584,585,586,586,586,586,586,586,586,586,586,587,590,590,591,591,591,591,592,592,592,594,594,595,595,595,595,595,595,595,595,595,595,596,596,596,598,599,599,599,600,601,601,601,602,603,603,603,603,603,603,603,603,603,603,603,604,605,606,606,607,607,607,609,609,612,612,612,612,612,612,612,612,612,612,613,614,615,616,616,616,617,618,619,619,619,620,620,620,620,620,620,620,620,620,620,620,621,621,622,622,623,623,623,623,623,625,626,626,627,627,628,628,628,628,628,628,628,628,628,628,630,630,632,632,632,633,634,634,635,636,636,636,637,637,637,637,637,637,637,637,637,637,638,638,638,638,638,638,639,639,639,641,642,642,643,643,643,644,645,645,645,645,645,645,645,645,646,647,647,648,648,648,649,649,649,649,651,652,652,654,654,654,654,654,654,654,654,654,654,654,655,657,657,657,658,659,659,662,662,662,662,662,662,662,662,662,662,662,664,664,664,664,665,665,666,667,667,667,667,670,670,670,670,670,670,670,670,670,672,672,672,672,673,675,676,679,679,679,679,679,679,679,679,680,680,681,682,683,685,686,686,686,686,686,686,686,686,686,686,688,690,691,691,691,691,691,692,692,693,693,693,693,694,696,696,696,696,696,696,696,696,696,696,696,697,698,698,698,698,699,699,701,701,702,704,704,704,704,704,704,704,704,704,704,705,705,705,706,707,710,711,711,712,712,712,712,712,712,712,713,713,714,714,714,714,717,717,717,720,721,721,721,721,721,721,721,721,721,722,722,723,724,724,724,724,726,726,727,727,728,728,728,728,728,728,728,728,728,728,730,731,731,731,732,732,732,732,735,735,735,736,736,736,738,738,738,738,738,738,738,738,738,740,741,742,742,743,743,744,744,744,746,746,746,746,746,746,746,747,747,748,748,749,749,749,752,752,753,754,754,754,754,754,754,756,756,756,757,757,759,760,761,763,763,763,763,763,763,763,763,764,766,767,768,769,769,770,770,770,770,770,770,772,773,774,774,774,774,774,776,777,777,777,777,778,778,778,780,780,780,780,780,782,783,783,784,784,785,785,785,786,788,788,788,788,788,789,790,791,793,796,796,796,797,798,798,798,798,799,801,801,803,805,805,805,805,805,805,805,806,807,810,811,811,811,812,812,812,812,812,817,819,819,820,822,822,822,822,822,822,823,824,825,826,828,828,828,830,830,830,830,830,830,830,830,831,831,832,833,835,837,837,837,838,838,838,838,838,838,839,840,843,843,843,844,847,847,847,850,853,854,854,856,857,857,858,858,859,859,862,864,864,864,864,866,866,869,869,869,869,871,871,872,872,872,872,872,872,872,872,872,873,874,874,876,876,880,880,880,882,882,886,887,888,889,889,889,889,889,890,890,893,894,895,895,895,896,897,897,897,897,899,899,900,900,902,905,905,905,906,906,906,907,907,907,907,907,909,910,913,913,914,914,914,914,914,915,915,916,917,917,918,922,922,922,922,922,922,924,924,924,927,928,931,931,937,937,939,939,939,939,939,940,941,943,943,945,947,947,947,947,947,949,949,953,956,956,961,963,964,964,964,965,966,968,968,969,970,972,973,973,974,974,974,975,978,978,981,981,981,981,983,983,987,989,989,989,994,995,998,998,999,1000,1001,1005,1005,1006,1009,1010,1015,1015,1015,1016,1016,1017,1017,1021,1021,1023,1023,1027,1028,1029,1031,1031,1031,1031,1031,1031,1040,1047,1047,1048,1048,1048,1048,1049,1049,1053,1057,1058,1062,1062,1062,1063,1063,1065,1065,1065,1065,1068,1069,1072,1073,1073,1073,1084,1084,1086,1087,1090,1090,1091,1099,1100,1102,1103,1104,1107,1107,1107,1107,1107,1113,1115,1115,1116,1118,1122,1124,1124,1130,1131,1132,1141,1149,1151,1155,1157,1157,1157,1165,1166,1167,1174,1174,1174,1174,1182,1183,1183,1183,1184,1186,1189,1191,1208,1208,1214,1216,1225,1225,1230,1233,1233,1233,1236,1241,1241,1241,1245,1246,1250,1250,1257,1258,1258,1266,1267,1268,1272,1275,1278,1288,1288,1292,1292,1295,1297,1300,1304,1309,1309,1317,1317,1325,1325,1325,1334,1346,1351,1353,1357,1359,1367,1367,1367,1380,1384,1384,1384,1384,1386,1387,1388,1393,1393,1393,1394,1396,1399,1401,1401,1403,1403,1403,1409,1417,1419,1424,1424,1426,1426,1435,1440,1443,1443,1445,1447,1451,1451,1453,1456,1459,1468,1472,1477,1477,1480,1483,1485,1491,1493,1495,1501,1506,1508,1510,1514,1518,1519,1519,1520,1524,1527,1527,1529,1532,1535,1535,1540,1540,1542,1543,1543,1545,1547,1548,1552,1556,1561,1570,1574,1574,1576,1577,1577,1583,1585,1585,1587,1590,1592,1597,1597,1600,1602,1603,1606,1606,1611,1611,1618,1619,1623,1624,1627,1631,1634,1636,1637,1637,1640,1642,1645,1645,1645,1667,1669,1673,1678,1678,1678,1687,1687,1688,1690,1695,1699,1702,1703,1708,1711,1711,1723,1726,1729,1730,1737,1743,1747,1754,1755,1757,1760,1762,1762,1770,1770,1770,1772,1776,1779,1785,1786,1791,1796,1804,1812,1841,1842,1845,1871,1871,1871,1888,1900,1936,1938,1955,1955,2079,2098,2154,2266,2270,2291,2401,2436,2476,2493,2493,2556,2669,2832,2871,3274,3394,3945,3999],\"y\":[0,17,21,25,28,32,36,43,49,51,56,58,62,64,66,68,72,73,76,81,82,83,88,92,99,109,111,126,133,148,152,170,197,218,223,236,247,298,313,335,372,387,440,447,481,501,514,522,543,597,649,686,859,896,926,982,1120,1494,2503,3999,103,17,21,0,17,0,17,21,21,25,21,17,21,25,387,21,25,17,55,0,21,21,25,21,25,28,21,25,28,32,40,21,21,25,28,32,21,25,32,0,21,25,28,21,25,28,36,47,2241,21,25,28,32,148,21,25,28,36,21,25,28,21,25,28,25,28,32,21,25,28,21,25,28,32,36,47,25,28,32,0,17,21,25,28,32,36,40,62,73,25,28,36,0,25,28,32,36,25,28,32,62,25,28,32,25,28,32,36,25,28,32,25,28,32,40,43,17,25,28,32,36,40,43,47,73,25,28,32,36,40,25,28,32,36,25,28,32,40,25,28,32,36,25,28,32,36,0,25,28,32,36,40,28,32,36,43,17,25,28,32,36,40,43,47,51,58,81,28,32,36,40,28,32,36,40,28,32,36,40,47,51,0,28,32,36,40,55,28,32,36,40,43,28,32,36,40,43,47,28,32,36,40,43,55,17,28,32,36,40,43,47,51,55,28,32,36,40,43,0,28,32,36,40,43,47,28,32,36,40,43,47,58,28,32,36,40,43,28,32,36,40,43,47,28,32,36,40,43,47,28,32,36,40,47,28,32,36,40,43,47,55,17,28,32,36,40,43,47,51,55,70,32,36,40,43,47,36,40,43,47,51,32,36,40,43,47,58,32,36,40,43,32,36,40,43,47,55,32,36,40,43,47,51,55,32,36,40,43,47,58,32,36,40,43,47,51,55,58,62,32,36,40,43,47,51,0,32,36,40,43,47,51,55,32,36,40,43,47,51,55,32,36,40,43,47,55,32,36,40,43,47,51,55,36,40,43,47,51,0,36,40,43,47,51,32,36,40,43,47,51,55,58,62,36,40,43,47,51,36,40,43,47,51,55,36,40,43,47,51,55,62,36,40,43,47,51,36,40,43,47,51,55,107,36,40,43,47,51,55,58,62,36,40,43,47,51,55,36,40,43,47,51,62,17,36,40,43,47,51,55,58,62,66,70,36,40,43,47,51,55,36,40,43,47,51,55,66,36,40,43,47,51,55,58,62,36,40,43,47,51,55,58,40,43,47,51,55,62,66,40,43,47,51,55,58,62,17,40,43,47,51,55,58,62,66,73,40,43,47,51,55,58,40,43,47,51,55,58,40,43,47,51,55,58,62,40,43,47,51,55,58,62,70,40,43,47,51,55,58,66,43,47,51,55,58,62,40,43,47,51,55,58,66,43,47,51,55,0,40,43,47,51,55,58,62,66,70,43,47,51,55,58,62,66,73,40,43,47,51,55,58,62,66,40,43,47,51,55,58,62,66,70,40,43,47,51,55,58,43,47,51,55,58,62,43,47,51,55,58,62,66,47,51,55,58,62,70,43,47,51,55,58,62,66,70,372,47,51,55,58,62,47,51,55,58,62,66,70,43,47,51,55,58,62,66,70,73,84,43,47,51,55,58,62,66,43,47,51,55,58,62,66,47,51,55,58,62,43,47,51,55,58,62,66,73,77,43,47,51,55,58,62,66,70,73,88,47,51,55,58,62,43,47,51,55,58,62,73,43,51,55,58,62,66,70,43,47,51,55,58,62,66,70,47,51,55,58,62,66,70,88,47,51,55,58,62,70,73,47,51,55,58,62,66,70,77,51,55,58,62,66,70,73,88,43,47,51,55,58,62,66,70,73,77,84,47,51,55,58,62,70,73,77,81,47,51,55,58,62,66,77,51,55,58,62,66,47,51,55,58,62,66,70,51,55,58,62,66,47,51,55,58,62,66,70,47,51,55,58,62,66,70,73,84,47,51,55,58,62,66,70,73,77,81,92,51,55,58,62,66,84,387,440,51,55,58,62,66,70,81,51,55,58,62,66,70,81,99,51,55,58,62,66,70,73,51,55,58,62,66,70,51,55,58,62,66,70,81,84,51,55,58,62,66,70,73,77,47,55,58,62,66,70,51,55,58,62,66,70,73,77,81,84,92,99,55,58,62,66,70,73,77,51,55,58,62,66,70,73,77,55,58,62,66,70,73,77,58,62,66,73,77,55,58,62,70,81,51,55,58,62,66,70,73,77,92,51,55,66,70,73,17,51,55,58,62,66,70,73,77,81,84,96,107,55,58,62,66,70,73,55,58,62,66,70,73,51,55,58,62,66,70,73,77,81,55,58,62,66,70,73,77,88,58,62,66,70,73,81,84,55,62,66,70,73,84,62,66,70,73,55,58,62,66,70,73,77,81,84,96,99,55,58,62,66,70,73,77,81,84,55,58,62,66,70,73,77,58,62,66,70,73,77,81,55,58,62,66,70,73,77,84,96,66,70,73,77,81,55,58,62,66,70,73,77,81,84,88,92,62,66,70,73,77,88,58,62,66,70,73,77,84,58,62,66,70,73,81,84,88,62,66,70,73,77,81,84,58,62,66,70,73,58,62,66,70,73,81,58,62,66,70,73,77,81,58,62,66,70,73,77,81,84,88,92,107,62,66,70,81,84,88,58,66,70,73,77,81,88,92,99,62,66,70,73,77,81,84,88,103,58,62,66,70,73,77,81,84,96,62,66,70,73,77,81,84,58,62,66,70,73,77,81,84,88,92,96,99,107,111,62,66,70,73,77,81,62,70,73,77,81,88,92,70,77,81,92,66,70,73,84,88,58,62,66,70,73,77,81,58,62,66,70,73,77,81,84,99,66,70,73,77,81,96,62,66,70,73,77,81,84,88,92,96,99,111,62,70,73,77,84,99,66,70,73,77,81,84,88,66,70,73,77,81,84,88,66,70,73,77,81,84,88,92,62,70,73,77,81,84,92,96,62,70,73,77,81,88,96,66,70,73,77,81,84,88,92,99,62,66,70,73,77,81,84,88,92,96,99,103,70,73,77,81,84,88,99,62,66,70,73,77,81,84,88,70,73,77,81,84,88,92,96,70,73,77,81,84,92,96,70,73,77,81,84,73,77,81,84,88,92,96,66,70,73,77,81,84,88,92,96,99,103,126,129,73,77,81,84,88,92,66,70,73,77,81,84,88,92,96,103,66,70,73,77,81,88,92,77,81,84,88,92,66,73,77,81,84,88,92,77,81,84,88,66,70,73,77,81,84,88,92,111,66,70,73,77,81,84,88,92,96,99,107,111,73,77,81,84,88,96,73,77,81,84,92,96,73,77,81,84,96,73,77,81,84,88,92,99,387,77,81,88,92,96,107,70,73,77,81,84,92,99,103,118,73,77,81,84,92,96,77,81,84,88,92,17,70,73,77,81,84,88,92,96,99,103,107,114,133,73,77,81,84,88,92,96,111,70,73,81,84,88,92,96,81,84,96,103,73,81,84,88,96,73,77,81,88,92,73,77,81,84,88,92,96,99,103,73,77,81,84,88,99,73,77,81,84,88,92,96,99,103,107,111,114,77,81,84,88,92,99,77,81,84,88,92,137,70,73,81,84,88,92,96,107,122,73,81,84,88,103,122,70,73,77,81,84,88,84,88,92,107,84,88,92,96,73,77,81,84,88,92,96,99,103,107,114,81,84,88,96,73,81,84,88,92,99,81,84,88,92,96,99,103,84,92,96,107,81,84,88,92,96,99,73,81,84,88,92,96,77,84,88,92,99,118,122,167,77,84,88,92,96,99,103,77,81,84,88,92,96,99,103,107,114,118,133,144,365,77,81,84,88,92,81,84,88,92,96,99,103,73,77,81,84,92,99,103,81,84,88,92,96,103,114,118,84,88,92,387,77,84,88,92,96,99,103,107,84,88,92,96,99,103,77,81,84,88,92,96,99,103,107,111,114,118,122,126,533,88,96,99,88,92,96,99,77,81,92,96,99,103,107,77,84,88,92,99,103,118,84,88,92,96,99,103,111,81,88,92,96,103,107,111,92,96,103,111,77,84,88,92,96,99,103,107,77,81,84,88,92,96,99,103,107,111,114,118,133,81,84,88,96,99,111,129,81,88,92,96,99,103,122,84,92,99,103,114,122,126,84,96,107,114,126,92,96,99,103,107,84,88,92,96,99,103,107,111,114,88,92,96,99,81,84,88,92,96,99,103,107,111,114,118,122,126,447,81,84,88,92,96,99,103,107,114,447,81,99,107,114,84,88,92,99,103,114,118,0,84,88,99,103,107,122,92,99,103,107,111,96,99,103,107,111,92,99,111,81,88,92,96,99,103,107,111,118,126,133,167,298,88,96,99,114,88,92,96,99,103,111,81,96,99,107,111,118,122,126,88,92,96,99,103,107,111,92,96,99,103,107,114,118,152,522,92,99,103,107,111,92,99,103,107,118,84,88,92,96,99,103,107,111,114,118,122,126,372,96,99,103,107,88,99,107,114,92,99,103,107,122,84,92,103,107,111,118,159,372,92,107,118,122,88,99,103,107,92,96,103,107,111,114,118,122,126,92,96,99,103,107,111,118,122,126,141,447,96,99,103,107,114,118,122,99,103,111,114,118,122,219,88,92,99,103,111,96,99,107,111,114,122,96,99,103,107,111,96,99,103,107,114,126,129,88,92,96,99,103,111,118,129,144,96,99,111,114,92,96,99,103,107,111,114,118,122,126,129,88,92,96,103,107,111,114,118,103,92,96,99,118,92,96,107,111,114,122,107,111,122,126,96,99,103,107,111,122,126,129,88,92,99,103,111,114,92,96,99,103,107,111,114,118,122,126,129,152,357,111,114,118,103,114,92,96,99,103,107,111,114,122,129,92,107,118,126,99,107,111,114,122,96,99,103,114,118,122,129,103,107,114,141,96,99,103,107,111,114,118,122,126,129,133,137,167,447,103,107,111,114,118,129,144,111,114,122,137,107,111,118,122,99,103,107,111,114,118,122,133,92,103,107,111,122,126,137,107,111,114,118,96,99,103,107,111,114,118,122,126,148,372,107,118,122,96,99,107,111,114,126,141,152,96,103,114,118,122,133,99,103,107,111,114,118,96,107,111,126,92,111,114,118,122,126,129,148,96,99,103,107,111,114,118,122,126,129,133,137,144,99,103,114,126,107,111,114,118,122,103,107,129,107,111,114,122,129,103,111,118,122,126,129,133,137,144,111,114,118,99,111,122,126,129,148,103,107,111,114,118,122,126,129,133,141,170,260,298,107,111,126,129,148,114,122,129,103,107,111,114,118,122,129,133,372,107,114,118,122,126,129,107,114,122,126,144,103,107,111,114,118,122,126,129,133,137,141,152,335,107,122,126,129,141,197,107,111,114,118,126,103,107,111,114,118,122,126,156,114,118,122,107,111,114,118,126,114,118,122,129,137,111,122,126,107,111,114,118,122,126,129,133,137,141,144,152,159,335,107,114,118,122,126,111,114,118,129,103,122,126,141,114,118,122,126,133,107,111,114,122,129,133,118,122,129,107,111,114,118,122,126,129,133,137,141,144,148,152,159,118,126,129,141,107,114,118,126,129,133,137,156,129,107,114,118,122,137,141,118,122,133,144,107,114,122,126,129,133,141,298,111,114,118,122,126,129,133,137,144,156,447,114,118,137,144,111,118,122,129,156,107,114,122,126,129,137,111,118,122,126,129,133,141,144,387,111,118,122,129,133,137,144,156,118,137,163,114,118,174,107,111,114,118,122,126,129,133,137,141,144,148,156,159,163,114,126,133,141,174,129,159,122,129,133,137,144,152,114,122,126,129,133,137,144,170,122,126,129,133,137,111,114,122,126,129,133,137,141,144,148,152,159,163,167,118,122,133,137,141,159,122,129,133,144,111,122,126,129,133,137,141,144,152,126,152,126,129,137,148,174,111,122,126,129,133,137,152,122,137,141,170,111,114,118,122,126,129,133,137,141,144,148,152,163,185,122,129,133,137,141,152,126,129,137,141,148,129,137,148,114,118,126,133,137,141,144,152,122,126,129,152,204,129,114,118,122,126,129,133,137,141,144,152,156,129,137,144,152,148,114,118,126,156,163,189,133,137,133,137,178,126,129,144,159,118,122,129,141,156,159,447,118,126,129,133,137,141,144,148,156,163,178,129,144,152,118,148,170,447,133,137,141,159,133,141,148,152,137,144,122,129,137,144,148,122,148,152,118,122,126,129,133,137,141,144,148,152,156,163,174,197,137,148,189,122,137,163,170,129,133,137,126,133,137,141,144,148,159,167,129,133,144,148,141,144,152,156,118,126,129,133,137,141,144,148,152,156,159,163,167,170,174,178,129,133,144,126,174,126,133,137,141,144,152,156,185,118,129,141,144,148,156,167,170,137,156,159,193,129,137,141,159,167,126,129,137,144,129,133,137,141,144,148,152,156,159,163,170,178,335,372,133,156,167,129,133,137,144,148,159,185,137,141,148,129,141,159,372,133,148,152,156,185,129,141,144,148,152,163,129,141,163,141,159,129,133,137,141,144,148,152,156,163,167,170,193,197,133,141,148,159,167,129,148,129,133,137,141,144,148,144,170,137,144,148,167,133,141,133,137,141,144,148,152,156,159,163,313,141,148,152,126,129,141,144,159,170,156,129,141,144,148,159,197,133,141,144,148,152,156,137,144,156,159,144,148,156,170,133,133,137,141,144,148,152,156,159,163,167,170,178,144,167,167,212,129,137,137,141,144,148,156,185,129,141,144,148,152,156,163,167,170,137,148,152,144,156,137,144,148,152,156,159,163,167,178,144,174,156,141,144,148,152,170,144,141,144,156,159,133,144,137,141,144,148,152,156,159,163,167,170,174,223,141,144,174,137,141,148,163,167,141,144,148,156,167,163,178,137,141,144,152,159,167,174,178,182,159,141,170,126,141,144,148,152,156,159,163,167,170,174,178,189,152,159,167,170,141,152,156,167,137,152,163,170,197,141,148,170,185,313,144,152,170,182,152,156,159,137,141,148,152,156,159,163,167,170,174,178,182,189,241,372,148,167,178,148,152,159,163,144,152,156,200,447,163,156,167,170,174,137,148,152,170,144,156,159,170,148,152,156,159,163,167,170,174,204,212,144,148,159,167,174,182,148,170,156,167,159,167,152,156,159,167,148,141,152,174,141,144,156,159,163,167,170,174,178,185,189,193,301,156,167,174,148,159,163,182,212,156,163,193,163,148,152,159,167,148,144,152,156,174,387,144,148,152,156,159,163,167,170,174,178,189,163,141,152,174,193,141,144,152,204,148,159,174,182,152,152,159,170,159,167,174,144,148,152,156,159,163,167,170,178,182,185,204,245,159,163,167,170,174,182,200,152,156,174,152,156,144,182,152,170,178,189,152,156,182,163,189,144,148,152,159,163,167,178,182,189,193,197,167,159,182,167,189,152,156,178,193,212,159,167,185,200,204,148,156,182,163,148,167,170,174,152,156,159,163,167,170,174,178,182,189,159,167,148,152,170,178,182,185,163,159,163,167,178,156,159,174,152,156,170,152,156,167,170,174,178,189,197,204,241,156,159,163,167,170,174,178,185,159,167,447,178,174,185,182,159,163,174,182,185,189,197,204,219,163,156,170,152,167,189,484,156,174,189,159,193,0,163,167,174,178,182,185,189,197,208,170,182,185,163,163,167,185,200,159,197,200,215,17,159,163,167,170,174,178,182,189,193,197,174,163,156,227,170,174,241,167,182,159,167,170,174,178,182,185,189,204,230,163,182,170,170,189,223,185,185,167,170,185,159,163,167,170,174,178,182,185,189,193,204,167,189,170,193,170,185,189,193,215,174,159,189,163,185,159,163,170,178,182,185,189,193,200,212,163,182,170,189,197,178,185,197,163,163,193,219,163,167,170,174,178,185,189,200,212,215,167,178,182,197,234,241,178,200,208,193,170,256,185,197,200,219,178,185,189,193,200,208,238,249,185,178,193,170,193,197,178,193,204,215,204,170,200,170,178,182,185,193,197,200,204,208,212,215,197,174,197,234,193,197,208,170,174,178,182,185,189,193,200,215,234,268,185,200,204,271,193,204,200,185,189,200,208,170,174,182,185,189,193,208,212,227,174,182,200,212,200,189,193,174,178,185,193,197,200,208,387,193,223,189,208,193,204,174,182,185,193,197,200,204,212,215,223,193,212,182,189,212,219,223,200,204,185,200,212,219,189,178,182,189,197,200,204,212,215,223,241,245,249,182,185,208,212,193,197,204,208,185,178,185,189,193,200,204,208,212,215,234,174,185,215,189,197,200,182,189,185,189,193,197,204,212,215,193,204,193,197,204,212,193,215,223,204,189,193,197,200,204,208,212,215,227,200,212,197,182,189,193,208,185,249,200,204,189,193,197,204,208,212,215,219,223,268,238,208,223,230,193,197,219,238,204,241,372,189,197,219,189,197,200,204,212,219,223,227,230,245,223,197,234,215,230,212,245,249,189,200,208,212,215,227,238,208,227,193,249,189,193,204,212,215,193,200,204,208,212,215,271,193,197,219,189,230,212,193,208,193,204,208,212,215,219,238,245,197,223,241,223,212,230,200,204,208,212,223,230,227,212,197,204,227,241,290,200,197,223,238,264,212,215,223,197,204,215,227,230,219,200,215,219,230,200,208,245,200,200,204,212,245,253,204,238,227,212,223,238,249,200,208,219,234,238,241,223,238,208,215,219,227,230,241,245,275,219,223,227,212,215,219,204,219,223,234,241,215,234,256,212,204,212,215,219,234,279,219,245,256,227,212,219,238,212,219,223,227,230,234,249,260,215,230,208,268,241,219,223,227,219,227,234,241,245,253,223,219,219,223,253,230,215,223,234,223,230,223,245,234,230,260,234,290,234,249,256,230,234,238,241,223,227,234,238,241,245,227,238,215,227,234,238,241,245,256,260,522,219,238,241,227,484,223,227,245,227,268,253,219,249,227,249,253,256,260,227,230,241,245,219,234,245,230,253,256,260,264,230,245,264,484,241,238,241,253,223,256,260,219,245,249,253,264,230,256,227,241,230,234,245,249,260,234,238,234,245,283,253,238,245,253,256,264,271,227,249,260,249,279,238,245,245,249,241,245,253,260,275,238,245,234,256,253,249,253,260,271,309,271,279,260,260,264,245,249,260,264,279,256,264,253,286,241,268,260,241,298,249,275,301,249,245,253,238,256,294,387,253,264,264,260,268,275,286,256,256,268,275,256,253,256,279,271,260,279,264,268,294,268,275,260,305,264,286,268,283,283,256,271,264,268,271,279,290,470,298,271,279,260,264,268,286,279,327,294,301,268,286,294,301,268,384,268,275,290,294,283,294,271,275,294,447,275,309,264,268,309,313,294,286,301,264,313,354,271,290,294,298,313,305,279,286,279,294,286,298,305,320,298,342,305,279,286,387,275,286,313,298,283,361,17,298,301,597,309,301,309,320,313,298,320,331,301,331,387,301,301,387,327,298,301,369,335,301,305,331,327,301,301,324,313,309,335,339,309,313,309,320,335,324,335,313,324,320,324,327,327,320,451,331,335,346,350,387,327,342,335,342,354,327,331,335,612,350,365,387,391,410,335,387,406,342,346,361,339,387,387,372,387,339,361,387,354,387,387,361,387,342,387,387,387,357,387,365,387,387,402,380,357,387,387,387,387,391,387,387,387,387,387,372,387,387,387,387,387,387,357,387,387,387,384,387,387,387,387,391,365,387,387,387,436,387,387,387,387,387,376,410,387,406,387,384,387,387,372,387,387,387,387,384,387,376,387,387,384,387,387,391,399,387,387,406,387,387,387,387,387,402,387,387,387,421,425,387,387,387,387,425,473,387,413,387,387,492,413,387,447,746,387,410,425,432,387,387,428,387,387,443,417,387,387,387,436,387,421,559,481,387,387,387,387,387,387,387,387,432,387,671,0,470,686,466,481,462,746,466,862,671,518,514,671,772,1120,387,1098,582,17,28,597,858,746,679,877,1647,1199,1344]},\"selected\":{\"id\":\"1283\",\"type\":\"Selection\"},\"selection_policy\":{\"id\":\"1282\",\"type\":\"UnionRenderers\"}},\"id\":\"1257\",\"type\":\"ColumnDataSource\"},{\"attributes\":{\"data_source\":{\"id\":\"1257\",\"type\":\"ColumnDataSource\"},\"glyph\":{\"id\":\"1258\",\"type\":\"Circle\"},\"hover_glyph\":null,\"muted_glyph\":null,\"nonselection_glyph\":{\"id\":\"1259\",\"type\":\"Circle\"},\"selection_glyph\":null,\"view\":{\"id\":\"1261\",\"type\":\"CDSView\"}},\"id\":\"1260\",\"type\":\"GlyphRenderer\"},{\"attributes\":{},\"id\":\"1282\",\"type\":\"UnionRenderers\"},{\"attributes\":{\"active_drag\":\"auto\",\"active_inspect\":\"auto\",\"active_multi\":null,\"active_scroll\":\"auto\",\"active_tap\":\"auto\",\"tools\":[{\"id\":\"1226\",\"type\":\"HoverTool\"},{\"id\":\"1227\",\"type\":\"CrosshairTool\"},{\"id\":\"1228\",\"type\":\"PanTool\"},{\"id\":\"1229\",\"type\":\"WheelZoomTool\"},{\"id\":\"1230\",\"type\":\"BoxZoomTool\"},{\"id\":\"1231\",\"type\":\"ResetTool\"},{\"id\":\"1232\",\"type\":\"TapTool\"},{\"id\":\"1233\",\"type\":\"SaveTool\"},{\"id\":\"1234\",\"type\":\"BoxSelectTool\"},{\"id\":\"1235\",\"type\":\"PolySelectTool\"},{\"id\":\"1236\",\"type\":\"LassoSelectTool\"}]},\"id\":\"1237\",\"type\":\"Toolbar\"},{\"attributes\":{\"fill_alpha\":{\"value\":0.1},\"fill_color\":{\"value\":\"#1f77b4\"},\"line_alpha\":{\"value\":0.1},\"line_color\":{\"value\":\"#1f77b4\"},\"radius\":{\"field\":\"radius\",\"units\":\"data\"},\"x\":{\"field\":\"x\"},\"y\":{\"field\":\"y\"}},\"id\":\"1259\",\"type\":\"Circle\"},{\"attributes\":{\"callback\":null},\"id\":\"1226\",\"type\":\"HoverTool\"},{\"attributes\":{},\"id\":\"1227\",\"type\":\"CrosshairTool\"}],\"root_ids\":[\"1206\"]},\"title\":\"Bokeh Application\",\"version\":\"1.0.4\"}};\n",
       "  var render_items = [{\"docid\":\"82833884-52f0-4dda-ae78-4078943f2977\",\"notebook_comms_target\":\"1284\",\"roots\":{\"1206\":\"ddf6fc80-6be6-4393-b48d-1fc2b81ebb30\"}}];\n",
       "  root.Bokeh.embed.embed_items_notebook(docs_json, render_items);\n",
       "\n",
       "  }\n",
       "  if (root.Bokeh !== undefined) {\n",
       "    embed_document(root);\n",
       "  } else {\n",
       "    var attempts = 0;\n",
       "    var timer = setInterval(function(root) {\n",
       "      if (root.Bokeh !== undefined) {\n",
       "        embed_document(root);\n",
       "        clearInterval(timer);\n",
       "      }\n",
       "      attempts++;\n",
       "      if (attempts > 100) {\n",
       "        console.log(\"Bokeh: ERROR: Unable to run BokehJS code because BokehJS library is missing\");\n",
       "        clearInterval(timer);\n",
       "      }\n",
       "    }, 10, root)\n",
       "  }\n",
       "})(window);"
      ],
      "application/vnd.bokehjs_exec.v0+json": ""
     },
     "metadata": {
      "application/vnd.bokehjs_exec.v0+json": {
       "id": "1206"
      }
     },
     "output_type": "display_data"
    },
    {
     "data": {
      "text/html": [
       "<p><code>&lt;Bokeh Notebook handle for <strong>In[12]</strong>&gt;</code></p>"
      ],
      "text/plain": [
       "<bokeh.io.notebook.CommsHandle at 0x7f3e58f99e48>"
      ]
     },
     "execution_count": 12,
     "metadata": {},
     "output_type": "execute_result"
    }
   ],
   "source": [
    "show(p, notebook_handle=True)"
   ]
  },
  {
   "cell_type": "code",
   "execution_count": null,
   "metadata": {},
   "outputs": [],
   "source": []
  },
  {
   "cell_type": "code",
   "execution_count": 14,
   "metadata": {
    "scrolled": true
   },
   "outputs": [],
   "source": [
    "# for plots read: http://bokeh.pydata.org/en/latest/docs/user_guide/notebook.html\n",
    "\n",
    "connection = pika.BlockingConnection(parameters)\n",
    "channel = connection.channel()\n"
   ]
  },
  {
   "cell_type": "code",
   "execution_count": 15,
   "metadata": {
    "scrolled": true
   },
   "outputs": [
    {
     "name": "stdout",
     "output_type": "stream",
     "text": [
      " [x] Consuming Queue Message:'plot.2d'\n",
      " [x] Consuming Queue Message:'plot.2d'\n",
      " [x] Consuming Queue Message:'plot.2d'\n"
     ]
    },
    {
     "name": "stderr",
     "output_type": "stream",
     "text": [
      "BokehUserWarning: ColumnDataSource's columns must be of the same length. Current lengths: ('fill_color', 2475), ('radius', 2475), ('x', 2515), ('y', 2475)\n",
      "BokehUserWarning: ColumnDataSource's columns must be of the same length. Current lengths: ('fill_color', 2475), ('radius', 2475), ('x', 2515), ('y', 2515)\n",
      "BokehUserWarning: ColumnDataSource's columns must be of the same length. Current lengths: ('fill_color', 2475), ('radius', 2515), ('x', 2515), ('y', 2515)\n",
      "BokehUserWarning: ColumnDataSource's columns must be of the same length. Current lengths: ('fill_color', 2515), ('radius', 2515), ('x', 2474), ('y', 2515)\n",
      "BokehUserWarning: ColumnDataSource's columns must be of the same length. Current lengths: ('fill_color', 2515), ('radius', 2515), ('x', 2474), ('y', 2474)\n",
      "BokehUserWarning: ColumnDataSource's columns must be of the same length. Current lengths: ('fill_color', 2515), ('radius', 2474), ('x', 2474), ('y', 2474)\n",
      "BokehUserWarning: ColumnDataSource's columns must be of the same length. Current lengths: ('fill_color', 2474), ('radius', 2474), ('x', 2541), ('y', 2474)\n",
      "BokehUserWarning: ColumnDataSource's columns must be of the same length. Current lengths: ('fill_color', 2474), ('radius', 2474), ('x', 2541), ('y', 2541)\n",
      "BokehUserWarning: ColumnDataSource's columns must be of the same length. Current lengths: ('fill_color', 2474), ('radius', 2541), ('x', 2541), ('y', 2541)\n",
      "BokehUserWarning: ColumnDataSource's columns must be of the same length. Current lengths: ('fill_color', 2541), ('radius', 2541), ('x', 2550), ('y', 2541)\n",
      "BokehUserWarning: ColumnDataSource's columns must be of the same length. Current lengths: ('fill_color', 2541), ('radius', 2541), ('x', 2550), ('y', 2550)\n"
     ]
    },
    {
     "name": "stdout",
     "output_type": "stream",
     "text": [
      " [x] Consuming Queue Message:'plot.2d'\n",
      " [x] Consuming Queue Message:'plot.2d'\n",
      " [x] Consuming Queue Message:'plot.2d'\n"
     ]
    },
    {
     "name": "stderr",
     "output_type": "stream",
     "text": [
      "BokehUserWarning: ColumnDataSource's columns must be of the same length. Current lengths: ('fill_color', 2541), ('radius', 2550), ('x', 2550), ('y', 2550)\n",
      "BokehUserWarning: ColumnDataSource's columns must be of the same length. Current lengths: ('fill_color', 2550), ('radius', 2550), ('x', 2505), ('y', 2550)\n",
      "BokehUserWarning: ColumnDataSource's columns must be of the same length. Current lengths: ('fill_color', 2550), ('radius', 2550), ('x', 2505), ('y', 2505)\n",
      "BokehUserWarning: ColumnDataSource's columns must be of the same length. Current lengths: ('fill_color', 2550), ('radius', 2505), ('x', 2505), ('y', 2505)\n",
      "BokehUserWarning: ColumnDataSource's columns must be of the same length. Current lengths: ('fill_color', 2505), ('radius', 2505), ('x', 2485), ('y', 2505)\n",
      "BokehUserWarning: ColumnDataSource's columns must be of the same length. Current lengths: ('fill_color', 2505), ('radius', 2505), ('x', 2485), ('y', 2485)\n",
      "BokehUserWarning: ColumnDataSource's columns must be of the same length. Current lengths: ('fill_color', 2505), ('radius', 2485), ('x', 2485), ('y', 2485)\n",
      "BokehUserWarning: ColumnDataSource's columns must be of the same length. Current lengths: ('fill_color', 2485), ('radius', 2485), ('x', 2516), ('y', 2485)\n",
      "BokehUserWarning: ColumnDataSource's columns must be of the same length. Current lengths: ('fill_color', 2485), ('radius', 2485), ('x', 2516), ('y', 2516)\n",
      "BokehUserWarning: ColumnDataSource's columns must be of the same length. Current lengths: ('fill_color', 2485), ('radius', 2516), ('x', 2516), ('y', 2516)\n"
     ]
    },
    {
     "name": "stdout",
     "output_type": "stream",
     "text": [
      " [x] Consuming Queue Message:'plot.2d'\n",
      " [x] Consuming Queue Message:'plot.2d'\n",
      " [x] Consuming Queue Message:'plot.2d'\n",
      " [x] Consuming Queue Message:'plot.2d'\n"
     ]
    },
    {
     "name": "stderr",
     "output_type": "stream",
     "text": [
      "BokehUserWarning: ColumnDataSource's columns must be of the same length. Current lengths: ('fill_color', 2516), ('radius', 2516), ('x', 2474), ('y', 2516)\n",
      "BokehUserWarning: ColumnDataSource's columns must be of the same length. Current lengths: ('fill_color', 2516), ('radius', 2516), ('x', 2474), ('y', 2474)\n",
      "BokehUserWarning: ColumnDataSource's columns must be of the same length. Current lengths: ('fill_color', 2516), ('radius', 2474), ('x', 2474), ('y', 2474)\n",
      "BokehUserWarning: ColumnDataSource's columns must be of the same length. Current lengths: ('fill_color', 2474), ('radius', 2474), ('x', 2471), ('y', 2474)\n",
      "BokehUserWarning: ColumnDataSource's columns must be of the same length. Current lengths: ('fill_color', 2474), ('radius', 2474), ('x', 2471), ('y', 2471)\n",
      "BokehUserWarning: ColumnDataSource's columns must be of the same length. Current lengths: ('fill_color', 2474), ('radius', 2471), ('x', 2471), ('y', 2471)\n",
      "BokehUserWarning: ColumnDataSource's columns must be of the same length. Current lengths: ('fill_color', 2471), ('radius', 2471), ('x', 2483), ('y', 2471)\n",
      "BokehUserWarning: ColumnDataSource's columns must be of the same length. Current lengths: ('fill_color', 2471), ('radius', 2471), ('x', 2483), ('y', 2483)\n",
      "BokehUserWarning: ColumnDataSource's columns must be of the same length. Current lengths: ('fill_color', 2471), ('radius', 2483), ('x', 2483), ('y', 2483)\n"
     ]
    },
    {
     "name": "stdout",
     "output_type": "stream",
     "text": [
      " [x] Consuming Queue Message:'plot.2d'\n",
      " [x] Consuming Queue Message:'plot.2d'\n",
      " [x] Consuming Queue Message:'plot.2d'\n"
     ]
    },
    {
     "name": "stderr",
     "output_type": "stream",
     "text": [
      "BokehUserWarning: ColumnDataSource's columns must be of the same length. Current lengths: ('fill_color', 2483), ('radius', 2483), ('x', 2443), ('y', 2483)\n",
      "BokehUserWarning: ColumnDataSource's columns must be of the same length. Current lengths: ('fill_color', 2483), ('radius', 2483), ('x', 2443), ('y', 2443)\n",
      "BokehUserWarning: ColumnDataSource's columns must be of the same length. Current lengths: ('fill_color', 2483), ('radius', 2443), ('x', 2443), ('y', 2443)\n",
      "BokehUserWarning: ColumnDataSource's columns must be of the same length. Current lengths: ('fill_color', 2443), ('radius', 2443), ('x', 2541), ('y', 2443)\n",
      "BokehUserWarning: ColumnDataSource's columns must be of the same length. Current lengths: ('fill_color', 2443), ('radius', 2443), ('x', 2541), ('y', 2541)\n",
      "BokehUserWarning: ColumnDataSource's columns must be of the same length. Current lengths: ('fill_color', 2443), ('radius', 2541), ('x', 2541), ('y', 2541)\n",
      "BokehUserWarning: ColumnDataSource's columns must be of the same length. Current lengths: ('fill_color', 2541), ('radius', 2541), ('x', 2628), ('y', 2541)\n",
      "BokehUserWarning: ColumnDataSource's columns must be of the same length. Current lengths: ('fill_color', 2541), ('radius', 2541), ('x', 2628), ('y', 2628)\n",
      "BokehUserWarning: ColumnDataSource's columns must be of the same length. Current lengths: ('fill_color', 2541), ('radius', 2628), ('x', 2628), ('y', 2628)\n"
     ]
    },
    {
     "name": "stdout",
     "output_type": "stream",
     "text": [
      " [x] Consuming Queue Message:'plot.2d'\n",
      " [x] Consuming Queue Message:'plot.2d'\n",
      " [x] Consuming Queue Message:'plot.2d'\n",
      " [x] Consuming Queue Message:'plot.2d'\n"
     ]
    },
    {
     "name": "stderr",
     "output_type": "stream",
     "text": [
      "BokehUserWarning: ColumnDataSource's columns must be of the same length. Current lengths: ('fill_color', 2628), ('radius', 2628), ('x', 2489), ('y', 2628)\n",
      "BokehUserWarning: ColumnDataSource's columns must be of the same length. Current lengths: ('fill_color', 2628), ('radius', 2628), ('x', 2489), ('y', 2489)\n",
      "BokehUserWarning: ColumnDataSource's columns must be of the same length. Current lengths: ('fill_color', 2628), ('radius', 2489), ('x', 2489), ('y', 2489)\n",
      "BokehUserWarning: ColumnDataSource's columns must be of the same length. Current lengths: ('fill_color', 2489), ('radius', 2489), ('x', 2482), ('y', 2489)\n",
      "BokehUserWarning: ColumnDataSource's columns must be of the same length. Current lengths: ('fill_color', 2489), ('radius', 2489), ('x', 2482), ('y', 2482)\n",
      "BokehUserWarning: ColumnDataSource's columns must be of the same length. Current lengths: ('fill_color', 2489), ('radius', 2482), ('x', 2482), ('y', 2482)\n",
      "BokehUserWarning: ColumnDataSource's columns must be of the same length. Current lengths: ('fill_color', 2482), ('radius', 2482), ('x', 2415), ('y', 2482)\n",
      "BokehUserWarning: ColumnDataSource's columns must be of the same length. Current lengths: ('fill_color', 2482), ('radius', 2482), ('x', 2415), ('y', 2415)\n",
      "BokehUserWarning: ColumnDataSource's columns must be of the same length. Current lengths: ('fill_color', 2482), ('radius', 2415), ('x', 2415), ('y', 2415)\n",
      "BokehUserWarning: ColumnDataSource's columns must be of the same length. Current lengths: ('fill_color', 2415), ('radius', 2415), ('x', 2576), ('y', 2415)\n"
     ]
    },
    {
     "name": "stdout",
     "output_type": "stream",
     "text": [
      " [x] Consuming Queue Message:'plot.2d'\n",
      " [x] Consuming Queue Message:'plot.2d'\n",
      " [x] Consuming Queue Message:'plot.2d'\n"
     ]
    },
    {
     "name": "stderr",
     "output_type": "stream",
     "text": [
      "BokehUserWarning: ColumnDataSource's columns must be of the same length. Current lengths: ('fill_color', 2415), ('radius', 2415), ('x', 2576), ('y', 2576)\n",
      "BokehUserWarning: ColumnDataSource's columns must be of the same length. Current lengths: ('fill_color', 2415), ('radius', 2576), ('x', 2576), ('y', 2576)\n",
      "BokehUserWarning: ColumnDataSource's columns must be of the same length. Current lengths: ('fill_color', 2576), ('radius', 2576), ('x', 2534), ('y', 2576)\n",
      "BokehUserWarning: ColumnDataSource's columns must be of the same length. Current lengths: ('fill_color', 2576), ('radius', 2576), ('x', 2534), ('y', 2534)\n",
      "BokehUserWarning: ColumnDataSource's columns must be of the same length. Current lengths: ('fill_color', 2576), ('radius', 2534), ('x', 2534), ('y', 2534)\n",
      "BokehUserWarning: ColumnDataSource's columns must be of the same length. Current lengths: ('fill_color', 2534), ('radius', 2534), ('x', 2498), ('y', 2534)\n",
      "BokehUserWarning: ColumnDataSource's columns must be of the same length. Current lengths: ('fill_color', 2534), ('radius', 2534), ('x', 2498), ('y', 2498)\n",
      "BokehUserWarning: ColumnDataSource's columns must be of the same length. Current lengths: ('fill_color', 2534), ('radius', 2498), ('x', 2498), ('y', 2498)\n",
      "BokehUserWarning: ColumnDataSource's columns must be of the same length. Current lengths: ('fill_color', 2498), ('radius', 2498), ('x', 2513), ('y', 2498)\n",
      "BokehUserWarning: ColumnDataSource's columns must be of the same length. Current lengths: ('fill_color', 2498), ('radius', 2498), ('x', 2513), ('y', 2513)\n",
      "BokehUserWarning: ColumnDataSource's columns must be of the same length. Current lengths: ('fill_color', 2498), ('radius', 2513), ('x', 2513), ('y', 2513)\n"
     ]
    },
    {
     "name": "stdout",
     "output_type": "stream",
     "text": [
      " [x] Consuming Queue Message:'plot.2d'\n",
      " [x] Consuming Queue Message:'plot.2d'\n",
      " [x] Consuming Queue Message:'plot.2d'\n",
      " [x] Consuming Queue Message:'plot.2d'\n"
     ]
    },
    {
     "name": "stderr",
     "output_type": "stream",
     "text": [
      "BokehUserWarning: ColumnDataSource's columns must be of the same length. Current lengths: ('fill_color', 2513), ('radius', 2513), ('x', 2480), ('y', 2513)\n",
      "BokehUserWarning: ColumnDataSource's columns must be of the same length. Current lengths: ('fill_color', 2513), ('radius', 2513), ('x', 2480), ('y', 2480)\n",
      "BokehUserWarning: ColumnDataSource's columns must be of the same length. Current lengths: ('fill_color', 2513), ('radius', 2480), ('x', 2480), ('y', 2480)\n",
      "BokehUserWarning: ColumnDataSource's columns must be of the same length. Current lengths: ('fill_color', 2480), ('radius', 2480), ('x', 2516), ('y', 2480)\n",
      "BokehUserWarning: ColumnDataSource's columns must be of the same length. Current lengths: ('fill_color', 2480), ('radius', 2480), ('x', 2516), ('y', 2516)\n",
      "BokehUserWarning: ColumnDataSource's columns must be of the same length. Current lengths: ('fill_color', 2480), ('radius', 2516), ('x', 2516), ('y', 2516)\n",
      "BokehUserWarning: ColumnDataSource's columns must be of the same length. Current lengths: ('fill_color', 2516), ('radius', 2516), ('x', 2535), ('y', 2516)\n",
      "BokehUserWarning: ColumnDataSource's columns must be of the same length. Current lengths: ('fill_color', 2516), ('radius', 2516), ('x', 2535), ('y', 2535)\n",
      "BokehUserWarning: ColumnDataSource's columns must be of the same length. Current lengths: ('fill_color', 2516), ('radius', 2535), ('x', 2535), ('y', 2535)\n",
      "BokehUserWarning: ColumnDataSource's columns must be of the same length. Current lengths: ('fill_color', 2535), ('radius', 2535), ('x', 2488), ('y', 2535)\n",
      "BokehUserWarning: ColumnDataSource's columns must be of the same length. Current lengths: ('fill_color', 2535), ('radius', 2535), ('x', 2488), ('y', 2488)\n",
      "BokehUserWarning: ColumnDataSource's columns must be of the same length. Current lengths: ('fill_color', 2535), ('radius', 2488), ('x', 2488), ('y', 2488)\n"
     ]
    },
    {
     "name": "stdout",
     "output_type": "stream",
     "text": [
      " [x] Consuming Queue Message:'plot.2d'\n",
      " [x] Consuming Queue Message:'plot.2d'\n",
      " [x] Consuming Queue Message:'plot.2d'\n",
      " [x] Consuming Queue Message:'plot.2d'\n"
     ]
    },
    {
     "name": "stderr",
     "output_type": "stream",
     "text": [
      "BokehUserWarning: ColumnDataSource's columns must be of the same length. Current lengths: ('fill_color', 2488), ('radius', 2488), ('x', 2492), ('y', 2488)\n",
      "BokehUserWarning: ColumnDataSource's columns must be of the same length. Current lengths: ('fill_color', 2488), ('radius', 2488), ('x', 2492), ('y', 2492)\n",
      "BokehUserWarning: ColumnDataSource's columns must be of the same length. Current lengths: ('fill_color', 2488), ('radius', 2492), ('x', 2492), ('y', 2492)\n",
      "BokehUserWarning: ColumnDataSource's columns must be of the same length. Current lengths: ('fill_color', 2492), ('radius', 2492), ('x', 2489), ('y', 2492)\n",
      "BokehUserWarning: ColumnDataSource's columns must be of the same length. Current lengths: ('fill_color', 2492), ('radius', 2492), ('x', 2489), ('y', 2489)\n",
      "BokehUserWarning: ColumnDataSource's columns must be of the same length. Current lengths: ('fill_color', 2492), ('radius', 2489), ('x', 2489), ('y', 2489)\n",
      "BokehUserWarning: ColumnDataSource's columns must be of the same length. Current lengths: ('fill_color', 2489), ('radius', 2489), ('x', 2501), ('y', 2489)\n",
      "BokehUserWarning: ColumnDataSource's columns must be of the same length. Current lengths: ('fill_color', 2489), ('radius', 2489), ('x', 2501), ('y', 2501)\n",
      "BokehUserWarning: ColumnDataSource's columns must be of the same length. Current lengths: ('fill_color', 2489), ('radius', 2501), ('x', 2501), ('y', 2501)\n",
      "BokehUserWarning: ColumnDataSource's columns must be of the same length. Current lengths: ('fill_color', 2501), ('radius', 2501), ('x', 2473), ('y', 2501)\n",
      "BokehUserWarning: ColumnDataSource's columns must be of the same length. Current lengths: ('fill_color', 2501), ('radius', 2501), ('x', 2473), ('y', 2473)\n",
      "BokehUserWarning: ColumnDataSource's columns must be of the same length. Current lengths: ('fill_color', 2501), ('radius', 2473), ('x', 2473), ('y', 2473)\n",
      "BokehUserWarning: ColumnDataSource's columns must be of the same length. Current lengths: ('fill_color', 2473), ('radius', 2473), ('x', 2481), ('y', 2473)\n",
      "BokehUserWarning: ColumnDataSource's columns must be of the same length. Current lengths: ('fill_color', 2473), ('radius', 2473), ('x', 2481), ('y', 2481)\n",
      "BokehUserWarning: ColumnDataSource's columns must be of the same length. Current lengths: ('fill_color', 2473), ('radius', 2481), ('x', 2481), ('y', 2481)\n",
      "BokehUserWarning: ColumnDataSource's columns must be of the same length. Current lengths: ('fill_color', 2481), ('radius', 2481), ('x', 2470), ('y', 2481)\n",
      "BokehUserWarning: ColumnDataSource's columns must be of the same length. Current lengths: ('fill_color', 2481), ('radius', 2481), ('x', 2470), ('y', 2470)\n",
      "BokehUserWarning: ColumnDataSource's columns must be of the same length. Current lengths: ('fill_color', 2481), ('radius', 2470), ('x', 2470), ('y', 2470)\n"
     ]
    },
    {
     "name": "stdout",
     "output_type": "stream",
     "text": [
      " [x] Consuming Queue Message:'plot.2d'\n",
      " [x] Consuming Queue Message:'plot.2d'\n",
      " [x] Consuming Queue Message:'plot.2d'\n"
     ]
    },
    {
     "name": "stderr",
     "output_type": "stream",
     "text": [
      "BokehUserWarning: ColumnDataSource's columns must be of the same length. Current lengths: ('fill_color', 2470), ('radius', 2470), ('x', 2556), ('y', 2470)\n",
      "BokehUserWarning: ColumnDataSource's columns must be of the same length. Current lengths: ('fill_color', 2470), ('radius', 2470), ('x', 2556), ('y', 2556)\n",
      "BokehUserWarning: ColumnDataSource's columns must be of the same length. Current lengths: ('fill_color', 2470), ('radius', 2556), ('x', 2556), ('y', 2556)\n",
      "BokehUserWarning: ColumnDataSource's columns must be of the same length. Current lengths: ('fill_color', 2556), ('radius', 2556), ('x', 2467), ('y', 2556)\n",
      "BokehUserWarning: ColumnDataSource's columns must be of the same length. Current lengths: ('fill_color', 2556), ('radius', 2556), ('x', 2467), ('y', 2467)\n",
      "BokehUserWarning: ColumnDataSource's columns must be of the same length. Current lengths: ('fill_color', 2556), ('radius', 2467), ('x', 2467), ('y', 2467)\n",
      "BokehUserWarning: ColumnDataSource's columns must be of the same length. Current lengths: ('fill_color', 2467), ('radius', 2467), ('x', 2529), ('y', 2467)\n",
      "BokehUserWarning: ColumnDataSource's columns must be of the same length. Current lengths: ('fill_color', 2467), ('radius', 2467), ('x', 2529), ('y', 2529)\n",
      "BokehUserWarning: ColumnDataSource's columns must be of the same length. Current lengths: ('fill_color', 2467), ('radius', 2529), ('x', 2529), ('y', 2529)\n",
      "BokehUserWarning: ColumnDataSource's columns must be of the same length. Current lengths: ('fill_color', 2529), ('radius', 2529), ('x', 2535), ('y', 2529)\n",
      "BokehUserWarning: ColumnDataSource's columns must be of the same length. Current lengths: ('fill_color', 2529), ('radius', 2529), ('x', 2535), ('y', 2535)\n",
      "BokehUserWarning: ColumnDataSource's columns must be of the same length. Current lengths: ('fill_color', 2529), ('radius', 2535), ('x', 2535), ('y', 2535)\n",
      "BokehUserWarning: ColumnDataSource's columns must be of the same length. Current lengths: ('fill_color', 2535), ('radius', 2535), ('x', 2457), ('y', 2535)\n",
      "BokehUserWarning: ColumnDataSource's columns must be of the same length. Current lengths: ('fill_color', 2535), ('radius', 2535), ('x', 2457), ('y', 2457)\n"
     ]
    },
    {
     "name": "stdout",
     "output_type": "stream",
     "text": [
      " [x] Consuming Queue Message:'plot.2d'\n",
      " [x] Consuming Queue Message:'plot.2d'\n",
      " [x] Consuming Queue Message:'plot.2d'\n",
      " [x] Consuming Queue Message:'plot.2d'\n"
     ]
    },
    {
     "name": "stderr",
     "output_type": "stream",
     "text": [
      "BokehUserWarning: ColumnDataSource's columns must be of the same length. Current lengths: ('fill_color', 2535), ('radius', 2457), ('x', 2457), ('y', 2457)\n",
      "BokehUserWarning: ColumnDataSource's columns must be of the same length. Current lengths: ('fill_color', 2457), ('radius', 2457), ('x', 2472), ('y', 2457)\n",
      "BokehUserWarning: ColumnDataSource's columns must be of the same length. Current lengths: ('fill_color', 2457), ('radius', 2457), ('x', 2472), ('y', 2472)\n",
      "BokehUserWarning: ColumnDataSource's columns must be of the same length. Current lengths: ('fill_color', 2457), ('radius', 2472), ('x', 2472), ('y', 2472)\n",
      "BokehUserWarning: ColumnDataSource's columns must be of the same length. Current lengths: ('fill_color', 2472), ('radius', 2472), ('x', 2445), ('y', 2472)\n",
      "BokehUserWarning: ColumnDataSource's columns must be of the same length. Current lengths: ('fill_color', 2472), ('radius', 2472), ('x', 2445), ('y', 2445)\n",
      "BokehUserWarning: ColumnDataSource's columns must be of the same length. Current lengths: ('fill_color', 2472), ('radius', 2445), ('x', 2445), ('y', 2445)\n",
      "BokehUserWarning: ColumnDataSource's columns must be of the same length. Current lengths: ('fill_color', 2445), ('radius', 2445), ('x', 2453), ('y', 2445)\n",
      "BokehUserWarning: ColumnDataSource's columns must be of the same length. Current lengths: ('fill_color', 2445), ('radius', 2445), ('x', 2453), ('y', 2453)\n"
     ]
    },
    {
     "name": "stdout",
     "output_type": "stream",
     "text": [
      " [x] Consuming Queue Message:'plot.2d'\n",
      " [x] Consuming Queue Message:'plot.2d'\n",
      " [x] Consuming Queue Message:'plot.2d'\n",
      " [x] Consuming Queue Message:'plot.2d'\n"
     ]
    },
    {
     "name": "stderr",
     "output_type": "stream",
     "text": [
      "BokehUserWarning: ColumnDataSource's columns must be of the same length. Current lengths: ('fill_color', 2445), ('radius', 2453), ('x', 2453), ('y', 2453)\n",
      "BokehUserWarning: ColumnDataSource's columns must be of the same length. Current lengths: ('fill_color', 2453), ('radius', 2453), ('x', 2431), ('y', 2453)\n",
      "BokehUserWarning: ColumnDataSource's columns must be of the same length. Current lengths: ('fill_color', 2453), ('radius', 2453), ('x', 2431), ('y', 2431)\n",
      "BokehUserWarning: ColumnDataSource's columns must be of the same length. Current lengths: ('fill_color', 2453), ('radius', 2431), ('x', 2431), ('y', 2431)\n",
      "BokehUserWarning: ColumnDataSource's columns must be of the same length. Current lengths: ('fill_color', 2431), ('radius', 2431), ('x', 2480), ('y', 2431)\n",
      "BokehUserWarning: ColumnDataSource's columns must be of the same length. Current lengths: ('fill_color', 2431), ('radius', 2431), ('x', 2480), ('y', 2480)\n",
      "BokehUserWarning: ColumnDataSource's columns must be of the same length. Current lengths: ('fill_color', 2431), ('radius', 2480), ('x', 2480), ('y', 2480)\n"
     ]
    },
    {
     "name": "stdout",
     "output_type": "stream",
     "text": [
      " [x] Consuming Queue Message:'plot.2d'\n",
      " [x] Consuming Queue Message:'plot.2d'\n",
      " [x] Consuming Queue Message:'plot.2d'\n",
      " [x] Consuming Queue Message:'plot.2d'\n"
     ]
    },
    {
     "name": "stderr",
     "output_type": "stream",
     "text": [
      "BokehUserWarning: ColumnDataSource's columns must be of the same length. Current lengths: ('fill_color', 2480), ('radius', 2480), ('x', 2500), ('y', 2480)\n",
      "BokehUserWarning: ColumnDataSource's columns must be of the same length. Current lengths: ('fill_color', 2480), ('radius', 2480), ('x', 2500), ('y', 2500)\n",
      "BokehUserWarning: ColumnDataSource's columns must be of the same length. Current lengths: ('fill_color', 2480), ('radius', 2500), ('x', 2500), ('y', 2500)\n",
      "BokehUserWarning: ColumnDataSource's columns must be of the same length. Current lengths: ('fill_color', 2500), ('radius', 2500), ('x', 2526), ('y', 2500)\n",
      "BokehUserWarning: ColumnDataSource's columns must be of the same length. Current lengths: ('fill_color', 2500), ('radius', 2500), ('x', 2526), ('y', 2526)\n",
      "BokehUserWarning: ColumnDataSource's columns must be of the same length. Current lengths: ('fill_color', 2500), ('radius', 2526), ('x', 2526), ('y', 2526)\n",
      "BokehUserWarning: ColumnDataSource's columns must be of the same length. Current lengths: ('fill_color', 2526), ('radius', 2526), ('x', 2473), ('y', 2526)\n",
      "BokehUserWarning: ColumnDataSource's columns must be of the same length. Current lengths: ('fill_color', 2526), ('radius', 2526), ('x', 2473), ('y', 2473)\n",
      "BokehUserWarning: ColumnDataSource's columns must be of the same length. Current lengths: ('fill_color', 2526), ('radius', 2473), ('x', 2473), ('y', 2473)\n",
      "BokehUserWarning: ColumnDataSource's columns must be of the same length. Current lengths: ('fill_color', 2473), ('radius', 2473), ('x', 2539), ('y', 2473)\n",
      "BokehUserWarning: ColumnDataSource's columns must be of the same length. Current lengths: ('fill_color', 2473), ('radius', 2473), ('x', 2539), ('y', 2539)\n",
      "BokehUserWarning: ColumnDataSource's columns must be of the same length. Current lengths: ('fill_color', 2473), ('radius', 2539), ('x', 2539), ('y', 2539)\n",
      "BokehUserWarning: ColumnDataSource's columns must be of the same length. Current lengths: ('fill_color', 2539), ('radius', 2539), ('x', 2572), ('y', 2539)\n",
      "BokehUserWarning: ColumnDataSource's columns must be of the same length. Current lengths: ('fill_color', 2539), ('radius', 2539), ('x', 2572), ('y', 2572)\n",
      "BokehUserWarning: ColumnDataSource's columns must be of the same length. Current lengths: ('fill_color', 2539), ('radius', 2572), ('x', 2572), ('y', 2572)\n"
     ]
    },
    {
     "name": "stdout",
     "output_type": "stream",
     "text": [
      " [x] Consuming Queue Message:'plot.2d'\n",
      " [x] Consuming Queue Message:'plot.2d'\n",
      " [x] Consuming Queue Message:'plot.2d'\n",
      " [x] Consuming Queue Message:'plot.2d'\n"
     ]
    },
    {
     "name": "stderr",
     "output_type": "stream",
     "text": [
      "BokehUserWarning: ColumnDataSource's columns must be of the same length. Current lengths: ('fill_color', 2572), ('radius', 2572), ('x', 2522), ('y', 2572)\n",
      "BokehUserWarning: ColumnDataSource's columns must be of the same length. Current lengths: ('fill_color', 2572), ('radius', 2572), ('x', 2522), ('y', 2522)\n",
      "BokehUserWarning: ColumnDataSource's columns must be of the same length. Current lengths: ('fill_color', 2572), ('radius', 2522), ('x', 2522), ('y', 2522)\n",
      "BokehUserWarning: ColumnDataSource's columns must be of the same length. Current lengths: ('fill_color', 2522), ('radius', 2522), ('x', 2512), ('y', 2522)\n",
      "BokehUserWarning: ColumnDataSource's columns must be of the same length. Current lengths: ('fill_color', 2522), ('radius', 2522), ('x', 2512), ('y', 2512)\n",
      "BokehUserWarning: ColumnDataSource's columns must be of the same length. Current lengths: ('fill_color', 2522), ('radius', 2512), ('x', 2512), ('y', 2512)\n"
     ]
    },
    {
     "name": "stdout",
     "output_type": "stream",
     "text": [
      " [x] Consuming Queue Message:'plot.2d'\n",
      " [x] Consuming Queue Message:'plot.2d'\n",
      " [x] Consuming Queue Message:'plot.2d'\n",
      " [x] Consuming Queue Message:'plot.2d'\n"
     ]
    },
    {
     "name": "stderr",
     "output_type": "stream",
     "text": [
      "BokehUserWarning: ColumnDataSource's columns must be of the same length. Current lengths: ('fill_color', 2512), ('radius', 2512), ('x', 2542), ('y', 2512)\n",
      "BokehUserWarning: ColumnDataSource's columns must be of the same length. Current lengths: ('fill_color', 2512), ('radius', 2512), ('x', 2542), ('y', 2542)\n",
      "BokehUserWarning: ColumnDataSource's columns must be of the same length. Current lengths: ('fill_color', 2512), ('radius', 2542), ('x', 2542), ('y', 2542)\n",
      "BokehUserWarning: ColumnDataSource's columns must be of the same length. Current lengths: ('fill_color', 2542), ('radius', 2542), ('x', 2521), ('y', 2542)\n",
      "BokehUserWarning: ColumnDataSource's columns must be of the same length. Current lengths: ('fill_color', 2542), ('radius', 2542), ('x', 2521), ('y', 2521)\n",
      "BokehUserWarning: ColumnDataSource's columns must be of the same length. Current lengths: ('fill_color', 2542), ('radius', 2521), ('x', 2521), ('y', 2521)\n",
      "BokehUserWarning: ColumnDataSource's columns must be of the same length. Current lengths: ('fill_color', 2521), ('radius', 2521), ('x', 2491), ('y', 2521)\n",
      "BokehUserWarning: ColumnDataSource's columns must be of the same length. Current lengths: ('fill_color', 2521), ('radius', 2521), ('x', 2491), ('y', 2491)\n",
      "BokehUserWarning: ColumnDataSource's columns must be of the same length. Current lengths: ('fill_color', 2521), ('radius', 2491), ('x', 2491), ('y', 2491)\n",
      "BokehUserWarning: ColumnDataSource's columns must be of the same length. Current lengths: ('fill_color', 2491), ('radius', 2491), ('x', 2489), ('y', 2491)\n",
      "BokehUserWarning: ColumnDataSource's columns must be of the same length. Current lengths: ('fill_color', 2491), ('radius', 2491), ('x', 2489), ('y', 2489)\n",
      "BokehUserWarning: ColumnDataSource's columns must be of the same length. Current lengths: ('fill_color', 2491), ('radius', 2489), ('x', 2489), ('y', 2489)\n"
     ]
    },
    {
     "name": "stdout",
     "output_type": "stream",
     "text": [
      " [x] Consuming Queue Message:'plot.2d'\n",
      " [x] Consuming Queue Message:'plot.2d'\n",
      " [x] Consuming Queue Message:'plot.2d'\n"
     ]
    },
    {
     "name": "stderr",
     "output_type": "stream",
     "text": [
      "BokehUserWarning: ColumnDataSource's columns must be of the same length. Current lengths: ('fill_color', 2489), ('radius', 2489), ('x', 2561), ('y', 2489)\n",
      "BokehUserWarning: ColumnDataSource's columns must be of the same length. Current lengths: ('fill_color', 2489), ('radius', 2489), ('x', 2561), ('y', 2561)\n",
      "BokehUserWarning: ColumnDataSource's columns must be of the same length. Current lengths: ('fill_color', 2489), ('radius', 2561), ('x', 2561), ('y', 2561)\n",
      "BokehUserWarning: ColumnDataSource's columns must be of the same length. Current lengths: ('fill_color', 2561), ('radius', 2561), ('x', 2530), ('y', 2561)\n",
      "BokehUserWarning: ColumnDataSource's columns must be of the same length. Current lengths: ('fill_color', 2561), ('radius', 2561), ('x', 2530), ('y', 2530)\n",
      "BokehUserWarning: ColumnDataSource's columns must be of the same length. Current lengths: ('fill_color', 2561), ('radius', 2530), ('x', 2530), ('y', 2530)\n",
      "BokehUserWarning: ColumnDataSource's columns must be of the same length. Current lengths: ('fill_color', 2530), ('radius', 2530), ('x', 2556), ('y', 2530)\n",
      "BokehUserWarning: ColumnDataSource's columns must be of the same length. Current lengths: ('fill_color', 2530), ('radius', 2530), ('x', 2556), ('y', 2556)\n",
      "BokehUserWarning: ColumnDataSource's columns must be of the same length. Current lengths: ('fill_color', 2530), ('radius', 2556), ('x', 2556), ('y', 2556)\n"
     ]
    },
    {
     "name": "stdout",
     "output_type": "stream",
     "text": [
      " [x] Consuming Queue Message:'plot.2d'\n",
      " [x] Consuming Queue Message:'plot.2d'\n",
      " [x] Consuming Queue Message:'plot.2d'\n",
      " [x] Consuming Queue Message:'plot.2d'\n"
     ]
    },
    {
     "name": "stderr",
     "output_type": "stream",
     "text": [
      "BokehUserWarning: ColumnDataSource's columns must be of the same length. Current lengths: ('fill_color', 2556), ('radius', 2556), ('x', 2492), ('y', 2556)\n",
      "BokehUserWarning: ColumnDataSource's columns must be of the same length. Current lengths: ('fill_color', 2556), ('radius', 2556), ('x', 2492), ('y', 2492)\n",
      "BokehUserWarning: ColumnDataSource's columns must be of the same length. Current lengths: ('fill_color', 2556), ('radius', 2492), ('x', 2492), ('y', 2492)\n",
      "BokehUserWarning: ColumnDataSource's columns must be of the same length. Current lengths: ('fill_color', 2492), ('radius', 2492), ('x', 2493), ('y', 2492)\n",
      "BokehUserWarning: ColumnDataSource's columns must be of the same length. Current lengths: ('fill_color', 2492), ('radius', 2492), ('x', 2493), ('y', 2493)\n",
      "BokehUserWarning: ColumnDataSource's columns must be of the same length. Current lengths: ('fill_color', 2492), ('radius', 2493), ('x', 2493), ('y', 2493)\n",
      "BokehUserWarning: ColumnDataSource's columns must be of the same length. Current lengths: ('fill_color', 2493), ('radius', 2493), ('x', 2541), ('y', 2493)\n",
      "BokehUserWarning: ColumnDataSource's columns must be of the same length. Current lengths: ('fill_color', 2493), ('radius', 2493), ('x', 2541), ('y', 2541)\n",
      "BokehUserWarning: ColumnDataSource's columns must be of the same length. Current lengths: ('fill_color', 2493), ('radius', 2541), ('x', 2541), ('y', 2541)\n",
      "BokehUserWarning: ColumnDataSource's columns must be of the same length. Current lengths: ('fill_color', 2541), ('radius', 2541), ('x', 2466), ('y', 2541)\n",
      "BokehUserWarning: ColumnDataSource's columns must be of the same length. Current lengths: ('fill_color', 2541), ('radius', 2541), ('x', 2466), ('y', 2466)\n",
      "BokehUserWarning: ColumnDataSource's columns must be of the same length. Current lengths: ('fill_color', 2541), ('radius', 2466), ('x', 2466), ('y', 2466)\n",
      "BokehUserWarning: ColumnDataSource's columns must be of the same length. Current lengths: ('fill_color', 2466), ('radius', 2466), ('x', 2505), ('y', 2466)\n",
      "BokehUserWarning: ColumnDataSource's columns must be of the same length. Current lengths: ('fill_color', 2466), ('radius', 2466), ('x', 2505), ('y', 2505)\n",
      "BokehUserWarning: ColumnDataSource's columns must be of the same length. Current lengths: ('fill_color', 2466), ('radius', 2505), ('x', 2505), ('y', 2505)\n",
      "BokehUserWarning: ColumnDataSource's columns must be of the same length. Current lengths: ('fill_color', 2505), ('radius', 2505), ('x', 2459), ('y', 2505)\n",
      "BokehUserWarning: ColumnDataSource's columns must be of the same length. Current lengths: ('fill_color', 2505), ('radius', 2505), ('x', 2459), ('y', 2459)\n",
      "BokehUserWarning: ColumnDataSource's columns must be of the same length. Current lengths: ('fill_color', 2505), ('radius', 2459), ('x', 2459), ('y', 2459)\n"
     ]
    },
    {
     "name": "stdout",
     "output_type": "stream",
     "text": [
      " [x] Consuming Queue Message:'plot.2d'\n",
      " [x] Consuming Queue Message:'plot.2d'\n",
      " [x] Consuming Queue Message:'plot.2d'\n"
     ]
    },
    {
     "name": "stderr",
     "output_type": "stream",
     "text": [
      "BokehUserWarning: ColumnDataSource's columns must be of the same length. Current lengths: ('fill_color', 2459), ('radius', 2459), ('x', 2530), ('y', 2459)\n",
      "BokehUserWarning: ColumnDataSource's columns must be of the same length. Current lengths: ('fill_color', 2459), ('radius', 2459), ('x', 2530), ('y', 2530)\n",
      "BokehUserWarning: ColumnDataSource's columns must be of the same length. Current lengths: ('fill_color', 2459), ('radius', 2530), ('x', 2530), ('y', 2530)\n",
      "BokehUserWarning: ColumnDataSource's columns must be of the same length. Current lengths: ('fill_color', 2530), ('radius', 2530), ('x', 2438), ('y', 2530)\n",
      "BokehUserWarning: ColumnDataSource's columns must be of the same length. Current lengths: ('fill_color', 2530), ('radius', 2530), ('x', 2438), ('y', 2438)\n",
      "BokehUserWarning: ColumnDataSource's columns must be of the same length. Current lengths: ('fill_color', 2530), ('radius', 2438), ('x', 2438), ('y', 2438)\n",
      "BokehUserWarning: ColumnDataSource's columns must be of the same length. Current lengths: ('fill_color', 2438), ('radius', 2438), ('x', 2536), ('y', 2438)\n",
      "BokehUserWarning: ColumnDataSource's columns must be of the same length. Current lengths: ('fill_color', 2438), ('radius', 2438), ('x', 2536), ('y', 2536)\n",
      "BokehUserWarning: ColumnDataSource's columns must be of the same length. Current lengths: ('fill_color', 2438), ('radius', 2536), ('x', 2536), ('y', 2536)\n"
     ]
    },
    {
     "name": "stdout",
     "output_type": "stream",
     "text": [
      " [x] Consuming Queue Message:'plot.2d'\n",
      " [x] Consuming Queue Message:'plot.2d'\n",
      " [x] Consuming Queue Message:'plot.2d'\n"
     ]
    },
    {
     "name": "stderr",
     "output_type": "stream",
     "text": [
      "BokehUserWarning: ColumnDataSource's columns must be of the same length. Current lengths: ('fill_color', 2536), ('radius', 2536), ('x', 2423), ('y', 2536)\n",
      "BokehUserWarning: ColumnDataSource's columns must be of the same length. Current lengths: ('fill_color', 2536), ('radius', 2536), ('x', 2423), ('y', 2423)\n",
      "BokehUserWarning: ColumnDataSource's columns must be of the same length. Current lengths: ('fill_color', 2536), ('radius', 2423), ('x', 2423), ('y', 2423)\n",
      "BokehUserWarning: ColumnDataSource's columns must be of the same length. Current lengths: ('fill_color', 2423), ('radius', 2423), ('x', 2502), ('y', 2423)\n",
      "BokehUserWarning: ColumnDataSource's columns must be of the same length. Current lengths: ('fill_color', 2423), ('radius', 2423), ('x', 2502), ('y', 2502)\n",
      "BokehUserWarning: ColumnDataSource's columns must be of the same length. Current lengths: ('fill_color', 2423), ('radius', 2502), ('x', 2502), ('y', 2502)\n",
      "BokehUserWarning: ColumnDataSource's columns must be of the same length. Current lengths: ('fill_color', 2502), ('radius', 2502), ('x', 2467), ('y', 2502)\n",
      "BokehUserWarning: ColumnDataSource's columns must be of the same length. Current lengths: ('fill_color', 2502), ('radius', 2502), ('x', 2467), ('y', 2467)\n",
      "BokehUserWarning: ColumnDataSource's columns must be of the same length. Current lengths: ('fill_color', 2502), ('radius', 2467), ('x', 2467), ('y', 2467)\n",
      "BokehUserWarning: ColumnDataSource's columns must be of the same length. Current lengths: ('fill_color', 2467), ('radius', 2467), ('x', 2531), ('y', 2467)\n",
      "BokehUserWarning: ColumnDataSource's columns must be of the same length. Current lengths: ('fill_color', 2467), ('radius', 2467), ('x', 2531), ('y', 2531)\n",
      "BokehUserWarning: ColumnDataSource's columns must be of the same length. Current lengths: ('fill_color', 2467), ('radius', 2531), ('x', 2531), ('y', 2531)\n"
     ]
    },
    {
     "name": "stdout",
     "output_type": "stream",
     "text": [
      " [x] Consuming Queue Message:'plot.2d'\n",
      " [x] Consuming Queue Message:'plot.2d'\n",
      " [x] Consuming Queue Message:'plot.2d'\n",
      " [x] Consuming Queue Message:'plot.2d'\n"
     ]
    },
    {
     "name": "stderr",
     "output_type": "stream",
     "text": [
      "BokehUserWarning: ColumnDataSource's columns must be of the same length. Current lengths: ('fill_color', 2531), ('radius', 2531), ('x', 2506), ('y', 2531)\n",
      "BokehUserWarning: ColumnDataSource's columns must be of the same length. Current lengths: ('fill_color', 2531), ('radius', 2531), ('x', 2506), ('y', 2506)\n",
      "BokehUserWarning: ColumnDataSource's columns must be of the same length. Current lengths: ('fill_color', 2531), ('radius', 2506), ('x', 2506), ('y', 2506)\n",
      "BokehUserWarning: ColumnDataSource's columns must be of the same length. Current lengths: ('fill_color', 2506), ('radius', 2506), ('x', 2510), ('y', 2506)\n",
      "BokehUserWarning: ColumnDataSource's columns must be of the same length. Current lengths: ('fill_color', 2506), ('radius', 2506), ('x', 2510), ('y', 2510)\n",
      "BokehUserWarning: ColumnDataSource's columns must be of the same length. Current lengths: ('fill_color', 2506), ('radius', 2510), ('x', 2510), ('y', 2510)\n",
      "BokehUserWarning: ColumnDataSource's columns must be of the same length. Current lengths: ('fill_color', 2510), ('radius', 2510), ('x', 2530), ('y', 2510)\n",
      "BokehUserWarning: ColumnDataSource's columns must be of the same length. Current lengths: ('fill_color', 2510), ('radius', 2510), ('x', 2530), ('y', 2530)\n",
      "BokehUserWarning: ColumnDataSource's columns must be of the same length. Current lengths: ('fill_color', 2510), ('radius', 2530), ('x', 2530), ('y', 2530)\n",
      "BokehUserWarning: ColumnDataSource's columns must be of the same length. Current lengths: ('fill_color', 2530), ('radius', 2530), ('x', 2564), ('y', 2530)\n",
      "BokehUserWarning: ColumnDataSource's columns must be of the same length. Current lengths: ('fill_color', 2530), ('radius', 2530), ('x', 2564), ('y', 2564)\n"
     ]
    },
    {
     "name": "stdout",
     "output_type": "stream",
     "text": [
      " [x] Consuming Queue Message:'plot.2d'\n",
      " [x] Consuming Queue Message:'plot.2d'\n",
      " [x] Consuming Queue Message:'plot.2d'\n",
      " [x] Consuming Queue Message:'plot.2d'\n"
     ]
    },
    {
     "name": "stderr",
     "output_type": "stream",
     "text": [
      "BokehUserWarning: ColumnDataSource's columns must be of the same length. Current lengths: ('fill_color', 2530), ('radius', 2564), ('x', 2564), ('y', 2564)\n",
      "BokehUserWarning: ColumnDataSource's columns must be of the same length. Current lengths: ('fill_color', 2564), ('radius', 2564), ('x', 2592), ('y', 2564)\n",
      "BokehUserWarning: ColumnDataSource's columns must be of the same length. Current lengths: ('fill_color', 2564), ('radius', 2564), ('x', 2592), ('y', 2592)\n",
      "BokehUserWarning: ColumnDataSource's columns must be of the same length. Current lengths: ('fill_color', 2564), ('radius', 2592), ('x', 2592), ('y', 2592)\n",
      "BokehUserWarning: ColumnDataSource's columns must be of the same length. Current lengths: ('fill_color', 2592), ('radius', 2592), ('x', 2484), ('y', 2592)\n",
      "BokehUserWarning: ColumnDataSource's columns must be of the same length. Current lengths: ('fill_color', 2592), ('radius', 2592), ('x', 2484), ('y', 2484)\n",
      "BokehUserWarning: ColumnDataSource's columns must be of the same length. Current lengths: ('fill_color', 2592), ('radius', 2484), ('x', 2484), ('y', 2484)\n",
      "BokehUserWarning: ColumnDataSource's columns must be of the same length. Current lengths: ('fill_color', 2484), ('radius', 2484), ('x', 2499), ('y', 2484)\n"
     ]
    },
    {
     "name": "stdout",
     "output_type": "stream",
     "text": [
      " [x] Consuming Queue Message:'plot.2d'\n",
      " [x] Consuming Queue Message:'plot.2d'\n",
      " [x] Consuming Queue Message:'plot.2d'\n",
      " [x] Consuming Queue Message:'plot.2d'\n"
     ]
    },
    {
     "name": "stderr",
     "output_type": "stream",
     "text": [
      "BokehUserWarning: ColumnDataSource's columns must be of the same length. Current lengths: ('fill_color', 2484), ('radius', 2484), ('x', 2499), ('y', 2499)\n",
      "BokehUserWarning: ColumnDataSource's columns must be of the same length. Current lengths: ('fill_color', 2484), ('radius', 2499), ('x', 2499), ('y', 2499)\n",
      "BokehUserWarning: ColumnDataSource's columns must be of the same length. Current lengths: ('fill_color', 2499), ('radius', 2499), ('x', 2484), ('y', 2499)\n",
      "BokehUserWarning: ColumnDataSource's columns must be of the same length. Current lengths: ('fill_color', 2499), ('radius', 2499), ('x', 2484), ('y', 2484)\n",
      "BokehUserWarning: ColumnDataSource's columns must be of the same length. Current lengths: ('fill_color', 2499), ('radius', 2484), ('x', 2484), ('y', 2484)\n",
      "BokehUserWarning: ColumnDataSource's columns must be of the same length. Current lengths: ('fill_color', 2484), ('radius', 2484), ('x', 2524), ('y', 2484)\n",
      "BokehUserWarning: ColumnDataSource's columns must be of the same length. Current lengths: ('fill_color', 2484), ('radius', 2484), ('x', 2524), ('y', 2524)\n",
      "BokehUserWarning: ColumnDataSource's columns must be of the same length. Current lengths: ('fill_color', 2484), ('radius', 2524), ('x', 2524), ('y', 2524)\n",
      "BokehUserWarning: ColumnDataSource's columns must be of the same length. Current lengths: ('fill_color', 2524), ('radius', 2524), ('x', 2510), ('y', 2524)\n",
      "BokehUserWarning: ColumnDataSource's columns must be of the same length. Current lengths: ('fill_color', 2524), ('radius', 2524), ('x', 2510), ('y', 2510)\n",
      "BokehUserWarning: ColumnDataSource's columns must be of the same length. Current lengths: ('fill_color', 2524), ('radius', 2510), ('x', 2510), ('y', 2510)\n"
     ]
    },
    {
     "name": "stdout",
     "output_type": "stream",
     "text": [
      " [x] Consuming Queue Message:'plot.2d'\n",
      " [x] Consuming Queue Message:'plot.2d'\n",
      " [x] Consuming Queue Message:'plot.2d'\n"
     ]
    },
    {
     "name": "stderr",
     "output_type": "stream",
     "text": [
      "BokehUserWarning: ColumnDataSource's columns must be of the same length. Current lengths: ('fill_color', 2510), ('radius', 2510), ('x', 2489), ('y', 2510)\n",
      "BokehUserWarning: ColumnDataSource's columns must be of the same length. Current lengths: ('fill_color', 2510), ('radius', 2510), ('x', 2489), ('y', 2489)\n",
      "BokehUserWarning: ColumnDataSource's columns must be of the same length. Current lengths: ('fill_color', 2510), ('radius', 2489), ('x', 2489), ('y', 2489)\n",
      "BokehUserWarning: ColumnDataSource's columns must be of the same length. Current lengths: ('fill_color', 2489), ('radius', 2489), ('x', 2519), ('y', 2489)\n",
      "BokehUserWarning: ColumnDataSource's columns must be of the same length. Current lengths: ('fill_color', 2489), ('radius', 2489), ('x', 2519), ('y', 2519)\n",
      "BokehUserWarning: ColumnDataSource's columns must be of the same length. Current lengths: ('fill_color', 2489), ('radius', 2519), ('x', 2519), ('y', 2519)\n",
      "BokehUserWarning: ColumnDataSource's columns must be of the same length. Current lengths: ('fill_color', 2519), ('radius', 2519), ('x', 2479), ('y', 2519)\n",
      "BokehUserWarning: ColumnDataSource's columns must be of the same length. Current lengths: ('fill_color', 2519), ('radius', 2519), ('x', 2479), ('y', 2479)\n",
      "BokehUserWarning: ColumnDataSource's columns must be of the same length. Current lengths: ('fill_color', 2519), ('radius', 2479), ('x', 2479), ('y', 2479)\n"
     ]
    },
    {
     "name": "stdout",
     "output_type": "stream",
     "text": [
      " [x] Consuming Queue Message:'plot.2d'\n",
      " [x] Consuming Queue Message:'plot.2d'\n",
      " [x] Consuming Queue Message:'plot.2d'\n",
      " [x] Consuming Queue Message:'plot.2d'\n"
     ]
    },
    {
     "name": "stderr",
     "output_type": "stream",
     "text": [
      "BokehUserWarning: ColumnDataSource's columns must be of the same length. Current lengths: ('fill_color', 2479), ('radius', 2479), ('x', 2485), ('y', 2479)\n",
      "BokehUserWarning: ColumnDataSource's columns must be of the same length. Current lengths: ('fill_color', 2479), ('radius', 2479), ('x', 2485), ('y', 2485)\n",
      "BokehUserWarning: ColumnDataSource's columns must be of the same length. Current lengths: ('fill_color', 2479), ('radius', 2485), ('x', 2485), ('y', 2485)\n",
      "BokehUserWarning: ColumnDataSource's columns must be of the same length. Current lengths: ('fill_color', 2485), ('radius', 2485), ('x', 2361), ('y', 2485)\n",
      "BokehUserWarning: ColumnDataSource's columns must be of the same length. Current lengths: ('fill_color', 2485), ('radius', 2485), ('x', 2361), ('y', 2361)\n",
      "BokehUserWarning: ColumnDataSource's columns must be of the same length. Current lengths: ('fill_color', 2485), ('radius', 2361), ('x', 2361), ('y', 2361)\n",
      "BokehUserWarning: ColumnDataSource's columns must be of the same length. Current lengths: ('fill_color', 2361), ('radius', 2361), ('x', 2528), ('y', 2361)\n",
      "BokehUserWarning: ColumnDataSource's columns must be of the same length. Current lengths: ('fill_color', 2361), ('radius', 2361), ('x', 2528), ('y', 2528)\n",
      "BokehUserWarning: ColumnDataSource's columns must be of the same length. Current lengths: ('fill_color', 2361), ('radius', 2528), ('x', 2528), ('y', 2528)\n",
      "BokehUserWarning: ColumnDataSource's columns must be of the same length. Current lengths: ('fill_color', 2528), ('radius', 2528), ('x', 2466), ('y', 2528)\n",
      "BokehUserWarning: ColumnDataSource's columns must be of the same length. Current lengths: ('fill_color', 2528), ('radius', 2528), ('x', 2466), ('y', 2466)\n",
      "BokehUserWarning: ColumnDataSource's columns must be of the same length. Current lengths: ('fill_color', 2528), ('radius', 2466), ('x', 2466), ('y', 2466)\n"
     ]
    },
    {
     "name": "stdout",
     "output_type": "stream",
     "text": [
      " [x] Consuming Queue Message:'plot.2d'\n",
      " [x] Consuming Queue Message:'plot.2d'\n",
      " [x] Consuming Queue Message:'plot.2d'\n"
     ]
    },
    {
     "name": "stderr",
     "output_type": "stream",
     "text": [
      "BokehUserWarning: ColumnDataSource's columns must be of the same length. Current lengths: ('fill_color', 2466), ('radius', 2466), ('x', 2523), ('y', 2466)\n",
      "BokehUserWarning: ColumnDataSource's columns must be of the same length. Current lengths: ('fill_color', 2466), ('radius', 2466), ('x', 2523), ('y', 2523)\n",
      "BokehUserWarning: ColumnDataSource's columns must be of the same length. Current lengths: ('fill_color', 2466), ('radius', 2523), ('x', 2523), ('y', 2523)\n",
      "BokehUserWarning: ColumnDataSource's columns must be of the same length. Current lengths: ('fill_color', 2523), ('radius', 2523), ('x', 2434), ('y', 2523)\n",
      "BokehUserWarning: ColumnDataSource's columns must be of the same length. Current lengths: ('fill_color', 2523), ('radius', 2523), ('x', 2434), ('y', 2434)\n",
      "BokehUserWarning: ColumnDataSource's columns must be of the same length. Current lengths: ('fill_color', 2523), ('radius', 2434), ('x', 2434), ('y', 2434)\n",
      "BokehUserWarning: ColumnDataSource's columns must be of the same length. Current lengths: ('fill_color', 2434), ('radius', 2434), ('x', 2476), ('y', 2434)\n",
      "BokehUserWarning: ColumnDataSource's columns must be of the same length. Current lengths: ('fill_color', 2434), ('radius', 2434), ('x', 2476), ('y', 2476)\n",
      "BokehUserWarning: ColumnDataSource's columns must be of the same length. Current lengths: ('fill_color', 2434), ('radius', 2476), ('x', 2476), ('y', 2476)\n"
     ]
    },
    {
     "name": "stdout",
     "output_type": "stream",
     "text": [
      " [x] Consuming Queue Message:'plot.2d'\n",
      " [x] Consuming Queue Message:'plot.2d'\n",
      " [x] Consuming Queue Message:'plot.2d'\n"
     ]
    },
    {
     "name": "stderr",
     "output_type": "stream",
     "text": [
      "BokehUserWarning: ColumnDataSource's columns must be of the same length. Current lengths: ('fill_color', 2476), ('radius', 2476), ('x', 2533), ('y', 2476)\n",
      "BokehUserWarning: ColumnDataSource's columns must be of the same length. Current lengths: ('fill_color', 2476), ('radius', 2476), ('x', 2533), ('y', 2533)\n",
      "BokehUserWarning: ColumnDataSource's columns must be of the same length. Current lengths: ('fill_color', 2476), ('radius', 2533), ('x', 2533), ('y', 2533)\n",
      "BokehUserWarning: ColumnDataSource's columns must be of the same length. Current lengths: ('fill_color', 2533), ('radius', 2533), ('x', 2517), ('y', 2533)\n",
      "BokehUserWarning: ColumnDataSource's columns must be of the same length. Current lengths: ('fill_color', 2533), ('radius', 2533), ('x', 2517), ('y', 2517)\n",
      "BokehUserWarning: ColumnDataSource's columns must be of the same length. Current lengths: ('fill_color', 2533), ('radius', 2517), ('x', 2517), ('y', 2517)\n",
      "BokehUserWarning: ColumnDataSource's columns must be of the same length. Current lengths: ('fill_color', 2517), ('radius', 2517), ('x', 2431), ('y', 2517)\n",
      "BokehUserWarning: ColumnDataSource's columns must be of the same length. Current lengths: ('fill_color', 2517), ('radius', 2517), ('x', 2431), ('y', 2431)\n",
      "BokehUserWarning: ColumnDataSource's columns must be of the same length. Current lengths: ('fill_color', 2517), ('radius', 2431), ('x', 2431), ('y', 2431)\n",
      "BokehUserWarning: ColumnDataSource's columns must be of the same length. Current lengths: ('fill_color', 2431), ('radius', 2431), ('x', 2421), ('y', 2431)\n",
      "BokehUserWarning: ColumnDataSource's columns must be of the same length. Current lengths: ('fill_color', 2431), ('radius', 2431), ('x', 2421), ('y', 2421)\n"
     ]
    },
    {
     "name": "stdout",
     "output_type": "stream",
     "text": [
      " [x] Consuming Queue Message:'plot.2d'\n",
      " [x] Consuming Queue Message:'plot.2d'\n",
      " [x] Consuming Queue Message:'plot.2d'\n"
     ]
    },
    {
     "name": "stderr",
     "output_type": "stream",
     "text": [
      "BokehUserWarning: ColumnDataSource's columns must be of the same length. Current lengths: ('fill_color', 2431), ('radius', 2421), ('x', 2421), ('y', 2421)\n",
      "BokehUserWarning: ColumnDataSource's columns must be of the same length. Current lengths: ('fill_color', 2421), ('radius', 2421), ('x', 2401), ('y', 2421)\n",
      "BokehUserWarning: ColumnDataSource's columns must be of the same length. Current lengths: ('fill_color', 2421), ('radius', 2421), ('x', 2401), ('y', 2401)\n",
      "BokehUserWarning: ColumnDataSource's columns must be of the same length. Current lengths: ('fill_color', 2421), ('radius', 2401), ('x', 2401), ('y', 2401)\n",
      "BokehUserWarning: ColumnDataSource's columns must be of the same length. Current lengths: ('fill_color', 2401), ('radius', 2401), ('x', 2489), ('y', 2401)\n",
      "BokehUserWarning: ColumnDataSource's columns must be of the same length. Current lengths: ('fill_color', 2401), ('radius', 2401), ('x', 2489), ('y', 2489)\n",
      "BokehUserWarning: ColumnDataSource's columns must be of the same length. Current lengths: ('fill_color', 2401), ('radius', 2489), ('x', 2489), ('y', 2489)\n",
      "BokehUserWarning: ColumnDataSource's columns must be of the same length. Current lengths: ('fill_color', 2489), ('radius', 2489), ('x', 2485), ('y', 2489)\n",
      "BokehUserWarning: ColumnDataSource's columns must be of the same length. Current lengths: ('fill_color', 2489), ('radius', 2489), ('x', 2485), ('y', 2485)\n",
      "BokehUserWarning: ColumnDataSource's columns must be of the same length. Current lengths: ('fill_color', 2489), ('radius', 2485), ('x', 2485), ('y', 2485)\n"
     ]
    },
    {
     "name": "stdout",
     "output_type": "stream",
     "text": [
      " [x] Consuming Queue Message:'plot.2d'\n",
      " [x] Consuming Queue Message:'plot.2d'\n",
      " [x] Consuming Queue Message:'plot.2d'\n",
      " [x] Consuming Queue Message:'plot.2d'\n"
     ]
    },
    {
     "name": "stderr",
     "output_type": "stream",
     "text": [
      "BokehUserWarning: ColumnDataSource's columns must be of the same length. Current lengths: ('fill_color', 2485), ('radius', 2485), ('x', 2374), ('y', 2485)\n",
      "BokehUserWarning: ColumnDataSource's columns must be of the same length. Current lengths: ('fill_color', 2485), ('radius', 2485), ('x', 2374), ('y', 2374)\n",
      "BokehUserWarning: ColumnDataSource's columns must be of the same length. Current lengths: ('fill_color', 2485), ('radius', 2374), ('x', 2374), ('y', 2374)\n",
      "BokehUserWarning: ColumnDataSource's columns must be of the same length. Current lengths: ('fill_color', 2374), ('radius', 2374), ('x', 2474), ('y', 2374)\n",
      "BokehUserWarning: ColumnDataSource's columns must be of the same length. Current lengths: ('fill_color', 2374), ('radius', 2374), ('x', 2474), ('y', 2474)\n",
      "BokehUserWarning: ColumnDataSource's columns must be of the same length. Current lengths: ('fill_color', 2374), ('radius', 2474), ('x', 2474), ('y', 2474)\n",
      "BokehUserWarning: ColumnDataSource's columns must be of the same length. Current lengths: ('fill_color', 2474), ('radius', 2474), ('x', 2524), ('y', 2474)\n",
      "BokehUserWarning: ColumnDataSource's columns must be of the same length. Current lengths: ('fill_color', 2474), ('radius', 2474), ('x', 2524), ('y', 2524)\n",
      "BokehUserWarning: ColumnDataSource's columns must be of the same length. Current lengths: ('fill_color', 2474), ('radius', 2524), ('x', 2524), ('y', 2524)\n"
     ]
    },
    {
     "name": "stdout",
     "output_type": "stream",
     "text": [
      " [x] Consuming Queue Message:'plot.2d'\n",
      " [x] Consuming Queue Message:'plot.2d'\n",
      " [x] Consuming Queue Message:'plot.2d'\n",
      " [x] Consuming Queue Message:'plot.2d'\n"
     ]
    },
    {
     "name": "stderr",
     "output_type": "stream",
     "text": [
      "BokehUserWarning: ColumnDataSource's columns must be of the same length. Current lengths: ('fill_color', 2524), ('radius', 2524), ('x', 2520), ('y', 2524)\n",
      "BokehUserWarning: ColumnDataSource's columns must be of the same length. Current lengths: ('fill_color', 2524), ('radius', 2524), ('x', 2520), ('y', 2520)\n",
      "BokehUserWarning: ColumnDataSource's columns must be of the same length. Current lengths: ('fill_color', 2524), ('radius', 2520), ('x', 2520), ('y', 2520)\n",
      "BokehUserWarning: ColumnDataSource's columns must be of the same length. Current lengths: ('fill_color', 2520), ('radius', 2520), ('x', 2508), ('y', 2520)\n",
      "BokehUserWarning: ColumnDataSource's columns must be of the same length. Current lengths: ('fill_color', 2520), ('radius', 2520), ('x', 2508), ('y', 2508)\n",
      "BokehUserWarning: ColumnDataSource's columns must be of the same length. Current lengths: ('fill_color', 2520), ('radius', 2508), ('x', 2508), ('y', 2508)\n",
      "BokehUserWarning: ColumnDataSource's columns must be of the same length. Current lengths: ('fill_color', 2508), ('radius', 2508), ('x', 2536), ('y', 2508)\n",
      "BokehUserWarning: ColumnDataSource's columns must be of the same length. Current lengths: ('fill_color', 2508), ('radius', 2508), ('x', 2536), ('y', 2536)\n",
      "BokehUserWarning: ColumnDataSource's columns must be of the same length. Current lengths: ('fill_color', 2508), ('radius', 2536), ('x', 2536), ('y', 2536)\n"
     ]
    },
    {
     "name": "stdout",
     "output_type": "stream",
     "text": [
      " [x] Consuming Queue Message:'plot.2d'\n",
      " [x] Consuming Queue Message:'plot.2d'\n",
      " [x] Consuming Queue Message:'plot.2d'\n",
      " [x] Consuming Queue Message:'plot.2d'\n"
     ]
    },
    {
     "name": "stderr",
     "output_type": "stream",
     "text": [
      "BokehUserWarning: ColumnDataSource's columns must be of the same length. Current lengths: ('fill_color', 2536), ('radius', 2536), ('x', 2506), ('y', 2536)\n",
      "BokehUserWarning: ColumnDataSource's columns must be of the same length. Current lengths: ('fill_color', 2536), ('radius', 2536), ('x', 2506), ('y', 2506)\n",
      "BokehUserWarning: ColumnDataSource's columns must be of the same length. Current lengths: ('fill_color', 2536), ('radius', 2506), ('x', 2506), ('y', 2506)\n",
      "BokehUserWarning: ColumnDataSource's columns must be of the same length. Current lengths: ('fill_color', 2506), ('radius', 2506), ('x', 2467), ('y', 2506)\n",
      "BokehUserWarning: ColumnDataSource's columns must be of the same length. Current lengths: ('fill_color', 2506), ('radius', 2506), ('x', 2467), ('y', 2467)\n",
      "BokehUserWarning: ColumnDataSource's columns must be of the same length. Current lengths: ('fill_color', 2506), ('radius', 2467), ('x', 2467), ('y', 2467)\n",
      "BokehUserWarning: ColumnDataSource's columns must be of the same length. Current lengths: ('fill_color', 2467), ('radius', 2467), ('x', 2526), ('y', 2467)\n",
      "BokehUserWarning: ColumnDataSource's columns must be of the same length. Current lengths: ('fill_color', 2467), ('radius', 2467), ('x', 2526), ('y', 2526)\n",
      "BokehUserWarning: ColumnDataSource's columns must be of the same length. Current lengths: ('fill_color', 2467), ('radius', 2526), ('x', 2526), ('y', 2526)\n",
      "BokehUserWarning: ColumnDataSource's columns must be of the same length. Current lengths: ('fill_color', 2526), ('radius', 2526), ('x', 2463), ('y', 2526)\n",
      "BokehUserWarning: ColumnDataSource's columns must be of the same length. Current lengths: ('fill_color', 2526), ('radius', 2526), ('x', 2463), ('y', 2463)\n",
      "BokehUserWarning: ColumnDataSource's columns must be of the same length. Current lengths: ('fill_color', 2526), ('radius', 2463), ('x', 2463), ('y', 2463)\n",
      "BokehUserWarning: ColumnDataSource's columns must be of the same length. Current lengths: ('fill_color', 2463), ('radius', 2463), ('x', 2490), ('y', 2463)\n",
      "BokehUserWarning: ColumnDataSource's columns must be of the same length. Current lengths: ('fill_color', 2463), ('radius', 2463), ('x', 2490), ('y', 2490)\n",
      "BokehUserWarning: ColumnDataSource's columns must be of the same length. Current lengths: ('fill_color', 2463), ('radius', 2490), ('x', 2490), ('y', 2490)\n",
      "BokehUserWarning: ColumnDataSource's columns must be of the same length. Current lengths: ('fill_color', 2490), ('radius', 2490), ('x', 2555), ('y', 2490)\n",
      "BokehUserWarning: ColumnDataSource's columns must be of the same length. Current lengths: ('fill_color', 2490), ('radius', 2490), ('x', 2555), ('y', 2555)\n",
      "BokehUserWarning: ColumnDataSource's columns must be of the same length. Current lengths: ('fill_color', 2490), ('radius', 2555), ('x', 2555), ('y', 2555)\n",
      "BokehUserWarning: ColumnDataSource's columns must be of the same length. Current lengths: ('fill_color', 2555), ('radius', 2555), ('x', 2533), ('y', 2555)\n",
      "BokehUserWarning: ColumnDataSource's columns must be of the same length. Current lengths: ('fill_color', 2555), ('radius', 2555), ('x', 2533), ('y', 2533)\n"
     ]
    },
    {
     "name": "stdout",
     "output_type": "stream",
     "text": [
      " [x] Consuming Queue Message:'plot.2d'\n",
      " [x] Consuming Queue Message:'plot.2d'\n",
      " [x] Consuming Queue Message:'plot.2d'\n"
     ]
    },
    {
     "name": "stderr",
     "output_type": "stream",
     "text": [
      "BokehUserWarning: ColumnDataSource's columns must be of the same length. Current lengths: ('fill_color', 2555), ('radius', 2533), ('x', 2533), ('y', 2533)\n",
      "BokehUserWarning: ColumnDataSource's columns must be of the same length. Current lengths: ('fill_color', 2533), ('radius', 2533), ('x', 2447), ('y', 2533)\n",
      "BokehUserWarning: ColumnDataSource's columns must be of the same length. Current lengths: ('fill_color', 2533), ('radius', 2533), ('x', 2447), ('y', 2447)\n",
      "BokehUserWarning: ColumnDataSource's columns must be of the same length. Current lengths: ('fill_color', 2533), ('radius', 2447), ('x', 2447), ('y', 2447)\n"
     ]
    },
    {
     "name": "stdout",
     "output_type": "stream",
     "text": [
      " [x] Consuming Queue Message:'plot.2d'\n",
      " [x] Consuming Queue Message:'plot.2d'\n",
      " [x] Consuming Queue Message:'plot.2d'\n",
      " [x] Consuming Queue Message:'plot.2d'\n",
      " [x] Consuming Queue Message:'plot.2d'\n",
      " [x] Consuming Queue Message:'plot.2d'\n"
     ]
    },
    {
     "name": "stderr",
     "output_type": "stream",
     "text": [
      "BokehUserWarning: ColumnDataSource's columns must be of the same length. Current lengths: ('fill_color', 2447), ('radius', 2447), ('x', 2588), ('y', 2447)\n",
      "BokehUserWarning: ColumnDataSource's columns must be of the same length. Current lengths: ('fill_color', 2447), ('radius', 2447), ('x', 2588), ('y', 2588)\n",
      "BokehUserWarning: ColumnDataSource's columns must be of the same length. Current lengths: ('fill_color', 2447), ('radius', 2588), ('x', 2588), ('y', 2588)\n",
      "BokehUserWarning: ColumnDataSource's columns must be of the same length. Current lengths: ('fill_color', 2588), ('radius', 2588), ('x', 2484), ('y', 2588)\n",
      "BokehUserWarning: ColumnDataSource's columns must be of the same length. Current lengths: ('fill_color', 2588), ('radius', 2588), ('x', 2484), ('y', 2484)\n",
      "BokehUserWarning: ColumnDataSource's columns must be of the same length. Current lengths: ('fill_color', 2588), ('radius', 2484), ('x', 2484), ('y', 2484)\n",
      "BokehUserWarning: ColumnDataSource's columns must be of the same length. Current lengths: ('fill_color', 2484), ('radius', 2484), ('x', 2515), ('y', 2484)\n",
      "BokehUserWarning: ColumnDataSource's columns must be of the same length. Current lengths: ('fill_color', 2484), ('radius', 2484), ('x', 2515), ('y', 2515)\n",
      "BokehUserWarning: ColumnDataSource's columns must be of the same length. Current lengths: ('fill_color', 2484), ('radius', 2515), ('x', 2515), ('y', 2515)\n",
      "BokehUserWarning: ColumnDataSource's columns must be of the same length. Current lengths: ('fill_color', 2515), ('radius', 2515), ('x', 2474), ('y', 2515)\n",
      "BokehUserWarning: ColumnDataSource's columns must be of the same length. Current lengths: ('fill_color', 2515), ('radius', 2515), ('x', 2474), ('y', 2474)\n",
      "BokehUserWarning: ColumnDataSource's columns must be of the same length. Current lengths: ('fill_color', 2515), ('radius', 2474), ('x', 2474), ('y', 2474)\n"
     ]
    },
    {
     "name": "stdout",
     "output_type": "stream",
     "text": [
      " [x] Consuming Queue Message:'plot.2d'\n",
      " [x] Consuming Queue Message:'plot.2d'\n",
      " [x] Consuming Queue Message:'plot.2d'\n",
      " [x] Consuming Queue Message:'plot.2d'\n",
      " [x] Consuming Queue Message:'plot.2d'\n"
     ]
    },
    {
     "name": "stderr",
     "output_type": "stream",
     "text": [
      "BokehUserWarning: ColumnDataSource's columns must be of the same length. Current lengths: ('fill_color', 2474), ('radius', 2474), ('x', 2541), ('y', 2474)\n",
      "BokehUserWarning: ColumnDataSource's columns must be of the same length. Current lengths: ('fill_color', 2474), ('radius', 2474), ('x', 2541), ('y', 2541)\n",
      "BokehUserWarning: ColumnDataSource's columns must be of the same length. Current lengths: ('fill_color', 2474), ('radius', 2541), ('x', 2541), ('y', 2541)\n",
      "BokehUserWarning: ColumnDataSource's columns must be of the same length. Current lengths: ('fill_color', 2541), ('radius', 2541), ('x', 2550), ('y', 2541)\n",
      "BokehUserWarning: ColumnDataSource's columns must be of the same length. Current lengths: ('fill_color', 2541), ('radius', 2541), ('x', 2550), ('y', 2550)\n",
      "BokehUserWarning: ColumnDataSource's columns must be of the same length. Current lengths: ('fill_color', 2541), ('radius', 2550), ('x', 2550), ('y', 2550)\n",
      "BokehUserWarning: ColumnDataSource's columns must be of the same length. Current lengths: ('fill_color', 2550), ('radius', 2550), ('x', 2505), ('y', 2550)\n",
      "BokehUserWarning: ColumnDataSource's columns must be of the same length. Current lengths: ('fill_color', 2550), ('radius', 2550), ('x', 2505), ('y', 2505)\n",
      "BokehUserWarning: ColumnDataSource's columns must be of the same length. Current lengths: ('fill_color', 2550), ('radius', 2505), ('x', 2505), ('y', 2505)\n",
      "BokehUserWarning: ColumnDataSource's columns must be of the same length. Current lengths: ('fill_color', 2505), ('radius', 2505), ('x', 2485), ('y', 2505)\n",
      "BokehUserWarning: ColumnDataSource's columns must be of the same length. Current lengths: ('fill_color', 2505), ('radius', 2505), ('x', 2485), ('y', 2485)\n",
      "BokehUserWarning: ColumnDataSource's columns must be of the same length. Current lengths: ('fill_color', 2505), ('radius', 2485), ('x', 2485), ('y', 2485)\n",
      "BokehUserWarning: ColumnDataSource's columns must be of the same length. Current lengths: ('fill_color', 2485), ('radius', 2485), ('x', 2516), ('y', 2485)\n",
      "BokehUserWarning: ColumnDataSource's columns must be of the same length. Current lengths: ('fill_color', 2485), ('radius', 2485), ('x', 2516), ('y', 2516)\n",
      "BokehUserWarning: ColumnDataSource's columns must be of the same length. Current lengths: ('fill_color', 2485), ('radius', 2516), ('x', 2516), ('y', 2516)\n",
      "BokehUserWarning: ColumnDataSource's columns must be of the same length. Current lengths: ('fill_color', 2516), ('radius', 2516), ('x', 2474), ('y', 2516)\n",
      "BokehUserWarning: ColumnDataSource's columns must be of the same length. Current lengths: ('fill_color', 2516), ('radius', 2516), ('x', 2474), ('y', 2474)\n",
      "BokehUserWarning: ColumnDataSource's columns must be of the same length. Current lengths: ('fill_color', 2516), ('radius', 2474), ('x', 2474), ('y', 2474)\n",
      "BokehUserWarning: ColumnDataSource's columns must be of the same length. Current lengths: ('fill_color', 2474), ('radius', 2474), ('x', 2471), ('y', 2474)\n",
      "BokehUserWarning: ColumnDataSource's columns must be of the same length. Current lengths: ('fill_color', 2474), ('radius', 2474), ('x', 2471), ('y', 2471)\n",
      "BokehUserWarning: ColumnDataSource's columns must be of the same length. Current lengths: ('fill_color', 2474), ('radius', 2471), ('x', 2471), ('y', 2471)\n",
      "BokehUserWarning: ColumnDataSource's columns must be of the same length. Current lengths: ('fill_color', 2471), ('radius', 2471), ('x', 2483), ('y', 2471)\n"
     ]
    },
    {
     "name": "stdout",
     "output_type": "stream",
     "text": [
      " [x] Consuming Queue Message:'plot.2d'\n",
      " [x] Consuming Queue Message:'plot.2d'\n",
      " [x] Consuming Queue Message:'plot.2d'\n",
      " [x] Consuming Queue Message:'plot.2d'\n"
     ]
    },
    {
     "name": "stderr",
     "output_type": "stream",
     "text": [
      "BokehUserWarning: ColumnDataSource's columns must be of the same length. Current lengths: ('fill_color', 2471), ('radius', 2471), ('x', 2483), ('y', 2483)\n",
      "BokehUserWarning: ColumnDataSource's columns must be of the same length. Current lengths: ('fill_color', 2471), ('radius', 2483), ('x', 2483), ('y', 2483)\n",
      "BokehUserWarning: ColumnDataSource's columns must be of the same length. Current lengths: ('fill_color', 2483), ('radius', 2483), ('x', 2443), ('y', 2483)\n",
      "BokehUserWarning: ColumnDataSource's columns must be of the same length. Current lengths: ('fill_color', 2483), ('radius', 2483), ('x', 2443), ('y', 2443)\n",
      "BokehUserWarning: ColumnDataSource's columns must be of the same length. Current lengths: ('fill_color', 2483), ('radius', 2443), ('x', 2443), ('y', 2443)\n",
      "BokehUserWarning: ColumnDataSource's columns must be of the same length. Current lengths: ('fill_color', 2443), ('radius', 2443), ('x', 2541), ('y', 2443)\n",
      "BokehUserWarning: ColumnDataSource's columns must be of the same length. Current lengths: ('fill_color', 2443), ('radius', 2443), ('x', 2541), ('y', 2541)\n",
      "BokehUserWarning: ColumnDataSource's columns must be of the same length. Current lengths: ('fill_color', 2443), ('radius', 2541), ('x', 2541), ('y', 2541)\n",
      "BokehUserWarning: ColumnDataSource's columns must be of the same length. Current lengths: ('fill_color', 2541), ('radius', 2541), ('x', 2628), ('y', 2541)\n",
      "BokehUserWarning: ColumnDataSource's columns must be of the same length. Current lengths: ('fill_color', 2541), ('radius', 2541), ('x', 2628), ('y', 2628)\n",
      "BokehUserWarning: ColumnDataSource's columns must be of the same length. Current lengths: ('fill_color', 2541), ('radius', 2628), ('x', 2628), ('y', 2628)\n"
     ]
    },
    {
     "name": "stdout",
     "output_type": "stream",
     "text": [
      " [x] Consuming Queue Message:'plot.2d'\n",
      " [x] Consuming Queue Message:'plot.2d'\n",
      " [x] Consuming Queue Message:'plot.2d'\n",
      " [x] Consuming Queue Message:'plot.2d'\n"
     ]
    },
    {
     "name": "stderr",
     "output_type": "stream",
     "text": [
      "BokehUserWarning: ColumnDataSource's columns must be of the same length. Current lengths: ('fill_color', 2628), ('radius', 2628), ('x', 2489), ('y', 2628)\n",
      "BokehUserWarning: ColumnDataSource's columns must be of the same length. Current lengths: ('fill_color', 2628), ('radius', 2628), ('x', 2489), ('y', 2489)\n",
      "BokehUserWarning: ColumnDataSource's columns must be of the same length. Current lengths: ('fill_color', 2628), ('radius', 2489), ('x', 2489), ('y', 2489)\n",
      "BokehUserWarning: ColumnDataSource's columns must be of the same length. Current lengths: ('fill_color', 2489), ('radius', 2489), ('x', 2482), ('y', 2489)\n",
      "BokehUserWarning: ColumnDataSource's columns must be of the same length. Current lengths: ('fill_color', 2489), ('radius', 2489), ('x', 2482), ('y', 2482)\n",
      "BokehUserWarning: ColumnDataSource's columns must be of the same length. Current lengths: ('fill_color', 2489), ('radius', 2482), ('x', 2482), ('y', 2482)\n",
      "BokehUserWarning: ColumnDataSource's columns must be of the same length. Current lengths: ('fill_color', 2482), ('radius', 2482), ('x', 2415), ('y', 2482)\n",
      "BokehUserWarning: ColumnDataSource's columns must be of the same length. Current lengths: ('fill_color', 2482), ('radius', 2482), ('x', 2415), ('y', 2415)\n"
     ]
    },
    {
     "name": "stdout",
     "output_type": "stream",
     "text": [
      " [x] Consuming Queue Message:'plot.2d'\n",
      " [x] Consuming Queue Message:'plot.2d'\n",
      " [x] Consuming Queue Message:'plot.2d'\n"
     ]
    },
    {
     "name": "stderr",
     "output_type": "stream",
     "text": [
      "BokehUserWarning: ColumnDataSource's columns must be of the same length. Current lengths: ('fill_color', 2482), ('radius', 2415), ('x', 2415), ('y', 2415)\n",
      "BokehUserWarning: ColumnDataSource's columns must be of the same length. Current lengths: ('fill_color', 2415), ('radius', 2415), ('x', 2576), ('y', 2415)\n",
      "BokehUserWarning: ColumnDataSource's columns must be of the same length. Current lengths: ('fill_color', 2415), ('radius', 2415), ('x', 2576), ('y', 2576)\n",
      "BokehUserWarning: ColumnDataSource's columns must be of the same length. Current lengths: ('fill_color', 2415), ('radius', 2576), ('x', 2576), ('y', 2576)\n",
      "BokehUserWarning: ColumnDataSource's columns must be of the same length. Current lengths: ('fill_color', 2576), ('radius', 2576), ('x', 2534), ('y', 2576)\n",
      "BokehUserWarning: ColumnDataSource's columns must be of the same length. Current lengths: ('fill_color', 2576), ('radius', 2576), ('x', 2534), ('y', 2534)\n",
      "BokehUserWarning: ColumnDataSource's columns must be of the same length. Current lengths: ('fill_color', 2576), ('radius', 2534), ('x', 2534), ('y', 2534)\n",
      "BokehUserWarning: ColumnDataSource's columns must be of the same length. Current lengths: ('fill_color', 2534), ('radius', 2534), ('x', 2498), ('y', 2534)\n"
     ]
    },
    {
     "name": "stdout",
     "output_type": "stream",
     "text": [
      " [x] Consuming Queue Message:'plot.2d'\n",
      " [x] Consuming Queue Message:'plot.2d'\n",
      " [x] Consuming Queue Message:'plot.2d'\n",
      " [x] Consuming Queue Message:'plot.2d'\n"
     ]
    },
    {
     "name": "stderr",
     "output_type": "stream",
     "text": [
      "BokehUserWarning: ColumnDataSource's columns must be of the same length. Current lengths: ('fill_color', 2534), ('radius', 2534), ('x', 2498), ('y', 2498)\n",
      "BokehUserWarning: ColumnDataSource's columns must be of the same length. Current lengths: ('fill_color', 2534), ('radius', 2498), ('x', 2498), ('y', 2498)\n",
      "BokehUserWarning: ColumnDataSource's columns must be of the same length. Current lengths: ('fill_color', 2498), ('radius', 2498), ('x', 2513), ('y', 2498)\n",
      "BokehUserWarning: ColumnDataSource's columns must be of the same length. Current lengths: ('fill_color', 2498), ('radius', 2498), ('x', 2513), ('y', 2513)\n",
      "BokehUserWarning: ColumnDataSource's columns must be of the same length. Current lengths: ('fill_color', 2498), ('radius', 2513), ('x', 2513), ('y', 2513)\n",
      "BokehUserWarning: ColumnDataSource's columns must be of the same length. Current lengths: ('fill_color', 2513), ('radius', 2513), ('x', 2480), ('y', 2513)\n",
      "BokehUserWarning: ColumnDataSource's columns must be of the same length. Current lengths: ('fill_color', 2513), ('radius', 2513), ('x', 2480), ('y', 2480)\n",
      "BokehUserWarning: ColumnDataSource's columns must be of the same length. Current lengths: ('fill_color', 2513), ('radius', 2480), ('x', 2480), ('y', 2480)\n",
      "BokehUserWarning: ColumnDataSource's columns must be of the same length. Current lengths: ('fill_color', 2480), ('radius', 2480), ('x', 2516), ('y', 2480)\n",
      "BokehUserWarning: ColumnDataSource's columns must be of the same length. Current lengths: ('fill_color', 2480), ('radius', 2480), ('x', 2516), ('y', 2516)\n",
      "BokehUserWarning: ColumnDataSource's columns must be of the same length. Current lengths: ('fill_color', 2480), ('radius', 2516), ('x', 2516), ('y', 2516)\n",
      "BokehUserWarning: ColumnDataSource's columns must be of the same length. Current lengths: ('fill_color', 2516), ('radius', 2516), ('x', 2535), ('y', 2516)\n",
      "BokehUserWarning: ColumnDataSource's columns must be of the same length. Current lengths: ('fill_color', 2516), ('radius', 2516), ('x', 2535), ('y', 2535)\n",
      "BokehUserWarning: ColumnDataSource's columns must be of the same length. Current lengths: ('fill_color', 2516), ('radius', 2535), ('x', 2535), ('y', 2535)\n"
     ]
    },
    {
     "name": "stdout",
     "output_type": "stream",
     "text": [
      " [x] Consuming Queue Message:'plot.2d'\n",
      " [x] Consuming Queue Message:'plot.2d'\n",
      " [x] Consuming Queue Message:'plot.2d'\n"
     ]
    },
    {
     "name": "stderr",
     "output_type": "stream",
     "text": [
      "BokehUserWarning: ColumnDataSource's columns must be of the same length. Current lengths: ('fill_color', 2535), ('radius', 2535), ('x', 2488), ('y', 2535)\n",
      "BokehUserWarning: ColumnDataSource's columns must be of the same length. Current lengths: ('fill_color', 2535), ('radius', 2535), ('x', 2488), ('y', 2488)\n",
      "BokehUserWarning: ColumnDataSource's columns must be of the same length. Current lengths: ('fill_color', 2535), ('radius', 2488), ('x', 2488), ('y', 2488)\n",
      "BokehUserWarning: ColumnDataSource's columns must be of the same length. Current lengths: ('fill_color', 2488), ('radius', 2488), ('x', 2492), ('y', 2488)\n",
      "BokehUserWarning: ColumnDataSource's columns must be of the same length. Current lengths: ('fill_color', 2488), ('radius', 2488), ('x', 2492), ('y', 2492)\n",
      "BokehUserWarning: ColumnDataSource's columns must be of the same length. Current lengths: ('fill_color', 2488), ('radius', 2492), ('x', 2492), ('y', 2492)\n",
      "BokehUserWarning: ColumnDataSource's columns must be of the same length. Current lengths: ('fill_color', 2492), ('radius', 2492), ('x', 2489), ('y', 2492)\n",
      "BokehUserWarning: ColumnDataSource's columns must be of the same length. Current lengths: ('fill_color', 2492), ('radius', 2492), ('x', 2489), ('y', 2489)\n",
      "BokehUserWarning: ColumnDataSource's columns must be of the same length. Current lengths: ('fill_color', 2492), ('radius', 2489), ('x', 2489), ('y', 2489)\n",
      "BokehUserWarning: ColumnDataSource's columns must be of the same length. Current lengths: ('fill_color', 2489), ('radius', 2489), ('x', 2501), ('y', 2489)\n"
     ]
    },
    {
     "name": "stdout",
     "output_type": "stream",
     "text": [
      " [x] Consuming Queue Message:'plot.2d'\n",
      " [x] Consuming Queue Message:'plot.2d'\n",
      " [x] Consuming Queue Message:'plot.2d'\n",
      " [x] Consuming Queue Message:'plot.2d'\n"
     ]
    },
    {
     "name": "stderr",
     "output_type": "stream",
     "text": [
      "BokehUserWarning: ColumnDataSource's columns must be of the same length. Current lengths: ('fill_color', 2489), ('radius', 2489), ('x', 2501), ('y', 2501)\n",
      "BokehUserWarning: ColumnDataSource's columns must be of the same length. Current lengths: ('fill_color', 2489), ('radius', 2501), ('x', 2501), ('y', 2501)\n",
      "BokehUserWarning: ColumnDataSource's columns must be of the same length. Current lengths: ('fill_color', 2501), ('radius', 2501), ('x', 2473), ('y', 2501)\n",
      "BokehUserWarning: ColumnDataSource's columns must be of the same length. Current lengths: ('fill_color', 2501), ('radius', 2501), ('x', 2473), ('y', 2473)\n",
      "BokehUserWarning: ColumnDataSource's columns must be of the same length. Current lengths: ('fill_color', 2501), ('radius', 2473), ('x', 2473), ('y', 2473)\n",
      "BokehUserWarning: ColumnDataSource's columns must be of the same length. Current lengths: ('fill_color', 2473), ('radius', 2473), ('x', 2481), ('y', 2473)\n",
      "BokehUserWarning: ColumnDataSource's columns must be of the same length. Current lengths: ('fill_color', 2473), ('radius', 2473), ('x', 2481), ('y', 2481)\n",
      "BokehUserWarning: ColumnDataSource's columns must be of the same length. Current lengths: ('fill_color', 2473), ('radius', 2481), ('x', 2481), ('y', 2481)\n",
      "BokehUserWarning: ColumnDataSource's columns must be of the same length. Current lengths: ('fill_color', 2481), ('radius', 2481), ('x', 2470), ('y', 2481)\n",
      "BokehUserWarning: ColumnDataSource's columns must be of the same length. Current lengths: ('fill_color', 2481), ('radius', 2481), ('x', 2470), ('y', 2470)\n",
      "BokehUserWarning: ColumnDataSource's columns must be of the same length. Current lengths: ('fill_color', 2481), ('radius', 2470), ('x', 2470), ('y', 2470)\n",
      "BokehUserWarning: ColumnDataSource's columns must be of the same length. Current lengths: ('fill_color', 2470), ('radius', 2470), ('x', 2556), ('y', 2470)\n"
     ]
    },
    {
     "name": "stdout",
     "output_type": "stream",
     "text": [
      " [x] Consuming Queue Message:'plot.2d'\n",
      " [x] Consuming Queue Message:'plot.2d'\n",
      " [x] Consuming Queue Message:'plot.2d'\n",
      " [x] Consuming Queue Message:'plot.2d'\n"
     ]
    },
    {
     "name": "stderr",
     "output_type": "stream",
     "text": [
      "BokehUserWarning: ColumnDataSource's columns must be of the same length. Current lengths: ('fill_color', 2470), ('radius', 2470), ('x', 2556), ('y', 2556)\n",
      "BokehUserWarning: ColumnDataSource's columns must be of the same length. Current lengths: ('fill_color', 2470), ('radius', 2556), ('x', 2556), ('y', 2556)\n",
      "BokehUserWarning: ColumnDataSource's columns must be of the same length. Current lengths: ('fill_color', 2556), ('radius', 2556), ('x', 2467), ('y', 2556)\n",
      "BokehUserWarning: ColumnDataSource's columns must be of the same length. Current lengths: ('fill_color', 2556), ('radius', 2556), ('x', 2467), ('y', 2467)\n",
      "BokehUserWarning: ColumnDataSource's columns must be of the same length. Current lengths: ('fill_color', 2556), ('radius', 2467), ('x', 2467), ('y', 2467)\n",
      "BokehUserWarning: ColumnDataSource's columns must be of the same length. Current lengths: ('fill_color', 2467), ('radius', 2467), ('x', 2529), ('y', 2467)\n",
      "BokehUserWarning: ColumnDataSource's columns must be of the same length. Current lengths: ('fill_color', 2467), ('radius', 2467), ('x', 2529), ('y', 2529)\n",
      "BokehUserWarning: ColumnDataSource's columns must be of the same length. Current lengths: ('fill_color', 2467), ('radius', 2529), ('x', 2529), ('y', 2529)\n",
      "BokehUserWarning: ColumnDataSource's columns must be of the same length. Current lengths: ('fill_color', 2529), ('radius', 2529), ('x', 2535), ('y', 2529)\n",
      "BokehUserWarning: ColumnDataSource's columns must be of the same length. Current lengths: ('fill_color', 2529), ('radius', 2529), ('x', 2535), ('y', 2535)\n",
      "BokehUserWarning: ColumnDataSource's columns must be of the same length. Current lengths: ('fill_color', 2529), ('radius', 2535), ('x', 2535), ('y', 2535)\n"
     ]
    },
    {
     "name": "stdout",
     "output_type": "stream",
     "text": [
      " [x] Consuming Queue Message:'plot.2d'\n",
      " [x] Consuming Queue Message:'plot.2d'\n",
      " [x] Consuming Queue Message:'plot.2d'\n",
      " [x] Consuming Queue Message:'plot.2d'\n"
     ]
    },
    {
     "name": "stderr",
     "output_type": "stream",
     "text": [
      "BokehUserWarning: ColumnDataSource's columns must be of the same length. Current lengths: ('fill_color', 2535), ('radius', 2535), ('x', 2457), ('y', 2535)\n",
      "BokehUserWarning: ColumnDataSource's columns must be of the same length. Current lengths: ('fill_color', 2535), ('radius', 2535), ('x', 2457), ('y', 2457)\n",
      "BokehUserWarning: ColumnDataSource's columns must be of the same length. Current lengths: ('fill_color', 2535), ('radius', 2457), ('x', 2457), ('y', 2457)\n",
      "BokehUserWarning: ColumnDataSource's columns must be of the same length. Current lengths: ('fill_color', 2457), ('radius', 2457), ('x', 2472), ('y', 2457)\n",
      "BokehUserWarning: ColumnDataSource's columns must be of the same length. Current lengths: ('fill_color', 2457), ('radius', 2457), ('x', 2472), ('y', 2472)\n",
      "BokehUserWarning: ColumnDataSource's columns must be of the same length. Current lengths: ('fill_color', 2457), ('radius', 2472), ('x', 2472), ('y', 2472)\n",
      "BokehUserWarning: ColumnDataSource's columns must be of the same length. Current lengths: ('fill_color', 2472), ('radius', 2472), ('x', 2445), ('y', 2472)\n",
      "BokehUserWarning: ColumnDataSource's columns must be of the same length. Current lengths: ('fill_color', 2472), ('radius', 2472), ('x', 2445), ('y', 2445)\n",
      "BokehUserWarning: ColumnDataSource's columns must be of the same length. Current lengths: ('fill_color', 2472), ('radius', 2445), ('x', 2445), ('y', 2445)\n"
     ]
    },
    {
     "name": "stdout",
     "output_type": "stream",
     "text": [
      " [x] Consuming Queue Message:'plot.2d'\n",
      " [x] Consuming Queue Message:'plot.2d'\n",
      " [x] Consuming Queue Message:'plot.2d'\n",
      " [x] Consuming Queue Message:'plot.2d'\n"
     ]
    },
    {
     "name": "stderr",
     "output_type": "stream",
     "text": [
      "BokehUserWarning: ColumnDataSource's columns must be of the same length. Current lengths: ('fill_color', 2445), ('radius', 2445), ('x', 2453), ('y', 2445)\n",
      "BokehUserWarning: ColumnDataSource's columns must be of the same length. Current lengths: ('fill_color', 2445), ('radius', 2445), ('x', 2453), ('y', 2453)\n",
      "BokehUserWarning: ColumnDataSource's columns must be of the same length. Current lengths: ('fill_color', 2445), ('radius', 2453), ('x', 2453), ('y', 2453)\n",
      "BokehUserWarning: ColumnDataSource's columns must be of the same length. Current lengths: ('fill_color', 2453), ('radius', 2453), ('x', 2431), ('y', 2453)\n",
      "BokehUserWarning: ColumnDataSource's columns must be of the same length. Current lengths: ('fill_color', 2453), ('radius', 2453), ('x', 2431), ('y', 2431)\n",
      "BokehUserWarning: ColumnDataSource's columns must be of the same length. Current lengths: ('fill_color', 2453), ('radius', 2431), ('x', 2431), ('y', 2431)\n",
      "BokehUserWarning: ColumnDataSource's columns must be of the same length. Current lengths: ('fill_color', 2431), ('radius', 2431), ('x', 2480), ('y', 2431)\n",
      "BokehUserWarning: ColumnDataSource's columns must be of the same length. Current lengths: ('fill_color', 2431), ('radius', 2431), ('x', 2480), ('y', 2480)\n",
      "BokehUserWarning: ColumnDataSource's columns must be of the same length. Current lengths: ('fill_color', 2431), ('radius', 2480), ('x', 2480), ('y', 2480)\n",
      "BokehUserWarning: ColumnDataSource's columns must be of the same length. Current lengths: ('fill_color', 2480), ('radius', 2480), ('x', 2500), ('y', 2480)\n",
      "BokehUserWarning: ColumnDataSource's columns must be of the same length. Current lengths: ('fill_color', 2480), ('radius', 2480), ('x', 2500), ('y', 2500)\n",
      "BokehUserWarning: ColumnDataSource's columns must be of the same length. Current lengths: ('fill_color', 2480), ('radius', 2500), ('x', 2500), ('y', 2500)\n",
      "BokehUserWarning: ColumnDataSource's columns must be of the same length. Current lengths: ('fill_color', 2500), ('radius', 2500), ('x', 2526), ('y', 2500)\n",
      "BokehUserWarning: ColumnDataSource's columns must be of the same length. Current lengths: ('fill_color', 2500), ('radius', 2500), ('x', 2526), ('y', 2526)\n",
      "BokehUserWarning: ColumnDataSource's columns must be of the same length. Current lengths: ('fill_color', 2500), ('radius', 2526), ('x', 2526), ('y', 2526)\n"
     ]
    },
    {
     "name": "stdout",
     "output_type": "stream",
     "text": [
      " [x] Consuming Queue Message:'plot.2d'\n",
      " [x] Consuming Queue Message:'plot.2d'\n",
      " [x] Consuming Queue Message:'plot.2d'\n"
     ]
    },
    {
     "name": "stderr",
     "output_type": "stream",
     "text": [
      "BokehUserWarning: ColumnDataSource's columns must be of the same length. Current lengths: ('fill_color', 2526), ('radius', 2526), ('x', 2473), ('y', 2526)\n",
      "BokehUserWarning: ColumnDataSource's columns must be of the same length. Current lengths: ('fill_color', 2526), ('radius', 2526), ('x', 2473), ('y', 2473)\n",
      "BokehUserWarning: ColumnDataSource's columns must be of the same length. Current lengths: ('fill_color', 2526), ('radius', 2473), ('x', 2473), ('y', 2473)\n",
      "BokehUserWarning: ColumnDataSource's columns must be of the same length. Current lengths: ('fill_color', 2473), ('radius', 2473), ('x', 2539), ('y', 2473)\n",
      "BokehUserWarning: ColumnDataSource's columns must be of the same length. Current lengths: ('fill_color', 2473), ('radius', 2473), ('x', 2539), ('y', 2539)\n",
      "BokehUserWarning: ColumnDataSource's columns must be of the same length. Current lengths: ('fill_color', 2473), ('radius', 2539), ('x', 2539), ('y', 2539)\n",
      "BokehUserWarning: ColumnDataSource's columns must be of the same length. Current lengths: ('fill_color', 2539), ('radius', 2539), ('x', 2572), ('y', 2539)\n",
      "BokehUserWarning: ColumnDataSource's columns must be of the same length. Current lengths: ('fill_color', 2539), ('radius', 2539), ('x', 2572), ('y', 2572)\n",
      "BokehUserWarning: ColumnDataSource's columns must be of the same length. Current lengths: ('fill_color', 2539), ('radius', 2572), ('x', 2572), ('y', 2572)\n"
     ]
    },
    {
     "name": "stdout",
     "output_type": "stream",
     "text": [
      " [x] Consuming Queue Message:'plot.2d'\n",
      " [x] Consuming Queue Message:'plot.2d'\n",
      " [x] Consuming Queue Message:'plot.2d'\n"
     ]
    },
    {
     "name": "stderr",
     "output_type": "stream",
     "text": [
      "BokehUserWarning: ColumnDataSource's columns must be of the same length. Current lengths: ('fill_color', 2572), ('radius', 2572), ('x', 2522), ('y', 2572)\n",
      "BokehUserWarning: ColumnDataSource's columns must be of the same length. Current lengths: ('fill_color', 2572), ('radius', 2572), ('x', 2522), ('y', 2522)\n",
      "BokehUserWarning: ColumnDataSource's columns must be of the same length. Current lengths: ('fill_color', 2572), ('radius', 2522), ('x', 2522), ('y', 2522)\n",
      "BokehUserWarning: ColumnDataSource's columns must be of the same length. Current lengths: ('fill_color', 2522), ('radius', 2522), ('x', 2512), ('y', 2522)\n",
      "BokehUserWarning: ColumnDataSource's columns must be of the same length. Current lengths: ('fill_color', 2522), ('radius', 2522), ('x', 2512), ('y', 2512)\n",
      "BokehUserWarning: ColumnDataSource's columns must be of the same length. Current lengths: ('fill_color', 2522), ('radius', 2512), ('x', 2512), ('y', 2512)\n",
      "BokehUserWarning: ColumnDataSource's columns must be of the same length. Current lengths: ('fill_color', 2512), ('radius', 2512), ('x', 2542), ('y', 2512)\n",
      "BokehUserWarning: ColumnDataSource's columns must be of the same length. Current lengths: ('fill_color', 2512), ('radius', 2512), ('x', 2542), ('y', 2542)\n",
      "BokehUserWarning: ColumnDataSource's columns must be of the same length. Current lengths: ('fill_color', 2512), ('radius', 2542), ('x', 2542), ('y', 2542)\n"
     ]
    },
    {
     "name": "stdout",
     "output_type": "stream",
     "text": [
      " [x] Consuming Queue Message:'plot.2d'\n",
      " [x] Consuming Queue Message:'plot.2d'\n",
      " [x] Consuming Queue Message:'plot.2d'\n",
      " [x] Consuming Queue Message:'plot.2d'\n"
     ]
    },
    {
     "name": "stderr",
     "output_type": "stream",
     "text": [
      "BokehUserWarning: ColumnDataSource's columns must be of the same length. Current lengths: ('fill_color', 2542), ('radius', 2542), ('x', 2521), ('y', 2542)\n",
      "BokehUserWarning: ColumnDataSource's columns must be of the same length. Current lengths: ('fill_color', 2542), ('radius', 2542), ('x', 2521), ('y', 2521)\n",
      "BokehUserWarning: ColumnDataSource's columns must be of the same length. Current lengths: ('fill_color', 2542), ('radius', 2521), ('x', 2521), ('y', 2521)\n",
      "BokehUserWarning: ColumnDataSource's columns must be of the same length. Current lengths: ('fill_color', 2521), ('radius', 2521), ('x', 2491), ('y', 2521)\n",
      "BokehUserWarning: ColumnDataSource's columns must be of the same length. Current lengths: ('fill_color', 2521), ('radius', 2521), ('x', 2491), ('y', 2491)\n",
      "BokehUserWarning: ColumnDataSource's columns must be of the same length. Current lengths: ('fill_color', 2521), ('radius', 2491), ('x', 2491), ('y', 2491)\n",
      "BokehUserWarning: ColumnDataSource's columns must be of the same length. Current lengths: ('fill_color', 2491), ('radius', 2491), ('x', 2489), ('y', 2491)\n",
      "BokehUserWarning: ColumnDataSource's columns must be of the same length. Current lengths: ('fill_color', 2491), ('radius', 2491), ('x', 2489), ('y', 2489)\n",
      "BokehUserWarning: ColumnDataSource's columns must be of the same length. Current lengths: ('fill_color', 2491), ('radius', 2489), ('x', 2489), ('y', 2489)\n",
      "BokehUserWarning: ColumnDataSource's columns must be of the same length. Current lengths: ('fill_color', 2489), ('radius', 2489), ('x', 2561), ('y', 2489)\n",
      "BokehUserWarning: ColumnDataSource's columns must be of the same length. Current lengths: ('fill_color', 2489), ('radius', 2489), ('x', 2561), ('y', 2561)\n",
      "BokehUserWarning: ColumnDataSource's columns must be of the same length. Current lengths: ('fill_color', 2489), ('radius', 2561), ('x', 2561), ('y', 2561)\n",
      "BokehUserWarning: ColumnDataSource's columns must be of the same length. Current lengths: ('fill_color', 2561), ('radius', 2561), ('x', 2530), ('y', 2561)\n",
      "BokehUserWarning: ColumnDataSource's columns must be of the same length. Current lengths: ('fill_color', 2561), ('radius', 2561), ('x', 2530), ('y', 2530)\n",
      "BokehUserWarning: ColumnDataSource's columns must be of the same length. Current lengths: ('fill_color', 2561), ('radius', 2530), ('x', 2530), ('y', 2530)\n"
     ]
    },
    {
     "name": "stdout",
     "output_type": "stream",
     "text": [
      " [x] Consuming Queue Message:'plot.2d'\n",
      " [x] Consuming Queue Message:'plot.2d'\n",
      " [x] Consuming Queue Message:'plot.2d'\n",
      " [x] Consuming Queue Message:'plot.2d'\n"
     ]
    },
    {
     "name": "stderr",
     "output_type": "stream",
     "text": [
      "BokehUserWarning: ColumnDataSource's columns must be of the same length. Current lengths: ('fill_color', 2530), ('radius', 2530), ('x', 2556), ('y', 2530)\n",
      "BokehUserWarning: ColumnDataSource's columns must be of the same length. Current lengths: ('fill_color', 2530), ('radius', 2530), ('x', 2556), ('y', 2556)\n",
      "BokehUserWarning: ColumnDataSource's columns must be of the same length. Current lengths: ('fill_color', 2530), ('radius', 2556), ('x', 2556), ('y', 2556)\n",
      "BokehUserWarning: ColumnDataSource's columns must be of the same length. Current lengths: ('fill_color', 2556), ('radius', 2556), ('x', 2492), ('y', 2556)\n",
      "BokehUserWarning: ColumnDataSource's columns must be of the same length. Current lengths: ('fill_color', 2556), ('radius', 2556), ('x', 2492), ('y', 2492)\n",
      "BokehUserWarning: ColumnDataSource's columns must be of the same length. Current lengths: ('fill_color', 2556), ('radius', 2492), ('x', 2492), ('y', 2492)\n",
      "BokehUserWarning: ColumnDataSource's columns must be of the same length. Current lengths: ('fill_color', 2492), ('radius', 2492), ('x', 2493), ('y', 2492)\n",
      "BokehUserWarning: ColumnDataSource's columns must be of the same length. Current lengths: ('fill_color', 2492), ('radius', 2492), ('x', 2493), ('y', 2493)\n",
      "BokehUserWarning: ColumnDataSource's columns must be of the same length. Current lengths: ('fill_color', 2492), ('radius', 2493), ('x', 2493), ('y', 2493)\n"
     ]
    },
    {
     "name": "stdout",
     "output_type": "stream",
     "text": [
      " [x] Consuming Queue Message:'plot.2d'\n",
      " [x] Consuming Queue Message:'plot.2d'\n",
      " [x] Consuming Queue Message:'plot.2d'\n",
      " [x] Consuming Queue Message:'plot.2d'\n"
     ]
    },
    {
     "name": "stderr",
     "output_type": "stream",
     "text": [
      "BokehUserWarning: ColumnDataSource's columns must be of the same length. Current lengths: ('fill_color', 2493), ('radius', 2493), ('x', 2541), ('y', 2493)\n",
      "BokehUserWarning: ColumnDataSource's columns must be of the same length. Current lengths: ('fill_color', 2493), ('radius', 2493), ('x', 2541), ('y', 2541)\n",
      "BokehUserWarning: ColumnDataSource's columns must be of the same length. Current lengths: ('fill_color', 2493), ('radius', 2541), ('x', 2541), ('y', 2541)\n",
      "BokehUserWarning: ColumnDataSource's columns must be of the same length. Current lengths: ('fill_color', 2541), ('radius', 2541), ('x', 2466), ('y', 2541)\n",
      "BokehUserWarning: ColumnDataSource's columns must be of the same length. Current lengths: ('fill_color', 2541), ('radius', 2541), ('x', 2466), ('y', 2466)\n",
      "BokehUserWarning: ColumnDataSource's columns must be of the same length. Current lengths: ('fill_color', 2541), ('radius', 2466), ('x', 2466), ('y', 2466)\n",
      "BokehUserWarning: ColumnDataSource's columns must be of the same length. Current lengths: ('fill_color', 2466), ('radius', 2466), ('x', 2505), ('y', 2466)\n",
      "BokehUserWarning: ColumnDataSource's columns must be of the same length. Current lengths: ('fill_color', 2466), ('radius', 2466), ('x', 2505), ('y', 2505)\n",
      "BokehUserWarning: ColumnDataSource's columns must be of the same length. Current lengths: ('fill_color', 2466), ('radius', 2505), ('x', 2505), ('y', 2505)\n",
      "BokehUserWarning: ColumnDataSource's columns must be of the same length. Current lengths: ('fill_color', 2505), ('radius', 2505), ('x', 2459), ('y', 2505)\n",
      "BokehUserWarning: ColumnDataSource's columns must be of the same length. Current lengths: ('fill_color', 2505), ('radius', 2505), ('x', 2459), ('y', 2459)\n",
      "BokehUserWarning: ColumnDataSource's columns must be of the same length. Current lengths: ('fill_color', 2505), ('radius', 2459), ('x', 2459), ('y', 2459)\n",
      "BokehUserWarning: ColumnDataSource's columns must be of the same length. Current lengths: ('fill_color', 2459), ('radius', 2459), ('x', 2530), ('y', 2459)\n"
     ]
    },
    {
     "name": "stdout",
     "output_type": "stream",
     "text": [
      " [x] Consuming Queue Message:'plot.2d'\n",
      " [x] Consuming Queue Message:'plot.2d'\n",
      " [x] Consuming Queue Message:'plot.2d'\n"
     ]
    },
    {
     "name": "stderr",
     "output_type": "stream",
     "text": [
      "BokehUserWarning: ColumnDataSource's columns must be of the same length. Current lengths: ('fill_color', 2459), ('radius', 2459), ('x', 2530), ('y', 2530)\n",
      "BokehUserWarning: ColumnDataSource's columns must be of the same length. Current lengths: ('fill_color', 2459), ('radius', 2530), ('x', 2530), ('y', 2530)\n",
      "BokehUserWarning: ColumnDataSource's columns must be of the same length. Current lengths: ('fill_color', 2530), ('radius', 2530), ('x', 2438), ('y', 2530)\n",
      "BokehUserWarning: ColumnDataSource's columns must be of the same length. Current lengths: ('fill_color', 2530), ('radius', 2530), ('x', 2438), ('y', 2438)\n",
      "BokehUserWarning: ColumnDataSource's columns must be of the same length. Current lengths: ('fill_color', 2530), ('radius', 2438), ('x', 2438), ('y', 2438)\n",
      "BokehUserWarning: ColumnDataSource's columns must be of the same length. Current lengths: ('fill_color', 2438), ('radius', 2438), ('x', 2536), ('y', 2438)\n",
      "BokehUserWarning: ColumnDataSource's columns must be of the same length. Current lengths: ('fill_color', 2438), ('radius', 2438), ('x', 2536), ('y', 2536)\n",
      "BokehUserWarning: ColumnDataSource's columns must be of the same length. Current lengths: ('fill_color', 2438), ('radius', 2536), ('x', 2536), ('y', 2536)\n",
      "BokehUserWarning: ColumnDataSource's columns must be of the same length. Current lengths: ('fill_color', 2536), ('radius', 2536), ('x', 2423), ('y', 2536)\n",
      "BokehUserWarning: ColumnDataSource's columns must be of the same length. Current lengths: ('fill_color', 2536), ('radius', 2536), ('x', 2423), ('y', 2423)\n",
      "BokehUserWarning: ColumnDataSource's columns must be of the same length. Current lengths: ('fill_color', 2536), ('radius', 2423), ('x', 2423), ('y', 2423)\n"
     ]
    },
    {
     "name": "stdout",
     "output_type": "stream",
     "text": [
      " [x] Consuming Queue Message:'plot.2d'\n",
      " [x] Consuming Queue Message:'plot.2d'\n",
      " [x] Consuming Queue Message:'plot.2d'\n"
     ]
    },
    {
     "name": "stderr",
     "output_type": "stream",
     "text": [
      "BokehUserWarning: ColumnDataSource's columns must be of the same length. Current lengths: ('fill_color', 2423), ('radius', 2423), ('x', 2502), ('y', 2423)\n",
      "BokehUserWarning: ColumnDataSource's columns must be of the same length. Current lengths: ('fill_color', 2423), ('radius', 2423), ('x', 2502), ('y', 2502)\n",
      "BokehUserWarning: ColumnDataSource's columns must be of the same length. Current lengths: ('fill_color', 2423), ('radius', 2502), ('x', 2502), ('y', 2502)\n"
     ]
    },
    {
     "name": "stdout",
     "output_type": "stream",
     "text": [
      " [x] Consuming Queue Message:'plot.2d'\n"
     ]
    },
    {
     "name": "stderr",
     "output_type": "stream",
     "text": [
      "BokehUserWarning: ColumnDataSource's columns must be of the same length. Current lengths: ('fill_color', 2502), ('radius', 2502), ('x', 2467), ('y', 2502)\n",
      "BokehUserWarning: ColumnDataSource's columns must be of the same length. Current lengths: ('fill_color', 2502), ('radius', 2502), ('x', 2467), ('y', 2467)\n",
      "BokehUserWarning: ColumnDataSource's columns must be of the same length. Current lengths: ('fill_color', 2502), ('radius', 2467), ('x', 2467), ('y', 2467)\n"
     ]
    },
    {
     "name": "stdout",
     "output_type": "stream",
     "text": [
      " [x] Consuming Queue Message:'plot.2d'\n"
     ]
    },
    {
     "name": "stderr",
     "output_type": "stream",
     "text": [
      "BokehUserWarning: ColumnDataSource's columns must be of the same length. Current lengths: ('fill_color', 2467), ('radius', 2467), ('x', 2531), ('y', 2467)\n",
      "BokehUserWarning: ColumnDataSource's columns must be of the same length. Current lengths: ('fill_color', 2467), ('radius', 2467), ('x', 2531), ('y', 2531)\n",
      "BokehUserWarning: ColumnDataSource's columns must be of the same length. Current lengths: ('fill_color', 2467), ('radius', 2531), ('x', 2531), ('y', 2531)\n"
     ]
    },
    {
     "name": "stdout",
     "output_type": "stream",
     "text": [
      " [x] Consuming Queue Message:'plot.2d'\n"
     ]
    },
    {
     "name": "stderr",
     "output_type": "stream",
     "text": [
      "BokehUserWarning: ColumnDataSource's columns must be of the same length. Current lengths: ('fill_color', 2531), ('radius', 2531), ('x', 2509), ('y', 2531)\n",
      "BokehUserWarning: ColumnDataSource's columns must be of the same length. Current lengths: ('fill_color', 2531), ('radius', 2531), ('x', 2509), ('y', 2509)\n",
      "BokehUserWarning: ColumnDataSource's columns must be of the same length. Current lengths: ('fill_color', 2531), ('radius', 2509), ('x', 2509), ('y', 2509)\n"
     ]
    },
    {
     "name": "stdout",
     "output_type": "stream",
     "text": [
      " [x] Consuming Queue Message:'plot.2d'\n"
     ]
    },
    {
     "name": "stderr",
     "output_type": "stream",
     "text": [
      "BokehUserWarning: ColumnDataSource's columns must be of the same length. Current lengths: ('fill_color', 2509), ('radius', 2509), ('x', 2484), ('y', 2509)\n",
      "BokehUserWarning: ColumnDataSource's columns must be of the same length. Current lengths: ('fill_color', 2509), ('radius', 2509), ('x', 2484), ('y', 2484)\n",
      "BokehUserWarning: ColumnDataSource's columns must be of the same length. Current lengths: ('fill_color', 2509), ('radius', 2484), ('x', 2484), ('y', 2484)\n"
     ]
    },
    {
     "name": "stdout",
     "output_type": "stream",
     "text": [
      " [x] Consuming Queue Message:'plot.2d'\n"
     ]
    },
    {
     "name": "stderr",
     "output_type": "stream",
     "text": [
      "BokehUserWarning: ColumnDataSource's columns must be of the same length. Current lengths: ('fill_color', 2484), ('radius', 2484), ('x', 2596), ('y', 2484)\n",
      "BokehUserWarning: ColumnDataSource's columns must be of the same length. Current lengths: ('fill_color', 2484), ('radius', 2484), ('x', 2596), ('y', 2596)\n",
      "BokehUserWarning: ColumnDataSource's columns must be of the same length. Current lengths: ('fill_color', 2484), ('radius', 2596), ('x', 2596), ('y', 2596)\n"
     ]
    },
    {
     "name": "stdout",
     "output_type": "stream",
     "text": [
      " [x] Consuming Queue Message:'plot.2d'\n"
     ]
    },
    {
     "name": "stderr",
     "output_type": "stream",
     "text": [
      "BokehUserWarning: ColumnDataSource's columns must be of the same length. Current lengths: ('fill_color', 2596), ('radius', 2596), ('x', 2460), ('y', 2596)\n",
      "BokehUserWarning: ColumnDataSource's columns must be of the same length. Current lengths: ('fill_color', 2596), ('radius', 2596), ('x', 2460), ('y', 2460)\n",
      "BokehUserWarning: ColumnDataSource's columns must be of the same length. Current lengths: ('fill_color', 2596), ('radius', 2460), ('x', 2460), ('y', 2460)\n"
     ]
    },
    {
     "name": "stdout",
     "output_type": "stream",
     "text": [
      " [x] Consuming Queue Message:'plot.2d'\n"
     ]
    },
    {
     "name": "stderr",
     "output_type": "stream",
     "text": [
      "BokehUserWarning: ColumnDataSource's columns must be of the same length. Current lengths: ('fill_color', 2460), ('radius', 2460), ('x', 2500), ('y', 2460)\n",
      "BokehUserWarning: ColumnDataSource's columns must be of the same length. Current lengths: ('fill_color', 2460), ('radius', 2460), ('x', 2500), ('y', 2500)\n",
      "BokehUserWarning: ColumnDataSource's columns must be of the same length. Current lengths: ('fill_color', 2460), ('radius', 2500), ('x', 2500), ('y', 2500)\n"
     ]
    },
    {
     "name": "stdout",
     "output_type": "stream",
     "text": [
      " [x] Consuming Queue Message:'plot.2d'\n"
     ]
    },
    {
     "name": "stderr",
     "output_type": "stream",
     "text": [
      "BokehUserWarning: ColumnDataSource's columns must be of the same length. Current lengths: ('fill_color', 2500), ('radius', 2500), ('x', 2487), ('y', 2500)\n",
      "BokehUserWarning: ColumnDataSource's columns must be of the same length. Current lengths: ('fill_color', 2500), ('radius', 2500), ('x', 2487), ('y', 2487)\n",
      "BokehUserWarning: ColumnDataSource's columns must be of the same length. Current lengths: ('fill_color', 2500), ('radius', 2487), ('x', 2487), ('y', 2487)\n"
     ]
    },
    {
     "name": "stdout",
     "output_type": "stream",
     "text": [
      " [x] Consuming Queue Message:'plot.2d'\n"
     ]
    },
    {
     "name": "stderr",
     "output_type": "stream",
     "text": [
      "BokehUserWarning: ColumnDataSource's columns must be of the same length. Current lengths: ('fill_color', 2487), ('radius', 2487), ('x', 2474), ('y', 2487)\n",
      "BokehUserWarning: ColumnDataSource's columns must be of the same length. Current lengths: ('fill_color', 2487), ('radius', 2487), ('x', 2474), ('y', 2474)\n",
      "BokehUserWarning: ColumnDataSource's columns must be of the same length. Current lengths: ('fill_color', 2487), ('radius', 2474), ('x', 2474), ('y', 2474)\n"
     ]
    },
    {
     "name": "stdout",
     "output_type": "stream",
     "text": [
      " [x] Consuming Queue Message:'plot.2d'\n"
     ]
    },
    {
     "name": "stderr",
     "output_type": "stream",
     "text": [
      "BokehUserWarning: ColumnDataSource's columns must be of the same length. Current lengths: ('fill_color', 2474), ('radius', 2474), ('x', 2537), ('y', 2474)\n",
      "BokehUserWarning: ColumnDataSource's columns must be of the same length. Current lengths: ('fill_color', 2474), ('radius', 2474), ('x', 2537), ('y', 2537)\n",
      "BokehUserWarning: ColumnDataSource's columns must be of the same length. Current lengths: ('fill_color', 2474), ('radius', 2537), ('x', 2537), ('y', 2537)\n"
     ]
    },
    {
     "name": "stdout",
     "output_type": "stream",
     "text": [
      " [x] Consuming Queue Message:'plot.2d'\n"
     ]
    },
    {
     "name": "stderr",
     "output_type": "stream",
     "text": [
      "BokehUserWarning: ColumnDataSource's columns must be of the same length. Current lengths: ('fill_color', 2537), ('radius', 2537), ('x', 2498), ('y', 2537)\n",
      "BokehUserWarning: ColumnDataSource's columns must be of the same length. Current lengths: ('fill_color', 2537), ('radius', 2537), ('x', 2498), ('y', 2498)\n",
      "BokehUserWarning: ColumnDataSource's columns must be of the same length. Current lengths: ('fill_color', 2537), ('radius', 2498), ('x', 2498), ('y', 2498)\n"
     ]
    },
    {
     "name": "stdout",
     "output_type": "stream",
     "text": [
      " [x] Consuming Queue Message:'plot.2d'\n"
     ]
    },
    {
     "name": "stderr",
     "output_type": "stream",
     "text": [
      "BokehUserWarning: ColumnDataSource's columns must be of the same length. Current lengths: ('fill_color', 2498), ('radius', 2498), ('x', 2476), ('y', 2498)\n",
      "BokehUserWarning: ColumnDataSource's columns must be of the same length. Current lengths: ('fill_color', 2498), ('radius', 2498), ('x', 2476), ('y', 2476)\n",
      "BokehUserWarning: ColumnDataSource's columns must be of the same length. Current lengths: ('fill_color', 2498), ('radius', 2476), ('x', 2476), ('y', 2476)\n"
     ]
    },
    {
     "name": "stdout",
     "output_type": "stream",
     "text": [
      " [x] Consuming Queue Message:'plot.2d'\n"
     ]
    },
    {
     "name": "stderr",
     "output_type": "stream",
     "text": [
      "BokehUserWarning: ColumnDataSource's columns must be of the same length. Current lengths: ('fill_color', 2476), ('radius', 2476), ('x', 2539), ('y', 2476)\n",
      "BokehUserWarning: ColumnDataSource's columns must be of the same length. Current lengths: ('fill_color', 2476), ('radius', 2476), ('x', 2539), ('y', 2539)\n",
      "BokehUserWarning: ColumnDataSource's columns must be of the same length. Current lengths: ('fill_color', 2476), ('radius', 2539), ('x', 2539), ('y', 2539)\n"
     ]
    },
    {
     "name": "stdout",
     "output_type": "stream",
     "text": [
      " [x] Consuming Queue Message:'plot.2d'\n"
     ]
    },
    {
     "name": "stderr",
     "output_type": "stream",
     "text": [
      "BokehUserWarning: ColumnDataSource's columns must be of the same length. Current lengths: ('fill_color', 2539), ('radius', 2539), ('x', 2438), ('y', 2539)\n",
      "BokehUserWarning: ColumnDataSource's columns must be of the same length. Current lengths: ('fill_color', 2539), ('radius', 2539), ('x', 2438), ('y', 2438)\n",
      "BokehUserWarning: ColumnDataSource's columns must be of the same length. Current lengths: ('fill_color', 2539), ('radius', 2438), ('x', 2438), ('y', 2438)\n"
     ]
    },
    {
     "name": "stdout",
     "output_type": "stream",
     "text": [
      " [x] Consuming Queue Message:'plot.2d'\n"
     ]
    },
    {
     "name": "stderr",
     "output_type": "stream",
     "text": [
      "BokehUserWarning: ColumnDataSource's columns must be of the same length. Current lengths: ('fill_color', 2438), ('radius', 2438), ('x', 2514), ('y', 2438)\n",
      "BokehUserWarning: ColumnDataSource's columns must be of the same length. Current lengths: ('fill_color', 2438), ('radius', 2438), ('x', 2514), ('y', 2514)\n",
      "BokehUserWarning: ColumnDataSource's columns must be of the same length. Current lengths: ('fill_color', 2438), ('radius', 2514), ('x', 2514), ('y', 2514)\n"
     ]
    },
    {
     "name": "stdout",
     "output_type": "stream",
     "text": [
      " [x] Consuming Queue Message:'plot.2d'\n"
     ]
    },
    {
     "name": "stderr",
     "output_type": "stream",
     "text": [
      "BokehUserWarning: ColumnDataSource's columns must be of the same length. Current lengths: ('fill_color', 2514), ('radius', 2514), ('x', 2454), ('y', 2514)\n",
      "BokehUserWarning: ColumnDataSource's columns must be of the same length. Current lengths: ('fill_color', 2514), ('radius', 2514), ('x', 2454), ('y', 2454)\n",
      "BokehUserWarning: ColumnDataSource's columns must be of the same length. Current lengths: ('fill_color', 2514), ('radius', 2454), ('x', 2454), ('y', 2454)\n"
     ]
    },
    {
     "name": "stdout",
     "output_type": "stream",
     "text": [
      " [x] Consuming Queue Message:'plot.2d'\n"
     ]
    },
    {
     "name": "stderr",
     "output_type": "stream",
     "text": [
      "BokehUserWarning: ColumnDataSource's columns must be of the same length. Current lengths: ('fill_color', 2454), ('radius', 2454), ('x', 2349), ('y', 2454)\n",
      "BokehUserWarning: ColumnDataSource's columns must be of the same length. Current lengths: ('fill_color', 2454), ('radius', 2454), ('x', 2349), ('y', 2349)\n",
      "BokehUserWarning: ColumnDataSource's columns must be of the same length. Current lengths: ('fill_color', 2454), ('radius', 2349), ('x', 2349), ('y', 2349)\n"
     ]
    },
    {
     "name": "stdout",
     "output_type": "stream",
     "text": [
      " [x] Consuming Queue Message:'plot.2d'\n"
     ]
    },
    {
     "name": "stderr",
     "output_type": "stream",
     "text": [
      "BokehUserWarning: ColumnDataSource's columns must be of the same length. Current lengths: ('fill_color', 2349), ('radius', 2349), ('x', 2507), ('y', 2349)\n",
      "BokehUserWarning: ColumnDataSource's columns must be of the same length. Current lengths: ('fill_color', 2349), ('radius', 2349), ('x', 2507), ('y', 2507)\n",
      "BokehUserWarning: ColumnDataSource's columns must be of the same length. Current lengths: ('fill_color', 2349), ('radius', 2507), ('x', 2507), ('y', 2507)\n"
     ]
    },
    {
     "name": "stdout",
     "output_type": "stream",
     "text": [
      " [x] Consuming Queue Message:'plot.2d'\n"
     ]
    },
    {
     "name": "stderr",
     "output_type": "stream",
     "text": [
      "BokehUserWarning: ColumnDataSource's columns must be of the same length. Current lengths: ('fill_color', 2507), ('radius', 2507), ('x', 2430), ('y', 2507)\n",
      "BokehUserWarning: ColumnDataSource's columns must be of the same length. Current lengths: ('fill_color', 2507), ('radius', 2507), ('x', 2430), ('y', 2430)\n",
      "BokehUserWarning: ColumnDataSource's columns must be of the same length. Current lengths: ('fill_color', 2507), ('radius', 2430), ('x', 2430), ('y', 2430)\n"
     ]
    },
    {
     "name": "stdout",
     "output_type": "stream",
     "text": [
      " [x] Consuming Queue Message:'plot.2d'\n"
     ]
    },
    {
     "name": "stderr",
     "output_type": "stream",
     "text": [
      "BokehUserWarning: ColumnDataSource's columns must be of the same length. Current lengths: ('fill_color', 2430), ('radius', 2430), ('x', 2471), ('y', 2430)\n",
      "BokehUserWarning: ColumnDataSource's columns must be of the same length. Current lengths: ('fill_color', 2430), ('radius', 2430), ('x', 2471), ('y', 2471)\n",
      "BokehUserWarning: ColumnDataSource's columns must be of the same length. Current lengths: ('fill_color', 2430), ('radius', 2471), ('x', 2471), ('y', 2471)\n"
     ]
    },
    {
     "name": "stdout",
     "output_type": "stream",
     "text": [
      " [x] Consuming Queue Message:'plot.2d'\n"
     ]
    },
    {
     "name": "stderr",
     "output_type": "stream",
     "text": [
      "BokehUserWarning: ColumnDataSource's columns must be of the same length. Current lengths: ('fill_color', 2471), ('radius', 2471), ('x', 2533), ('y', 2471)\n",
      "BokehUserWarning: ColumnDataSource's columns must be of the same length. Current lengths: ('fill_color', 2471), ('radius', 2471), ('x', 2533), ('y', 2533)\n",
      "BokehUserWarning: ColumnDataSource's columns must be of the same length. Current lengths: ('fill_color', 2471), ('radius', 2533), ('x', 2533), ('y', 2533)\n"
     ]
    },
    {
     "name": "stdout",
     "output_type": "stream",
     "text": [
      " [x] Consuming Queue Message:'plot.2d'\n"
     ]
    },
    {
     "name": "stderr",
     "output_type": "stream",
     "text": [
      "BokehUserWarning: ColumnDataSource's columns must be of the same length. Current lengths: ('fill_color', 2533), ('radius', 2533), ('x', 2498), ('y', 2533)\n",
      "BokehUserWarning: ColumnDataSource's columns must be of the same length. Current lengths: ('fill_color', 2533), ('radius', 2533), ('x', 2498), ('y', 2498)\n",
      "BokehUserWarning: ColumnDataSource's columns must be of the same length. Current lengths: ('fill_color', 2533), ('radius', 2498), ('x', 2498), ('y', 2498)\n"
     ]
    },
    {
     "name": "stdout",
     "output_type": "stream",
     "text": [
      " [x] Consuming Queue Message:'plot.2d'\n"
     ]
    },
    {
     "name": "stderr",
     "output_type": "stream",
     "text": [
      "BokehUserWarning: ColumnDataSource's columns must be of the same length. Current lengths: ('fill_color', 2498), ('radius', 2498), ('x', 2491), ('y', 2498)\n",
      "BokehUserWarning: ColumnDataSource's columns must be of the same length. Current lengths: ('fill_color', 2498), ('radius', 2498), ('x', 2491), ('y', 2491)\n",
      "BokehUserWarning: ColumnDataSource's columns must be of the same length. Current lengths: ('fill_color', 2498), ('radius', 2491), ('x', 2491), ('y', 2491)\n"
     ]
    },
    {
     "name": "stdout",
     "output_type": "stream",
     "text": [
      " [x] Consuming Queue Message:'plot.2d'\n"
     ]
    },
    {
     "name": "stderr",
     "output_type": "stream",
     "text": [
      "BokehUserWarning: ColumnDataSource's columns must be of the same length. Current lengths: ('fill_color', 2491), ('radius', 2491), ('x', 2554), ('y', 2491)\n",
      "BokehUserWarning: ColumnDataSource's columns must be of the same length. Current lengths: ('fill_color', 2491), ('radius', 2491), ('x', 2554), ('y', 2554)\n",
      "BokehUserWarning: ColumnDataSource's columns must be of the same length. Current lengths: ('fill_color', 2491), ('radius', 2554), ('x', 2554), ('y', 2554)\n"
     ]
    },
    {
     "ename": "KeyboardInterrupt",
     "evalue": "",
     "output_type": "error",
     "traceback": [
      "\u001b[0;31m---------------------------------------------------------------------------\u001b[0m",
      "\u001b[0;31mKeyboardInterrupt\u001b[0m                         Traceback (most recent call last)",
      "\u001b[0;32m<ipython-input-15-18838785661e>\u001b[0m in \u001b[0;36m<module>\u001b[0;34m()\u001b[0m\n\u001b[1;32m      7\u001b[0m \u001b[0;34m\u001b[0m\u001b[0m\n\u001b[1;32m      8\u001b[0m \u001b[0mchannel\u001b[0m\u001b[0;34m.\u001b[0m\u001b[0mbasic_consume\u001b[0m\u001b[0;34m(\u001b[0m\u001b[0mconsumeQueue\u001b[0m\u001b[0;34m,\u001b[0m \u001b[0mqueue\u001b[0m\u001b[0;34m=\u001b[0m\u001b[0;34m'BDAPRO'\u001b[0m\u001b[0;34m,\u001b[0m \u001b[0mno_ack\u001b[0m\u001b[0;34m=\u001b[0m\u001b[0;32mTrue\u001b[0m\u001b[0;34m)\u001b[0m\u001b[0;34m\u001b[0m\u001b[0;34m\u001b[0m\u001b[0m\n\u001b[0;32m----> 9\u001b[0;31m \u001b[0mchannel\u001b[0m\u001b[0;34m.\u001b[0m\u001b[0mstart_consuming\u001b[0m\u001b[0;34m(\u001b[0m\u001b[0;34m)\u001b[0m\u001b[0;34m\u001b[0m\u001b[0;34m\u001b[0m\u001b[0m\n\u001b[0m",
      "\u001b[0;32m/home/chris/.local/lib/python3.6/site-packages/pika/adapters/blocking_connection.py\u001b[0m in \u001b[0;36mstart_consuming\u001b[0;34m(self)\u001b[0m\n\u001b[1;32m   1820\u001b[0m         \u001b[0;31m# Process events as long as consumers exist on this channel\u001b[0m\u001b[0;34m\u001b[0m\u001b[0;34m\u001b[0m\u001b[0;34m\u001b[0m\u001b[0m\n\u001b[1;32m   1821\u001b[0m         \u001b[0;32mwhile\u001b[0m \u001b[0mself\u001b[0m\u001b[0;34m.\u001b[0m\u001b[0m_consumer_infos\u001b[0m\u001b[0;34m:\u001b[0m\u001b[0;34m\u001b[0m\u001b[0;34m\u001b[0m\u001b[0m\n\u001b[0;32m-> 1822\u001b[0;31m             \u001b[0mself\u001b[0m\u001b[0;34m.\u001b[0m\u001b[0mconnection\u001b[0m\u001b[0;34m.\u001b[0m\u001b[0mprocess_data_events\u001b[0m\u001b[0;34m(\u001b[0m\u001b[0mtime_limit\u001b[0m\u001b[0;34m=\u001b[0m\u001b[0;32mNone\u001b[0m\u001b[0;34m)\u001b[0m\u001b[0;34m\u001b[0m\u001b[0;34m\u001b[0m\u001b[0m\n\u001b[0m\u001b[1;32m   1823\u001b[0m \u001b[0;34m\u001b[0m\u001b[0m\n\u001b[1;32m   1824\u001b[0m     \u001b[0;32mdef\u001b[0m \u001b[0mstop_consuming\u001b[0m\u001b[0;34m(\u001b[0m\u001b[0mself\u001b[0m\u001b[0;34m,\u001b[0m \u001b[0mconsumer_tag\u001b[0m\u001b[0;34m=\u001b[0m\u001b[0;32mNone\u001b[0m\u001b[0;34m)\u001b[0m\u001b[0;34m:\u001b[0m\u001b[0;34m\u001b[0m\u001b[0;34m\u001b[0m\u001b[0m\n",
      "\u001b[0;32m/home/chris/.local/lib/python3.6/site-packages/pika/adapters/blocking_connection.py\u001b[0m in \u001b[0;36mprocess_data_events\u001b[0;34m(self, time_limit)\u001b[0m\n\u001b[1;32m    747\u001b[0m                 (self._channels_pending_dispatch or self._ready_events))\n\u001b[1;32m    748\u001b[0m             \u001b[0;32mif\u001b[0m \u001b[0mtime_limit\u001b[0m \u001b[0;32mis\u001b[0m \u001b[0;32mNone\u001b[0m\u001b[0;34m:\u001b[0m\u001b[0;34m\u001b[0m\u001b[0;34m\u001b[0m\u001b[0m\n\u001b[0;32m--> 749\u001b[0;31m                 \u001b[0mself\u001b[0m\u001b[0;34m.\u001b[0m\u001b[0m_flush_output\u001b[0m\u001b[0;34m(\u001b[0m\u001b[0mcommon_terminator\u001b[0m\u001b[0;34m)\u001b[0m\u001b[0;34m\u001b[0m\u001b[0;34m\u001b[0m\u001b[0m\n\u001b[0m\u001b[1;32m    750\u001b[0m             \u001b[0;32melse\u001b[0m\u001b[0;34m:\u001b[0m\u001b[0;34m\u001b[0m\u001b[0;34m\u001b[0m\u001b[0m\n\u001b[1;32m    751\u001b[0m                 \u001b[0;32mwith\u001b[0m \u001b[0m_IoloopTimerContext\u001b[0m\u001b[0;34m(\u001b[0m\u001b[0mtime_limit\u001b[0m\u001b[0;34m,\u001b[0m \u001b[0mself\u001b[0m\u001b[0;34m.\u001b[0m\u001b[0m_impl\u001b[0m\u001b[0;34m)\u001b[0m \u001b[0;32mas\u001b[0m \u001b[0mtimer\u001b[0m\u001b[0;34m:\u001b[0m\u001b[0;34m\u001b[0m\u001b[0;34m\u001b[0m\u001b[0m\n",
      "\u001b[0;32m/home/chris/.local/lib/python3.6/site-packages/pika/adapters/blocking_connection.py\u001b[0m in \u001b[0;36m_flush_output\u001b[0;34m(self, *waiters)\u001b[0m\n\u001b[1;32m    456\u001b[0m         \u001b[0;31m# Process I/O until our completion condition is satisified\u001b[0m\u001b[0;34m\u001b[0m\u001b[0;34m\u001b[0m\u001b[0;34m\u001b[0m\u001b[0m\n\u001b[1;32m    457\u001b[0m         \u001b[0;32mwhile\u001b[0m \u001b[0;32mnot\u001b[0m \u001b[0mis_done\u001b[0m\u001b[0;34m(\u001b[0m\u001b[0;34m)\u001b[0m\u001b[0;34m:\u001b[0m\u001b[0;34m\u001b[0m\u001b[0;34m\u001b[0m\u001b[0m\n\u001b[0;32m--> 458\u001b[0;31m             \u001b[0mself\u001b[0m\u001b[0;34m.\u001b[0m\u001b[0m_impl\u001b[0m\u001b[0;34m.\u001b[0m\u001b[0mioloop\u001b[0m\u001b[0;34m.\u001b[0m\u001b[0mpoll\u001b[0m\u001b[0;34m(\u001b[0m\u001b[0;34m)\u001b[0m\u001b[0;34m\u001b[0m\u001b[0;34m\u001b[0m\u001b[0m\n\u001b[0m\u001b[1;32m    459\u001b[0m             \u001b[0mself\u001b[0m\u001b[0;34m.\u001b[0m\u001b[0m_impl\u001b[0m\u001b[0;34m.\u001b[0m\u001b[0mioloop\u001b[0m\u001b[0;34m.\u001b[0m\u001b[0mprocess_timeouts\u001b[0m\u001b[0;34m(\u001b[0m\u001b[0;34m)\u001b[0m\u001b[0;34m\u001b[0m\u001b[0;34m\u001b[0m\u001b[0m\n\u001b[1;32m    460\u001b[0m \u001b[0;34m\u001b[0m\u001b[0m\n",
      "\u001b[0;32m/home/chris/.local/lib/python3.6/site-packages/pika/adapters/select_connection.py\u001b[0m in \u001b[0;36mpoll\u001b[0;34m(self)\u001b[0m\n\u001b[1;32m    493\u001b[0m \u001b[0;34m\u001b[0m\u001b[0m\n\u001b[1;32m    494\u001b[0m         \"\"\"\n\u001b[0;32m--> 495\u001b[0;31m         \u001b[0mself\u001b[0m\u001b[0;34m.\u001b[0m\u001b[0m_poller\u001b[0m\u001b[0;34m.\u001b[0m\u001b[0mpoll\u001b[0m\u001b[0;34m(\u001b[0m\u001b[0;34m)\u001b[0m\u001b[0;34m\u001b[0m\u001b[0;34m\u001b[0m\u001b[0m\n\u001b[0m\u001b[1;32m    496\u001b[0m \u001b[0;34m\u001b[0m\u001b[0m\n\u001b[1;32m    497\u001b[0m \u001b[0;34m\u001b[0m\u001b[0m\n",
      "\u001b[0;32m/home/chris/.local/lib/python3.6/site-packages/pika/adapters/select_connection.py\u001b[0m in \u001b[0;36mpoll\u001b[0;34m(self)\u001b[0m\n\u001b[1;32m   1100\u001b[0m         \u001b[0;32mwhile\u001b[0m \u001b[0;32mTrue\u001b[0m\u001b[0;34m:\u001b[0m\u001b[0;34m\u001b[0m\u001b[0;34m\u001b[0m\u001b[0m\n\u001b[1;32m   1101\u001b[0m             \u001b[0;32mtry\u001b[0m\u001b[0;34m:\u001b[0m\u001b[0;34m\u001b[0m\u001b[0;34m\u001b[0m\u001b[0m\n\u001b[0;32m-> 1102\u001b[0;31m                 \u001b[0mevents\u001b[0m \u001b[0;34m=\u001b[0m \u001b[0mself\u001b[0m\u001b[0;34m.\u001b[0m\u001b[0m_poll\u001b[0m\u001b[0;34m.\u001b[0m\u001b[0mpoll\u001b[0m\u001b[0;34m(\u001b[0m\u001b[0mself\u001b[0m\u001b[0;34m.\u001b[0m\u001b[0m_get_max_wait\u001b[0m\u001b[0;34m(\u001b[0m\u001b[0;34m)\u001b[0m\u001b[0;34m)\u001b[0m\u001b[0;34m\u001b[0m\u001b[0;34m\u001b[0m\u001b[0m\n\u001b[0m\u001b[1;32m   1103\u001b[0m                 \u001b[0;32mbreak\u001b[0m\u001b[0;34m\u001b[0m\u001b[0;34m\u001b[0m\u001b[0m\n\u001b[1;32m   1104\u001b[0m             \u001b[0;32mexcept\u001b[0m \u001b[0m_SELECT_ERRORS\u001b[0m \u001b[0;32mas\u001b[0m \u001b[0merror\u001b[0m\u001b[0;34m:\u001b[0m\u001b[0;34m\u001b[0m\u001b[0;34m\u001b[0m\u001b[0m\n",
      "\u001b[0;31mKeyboardInterrupt\u001b[0m: "
     ]
    }
   ],
   "source": [
    "#run = 1\n",
    "#\n",
    "#def consume():\n",
    "#    while(run):\n",
    "#        channel.basic_consume(consumeQueue, queue='BDAPRO', no_ack=True)\n",
    "#        time.sleep(MESSAGE_DELAY_SECONDS)\n",
    "\n",
    "channel.basic_consume(consumeQueue, queue='BDAPRO', no_ack=True)        \n",
    "channel.start_consuming()"
   ]
  },
  {
   "cell_type": "code",
   "execution_count": null,
   "metadata": {
    "scrolled": true
   },
   "outputs": [],
   "source": [
    "\n",
    "connection.close()"
   ]
  },
  {
   "cell_type": "code",
   "execution_count": null,
   "metadata": {},
   "outputs": [],
   "source": []
  },
  {
   "cell_type": "code",
   "execution_count": null,
   "metadata": {},
   "outputs": [],
   "source": []
  },
  {
   "cell_type": "code",
   "execution_count": null,
   "metadata": {
    "scrolled": false
   },
   "outputs": [],
   "source": []
  },
  {
   "cell_type": "code",
   "execution_count": null,
   "metadata": {},
   "outputs": [],
   "source": []
  },
  {
   "cell_type": "code",
   "execution_count": null,
   "metadata": {},
   "outputs": [],
   "source": []
  },
  {
   "cell_type": "code",
   "execution_count": null,
   "metadata": {},
   "outputs": [],
   "source": []
  },
  {
   "cell_type": "code",
   "execution_count": null,
   "metadata": {},
   "outputs": [],
   "source": []
  },
  {
   "cell_type": "code",
   "execution_count": 26,
   "metadata": {},
   "outputs": [],
   "source": [
    "def update(q, f, x=10, y=10, radius=3):\n",
    "    RADIUS = radius\n",
    "    ## pull data from queue\n",
    "    # r.data_source.data['x'] = np.random.random(size=x) * x\n",
    "    # r.data_source.data['y'] = np.random.random(size=y) * y\n",
    "    # r.data_source.data['radius'] = np.random(size=radius) * radius\n",
    "    # push_notebook()"
   ]
  },
  {
   "cell_type": "code",
   "execution_count": null,
   "metadata": {},
   "outputs": [],
   "source": []
  },
  {
   "cell_type": "code",
   "execution_count": 27,
   "metadata": {},
   "outputs": [
    {
     "data": {
      "application/vnd.jupyter.widget-view+json": {
       "model_id": "c0271d8746ae4ce4846106efc5195dd2"
      }
     },
     "metadata": {},
     "output_type": "display_data"
    },
    {
     "data": {
      "text/plain": [
       "<function __main__.update>"
      ]
     },
     "execution_count": 27,
     "metadata": {},
     "output_type": "execute_result"
    }
   ],
   "source": [
    "interact(update, q=[\"taxi data\", \"????\"], f=[\"scatter\", \"cluster\"], x=(10,4000), y=(10,4000), radius=(1,10))"
   ]
  },
  {
   "cell_type": "markdown",
   "metadata": {},
   "source": [
    "also see for growing (appending) scatter plots: https://stackoverflow.com/questions/43101497/how-do-stream-data-to-a-bokeh-plot-in-jupyter-with-a-high-refresh-rate\n",
    "\n"
   ]
  },
  {
   "cell_type": "code",
   "execution_count": 39,
   "metadata": {},
   "outputs": [],
   "source": [
    "# p1.x_range.callback = CustomJS(args=dict(source=source, range=p1.x_range), code=jscode % ('x', 'width'))\n",
    "# p1.y_range.callback = CustomJS(args=dict(source=source, range=p1.y_range), code=jscode % ('y', 'height'))"
   ]
  },
  {
   "cell_type": "code",
   "execution_count": null,
   "metadata": {
    "scrolled": true
   },
   "outputs": [],
   "source": []
  },
  {
   "cell_type": "code",
   "execution_count": null,
   "metadata": {},
   "outputs": [],
   "source": []
  },
  {
   "cell_type": "code",
   "execution_count": null,
   "metadata": {},
   "outputs": [],
   "source": []
  },
  {
   "cell_type": "code",
   "execution_count": null,
   "metadata": {},
   "outputs": [],
   "source": []
  },
  {
   "cell_type": "code",
   "execution_count": 8,
   "metadata": {},
   "outputs": [],
   "source": []
  },
  {
   "cell_type": "code",
   "execution_count": null,
   "metadata": {},
   "outputs": [],
   "source": []
  }
 ],
 "metadata": {
  "kernelspec": {
   "display_name": "Python 3",
   "language": "python",
   "name": "python3"
  },
  "language_info": {
   "codemirror_mode": {
    "name": "ipython",
    "version": 3
   },
   "file_extension": ".py",
   "mimetype": "text/x-python",
   "name": "python",
   "nbconvert_exporter": "python",
   "pygments_lexer": "ipython3",
   "version": "3.6.7"
  }
 },
 "nbformat": 4,
 "nbformat_minor": 2
}
