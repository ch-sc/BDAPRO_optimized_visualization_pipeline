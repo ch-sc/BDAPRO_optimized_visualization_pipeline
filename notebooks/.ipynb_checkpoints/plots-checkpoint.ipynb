{
 "cells": [
  {
   "cell_type": "code",
   "execution_count": 38,
   "metadata": {},
   "outputs": [],
   "source": [
    "%matplotlib inline\n",
    "\n",
    "import http.client\n",
    "import json\n",
    "import numpy as np\n",
    "import matplotlib.mlab as mlab\n",
    "import matplotlib.pyplot as plt\n",
    "import pika\n",
    "from ipywidgets import interact"
   ]
  },
  {
   "cell_type": "code",
   "execution_count": null,
   "metadata": {},
   "outputs": [],
   "source": [
    "# backend service connection\n",
    "baseEndpoint = \"localhost:8082\" \n",
    "basePath = \"/2d/scatter\"\n",
    "baseUri = baseEndpoint + basePath\n",
    "\n",
    "# rabbitMQ connection\n",
    "credentials = pika.PlainCredentials(\"user\", \"password\")\n",
    "parameters = pika.ConnectionParameters('localhost', 5672, '/', credentials)\n"
   ]
  },
  {
   "cell_type": "code",
   "execution_count": null,
   "metadata": {},
   "outputs": [],
   "source": [
    "# functions\n",
    "\n",
    "def getData(x=100,y=100):\n",
    "    relativePath = \"{}?x={}&y={}\".format(basePath,x,y)\n",
    "    conn = http.client.HTTPConnection(baseEndpoint)\n",
    "    conn.request(\"GET\", relativePath)\n",
    "    r1 = conn.getresponse()\n",
    "\n",
    "    if (r1.status >= 400):\n",
    "        print(\"Error:\", relativePath, r1.status, r1.reason)\n",
    "        return []\n",
    "    else:\n",
    "        payload = r1.read()\n",
    "        jsonPayload = payload.decode('utf-8')\n",
    "        return json.loads(jsonPayload)\n",
    "    \n",
    "\n",
    "def scatterPlot(data):\n",
    "    grid = np.array(data)\n",
    "    plt.scatter(grid[:,0], grid[:,1], c='b', marker='.', s=1)\n",
    "    plt.title('Optimized Scatter Plot')\n",
    "    plt.xlabel('X-Axis')\n",
    "    plt.ylabel('Y-Axis')\n",
    "    plt.show()\n",
    "    plt.close()"
   ]
  },
  {
   "cell_type": "code",
   "execution_count": 6,
   "metadata": {
    "scrolled": false
   },
   "outputs": [],
   "source": [
    "data = getData(4000,4000)\n",
    "\n"
   ]
  },
  {
   "cell_type": "code",
   "execution_count": 11,
   "metadata": {},
   "outputs": [
    {
     "data": {
      "image/png": "[encoded data removed]",
      "text/plain": [
       "<Figure size 432x288 with 1 Axes>"
      ]
     },
     "metadata": {},
     "output_type": "display_data"
    }
   ],
   "source": [
    "scatterPlot(data)"
   ]
  },
  {
   "cell_type": "code",
   "execution_count": 37,
   "metadata": {
    "scrolled": true
   },
   "outputs": [],
   "source": [
    "# for plots read: http://bokeh.pydata.org/en/latest/docs/user_guide/notebook.html\n",
    "\n",
    "connection = pika.BlockingConnection(parameters)\n",
    "channel = connection.channel()\n"
   ]
  },
  {
   "cell_type": "code",
   "execution_count": 38,
   "metadata": {
    "scrolled": true
   },
   "outputs": [
    {
     "ename": "KeyboardInterrupt",
     "evalue": "",
     "output_type": "error",
     "traceback": [
      "\u001b[0;31m---------------------------------------------------------------------------\u001b[0m",
      "\u001b[0;31mKeyboardInterrupt\u001b[0m                         Traceback (most recent call last)",
      "\u001b[0;32m<ipython-input-38-e2040b4dedc0>\u001b[0m in \u001b[0;36m<module>\u001b[0;34m()\u001b[0m\n\u001b[1;32m     19\u001b[0m \u001b[0;34m\u001b[0m\u001b[0m\n\u001b[1;32m     20\u001b[0m \u001b[0;34m\u001b[0m\u001b[0m\n\u001b[0;32m---> 21\u001b[0;31m \u001b[0mchannel\u001b[0m\u001b[0;34m.\u001b[0m\u001b[0mstart_consuming\u001b[0m\u001b[0;34m(\u001b[0m\u001b[0;34m)\u001b[0m\u001b[0;34m\u001b[0m\u001b[0;34m\u001b[0m\u001b[0m\n\u001b[0m",
      "\u001b[0;32m/home/chris/.local/lib/python3.6/site-packages/pika/adapters/blocking_connection.py\u001b[0m in \u001b[0;36mstart_consuming\u001b[0;34m(self)\u001b[0m\n\u001b[1;32m   1820\u001b[0m         \u001b[0;31m# Process events as long as consumers exist on this channel\u001b[0m\u001b[0;34m\u001b[0m\u001b[0;34m\u001b[0m\u001b[0;34m\u001b[0m\u001b[0m\n\u001b[1;32m   1821\u001b[0m         \u001b[0;32mwhile\u001b[0m \u001b[0mself\u001b[0m\u001b[0;34m.\u001b[0m\u001b[0m_consumer_infos\u001b[0m\u001b[0;34m:\u001b[0m\u001b[0;34m\u001b[0m\u001b[0;34m\u001b[0m\u001b[0m\n\u001b[0;32m-> 1822\u001b[0;31m             \u001b[0mself\u001b[0m\u001b[0;34m.\u001b[0m\u001b[0mconnection\u001b[0m\u001b[0;34m.\u001b[0m\u001b[0mprocess_data_events\u001b[0m\u001b[0;34m(\u001b[0m\u001b[0mtime_limit\u001b[0m\u001b[0;34m=\u001b[0m\u001b[0;32mNone\u001b[0m\u001b[0;34m)\u001b[0m\u001b[0;34m\u001b[0m\u001b[0;34m\u001b[0m\u001b[0m\n\u001b[0m\u001b[1;32m   1823\u001b[0m \u001b[0;34m\u001b[0m\u001b[0m\n\u001b[1;32m   1824\u001b[0m     \u001b[0;32mdef\u001b[0m \u001b[0mstop_consuming\u001b[0m\u001b[0;34m(\u001b[0m\u001b[0mself\u001b[0m\u001b[0;34m,\u001b[0m \u001b[0mconsumer_tag\u001b[0m\u001b[0;34m=\u001b[0m\u001b[0;32mNone\u001b[0m\u001b[0;34m)\u001b[0m\u001b[0;34m:\u001b[0m\u001b[0;34m\u001b[0m\u001b[0;34m\u001b[0m\u001b[0m\n",
      "\u001b[0;32m/home/chris/.local/lib/python3.6/site-packages/pika/adapters/blocking_connection.py\u001b[0m in \u001b[0;36mprocess_data_events\u001b[0;34m(self, time_limit)\u001b[0m\n\u001b[1;32m    747\u001b[0m                 (self._channels_pending_dispatch or self._ready_events))\n\u001b[1;32m    748\u001b[0m             \u001b[0;32mif\u001b[0m \u001b[0mtime_limit\u001b[0m \u001b[0;32mis\u001b[0m \u001b[0;32mNone\u001b[0m\u001b[0;34m:\u001b[0m\u001b[0;34m\u001b[0m\u001b[0;34m\u001b[0m\u001b[0m\n\u001b[0;32m--> 749\u001b[0;31m                 \u001b[0mself\u001b[0m\u001b[0;34m.\u001b[0m\u001b[0m_flush_output\u001b[0m\u001b[0;34m(\u001b[0m\u001b[0mcommon_terminator\u001b[0m\u001b[0;34m)\u001b[0m\u001b[0;34m\u001b[0m\u001b[0;34m\u001b[0m\u001b[0m\n\u001b[0m\u001b[1;32m    750\u001b[0m             \u001b[0;32melse\u001b[0m\u001b[0;34m:\u001b[0m\u001b[0;34m\u001b[0m\u001b[0;34m\u001b[0m\u001b[0m\n\u001b[1;32m    751\u001b[0m                 \u001b[0;32mwith\u001b[0m \u001b[0m_IoloopTimerContext\u001b[0m\u001b[0;34m(\u001b[0m\u001b[0mtime_limit\u001b[0m\u001b[0;34m,\u001b[0m \u001b[0mself\u001b[0m\u001b[0;34m.\u001b[0m\u001b[0m_impl\u001b[0m\u001b[0;34m)\u001b[0m \u001b[0;32mas\u001b[0m \u001b[0mtimer\u001b[0m\u001b[0;34m:\u001b[0m\u001b[0;34m\u001b[0m\u001b[0;34m\u001b[0m\u001b[0m\n",
      "\u001b[0;32m/home/chris/.local/lib/python3.6/site-packages/pika/adapters/blocking_connection.py\u001b[0m in \u001b[0;36m_flush_output\u001b[0;34m(self, *waiters)\u001b[0m\n\u001b[1;32m    456\u001b[0m         \u001b[0;31m# Process I/O until our completion condition is satisified\u001b[0m\u001b[0;34m\u001b[0m\u001b[0;34m\u001b[0m\u001b[0;34m\u001b[0m\u001b[0m\n\u001b[1;32m    457\u001b[0m         \u001b[0;32mwhile\u001b[0m \u001b[0;32mnot\u001b[0m \u001b[0mis_done\u001b[0m\u001b[0;34m(\u001b[0m\u001b[0;34m)\u001b[0m\u001b[0;34m:\u001b[0m\u001b[0;34m\u001b[0m\u001b[0;34m\u001b[0m\u001b[0m\n\u001b[0;32m--> 458\u001b[0;31m             \u001b[0mself\u001b[0m\u001b[0;34m.\u001b[0m\u001b[0m_impl\u001b[0m\u001b[0;34m.\u001b[0m\u001b[0mioloop\u001b[0m\u001b[0;34m.\u001b[0m\u001b[0mpoll\u001b[0m\u001b[0;34m(\u001b[0m\u001b[0;34m)\u001b[0m\u001b[0;34m\u001b[0m\u001b[0;34m\u001b[0m\u001b[0m\n\u001b[0m\u001b[1;32m    459\u001b[0m             \u001b[0mself\u001b[0m\u001b[0;34m.\u001b[0m\u001b[0m_impl\u001b[0m\u001b[0;34m.\u001b[0m\u001b[0mioloop\u001b[0m\u001b[0;34m.\u001b[0m\u001b[0mprocess_timeouts\u001b[0m\u001b[0;34m(\u001b[0m\u001b[0;34m)\u001b[0m\u001b[0;34m\u001b[0m\u001b[0;34m\u001b[0m\u001b[0m\n\u001b[1;32m    460\u001b[0m \u001b[0;34m\u001b[0m\u001b[0m\n",
      "\u001b[0;32m/home/chris/.local/lib/python3.6/site-packages/pika/adapters/select_connection.py\u001b[0m in \u001b[0;36mpoll\u001b[0;34m(self)\u001b[0m\n\u001b[1;32m    493\u001b[0m \u001b[0;34m\u001b[0m\u001b[0m\n\u001b[1;32m    494\u001b[0m         \"\"\"\n\u001b[0;32m--> 495\u001b[0;31m         \u001b[0mself\u001b[0m\u001b[0;34m.\u001b[0m\u001b[0m_poller\u001b[0m\u001b[0;34m.\u001b[0m\u001b[0mpoll\u001b[0m\u001b[0;34m(\u001b[0m\u001b[0;34m)\u001b[0m\u001b[0;34m\u001b[0m\u001b[0;34m\u001b[0m\u001b[0m\n\u001b[0m\u001b[1;32m    496\u001b[0m \u001b[0;34m\u001b[0m\u001b[0m\n\u001b[1;32m    497\u001b[0m \u001b[0;34m\u001b[0m\u001b[0m\n",
      "\u001b[0;32m/home/chris/.local/lib/python3.6/site-packages/pika/adapters/select_connection.py\u001b[0m in \u001b[0;36mpoll\u001b[0;34m(self)\u001b[0m\n\u001b[1;32m   1100\u001b[0m         \u001b[0;32mwhile\u001b[0m \u001b[0;32mTrue\u001b[0m\u001b[0;34m:\u001b[0m\u001b[0;34m\u001b[0m\u001b[0;34m\u001b[0m\u001b[0m\n\u001b[1;32m   1101\u001b[0m             \u001b[0;32mtry\u001b[0m\u001b[0;34m:\u001b[0m\u001b[0;34m\u001b[0m\u001b[0;34m\u001b[0m\u001b[0m\n\u001b[0;32m-> 1102\u001b[0;31m                 \u001b[0mevents\u001b[0m \u001b[0;34m=\u001b[0m \u001b[0mself\u001b[0m\u001b[0;34m.\u001b[0m\u001b[0m_poll\u001b[0m\u001b[0;34m.\u001b[0m\u001b[0mpoll\u001b[0m\u001b[0;34m(\u001b[0m\u001b[0mself\u001b[0m\u001b[0;34m.\u001b[0m\u001b[0m_get_max_wait\u001b[0m\u001b[0;34m(\u001b[0m\u001b[0;34m)\u001b[0m\u001b[0;34m)\u001b[0m\u001b[0;34m\u001b[0m\u001b[0;34m\u001b[0m\u001b[0m\n\u001b[0m\u001b[1;32m   1103\u001b[0m                 \u001b[0;32mbreak\u001b[0m\u001b[0;34m\u001b[0m\u001b[0;34m\u001b[0m\u001b[0m\n\u001b[1;32m   1104\u001b[0m             \u001b[0;32mexcept\u001b[0m \u001b[0m_SELECT_ERRORS\u001b[0m \u001b[0;32mas\u001b[0m \u001b[0merror\u001b[0m\u001b[0;34m:\u001b[0m\u001b[0;34m\u001b[0m\u001b[0;34m\u001b[0m\u001b[0m\n",
      "\u001b[0;31mKeyboardInterrupt\u001b[0m: "
     ]
    }
   ],
   "source": [
    "\n",
    "\n",
    "def consumeQueue(ch, method, properties, body):\n",
    "    print(\" [x] %r:%r\" % (method.routing_key, body))\n",
    "    \n",
    "    # parse message\n",
    "    # example message: {\"data\":[[641378,0,0,0, ... ,0,0]]}\n",
    "    jsonPayload = body.decode('utf-8')\n",
    "    message = json.loads(jsonPayload)\n",
    "    data = message.data\n",
    "    \n",
    "    ch.basic_ack(delivery_tag = method.delivery_tag)\n",
    "    \n",
    "    data = [[1,2,3][1,2,3][3,3,1]]\n",
    "    \n",
    "    scatterPlot(data)\n",
    "\n",
    "channel.basic_consume(consumeQueue, queue='BDAPRO', no_ack=True)\n",
    "\n",
    "\n",
    "channel.start_consuming()"
   ]
  },
  {
   "cell_type": "code",
   "execution_count": 39,
   "metadata": {
    "scrolled": true
   },
   "outputs": [],
   "source": [
    "\n",
    "connection.close()"
   ]
  },
  {
   "cell_type": "code",
   "execution_count": null,
   "metadata": {
    "scrolled": true
   },
   "outputs": [],
   "source": []
  },
  {
   "cell_type": "code",
   "execution_count": 31,
   "metadata": {
    "scrolled": true
   },
   "outputs": [],
   "source": []
  },
  {
   "cell_type": "code",
   "execution_count": null,
   "metadata": {
    "scrolled": false
   },
   "outputs": [],
   "source": []
  },
  {
   "cell_type": "code",
   "execution_count": null,
   "metadata": {},
   "outputs": [],
   "source": []
  },
  {
   "cell_type": "code",
   "execution_count": 43,
   "metadata": {},
   "outputs": [
    {
     "data": {
      "text/html": [
       "\n",
       "    <div class=\"bk-root\">\n",
       "        <a href=\"https://bokeh.pydata.org\" target=\"_blank\" class=\"bk-logo bk-logo-small bk-logo-notebook\"></a>\n",
       "        <span id=\"3092\">Loading BokehJS ...</span>\n",
       "    </div>"
      ]
     },
     "metadata": {},
     "output_type": "display_data"
    },
    {
     "data": {
      "application/javascript": [
       "\n",
       "(function(root) {\n",
       "  function now() {\n",
       "    return new Date();\n",
       "  }\n",
       "\n",
       "  var force = true;\n",
       "\n",
       "  if (typeof (root._bokeh_onload_callbacks) === \"undefined\" || force === true) {\n",
       "    root._bokeh_onload_callbacks = [];\n",
       "    root._bokeh_is_loading = undefined;\n",
       "  }\n",
       "\n",
       "  var JS_MIME_TYPE = 'application/javascript';\n",
       "  var HTML_MIME_TYPE = 'text/html';\n",
       "  var EXEC_MIME_TYPE = 'application/vnd.bokehjs_exec.v0+json';\n",
       "  var CLASS_NAME = 'output_bokeh rendered_html';\n",
       "\n",
       "  /**\n",
       "   * Render data to the DOM node\n",
       "   */\n",
       "  function render(props, node) {\n",
       "    var script = document.createElement(\"script\");\n",
       "    node.appendChild(script);\n",
       "  }\n",
       "\n",
       "  /**\n",
       "   * Handle when an output is cleared or removed\n",
       "   */\n",
       "  function handleClearOutput(event, handle) {\n",
       "    var cell = handle.cell;\n",
       "\n",
       "    var id = cell.output_area._bokeh_element_id;\n",
       "    var server_id = cell.output_area._bokeh_server_id;\n",
       "    // Clean up Bokeh references\n",
       "    if (id != null && id in Bokeh.index) {\n",
       "      Bokeh.index[id].model.document.clear();\n",
       "      delete Bokeh.index[id];\n",
       "    }\n",
       "\n",
       "    if (server_id !== undefined) {\n",
       "      // Clean up Bokeh references\n",
       "      var cmd = \"from bokeh.io.state import curstate; print(curstate().uuid_to_server['\" + server_id + \"'].get_sessions()[0].document.roots[0]._id)\";\n",
       "      cell.notebook.kernel.execute(cmd, {\n",
       "        iopub: {\n",
       "          output: function(msg) {\n",
       "            var id = msg.content.text.trim();\n",
       "            if (id in Bokeh.index) {\n",
       "              Bokeh.index[id].model.document.clear();\n",
       "              delete Bokeh.index[id];\n",
       "            }\n",
       "          }\n",
       "        }\n",
       "      });\n",
       "      // Destroy server and session\n",
       "      var cmd = \"import bokeh.io.notebook as ion; ion.destroy_server('\" + server_id + \"')\";\n",
       "      cell.notebook.kernel.execute(cmd);\n",
       "    }\n",
       "  }\n",
       "\n",
       "  /**\n",
       "   * Handle when a new output is added\n",
       "   */\n",
       "  function handleAddOutput(event, handle) {\n",
       "    var output_area = handle.output_area;\n",
       "    var output = handle.output;\n",
       "\n",
       "    // limit handleAddOutput to display_data with EXEC_MIME_TYPE content only\n",
       "    if ((output.output_type != \"display_data\") || (!output.data.hasOwnProperty(EXEC_MIME_TYPE))) {\n",
       "      return\n",
       "    }\n",
       "\n",
       "    var toinsert = output_area.element.find(\".\" + CLASS_NAME.split(' ')[0]);\n",
       "\n",
       "    if (output.metadata[EXEC_MIME_TYPE][\"id\"] !== undefined) {\n",
       "      toinsert[toinsert.length - 1].firstChild.textContent = output.data[JS_MIME_TYPE];\n",
       "      // store reference to embed id on output_area\n",
       "      output_area._bokeh_element_id = output.metadata[EXEC_MIME_TYPE][\"id\"];\n",
       "    }\n",
       "    if (output.metadata[EXEC_MIME_TYPE][\"server_id\"] !== undefined) {\n",
       "      var bk_div = document.createElement(\"div\");\n",
       "      bk_div.innerHTML = output.data[HTML_MIME_TYPE];\n",
       "      var script_attrs = bk_div.children[0].attributes;\n",
       "      for (var i = 0; i < script_attrs.length; i++) {\n",
       "        toinsert[toinsert.length - 1].firstChild.setAttribute(script_attrs[i].name, script_attrs[i].value);\n",
       "      }\n",
       "      // store reference to server id on output_area\n",
       "      output_area._bokeh_server_id = output.metadata[EXEC_MIME_TYPE][\"server_id\"];\n",
       "    }\n",
       "  }\n",
       "\n",
       "  function register_renderer(events, OutputArea) {\n",
       "\n",
       "    function append_mime(data, metadata, element) {\n",
       "      // create a DOM node to render to\n",
       "      var toinsert = this.create_output_subarea(\n",
       "        metadata,\n",
       "        CLASS_NAME,\n",
       "        EXEC_MIME_TYPE\n",
       "      );\n",
       "      this.keyboard_manager.register_events(toinsert);\n",
       "      // Render to node\n",
       "      var props = {data: data, metadata: metadata[EXEC_MIME_TYPE]};\n",
       "      render(props, toinsert[toinsert.length - 1]);\n",
       "      element.append(toinsert);\n",
       "      return toinsert\n",
       "    }\n",
       "\n",
       "    /* Handle when an output is cleared or removed */\n",
       "    events.on('clear_output.CodeCell', handleClearOutput);\n",
       "    events.on('delete.Cell', handleClearOutput);\n",
       "\n",
       "    /* Handle when a new output is added */\n",
       "    events.on('output_added.OutputArea', handleAddOutput);\n",
       "\n",
       "    /**\n",
       "     * Register the mime type and append_mime function with output_area\n",
       "     */\n",
       "    OutputArea.prototype.register_mime_type(EXEC_MIME_TYPE, append_mime, {\n",
       "      /* Is output safe? */\n",
       "      safe: true,\n",
       "      /* Index of renderer in `output_area.display_order` */\n",
       "      index: 0\n",
       "    });\n",
       "  }\n",
       "\n",
       "  // register the mime type if in Jupyter Notebook environment and previously unregistered\n",
       "  if (root.Jupyter !== undefined) {\n",
       "    var events = require('base/js/events');\n",
       "    var OutputArea = require('notebook/js/outputarea').OutputArea;\n",
       "\n",
       "    if (OutputArea.prototype.mime_types().indexOf(EXEC_MIME_TYPE) == -1) {\n",
       "      register_renderer(events, OutputArea);\n",
       "    }\n",
       "  }\n",
       "\n",
       "  \n",
       "  if (typeof (root._bokeh_timeout) === \"undefined\" || force === true) {\n",
       "    root._bokeh_timeout = Date.now() + 5000;\n",
       "    root._bokeh_failed_load = false;\n",
       "  }\n",
       "\n",
       "  var NB_LOAD_WARNING = {'data': {'text/html':\n",
       "     \"<div style='background-color: #fdd'>\\n\"+\n",
       "     \"<p>\\n\"+\n",
       "     \"BokehJS does not appear to have successfully loaded. If loading BokehJS from CDN, this \\n\"+\n",
       "     \"may be due to a slow or bad network connection. Possible fixes:\\n\"+\n",
       "     \"</p>\\n\"+\n",
       "     \"<ul>\\n\"+\n",
       "     \"<li>re-rerun `output_notebook()` to attempt to load from CDN again, or</li>\\n\"+\n",
       "     \"<li>use INLINE resources instead, as so:</li>\\n\"+\n",
       "     \"</ul>\\n\"+\n",
       "     \"<code>\\n\"+\n",
       "     \"from bokeh.resources import INLINE\\n\"+\n",
       "     \"output_notebook(resources=INLINE)\\n\"+\n",
       "     \"</code>\\n\"+\n",
       "     \"</div>\"}};\n",
       "\n",
       "  function display_loaded() {\n",
       "    var el = document.getElementById(\"3092\");\n",
       "    if (el != null) {\n",
       "      el.textContent = \"BokehJS is loading...\";\n",
       "    }\n",
       "    if (root.Bokeh !== undefined) {\n",
       "      if (el != null) {\n",
       "        el.textContent = \"BokehJS \" + root.Bokeh.version + \" successfully loaded.\";\n",
       "      }\n",
       "    } else if (Date.now() < root._bokeh_timeout) {\n",
       "      setTimeout(display_loaded, 100)\n",
       "    }\n",
       "  }\n",
       "\n",
       "\n",
       "  function run_callbacks() {\n",
       "    try {\n",
       "      root._bokeh_onload_callbacks.forEach(function(callback) { callback() });\n",
       "    }\n",
       "    finally {\n",
       "      delete root._bokeh_onload_callbacks\n",
       "    }\n",
       "    console.info(\"Bokeh: all callbacks have finished\");\n",
       "  }\n",
       "\n",
       "  function load_libs(js_urls, callback) {\n",
       "    root._bokeh_onload_callbacks.push(callback);\n",
       "    if (root._bokeh_is_loading > 0) {\n",
       "      console.log(\"Bokeh: BokehJS is being loaded, scheduling callback at\", now());\n",
       "      return null;\n",
       "    }\n",
       "    if (js_urls == null || js_urls.length === 0) {\n",
       "      run_callbacks();\n",
       "      return null;\n",
       "    }\n",
       "    console.log(\"Bokeh: BokehJS not loaded, scheduling load and callback at\", now());\n",
       "    root._bokeh_is_loading = js_urls.length;\n",
       "    for (var i = 0; i < js_urls.length; i++) {\n",
       "      var url = js_urls[i];\n",
       "      var s = document.createElement('script');\n",
       "      s.src = url;\n",
       "      s.async = false;\n",
       "      s.onreadystatechange = s.onload = function() {\n",
       "        root._bokeh_is_loading--;\n",
       "        if (root._bokeh_is_loading === 0) {\n",
       "          console.log(\"Bokeh: all BokehJS libraries loaded\");\n",
       "          run_callbacks()\n",
       "        }\n",
       "      };\n",
       "      s.onerror = function() {\n",
       "        console.warn(\"failed to load library \" + url);\n",
       "      };\n",
       "      console.log(\"Bokeh: injecting script tag for BokehJS library: \", url);\n",
       "      document.getElementsByTagName(\"head\")[0].appendChild(s);\n",
       "    }\n",
       "  };var element = document.getElementById(\"3092\");\n",
       "  if (element == null) {\n",
       "    console.log(\"Bokeh: ERROR: autoload.js configured with elementid '3092' but no matching script tag was found. \")\n",
       "    return false;\n",
       "  }\n",
       "\n",
       "  var js_urls = [\"https://cdn.pydata.org/bokeh/release/bokeh-1.0.4.min.js\", \"https://cdn.pydata.org/bokeh/release/bokeh-widgets-1.0.4.min.js\", \"https://cdn.pydata.org/bokeh/release/bokeh-tables-1.0.4.min.js\", \"https://cdn.pydata.org/bokeh/release/bokeh-gl-1.0.4.min.js\"];\n",
       "\n",
       "  var inline_js = [\n",
       "    function(Bokeh) {\n",
       "      Bokeh.set_log_level(\"info\");\n",
       "    },\n",
       "    \n",
       "    function(Bokeh) {\n",
       "      \n",
       "    },\n",
       "    function(Bokeh) {\n",
       "      console.log(\"Bokeh: injecting CSS: https://cdn.pydata.org/bokeh/release/bokeh-1.0.4.min.css\");\n",
       "      Bokeh.embed.inject_css(\"https://cdn.pydata.org/bokeh/release/bokeh-1.0.4.min.css\");\n",
       "      console.log(\"Bokeh: injecting CSS: https://cdn.pydata.org/bokeh/release/bokeh-widgets-1.0.4.min.css\");\n",
       "      Bokeh.embed.inject_css(\"https://cdn.pydata.org/bokeh/release/bokeh-widgets-1.0.4.min.css\");\n",
       "      console.log(\"Bokeh: injecting CSS: https://cdn.pydata.org/bokeh/release/bokeh-tables-1.0.4.min.css\");\n",
       "      Bokeh.embed.inject_css(\"https://cdn.pydata.org/bokeh/release/bokeh-tables-1.0.4.min.css\");\n",
       "    }\n",
       "  ];\n",
       "\n",
       "  function run_inline_js() {\n",
       "    \n",
       "    if ((root.Bokeh !== undefined) || (force === true)) {\n",
       "      for (var i = 0; i < inline_js.length; i++) {\n",
       "        inline_js[i].call(root, root.Bokeh);\n",
       "      }if (force === true) {\n",
       "        display_loaded();\n",
       "      }} else if (Date.now() < root._bokeh_timeout) {\n",
       "      setTimeout(run_inline_js, 100);\n",
       "    } else if (!root._bokeh_failed_load) {\n",
       "      console.log(\"Bokeh: BokehJS failed to load within specified timeout.\");\n",
       "      root._bokeh_failed_load = true;\n",
       "    } else if (force !== true) {\n",
       "      var cell = $(document.getElementById(\"3092\")).parents('.cell').data().cell;\n",
       "      cell.output_area.append_execute_result(NB_LOAD_WARNING)\n",
       "    }\n",
       "\n",
       "  }\n",
       "\n",
       "  if (root._bokeh_is_loading === 0) {\n",
       "    console.log(\"Bokeh: BokehJS loaded, going straight to plotting\");\n",
       "    run_inline_js();\n",
       "  } else {\n",
       "    load_libs(js_urls, function() {\n",
       "      console.log(\"Bokeh: BokehJS plotting callback run at\", now());\n",
       "      run_inline_js();\n",
       "    });\n",
       "  }\n",
       "}(window));"
      ],
      "application/vnd.bokehjs_load.v0+json": "\n(function(root) {\n  function now() {\n    return new Date();\n  }\n\n  var force = true;\n\n  if (typeof (root._bokeh_onload_callbacks) === \"undefined\" || force === true) {\n    root._bokeh_onload_callbacks = [];\n    root._bokeh_is_loading = undefined;\n  }\n\n  \n\n  \n  if (typeof (root._bokeh_timeout) === \"undefined\" || force === true) {\n    root._bokeh_timeout = Date.now() + 5000;\n    root._bokeh_failed_load = false;\n  }\n\n  var NB_LOAD_WARNING = {'data': {'text/html':\n     \"<div style='background-color: #fdd'>\\n\"+\n     \"<p>\\n\"+\n     \"BokehJS does not appear to have successfully loaded. If loading BokehJS from CDN, this \\n\"+\n     \"may be due to a slow or bad network connection. Possible fixes:\\n\"+\n     \"</p>\\n\"+\n     \"<ul>\\n\"+\n     \"<li>re-rerun `output_notebook()` to attempt to load from CDN again, or</li>\\n\"+\n     \"<li>use INLINE resources instead, as so:</li>\\n\"+\n     \"</ul>\\n\"+\n     \"<code>\\n\"+\n     \"from bokeh.resources import INLINE\\n\"+\n     \"output_notebook(resources=INLINE)\\n\"+\n     \"</code>\\n\"+\n     \"</div>\"}};\n\n  function display_loaded() {\n    var el = document.getElementById(\"3092\");\n    if (el != null) {\n      el.textContent = \"BokehJS is loading...\";\n    }\n    if (root.Bokeh !== undefined) {\n      if (el != null) {\n        el.textContent = \"BokehJS \" + root.Bokeh.version + \" successfully loaded.\";\n      }\n    } else if (Date.now() < root._bokeh_timeout) {\n      setTimeout(display_loaded, 100)\n    }\n  }\n\n\n  function run_callbacks() {\n    try {\n      root._bokeh_onload_callbacks.forEach(function(callback) { callback() });\n    }\n    finally {\n      delete root._bokeh_onload_callbacks\n    }\n    console.info(\"Bokeh: all callbacks have finished\");\n  }\n\n  function load_libs(js_urls, callback) {\n    root._bokeh_onload_callbacks.push(callback);\n    if (root._bokeh_is_loading > 0) {\n      console.log(\"Bokeh: BokehJS is being loaded, scheduling callback at\", now());\n      return null;\n    }\n    if (js_urls == null || js_urls.length === 0) {\n      run_callbacks();\n      return null;\n    }\n    console.log(\"Bokeh: BokehJS not loaded, scheduling load and callback at\", now());\n    root._bokeh_is_loading = js_urls.length;\n    for (var i = 0; i < js_urls.length; i++) {\n      var url = js_urls[i];\n      var s = document.createElement('script');\n      s.src = url;\n      s.async = false;\n      s.onreadystatechange = s.onload = function() {\n        root._bokeh_is_loading--;\n        if (root._bokeh_is_loading === 0) {\n          console.log(\"Bokeh: all BokehJS libraries loaded\");\n          run_callbacks()\n        }\n      };\n      s.onerror = function() {\n        console.warn(\"failed to load library \" + url);\n      };\n      console.log(\"Bokeh: injecting script tag for BokehJS library: \", url);\n      document.getElementsByTagName(\"head\")[0].appendChild(s);\n    }\n  };var element = document.getElementById(\"3092\");\n  if (element == null) {\n    console.log(\"Bokeh: ERROR: autoload.js configured with elementid '3092' but no matching script tag was found. \")\n    return false;\n  }\n\n  var js_urls = [\"https://cdn.pydata.org/bokeh/release/bokeh-1.0.4.min.js\", \"https://cdn.pydata.org/bokeh/release/bokeh-widgets-1.0.4.min.js\", \"https://cdn.pydata.org/bokeh/release/bokeh-tables-1.0.4.min.js\", \"https://cdn.pydata.org/bokeh/release/bokeh-gl-1.0.4.min.js\"];\n\n  var inline_js = [\n    function(Bokeh) {\n      Bokeh.set_log_level(\"info\");\n    },\n    \n    function(Bokeh) {\n      \n    },\n    function(Bokeh) {\n      console.log(\"Bokeh: injecting CSS: https://cdn.pydata.org/bokeh/release/bokeh-1.0.4.min.css\");\n      Bokeh.embed.inject_css(\"https://cdn.pydata.org/bokeh/release/bokeh-1.0.4.min.css\");\n      console.log(\"Bokeh: injecting CSS: https://cdn.pydata.org/bokeh/release/bokeh-widgets-1.0.4.min.css\");\n      Bokeh.embed.inject_css(\"https://cdn.pydata.org/bokeh/release/bokeh-widgets-1.0.4.min.css\");\n      console.log(\"Bokeh: injecting CSS: https://cdn.pydata.org/bokeh/release/bokeh-tables-1.0.4.min.css\");\n      Bokeh.embed.inject_css(\"https://cdn.pydata.org/bokeh/release/bokeh-tables-1.0.4.min.css\");\n    }\n  ];\n\n  function run_inline_js() {\n    \n    if ((root.Bokeh !== undefined) || (force === true)) {\n      for (var i = 0; i < inline_js.length; i++) {\n        inline_js[i].call(root, root.Bokeh);\n      }if (force === true) {\n        display_loaded();\n      }} else if (Date.now() < root._bokeh_timeout) {\n      setTimeout(run_inline_js, 100);\n    } else if (!root._bokeh_failed_load) {\n      console.log(\"Bokeh: BokehJS failed to load within specified timeout.\");\n      root._bokeh_failed_load = true;\n    } else if (force !== true) {\n      var cell = $(document.getElementById(\"3092\")).parents('.cell').data().cell;\n      cell.output_area.append_execute_result(NB_LOAD_WARNING)\n    }\n\n  }\n\n  if (root._bokeh_is_loading === 0) {\n    console.log(\"Bokeh: BokehJS loaded, going straight to plotting\");\n    run_inline_js();\n  } else {\n    load_libs(js_urls, function() {\n      console.log(\"Bokeh: BokehJS plotting callback run at\", now());\n      run_inline_js();\n    });\n  }\n}(window));"
     },
     "metadata": {},
     "output_type": "display_data"
    }
   ],
   "source": [
    "# from bokeh.plotting import output_file, figure, show, hplot\n",
    "\n",
    "from bokeh.io import push_notebook, show, output_notebook\n",
    "from bokeh.plotting import output_file, figure, show, output_notebook\n",
    "from bokeh.models import ColumnDataSource, CustomJS, Rect\n",
    "\n",
    "from six.moves import zip\n",
    "\n",
    "output_notebook()\n",
    "\n",
    "source = ColumnDataSource({'x': [], 'y': [], 'width': [], 'height': []})\n"
   ]
  },
  {
   "cell_type": "code",
   "execution_count": 3,
   "metadata": {},
   "outputs": [],
   "source": [
    "N = 4000\n",
    "\n",
    "x = np.random.random(size=N) * 100\n",
    "y = np.random.random(size=N) * 100\n",
    "radii = np.random.random(size=N) * 1.5"
   ]
  },
  {
   "cell_type": "code",
   "execution_count": 4,
   "metadata": {},
   "outputs": [
    {
     "data": {
      "text/html": [
       "<div style=\"display: table;\"><div style=\"display: table-row;\"><div style=\"display: table-cell;\"><b title=\"bokeh.models.renderers.GlyphRenderer\">GlyphRenderer</b>(</div><div style=\"display: table-cell;\">id&nbsp;=&nbsp;'1110', <span id=\"1113\" style=\"cursor: pointer;\">&hellip;)</span></div></div><div class=\"1112\" style=\"display: none;\"><div style=\"display: table-cell;\"></div><div style=\"display: table-cell;\">data_source&nbsp;=&nbsp;ColumnDataSource(id='1107', ...),</div></div><div class=\"1112\" style=\"display: none;\"><div style=\"display: table-cell;\"></div><div style=\"display: table-cell;\">glyph&nbsp;=&nbsp;Circle(id='1108', ...),</div></div><div class=\"1112\" style=\"display: none;\"><div style=\"display: table-cell;\"></div><div style=\"display: table-cell;\">hover_glyph&nbsp;=&nbsp;None,</div></div><div class=\"1112\" style=\"display: none;\"><div style=\"display: table-cell;\"></div><div style=\"display: table-cell;\">js_event_callbacks&nbsp;=&nbsp;{},</div></div><div class=\"1112\" style=\"display: none;\"><div style=\"display: table-cell;\"></div><div style=\"display: table-cell;\">js_property_callbacks&nbsp;=&nbsp;{},</div></div><div class=\"1112\" style=\"display: none;\"><div style=\"display: table-cell;\"></div><div style=\"display: table-cell;\">level&nbsp;=&nbsp;'glyph',</div></div><div class=\"1112\" style=\"display: none;\"><div style=\"display: table-cell;\"></div><div style=\"display: table-cell;\">muted&nbsp;=&nbsp;False,</div></div><div class=\"1112\" style=\"display: none;\"><div style=\"display: table-cell;\"></div><div style=\"display: table-cell;\">muted_glyph&nbsp;=&nbsp;None,</div></div><div class=\"1112\" style=\"display: none;\"><div style=\"display: table-cell;\"></div><div style=\"display: table-cell;\">name&nbsp;=&nbsp;None,</div></div><div class=\"1112\" style=\"display: none;\"><div style=\"display: table-cell;\"></div><div style=\"display: table-cell;\">nonselection_glyph&nbsp;=&nbsp;Circle(id='1109', ...),</div></div><div class=\"1112\" style=\"display: none;\"><div style=\"display: table-cell;\"></div><div style=\"display: table-cell;\">selection_glyph&nbsp;=&nbsp;None,</div></div><div class=\"1112\" style=\"display: none;\"><div style=\"display: table-cell;\"></div><div style=\"display: table-cell;\">subscribed_events&nbsp;=&nbsp;[],</div></div><div class=\"1112\" style=\"display: none;\"><div style=\"display: table-cell;\"></div><div style=\"display: table-cell;\">tags&nbsp;=&nbsp;[],</div></div><div class=\"1112\" style=\"display: none;\"><div style=\"display: table-cell;\"></div><div style=\"display: table-cell;\">view&nbsp;=&nbsp;CDSView(id='1111', ...),</div></div><div class=\"1112\" style=\"display: none;\"><div style=\"display: table-cell;\"></div><div style=\"display: table-cell;\">visible&nbsp;=&nbsp;True,</div></div><div class=\"1112\" style=\"display: none;\"><div style=\"display: table-cell;\"></div><div style=\"display: table-cell;\">x_range_name&nbsp;=&nbsp;'default',</div></div><div class=\"1112\" style=\"display: none;\"><div style=\"display: table-cell;\"></div><div style=\"display: table-cell;\">y_range_name&nbsp;=&nbsp;'default')</div></div></div>\n",
       "<script>\n",
       "(function() {\n",
       "  var expanded = false;\n",
       "  var ellipsis = document.getElementById(\"1113\");\n",
       "  ellipsis.addEventListener(\"click\", function() {\n",
       "    var rows = document.getElementsByClassName(\"1112\");\n",
       "    for (var i = 0; i < rows.length; i++) {\n",
       "      var el = rows[i];\n",
       "      el.style.display = expanded ? \"none\" : \"table-row\";\n",
       "    }\n",
       "    ellipsis.innerHTML = expanded ? \"&hellip;)\" : \"&lsaquo;&lsaquo;&lsaquo;\";\n",
       "    expanded = !expanded;\n",
       "  });\n",
       "})();\n",
       "</script>\n"
      ],
      "text/plain": [
       "GlyphRenderer(id='1110', ...)"
      ]
     },
     "execution_count": 4,
     "metadata": {},
     "output_type": "execute_result"
    }
   ],
   "source": [
    "TOOLS=\"hover,crosshair,pan,wheel_zoom,box_zoom,reset,tap,save,box_select\"\n",
    "\n",
    "colors2 = [\"#%02x%02x%02x\" % (int(r), int(g), 150) for r, g in zip(50+2*x, 30+2*y)]\n",
    "p1 = figure(width=300, height=300, tools=TOOLS)\n",
    "p1.scatter(x,y, radius=radii, fill_color=colors2, fill_alpha=0.6, line_color=None)\n",
    "\n",
    "colors2 = [\"#%02x%02x%02x\" % (150, int(g), int(b)) for g, b in zip(50+2*x, 30+2*y)]\n",
    "p2 = figure(width=300, height=300, tools=TOOLS)\n",
    "p2.scatter(x,y, radius=radii, fill_color=colors2, fill_alpha=0.6, line_color=None)"
   ]
  },
  {
   "cell_type": "code",
   "execution_count": null,
   "metadata": {},
   "outputs": [],
   "source": [
    "show(p1)\n",
    "show(p2)"
   ]
  },
  {
   "cell_type": "code",
   "execution_count": null,
   "metadata": {},
   "outputs": [],
   "source": []
  },
  {
   "cell_type": "code",
   "execution_count": null,
   "metadata": {},
   "outputs": [],
   "source": []
  },
  {
   "cell_type": "code",
   "execution_count": null,
   "metadata": {},
   "outputs": [],
   "source": []
  },
  {
   "cell_type": "code",
   "execution_count": 34,
   "metadata": {},
   "outputs": [
    {
     "name": "stderr",
     "output_type": "stream",
     "text": [
      "BokehUserWarning: ColumnDataSource's columns must be of the same length. Current lengths: ('fill_color', 50), ('x', 4397), ('y', 4397)\n"
     ]
    }
   ],
   "source": [
    "grid = np.array(data)\n",
    "radii = np.random.random(size=4000) * 1.5\n",
    "\n",
    "TOOLS=\"hover,crosshair,pan,wheel_zoom,box_zoom,reset,tap,save,box_select,poly_select,lasso_select\"\n",
    "colors2 = [\"#%02x%02x%02x\" % (int(r), int(g), 150) for r, g in zip(50+2*x, 30+2*y)]\n",
    "# radius=radii\n",
    "p1 = figure(title=\"visaulization pipeline scatter plot\", width=500, height=500, tools=TOOLS)\n",
    "r = p1.scatter(grid[:,0], grid[:,1],  fill_color=colors2, fill_alpha=0.6, line_color=None)"
   ]
  },
  {
   "cell_type": "code",
   "execution_count": 35,
   "metadata": {},
   "outputs": [
    {
     "data": {
      "text/html": [
       "\n",
       "\n",
       "\n",
       "\n",
       "\n",
       "\n",
       "  <div class=\"bk-root\" id=\"efa09fd0-81d4-4f3d-a020-a04a1765800c\" data-root-id=\"2867\"></div>\n"
      ]
     },
     "metadata": {},
     "output_type": "display_data"
    },
    {
     "data": {
      "application/javascript": [
       "(function(root) {\n",
       "  function embed_document(root) {\n",
       "    \n",
       "  var docs_json = {\"77abc4e1-63ba-46fc-9973-fea522226f83\":{\"roots\":{\"references\":[{\"attributes\":{\"below\":[{\"id\":\"2877\",\"type\":\"LinearAxis\"}],\"left\":[{\"id\":\"2882\",\"type\":\"LinearAxis\"}],\"plot_height\":500,\"plot_width\":500,\"renderers\":[{\"id\":\"2877\",\"type\":\"LinearAxis\"},{\"id\":\"2881\",\"type\":\"Grid\"},{\"id\":\"2882\",\"type\":\"LinearAxis\"},{\"id\":\"2886\",\"type\":\"Grid\"},{\"id\":\"2902\",\"type\":\"BoxAnnotation\"},{\"id\":\"2908\",\"type\":\"BoxAnnotation\"},{\"id\":\"2911\",\"type\":\"PolyAnnotation\"},{\"id\":\"2914\",\"type\":\"PolyAnnotation\"},{\"id\":\"2921\",\"type\":\"GlyphRenderer\"}],\"title\":{\"id\":\"2866\",\"type\":\"Title\"},\"toolbar\":{\"id\":\"2898\",\"type\":\"Toolbar\"},\"x_range\":{\"id\":\"2869\",\"type\":\"DataRange1d\"},\"x_scale\":{\"id\":\"2873\",\"type\":\"LinearScale\"},\"y_range\":{\"id\":\"2871\",\"type\":\"DataRange1d\"},\"y_scale\":{\"id\":\"2875\",\"type\":\"LinearScale\"}},\"id\":\"2867\",\"subtype\":\"Figure\",\"type\":\"Plot\"},{\"attributes\":{\"source\":{\"id\":\"2918\",\"type\":\"ColumnDataSource\"}},\"id\":\"2922\",\"type\":\"CDSView\"},{\"attributes\":{\"overlay\":{\"id\":\"2902\",\"type\":\"BoxAnnotation\"}},\"id\":\"2891\",\"type\":\"BoxZoomTool\"},{\"attributes\":{},\"id\":\"2888\",\"type\":\"CrosshairTool\"},{\"attributes\":{},\"id\":\"2883\",\"type\":\"BasicTicker\"},{\"attributes\":{},\"id\":\"2889\",\"type\":\"PanTool\"},{\"attributes\":{\"fill_alpha\":{\"value\":0.1},\"fill_color\":{\"value\":\"#1f77b4\"},\"line_alpha\":{\"value\":0.1},\"line_color\":{\"value\":\"#1f77b4\"},\"x\":{\"field\":\"x\"},\"y\":{\"field\":\"y\"}},\"id\":\"2920\",\"type\":\"Scatter\"},{\"attributes\":{\"fill_alpha\":{\"value\":0.5},\"fill_color\":{\"value\":\"lightgrey\"},\"level\":\"overlay\",\"line_alpha\":{\"value\":1.0},\"line_color\":{\"value\":\"black\"},\"line_dash\":[4,4],\"line_width\":{\"value\":2},\"plot\":null,\"xs_units\":\"screen\",\"ys_units\":\"screen\"},\"id\":\"2911\",\"type\":\"PolyAnnotation\"},{\"attributes\":{\"plot\":{\"id\":\"2867\",\"subtype\":\"Figure\",\"type\":\"Plot\"},\"ticker\":{\"id\":\"2878\",\"type\":\"BasicTicker\"}},\"id\":\"2881\",\"type\":\"Grid\"},{\"attributes\":{},\"id\":\"3017\",\"type\":\"BasicTickFormatter\"},{\"attributes\":{\"formatter\":{\"id\":\"3017\",\"type\":\"BasicTickFormatter\"},\"plot\":{\"id\":\"2867\",\"subtype\":\"Figure\",\"type\":\"Plot\"},\"ticker\":{\"id\":\"2883\",\"type\":\"BasicTicker\"}},\"id\":\"2882\",\"type\":\"LinearAxis\"},{\"attributes\":{\"callback\":null,\"data\":{\"fill_color\":[\"#32ad96\",\"#322596\",\"#327f96\",\"#339896\",\"#336f96\",\"#34e196\",\"#34e396\",\"#34ad96\",\"#356796\",\"#359c96\",\"#36ce96\",\"#363596\",\"#36bd96\",\"#376d96\",\"#378796\",\"#382c96\",\"#385796\",\"#388296\",\"#39c596\",\"#393a96\",\"#3ab896\",\"#3aa596\",\"#3a3196\",\"#3bb996\",\"#3bb696\",\"#3ccb96\",\"#3c4d96\",\"#3d5496\",\"#3d8396\",\"#3dcc96\",\"#3edb96\",\"#3e7896\",\"#3f6896\",\"#3f9496\",\"#3fb396\",\"#408196\",\"#408096\",\"#413a96\",\"#413396\",\"#417f96\",\"#42b996\",\"#42b696\",\"#437296\",\"#43e496\",\"#436e96\",\"#444796\",\"#445596\",\"#456f96\",\"#45d896\",\"#463f96\"],\"x\":[0,0,0,0,0,0,0,0,0,0,0,0,0,0,0,0,0,0,0,0,0,0,0,0,0,0,0,0,0,0,0,0,0,0,0,0,0,0,0,0,0,0,0,0,0,0,0,0,0,0,0,0,0,0,0,0,0,0,0,0,1,2,2,3,3,4,4,4,5,5,6,7,7,7,7,9,9,11,11,12,12,13,13,14,14,14,15,15,15,15,15,16,17,17,18,18,19,19,19,20,20,20,21,22,22,22,22,22,22,24,24,24,24,24,25,25,25,25,26,26,26,27,27,27,28,28,28,29,29,29,30,30,30,30,30,30,31,31,31,32,32,32,32,32,32,32,32,32,32,33,33,33,34,34,34,34,34,35,35,35,35,36,36,36,37,37,37,37,38,38,38,39,39,39,39,39,40,40,40,40,40,40,40,40,40,41,41,41,41,41,42,42,42,42,43,43,43,43,44,44,44,44,45,45,45,45,46,46,46,46,46,46,48,48,48,48,49,49,49,49,49,49,49,49,49,49,49,50,50,50,50,51,51,51,51,52,52,52,52,52,52,53,53,53,53,53,53,54,54,54,54,54,55,55,55,55,55,55,56,56,56,56,56,56,57,57,57,57,57,57,57,57,57,58,58,58,58,58,59,59,59,59,59,59,59,60,60,60,60,60,60,60,61,61,61,61,61,62,62,62,62,62,62,63,63,63,63,63,63,64,64,64,64,64,65,65,65,65,65,65,65,66,66,66,66,66,66,66,66,66,66,67,67,67,67,67,68,68,68,68,68,69,69,69,69,69,69,70,70,70,70,71,71,71,71,71,71,72,72,72,72,72,72,72,73,73,73,73,73,73,74,74,74,74,74,74,74,74,74,75,75,75,75,75,75,76,76,76,76,76,76,76,76,77,77,77,77,77,77,77,78,78,78,78,78,78,79,79,79,79,79,79,79,80,80,80,80,80,81,81,81,81,81,81,82,82,82,82,82,82,82,82,82,83,83,83,83,83,84,84,84,84,84,84,85,85,85,85,85,85,85,86,86,86,86,86,87,87,87,87,87,87,87,88,88,88,88,88,88,88,88,89,89,89,89,89,89,90,90,90,90,90,90,91,91,91,91,91,91,91,91,91,91,91,92,92,92,92,92,92,93,93,93,93,93,93,93,94,94,94,94,94,94,94,94,95,95,95,95,95,95,95,97,97,97,97,97,97,97,98,98,98,98,98,98,98,99,99,99,99,99,99,99,99,99,99,100,100,100,100,100,100,101,101,101,101,101,101,102,102,102,102,102,102,102,103,103,103,103,103,103,103,103,104,104,104,104,104,104,104,105,105,105,105,105,105,106,106,106,106,106,106,106,107,107,107,107,108,108,108,108,108,108,108,108,108,108,109,109,109,109,109,109,109,109,110,110,110,110,110,110,110,110,111,111,111,111,111,111,111,111,111,112,112,112,112,112,112,113,113,113,113,113,113,114,114,114,114,114,114,114,115,115,115,115,115,115,116,116,116,116,116,116,116,116,116,117,117,117,117,117,118,118,118,118,118,118,118,119,119,119,119,119,119,119,119,119,119,120,120,120,120,120,120,120,121,121,121,121,121,121,121,122,122,122,122,122,123,123,123,123,123,123,123,123,123,124,124,124,124,124,124,124,124,124,124,125,125,125,125,125,126,126,126,126,126,126,126,127,127,127,127,127,127,127,128,128,128,128,128,128,128,128,129,129,129,129,129,129,129,129,130,130,130,130,130,130,130,131,131,131,131,131,131,131,131,132,132,132,132,132,132,132,132,133,133,133,133,133,133,133,133,133,133,133,134,134,134,134,134,134,134,134,134,135,135,135,135,135,135,135,136,136,136,136,136,137,137,137,137,137,137,137,138,138,138,138,138,139,139,139,139,139,139,139,140,140,140,140,140,140,140,140,140,141,141,141,141,141,141,141,141,141,141,141,142,142,142,142,142,142,142,142,143,143,143,143,143,143,143,144,144,144,144,144,144,144,144,145,145,145,145,145,145,145,146,146,146,146,146,146,147,147,147,147,147,147,147,147,148,148,148,148,148,148,148,148,149,149,149,149,149,149,150,150,150,150,150,150,150,150,150,150,150,150,151,151,151,151,151,151,151,152,152,152,152,152,152,152,152,153,153,153,153,153,153,153,154,154,154,154,154,155,155,155,155,155,156,156,156,156,156,156,156,156,156,157,157,157,157,157,158,158,158,158,158,158,158,158,158,158,158,158,158,159,159,159,159,159,159,160,160,160,160,160,160,161,161,161,161,161,161,161,161,161,162,162,162,162,162,162,162,162,163,163,163,163,163,163,163,164,164,164,164,164,164,165,165,165,165,166,166,166,166,166,166,166,166,166,166,166,168,168,168,168,168,168,168,168,168,170,170,170,170,170,170,170,172,172,172,172,172,172,172,173,173,173,173,173,173,173,173,173,174,174,174,174,174,175,175,175,175,175,175,175,175,175,175,175,176,176,176,176,176,176,177,177,177,177,177,177,177,178,178,178,178,178,178,178,178,179,179,179,179,179,179,179,180,180,180,180,180,181,181,181,181,181,181,182,182,182,182,182,182,182,183,183,183,183,183,183,183,183,183,183,183,184,184,184,184,184,184,185,185,185,185,185,185,185,185,185,186,186,186,186,186,186,186,186,186,187,187,187,187,187,187,187,187,187,189,189,189,189,189,189,189,191,191,191,191,191,191,191,191,191,191,191,191,191,191,192,192,192,192,192,192,194,194,194,194,194,194,194,195,195,195,195,196,196,196,196,196,197,197,197,197,197,197,197,198,198,198,198,198,198,198,198,198,199,199,199,199,199,199,200,200,200,200,200,200,200,200,200,200,200,200,201,201,201,201,201,201,202,202,202,202,202,202,202,203,203,203,203,203,203,203,204,204,204,204,204,204,204,204,205,205,205,205,205,205,205,205,206,206,206,206,206,206,206,207,207,207,207,207,207,207,207,207,208,208,208,208,208,208,208,208,208,208,208,208,210,210,210,210,210,210,210,212,212,212,212,212,212,212,212,213,213,213,213,213,213,213,213,214,214,214,214,214,214,214,215,215,215,215,215,216,216,216,216,216,216,216,217,217,217,217,217,217,217,217,217,217,217,217,217,218,218,218,218,218,218,219,219,219,219,219,219,219,219,219,219,220,220,220,220,220,220,220,221,221,221,221,221,222,222,222,222,222,222,222,223,223,223,223,224,224,224,224,224,224,224,224,224,225,225,225,225,225,225,225,225,225,225,225,225,226,226,226,226,226,226,227,227,227,227,227,227,228,228,228,228,228,229,229,229,229,229,229,229,229,230,230,230,230,230,230,231,231,231,231,231,231,231,231,231,232,232,232,232,232,232,233,233,233,233,233,234,234,234,234,234,234,234,234,234,234,234,234,234,234,235,235,235,235,235,235,235,235,236,236,236,236,236,236,236,237,237,237,237,238,238,238,238,238,239,239,239,239,239,240,240,240,240,240,240,240,240,240,241,241,241,241,241,241,242,242,242,242,242,242,242,242,242,242,242,242,243,243,243,243,243,243,244,244,244,244,244,244,245,245,245,245,245,245,245,245,245,246,246,246,246,246,246,247,247,247,247,247,247,248,248,248,248,249,249,249,249,250,250,250,250,250,250,250,250,250,250,250,251,251,251,251,252,252,252,252,252,252,253,253,253,253,253,253,253,254,254,254,254,255,255,255,255,255,255,256,256,256,256,256,256,257,257,257,257,257,257,257,257,258,258,258,258,258,258,258,259,259,259,259,259,259,259,259,259,259,259,259,259,259,260,260,260,260,260,261,261,261,261,261,261,261,262,262,262,262,262,262,262,263,263,263,263,263,263,263,263,264,264,264,264,265,265,265,265,265,265,265,265,266,266,266,266,266,266,267,267,267,267,267,267,267,267,267,267,267,267,267,267,267,268,268,268,269,269,269,269,270,270,270,270,270,270,270,271,271,271,271,271,271,271,272,272,272,272,272,272,272,273,273,273,273,273,273,273,274,274,274,274,275,275,275,275,275,275,275,275,276,276,276,276,276,276,276,276,276,276,276,276,276,277,277,277,277,277,277,277,278,278,278,278,278,278,278,279,279,279,279,279,279,279,280,280,280,280,280,281,281,281,281,281,282,282,282,282,282,282,282,282,282,283,283,283,283,284,284,284,284,284,284,284,284,284,284,284,284,284,284,285,285,285,285,285,285,285,285,285,285,286,286,286,286,287,287,287,287,287,287,287,288,288,288,288,288,288,288,289,289,289,289,289,290,290,290,290,290,291,291,291,292,292,292,292,292,292,292,292,292,292,292,292,292,293,293,293,293,294,294,294,294,294,294,295,295,295,295,295,295,295,295,296,296,296,296,296,296,296,297,297,297,297,297,297,297,297,297,298,298,298,298,298,299,300,300,300,300,301,301,301,301,301,301,301,301,301,301,301,301,301,302,302,302,302,303,303,303,303,304,304,304,304,304,305,305,305,305,305,305,305,305,306,306,306,306,307,307,307,307,308,308,308,308,308,308,308,308,308,309,309,309,309,309,309,309,309,309,309,309,310,310,310,310,310,310,310,311,311,311,311,311,311,311,312,312,312,312,312,313,313,313,313,313,313,314,314,314,314,314,315,315,315,315,315,315,315,316,316,316,316,316,316,316,316,316,317,317,317,317,318,318,318,318,318,318,318,318,318,318,318,319,319,319,319,319,319,319,319,320,321,321,321,321,322,322,322,322,322,322,323,323,323,323,324,324,324,324,324,324,324,324,325,325,325,325,325,325,326,326,326,326,326,326,326,326,326,326,326,326,326,327,327,327,328,328,329,329,329,329,329,329,329,329,329,330,330,330,330,331,331,331,331,331,332,332,332,332,332,332,332,333,333,333,333,334,334,334,334,334,334,334,334,334,334,334,334,334,334,335,335,335,335,335,335,335,337,337,337,337,338,338,338,338,339,339,339,339,339,339,339,339,340,340,340,340,340,340,340,341,341,341,341,342,342,342,342,342,342,342,342,342,342,342,344,344,344,345,345,345,345,345,345,345,345,347,347,347,347,347,347,348,348,348,348,348,348,349,349,349,349,350,350,350,350,350,350,350,350,351,351,351,351,351,351,351,351,351,351,351,351,351,352,352,352,352,353,353,353,353,353,354,354,354,355,355,355,355,355,356,356,356,356,356,356,356,356,356,358,358,358,359,359,359,359,359,359,360,360,360,360,360,360,360,360,360,360,360,360,360,361,361,361,361,361,362,362,362,363,363,363,363,363,363,363,363,363,365,365,365,365,365,365,366,366,366,366,366,368,368,368,368,368,368,368,368,368,368,368,368,368,369,369,369,369,369,369,370,370,370,370,370,371,371,371,371,371,371,371,371,372,372,372,373,373,373,373,373,374,374,374,374,374,375,375,375,376,376,376,376,376,376,376,376,376,376,376,376,376,376,377,377,377,377,377,379,379,379,379,380,380,380,380,381,381,381,381,381,382,382,382,382,382,382,383,383,383,384,384,384,384,384,384,384,384,384,384,384,384,384,384,386,386,386,386,387,387,387,387,387,387,387,387,389,390,390,390,390,390,390,391,391,391,391,392,392,392,392,392,392,392,392,393,393,393,393,393,393,393,393,393,393,393,394,394,394,394,395,395,395,395,395,396,396,396,396,396,396,397,397,397,397,397,397,397,397,397,398,398,398,398,398,398,398,398,400,400,400,401,401,401,402,402,402,402,402,402,402,402,402,402,402,402,402,402,402,403,403,403,403,403,404,404,405,405,405,405,405,405,407,407,407,407,407,407,407,407,408,408,408,408,408,410,410,410,410,410,410,410,410,410,410,410,410,410,410,411,411,411,411,411,411,412,412,412,412,413,413,413,413,413,413,413,413,413,414,414,415,415,415,415,415,416,416,416,416,416,416,416,417,417,417,417,418,418,418,418,418,418,418,418,418,418,418,418,418,418,419,419,419,419,419,419,421,421,421,421,421,422,422,422,423,423,423,423,423,423,423,423,424,424,424,424,424,425,426,426,426,426,426,426,426,426,426,426,426,428,428,428,428,429,430,430,430,430,430,430,431,431,432,432,432,433,433,433,433,434,434,434,434,434,434,434,435,435,435,435,435,435,435,435,435,435,435,436,436,436,437,437,437,437,438,438,438,438,439,439,439,439,440,440,441,441,441,441,441,443,443,443,444,444,444,444,444,444,444,444,444,444,444,444,444,444,445,445,445,446,446,447,447,448,448,448,449,449,449,449,449,449,449,449,450,450,450,450,451,451,451,451,452,452,452,452,452,452,452,452,452,452,452,452,452,452,452,452,453,453,453,454,454,455,455,455,455,455,455,455,455,456,456,456,456,456,456,456,456,457,457,457,457,458,458,458,458,458,459,459,459,459,460,460,460,460,460,460,460,460,460,460,460,460,460,460,461,461,461,462,462,462,462,462,462,462,463,463,463,464,464,464,464,465,465,465,465,465,466,466,466,466,466,466,467,467,467,468,468,469,469,469,469,469,469,469,469,469,469,469,469,469,470,470,470,470,470,471,471,472,472,472,472,472,472,473,473,474,475,475,475,476,476,477,477,477,477,477,477,477,477,477,477,478,478,478,479,479,479,479,479,479,480,481,481,481,481,481,481,482,482,482,482,482,482,483,483,483,483,484,484,484,484,485,486,486,486,486,486,486,486,486,486,486,486,486,487,487,488,488,489,489,490,490,490,490,490,490,491,491,491,491,491,491,491,491,491,492,492,492,493,493,494,494,494,494,494,494,494,494,494,495,495,496,497,497,497,497,497,498,500,500,500,500,501,501,502,502,502,502,502,502,502,502,502,502,502,502,503,503,503,504,504,504,504,504,505,505,505,505,505,506,506,507,507,507,507,507,507,507,507,507,508,509,510,511,511,511,511,511,511,511,511,511,511,511,511,511,512,512,512,512,513,513,513,513,514,514,514,514,514,515,515,515,515,515,517,517,517,517,518,518,518,519,519,519,519,519,519,519,519,519,519,519,519,519,519,519,520,520,521,522,522,522,522,523,523,523,523,523,524,525,525,525,525,526,526,526,526,527,527,527,527,528,528,528,528,528,528,528,528,528,528,529,529,529,529,529,529,530,530,531,531,532,532,533,533,533,533,534,535,535,535,536,536,536,536,536,536,536,536,536,536,536,536,536,537,537,537,538,538,538,538,538,539,539,539,540,541,541,541,541,542,543,543,543,543,543,544,544,544,544,544,544,544,544,544,544,544,545,546,546,546,546,547,547,547,547,548,548,548,548,550,551,551,551,552,552,552,553,553,553,553,553,553,553,553,553,553,553,553,553,554,554,554,554,554,554,554,555,555,555,556,556,557,557,558,558,558,558,559,559,559,560,560,561,561,561,561,561,561,561,561,561,561,561,562,563,563,564,564,565,565,565,565,565,566,566,566,566,566,567,567,567,568,569,569,569,569,570,570,570,570,570,570,570,570,570,570,571,571,572,572,572,572,572,572,574,575,575,575,575,576,576,576,577,577,577,578,578,578,578,578,578,578,578,578,579,580,580,580,580,580,580,580,580,581,581,581,583,584,584,585,586,586,586,586,586,586,586,586,586,587,590,590,591,591,591,591,592,592,592,594,594,595,595,595,595,595,595,595,595,595,595,596,596,596,598,599,599,599,600,601,601,601,602,603,603,603,603,603,603,603,603,603,603,603,604,605,606,606,607,607,607,609,609,612,612,612,612,612,612,612,612,612,612,613,614,615,616,616,616,617,618,619,619,619,620,620,620,620,620,620,620,620,620,620,620,621,621,622,622,623,623,623,623,623,625,626,626,627,627,628,628,628,628,628,628,628,628,628,628,630,630,632,632,632,633,634,634,635,636,636,636,637,637,637,637,637,637,637,637,637,637,638,638,638,638,638,638,639,639,639,641,642,642,643,643,643,644,645,645,645,645,645,645,645,645,646,647,647,648,648,648,649,649,649,649,651,652,652,654,654,654,654,654,654,654,654,654,654,654,655,657,657,657,658,659,659,662,662,662,662,662,662,662,662,662,662,662,664,664,664,664,665,665,666,667,667,667,667,670,670,670,670,670,670,670,670,670,672,672,672,672,673,675,676,679,679,679,679,679,679,679,679,680,680,681,682,683,685,686,686,686,686,686,686,686,686,686,686,688,690,691,691,691,691,691,692,692,693,693,693,693,694,696,696,696,696,696,696,696,696,696,696,696,697,698,698,698,698,699,699,701,701,702,704,704,704,704,704,704,704,704,704,704,705,705,705,706,707,710,711,711,712,712,712,712,712,712,712,713,713,714,714,714,714,717,717,717,720,721,721,721,721,721,721,721,721,721,722,722,723,724,724,724,724,726,726,727,727,728,728,728,728,728,728,728,728,728,728,730,731,731,731,732,732,732,732,735,735,735,736,736,736,738,738,738,738,738,738,738,738,738,740,741,742,742,743,743,744,744,744,746,746,746,746,746,746,746,747,747,748,748,749,749,749,752,752,753,754,754,754,754,754,754,756,756,756,757,757,759,760,761,763,763,763,763,763,763,763,763,764,766,767,768,769,769,770,770,770,770,770,770,772,773,774,774,774,774,774,776,777,777,777,777,778,778,778,780,780,780,780,780,782,783,783,784,784,785,785,785,786,788,788,788,788,788,789,790,791,793,796,796,796,797,798,798,798,798,799,801,801,803,805,805,805,805,805,805,805,806,807,810,811,811,811,812,812,812,812,812,817,819,819,820,822,822,822,822,822,822,823,824,825,826,828,828,828,830,830,830,830,830,830,830,830,831,831,832,833,835,837,837,837,838,838,838,838,838,838,839,840,843,843,843,844,847,847,847,850,853,854,854,856,857,857,858,858,859,859,862,864,864,864,864,866,866,869,869,869,869,871,871,872,872,872,872,872,872,872,872,872,873,874,874,876,876,880,880,880,882,882,886,887,888,889,889,889,889,889,890,890,893,894,895,895,895,896,897,897,897,897,899,899,900,900,902,905,905,905,906,906,906,907,907,907,907,907,909,910,913,913,914,914,914,914,914,915,915,916,917,917,918,922,922,922,922,922,922,924,924,924,927,928,931,931,937,937,939,939,939,939,939,940,941,943,943,945,947,947,947,947,947,949,949,953,956,956,961,963,964,964,964,965,966,968,968,969,970,972,973,973,974,974,974,975,978,978,981,981,981,981,983,983,987,989,989,989,994,995,998,998,999,1000,1001,1005,1005,1006,1009,1010,1015,1015,1015,1016,1016,1017,1017,1021,1021,1023,1023,1027,1028,1029,1031,1031,1031,1031,1031,1031,1040,1047,1047,1048,1048,1048,1048,1049,1049,1053,1057,1058,1062,1062,1062,1063,1063,1065,1065,1065,1065,1068,1069,1072,1073,1073,1073,1084,1084,1086,1087,1090,1090,1091,1099,1100,1102,1103,1104,1107,1107,1107,1107,1107,1113,1115,1115,1116,1118,1122,1124,1124,1130,1131,1132,1141,1149,1151,1155,1157,1157,1157,1165,1166,1167,1174,1174,1174,1174,1182,1183,1183,1183,1184,1186,1189,1191,1208,1208,1214,1216,1225,1225,1230,1233,1233,1233,1236,1241,1241,1241,1245,1246,1250,1250,1257,1258,1258,1266,1267,1268,1272,1275,1278,1288,1288,1292,1292,1295,1297,1300,1304,1309,1309,1317,1317,1325,1325,1325,1334,1346,1351,1353,1357,1359,1367,1367,1367,1380,1384,1384,1384,1384,1386,1387,1388,1393,1393,1393,1394,1396,1399,1401,1401,1403,1403,1403,1409,1417,1419,1424,1424,1426,1426,1435,1440,1443,1443,1445,1447,1451,1451,1453,1456,1459,1468,1472,1477,1477,1480,1483,1485,1491,1493,1495,1501,1506,1508,1510,1514,1518,1519,1519,1520,1524,1527,1527,1529,1532,1535,1535,1540,1540,1542,1543,1543,1545,1547,1548,1552,1556,1561,1570,1574,1574,1576,1577,1577,1583,1585,1585,1587,1590,1592,1597,1597,1600,1602,1603,1606,1606,1611,1611,1618,1619,1623,1624,1627,1631,1634,1636,1637,1637,1640,1642,1645,1645,1645,1667,1669,1673,1678,1678,1678,1687,1687,1688,1690,1695,1699,1702,1703,1708,1711,1711,1723,1726,1729,1730,1737,1743,1747,1754,1755,1757,1760,1762,1762,1770,1770,1770,1772,1776,1779,1785,1786,1791,1796,1804,1812,1841,1842,1845,1871,1871,1871,1888,1900,1936,1938,1955,1955,2079,2098,2154,2266,2270,2291,2401,2436,2476,2493,2493,2556,2669,2832,2871,3274,3394,3945,3999],\"y\":[0,17,21,25,28,32,36,43,49,51,56,58,62,64,66,68,72,73,76,81,82,83,88,92,99,109,111,126,133,148,152,170,197,218,223,236,247,298,313,335,372,387,440,447,481,501,514,522,543,597,649,686,859,896,926,982,1120,1494,2503,3999,103,17,21,0,17,0,17,21,21,25,21,17,21,25,387,21,25,17,55,0,21,21,25,21,25,28,21,25,28,32,40,21,21,25,28,32,21,25,32,0,21,25,28,21,25,28,36,47,2241,21,25,28,32,148,21,25,28,36,21,25,28,21,25,28,25,28,32,21,25,28,21,25,28,32,36,47,25,28,32,0,17,21,25,28,32,36,40,62,73,25,28,36,0,25,28,32,36,25,28,32,62,25,28,32,25,28,32,36,25,28,32,25,28,32,40,43,17,25,28,32,36,40,43,47,73,25,28,32,36,40,25,28,32,36,25,28,32,40,25,28,32,36,25,28,32,36,0,25,28,32,36,40,28,32,36,43,17,25,28,32,36,40,43,47,51,58,81,28,32,36,40,28,32,36,40,28,32,36,40,47,51,0,28,32,36,40,55,28,32,36,40,43,28,32,36,40,43,47,28,32,36,40,43,55,17,28,32,36,40,43,47,51,55,28,32,36,40,43,0,28,32,36,40,43,47,28,32,36,40,43,47,58,28,32,36,40,43,28,32,36,40,43,47,28,32,36,40,43,47,28,32,36,40,47,28,32,36,40,43,47,55,17,28,32,36,40,43,47,51,55,70,32,36,40,43,47,36,40,43,47,51,32,36,40,43,47,58,32,36,40,43,32,36,40,43,47,55,32,36,40,43,47,51,55,32,36,40,43,47,58,32,36,40,43,47,51,55,58,62,32,36,40,43,47,51,0,32,36,40,43,47,51,55,32,36,40,43,47,51,55,32,36,40,43,47,55,32,36,40,43,47,51,55,36,40,43,47,51,0,36,40,43,47,51,32,36,40,43,47,51,55,58,62,36,40,43,47,51,36,40,43,47,51,55,36,40,43,47,51,55,62,36,40,43,47,51,36,40,43,47,51,55,107,36,40,43,47,51,55,58,62,36,40,43,47,51,55,36,40,43,47,51,62,17,36,40,43,47,51,55,58,62,66,70,36,40,43,47,51,55,36,40,43,47,51,55,66,36,40,43,47,51,55,58,62,36,40,43,47,51,55,58,40,43,47,51,55,62,66,40,43,47,51,55,58,62,17,40,43,47,51,55,58,62,66,73,40,43,47,51,55,58,40,43,47,51,55,58,40,43,47,51,55,58,62,40,43,47,51,55,58,62,70,40,43,47,51,55,58,66,43,47,51,55,58,62,40,43,47,51,55,58,66,43,47,51,55,0,40,43,47,51,55,58,62,66,70,43,47,51,55,58,62,66,73,40,43,47,51,55,58,62,66,40,43,47,51,55,58,62,66,70,40,43,47,51,55,58,43,47,51,55,58,62,43,47,51,55,58,62,66,47,51,55,58,62,70,43,47,51,55,58,62,66,70,372,47,51,55,58,62,47,51,55,58,62,66,70,43,47,51,55,58,62,66,70,73,84,43,47,51,55,58,62,66,43,47,51,55,58,62,66,47,51,55,58,62,43,47,51,55,58,62,66,73,77,43,47,51,55,58,62,66,70,73,88,47,51,55,58,62,43,47,51,55,58,62,73,43,51,55,58,62,66,70,43,47,51,55,58,62,66,70,47,51,55,58,62,66,70,88,47,51,55,58,62,70,73,47,51,55,58,62,66,70,77,51,55,58,62,66,70,73,88,43,47,51,55,58,62,66,70,73,77,84,47,51,55,58,62,70,73,77,81,47,51,55,58,62,66,77,51,55,58,62,66,47,51,55,58,62,66,70,51,55,58,62,66,47,51,55,58,62,66,70,47,51,55,58,62,66,70,73,84,47,51,55,58,62,66,70,73,77,81,92,51,55,58,62,66,84,387,440,51,55,58,62,66,70,81,51,55,58,62,66,70,81,99,51,55,58,62,66,70,73,51,55,58,62,66,70,51,55,58,62,66,70,81,84,51,55,58,62,66,70,73,77,47,55,58,62,66,70,51,55,58,62,66,70,73,77,81,84,92,99,55,58,62,66,70,73,77,51,55,58,62,66,70,73,77,55,58,62,66,70,73,77,58,62,66,73,77,55,58,62,70,81,51,55,58,62,66,70,73,77,92,51,55,66,70,73,17,51,55,58,62,66,70,73,77,81,84,96,107,55,58,62,66,70,73,55,58,62,66,70,73,51,55,58,62,66,70,73,77,81,55,58,62,66,70,73,77,88,58,62,66,70,73,81,84,55,62,66,70,73,84,62,66,70,73,55,58,62,66,70,73,77,81,84,96,99,55,58,62,66,70,73,77,81,84,55,58,62,66,70,73,77,58,62,66,70,73,77,81,55,58,62,66,70,73,77,84,96,66,70,73,77,81,55,58,62,66,70,73,77,81,84,88,92,62,66,70,73,77,88,58,62,66,70,73,77,84,58,62,66,70,73,81,84,88,62,66,70,73,77,81,84,58,62,66,70,73,58,62,66,70,73,81,58,62,66,70,73,77,81,58,62,66,70,73,77,81,84,88,92,107,62,66,70,81,84,88,58,66,70,73,77,81,88,92,99,62,66,70,73,77,81,84,88,103,58,62,66,70,73,77,81,84,96,62,66,70,73,77,81,84,58,62,66,70,73,77,81,84,88,92,96,99,107,111,62,66,70,73,77,81,62,70,73,77,81,88,92,70,77,81,92,66,70,73,84,88,58,62,66,70,73,77,81,58,62,66,70,73,77,81,84,99,66,70,73,77,81,96,62,66,70,73,77,81,84,88,92,96,99,111,62,70,73,77,84,99,66,70,73,77,81,84,88,66,70,73,77,81,84,88,66,70,73,77,81,84,88,92,62,70,73,77,81,84,92,96,62,70,73,77,81,88,96,66,70,73,77,81,84,88,92,99,62,66,70,73,77,81,84,88,92,96,99,103,70,73,77,81,84,88,99,62,66,70,73,77,81,84,88,70,73,77,81,84,88,92,96,70,73,77,81,84,92,96,70,73,77,81,84,73,77,81,84,88,92,96,66,70,73,77,81,84,88,92,96,99,103,126,129,73,77,81,84,88,92,66,70,73,77,81,84,88,92,96,103,66,70,73,77,81,88,92,77,81,84,88,92,66,73,77,81,84,88,92,77,81,84,88,66,70,73,77,81,84,88,92,111,66,70,73,77,81,84,88,92,96,99,107,111,73,77,81,84,88,96,73,77,81,84,92,96,73,77,81,84,96,73,77,81,84,88,92,99,387,77,81,88,92,96,107,70,73,77,81,84,92,99,103,118,73,77,81,84,92,96,77,81,84,88,92,17,70,73,77,81,84,88,92,96,99,103,107,114,133,73,77,81,84,88,92,96,111,70,73,81,84,88,92,96,81,84,96,103,73,81,84,88,96,73,77,81,88,92,73,77,81,84,88,92,96,99,103,73,77,81,84,88,99,73,77,81,84,88,92,96,99,103,107,111,114,77,81,84,88,92,99,77,81,84,88,92,137,70,73,81,84,88,92,96,107,122,73,81,84,88,103,122,70,73,77,81,84,88,84,88,92,107,84,88,92,96,73,77,81,84,88,92,96,99,103,107,114,81,84,88,96,73,81,84,88,92,99,81,84,88,92,96,99,103,84,92,96,107,81,84,88,92,96,99,73,81,84,88,92,96,77,84,88,92,99,118,122,167,77,84,88,92,96,99,103,77,81,84,88,92,96,99,103,107,114,118,133,144,365,77,81,84,88,92,81,84,88,92,96,99,103,73,77,81,84,92,99,103,81,84,88,92,96,103,114,118,84,88,92,387,77,84,88,92,96,99,103,107,84,88,92,96,99,103,77,81,84,88,92,96,99,103,107,111,114,118,122,126,533,88,96,99,88,92,96,99,77,81,92,96,99,103,107,77,84,88,92,99,103,118,84,88,92,96,99,103,111,81,88,92,96,103,107,111,92,96,103,111,77,84,88,92,96,99,103,107,77,81,84,88,92,96,99,103,107,111,114,118,133,81,84,88,96,99,111,129,81,88,92,96,99,103,122,84,92,99,103,114,122,126,84,96,107,114,126,92,96,99,103,107,84,88,92,96,99,103,107,111,114,88,92,96,99,81,84,88,92,96,99,103,107,111,114,118,122,126,447,81,84,88,92,96,99,103,107,114,447,81,99,107,114,84,88,92,99,103,114,118,0,84,88,99,103,107,122,92,99,103,107,111,96,99,103,107,111,92,99,111,81,88,92,96,99,103,107,111,118,126,133,167,298,88,96,99,114,88,92,96,99,103,111,81,96,99,107,111,118,122,126,88,92,96,99,103,107,111,92,96,99,103,107,114,118,152,522,92,99,103,107,111,92,99,103,107,118,84,88,92,96,99,103,107,111,114,118,122,126,372,96,99,103,107,88,99,107,114,92,99,103,107,122,84,92,103,107,111,118,159,372,92,107,118,122,88,99,103,107,92,96,103,107,111,114,118,122,126,92,96,99,103,107,111,118,122,126,141,447,96,99,103,107,114,118,122,99,103,111,114,118,122,219,88,92,99,103,111,96,99,107,111,114,122,96,99,103,107,111,96,99,103,107,114,126,129,88,92,96,99,103,111,118,129,144,96,99,111,114,92,96,99,103,107,111,114,118,122,126,129,88,92,96,103,107,111,114,118,103,92,96,99,118,92,96,107,111,114,122,107,111,122,126,96,99,103,107,111,122,126,129,88,92,99,103,111,114,92,96,99,103,107,111,114,118,122,126,129,152,357,111,114,118,103,114,92,96,99,103,107,111,114,122,129,92,107,118,126,99,107,111,114,122,96,99,103,114,118,122,129,103,107,114,141,96,99,103,107,111,114,118,122,126,129,133,137,167,447,103,107,111,114,118,129,144,111,114,122,137,107,111,118,122,99,103,107,111,114,118,122,133,92,103,107,111,122,126,137,107,111,114,118,96,99,103,107,111,114,118,122,126,148,372,107,118,122,96,99,107,111,114,126,141,152,96,103,114,118,122,133,99,103,107,111,114,118,96,107,111,126,92,111,114,118,122,126,129,148,96,99,103,107,111,114,118,122,126,129,133,137,144,99,103,114,126,107,111,114,118,122,103,107,129,107,111,114,122,129,103,111,118,122,126,129,133,137,144,111,114,118,99,111,122,126,129,148,103,107,111,114,118,122,126,129,133,141,170,260,298,107,111,126,129,148,114,122,129,103,107,111,114,118,122,129,133,372,107,114,118,122,126,129,107,114,122,126,144,103,107,111,114,118,122,126,129,133,137,141,152,335,107,122,126,129,141,197,107,111,114,118,126,103,107,111,114,118,122,126,156,114,118,122,107,111,114,118,126,114,118,122,129,137,111,122,126,107,111,114,118,122,126,129,133,137,141,144,152,159,335,107,114,118,122,126,111,114,118,129,103,122,126,141,114,118,122,126,133,107,111,114,122,129,133,118,122,129,107,111,114,118,122,126,129,133,137,141,144,148,152,159,118,126,129,141,107,114,118,126,129,133,137,156,129,107,114,118,122,137,141,118,122,133,144,107,114,122,126,129,133,141,298,111,114,118,122,126,129,133,137,144,156,447,114,118,137,144,111,118,122,129,156,107,114,122,126,129,137,111,118,122,126,129,133,141,144,387,111,118,122,129,133,137,144,156,118,137,163,114,118,174,107,111,114,118,122,126,129,133,137,141,144,148,156,159,163,114,126,133,141,174,129,159,122,129,133,137,144,152,114,122,126,129,133,137,144,170,122,126,129,133,137,111,114,122,126,129,133,137,141,144,148,152,159,163,167,118,122,133,137,141,159,122,129,133,144,111,122,126,129,133,137,141,144,152,126,152,126,129,137,148,174,111,122,126,129,133,137,152,122,137,141,170,111,114,118,122,126,129,133,137,141,144,148,152,163,185,122,129,133,137,141,152,126,129,137,141,148,129,137,148,114,118,126,133,137,141,144,152,122,126,129,152,204,129,114,118,122,126,129,133,137,141,144,152,156,129,137,144,152,148,114,118,126,156,163,189,133,137,133,137,178,126,129,144,159,118,122,129,141,156,159,447,118,126,129,133,137,141,144,148,156,163,178,129,144,152,118,148,170,447,133,137,141,159,133,141,148,152,137,144,122,129,137,144,148,122,148,152,118,122,126,129,133,137,141,144,148,152,156,163,174,197,137,148,189,122,137,163,170,129,133,137,126,133,137,141,144,148,159,167,129,133,144,148,141,144,152,156,118,126,129,133,137,141,144,148,152,156,159,163,167,170,174,178,129,133,144,126,174,126,133,137,141,144,152,156,185,118,129,141,144,148,156,167,170,137,156,159,193,129,137,141,159,167,126,129,137,144,129,133,137,141,144,148,152,156,159,163,170,178,335,372,133,156,167,129,133,137,144,148,159,185,137,141,148,129,141,159,372,133,148,152,156,185,129,141,144,148,152,163,129,141,163,141,159,129,133,137,141,144,148,152,156,163,167,170,193,197,133,141,148,159,167,129,148,129,133,137,141,144,148,144,170,137,144,148,167,133,141,133,137,141,144,148,152,156,159,163,313,141,148,152,126,129,141,144,159,170,156,129,141,144,148,159,197,133,141,144,148,152,156,137,144,156,159,144,148,156,170,133,133,137,141,144,148,152,156,159,163,167,170,178,144,167,167,212,129,137,137,141,144,148,156,185,129,141,144,148,152,156,163,167,170,137,148,152,144,156,137,144,148,152,156,159,163,167,178,144,174,156,141,144,148,152,170,144,141,144,156,159,133,144,137,141,144,148,152,156,159,163,167,170,174,223,141,144,174,137,141,148,163,167,141,144,148,156,167,163,178,137,141,144,152,159,167,174,178,182,159,141,170,126,141,144,148,152,156,159,163,167,170,174,178,189,152,159,167,170,141,152,156,167,137,152,163,170,197,141,148,170,185,313,144,152,170,182,152,156,159,137,141,148,152,156,159,163,167,170,174,178,182,189,241,372,148,167,178,148,152,159,163,144,152,156,200,447,163,156,167,170,174,137,148,152,170,144,156,159,170,148,152,156,159,163,167,170,174,204,212,144,148,159,167,174,182,148,170,156,167,159,167,152,156,159,167,148,141,152,174,141,144,156,159,163,167,170,174,178,185,189,193,301,156,167,174,148,159,163,182,212,156,163,193,163,148,152,159,167,148,144,152,156,174,387,144,148,152,156,159,163,167,170,174,178,189,163,141,152,174,193,141,144,152,204,148,159,174,182,152,152,159,170,159,167,174,144,148,152,156,159,163,167,170,178,182,185,204,245,159,163,167,170,174,182,200,152,156,174,152,156,144,182,152,170,178,189,152,156,182,163,189,144,148,152,159,163,167,178,182,189,193,197,167,159,182,167,189,152,156,178,193,212,159,167,185,200,204,148,156,182,163,148,167,170,174,152,156,159,163,167,170,174,178,182,189,159,167,148,152,170,178,182,185,163,159,163,167,178,156,159,174,152,156,170,152,156,167,170,174,178,189,197,204,241,156,159,163,167,170,174,178,185,159,167,447,178,174,185,182,159,163,174,182,185,189,197,204,219,163,156,170,152,167,189,484,156,174,189,159,193,0,163,167,174,178,182,185,189,197,208,170,182,185,163,163,167,185,200,159,197,200,215,17,159,163,167,170,174,178,182,189,193,197,174,163,156,227,170,174,241,167,182,159,167,170,174,178,182,185,189,204,230,163,182,170,170,189,223,185,185,167,170,185,159,163,167,170,174,178,182,185,189,193,204,167,189,170,193,170,185,189,193,215,174,159,189,163,185,159,163,170,178,182,185,189,193,200,212,163,182,170,189,197,178,185,197,163,163,193,219,163,167,170,174,178,185,189,200,212,215,167,178,182,197,234,241,178,200,208,193,170,256,185,197,200,219,178,185,189,193,200,208,238,249,185,178,193,170,193,197,178,193,204,215,204,170,200,170,178,182,185,193,197,200,204,208,212,215,197,174,197,234,193,197,208,170,174,178,182,185,189,193,200,215,234,268,185,200,204,271,193,204,200,185,189,200,208,170,174,182,185,189,193,208,212,227,174,182,200,212,200,189,193,174,178,185,193,197,200,208,387,193,223,189,208,193,204,174,182,185,193,197,200,204,212,215,223,193,212,182,189,212,219,223,200,204,185,200,212,219,189,178,182,189,197,200,204,212,215,223,241,245,249,182,185,208,212,193,197,204,208,185,178,185,189,193,200,204,208,212,215,234,174,185,215,189,197,200,182,189,185,189,193,197,204,212,215,193,204,193,197,204,212,193,215,223,204,189,193,197,200,204,208,212,215,227,200,212,197,182,189,193,208,185,249,200,204,189,193,197,204,208,212,215,219,223,268,238,208,223,230,193,197,219,238,204,241,372,189,197,219,189,197,200,204,212,219,223,227,230,245,223,197,234,215,230,212,245,249,189,200,208,212,215,227,238,208,227,193,249,189,193,204,212,215,193,200,204,208,212,215,271,193,197,219,189,230,212,193,208,193,204,208,212,215,219,238,245,197,223,241,223,212,230,200,204,208,212,223,230,227,212,197,204,227,241,290,200,197,223,238,264,212,215,223,197,204,215,227,230,219,200,215,219,230,200,208,245,200,200,204,212,245,253,204,238,227,212,223,238,249,200,208,219,234,238,241,223,238,208,215,219,227,230,241,245,275,219,223,227,212,215,219,204,219,223,234,241,215,234,256,212,204,212,215,219,234,279,219,245,256,227,212,219,238,212,219,223,227,230,234,249,260,215,230,208,268,241,219,223,227,219,227,234,241,245,253,223,219,219,223,253,230,215,223,234,223,230,223,245,234,230,260,234,290,234,249,256,230,234,238,241,223,227,234,238,241,245,227,238,215,227,234,238,241,245,256,260,522,219,238,241,227,484,223,227,245,227,268,253,219,249,227,249,253,256,260,227,230,241,245,219,234,245,230,253,256,260,264,230,245,264,484,241,238,241,253,223,256,260,219,245,249,253,264,230,256,227,241,230,234,245,249,260,234,238,234,245,283,253,238,245,253,256,264,271,227,249,260,249,279,238,245,245,249,241,245,253,260,275,238,245,234,256,253,249,253,260,271,309,271,279,260,260,264,245,249,260,264,279,256,264,253,286,241,268,260,241,298,249,275,301,249,245,253,238,256,294,387,253,264,264,260,268,275,286,256,256,268,275,256,253,256,279,271,260,279,264,268,294,268,275,260,305,264,286,268,283,283,256,271,264,268,271,279,290,470,298,271,279,260,264,268,286,279,327,294,301,268,286,294,301,268,384,268,275,290,294,283,294,271,275,294,447,275,309,264,268,309,313,294,286,301,264,313,354,271,290,294,298,313,305,279,286,279,294,286,298,305,320,298,342,305,279,286,387,275,286,313,298,283,361,17,298,301,597,309,301,309,320,313,298,320,331,301,331,387,301,301,387,327,298,301,369,335,301,305,331,327,301,301,324,313,309,335,339,309,313,309,320,335,324,335,313,324,320,324,327,327,320,451,331,335,346,350,387,327,342,335,342,354,327,331,335,612,350,365,387,391,410,335,387,406,342,346,361,339,387,387,372,387,339,361,387,354,387,387,361,387,342,387,387,387,357,387,365,387,387,402,380,357,387,387,387,387,391,387,387,387,387,387,372,387,387,387,387,387,387,357,387,387,387,384,387,387,387,387,391,365,387,387,387,436,387,387,387,387,387,376,410,387,406,387,384,387,387,372,387,387,387,387,384,387,376,387,387,384,387,387,391,399,387,387,406,387,387,387,387,387,402,387,387,387,421,425,387,387,387,387,425,473,387,413,387,387,492,413,387,447,746,387,410,425,432,387,387,428,387,387,443,417,387,387,387,436,387,421,559,481,387,387,387,387,387,387,387,387,432,387,671,0,470,686,466,481,462,746,466,862,671,518,514,671,772,1120,387,1098,582,17,28,597,858,746,679,877,1647,1199,1344]},\"selected\":{\"id\":\"3019\",\"type\":\"Selection\"},\"selection_policy\":{\"id\":\"3020\",\"type\":\"UnionRenderers\"}},\"id\":\"2918\",\"type\":\"ColumnDataSource\"},{\"attributes\":{\"bottom_units\":\"screen\",\"fill_alpha\":{\"value\":0.5},\"fill_color\":{\"value\":\"lightgrey\"},\"left_units\":\"screen\",\"level\":\"overlay\",\"line_alpha\":{\"value\":1.0},\"line_color\":{\"value\":\"black\"},\"line_dash\":[4,4],\"line_width\":{\"value\":2},\"plot\":null,\"render_mode\":\"css\",\"right_units\":\"screen\",\"top_units\":\"screen\"},\"id\":\"2908\",\"type\":\"BoxAnnotation\"},{\"attributes\":{},\"id\":\"3020\",\"type\":\"UnionRenderers\"},{\"attributes\":{\"fill_alpha\":{\"value\":0.5},\"fill_color\":{\"value\":\"lightgrey\"},\"level\":\"overlay\",\"line_alpha\":{\"value\":1.0},\"line_color\":{\"value\":\"black\"},\"line_dash\":[4,4],\"line_width\":{\"value\":2},\"plot\":null,\"xs_units\":\"screen\",\"ys_units\":\"screen\"},\"id\":\"2914\",\"type\":\"PolyAnnotation\"},{\"attributes\":{\"fill_alpha\":{\"value\":0.6},\"fill_color\":{\"field\":\"fill_color\"},\"line_color\":{\"value\":null},\"x\":{\"field\":\"x\"},\"y\":{\"field\":\"y\"}},\"id\":\"2919\",\"type\":\"Scatter\"},{\"attributes\":{},\"id\":\"2878\",\"type\":\"BasicTicker\"},{\"attributes\":{\"bottom_units\":\"screen\",\"fill_alpha\":{\"value\":0.5},\"fill_color\":{\"value\":\"lightgrey\"},\"left_units\":\"screen\",\"level\":\"overlay\",\"line_alpha\":{\"value\":1.0},\"line_color\":{\"value\":\"black\"},\"line_dash\":[4,4],\"line_width\":{\"value\":2},\"plot\":null,\"render_mode\":\"css\",\"right_units\":\"screen\",\"top_units\":\"screen\"},\"id\":\"2902\",\"type\":\"BoxAnnotation\"},{\"attributes\":{\"active_drag\":\"auto\",\"active_inspect\":\"auto\",\"active_multi\":null,\"active_scroll\":\"auto\",\"active_tap\":\"auto\",\"tools\":[{\"id\":\"2887\",\"type\":\"HoverTool\"},{\"id\":\"2888\",\"type\":\"CrosshairTool\"},{\"id\":\"2889\",\"type\":\"PanTool\"},{\"id\":\"2890\",\"type\":\"WheelZoomTool\"},{\"id\":\"2891\",\"type\":\"BoxZoomTool\"},{\"id\":\"2892\",\"type\":\"ResetTool\"},{\"id\":\"2893\",\"type\":\"TapTool\"},{\"id\":\"2894\",\"type\":\"SaveTool\"},{\"id\":\"2895\",\"type\":\"BoxSelectTool\"},{\"id\":\"2896\",\"type\":\"PolySelectTool\"},{\"id\":\"2897\",\"type\":\"LassoSelectTool\"}]},\"id\":\"2898\",\"type\":\"Toolbar\"},{\"attributes\":{\"callback\":null,\"overlay\":{\"id\":\"2908\",\"type\":\"BoxAnnotation\"}},\"id\":\"2895\",\"type\":\"BoxSelectTool\"},{\"attributes\":{},\"id\":\"2894\",\"type\":\"SaveTool\"},{\"attributes\":{\"dimension\":1,\"plot\":{\"id\":\"2867\",\"subtype\":\"Figure\",\"type\":\"Plot\"},\"ticker\":{\"id\":\"2883\",\"type\":\"BasicTicker\"}},\"id\":\"2886\",\"type\":\"Grid\"},{\"attributes\":{},\"id\":\"2873\",\"type\":\"LinearScale\"},{\"attributes\":{\"callback\":null,\"overlay\":{\"id\":\"2911\",\"type\":\"PolyAnnotation\"}},\"id\":\"2896\",\"type\":\"PolySelectTool\"},{\"attributes\":{},\"id\":\"2875\",\"type\":\"LinearScale\"},{\"attributes\":{\"callback\":null},\"id\":\"2893\",\"type\":\"TapTool\"},{\"attributes\":{\"plot\":null,\"text\":\"visaulization pipeline scatter plot\"},\"id\":\"2866\",\"type\":\"Title\"},{\"attributes\":{\"callback\":null},\"id\":\"2887\",\"type\":\"HoverTool\"},{\"attributes\":{\"callback\":null,\"overlay\":{\"id\":\"2914\",\"type\":\"PolyAnnotation\"}},\"id\":\"2897\",\"type\":\"LassoSelectTool\"},{\"attributes\":{\"callback\":null},\"id\":\"2871\",\"type\":\"DataRange1d\"},{\"attributes\":{\"callback\":null},\"id\":\"2869\",\"type\":\"DataRange1d\"},{\"attributes\":{},\"id\":\"3015\",\"type\":\"BasicTickFormatter\"},{\"attributes\":{},\"id\":\"2890\",\"type\":\"WheelZoomTool\"},{\"attributes\":{},\"id\":\"3019\",\"type\":\"Selection\"},{\"attributes\":{\"formatter\":{\"id\":\"3015\",\"type\":\"BasicTickFormatter\"},\"plot\":{\"id\":\"2867\",\"subtype\":\"Figure\",\"type\":\"Plot\"},\"ticker\":{\"id\":\"2878\",\"type\":\"BasicTicker\"}},\"id\":\"2877\",\"type\":\"LinearAxis\"},{\"attributes\":{},\"id\":\"2892\",\"type\":\"ResetTool\"},{\"attributes\":{\"data_source\":{\"id\":\"2918\",\"type\":\"ColumnDataSource\"},\"glyph\":{\"id\":\"2919\",\"type\":\"Scatter\"},\"hover_glyph\":null,\"muted_glyph\":null,\"nonselection_glyph\":{\"id\":\"2920\",\"type\":\"Scatter\"},\"selection_glyph\":null,\"view\":{\"id\":\"2922\",\"type\":\"CDSView\"}},\"id\":\"2921\",\"type\":\"GlyphRenderer\"}],\"root_ids\":[\"2867\"]},\"title\":\"Bokeh Application\",\"version\":\"1.0.4\"}};\n",
       "  var render_items = [{\"docid\":\"77abc4e1-63ba-46fc-9973-fea522226f83\",\"notebook_comms_target\":\"3025\",\"roots\":{\"2867\":\"efa09fd0-81d4-4f3d-a020-a04a1765800c\"}}];\n",
       "  root.Bokeh.embed.embed_items_notebook(docs_json, render_items);\n",
       "\n",
       "  }\n",
       "  if (root.Bokeh !== undefined) {\n",
       "    embed_document(root);\n",
       "  } else {\n",
       "    var attempts = 0;\n",
       "    var timer = setInterval(function(root) {\n",
       "      if (root.Bokeh !== undefined) {\n",
       "        embed_document(root);\n",
       "        clearInterval(timer);\n",
       "      }\n",
       "      attempts++;\n",
       "      if (attempts > 100) {\n",
       "        console.log(\"Bokeh: ERROR: Unable to run BokehJS code because BokehJS library is missing\");\n",
       "        clearInterval(timer);\n",
       "      }\n",
       "    }, 10, root)\n",
       "  }\n",
       "})(window);"
      ],
      "application/vnd.bokehjs_exec.v0+json": ""
     },
     "metadata": {
      "application/vnd.bokehjs_exec.v0+json": {
       "id": "2867"
      }
     },
     "output_type": "display_data"
    },
    {
     "data": {
      "text/html": [
       "<p><code>&lt;Bokeh Notebook handle for <strong>In[35]</strong>&gt;</code></p>"
      ],
      "text/plain": [
       "<bokeh.io.notebook.CommsHandle at 0x7f50d92e1ac8>"
      ]
     },
     "execution_count": 35,
     "metadata": {},
     "output_type": "execute_result"
    }
   ],
   "source": [
    "show(p1, notebook_handle=True)"
   ]
  },
  {
   "cell_type": "code",
   "execution_count": 36,
   "metadata": {},
   "outputs": [],
   "source": [
    "def update(f, x=1, y=1):\n",
    "    ## pull data from queue\n",
    "    r.data_source.data['x'] = np.random.random(size=x) * 100\n",
    "    r.data_source.data['y'] = np.random.random(size=y) * 100\n",
    "    push_notebook()"
   ]
  },
  {
   "cell_type": "code",
   "execution_count": null,
   "metadata": {},
   "outputs": [],
   "source": [
    "# p1.x_range.callback = CustomJS(args=dict(source=source, range=p1.x_range), code=jscode % ('x', 'width'))\n",
    "# p1.y_range.callback = CustomJS(args=dict(source=source, range=p1.y_range), code=jscode % ('y', 'height'))"
   ]
  },
  {
   "cell_type": "code",
   "execution_count": 44,
   "metadata": {},
   "outputs": [
    {
     "data": {
      "application/vnd.jupyter.widget-view+json": {
       "model_id": "036e8b9d2e3945eda7676355dc88463f"
      }
     },
     "metadata": {},
     "output_type": "display_data"
    },
    {
     "data": {
      "text/plain": [
       "<function __main__.update>"
      ]
     },
     "execution_count": 44,
     "metadata": {},
     "output_type": "execute_result"
    }
   ],
   "source": [
    "interact(update, f=[\"scatter\", \"cluster\"], x=(10,4000), y=(10,4000))"
   ]
  },
  {
   "cell_type": "markdown",
   "metadata": {},
   "source": [
    "also see for growing (appending) scatter plots: https://stackoverflow.com/questions/43101497/how-do-stream-data-to-a-bokeh-plot-in-jupyter-with-a-high-refresh-rate\n",
    "\n"
   ]
  }
 ],
 "metadata": {
  "kernelspec": {
   "display_name": "Python 3",
   "language": "python",
   "name": "python3"
  },
  "language_info": {
   "codemirror_mode": {
    "name": "ipython",
    "version": 3
   },
   "file_extension": ".py",
   "mimetype": "text/x-python",
   "name": "python",
   "nbconvert_exporter": "python",
   "pygments_lexer": "ipython3",
   "version": "3.6.7"
  }
 },
 "nbformat": 4,
 "nbformat_minor": 2
}
