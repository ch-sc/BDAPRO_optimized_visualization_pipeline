{
 "cells": [
  {
   "cell_type": "code",
   "execution_count": 1,
   "metadata": {},
   "outputs": [],
   "source": [
    "#import urllib.request\n",
    "import http.client\n",
    "import json\n",
    "import numpy as np\n",
    "import matplotlib.mlab as mlab\n",
    "import matplotlib.pyplot as plt\n",
    "\n",
    "\n",
    "baseEndpoint = \"localhost:8082\" \n",
    "basePath = \"/2d/scatter\"\n",
    "baseUri = baseEndpoint + basePath\n",
    "\n",
    "\n",
    "def scatterPlot(x=100,y=100):\n",
    "    relativePath = \"{}?x={}&y={}\".format(basePath,x,y)\n",
    "    conn = http.client.HTTPConnection(baseEndpoint)\n",
    "    conn.request(\"GET\", relativePath)\n",
    "    r1 = conn.getresponse()\n",
    "\n",
    "    if (r1.status >= 400):\n",
    "        print(\"Error:\", relativePath, r1.status, r1.reason)\n",
    "        return []\n",
    "    else:\n",
    "        payload = r1.read()\n",
    "        jsonPayload = payload.decode('utf-8')\n",
    "        return json.loads(jsonPayload)\n"
   ]
  },
  {
   "cell_type": "code",
   "execution_count": 2,
   "metadata": {
    "scrolled": true
   },
   "outputs": [
    {
     "data": {
      "image/png": "[encoded data removed]",
      "text/plain": [
       "<Figure size 432x288 with 1 Axes>"
      ]
     },
     "metadata": {
      "needs_background": "light"
     },
     "output_type": "display_data"
    }
   ],
   "source": [
    "data = scatterPlot(4000,4000)\n",
    "\n",
    "grid = np.array(data)\n",
    "plt.scatter(grid[:,0], grid[:,1], c='b', marker='.', s=1)\n",
    "plt.title('Optimized Scatter Plot')\n",
    "plt.xlabel('X-Axis')\n",
    "plt.ylabel('Y-Axis')\n",
    "plt.show()\n",
    "plt.close()"
   ]
  },
  {
   "cell_type": "code",
   "execution_count": null,
   "metadata": {
    "scrolled": true
   },
   "outputs": [],
   "source": []
  },
  {
   "cell_type": "code",
   "execution_count": null,
   "metadata": {},
   "outputs": [],
   "source": []
  },
  {
   "cell_type": "code",
   "execution_count": null,
   "metadata": {
    "scrolled": true
   },
   "outputs": [],
   "source": []
  },
  {
   "cell_type": "code",
   "execution_count": null,
   "metadata": {
    "scrolled": true
   },
   "outputs": [],
   "source": []
  },
  {
   "cell_type": "code",
   "execution_count": null,
   "metadata": {
    "scrolled": true
   },
   "outputs": [],
   "source": []
  },
  {
   "cell_type": "code",
   "execution_count": null,
   "metadata": {
    "scrolled": true
   },
   "outputs": [],
   "source": []
  },
  {
   "cell_type": "code",
   "execution_count": null,
   "metadata": {},
   "outputs": [],
   "source": []
  }
 ],
 "metadata": {
  "kernelspec": {
   "display_name": "Python 3",
   "language": "python",
   "name": "python3"
  },
  "language_info": {
   "codemirror_mode": {
    "name": "ipython",
    "version": 3
   },
   "file_extension": ".py",
   "mimetype": "text/x-python",
   "name": "python",
   "nbconvert_exporter": "python",
   "pygments_lexer": "ipython3",
   "version": "3.6.5"
  }
 },
 "nbformat": 4,
 "nbformat_minor": 2
}
