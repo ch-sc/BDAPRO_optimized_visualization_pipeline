{
 "cells": [
  {
   "cell_type": "code",
   "execution_count": 1,
   "metadata": {},
   "outputs": [
    {
     "data": {
      "text/html": [
       "\n",
       "    <div class=\"bk-root\">\n",
       "        <a href=\"https://bokeh.pydata.org\" target=\"_blank\" class=\"bk-logo bk-logo-small bk-logo-notebook\"></a>\n",
       "        <span id=\"1001\">Loading BokehJS ...</span>\n",
       "    </div>"
      ]
     },
     "metadata": {},
     "output_type": "display_data"
    },
    {
     "data": {
      "application/javascript": [
       "\n",
       "(function(root) {\n",
       "  function now() {\n",
       "    return new Date();\n",
       "  }\n",
       "\n",
       "  var force = true;\n",
       "\n",
       "  if (typeof (root._bokeh_onload_callbacks) === \"undefined\" || force === true) {\n",
       "    root._bokeh_onload_callbacks = [];\n",
       "    root._bokeh_is_loading = undefined;\n",
       "  }\n",
       "\n",
       "  var JS_MIME_TYPE = 'application/javascript';\n",
       "  var HTML_MIME_TYPE = 'text/html';\n",
       "  var EXEC_MIME_TYPE = 'application/vnd.bokehjs_exec.v0+json';\n",
       "  var CLASS_NAME = 'output_bokeh rendered_html';\n",
       "\n",
       "  /**\n",
       "   * Render data to the DOM node\n",
       "   */\n",
       "  function render(props, node) {\n",
       "    var script = document.createElement(\"script\");\n",
       "    node.appendChild(script);\n",
       "  }\n",
       "\n",
       "  /**\n",
       "   * Handle when an output is cleared or removed\n",
       "   */\n",
       "  function handleClearOutput(event, handle) {\n",
       "    var cell = handle.cell;\n",
       "\n",
       "    var id = cell.output_area._bokeh_element_id;\n",
       "    var server_id = cell.output_area._bokeh_server_id;\n",
       "    // Clean up Bokeh references\n",
       "    if (id != null && id in Bokeh.index) {\n",
       "      Bokeh.index[id].model.document.clear();\n",
       "      delete Bokeh.index[id];\n",
       "    }\n",
       "\n",
       "    if (server_id !== undefined) {\n",
       "      // Clean up Bokeh references\n",
       "      var cmd = \"from bokeh.io.state import curstate; print(curstate().uuid_to_server['\" + server_id + \"'].get_sessions()[0].document.roots[0]._id)\";\n",
       "      cell.notebook.kernel.execute(cmd, {\n",
       "        iopub: {\n",
       "          output: function(msg) {\n",
       "            var id = msg.content.text.trim();\n",
       "            if (id in Bokeh.index) {\n",
       "              Bokeh.index[id].model.document.clear();\n",
       "              delete Bokeh.index[id];\n",
       "            }\n",
       "          }\n",
       "        }\n",
       "      });\n",
       "      // Destroy server and session\n",
       "      var cmd = \"import bokeh.io.notebook as ion; ion.destroy_server('\" + server_id + \"')\";\n",
       "      cell.notebook.kernel.execute(cmd);\n",
       "    }\n",
       "  }\n",
       "\n",
       "  /**\n",
       "   * Handle when a new output is added\n",
       "   */\n",
       "  function handleAddOutput(event, handle) {\n",
       "    var output_area = handle.output_area;\n",
       "    var output = handle.output;\n",
       "\n",
       "    // limit handleAddOutput to display_data with EXEC_MIME_TYPE content only\n",
       "    if ((output.output_type != \"display_data\") || (!output.data.hasOwnProperty(EXEC_MIME_TYPE))) {\n",
       "      return\n",
       "    }\n",
       "\n",
       "    var toinsert = output_area.element.find(\".\" + CLASS_NAME.split(' ')[0]);\n",
       "\n",
       "    if (output.metadata[EXEC_MIME_TYPE][\"id\"] !== undefined) {\n",
       "      toinsert[toinsert.length - 1].firstChild.textContent = output.data[JS_MIME_TYPE];\n",
       "      // store reference to embed id on output_area\n",
       "      output_area._bokeh_element_id = output.metadata[EXEC_MIME_TYPE][\"id\"];\n",
       "    }\n",
       "    if (output.metadata[EXEC_MIME_TYPE][\"server_id\"] !== undefined) {\n",
       "      var bk_div = document.createElement(\"div\");\n",
       "      bk_div.innerHTML = output.data[HTML_MIME_TYPE];\n",
       "      var script_attrs = bk_div.children[0].attributes;\n",
       "      for (var i = 0; i < script_attrs.length; i++) {\n",
       "        toinsert[toinsert.length - 1].firstChild.setAttribute(script_attrs[i].name, script_attrs[i].value);\n",
       "      }\n",
       "      // store reference to server id on output_area\n",
       "      output_area._bokeh_server_id = output.metadata[EXEC_MIME_TYPE][\"server_id\"];\n",
       "    }\n",
       "  }\n",
       "\n",
       "  function register_renderer(events, OutputArea) {\n",
       "\n",
       "    function append_mime(data, metadata, element) {\n",
       "      // create a DOM node to render to\n",
       "      var toinsert = this.create_output_subarea(\n",
       "        metadata,\n",
       "        CLASS_NAME,\n",
       "        EXEC_MIME_TYPE\n",
       "      );\n",
       "      this.keyboard_manager.register_events(toinsert);\n",
       "      // Render to node\n",
       "      var props = {data: data, metadata: metadata[EXEC_MIME_TYPE]};\n",
       "      render(props, toinsert[toinsert.length - 1]);\n",
       "      element.append(toinsert);\n",
       "      return toinsert\n",
       "    }\n",
       "\n",
       "    /* Handle when an output is cleared or removed */\n",
       "    events.on('clear_output.CodeCell', handleClearOutput);\n",
       "    events.on('delete.Cell', handleClearOutput);\n",
       "\n",
       "    /* Handle when a new output is added */\n",
       "    events.on('output_added.OutputArea', handleAddOutput);\n",
       "\n",
       "    /**\n",
       "     * Register the mime type and append_mime function with output_area\n",
       "     */\n",
       "    OutputArea.prototype.register_mime_type(EXEC_MIME_TYPE, append_mime, {\n",
       "      /* Is output safe? */\n",
       "      safe: true,\n",
       "      /* Index of renderer in `output_area.display_order` */\n",
       "      index: 0\n",
       "    });\n",
       "  }\n",
       "\n",
       "  // register the mime type if in Jupyter Notebook environment and previously unregistered\n",
       "  if (root.Jupyter !== undefined) {\n",
       "    var events = require('base/js/events');\n",
       "    var OutputArea = require('notebook/js/outputarea').OutputArea;\n",
       "\n",
       "    if (OutputArea.prototype.mime_types().indexOf(EXEC_MIME_TYPE) == -1) {\n",
       "      register_renderer(events, OutputArea);\n",
       "    }\n",
       "  }\n",
       "\n",
       "  \n",
       "  if (typeof (root._bokeh_timeout) === \"undefined\" || force === true) {\n",
       "    root._bokeh_timeout = Date.now() + 5000;\n",
       "    root._bokeh_failed_load = false;\n",
       "  }\n",
       "\n",
       "  var NB_LOAD_WARNING = {'data': {'text/html':\n",
       "     \"<div style='background-color: #fdd'>\\n\"+\n",
       "     \"<p>\\n\"+\n",
       "     \"BokehJS does not appear to have successfully loaded. If loading BokehJS from CDN, this \\n\"+\n",
       "     \"may be due to a slow or bad network connection. Possible fixes:\\n\"+\n",
       "     \"</p>\\n\"+\n",
       "     \"<ul>\\n\"+\n",
       "     \"<li>re-rerun `output_notebook()` to attempt to load from CDN again, or</li>\\n\"+\n",
       "     \"<li>use INLINE resources instead, as so:</li>\\n\"+\n",
       "     \"</ul>\\n\"+\n",
       "     \"<code>\\n\"+\n",
       "     \"from bokeh.resources import INLINE\\n\"+\n",
       "     \"output_notebook(resources=INLINE)\\n\"+\n",
       "     \"</code>\\n\"+\n",
       "     \"</div>\"}};\n",
       "\n",
       "  function display_loaded() {\n",
       "    var el = document.getElementById(\"1001\");\n",
       "    if (el != null) {\n",
       "      el.textContent = \"BokehJS is loading...\";\n",
       "    }\n",
       "    if (root.Bokeh !== undefined) {\n",
       "      if (el != null) {\n",
       "        el.textContent = \"BokehJS \" + root.Bokeh.version + \" successfully loaded.\";\n",
       "      }\n",
       "    } else if (Date.now() < root._bokeh_timeout) {\n",
       "      setTimeout(display_loaded, 100)\n",
       "    }\n",
       "  }\n",
       "\n",
       "\n",
       "  function run_callbacks() {\n",
       "    try {\n",
       "      root._bokeh_onload_callbacks.forEach(function(callback) { callback() });\n",
       "    }\n",
       "    finally {\n",
       "      delete root._bokeh_onload_callbacks\n",
       "    }\n",
       "    console.info(\"Bokeh: all callbacks have finished\");\n",
       "  }\n",
       "\n",
       "  function load_libs(js_urls, callback) {\n",
       "    root._bokeh_onload_callbacks.push(callback);\n",
       "    if (root._bokeh_is_loading > 0) {\n",
       "      console.log(\"Bokeh: BokehJS is being loaded, scheduling callback at\", now());\n",
       "      return null;\n",
       "    }\n",
       "    if (js_urls == null || js_urls.length === 0) {\n",
       "      run_callbacks();\n",
       "      return null;\n",
       "    }\n",
       "    console.log(\"Bokeh: BokehJS not loaded, scheduling load and callback at\", now());\n",
       "    root._bokeh_is_loading = js_urls.length;\n",
       "    for (var i = 0; i < js_urls.length; i++) {\n",
       "      var url = js_urls[i];\n",
       "      var s = document.createElement('script');\n",
       "      s.src = url;\n",
       "      s.async = false;\n",
       "      s.onreadystatechange = s.onload = function() {\n",
       "        root._bokeh_is_loading--;\n",
       "        if (root._bokeh_is_loading === 0) {\n",
       "          console.log(\"Bokeh: all BokehJS libraries loaded\");\n",
       "          run_callbacks()\n",
       "        }\n",
       "      };\n",
       "      s.onerror = function() {\n",
       "        console.warn(\"failed to load library \" + url);\n",
       "      };\n",
       "      console.log(\"Bokeh: injecting script tag for BokehJS library: \", url);\n",
       "      document.getElementsByTagName(\"head\")[0].appendChild(s);\n",
       "    }\n",
       "  };var element = document.getElementById(\"1001\");\n",
       "  if (element == null) {\n",
       "    console.log(\"Bokeh: ERROR: autoload.js configured with elementid '1001' but no matching script tag was found. \")\n",
       "    return false;\n",
       "  }\n",
       "\n",
       "  var js_urls = [\"https://cdn.pydata.org/bokeh/release/bokeh-1.0.4.min.js\", \"https://cdn.pydata.org/bokeh/release/bokeh-widgets-1.0.4.min.js\", \"https://cdn.pydata.org/bokeh/release/bokeh-tables-1.0.4.min.js\", \"https://cdn.pydata.org/bokeh/release/bokeh-gl-1.0.4.min.js\"];\n",
       "\n",
       "  var inline_js = [\n",
       "    function(Bokeh) {\n",
       "      Bokeh.set_log_level(\"info\");\n",
       "    },\n",
       "    \n",
       "    function(Bokeh) {\n",
       "      \n",
       "    },\n",
       "    function(Bokeh) {\n",
       "      console.log(\"Bokeh: injecting CSS: https://cdn.pydata.org/bokeh/release/bokeh-1.0.4.min.css\");\n",
       "      Bokeh.embed.inject_css(\"https://cdn.pydata.org/bokeh/release/bokeh-1.0.4.min.css\");\n",
       "      console.log(\"Bokeh: injecting CSS: https://cdn.pydata.org/bokeh/release/bokeh-widgets-1.0.4.min.css\");\n",
       "      Bokeh.embed.inject_css(\"https://cdn.pydata.org/bokeh/release/bokeh-widgets-1.0.4.min.css\");\n",
       "      console.log(\"Bokeh: injecting CSS: https://cdn.pydata.org/bokeh/release/bokeh-tables-1.0.4.min.css\");\n",
       "      Bokeh.embed.inject_css(\"https://cdn.pydata.org/bokeh/release/bokeh-tables-1.0.4.min.css\");\n",
       "    }\n",
       "  ];\n",
       "\n",
       "  function run_inline_js() {\n",
       "    \n",
       "    if ((root.Bokeh !== undefined) || (force === true)) {\n",
       "      for (var i = 0; i < inline_js.length; i++) {\n",
       "        inline_js[i].call(root, root.Bokeh);\n",
       "      }if (force === true) {\n",
       "        display_loaded();\n",
       "      }} else if (Date.now() < root._bokeh_timeout) {\n",
       "      setTimeout(run_inline_js, 100);\n",
       "    } else if (!root._bokeh_failed_load) {\n",
       "      console.log(\"Bokeh: BokehJS failed to load within specified timeout.\");\n",
       "      root._bokeh_failed_load = true;\n",
       "    } else if (force !== true) {\n",
       "      var cell = $(document.getElementById(\"1001\")).parents('.cell').data().cell;\n",
       "      cell.output_area.append_execute_result(NB_LOAD_WARNING)\n",
       "    }\n",
       "\n",
       "  }\n",
       "\n",
       "  if (root._bokeh_is_loading === 0) {\n",
       "    console.log(\"Bokeh: BokehJS loaded, going straight to plotting\");\n",
       "    run_inline_js();\n",
       "  } else {\n",
       "    load_libs(js_urls, function() {\n",
       "      console.log(\"Bokeh: BokehJS plotting callback run at\", now());\n",
       "      run_inline_js();\n",
       "    });\n",
       "  }\n",
       "}(window));"
      ],
      "application/vnd.bokehjs_load.v0+json": "\n(function(root) {\n  function now() {\n    return new Date();\n  }\n\n  var force = true;\n\n  if (typeof (root._bokeh_onload_callbacks) === \"undefined\" || force === true) {\n    root._bokeh_onload_callbacks = [];\n    root._bokeh_is_loading = undefined;\n  }\n\n  \n\n  \n  if (typeof (root._bokeh_timeout) === \"undefined\" || force === true) {\n    root._bokeh_timeout = Date.now() + 5000;\n    root._bokeh_failed_load = false;\n  }\n\n  var NB_LOAD_WARNING = {'data': {'text/html':\n     \"<div style='background-color: #fdd'>\\n\"+\n     \"<p>\\n\"+\n     \"BokehJS does not appear to have successfully loaded. If loading BokehJS from CDN, this \\n\"+\n     \"may be due to a slow or bad network connection. Possible fixes:\\n\"+\n     \"</p>\\n\"+\n     \"<ul>\\n\"+\n     \"<li>re-rerun `output_notebook()` to attempt to load from CDN again, or</li>\\n\"+\n     \"<li>use INLINE resources instead, as so:</li>\\n\"+\n     \"</ul>\\n\"+\n     \"<code>\\n\"+\n     \"from bokeh.resources import INLINE\\n\"+\n     \"output_notebook(resources=INLINE)\\n\"+\n     \"</code>\\n\"+\n     \"</div>\"}};\n\n  function display_loaded() {\n    var el = document.getElementById(\"1001\");\n    if (el != null) {\n      el.textContent = \"BokehJS is loading...\";\n    }\n    if (root.Bokeh !== undefined) {\n      if (el != null) {\n        el.textContent = \"BokehJS \" + root.Bokeh.version + \" successfully loaded.\";\n      }\n    } else if (Date.now() < root._bokeh_timeout) {\n      setTimeout(display_loaded, 100)\n    }\n  }\n\n\n  function run_callbacks() {\n    try {\n      root._bokeh_onload_callbacks.forEach(function(callback) { callback() });\n    }\n    finally {\n      delete root._bokeh_onload_callbacks\n    }\n    console.info(\"Bokeh: all callbacks have finished\");\n  }\n\n  function load_libs(js_urls, callback) {\n    root._bokeh_onload_callbacks.push(callback);\n    if (root._bokeh_is_loading > 0) {\n      console.log(\"Bokeh: BokehJS is being loaded, scheduling callback at\", now());\n      return null;\n    }\n    if (js_urls == null || js_urls.length === 0) {\n      run_callbacks();\n      return null;\n    }\n    console.log(\"Bokeh: BokehJS not loaded, scheduling load and callback at\", now());\n    root._bokeh_is_loading = js_urls.length;\n    for (var i = 0; i < js_urls.length; i++) {\n      var url = js_urls[i];\n      var s = document.createElement('script');\n      s.src = url;\n      s.async = false;\n      s.onreadystatechange = s.onload = function() {\n        root._bokeh_is_loading--;\n        if (root._bokeh_is_loading === 0) {\n          console.log(\"Bokeh: all BokehJS libraries loaded\");\n          run_callbacks()\n        }\n      };\n      s.onerror = function() {\n        console.warn(\"failed to load library \" + url);\n      };\n      console.log(\"Bokeh: injecting script tag for BokehJS library: \", url);\n      document.getElementsByTagName(\"head\")[0].appendChild(s);\n    }\n  };var element = document.getElementById(\"1001\");\n  if (element == null) {\n    console.log(\"Bokeh: ERROR: autoload.js configured with elementid '1001' but no matching script tag was found. \")\n    return false;\n  }\n\n  var js_urls = [\"https://cdn.pydata.org/bokeh/release/bokeh-1.0.4.min.js\", \"https://cdn.pydata.org/bokeh/release/bokeh-widgets-1.0.4.min.js\", \"https://cdn.pydata.org/bokeh/release/bokeh-tables-1.0.4.min.js\", \"https://cdn.pydata.org/bokeh/release/bokeh-gl-1.0.4.min.js\"];\n\n  var inline_js = [\n    function(Bokeh) {\n      Bokeh.set_log_level(\"info\");\n    },\n    \n    function(Bokeh) {\n      \n    },\n    function(Bokeh) {\n      console.log(\"Bokeh: injecting CSS: https://cdn.pydata.org/bokeh/release/bokeh-1.0.4.min.css\");\n      Bokeh.embed.inject_css(\"https://cdn.pydata.org/bokeh/release/bokeh-1.0.4.min.css\");\n      console.log(\"Bokeh: injecting CSS: https://cdn.pydata.org/bokeh/release/bokeh-widgets-1.0.4.min.css\");\n      Bokeh.embed.inject_css(\"https://cdn.pydata.org/bokeh/release/bokeh-widgets-1.0.4.min.css\");\n      console.log(\"Bokeh: injecting CSS: https://cdn.pydata.org/bokeh/release/bokeh-tables-1.0.4.min.css\");\n      Bokeh.embed.inject_css(\"https://cdn.pydata.org/bokeh/release/bokeh-tables-1.0.4.min.css\");\n    }\n  ];\n\n  function run_inline_js() {\n    \n    if ((root.Bokeh !== undefined) || (force === true)) {\n      for (var i = 0; i < inline_js.length; i++) {\n        inline_js[i].call(root, root.Bokeh);\n      }if (force === true) {\n        display_loaded();\n      }} else if (Date.now() < root._bokeh_timeout) {\n      setTimeout(run_inline_js, 100);\n    } else if (!root._bokeh_failed_load) {\n      console.log(\"Bokeh: BokehJS failed to load within specified timeout.\");\n      root._bokeh_failed_load = true;\n    } else if (force !== true) {\n      var cell = $(document.getElementById(\"1001\")).parents('.cell').data().cell;\n      cell.output_area.append_execute_result(NB_LOAD_WARNING)\n    }\n\n  }\n\n  if (root._bokeh_is_loading === 0) {\n    console.log(\"Bokeh: BokehJS loaded, going straight to plotting\");\n    run_inline_js();\n  } else {\n    load_libs(js_urls, function() {\n      console.log(\"Bokeh: BokehJS plotting callback run at\", now());\n      run_inline_js();\n    });\n  }\n}(window));"
     },
     "metadata": {},
     "output_type": "display_data"
    }
   ],
   "source": [
    "%matplotlib inline\n",
    "\n",
    "import http.client\n",
    "import json\n",
    "import numpy as np\n",
    "import matplotlib.mlab as mlab\n",
    "import matplotlib.pyplot as plt\n",
    "import pika\n",
    "import time\n",
    "from ipywidgets import interact\n",
    "\n",
    "# from bokeh.plotting import output_file, figure, show, hplot\n",
    "\n",
    "from bokeh.io import push_notebook, show, output_notebook\n",
    "from bokeh.plotting import output_file, figure, show, output_notebook\n",
    "from bokeh.models import ColumnDataSource, CustomJS, Rect\n",
    "\n",
    "from six.moves import zip\n",
    "\n",
    "output_notebook()\n",
    "\n",
    "source = ColumnDataSource({'x': [], 'y': [], 'width': [], 'height': []})"
   ]
  },
  {
   "cell_type": "code",
   "execution_count": 2,
   "metadata": {},
   "outputs": [],
   "source": [
    "# backend service connection\n",
    "baseEndpoint = \"localhost:8082\" \n",
    "basePath = \"/2d/scatter\"\n",
    "baseUri = baseEndpoint + basePath\n",
    "\n",
    "# rabbitMQ connection\n",
    "credentials = pika.PlainCredentials(\"user\", \"password\")\n",
    "parameters = pika.ConnectionParameters('localhost', 5672, '/', credentials)\n",
    "\n",
    "# setting up exchange and queue\n",
    "\n",
    "#channel = connection.channel()\n",
    "#channel.exchange_declare(exchange='BDAPRO', exchange_type='direct')\n",
    "#\n",
    "#result = channel.queue_declare(exclusive=True)\n",
    "#queue_name = result.method.queue"
   ]
  },
  {
   "cell_type": "code",
   "execution_count": 3,
   "metadata": {},
   "outputs": [],
   "source": [
    "# functions\n",
    "\n",
    "def getData(x=100,y=100):\n",
    "    relativePath = \"{}?x={}&y={}\".format(basePath,x,y)\n",
    "    conn = http.client.HTTPConnection(baseEndpoint)\n",
    "    conn.request(\"GET\", relativePath)\n",
    "    r1 = conn.getresponse()\n",
    "\n",
    "    if (r1.status >= 400):\n",
    "        print(\"Error:\", relativePath, r1.status, r1.reason)\n",
    "        return []\n",
    "    else:\n",
    "        payload = r1.read()\n",
    "        jsonPayload = payload.decode('utf-8')\n",
    "        return json.loads(jsonPayload)\n",
    "    \n",
    "\n",
    "def scatterPlot(data):\n",
    "    grid = np.array(data)\n",
    "    plt.scatter(grid[:,0], grid[:,1], c='b', marker='.', s=1)\n",
    "    plt.title('Optimized Scatter Plot')\n",
    "    plt.xlabel('X-Axis')\n",
    "    plt.ylabel('Y-Axis')\n",
    "    plt.show()\n",
    "    plt.close()"
   ]
  },
  {
   "cell_type": "code",
   "execution_count": 4,
   "metadata": {
    "scrolled": false
   },
   "outputs": [],
   "source": [
    "xDim = 1000\n",
    "yDim = 1000\n",
    "data = getData(xDim,yDim)"
   ]
  },
  {
   "cell_type": "code",
   "execution_count": 5,
   "metadata": {},
   "outputs": [
    {
     "data": {
      "image/png": "[encoded data removed]",
      "text/plain": [
       "<Figure size 432x288 with 1 Axes>"
      ]
     },
     "metadata": {},
     "output_type": "display_data"
    }
   ],
   "source": [
    "scatterPlot(data)"
   ]
  },
  {
   "cell_type": "code",
   "execution_count": 6,
   "metadata": {
    "scrolled": true
   },
   "outputs": [],
   "source": [
    "MESSAGE_DELAY_SECONDS = 1\n",
    "RADIUS = 3\n",
    "\n",
    "def get_colors(x, y):\n",
    "    return [\"#%02x%02x%02x\" % (int(float(red / xDim) * 255), int(float(green / yDim) * 255), 150) for red, green in zip(x, y)]\n",
    "\n",
    "def consumeQueue(ch, method, properties, body):\n",
    "    print(\" [x] Consuming Queue Message:%r\" % (method.routing_key))\n",
    "    \n",
    "    # parse message; e.g. {\"data\":[[719,0,0,536, ... ,0,0]]}\n",
    "    jsonPayload = body.decode('utf-8')\n",
    "    data = json.loads(jsonPayload)\n",
    "    \n",
    "    # acknowledge message received\n",
    "    # ch.basic_ack(delivery_tag = method.delivery_tag)\n",
    "    \n",
    "    # scatterPlot(data)\n",
    "\n",
    "    # convert data\n",
    "    grid = np.array(data)\n",
    "    x = grid[:,0]\n",
    "    y = grid[:,1]\n",
    "    radii = grid[:,2]\n",
    "    #colors = [\"#%02x%02x%02x\" % (int(red % 255), int(green % 255), 150) for red, green in zip(50+2*x, 30+2*y)]\n",
    "    # [\"#%02x%02x%02x\" % (int(float(red / xDim) * 150), int(float(green / yDim) * 150), 150) for red, green in zip(distance, fair)]\n",
    "    colors = get_colors(x, y)\n",
    "    \n",
    "    # update plot\n",
    "    r.data_source.data['x'] = x\n",
    "    r.data_source.data['y'] = y\n",
    "    r.data_source.data['radius'] = [(radius % RADIUS) for radius in radii]\n",
    "    r.data_source.data['fill_color'] = colors\n",
    "    \n",
    "    # time.sleep(MESSAGE_DELAY_SECONDS)\n",
    "    push_notebook()\n",
    "    \n",
    "\n"
   ]
  },
  {
   "cell_type": "code",
   "execution_count": 7,
   "metadata": {},
   "outputs": [],
   "source": [
    "grid = np.array(data)\n",
    "\n",
    "TOOLS=\"hover,crosshair,pan,wheel_zoom,box_zoom,reset,tap,save,box_select,poly_select,lasso_select\"\n",
    "\n",
    "distance = grid[:,0]\n",
    "fair = grid[:,1]\n",
    "radii = grid[:,2]\n",
    "# [\"#%02x%02x%02x\" % (int((red / xDim) * 255), int((green / yDim) * 255), 150) for red, green in zip(50+2*distance, 30+2*fair)]\n",
    "colors = get_colors(distance, fair)\n",
    "\n",
    "size = grid.shape[0] # amount of data points\n",
    "\n",
    "p = figure(title=\"Optimized Visaulization Pipeline: Taxi Data\", width=500, height=500, tools=TOOLS,\n",
    "          x_axis_label='distance', y_axis_label='fair amount')\n",
    "r = p.scatter(x = distance, y = fair, radius=radii, fill_color=colors, fill_alpha=0.6, line_color=None)"
   ]
  },
  {
   "cell_type": "code",
   "execution_count": 8,
   "metadata": {},
   "outputs": [
    {
     "data": {
      "text/html": [
       "\n",
       "\n",
       "\n",
       "\n",
       "\n",
       "\n",
       "  <div class=\"bk-root\" id=\"38e8b5a1-a196-48d8-952b-827733238546\" data-root-id=\"1004\"></div>\n"
      ]
     },
     "metadata": {},
     "output_type": "display_data"
    },
    {
     "data": {
      "application/javascript": [
       "(function(root) {\n",
       "  function embed_document(root) {\n",
       "    \n",
       "  var docs_json = {\"8673585c-ba55-4800-8aa6-71c72f312b71\":{\"roots\":{\"references\":[{\"attributes\":{\"below\":[{\"id\":\"1014\",\"type\":\"LinearAxis\"}],\"left\":[{\"id\":\"1019\",\"type\":\"LinearAxis\"}],\"plot_height\":500,\"plot_width\":500,\"renderers\":[{\"id\":\"1014\",\"type\":\"LinearAxis\"},{\"id\":\"1018\",\"type\":\"Grid\"},{\"id\":\"1019\",\"type\":\"LinearAxis\"},{\"id\":\"1023\",\"type\":\"Grid\"},{\"id\":\"1039\",\"type\":\"BoxAnnotation\"},{\"id\":\"1045\",\"type\":\"BoxAnnotation\"},{\"id\":\"1048\",\"type\":\"PolyAnnotation\"},{\"id\":\"1051\",\"type\":\"PolyAnnotation\"},{\"id\":\"1058\",\"type\":\"GlyphRenderer\"}],\"title\":{\"id\":\"1003\",\"type\":\"Title\"},\"toolbar\":{\"id\":\"1035\",\"type\":\"Toolbar\"},\"x_range\":{\"id\":\"1006\",\"type\":\"DataRange1d\"},\"x_scale\":{\"id\":\"1010\",\"type\":\"LinearScale\"},\"y_range\":{\"id\":\"1008\",\"type\":\"DataRange1d\"},\"y_scale\":{\"id\":\"1012\",\"type\":\"LinearScale\"}},\"id\":\"1004\",\"subtype\":\"Figure\",\"type\":\"Plot\"},{\"attributes\":{},\"id\":\"1026\",\"type\":\"PanTool\"},{\"attributes\":{\"callback\":null},\"id\":\"1024\",\"type\":\"HoverTool\"},{\"attributes\":{\"fill_alpha\":{\"value\":0.6},\"fill_color\":{\"field\":\"fill_color\"},\"line_color\":{\"value\":null},\"radius\":{\"field\":\"radius\",\"units\":\"data\"},\"x\":{\"field\":\"x\"},\"y\":{\"field\":\"y\"}},\"id\":\"1056\",\"type\":\"Circle\"},{\"attributes\":{},\"id\":\"1031\",\"type\":\"SaveTool\"},{\"attributes\":{\"fill_alpha\":{\"value\":0.5},\"fill_color\":{\"value\":\"lightgrey\"},\"level\":\"overlay\",\"line_alpha\":{\"value\":1.0},\"line_color\":{\"value\":\"black\"},\"line_dash\":[4,4],\"line_width\":{\"value\":2},\"plot\":null,\"xs_units\":\"screen\",\"ys_units\":\"screen\"},\"id\":\"1048\",\"type\":\"PolyAnnotation\"},{\"attributes\":{\"overlay\":{\"id\":\"1039\",\"type\":\"BoxAnnotation\"}},\"id\":\"1028\",\"type\":\"BoxZoomTool\"},{\"attributes\":{\"callback\":null,\"overlay\":{\"id\":\"1048\",\"type\":\"PolyAnnotation\"}},\"id\":\"1033\",\"type\":\"PolySelectTool\"},{\"attributes\":{\"plot\":null,\"text\":\"Optimized Visaulization Pipeline: Taxi Data\"},\"id\":\"1003\",\"type\":\"Title\"},{\"attributes\":{},\"id\":\"1027\",\"type\":\"WheelZoomTool\"},{\"attributes\":{},\"id\":\"1029\",\"type\":\"ResetTool\"},{\"attributes\":{\"bottom_units\":\"screen\",\"fill_alpha\":{\"value\":0.5},\"fill_color\":{\"value\":\"lightgrey\"},\"left_units\":\"screen\",\"level\":\"overlay\",\"line_alpha\":{\"value\":1.0},\"line_color\":{\"value\":\"black\"},\"line_dash\":[4,4],\"line_width\":{\"value\":2},\"plot\":null,\"render_mode\":\"css\",\"right_units\":\"screen\",\"top_units\":\"screen\"},\"id\":\"1045\",\"type\":\"BoxAnnotation\"},{\"attributes\":{\"source\":{\"id\":\"1055\",\"type\":\"ColumnDataSource\"}},\"id\":\"1059\",\"type\":\"CDSView\"},{\"attributes\":{\"active_drag\":\"auto\",\"active_inspect\":\"auto\",\"active_multi\":null,\"active_scroll\":\"auto\",\"active_tap\":\"auto\",\"tools\":[{\"id\":\"1024\",\"type\":\"HoverTool\"},{\"id\":\"1025\",\"type\":\"CrosshairTool\"},{\"id\":\"1026\",\"type\":\"PanTool\"},{\"id\":\"1027\",\"type\":\"WheelZoomTool\"},{\"id\":\"1028\",\"type\":\"BoxZoomTool\"},{\"id\":\"1029\",\"type\":\"ResetTool\"},{\"id\":\"1030\",\"type\":\"TapTool\"},{\"id\":\"1031\",\"type\":\"SaveTool\"},{\"id\":\"1032\",\"type\":\"BoxSelectTool\"},{\"id\":\"1033\",\"type\":\"PolySelectTool\"},{\"id\":\"1034\",\"type\":\"LassoSelectTool\"}]},\"id\":\"1035\",\"type\":\"Toolbar\"},{\"attributes\":{\"fill_alpha\":{\"value\":0.1},\"fill_color\":{\"value\":\"#1f77b4\"},\"line_alpha\":{\"value\":0.1},\"line_color\":{\"value\":\"#1f77b4\"},\"radius\":{\"field\":\"radius\",\"units\":\"data\"},\"x\":{\"field\":\"x\"},\"y\":{\"field\":\"y\"}},\"id\":\"1057\",\"type\":\"Circle\"},{\"attributes\":{},\"id\":\"1020\",\"type\":\"BasicTicker\"},{\"attributes\":{\"callback\":null,\"data\":{\"fill_color\":[\"#000096\",\"#000096\",\"#000196\",\"#000196\",\"#000196\",\"#000196\",\"#000296\",\"#000296\",\"#000296\",\"#000396\",\"#000396\",\"#000396\",\"#000396\",\"#000496\",\"#000496\",\"#000496\",\"#000496\",\"#000596\",\"#000596\",\"#000596\",\"#000696\",\"#000696\",\"#000696\",\"#000696\",\"#000796\",\"#000896\",\"#000996\",\"#000996\",\"#000a96\",\"#000c96\",\"#000d96\",\"#000e96\",\"#000e96\",\"#000f96\",\"#001296\",\"#001396\",\"#001596\",\"#001796\",\"#001896\",\"#001b96\",\"#001c96\",\"#001e96\",\"#001f96\",\"#002096\",\"#002096\",\"#002296\",\"#002596\",\"#002996\",\"#002b96\",\"#003696\",\"#003896\",\"#003a96\",\"#003e96\",\"#004796\",\"#005e96\",\"#009f96\",\"#00fe96\",\"#000096\",\"#000196\",\"#000196\",\"#001896\",\"#000096\",\"#000096\",\"#000196\",\"#000196\",\"#000196\",\"#000396\",\"#000196\",\"#000196\",\"#000196\",\"#000196\",\"#000296\",\"#010096\",\"#010196\",\"#010196\",\"#010196\",\"#010196\",\"#010296\",\"#010296\",\"#018e96\",\"#010196\",\"#010196\",\"#010196\",\"#010196\",\"#010296\",\"#010996\",\"#010196\",\"#010196\",\"#010196\",\"#010196\",\"#010296\",\"#010296\",\"#010096\",\"#010096\",\"#010196\",\"#010196\",\"#010196\",\"#010196\",\"#010296\",\"#010296\",\"#010396\",\"#010496\",\"#020196\",\"#020196\",\"#020196\",\"#020296\",\"#020396\",\"#020096\",\"#020196\",\"#020196\",\"#020196\",\"#020296\",\"#020296\",\"#020296\",\"#020296\",\"#020496\",\"#020096\",\"#020196\",\"#020196\",\"#020196\",\"#020296\",\"#020296\",\"#020096\",\"#020196\",\"#020196\",\"#020196\",\"#020296\",\"#020296\",\"#020296\",\"#020296\",\"#020396\",\"#020396\",\"#020496\",\"#030096\",\"#030196\",\"#030196\",\"#030296\",\"#030296\",\"#030296\",\"#030296\",\"#030396\",\"#030396\",\"#030096\",\"#030196\",\"#030196\",\"#030296\",\"#030296\",\"#030296\",\"#030296\",\"#030396\",\"#030396\",\"#030096\",\"#030196\",\"#030196\",\"#030296\",\"#030296\",\"#030296\",\"#030296\",\"#030396\",\"#030096\",\"#030196\",\"#030196\",\"#030296\",\"#030296\",\"#030296\",\"#030296\",\"#030396\",\"#030396\",\"#030496\",\"#040196\",\"#040296\",\"#040296\",\"#040296\",\"#040296\",\"#040396\",\"#040396\",\"#040196\",\"#040296\",\"#040296\",\"#040296\",\"#040296\",\"#040396\",\"#040396\",\"#040396\",\"#040096\",\"#040196\",\"#040296\",\"#040296\",\"#040296\",\"#040296\",\"#040396\",\"#040396\",\"#040096\",\"#040196\",\"#040296\",\"#040296\",\"#040296\",\"#040296\",\"#040396\",\"#040396\",\"#040396\",\"#050296\",\"#050296\",\"#050296\",\"#050296\",\"#050396\",\"#050396\",\"#050396\",\"#050296\",\"#050296\",\"#050296\",\"#050296\",\"#050396\",\"#050396\",\"#050396\",\"#050696\",\"#050096\",\"#050296\",\"#050296\",\"#050296\",\"#050296\",\"#050396\",\"#050396\",\"#050396\",\"#050396\",\"#050496\",\"#050296\",\"#050296\",\"#050296\",\"#050296\",\"#050396\",\"#050396\",\"#050396\",\"#050396\",\"#060096\",\"#060296\",\"#060296\",\"#060296\",\"#060396\",\"#060396\",\"#060396\",\"#060396\",\"#060496\",\"#060296\",\"#060296\",\"#060296\",\"#060396\",\"#060396\",\"#060396\",\"#060396\",\"#060496\",\"#060096\",\"#060296\",\"#060296\",\"#060296\",\"#060396\",\"#060396\",\"#060396\",\"#060396\",\"#060496\",\"#060496\",\"#060296\",\"#060296\",\"#060296\",\"#060396\",\"#060396\",\"#060396\",\"#060396\",\"#060496\",\"#070296\",\"#070296\",\"#070396\",\"#070396\",\"#070396\",\"#070396\",\"#070496\",\"#071796\",\"#070296\",\"#070296\",\"#070396\",\"#070396\",\"#070396\",\"#070396\",\"#070496\",\"#070496\",\"#070596\",\"#070296\",\"#070296\",\"#070396\",\"#070396\",\"#070396\",\"#070396\",\"#070496\",\"#070496\",\"#070496\",\"#070596\",\"#070296\",\"#070296\",\"#070396\",\"#070396\",\"#070396\",\"#070396\",\"#070496\",\"#070496\",\"#070596\",\"#080296\",\"#080296\",\"#080396\",\"#080396\",\"#080396\",\"#080396\",\"#080496\",\"#080496\",\"#080496\",\"#080496\",\"#080596\",\"#080596\",\"#080296\",\"#080396\",\"#080396\",\"#080396\",\"#080396\",\"#080496\",\"#080496\",\"#080296\",\"#080396\",\"#080396\",\"#080396\",\"#080396\",\"#080496\",\"#080496\",\"#080496\",\"#080496\",\"#080596\",\"#080596\",\"#081896\",\"#081b96\",\"#080396\",\"#080396\",\"#080396\",\"#080396\",\"#080496\",\"#080496\",\"#080496\",\"#080696\",\"#090296\",\"#090396\",\"#090396\",\"#090396\",\"#090396\",\"#090496\",\"#090496\",\"#090496\",\"#090496\",\"#090596\",\"#090596\",\"#090696\",\"#090396\",\"#090396\",\"#090396\",\"#090396\",\"#090496\",\"#090496\",\"#090496\",\"#090096\",\"#090396\",\"#090396\",\"#090396\",\"#090396\",\"#090496\",\"#090496\",\"#090496\",\"#090496\",\"#090596\",\"#090596\",\"#090596\",\"#090696\",\"#090396\",\"#090396\",\"#090396\",\"#090396\",\"#090496\",\"#090496\",\"#090496\",\"#090496\",\"#090596\",\"#0a0396\",\"#0a0396\",\"#0a0396\",\"#0a0496\",\"#0a0496\",\"#0a0496\",\"#0a0496\",\"#0a0596\",\"#0a0596\",\"#0a0696\",\"#0a0396\",\"#0a0396\",\"#0a0396\",\"#0a0496\",\"#0a0496\",\"#0a0496\",\"#0a0496\",\"#0a0596\",\"#0a0396\",\"#0a0396\",\"#0a0396\",\"#0a0496\",\"#0a0496\",\"#0a0496\",\"#0a0496\",\"#0a0596\",\"#0a0596\",\"#0a0396\",\"#0a0396\",\"#0a0396\",\"#0a0496\",\"#0a0496\",\"#0a0496\",\"#0a0496\",\"#0a0596\",\"#0a0596\",\"#0a0596\",\"#0b0396\",\"#0b0396\",\"#0b0396\",\"#0b0496\",\"#0b0496\",\"#0b0496\",\"#0b0496\",\"#0b0596\",\"#0b0396\",\"#0b0396\",\"#0b0396\",\"#0b0496\",\"#0b0496\",\"#0b0496\",\"#0b0496\",\"#0b0596\",\"#0b0596\",\"#0b0596\",\"#0b0696\",\"#0b0696\",\"#0b0696\",\"#0b0396\",\"#0b0396\",\"#0b0396\",\"#0b0496\",\"#0b0496\",\"#0b0496\",\"#0b0496\",\"#0b0596\",\"#0b0596\",\"#0b0396\",\"#0b0396\",\"#0b0396\",\"#0b0496\",\"#0b0496\",\"#0b0496\",\"#0b0496\",\"#0b0596\",\"#0b0596\",\"#0b0596\",\"#0b0596\",\"#0b0696\",\"#0b0696\",\"#0b0696\",\"#0c0396\",\"#0c0396\",\"#0c0396\",\"#0c0496\",\"#0c0496\",\"#0c0496\",\"#0c0496\",\"#0c0596\",\"#0c0596\",\"#0c0596\",\"#0c0696\",\"#0c0396\",\"#0c0396\",\"#0c0496\",\"#0c0496\",\"#0c0496\",\"#0c0496\",\"#0c0596\",\"#0c0596\",\"#0c0596\",\"#0c0596\",\"#0c0696\",\"#0c0696\",\"#0c0396\",\"#0c0396\",\"#0c0496\",\"#0c0496\",\"#0c0496\",\"#0c0496\",\"#0c0596\",\"#0c0596\",\"#0c0596\",\"#0c0596\",\"#0d0396\",\"#0d0396\",\"#0d0496\",\"#0d0496\",\"#0d0496\",\"#0d0496\",\"#0d0596\",\"#0d0596\",\"#0d0596\",\"#0d0596\",\"#0d0696\",\"#0d0696\",\"#0d0396\",\"#0d0396\",\"#0d0496\",\"#0d0496\",\"#0d0496\",\"#0d0496\",\"#0d0596\",\"#0d0596\",\"#0d0596\",\"#0d0596\",\"#0d0396\",\"#0d0496\",\"#0d0496\",\"#0d0496\",\"#0d0496\",\"#0d0596\",\"#0d0596\",\"#0d0596\",\"#0d0596\",\"#0d0696\",\"#0d0696\",\"#0d0796\",\"#0d0796\",\"#0d0396\",\"#0d0496\",\"#0d0496\",\"#0d0496\",\"#0d0496\",\"#0d0596\",\"#0d0596\",\"#0d0596\",\"#0d0596\",\"#0d0696\",\"#0e0396\",\"#0e0496\",\"#0e0496\",\"#0e0496\",\"#0e0496\",\"#0e0596\",\"#0e0596\",\"#0e0596\",\"#0e0596\",\"#0e0696\",\"#0e0696\",\"#0e0696\",\"#0e0496\",\"#0e0496\",\"#0e0496\",\"#0e0596\",\"#0e0596\",\"#0e0596\",\"#0e0596\",\"#0e0696\",\"#0e0696\",\"#0e1896\",\"#0e0096\",\"#0e0496\",\"#0e0496\",\"#0e0496\",\"#0e0496\",\"#0e0596\",\"#0e0596\",\"#0e0596\",\"#0e0596\",\"#0e0696\",\"#0e0696\",\"#0e0696\",\"#0e0696\",\"#0e0796\",\"#0e0896\",\"#0e0496\",\"#0e0496\",\"#0e0496\",\"#0e0496\",\"#0e0596\",\"#0e0596\",\"#0e0596\",\"#0e0596\",\"#0e0696\",\"#0e0696\",\"#0f0496\",\"#0f0496\",\"#0f0496\",\"#0f0596\",\"#0f0596\",\"#0f0596\",\"#0f0596\",\"#0f0696\",\"#0f0696\",\"#0f0696\",\"#0f0696\",\"#0f0496\",\"#0f0496\",\"#0f0496\",\"#0f0496\",\"#0f0596\",\"#0f0596\",\"#0f0596\",\"#0f0596\",\"#0f0696\",\"#0f0696\",\"#0f0696\",\"#0f0796\",\"#0f0896\",\"#0f0496\",\"#0f0496\",\"#0f0496\",\"#0f0496\",\"#0f0596\",\"#0f0596\",\"#0f0596\",\"#0f0596\",\"#0f0696\",\"#0f0696\",\"#0f0696\",\"#0f0696\",\"#0f0496\",\"#0f0496\",\"#0f0596\",\"#0f0596\",\"#0f0596\",\"#0f0596\",\"#0f0696\",\"#0f0696\",\"#0f0696\",\"#100496\",\"#100496\",\"#100496\",\"#100596\",\"#100596\",\"#100596\",\"#100596\",\"#100696\",\"#100696\",\"#100796\",\"#100796\",\"#100a96\",\"#100496\",\"#100496\",\"#100496\",\"#100596\",\"#100596\",\"#100596\",\"#100596\",\"#100696\",\"#100696\",\"#100696\",\"#100696\",\"#100796\",\"#100896\",\"#100896\",\"#101696\",\"#100496\",\"#100496\",\"#100596\",\"#100596\",\"#100596\",\"#100596\",\"#100696\",\"#100696\",\"#100696\",\"#100696\",\"#100796\",\"#101896\",\"#100496\",\"#100496\",\"#100596\",\"#100596\",\"#100596\",\"#100596\",\"#100696\",\"#100696\",\"#100696\",\"#100696\",\"#100796\",\"#100796\",\"#100796\",\"#102196\",\"#110496\",\"#110496\",\"#110596\",\"#110596\",\"#110596\",\"#110596\",\"#110696\",\"#110696\",\"#110696\",\"#110696\",\"#110796\",\"#110496\",\"#110496\",\"#110596\",\"#110596\",\"#110596\",\"#110596\",\"#110696\",\"#110696\",\"#110696\",\"#110696\",\"#110796\",\"#110796\",\"#110796\",\"#110896\",\"#110596\",\"#110596\",\"#110596\",\"#110596\",\"#110696\",\"#110696\",\"#110696\",\"#110696\",\"#110796\",\"#110796\",\"#110496\",\"#110596\",\"#110596\",\"#110596\",\"#110596\",\"#110696\",\"#110696\",\"#110696\",\"#110696\",\"#110796\",\"#110796\",\"#110796\",\"#111c96\",\"#120096\",\"#120596\",\"#120596\",\"#120596\",\"#120596\",\"#120696\",\"#120696\",\"#120696\",\"#120696\",\"#120796\",\"#120796\",\"#120496\",\"#120596\",\"#120596\",\"#120596\",\"#120696\",\"#120696\",\"#120696\",\"#120696\",\"#120796\",\"#120796\",\"#120896\",\"#120a96\",\"#121296\",\"#120496\",\"#120596\",\"#120596\",\"#120596\",\"#120696\",\"#120696\",\"#120696\",\"#120696\",\"#120796\",\"#120796\",\"#120796\",\"#120996\",\"#122096\",\"#120596\",\"#120596\",\"#120596\",\"#120596\",\"#120696\",\"#120696\",\"#120696\",\"#120696\",\"#120796\",\"#120796\",\"#120796\",\"#121796\",\"#130596\",\"#130596\",\"#130596\",\"#130696\",\"#130696\",\"#130696\",\"#130696\",\"#130796\",\"#130796\",\"#130996\",\"#131796\",\"#130596\",\"#130596\",\"#130596\",\"#130696\",\"#130696\",\"#130696\",\"#130696\",\"#130796\",\"#130796\",\"#130796\",\"#130896\",\"#131c96\",\"#130596\",\"#130596\",\"#130596\",\"#130696\",\"#130696\",\"#130696\",\"#130696\",\"#130796\",\"#130796\",\"#130d96\",\"#130596\",\"#130596\",\"#130596\",\"#130696\",\"#130696\",\"#130696\",\"#130696\",\"#130796\",\"#130796\",\"#130796\",\"#130796\",\"#130896\",\"#140596\",\"#140596\",\"#140596\",\"#140696\",\"#140696\",\"#140696\",\"#140696\",\"#140796\",\"#140796\",\"#140596\",\"#140596\",\"#140596\",\"#140696\",\"#140696\",\"#140696\",\"#140696\",\"#140796\",\"#140796\",\"#140796\",\"#140796\",\"#140996\",\"#141696\",\"#140596\",\"#140596\",\"#140696\",\"#140696\",\"#140696\",\"#140696\",\"#140796\",\"#140796\",\"#140796\",\"#140796\",\"#140596\",\"#140696\",\"#140696\",\"#140696\",\"#140696\",\"#140796\",\"#140796\",\"#140796\",\"#140796\",\"#140896\",\"#140896\",\"#140896\",\"#140a96\",\"#141c96\",\"#150696\",\"#150696\",\"#150696\",\"#150796\",\"#150796\",\"#150796\",\"#150896\",\"#150896\",\"#150596\",\"#150596\",\"#150696\",\"#150696\",\"#150696\",\"#150696\",\"#150796\",\"#150796\",\"#150796\",\"#150896\",\"#150896\",\"#150996\",\"#151796\",\"#150596\",\"#150696\",\"#150696\",\"#150696\",\"#150796\",\"#150796\",\"#150796\",\"#150896\",\"#150996\",\"#150596\",\"#150596\",\"#150696\",\"#150696\",\"#150696\",\"#150696\",\"#150796\",\"#150796\",\"#150796\",\"#150796\",\"#150896\",\"#150996\",\"#160596\",\"#160696\",\"#160696\",\"#160696\",\"#160696\",\"#160796\",\"#160796\",\"#160796\",\"#160796\",\"#160896\",\"#160896\",\"#160896\",\"#160696\",\"#160696\",\"#160696\",\"#160796\",\"#160796\",\"#160796\",\"#160796\",\"#160896\",\"#160896\",\"#160896\",\"#160696\",\"#160696\",\"#160696\",\"#160696\",\"#160796\",\"#160796\",\"#160796\",\"#160796\",\"#160896\",\"#160896\",\"#160996\",\"#160a96\",\"#161096\",\"#161296\",\"#160696\",\"#160696\",\"#160696\",\"#160796\",\"#160796\",\"#160796\",\"#160796\",\"#160896\",\"#160896\",\"#161796\",\"#170696\",\"#170696\",\"#170696\",\"#170796\",\"#170796\",\"#170796\",\"#170796\",\"#170896\",\"#170896\",\"#170896\",\"#170996\",\"#170c96\",\"#171596\",\"#170696\",\"#170696\",\"#170696\",\"#170796\",\"#170796\",\"#170796\",\"#170796\",\"#170896\",\"#170996\",\"#170696\",\"#170696\",\"#170796\",\"#170796\",\"#170796\",\"#170796\",\"#170896\",\"#170896\",\"#170896\",\"#170896\",\"#170996\",\"#170996\",\"#171596\",\"#170696\",\"#170696\",\"#170696\",\"#170796\",\"#170796\",\"#170796\",\"#170796\",\"#170896\",\"#170896\",\"#180696\",\"#180696\",\"#180796\",\"#180796\",\"#180796\",\"#180796\",\"#180896\",\"#180896\",\"#180896\",\"#180896\",\"#180996\",\"#180996\",\"#180996\",\"#180696\",\"#180696\",\"#180796\",\"#180796\",\"#180796\",\"#180796\",\"#180896\",\"#180896\",\"#180896\",\"#180996\",\"#180696\",\"#180696\",\"#180796\",\"#180796\",\"#180796\",\"#180796\",\"#180896\",\"#180896\",\"#180896\",\"#180896\",\"#180996\",\"#181296\",\"#181c96\",\"#180696\",\"#180696\",\"#180796\",\"#180796\",\"#180796\",\"#180796\",\"#180896\",\"#180896\",\"#180896\",\"#180896\",\"#180996\",\"#181896\",\"#190696\",\"#190696\",\"#190796\",\"#190796\",\"#190796\",\"#190796\",\"#190896\",\"#190896\",\"#190896\",\"#190896\",\"#190996\",\"#190996\",\"#190996\",\"#190a96\",\"#190a96\",\"#190696\",\"#190796\",\"#190796\",\"#190796\",\"#190896\",\"#190896\",\"#190896\",\"#190896\",\"#190996\",\"#190996\",\"#190a96\",\"#190696\",\"#190796\",\"#190796\",\"#190796\",\"#190896\",\"#190896\",\"#190896\",\"#190896\",\"#190996\",\"#190996\",\"#190996\",\"#190a96\",\"#190a96\",\"#1a0696\",\"#1a0796\",\"#1a0796\",\"#1a0796\",\"#1a0796\",\"#1a0896\",\"#1a0896\",\"#1a0896\",\"#1a0896\",\"#1a0996\",\"#1a0996\",\"#1a0696\",\"#1a0796\",\"#1a0796\",\"#1a0796\",\"#1a0796\",\"#1a0896\",\"#1a0896\",\"#1a0896\",\"#1a0896\",\"#1a0996\",\"#1a0996\",\"#1a0a96\",\"#1a0a96\",\"#1a0a96\",\"#1a0b96\",\"#1a0796\",\"#1a0796\",\"#1a0796\",\"#1a0896\",\"#1a0896\",\"#1a0896\",\"#1a0996\",\"#1a0996\",\"#1a0696\",\"#1a0796\",\"#1a0796\",\"#1a0796\",\"#1a0796\",\"#1a0896\",\"#1a0896\",\"#1a0896\",\"#1a0896\",\"#1a0996\",\"#1a0996\",\"#1a0c96\",\"#1b0696\",\"#1b0796\",\"#1b0796\",\"#1b0796\",\"#1b0896\",\"#1b0896\",\"#1b0996\",\"#1b0996\",\"#1b0996\",\"#1b0a96\",\"#1b0b96\",\"#1b0796\",\"#1b0796\",\"#1b0796\",\"#1b0796\",\"#1b0896\",\"#1b0896\",\"#1b0896\",\"#1b0896\",\"#1b0996\",\"#1b0996\",\"#1b0a96\",\"#1b1c96\",\"#1b0796\",\"#1b0796\",\"#1b0796\",\"#1b0896\",\"#1b0896\",\"#1b0896\",\"#1b0896\",\"#1b0996\",\"#1b0996\",\"#1b0996\",\"#1b0996\",\"#1b0a96\",\"#1b0a96\",\"#1b0a96\",\"#1b1c96\",\"#1b0796\",\"#1b0796\",\"#1b0896\",\"#1b0896\",\"#1b0896\",\"#1b0896\",\"#1b0996\",\"#1b0996\",\"#1c0796\",\"#1c0796\",\"#1c0796\",\"#1c0796\",\"#1c0896\",\"#1c0896\",\"#1c0896\",\"#1c0896\",\"#1c0996\",\"#1c0996\",\"#1c0996\",\"#1c0a96\",\"#1c0a96\",\"#1c0b96\",\"#1c0c96\",\"#1c0796\",\"#1c0796\",\"#1c0896\",\"#1c0896\",\"#1c0896\",\"#1c0896\",\"#1c0996\",\"#1c0996\",\"#1c0a96\",\"#1c0a96\",\"#1c0796\",\"#1c0796\",\"#1c0796\",\"#1c0896\",\"#1c0896\",\"#1c0896\",\"#1c0896\",\"#1c0996\",\"#1c0996\",\"#1c0996\",\"#1c0996\",\"#1c0a96\",\"#1c0a96\",\"#1c0a96\",\"#1c0a96\",\"#1c0796\",\"#1c0796\",\"#1c0796\",\"#1c0896\",\"#1c0896\",\"#1c0896\",\"#1c0896\",\"#1c0996\",\"#1c0996\",\"#1c0996\",\"#1c0996\",\"#1c0a96\",\"#1c0b96\",\"#1c0b96\",\"#1d0796\",\"#1d0796\",\"#1d0896\",\"#1d0896\",\"#1d0896\",\"#1d0896\",\"#1d0996\",\"#1d0996\",\"#1d0996\",\"#1d0996\",\"#1d0a96\",\"#1d0a96\",\"#1d0a96\",\"#1d0b96\",\"#1d1596\",\"#1d1796\",\"#1d0796\",\"#1d0896\",\"#1d0896\",\"#1d0896\",\"#1d0896\",\"#1d0996\",\"#1d0996\",\"#1d0996\",\"#1d0996\",\"#1d0a96\",\"#1d0b96\",\"#1d1796\",\"#1d0796\",\"#1d0896\",\"#1d0896\",\"#1d0896\",\"#1d0896\",\"#1d0996\",\"#1d0996\",\"#1d0996\",\"#1d0996\",\"#1d0a96\",\"#1d0a96\",\"#1d0b96\",\"#1d0c96\",\"#1d0796\",\"#1d0896\",\"#1d0896\",\"#1d0896\",\"#1d0896\",\"#1d0996\",\"#1d0a96\",\"#1e0896\",\"#1e0896\",\"#1e0896\",\"#1e0896\",\"#1e0996\",\"#1e0996\",\"#1e0996\",\"#1e0996\",\"#1e0a96\",\"#1e0a96\",\"#1e1396\",\"#1e0796\",\"#1e0796\",\"#1e0896\",\"#1e0896\",\"#1e0896\",\"#1e0996\",\"#1e0996\",\"#1e0996\",\"#1e0996\",\"#1e0a96\",\"#1e0c96\",\"#1e0896\",\"#1e0896\",\"#1e0896\",\"#1e0896\",\"#1e0996\",\"#1e0996\",\"#1e0996\",\"#1e0996\",\"#1e0a96\",\"#1e0a96\",\"#1e0a96\",\"#1e0796\",\"#1e0896\",\"#1e0896\",\"#1e0896\",\"#1e0996\",\"#1e0996\",\"#1e0a96\",\"#1e0b96\",\"#1e0d96\",\"#1f0796\",\"#1f0896\",\"#1f0896\",\"#1f0896\",\"#1f0996\",\"#1f0996\",\"#1f0996\",\"#1f0996\",\"#1f0a96\",\"#1f0a96\",\"#1f0a96\",\"#1f0896\",\"#1f0896\",\"#1f0996\",\"#1f0996\",\"#1f0996\",\"#1f0a96\",\"#1f0a96\",\"#1f0896\",\"#1f0896\",\"#1f0896\",\"#1f0896\",\"#1f0996\",\"#1f0996\",\"#1f0996\",\"#1f0996\",\"#1f0a96\",\"#1f0a96\",\"#1f0a96\",\"#1f0e96\",\"#1f0896\",\"#1f0896\",\"#1f0896\",\"#1f0996\",\"#1f0996\",\"#1f0a96\",\"#1f0a96\",\"#1f0a96\",\"#1f0a96\",\"#200896\",\"#200896\",\"#200896\",\"#200996\",\"#200996\",\"#200a96\",\"#200a96\",\"#200a96\",\"#200b96\",\"#200796\",\"#200896\",\"#200896\",\"#200896\",\"#200996\",\"#200996\",\"#200996\",\"#200996\",\"#200a96\",\"#200a96\",\"#200a96\",\"#200a96\",\"#200b96\",\"#200c96\",\"#200896\",\"#200896\",\"#200996\",\"#200996\",\"#200996\",\"#200996\",\"#200a96\",\"#200b96\",\"#200b96\",\"#201396\",\"#200896\",\"#200896\",\"#200996\",\"#200996\",\"#200996\",\"#200996\",\"#200a96\",\"#200a96\",\"#200a96\",\"#200a96\",\"#200b96\",\"#200b96\",\"#200f96\",\"#201796\",\"#210896\",\"#210896\",\"#210996\",\"#210996\",\"#210996\",\"#210a96\",\"#210a96\",\"#210a96\",\"#210c96\",\"#211c96\",\"#210896\",\"#210996\",\"#210996\",\"#210996\",\"#210996\",\"#210a96\",\"#210a96\",\"#210a96\",\"#210b96\",\"#210c96\",\"#210d96\",\"#210996\",\"#210996\",\"#210996\",\"#210996\",\"#210a96\",\"#210896\",\"#210896\",\"#210996\",\"#210996\",\"#210996\",\"#210996\",\"#210a96\",\"#210a96\",\"#210a96\",\"#210a96\",\"#210b96\",\"#210b96\",\"#210b96\",\"#210b96\",\"#210d96\",\"#211296\",\"#220996\",\"#220996\",\"#220996\",\"#220996\",\"#220a96\",\"#220a96\",\"#220b96\",\"#220896\",\"#220896\",\"#220996\",\"#220996\",\"#220996\",\"#220996\",\"#220a96\",\"#220a96\",\"#220a96\",\"#220a96\",\"#220b96\",\"#220b96\",\"#221896\",\"#220896\",\"#220896\",\"#220996\",\"#220996\",\"#220996\",\"#220a96\",\"#220b96\",\"#220c96\",\"#220896\",\"#220996\",\"#220996\",\"#220996\",\"#220996\",\"#220a96\",\"#220a96\",\"#220a96\",\"#220a96\",\"#220b96\",\"#220b96\",\"#220c96\",\"#220c96\",\"#220f96\",\"#230896\",\"#230996\",\"#230996\",\"#230a96\",\"#230a96\",\"#230a96\",\"#230b96\",\"#230b96\",\"#230896\",\"#230996\",\"#230996\",\"#230996\",\"#230996\",\"#230a96\",\"#230a96\",\"#230a96\",\"#230b96\",\"#230b96\",\"#230b96\",\"#230c96\",\"#230996\",\"#230996\",\"#230996\",\"#230a96\",\"#230a96\",\"#230b96\",\"#230b96\",\"#230b96\",\"#230b96\",\"#230c96\",\"#230c96\",\"#230d96\",\"#230996\",\"#230996\",\"#230996\",\"#230996\",\"#230a96\",\"#230a96\",\"#230a96\",\"#230a96\",\"#230b96\",\"#230b96\",\"#240996\",\"#240996\",\"#240996\",\"#240a96\",\"#240a96\",\"#240a96\",\"#240b96\",\"#240b96\",\"#240996\",\"#240996\",\"#240996\",\"#240a96\",\"#240a96\",\"#240a96\",\"#240a96\",\"#240b96\",\"#240c96\",\"#240c96\",\"#240996\",\"#240996\",\"#240a96\",\"#240a96\",\"#240a96\",\"#240a96\",\"#240b96\",\"#240f96\",\"#241c96\",\"#240996\",\"#240a96\",\"#240a96\",\"#240a96\",\"#240b96\",\"#240b96\",\"#240b96\",\"#240c96\",\"#240c96\",\"#240d96\",\"#250996\",\"#250a96\",\"#250a96\",\"#250996\",\"#250996\",\"#250996\",\"#250a96\",\"#250a96\",\"#250b96\",\"#250b96\",\"#251e96\",\"#250096\",\"#250a96\",\"#250a96\",\"#250a96\",\"#250a96\",\"#250b96\",\"#250b96\",\"#250b96\",\"#250c96\",\"#250d96\",\"#250996\",\"#250a96\",\"#250a96\",\"#250b96\",\"#250c96\",\"#250c96\",\"#250d96\",\"#260096\",\"#260996\",\"#260996\",\"#260a96\",\"#260a96\",\"#260a96\",\"#260a96\",\"#260b96\",\"#260b96\",\"#260b96\",\"#260c96\",\"#260e96\",\"#260a96\",\"#260a96\",\"#260b96\",\"#260f96\",\"#260996\",\"#260a96\",\"#260a96\",\"#260a96\",\"#260a96\",\"#260b96\",\"#260b96\",\"#260b96\",\"#260c96\",\"#260e96\",\"#270a96\",\"#270b96\",\"#270b96\",\"#270e96\",\"#270996\",\"#270a96\",\"#270a96\",\"#270a96\",\"#270a96\",\"#270b96\",\"#270b96\",\"#270b96\",\"#270b96\",\"#270c96\",\"#270996\",\"#270a96\",\"#270a96\",\"#270b96\",\"#270b96\",\"#270b96\",\"#270d96\",\"#270996\",\"#270a96\",\"#270a96\",\"#270a96\",\"#270b96\",\"#270b96\",\"#270b96\",\"#270b96\",\"#270c96\",\"#270d96\",\"#280a96\",\"#280a96\",\"#280b96\",\"#280b96\",\"#280c96\",\"#280a96\",\"#280a96\",\"#280a96\",\"#280a96\",\"#280b96\",\"#280b96\",\"#280b96\",\"#280b96\",\"#280c96\",\"#280c96\",\"#280d96\",\"#280d96\",\"#280d96\",\"#280e96\",\"#280f96\",\"#280a96\",\"#280a96\",\"#280b96\",\"#280c96\",\"#280d96\",\"#281096\",\"#280a96\",\"#280b96\",\"#280b96\",\"#280b96\",\"#280c96\",\"#280c96\",\"#280d96\",\"#280d96\",\"#280e96\",\"#280f96\",\"#290a96\",\"#290a96\",\"#290b96\",\"#290c96\",\"#290c96\",\"#290d96\",\"#290a96\",\"#290a96\",\"#290b96\",\"#290b96\",\"#290b96\",\"#290c96\",\"#290c96\",\"#290c96\",\"#290d96\",\"#290d96\",\"#290d96\",\"#290a96\",\"#290b96\",\"#290c96\",\"#290e96\",\"#290a96\",\"#290a96\",\"#290a96\",\"#290b96\",\"#290b96\",\"#290b96\",\"#290b96\",\"#290c96\",\"#290c96\",\"#290d96\",\"#290d96\",\"#290e96\",\"#291096\",\"#2a0b96\",\"#2a0b96\",\"#2a0c96\",\"#2a0c96\",\"#2a1196\",\"#2a0a96\",\"#2a0a96\",\"#2a0b96\",\"#2a0b96\",\"#2a0b96\",\"#2a0b96\",\"#2a0c96\",\"#2a0d96\",\"#2a0d96\",\"#2a0e96\",\"#2a0a96\",\"#2a0b96\",\"#2a0c96\",\"#2a0d96\",\"#2a0b96\",\"#2a0b96\",\"#2b0a96\",\"#2b0a96\",\"#2b0b96\",\"#2b0b96\",\"#2b0b96\",\"#2b0c96\",\"#2b0c96\",\"#2b0d96\",\"#2b0e96\",\"#2b1896\",\"#2b0a96\",\"#2b0b96\",\"#2b0b96\",\"#2b0b96\",\"#2b0c96\",\"#2b0c96\",\"#2b0c96\",\"#2b0d96\",\"#2b0d96\",\"#2b0e96\",\"#2b0b96\",\"#2b0d96\",\"#2b0b96\",\"#2b0b96\",\"#2b0b96\",\"#2b0c96\",\"#2b0c96\",\"#2b0d96\",\"#2b0d96\",\"#2b0e96\",\"#2c0a96\",\"#2c0b96\",\"#2c0b96\",\"#2c0b96\",\"#2c0c96\",\"#2c0c96\",\"#2c0c96\",\"#2c0d96\",\"#2c0d96\",\"#2c0d96\",\"#2c0e96\",\"#2c0f96\",\"#2c0f96\",\"#2c0f96\",\"#2c0b96\",\"#2c0b96\",\"#2c0c96\",\"#2c0c96\",\"#2c0d96\",\"#2c0a96\",\"#2c0a96\",\"#2c0b96\",\"#2c0b96\",\"#2c0b96\",\"#2c0c96\",\"#2c0c96\",\"#2c0d96\",\"#2c0d96\",\"#2c0d96\",\"#2c0e96\",\"#2c0c96\",\"#2c0c96\",\"#2d0b96\",\"#2d0b96\",\"#2d0b96\",\"#2d0b96\",\"#2d0c96\",\"#2d0c96\",\"#2d0d96\",\"#2d0d96\",\"#2d0b96\",\"#2d0d96\",\"#2d0e96\",\"#2d0b96\",\"#2d0b96\",\"#2d0c96\",\"#2d0c96\",\"#2d0c96\",\"#2d0d96\",\"#2d0d96\",\"#2d0d96\",\"#2d0e96\",\"#2d0b96\",\"#2d0b96\",\"#2d0b96\",\"#2d0b96\",\"#2d0c96\",\"#2d0d96\",\"#2d0f96\",\"#2e0b96\",\"#2e0b96\",\"#2e0c96\",\"#2e0c96\",\"#2e0c96\",\"#2e0d96\",\"#2e0d96\",\"#2e0d96\",\"#2e0d96\",\"#2e0e96\",\"#2e0e96\",\"#2e1096\",\"#2e0b96\",\"#2e0c96\",\"#2e0d96\",\"#2e0d96\",\"#2e0e96\",\"#2e0e96\",\"#2e0e96\",\"#2e0b96\",\"#2e0c96\",\"#2e0c96\",\"#2e0c96\",\"#2e0d96\",\"#2e0d96\",\"#2e0e96\",\"#2e0e96\",\"#2e0f96\",\"#2e1796\",\"#2e0c96\",\"#2e0e96\",\"#2e0e96\",\"#2e0f96\",\"#2f0b96\",\"#2f0c96\",\"#2f0d96\",\"#2f0d96\",\"#2f0d96\",\"#2f0e96\",\"#2f0e96\",\"#2f0f96\",\"#2f0f96\",\"#2f0b96\",\"#2f0b96\",\"#2f0c96\",\"#2f0d96\",\"#2f0e96\",\"#2f0f96\",\"#2f0b96\",\"#2f0c96\",\"#2f0c96\",\"#2f0d96\",\"#2f0d96\",\"#2f0d96\",\"#2f1196\",\"#2f0b96\",\"#2f0b96\",\"#2f0c96\",\"#2f0d96\",\"#2f0e96\",\"#300b96\",\"#300d96\",\"#300d96\",\"#300b96\",\"#300c96\",\"#300c96\",\"#300d96\",\"#300d96\",\"#300d96\",\"#300d96\",\"#300e96\",\"#300e96\",\"#300f96\",\"#300c96\",\"#300c96\",\"#300d96\",\"#300d96\",\"#300e96\",\"#300e96\",\"#300f96\",\"#300c96\",\"#300c96\",\"#300d96\",\"#300e96\",\"#300f96\",\"#301296\",\"#310c96\",\"#310c96\",\"#310d96\",\"#310d96\",\"#310e96\",\"#310e96\",\"#311096\",\"#310c96\",\"#310c96\",\"#310d96\",\"#310d96\",\"#310e96\",\"#310c96\",\"#310d96\",\"#310d96\",\"#310d96\",\"#310e96\",\"#310f96\",\"#310c96\",\"#310c96\",\"#310d96\",\"#310e96\",\"#310f96\",\"#310f96\",\"#320d96\",\"#320e96\",\"#320c96\",\"#320d96\",\"#320d96\",\"#320e96\",\"#320e96\",\"#320e96\",\"#320f96\",\"#320e96\",\"#320e96\",\"#320f96\",\"#330d96\",\"#330d96\",\"#330d96\",\"#330e96\",\"#330f96\",\"#330f96\",\"#331196\",\"#330e96\",\"#330e96\",\"#330c96\",\"#330d96\",\"#330d96\",\"#330d96\",\"#330e96\",\"#330e96\",\"#330f96\",\"#330d96\",\"#340c96\",\"#340d96\",\"#340d96\",\"#340d96\",\"#340e96\",\"#341096\",\"#341196\",\"#340d96\",\"#340e96\",\"#340f96\",\"#341096\",\"#340d96\",\"#340d96\",\"#340e96\",\"#340e96\",\"#340e96\",\"#340e96\",\"#340f96\",\"#341096\",\"#340d96\",\"#340d96\",\"#340e96\",\"#341096\",\"#350d96\",\"#350e96\",\"#350e96\",\"#350e96\",\"#350f96\",\"#350f96\",\"#350f96\",\"#350d96\",\"#350e96\",\"#350d96\",\"#350e96\",\"#350e96\",\"#350f96\",\"#350d96\",\"#350e96\",\"#350e96\",\"#360e96\",\"#360e96\",\"#360f96\",\"#360e96\",\"#360e96\",\"#361096\",\"#361296\",\"#360e96\",\"#360f96\",\"#361096\",\"#360e96\",\"#360e96\",\"#360e96\",\"#360e96\",\"#360f96\",\"#370e96\",\"#370e96\",\"#370f96\",\"#370f96\",\"#370d96\",\"#370d96\",\"#370e96\",\"#370e96\",\"#370e96\",\"#370f96\",\"#370f96\",\"#371096\",\"#371096\",\"#372096\",\"#370e96\",\"#371e96\",\"#370e96\",\"#370e96\",\"#370f96\",\"#371096\",\"#380f96\",\"#380d96\",\"#380e96\",\"#380f96\",\"#380f96\",\"#381096\",\"#381096\",\"#380f96\",\"#380f96\",\"#380d96\",\"#380e96\",\"#380e96\",\"#380f96\",\"#380f96\",\"#381096\",\"#381096\",\"#381096\",\"#390e96\",\"#390f96\",\"#390f96\",\"#391096\",\"#391e96\",\"#390e96\",\"#390e96\",\"#390f96\",\"#390f96\",\"#391096\",\"#391096\",\"#390d96\",\"#390e96\",\"#390f96\",\"#390f96\",\"#390f96\",\"#391096\",\"#391096\",\"#390e96\",\"#390e96\",\"#390f96\",\"#390f96\",\"#390f96\",\"#391096\",\"#3a0e96\",\"#3a0e96\",\"#3a0f96\",\"#3a0f96\",\"#3a1196\",\"#3a0e96\",\"#3a0f96\",\"#3a0f96\",\"#3a1096\",\"#3a1096\",\"#3a1196\",\"#3a0e96\",\"#3a0f96\",\"#3a1096\",\"#3a0f96\",\"#3a1196\",\"#3b0e96\",\"#3b0f96\",\"#3b0f96\",\"#3b0f96\",\"#3b0e96\",\"#3b0f96\",\"#3b0f96\",\"#3b0f96\",\"#3b1096\",\"#3b1196\",\"#3b0e96\",\"#3b0f96\",\"#3b1096\",\"#3c0f96\",\"#3c0f96\",\"#3c1096\",\"#3c1196\",\"#3c1196\",\"#3c1396\",\"#3c1096\",\"#3c1096\",\"#3c1096\",\"#3c0f96\",\"#3d0f96\",\"#3d1096\",\"#3d1096\",\"#3d1096\",\"#3d1196\",\"#3d0f96\",\"#3d0f96\",\"#3d1096\",\"#3d1196\",\"#3d0f96\",\"#3d0f96\",\"#3d1096\",\"#3d1196\",\"#3d1296\",\"#3d1296\",\"#3d0f96\",\"#3d0f96\",\"#3d0f96\",\"#3e0e96\",\"#3e1096\",\"#3e1296\",\"#3e1896\",\"#3e0f96\",\"#3e1096\",\"#3e1096\",\"#3e1096\",\"#3e1096\",\"#3e1196\",\"#3e1196\",\"#3f1096\",\"#3f1096\",\"#3f0f96\",\"#3f1096\",\"#3f1196\",\"#3f1096\",\"#3f1196\",\"#3f1196\",\"#401096\",\"#401196\",\"#401096\",\"#401096\",\"#401096\",\"#401196\",\"#401296\",\"#401396\",\"#401096\",\"#401196\",\"#411096\",\"#411196\",\"#411096\",\"#411196\",\"#411196\",\"#411096\",\"#411096\",\"#411196\",\"#411196\",\"#411296\",\"#411d96\",\"#421296\",\"#421096\",\"#421096\",\"#421096\",\"#421196\",\"#421196\",\"#421196\",\"#421496\",\"#421296\",\"#431096\",\"#431296\",\"#431196\",\"#431296\",\"#431296\",\"#431096\",\"#431196\",\"#431296\",\"#431296\",\"#431896\",\"#431196\",\"#431296\",\"#441196\",\"#441196\",\"#441296\",\"#441c96\",\"#441096\",\"#441196\",\"#441396\",\"#451096\",\"#451396\",\"#451396\",\"#451296\",\"#451096\",\"#451196\",\"#451296\",\"#461396\",\"#461696\",\"#461196\",\"#461296\",\"#461296\",\"#461296\",\"#461396\",\"#461396\",\"#461196\",\"#461196\",\"#461296\",\"#471196\",\"#471296\",\"#471396\",\"#471496\",\"#471296\",\"#471596\",\"#481396\",\"#481196\",\"#491196\",\"#491196\",\"#491196\",\"#491396\",\"#491896\",\"#491196\",\"#491296\",\"#4a1696\",\"#4a0096\",\"#4a1296\",\"#4a1296\",\"#4a2596\",\"#4a1396\",\"#4b1296\",\"#4b1296\",\"#4b1396\",\"#4b1396\",\"#4b1496\",\"#4b1496\",\"#4b1496\",\"#4c1296\",\"#4c1496\",\"#4d1896\",\"#4d1296\",\"#4d1296\",\"#4d1896\",\"#4e1496\",\"#4e1296\",\"#4e1296\",\"#4e1796\",\"#4e1596\",\"#4e1296\",\"#4e1396\",\"#4e1496\",\"#4f1296\",\"#4f1496\",\"#4f1296\",\"#4f1496\",\"#4f1396\",\"#4f1396\",\"#4f1596\",\"#501596\",\"#501396\",\"#501396\",\"#501396\",\"#511496\",\"#511596\",\"#511496\",\"#511596\",\"#521396\",\"#521496\",\"#521496\",\"#521496\",\"#521496\",\"#521496\",\"#531496\",\"#531c96\",\"#531496\",\"#531596\",\"#541596\",\"#541596\",\"#541896\",\"#541496\",\"#551596\",\"#551596\",\"#551596\",\"#561696\",\"#561496\",\"#561496\",\"#561596\",\"#562696\",\"#571596\",\"#571596\",\"#571696\",\"#571896\",\"#571896\",\"#571996\",\"#581896\",\"#581996\",\"#581596\",\"#581596\",\"#581696\",\"#581896\",\"#581796\",\"#581896\",\"#591596\",\"#591696\",\"#591896\",\"#591696\",\"#5a1896\",\"#5a1896\",\"#5a1596\",\"#5a1696\",\"#5a1896\",\"#5b1896\",\"#5b1896\",\"#5b1696\",\"#5b1696\",\"#5b1896\",\"#5c1896\",\"#5c1796\",\"#5c1896\",\"#5c1996\",\"#5c1696\",\"#5c1896\",\"#5d1896\",\"#5d1896\",\"#5d1896\",\"#5d1896\",\"#5e1896\",\"#5e1896\",\"#5e1896\",\"#5f1796\",\"#5f1896\",\"#5f1896\",\"#5f1896\",\"#601896\",\"#601896\",\"#601696\",\"#601896\",\"#601896\",\"#611896\",\"#611896\",\"#611896\",\"#611896\",\"#611896\",\"#611696\",\"#611896\",\"#621896\",\"#621b96\",\"#621896\",\"#621896\",\"#621896\",\"#631796\",\"#631996\",\"#631896\",\"#631996\",\"#641896\",\"#641896\",\"#641796\",\"#641896\",\"#641896\",\"#651896\",\"#651896\",\"#651896\",\"#651796\",\"#651896\",\"#661896\",\"#661896\",\"#661896\",\"#661896\",\"#661996\",\"#671896\",\"#671896\",\"#671996\",\"#671896\",\"#671896\",\"#681896\",\"#681996\",\"#681896\",\"#681896\",\"#681a96\",\"#681a96\",\"#6a1896\",\"#6a1896\",\"#6a1896\",\"#6a1a96\",\"#6a1d96\",\"#6b1896\",\"#6b1a96\",\"#6b1f96\",\"#6c1896\",\"#6c1a96\",\"#6c1c96\",\"#6c2f96\",\"#6c1896\",\"#6c1996\",\"#6d1a96\",\"#6d1b96\",\"#6d1896\",\"#6e1b96\",\"#6e1896\",\"#6f1896\",\"#6f1c96\",\"#6f1896\",\"#6f1a96\",\"#6f1896\",\"#6f1b96\",\"#701896\",\"#701a96\",\"#702396\",\"#701e96\",\"#701896\",\"#711896\",\"#711896\",\"#711896\",\"#721896\",\"#721896\",\"#731896\",\"#751896\",\"#751b96\",\"#752a96\",\"#770096\",\"#771d96\",\"#772b96\",\"#781d96\",\"#781e96\",\"#7b1d96\",\"#7b2f96\",\"#7c1d96\",\"#7c3696\",\"#842a96\",\"#852096\",\"#882096\",\"#902a96\",\"#903096\",\"#914796\",\"#981896\",\"#9b4596\",\"#9d2496\",\"#9e0096\",\"#9e0196\",\"#a22596\",\"#a93696\",\"#b42f96\",\"#b62b96\",\"#d03796\",\"#d76896\",\"#fb4c96\",\"#fe5596\"],\"radius\":[7,41,10,4,3,2,2,2,1,2,4,1,2,4,4,1,3,1,2,1,1,1,1,2,1,2,3,1,1,1,1,1,1,1,2,1,3,3,6,2,1,1,1,1,3,1,2,1,1,1,1,1,1,1,1,1,1,3,7,6,1,2,1,6,3,1,1,18,16,8,3,1,1,10,5,4,1,1,1,1,11,40,22,6,1,1,9,18,12,2,1,1,2,2,1,44,53,19,12,1,1,1,21,29,9,1,1,1,31,81,76,26,12,3,1,1,1,9,35,39,18,6,1,1,52,85,68,15,5,1,1,2,1,1,13,59,28,15,3,1,1,1,1,25,115,118,47,11,6,4,4,1,12,30,39,26,10,5,1,1,5,45,94,84,38,14,3,4,1,17,49,33,19,4,2,1,28,91,91,84,36,13,8,1,1,9,19,43,22,19,7,4,1,2,42,107,114,57,25,15,3,12,21,27,23,14,2,1,12,37,38,33,14,8,2,1,1,18,60,115,86,49,27,4,3,2,1,14,20,26,18,19,3,1,1,22,74,85,59,55,10,3,1,5,25,28,33,19,2,2,1,1,3,37,81,89,89,11,5,5,1,2,17,25,46,38,6,3,1,10,60,81,103,22,7,5,1,5,18,35,43,12,5,1,1,1,3,37,61,135,29,6,6,5,1,1,3,7,22,56,10,4,7,1,1,1,14,43,145,40,27,9,7,4,1,2,1,2,16,52,13,11,1,1,3,27,112,48,39,22,6,4,2,3,1,1,1,7,41,21,13,6,4,2,1,1,11,65,51,43,30,11,5,2,4,1,1,3,21,18,20,3,9,4,2,3,52,59,50,34,14,4,4,2,1,1,1,2,22,14,18,21,10,3,1,2,37,44,69,63,38,11,5,3,1,2,13,17,18,6,4,4,2,1,4,5,14,12,5,9,2,1,1,10,29,55,43,26,23,4,11,3,2,3,7,13,15,9,4,8,1,2,14,29,37,38,30,18,9,6,3,1,1,1,1,7,12,22,20,13,6,3,1,1,8,10,28,40,30,21,11,9,6,2,3,1,1,2,4,10,13,21,11,6,5,1,1,1,5,10,30,44,44,22,10,8,6,2,3,1,2,4,10,20,10,14,7,6,2,2,1,9,25,37,43,36,24,14,7,3,3,1,1,1,5,8,9,15,6,3,2,2,3,13,27,34,32,21,9,8,3,1,1,1,1,3,4,9,14,18,6,10,6,3,1,2,6,21,25,30,24,23,11,4,3,1,2,5,6,14,6,5,9,4,1,1,1,1,2,10,27,29,23,21,19,10,3,2,4,1,1,1,1,6,2,5,10,7,4,5,1,1,12,12,21,34,22,18,15,10,2,2,2,1,2,3,10,12,14,10,2,1,2,1,2,1,1,2,9,11,23,30,21,14,3,8,2,2,1,5,16,10,5,5,3,1,1,1,3,4,9,8,13,5,6,1,1,1,1,1,4,11,18,19,23,15,12,8,2,2,1,1,1,1,1,2,7,6,8,8,5,3,1,1,1,1,2,7,8,23,16,17,15,9,9,3,1,2,1,1,1,1,5,8,10,5,4,7,1,6,2,2,7,11,9,17,20,15,10,5,5,1,1,1,1,3,1,4,8,9,8,6,4,2,2,3,5,15,13,16,19,10,9,12,2,3,1,2,1,2,3,7,4,11,5,3,3,1,1,1,6,6,15,22,19,8,6,2,3,1,1,1,1,1,7,6,9,7,7,4,3,1,1,1,1,1,6,7,12,15,10,12,16,3,2,1,1,1,2,7,6,7,7,3,3,2,1,1,1,4,11,12,27,14,16,9,5,2,1,1,1,1,3,6,5,3,14,1,2,1,1,5,13,12,12,21,15,5,2,5,3,1,1,3,3,2,2,3,4,2,2,1,2,3,5,20,17,29,8,6,4,2,1,1,2,3,1,3,6,6,2,2,1,1,6,10,10,8,26,7,6,1,4,2,1,1,1,1,1,4,13,2,3,1,1,1,1,1,4,7,16,23,10,6,5,1,1,1,1,1,1,2,7,1,1,1,1,1,2,2,1,2,2,14,5,3,2,2,1,1,1,4,6,8,13,10,6,5,7,1,3,1,1,2,8,6,3,1,2,1,1,1,1,4,5,27,14,10,9,5,4,2,2,1,1,1,1,4,10,2,6,3,3,1,1,1,2,7,13,9,6,12,6,5,1,3,1,1,1,1,3,8,6,4,2,1,1,1,4,12,11,14,11,4,8,2,2,3,1,1,1,2,1,8,4,5,4,2,3,1,1,6,10,9,9,10,6,3,5,1,3,1,2,2,2,5,1,2,4,1,3,1,1,2,13,4,9,5,7,6,8,1,4,2,1,1,1,5,3,5,3,7,2,2,1,2,2,1,1,6,6,4,8,6,6,5,5,3,2,1,1,2,1,2,1,1,4,2,1,1,2,1,1,1,5,9,10,8,13,7,2,3,2,1,1,1,3,1,1,3,5,3,4,2,3,2,2,1,7,3,7,10,10,2,8,4,2,4,2,1,1,1,1,2,1,4,1,4,2,2,1,2,3,6,6,9,14,4,7,4,5,1,1,1,1,1,1,3,2,2,2,1,1,1,2,1,1,2,3,2,3,1,1,2,1,1,2,4,7,5,9,6,5,7,1,2,1,3,1,1,1,1,1,1,3,1,3,3,1,3,3,8,3,2,7,3,6,5,3,2,2,1,1,2,1,2,5,5,3,2,3,1,1,2,1,5,4,6,4,5,11,2,2,2,2,2,3,2,2,1,1,2,2,5,4,3,1,1,5,2,3,1,1,1,3,10,8,5,4,4,6,5,3,1,2,1,1,1,1,3,1,1,4,1,4,2,1,1,1,1,1,2,4,4,6,2,6,3,6,2,5,4,1,1,2,1,2,1,2,2,1,4,8,8,8,5,3,4,4,3,1,1,1,2,1,5,5,3,1,2,2,1,1,3,2,2,5,6,9,5,2,1,3,1,1,2,1,2,1,1,2,1,1,1,3,1,10,4,5,10,2,5,6,1,2,4,2,1,1,1,1,1,1,5,3,6,5,7,4,4,5,3,1,1,3,2,2,1,2,2,1,2,1,2,1,1,3,2,1,1,1,1,1,3,2,4,5,4,2,7,6,2,2,1,1,1,1,1,3,1,1,3,1,1,1,1,3,7,4,7,5,4,6,1,2,1,1,1,1,1,1,1,2,3,2,3,1,1,1,2,4,6,2,10,1,9,4,1,1,1,1,1,3,2,5,2,2,1,1,4,2,5,7,4,3,1,2,1,1,1,1,2,1,1,2,2,1,1,1,2,1,3,4,1,4,4,6,1,1,1,1,1,1,1,3,1,1,1,1,2,2,2,2,6,2,7,3,3,3,3,1,1,1,1,3,2,1,1,1,1,2,1,3,2,1,1,2,4,3,3,2,1,1,1,2,2,2,1,1,1,1,1,1,1,1,2,1,3,3,4,14,2,1,4,4,2,1,1,2,2,1,1,1,4,6,3,1,4,3,3,1,1,1,1,2,1,5,1,2,1,1,1,1,3,4,1,3,4,1,1,1,1,1,1,1,1,1,1,1,1,3,1,1,1,4,3,1,2,4,2,3,1,2,1,1,1,1,1,2,1,1,1,1,6,4,3,2,2,1,2,1,1,3,1,1,1,2,1,3,3,3,2,1,2,1,1,2,2,1,1,1,2,8,2,2,2,2,2,2,1,1,1,1,1,2,1,1,1,4,1,5,2,2,1,3,1,1,1,1,1,1,2,3,3,1,2,2,2,1,1,1,4,1,2,1,1,1,1,1,1,1,1,1,2,4,1,2,1,3,1,1,1,1,1,2,3,1,1,1,2,1,2,1,1,4,3,2,1,1,1,1,1,2,1,1,1,2,1,5,1,2,1,1,1,1,1,1,1,1,2,2,1,1,1,1,2,5,2,1,2,1,1,1,1,2,1,1,1,2,1,1,1,3,2,1,3,1,1,1,2,2,2,1,1,4,1,2,2,1,1,1,1,2,2,1,2,2,1,1,2,1,1,2,2,2,1,4,2,1,1,1,1,1,2,1,1,1,1,1,3,3,1,2,1,1,1,2,1,1,1,1,1,5,4,3,4,2,1,2,1,1,1,1,1,3,3,1,4,2,1,1,1,1,1,1,1,1,1,1,1,1,2,2,1,2,1,1,1,1,1,2,1,1,1,1,1,3,2,1,2,2,2,1,3,1,1,2,1,1,1,1,2,1,2,4,2,1,1,1,1,2,1,1,1,1,1,4,2,2,3,2,1,1,1,1,2,1,1,1,1,2,1,1,2,1,1,2,1,1,1,1,1,1,4,2,3,2,1,1,1,2,1,1,1,1,1,1,3,1,1,1,2,2,1,2,3,1,1,1,1,1,1,3,2,1,2,1,2,1,1,1,1,1,1,3,1,1,2,1,1,1,2,2,1,1,1,1,1,1,1,1,3,1,2,1,1,1,3,1,1,3,1,1,1,1,1,1,2,2,4,3,1,1,1,1,1,1,1,1,2,1,2,1,2,1,1,1,1,1,1,1,1,1,3,1,2,1,1,1,2,1,1,1,1,1,1,4,1,2,2,1,1,1,1,1,1,2,1,3,2,1,1,1,1,1,1,1,3,1,1,1,1,3,2,2,2,1,1,1,1,1,1,1,1,1,1,1,1,1,1,1,1,1,2,1,1,1,1,1,1,1,1,1,1,1,2,1,1,1,1,1,2,1,1,1,1,2,1,3,1,1,1,1,1,1,1,1,1,2,1,1,1,3,2,1,1,1,1,1,1,1,1,1,2,1,1,1,1,1,1,1,1,1,2,1,1,1,1,1,1,1,1,1,1,1,1,1,1,1,1,1,1,1,1,1,1,1,1,1,2,1,1,1,1,1,1,1,1,1,1,1,2,1,1,1,1,1,2,2,1,1,1,1,2,1,1,1,1,1,1,1,1,1,2,1,1,1,1,1,1,1,1,3,1,1,1,1,1,1,1,1,2,1,1,1,1,1,1,1,1,1,1,1,1,1,1,1,1,1,1,1,2,1,1,1,1,1,1,1,1,1,1,1,1,1,1,1,2,1,1,1,1,1,1,1,1,1,1,1,1,1,1,1,1,1,1,1,1,1,1,1,1,1,1,1,1,1,1,1,1,1,1,1,1,1,1,1,1,1,1,1,1,1,1,1,1,1,1,1,1,1,1,1,1,1,1,1,1,1,1,1,1,1,1,1,1,1,1,1,1,1,3,1,1,1,1,2,1,1,1,1,1,1,1,1,3,1,1,1,1,2,1,1,2,1,1,1,1,3,2,1,2,3,5,1,3,1,5,1,1,1,4,1,1,3,1,3,1,1,2,2,1,2,1,1,1,1,1,1,1,4,1,2,2,2,1,2,1,1,1,2,2,1,1,2,1,1,2,2,4,1,2,3,1,1,3,1,1,1,1,4,1,1,1,1,1,1,1,1,1,1,2,1,1,1,1,1,1,2,1,1,1,1,1,1,1,2,1,1,2,1,1,1,1,1,1,1,1,1,1,1,1,1,1,1,1,1,1,1,1,1,1,1,1,1,1,1,1,1,1,1,1],\"x\":[0,0,0,0,0,0,0,0,0,0,0,0,0,0,0,0,0,0,0,0,0,0,0,0,0,0,0,0,0,0,0,0,0,0,0,0,0,0,0,0,0,0,0,0,0,0,0,0,0,0,0,0,0,0,0,0,0,1,1,1,1,2,2,2,2,2,2,3,3,3,3,3,4,4,4,4,4,4,4,4,5,5,5,5,5,5,6,6,6,6,6,6,7,7,7,7,7,7,7,7,7,7,8,8,8,8,8,9,9,9,9,9,9,9,9,9,10,10,10,10,10,10,11,11,11,11,11,11,11,11,11,11,11,12,12,12,12,12,12,12,12,12,13,13,13,13,13,13,13,13,13,14,14,14,14,14,14,14,14,15,15,15,15,15,15,15,15,15,15,16,16,16,16,16,16,16,17,17,17,17,17,17,17,17,18,18,18,18,18,18,18,18,19,19,19,19,19,19,19,19,19,20,20,20,20,20,20,20,21,21,21,21,21,21,21,21,22,22,22,22,22,22,22,22,22,22,23,23,23,23,23,23,23,23,24,24,24,24,24,24,24,24,24,25,25,25,25,25,25,25,25,26,26,26,26,26,26,26,26,26,26,27,27,27,27,27,27,27,27,28,28,28,28,28,28,28,28,29,29,29,29,29,29,29,29,29,30,30,30,30,30,30,30,30,30,30,31,31,31,31,31,31,31,31,31,32,32,32,32,32,32,32,32,32,32,32,32,33,33,33,33,33,33,33,34,34,34,34,34,34,34,34,34,34,34,34,34,35,35,35,35,35,35,35,35,36,36,36,36,36,36,36,36,36,36,36,36,37,37,37,37,37,37,37,38,38,38,38,38,38,38,38,38,38,38,38,38,39,39,39,39,39,39,39,39,39,40,40,40,40,40,40,40,40,40,40,41,41,41,41,41,41,41,41,42,42,42,42,42,42,42,42,42,43,43,43,43,43,43,43,43,43,43,44,44,44,44,44,44,44,44,45,45,45,45,45,45,45,45,45,45,45,45,45,46,46,46,46,46,46,46,46,46,47,47,47,47,47,47,47,47,47,47,47,47,47,47,48,48,48,48,48,48,48,48,48,48,48,49,49,49,49,49,49,49,49,49,49,49,49,50,50,50,50,50,50,50,50,50,50,51,51,51,51,51,51,51,51,51,51,51,51,52,52,52,52,52,52,52,52,52,52,53,53,53,53,53,53,53,53,53,53,53,53,53,54,54,54,54,54,54,54,54,54,54,55,55,55,55,55,55,55,55,55,55,55,55,56,56,56,56,56,56,56,56,56,56,57,57,57,57,57,57,57,57,57,57,57,57,57,57,57,58,58,58,58,58,58,58,58,58,58,59,59,59,59,59,59,59,59,59,59,59,60,60,60,60,60,60,60,60,60,60,60,60,60,61,61,61,61,61,61,61,61,61,61,61,61,62,62,62,62,62,62,62,62,62,63,63,63,63,63,63,63,63,63,63,63,63,64,64,64,64,64,64,64,64,64,64,64,64,64,64,64,65,65,65,65,65,65,65,65,65,65,65,65,66,66,66,66,66,66,66,66,66,66,66,66,66,66,67,67,67,67,67,67,67,67,67,67,67,68,68,68,68,68,68,68,68,68,68,68,68,68,68,69,69,69,69,69,69,69,69,69,69,70,70,70,70,70,70,70,70,70,70,70,70,70,71,71,71,71,71,71,71,71,71,71,71,72,72,72,72,72,72,72,72,72,72,72,72,72,73,73,73,73,73,73,73,73,73,73,73,73,73,74,74,74,74,74,74,74,74,74,74,74,74,75,75,75,75,75,75,75,75,75,75,75,76,76,76,76,76,76,76,76,76,76,76,76,77,77,77,77,77,77,77,77,77,77,78,78,78,78,78,78,78,78,78,78,78,78,79,79,79,79,79,79,79,79,79,80,80,80,80,80,80,80,80,80,80,80,80,80,81,81,81,81,81,81,81,81,81,81,82,82,82,82,82,82,82,82,82,82,82,82,82,82,83,83,83,83,83,83,83,83,84,84,84,84,84,84,84,84,84,84,84,84,84,85,85,85,85,85,85,85,85,85,86,86,86,86,86,86,86,86,86,86,86,86,87,87,87,87,87,87,87,87,87,87,87,87,88,88,88,88,88,88,88,88,88,88,89,89,89,89,89,89,89,89,89,89,89,89,89,89,90,90,90,90,90,90,90,90,90,90,91,91,91,91,91,91,91,91,91,91,91,91,91,92,92,92,92,92,92,92,92,92,93,93,93,93,93,93,93,93,93,93,93,93,93,94,94,94,94,94,94,94,94,94,95,95,95,95,95,95,95,95,95,95,95,95,95,96,96,96,96,96,96,96,96,96,96,97,97,97,97,97,97,97,97,97,97,97,97,97,98,98,98,98,98,98,98,98,98,98,98,98,99,99,99,99,99,99,99,99,99,99,99,99,99,99,99,100,100,100,100,100,100,100,100,100,100,100,101,101,101,101,101,101,101,101,101,101,101,101,101,102,102,102,102,102,102,102,102,102,102,102,103,103,103,103,103,103,103,103,103,103,103,103,103,103,103,104,104,104,104,104,104,104,104,105,105,105,105,105,105,105,105,105,105,105,105,106,106,106,106,106,106,106,106,106,106,106,107,107,107,107,107,107,107,107,107,107,107,107,108,108,108,108,108,108,108,108,108,108,108,108,108,108,108,109,109,109,109,109,109,109,109,110,110,110,110,110,110,110,110,110,110,110,110,110,110,110,111,111,111,111,111,111,111,111,111,111,112,112,112,112,112,112,112,112,112,112,112,112,112,112,112,113,113,113,113,113,113,113,113,113,113,113,113,113,113,114,114,114,114,114,114,114,114,114,114,114,114,114,114,114,114,115,115,115,115,115,115,115,115,115,115,115,115,116,116,116,116,116,116,116,116,116,116,116,116,116,117,117,117,117,117,117,117,118,118,118,118,118,118,118,118,118,118,118,119,119,119,119,119,119,119,119,119,119,119,120,120,120,120,120,120,120,120,120,120,120,121,121,121,121,121,121,121,121,121,122,122,122,122,122,122,122,122,122,122,122,123,123,123,123,123,123,123,124,124,124,124,124,124,124,124,124,124,124,124,125,125,125,125,125,125,125,125,125,126,126,126,126,126,126,126,126,126,127,127,127,127,127,127,127,127,127,127,127,127,127,127,128,128,128,128,128,128,128,128,128,128,129,129,129,129,129,129,129,129,129,129,129,129,129,129,130,130,130,130,130,130,130,130,130,130,131,131,131,131,131,131,131,131,131,131,131,132,132,132,132,132,133,133,133,133,133,133,133,133,133,133,133,133,133,133,133,133,134,134,134,134,134,134,134,135,135,135,135,135,135,135,135,135,135,135,135,135,136,136,136,136,136,136,136,136,137,137,137,137,137,137,137,137,137,137,137,137,137,137,138,138,138,138,138,138,138,138,139,139,139,139,139,139,139,139,139,139,139,139,140,140,140,140,140,140,140,140,140,140,140,140,141,141,141,141,141,141,141,141,141,141,142,142,142,142,142,142,142,142,143,143,143,143,143,143,143,143,143,143,144,144,144,144,144,144,144,144,144,145,145,145,145,145,145,145,145,145,145,146,146,146,147,147,147,147,147,147,147,147,148,148,148,148,148,148,148,148,148,148,149,149,149,149,149,149,149,150,150,150,150,150,150,150,150,150,150,150,150,151,151,151,151,152,152,152,152,152,152,152,152,152,152,153,153,153,153,154,154,154,154,154,154,154,154,154,154,155,155,155,155,155,155,155,156,156,156,156,156,156,156,156,156,156,157,157,157,157,157,158,158,158,158,158,158,158,158,158,158,158,158,158,158,158,159,159,159,159,159,159,160,160,160,160,160,160,160,160,160,160,161,161,161,161,161,161,162,162,162,162,162,162,162,162,162,162,162,163,163,163,163,164,164,164,164,164,164,164,164,164,164,164,164,164,165,165,165,165,165,166,166,166,166,166,166,166,166,166,166,167,167,167,167,168,168,169,169,169,169,169,169,169,169,169,169,170,170,170,170,170,170,170,170,170,170,171,171,172,172,172,172,172,172,172,172,173,173,173,173,173,173,173,173,173,173,173,173,173,173,174,174,174,174,174,175,175,175,175,175,175,175,175,175,175,175,176,176,177,177,177,177,177,177,177,177,178,178,178,179,179,179,179,179,179,179,179,179,180,180,180,180,180,180,180,181,181,181,181,181,181,181,181,181,181,181,181,182,182,182,182,182,182,182,183,183,183,183,183,183,183,183,183,183,184,184,184,184,185,185,185,185,185,185,185,185,185,186,186,186,186,186,186,187,187,187,187,187,187,187,188,188,188,188,188,189,189,189,190,190,190,190,190,190,190,190,190,190,191,191,191,191,191,191,191,192,192,192,192,192,192,193,193,193,193,193,193,193,194,194,194,194,194,195,195,195,195,195,195,196,196,196,196,196,196,197,197,198,198,198,198,198,198,198,199,199,199,200,200,200,200,200,200,200,201,201,202,202,202,202,202,202,202,203,204,204,204,204,204,204,204,205,205,205,205,206,206,206,206,206,206,206,206,207,207,207,207,208,208,208,208,208,208,208,209,209,210,210,210,210,211,211,211,212,212,212,213,213,213,213,214,214,214,215,215,215,215,215,216,216,216,216,217,217,217,217,217,217,217,217,217,217,218,218,219,219,219,219,220,221,221,221,221,221,221,222,222,223,223,223,223,223,223,223,223,224,224,224,224,224,225,225,225,225,225,225,226,226,226,226,226,226,226,227,227,227,227,227,227,228,228,228,228,228,229,229,229,229,229,229,230,230,230,231,231,232,232,233,233,234,234,234,234,234,234,235,235,235,236,236,236,236,236,236,237,238,238,239,240,240,240,240,240,241,241,241,241,242,242,242,242,242,242,243,243,243,244,244,244,244,245,245,246,246,246,246,247,248,248,249,249,249,250,250,250,251,251,253,253,253,253,253,253,254,254,255,255,256,256,256,257,257,257,257,257,257,259,261,261,261,261,261,261,261,262,263,263,264,264,264,265,265,265,265,265,266,266,267,267,267,267,270,270,270,271,271,271,272,274,274,274,275,275,276,276,276,276,276,277,278,278,278,279,280,280,281,282,282,284,286,287,288,288,288,288,290,290,291,292,292,292,292,294,295,295,295,295,295,296,297,301,301,302,303,305,305,306,307,307,307,308,309,309,309,310,310,311,311,313,313,313,315,316,316,317,318,318,321,321,322,322,323,323,324,325,326,326,328,328,330,330,330,332,335,337,337,338,339,341,341,341,344,345,345,345,345,345,346,346,347,347,347,348,349,349,350,350,350,351,353,354,355,355,355,358,359,360,360,360,361,362,362,362,363,364,366,367,368,368,369,370,372,373,374,375,376,377,378,379,379,380,381,381,382,383,383,384,384,385,385,386,387,388,389,391,392,392,393,393,395,395,396,397,398,398,399,399,400,400,402,402,403,404,405,405,406,407,408,408,409,410,410,410,416,417,418,418,418,421,421,423,424,424,425,426,427,427,430,430,431,433,435,436,437,438,438,439,439,441,441,441,442,443,444,445,447,448,450,452,459,459,460,467,467,467,471,474,483,483,488,488,519,523,537,565,566,572,599,608,618,622,622,638,666,707,717,817,847,985,999],\"y\":[0,3,4,5,6,7,8,10,11,12,13,14,15,16,17,18,19,20,21,22,24,25,26,27,30,32,36,37,41,48,53,55,58,61,73,77,83,92,96,109,111,119,124,127,129,135,148,161,170,214,223,230,244,279,372,625,999,3,4,5,96,0,3,4,5,6,13,4,5,6,7,9,0,4,5,6,7,8,11,559,4,5,6,7,8,36,4,5,6,7,8,11,0,3,4,5,6,7,8,9,14,17,5,6,7,8,14,3,5,6,7,8,9,10,11,17,0,5,6,7,8,9,3,5,6,7,8,9,10,11,12,13,19,0,6,7,8,9,10,11,12,13,3,6,7,8,9,10,11,12,13,0,6,7,8,9,10,11,13,3,6,7,8,9,10,11,12,13,16,7,8,9,10,11,12,13,7,8,9,10,11,12,13,14,0,7,8,9,10,11,12,13,0,7,8,9,10,11,12,13,14,8,9,10,11,12,13,14,8,9,10,11,12,13,14,26,3,8,9,10,11,12,13,14,15,16,8,9,10,11,12,13,14,15,3,9,10,11,12,13,14,15,17,9,10,11,12,13,14,15,16,0,9,10,11,12,13,14,15,16,17,9,10,11,12,13,14,15,16,10,11,12,13,14,15,16,92,10,11,12,13,14,15,16,17,20,10,11,12,13,14,15,16,17,18,21,10,11,12,13,14,15,16,17,21,10,11,12,13,14,15,16,17,18,19,20,21,11,12,13,14,15,16,18,11,12,13,14,15,16,17,18,19,20,22,96,109,12,13,14,15,16,17,19,24,11,12,13,14,15,16,17,18,19,20,22,24,12,13,14,15,16,17,18,3,12,13,14,15,16,17,18,19,20,22,23,26,12,13,14,15,16,17,18,19,21,13,14,15,16,17,18,19,20,23,24,13,14,15,16,17,18,19,20,13,14,15,16,17,18,19,20,23,13,14,15,16,17,18,19,20,21,22,13,14,15,16,17,18,19,20,13,14,15,16,17,18,19,20,21,22,24,25,26,13,14,15,16,17,18,19,20,23,13,14,15,16,17,18,19,20,21,22,23,24,26,27,13,14,15,16,17,18,19,20,21,22,24,14,15,16,17,18,19,20,21,22,23,24,27,14,15,16,17,18,19,20,21,22,23,14,15,16,17,18,19,20,21,22,23,24,25,14,15,16,17,18,19,20,21,22,23,15,16,17,18,19,20,21,22,23,24,25,30,31,15,16,17,18,19,20,21,22,23,25,15,16,17,18,19,20,21,22,23,24,26,27,17,18,19,20,21,22,23,24,26,96,3,16,17,18,19,20,21,22,23,24,25,26,27,28,32,16,17,18,19,20,21,22,23,25,27,17,18,19,20,21,22,23,24,25,26,27,16,17,18,19,20,21,22,23,24,25,26,29,33,16,17,18,19,20,21,22,23,24,25,26,27,17,19,20,21,22,23,24,25,26,17,18,19,20,21,22,23,24,25,28,29,41,17,18,19,20,21,22,23,24,25,26,27,28,32,35,90,18,19,20,21,22,23,24,25,26,27,28,96,18,19,20,21,22,23,24,25,26,27,28,29,30,132,18,19,20,21,22,23,24,25,26,27,28,18,19,20,21,22,23,24,25,26,27,28,29,31,32,20,21,22,23,24,25,26,27,29,30,19,20,21,22,23,24,25,26,27,28,29,30,111,0,20,21,22,23,24,25,26,27,28,29,19,21,22,23,24,25,26,27,28,30,32,41,73,19,21,22,23,24,25,26,27,28,29,30,37,129,20,21,22,23,24,25,26,27,28,29,30,92,20,21,22,24,25,26,27,28,29,39,92,21,22,23,24,25,26,27,28,29,30,34,111,21,22,23,24,25,26,27,28,29,54,21,22,23,24,25,26,27,28,29,30,31,35,21,22,23,24,25,26,27,28,29,21,22,23,24,25,26,27,28,29,30,31,37,88,22,23,24,25,26,27,28,29,30,31,23,24,25,26,27,28,29,30,31,32,33,34,41,111,25,26,27,28,29,31,33,35,22,23,24,25,26,27,28,29,30,32,33,36,92,23,24,26,27,28,29,30,34,37,22,23,24,25,26,27,28,29,30,31,32,36,23,24,25,26,27,28,29,30,31,32,33,35,25,26,27,28,29,30,31,32,33,35,24,25,26,27,28,29,30,31,32,34,36,41,64,73,25,26,27,28,29,30,31,32,35,92,25,26,27,28,29,30,31,32,33,34,37,48,83,25,26,27,28,29,30,31,33,38,26,27,28,29,30,31,32,33,34,35,37,39,83,25,26,27,28,29,30,31,32,34,26,27,28,29,30,31,32,33,34,35,36,37,39,26,27,28,29,30,31,32,33,34,38,26,27,28,29,30,31,32,33,34,35,38,73,111,26,27,28,29,30,31,32,33,34,35,38,96,26,27,28,29,30,31,32,33,34,35,36,38,39,40,42,27,29,30,31,32,33,34,35,37,39,42,27,29,30,31,32,33,34,35,36,37,39,40,41,27,28,29,30,31,32,33,34,35,37,39,27,28,29,30,31,32,33,34,35,36,37,40,41,42,45,29,30,31,32,33,34,36,37,27,28,29,30,31,32,33,34,35,37,38,50,27,28,30,31,33,35,36,37,38,40,46,28,29,30,31,32,33,34,35,38,39,43,111,28,30,31,32,33,34,35,36,37,38,39,40,41,43,111,29,31,32,33,34,35,36,37,28,29,30,31,32,33,34,35,36,37,38,40,42,46,48,30,31,32,33,34,35,36,39,40,41,28,30,31,32,33,34,35,36,37,38,39,40,41,42,43,28,30,31,32,33,34,35,36,37,38,39,41,45,47,30,31,32,33,34,35,36,37,38,39,40,41,43,45,83,92,31,32,33,34,35,36,37,38,39,40,45,92,31,32,33,34,35,36,37,38,39,40,41,47,48,31,32,33,34,35,36,41,32,33,34,35,36,37,38,39,40,41,77,30,31,32,34,35,36,37,38,39,41,48,32,33,34,35,36,37,38,39,40,41,43,31,33,34,35,36,38,41,45,52,31,33,34,35,36,37,38,39,40,41,43,34,35,36,37,38,41,42,32,33,34,35,36,37,38,39,40,41,42,55,33,34,35,36,38,40,41,42,43,33,34,35,37,39,41,42,43,44,30,33,34,35,36,37,38,39,40,41,42,43,46,48,34,35,36,37,38,39,41,44,45,77,33,34,36,37,38,39,40,41,42,43,44,46,59,92,33,35,36,37,38,40,41,42,49,111,35,36,37,38,39,40,41,42,44,50,52,36,37,38,39,41,34,35,36,37,38,39,40,41,42,43,44,45,46,47,52,74,36,37,38,39,40,41,47,34,35,36,37,38,39,40,41,42,43,46,47,96,34,35,36,37,39,42,44,50,35,36,37,38,39,40,41,42,43,44,45,49,50,60,35,37,38,41,42,43,44,46,35,36,37,38,39,40,41,43,44,46,47,48,37,38,39,41,43,44,45,46,47,49,50,52,36,37,38,39,40,41,42,43,44,46,36,37,39,40,41,43,44,45,37,38,39,40,41,42,43,46,48,50,38,39,40,41,42,43,45,59,111,39,40,42,43,44,45,46,48,50,54,38,40,41,37,38,39,41,42,46,47,120,0,40,41,42,43,44,45,46,48,51,39,40,41,45,48,49,53,3,38,39,40,41,42,43,44,46,47,48,56,41,42,44,59,39,40,41,42,43,44,45,46,50,56,41,45,46,55,39,40,41,42,43,44,45,46,47,50,39,41,42,45,46,47,53,39,40,41,43,44,45,46,47,49,52,41,43,45,46,48,40,41,42,43,44,45,46,47,48,49,52,53,54,57,59,41,43,47,49,51,63,43,45,46,47,48,49,51,54,58,61,41,43,47,48,50,53,41,43,44,45,47,48,49,50,51,52,53,42,47,48,57,41,42,43,44,45,46,47,48,49,51,53,57,66,45,47,49,50,67,41,42,44,45,46,47,49,51,52,56,42,44,49,52,46,47,42,43,45,46,47,48,49,51,55,96,42,44,45,47,48,49,50,52,53,55,47,52,44,45,46,49,50,52,54,55,43,44,45,46,48,49,50,51,52,53,55,59,60,61,45,47,48,50,51,42,43,45,46,47,49,50,51,52,53,57,48,49,44,45,46,47,48,50,52,53,47,53,55,46,47,48,49,50,51,52,53,56,44,45,46,47,48,51,61,46,47,48,49,50,51,52,53,54,55,58,66,47,48,51,54,55,56,58,46,48,49,50,52,54,55,56,59,92,48,55,57,60,46,49,51,52,53,56,58,60,61,46,47,50,51,56,61,47,49,50,51,52,53,67,46,47,48,54,56,47,51,52,47,48,50,51,52,53,54,55,58,60,49,50,51,52,55,56,59,48,50,52,56,59,71,48,49,52,53,55,58,65,48,50,53,54,56,49,51,53,54,56,60,49,50,52,58,60,62,52,56,49,51,54,55,57,58,61,55,58,59,51,53,54,56,59,60,68,55,56,50,52,53,54,55,57,59,53,50,52,53,54,57,63,69,54,56,60,63,52,54,55,56,57,58,61,64,51,53,56,66,54,55,56,57,59,60,62,54,55,54,55,56,62,53,55,57,55,56,60,56,57,64,71,57,61,63,55,56,57,58,59,57,58,59,60,53,54,56,57,58,59,60,63,64,129,56,120,55,56,60,66,62,54,56,61,62,63,64,59,60,54,56,57,60,62,63,64,65,56,59,60,65,120,55,58,59,62,63,64,54,56,60,61,62,63,65,56,57,59,60,61,64,57,58,60,62,70,58,60,62,63,65,67,56,61,64,61,69,58,60,60,61,58,59,60,62,64,68,57,62,63,61,62,64,67,69,76,64,64,65,60,61,63,64,65,69,59,62,66,70,59,61,64,68,73,74,60,61,62,58,63,72,96,62,65,64,65,66,68,70,63,66,62,63,68,63,67,69,64,69,64,65,66,68,72,75,65,70,66,70,63,67,70,65,66,67,69,71,116,73,64,65,66,67,69,70,81,72,66,74,70,72,74,66,68,71,72,95,70,72,67,68,72,111,65,68,76,66,76,77,72,65,70,74,77,87,67,71,72,73,77,75,69,70,72,70,73,75,79,73,84,75,69,70,68,70,77,96,70,73,89,3,73,74,148,76,73,74,76,77,79,79,82,74,82,96,74,74,96,81,73,74,91,83,74,75,82,74,81,74,80,76,77,83,84,76,77,76,79,83,80,83,77,80,79,80,81,81,79,112,82,83,85,86,96,81,84,83,84,87,81,82,83,152,86,83,90,96,97,101,96,100,84,85,89,96,92,96,84,89,96,87,96,96,84,89,96,96,96,88,90,96,96,94,96,99,88,96,96,96,96,97,96,96,96,92,96,96,96,96,96,88,96,96,95,96,96,96,97,90,96,96,108,96,96,96,93,101,96,100,95,96,92,96,96,96,95,96,93,96,95,96,96,97,99,96,96,100,96,96,96,99,96,96,104,105,96,96,96,105,117,96,102,122,96,102,111,185,96,101,105,107,96,106,96,96,110,96,103,96,108,96,104,139,119,96,96,96,96,96,96,96,96,107,167,0,116,170,115,119,114,185,115,214,167,128,127,167,192,279,96,273,144,3,6,148,213,185,169,218,411,299,335]},\"selected\":{\"id\":\"1069\",\"type\":\"Selection\"},\"selection_policy\":{\"id\":\"1070\",\"type\":\"UnionRenderers\"}},\"id\":\"1055\",\"type\":\"ColumnDataSource\"},{\"attributes\":{\"callback\":null,\"overlay\":{\"id\":\"1045\",\"type\":\"BoxAnnotation\"}},\"id\":\"1032\",\"type\":\"BoxSelectTool\"},{\"attributes\":{\"callback\":null},\"id\":\"1006\",\"type\":\"DataRange1d\"},{\"attributes\":{\"data_source\":{\"id\":\"1055\",\"type\":\"ColumnDataSource\"},\"glyph\":{\"id\":\"1056\",\"type\":\"Circle\"},\"hover_glyph\":null,\"muted_glyph\":null,\"nonselection_glyph\":{\"id\":\"1057\",\"type\":\"Circle\"},\"selection_glyph\":null,\"view\":{\"id\":\"1059\",\"type\":\"CDSView\"}},\"id\":\"1058\",\"type\":\"GlyphRenderer\"},{\"attributes\":{\"axis_label\":\"fair amount\",\"formatter\":{\"id\":\"1064\",\"type\":\"BasicTickFormatter\"},\"plot\":{\"id\":\"1004\",\"subtype\":\"Figure\",\"type\":\"Plot\"},\"ticker\":{\"id\":\"1020\",\"type\":\"BasicTicker\"}},\"id\":\"1019\",\"type\":\"LinearAxis\"},{\"attributes\":{\"callback\":null},\"id\":\"1008\",\"type\":\"DataRange1d\"},{\"attributes\":{\"fill_alpha\":{\"value\":0.5},\"fill_color\":{\"value\":\"lightgrey\"},\"level\":\"overlay\",\"line_alpha\":{\"value\":1.0},\"line_color\":{\"value\":\"black\"},\"line_dash\":[4,4],\"line_width\":{\"value\":2},\"plot\":null,\"xs_units\":\"screen\",\"ys_units\":\"screen\"},\"id\":\"1051\",\"type\":\"PolyAnnotation\"},{\"attributes\":{},\"id\":\"1010\",\"type\":\"LinearScale\"},{\"attributes\":{},\"id\":\"1062\",\"type\":\"BasicTickFormatter\"},{\"attributes\":{},\"id\":\"1012\",\"type\":\"LinearScale\"},{\"attributes\":{\"dimension\":1,\"plot\":{\"id\":\"1004\",\"subtype\":\"Figure\",\"type\":\"Plot\"},\"ticker\":{\"id\":\"1020\",\"type\":\"BasicTicker\"}},\"id\":\"1023\",\"type\":\"Grid\"},{\"attributes\":{\"axis_label\":\"distance\",\"formatter\":{\"id\":\"1062\",\"type\":\"BasicTickFormatter\"},\"plot\":{\"id\":\"1004\",\"subtype\":\"Figure\",\"type\":\"Plot\"},\"ticker\":{\"id\":\"1015\",\"type\":\"BasicTicker\"}},\"id\":\"1014\",\"type\":\"LinearAxis\"},{\"attributes\":{\"bottom_units\":\"screen\",\"fill_alpha\":{\"value\":0.5},\"fill_color\":{\"value\":\"lightgrey\"},\"left_units\":\"screen\",\"level\":\"overlay\",\"line_alpha\":{\"value\":1.0},\"line_color\":{\"value\":\"black\"},\"line_dash\":[4,4],\"line_width\":{\"value\":2},\"plot\":null,\"render_mode\":\"css\",\"right_units\":\"screen\",\"top_units\":\"screen\"},\"id\":\"1039\",\"type\":\"BoxAnnotation\"},{\"attributes\":{},\"id\":\"1064\",\"type\":\"BasicTickFormatter\"},{\"attributes\":{},\"id\":\"1070\",\"type\":\"UnionRenderers\"},{\"attributes\":{},\"id\":\"1069\",\"type\":\"Selection\"},{\"attributes\":{},\"id\":\"1015\",\"type\":\"BasicTicker\"},{\"attributes\":{\"callback\":null,\"overlay\":{\"id\":\"1051\",\"type\":\"PolyAnnotation\"}},\"id\":\"1034\",\"type\":\"LassoSelectTool\"},{\"attributes\":{\"plot\":{\"id\":\"1004\",\"subtype\":\"Figure\",\"type\":\"Plot\"},\"ticker\":{\"id\":\"1015\",\"type\":\"BasicTicker\"}},\"id\":\"1018\",\"type\":\"Grid\"},{\"attributes\":{},\"id\":\"1025\",\"type\":\"CrosshairTool\"},{\"attributes\":{\"callback\":null},\"id\":\"1030\",\"type\":\"TapTool\"}],\"root_ids\":[\"1004\"]},\"title\":\"Bokeh Application\",\"version\":\"1.0.4\"}};\n",
       "  var render_items = [{\"docid\":\"8673585c-ba55-4800-8aa6-71c72f312b71\",\"notebook_comms_target\":\"1071\",\"roots\":{\"1004\":\"38e8b5a1-a196-48d8-952b-827733238546\"}}];\n",
       "  root.Bokeh.embed.embed_items_notebook(docs_json, render_items);\n",
       "\n",
       "  }\n",
       "  if (root.Bokeh !== undefined) {\n",
       "    embed_document(root);\n",
       "  } else {\n",
       "    var attempts = 0;\n",
       "    var timer = setInterval(function(root) {\n",
       "      if (root.Bokeh !== undefined) {\n",
       "        embed_document(root);\n",
       "        clearInterval(timer);\n",
       "      }\n",
       "      attempts++;\n",
       "      if (attempts > 100) {\n",
       "        console.log(\"Bokeh: ERROR: Unable to run BokehJS code because BokehJS library is missing\");\n",
       "        clearInterval(timer);\n",
       "      }\n",
       "    }, 10, root)\n",
       "  }\n",
       "})(window);"
      ],
      "application/vnd.bokehjs_exec.v0+json": ""
     },
     "metadata": {
      "application/vnd.bokehjs_exec.v0+json": {
       "id": "1004"
      }
     },
     "output_type": "display_data"
    },
    {
     "data": {
      "text/html": [
       "<p><code>&lt;Bokeh Notebook handle for <strong>In[8]</strong>&gt;</code></p>"
      ],
      "text/plain": [
       "<bokeh.io.notebook.CommsHandle at 0x7fa2d4fe80b8>"
      ]
     },
     "execution_count": 8,
     "metadata": {},
     "output_type": "execute_result"
    }
   ],
   "source": [
    "show(p, notebook_handle=True)"
   ]
  },
  {
   "cell_type": "code",
   "execution_count": null,
   "metadata": {},
   "outputs": [],
   "source": []
  },
  {
   "cell_type": "code",
   "execution_count": 9,
   "metadata": {
    "scrolled": true
   },
   "outputs": [],
   "source": [
    "# for plots read: http://bokeh.pydata.org/en/latest/docs/user_guide/notebook.html\n",
    "\n",
    "connection = pika.BlockingConnection(parameters)\n",
    "channel = connection.channel()\n"
   ]
  },
  {
   "cell_type": "code",
   "execution_count": 10,
   "metadata": {
    "scrolled": true
   },
   "outputs": [
    {
     "name": "stdout",
     "output_type": "stream",
     "text": [
      " [x] Consuming Queue Message:'plot.2d'\n"
     ]
    },
    {
     "name": "stderr",
     "output_type": "stream",
     "text": [
      "BokehUserWarning: ColumnDataSource's columns must be of the same length. Current lengths: ('fill_color', 2482), ('radius', 2482), ('x', 2506), ('y', 2482)\n",
      "BokehUserWarning: ColumnDataSource's columns must be of the same length. Current lengths: ('fill_color', 2482), ('radius', 2482), ('x', 2506), ('y', 2506)\n",
      "BokehUserWarning: ColumnDataSource's columns must be of the same length. Current lengths: ('fill_color', 2482), ('radius', 2506), ('x', 2506), ('y', 2506)\n"
     ]
    },
    {
     "ename": "KeyboardInterrupt",
     "evalue": "",
     "output_type": "error",
     "traceback": [
      "\u001b[0;31m---------------------------------------------------------------------------\u001b[0m",
      "\u001b[0;31mKeyboardInterrupt\u001b[0m                         Traceback (most recent call last)",
      "\u001b[0;32m<ipython-input-10-18838785661e>\u001b[0m in \u001b[0;36m<module>\u001b[0;34m()\u001b[0m\n\u001b[1;32m      7\u001b[0m \u001b[0;34m\u001b[0m\u001b[0m\n\u001b[1;32m      8\u001b[0m \u001b[0mchannel\u001b[0m\u001b[0;34m.\u001b[0m\u001b[0mbasic_consume\u001b[0m\u001b[0;34m(\u001b[0m\u001b[0mconsumeQueue\u001b[0m\u001b[0;34m,\u001b[0m \u001b[0mqueue\u001b[0m\u001b[0;34m=\u001b[0m\u001b[0;34m'BDAPRO'\u001b[0m\u001b[0;34m,\u001b[0m \u001b[0mno_ack\u001b[0m\u001b[0;34m=\u001b[0m\u001b[0;32mTrue\u001b[0m\u001b[0;34m)\u001b[0m\u001b[0;34m\u001b[0m\u001b[0;34m\u001b[0m\u001b[0m\n\u001b[0;32m----> 9\u001b[0;31m \u001b[0mchannel\u001b[0m\u001b[0;34m.\u001b[0m\u001b[0mstart_consuming\u001b[0m\u001b[0;34m(\u001b[0m\u001b[0;34m)\u001b[0m\u001b[0;34m\u001b[0m\u001b[0;34m\u001b[0m\u001b[0m\n\u001b[0m",
      "\u001b[0;32m/home/chris/.local/lib/python3.6/site-packages/pika/adapters/blocking_connection.py\u001b[0m in \u001b[0;36mstart_consuming\u001b[0;34m(self)\u001b[0m\n\u001b[1;32m   1820\u001b[0m         \u001b[0;31m# Process events as long as consumers exist on this channel\u001b[0m\u001b[0;34m\u001b[0m\u001b[0;34m\u001b[0m\u001b[0;34m\u001b[0m\u001b[0m\n\u001b[1;32m   1821\u001b[0m         \u001b[0;32mwhile\u001b[0m \u001b[0mself\u001b[0m\u001b[0;34m.\u001b[0m\u001b[0m_consumer_infos\u001b[0m\u001b[0;34m:\u001b[0m\u001b[0;34m\u001b[0m\u001b[0;34m\u001b[0m\u001b[0m\n\u001b[0;32m-> 1822\u001b[0;31m             \u001b[0mself\u001b[0m\u001b[0;34m.\u001b[0m\u001b[0mconnection\u001b[0m\u001b[0;34m.\u001b[0m\u001b[0mprocess_data_events\u001b[0m\u001b[0;34m(\u001b[0m\u001b[0mtime_limit\u001b[0m\u001b[0;34m=\u001b[0m\u001b[0;32mNone\u001b[0m\u001b[0;34m)\u001b[0m\u001b[0;34m\u001b[0m\u001b[0;34m\u001b[0m\u001b[0m\n\u001b[0m\u001b[1;32m   1823\u001b[0m \u001b[0;34m\u001b[0m\u001b[0m\n\u001b[1;32m   1824\u001b[0m     \u001b[0;32mdef\u001b[0m \u001b[0mstop_consuming\u001b[0m\u001b[0;34m(\u001b[0m\u001b[0mself\u001b[0m\u001b[0;34m,\u001b[0m \u001b[0mconsumer_tag\u001b[0m\u001b[0;34m=\u001b[0m\u001b[0;32mNone\u001b[0m\u001b[0;34m)\u001b[0m\u001b[0;34m:\u001b[0m\u001b[0;34m\u001b[0m\u001b[0;34m\u001b[0m\u001b[0m\n",
      "\u001b[0;32m/home/chris/.local/lib/python3.6/site-packages/pika/adapters/blocking_connection.py\u001b[0m in \u001b[0;36mprocess_data_events\u001b[0;34m(self, time_limit)\u001b[0m\n\u001b[1;32m    747\u001b[0m                 (self._channels_pending_dispatch or self._ready_events))\n\u001b[1;32m    748\u001b[0m             \u001b[0;32mif\u001b[0m \u001b[0mtime_limit\u001b[0m \u001b[0;32mis\u001b[0m \u001b[0;32mNone\u001b[0m\u001b[0;34m:\u001b[0m\u001b[0;34m\u001b[0m\u001b[0;34m\u001b[0m\u001b[0m\n\u001b[0;32m--> 749\u001b[0;31m                 \u001b[0mself\u001b[0m\u001b[0;34m.\u001b[0m\u001b[0m_flush_output\u001b[0m\u001b[0;34m(\u001b[0m\u001b[0mcommon_terminator\u001b[0m\u001b[0;34m)\u001b[0m\u001b[0;34m\u001b[0m\u001b[0;34m\u001b[0m\u001b[0m\n\u001b[0m\u001b[1;32m    750\u001b[0m             \u001b[0;32melse\u001b[0m\u001b[0;34m:\u001b[0m\u001b[0;34m\u001b[0m\u001b[0;34m\u001b[0m\u001b[0m\n\u001b[1;32m    751\u001b[0m                 \u001b[0;32mwith\u001b[0m \u001b[0m_IoloopTimerContext\u001b[0m\u001b[0;34m(\u001b[0m\u001b[0mtime_limit\u001b[0m\u001b[0;34m,\u001b[0m \u001b[0mself\u001b[0m\u001b[0;34m.\u001b[0m\u001b[0m_impl\u001b[0m\u001b[0;34m)\u001b[0m \u001b[0;32mas\u001b[0m \u001b[0mtimer\u001b[0m\u001b[0;34m:\u001b[0m\u001b[0;34m\u001b[0m\u001b[0;34m\u001b[0m\u001b[0m\n",
      "\u001b[0;32m/home/chris/.local/lib/python3.6/site-packages/pika/adapters/blocking_connection.py\u001b[0m in \u001b[0;36m_flush_output\u001b[0;34m(self, *waiters)\u001b[0m\n\u001b[1;32m    456\u001b[0m         \u001b[0;31m# Process I/O until our completion condition is satisified\u001b[0m\u001b[0;34m\u001b[0m\u001b[0;34m\u001b[0m\u001b[0;34m\u001b[0m\u001b[0m\n\u001b[1;32m    457\u001b[0m         \u001b[0;32mwhile\u001b[0m \u001b[0;32mnot\u001b[0m \u001b[0mis_done\u001b[0m\u001b[0;34m(\u001b[0m\u001b[0;34m)\u001b[0m\u001b[0;34m:\u001b[0m\u001b[0;34m\u001b[0m\u001b[0;34m\u001b[0m\u001b[0m\n\u001b[0;32m--> 458\u001b[0;31m             \u001b[0mself\u001b[0m\u001b[0;34m.\u001b[0m\u001b[0m_impl\u001b[0m\u001b[0;34m.\u001b[0m\u001b[0mioloop\u001b[0m\u001b[0;34m.\u001b[0m\u001b[0mpoll\u001b[0m\u001b[0;34m(\u001b[0m\u001b[0;34m)\u001b[0m\u001b[0;34m\u001b[0m\u001b[0;34m\u001b[0m\u001b[0m\n\u001b[0m\u001b[1;32m    459\u001b[0m             \u001b[0mself\u001b[0m\u001b[0;34m.\u001b[0m\u001b[0m_impl\u001b[0m\u001b[0;34m.\u001b[0m\u001b[0mioloop\u001b[0m\u001b[0;34m.\u001b[0m\u001b[0mprocess_timeouts\u001b[0m\u001b[0;34m(\u001b[0m\u001b[0;34m)\u001b[0m\u001b[0;34m\u001b[0m\u001b[0;34m\u001b[0m\u001b[0m\n\u001b[1;32m    460\u001b[0m \u001b[0;34m\u001b[0m\u001b[0m\n",
      "\u001b[0;32m/home/chris/.local/lib/python3.6/site-packages/pika/adapters/select_connection.py\u001b[0m in \u001b[0;36mpoll\u001b[0;34m(self)\u001b[0m\n\u001b[1;32m    493\u001b[0m \u001b[0;34m\u001b[0m\u001b[0m\n\u001b[1;32m    494\u001b[0m         \"\"\"\n\u001b[0;32m--> 495\u001b[0;31m         \u001b[0mself\u001b[0m\u001b[0;34m.\u001b[0m\u001b[0m_poller\u001b[0m\u001b[0;34m.\u001b[0m\u001b[0mpoll\u001b[0m\u001b[0;34m(\u001b[0m\u001b[0;34m)\u001b[0m\u001b[0;34m\u001b[0m\u001b[0;34m\u001b[0m\u001b[0m\n\u001b[0m\u001b[1;32m    496\u001b[0m \u001b[0;34m\u001b[0m\u001b[0m\n\u001b[1;32m    497\u001b[0m \u001b[0;34m\u001b[0m\u001b[0m\n",
      "\u001b[0;32m/home/chris/.local/lib/python3.6/site-packages/pika/adapters/select_connection.py\u001b[0m in \u001b[0;36mpoll\u001b[0;34m(self)\u001b[0m\n\u001b[1;32m   1100\u001b[0m         \u001b[0;32mwhile\u001b[0m \u001b[0;32mTrue\u001b[0m\u001b[0;34m:\u001b[0m\u001b[0;34m\u001b[0m\u001b[0;34m\u001b[0m\u001b[0m\n\u001b[1;32m   1101\u001b[0m             \u001b[0;32mtry\u001b[0m\u001b[0;34m:\u001b[0m\u001b[0;34m\u001b[0m\u001b[0;34m\u001b[0m\u001b[0m\n\u001b[0;32m-> 1102\u001b[0;31m                 \u001b[0mevents\u001b[0m \u001b[0;34m=\u001b[0m \u001b[0mself\u001b[0m\u001b[0;34m.\u001b[0m\u001b[0m_poll\u001b[0m\u001b[0;34m.\u001b[0m\u001b[0mpoll\u001b[0m\u001b[0;34m(\u001b[0m\u001b[0mself\u001b[0m\u001b[0;34m.\u001b[0m\u001b[0m_get_max_wait\u001b[0m\u001b[0;34m(\u001b[0m\u001b[0;34m)\u001b[0m\u001b[0;34m)\u001b[0m\u001b[0;34m\u001b[0m\u001b[0;34m\u001b[0m\u001b[0m\n\u001b[0m\u001b[1;32m   1103\u001b[0m                 \u001b[0;32mbreak\u001b[0m\u001b[0;34m\u001b[0m\u001b[0;34m\u001b[0m\u001b[0m\n\u001b[1;32m   1104\u001b[0m             \u001b[0;32mexcept\u001b[0m \u001b[0m_SELECT_ERRORS\u001b[0m \u001b[0;32mas\u001b[0m \u001b[0merror\u001b[0m\u001b[0;34m:\u001b[0m\u001b[0;34m\u001b[0m\u001b[0;34m\u001b[0m\u001b[0m\n",
      "\u001b[0;31mKeyboardInterrupt\u001b[0m: "
     ]
    }
   ],
   "source": [
    "#run = 1\n",
    "#\n",
    "#def consume():\n",
    "#    while(run):\n",
    "#        channel.basic_consume(consumeQueue, queue='BDAPRO', no_ack=True)\n",
    "#        time.sleep(MESSAGE_DELAY_SECONDS)\n",
    "\n",
    "channel.basic_consume(consumeQueue, queue='BDAPRO', no_ack=True)        \n",
    "channel.start_consuming()"
   ]
  },
  {
   "cell_type": "code",
   "execution_count": null,
   "metadata": {
    "scrolled": true
   },
   "outputs": [],
   "source": [
    "connection.close()"
   ]
  },
  {
   "cell_type": "code",
   "execution_count": null,
   "metadata": {},
   "outputs": [],
   "source": []
  },
  {
   "cell_type": "code",
   "execution_count": null,
   "metadata": {},
   "outputs": [],
   "source": []
  },
  {
   "cell_type": "code",
   "execution_count": null,
   "metadata": {
    "scrolled": false
   },
   "outputs": [],
   "source": []
  },
  {
   "cell_type": "code",
   "execution_count": null,
   "metadata": {},
   "outputs": [],
   "source": []
  },
  {
   "cell_type": "code",
   "execution_count": null,
   "metadata": {},
   "outputs": [],
   "source": []
  },
  {
   "cell_type": "code",
   "execution_count": null,
   "metadata": {},
   "outputs": [],
   "source": []
  },
  {
   "cell_type": "code",
   "execution_count": null,
   "metadata": {},
   "outputs": [],
   "source": []
  },
  {
   "cell_type": "code",
   "execution_count": 26,
   "metadata": {},
   "outputs": [],
   "source": [
    "def update(q, f, x=10, y=10, radius=3):\n",
    "    RADIUS = radius\n",
    "    ## pull data from queue\n",
    "    # r.data_source.data['x'] = np.random.random(size=x) * x\n",
    "    # r.data_source.data['y'] = np.random.random(size=y) * y\n",
    "    # r.data_source.data['radius'] = np.random(size=radius) * radius\n",
    "    # push_notebook()"
   ]
  },
  {
   "cell_type": "code",
   "execution_count": null,
   "metadata": {},
   "outputs": [],
   "source": []
  },
  {
   "cell_type": "code",
   "execution_count": 27,
   "metadata": {},
   "outputs": [
    {
     "data": {
      "application/vnd.jupyter.widget-view+json": {
       "model_id": "c0271d8746ae4ce4846106efc5195dd2"
      }
     },
     "metadata": {},
     "output_type": "display_data"
    },
    {
     "data": {
      "text/plain": [
       "<function __main__.update>"
      ]
     },
     "execution_count": 27,
     "metadata": {},
     "output_type": "execute_result"
    }
   ],
   "source": [
    "interact(update, q=[\"taxi data\", \"????\"], f=[\"scatter\", \"cluster\"], x=(10,4000), y=(10,4000), radius=(1,10))"
   ]
  },
  {
   "cell_type": "markdown",
   "metadata": {},
   "source": [
    "also see for growing (appending) scatter plots: https://stackoverflow.com/questions/43101497/how-do-stream-data-to-a-bokeh-plot-in-jupyter-with-a-high-refresh-rate\n",
    "\n"
   ]
  },
  {
   "cell_type": "code",
   "execution_count": 39,
   "metadata": {},
   "outputs": [],
   "source": [
    "# p1.x_range.callback = CustomJS(args=dict(source=source, range=p1.x_range), code=jscode % ('x', 'width'))\n",
    "# p1.y_range.callback = CustomJS(args=dict(source=source, range=p1.y_range), code=jscode % ('y', 'height'))"
   ]
  },
  {
   "cell_type": "code",
   "execution_count": null,
   "metadata": {
    "scrolled": true
   },
   "outputs": [],
   "source": []
  },
  {
   "cell_type": "code",
   "execution_count": null,
   "metadata": {},
   "outputs": [],
   "source": []
  },
  {
   "cell_type": "code",
   "execution_count": null,
   "metadata": {},
   "outputs": [],
   "source": []
  },
  {
   "cell_type": "code",
   "execution_count": null,
   "metadata": {},
   "outputs": [],
   "source": []
  },
  {
   "cell_type": "code",
   "execution_count": 8,
   "metadata": {},
   "outputs": [],
   "source": []
  },
  {
   "cell_type": "code",
   "execution_count": null,
   "metadata": {},
   "outputs": [],
   "source": []
  }
 ],
 "metadata": {
  "kernelspec": {
   "display_name": "Python 3",
   "language": "python",
   "name": "python3"
  },
  "language_info": {
   "codemirror_mode": {
    "name": "ipython",
    "version": 3
   },
   "file_extension": ".py",
   "mimetype": "text/x-python",
   "name": "python",
   "nbconvert_exporter": "python",
   "pygments_lexer": "ipython3",
   "version": "3.6.7"
  }
 },
 "nbformat": 4,
 "nbformat_minor": 2
}
