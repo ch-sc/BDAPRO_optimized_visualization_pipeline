{
 "cells": [
  {
   "cell_type": "code",
   "execution_count": 87,
   "metadata": {},
   "outputs": [
    {
     "data": {
      "text/html": [
       "\n",
       "    <div class=\"bk-root\">\n",
       "        <a href=\"https://bokeh.pydata.org\" target=\"_blank\" class=\"bk-logo bk-logo-small bk-logo-notebook\"></a>\n",
       "        <span id=\"3809\">Loading BokehJS ...</span>\n",
       "    </div>"
      ]
     },
     "metadata": {},
     "output_type": "display_data"
    },
    {
     "data": {
      "application/javascript": [
       "\n",
       "(function(root) {\n",
       "  function now() {\n",
       "    return new Date();\n",
       "  }\n",
       "\n",
       "  var force = true;\n",
       "\n",
       "  if (typeof (root._bokeh_onload_callbacks) === \"undefined\" || force === true) {\n",
       "    root._bokeh_onload_callbacks = [];\n",
       "    root._bokeh_is_loading = undefined;\n",
       "  }\n",
       "\n",
       "  var JS_MIME_TYPE = 'application/javascript';\n",
       "  var HTML_MIME_TYPE = 'text/html';\n",
       "  var EXEC_MIME_TYPE = 'application/vnd.bokehjs_exec.v0+json';\n",
       "  var CLASS_NAME = 'output_bokeh rendered_html';\n",
       "\n",
       "  /**\n",
       "   * Render data to the DOM node\n",
       "   */\n",
       "  function render(props, node) {\n",
       "    var script = document.createElement(\"script\");\n",
       "    node.appendChild(script);\n",
       "  }\n",
       "\n",
       "  /**\n",
       "   * Handle when an output is cleared or removed\n",
       "   */\n",
       "  function handleClearOutput(event, handle) {\n",
       "    var cell = handle.cell;\n",
       "\n",
       "    var id = cell.output_area._bokeh_element_id;\n",
       "    var server_id = cell.output_area._bokeh_server_id;\n",
       "    // Clean up Bokeh references\n",
       "    if (id != null && id in Bokeh.index) {\n",
       "      Bokeh.index[id].model.document.clear();\n",
       "      delete Bokeh.index[id];\n",
       "    }\n",
       "\n",
       "    if (server_id !== undefined) {\n",
       "      // Clean up Bokeh references\n",
       "      var cmd = \"from bokeh.io.state import curstate; print(curstate().uuid_to_server['\" + server_id + \"'].get_sessions()[0].document.roots[0]._id)\";\n",
       "      cell.notebook.kernel.execute(cmd, {\n",
       "        iopub: {\n",
       "          output: function(msg) {\n",
       "            var id = msg.content.text.trim();\n",
       "            if (id in Bokeh.index) {\n",
       "              Bokeh.index[id].model.document.clear();\n",
       "              delete Bokeh.index[id];\n",
       "            }\n",
       "          }\n",
       "        }\n",
       "      });\n",
       "      // Destroy server and session\n",
       "      var cmd = \"import bokeh.io.notebook as ion; ion.destroy_server('\" + server_id + \"')\";\n",
       "      cell.notebook.kernel.execute(cmd);\n",
       "    }\n",
       "  }\n",
       "\n",
       "  /**\n",
       "   * Handle when a new output is added\n",
       "   */\n",
       "  function handleAddOutput(event, handle) {\n",
       "    var output_area = handle.output_area;\n",
       "    var output = handle.output;\n",
       "\n",
       "    // limit handleAddOutput to display_data with EXEC_MIME_TYPE content only\n",
       "    if ((output.output_type != \"display_data\") || (!output.data.hasOwnProperty(EXEC_MIME_TYPE))) {\n",
       "      return\n",
       "    }\n",
       "\n",
       "    var toinsert = output_area.element.find(\".\" + CLASS_NAME.split(' ')[0]);\n",
       "\n",
       "    if (output.metadata[EXEC_MIME_TYPE][\"id\"] !== undefined) {\n",
       "      toinsert[toinsert.length - 1].firstChild.textContent = output.data[JS_MIME_TYPE];\n",
       "      // store reference to embed id on output_area\n",
       "      output_area._bokeh_element_id = output.metadata[EXEC_MIME_TYPE][\"id\"];\n",
       "    }\n",
       "    if (output.metadata[EXEC_MIME_TYPE][\"server_id\"] !== undefined) {\n",
       "      var bk_div = document.createElement(\"div\");\n",
       "      bk_div.innerHTML = output.data[HTML_MIME_TYPE];\n",
       "      var script_attrs = bk_div.children[0].attributes;\n",
       "      for (var i = 0; i < script_attrs.length; i++) {\n",
       "        toinsert[toinsert.length - 1].firstChild.setAttribute(script_attrs[i].name, script_attrs[i].value);\n",
       "      }\n",
       "      // store reference to server id on output_area\n",
       "      output_area._bokeh_server_id = output.metadata[EXEC_MIME_TYPE][\"server_id\"];\n",
       "    }\n",
       "  }\n",
       "\n",
       "  function register_renderer(events, OutputArea) {\n",
       "\n",
       "    function append_mime(data, metadata, element) {\n",
       "      // create a DOM node to render to\n",
       "      var toinsert = this.create_output_subarea(\n",
       "        metadata,\n",
       "        CLASS_NAME,\n",
       "        EXEC_MIME_TYPE\n",
       "      );\n",
       "      this.keyboard_manager.register_events(toinsert);\n",
       "      // Render to node\n",
       "      var props = {data: data, metadata: metadata[EXEC_MIME_TYPE]};\n",
       "      render(props, toinsert[toinsert.length - 1]);\n",
       "      element.append(toinsert);\n",
       "      return toinsert\n",
       "    }\n",
       "\n",
       "    /* Handle when an output is cleared or removed */\n",
       "    events.on('clear_output.CodeCell', handleClearOutput);\n",
       "    events.on('delete.Cell', handleClearOutput);\n",
       "\n",
       "    /* Handle when a new output is added */\n",
       "    events.on('output_added.OutputArea', handleAddOutput);\n",
       "\n",
       "    /**\n",
       "     * Register the mime type and append_mime function with output_area\n",
       "     */\n",
       "    OutputArea.prototype.register_mime_type(EXEC_MIME_TYPE, append_mime, {\n",
       "      /* Is output safe? */\n",
       "      safe: true,\n",
       "      /* Index of renderer in `output_area.display_order` */\n",
       "      index: 0\n",
       "    });\n",
       "  }\n",
       "\n",
       "  // register the mime type if in Jupyter Notebook environment and previously unregistered\n",
       "  if (root.Jupyter !== undefined) {\n",
       "    var events = require('base/js/events');\n",
       "    var OutputArea = require('notebook/js/outputarea').OutputArea;\n",
       "\n",
       "    if (OutputArea.prototype.mime_types().indexOf(EXEC_MIME_TYPE) == -1) {\n",
       "      register_renderer(events, OutputArea);\n",
       "    }\n",
       "  }\n",
       "\n",
       "  \n",
       "  if (typeof (root._bokeh_timeout) === \"undefined\" || force === true) {\n",
       "    root._bokeh_timeout = Date.now() + 5000;\n",
       "    root._bokeh_failed_load = false;\n",
       "  }\n",
       "\n",
       "  var NB_LOAD_WARNING = {'data': {'text/html':\n",
       "     \"<div style='background-color: #fdd'>\\n\"+\n",
       "     \"<p>\\n\"+\n",
       "     \"BokehJS does not appear to have successfully loaded. If loading BokehJS from CDN, this \\n\"+\n",
       "     \"may be due to a slow or bad network connection. Possible fixes:\\n\"+\n",
       "     \"</p>\\n\"+\n",
       "     \"<ul>\\n\"+\n",
       "     \"<li>re-rerun `output_notebook()` to attempt to load from CDN again, or</li>\\n\"+\n",
       "     \"<li>use INLINE resources instead, as so:</li>\\n\"+\n",
       "     \"</ul>\\n\"+\n",
       "     \"<code>\\n\"+\n",
       "     \"from bokeh.resources import INLINE\\n\"+\n",
       "     \"output_notebook(resources=INLINE)\\n\"+\n",
       "     \"</code>\\n\"+\n",
       "     \"</div>\"}};\n",
       "\n",
       "  function display_loaded() {\n",
       "    var el = document.getElementById(\"3809\");\n",
       "    if (el != null) {\n",
       "      el.textContent = \"BokehJS is loading...\";\n",
       "    }\n",
       "    if (root.Bokeh !== undefined) {\n",
       "      if (el != null) {\n",
       "        el.textContent = \"BokehJS \" + root.Bokeh.version + \" successfully loaded.\";\n",
       "      }\n",
       "    } else if (Date.now() < root._bokeh_timeout) {\n",
       "      setTimeout(display_loaded, 100)\n",
       "    }\n",
       "  }\n",
       "\n",
       "\n",
       "  function run_callbacks() {\n",
       "    try {\n",
       "      root._bokeh_onload_callbacks.forEach(function(callback) { callback() });\n",
       "    }\n",
       "    finally {\n",
       "      delete root._bokeh_onload_callbacks\n",
       "    }\n",
       "    console.info(\"Bokeh: all callbacks have finished\");\n",
       "  }\n",
       "\n",
       "  function load_libs(js_urls, callback) {\n",
       "    root._bokeh_onload_callbacks.push(callback);\n",
       "    if (root._bokeh_is_loading > 0) {\n",
       "      console.log(\"Bokeh: BokehJS is being loaded, scheduling callback at\", now());\n",
       "      return null;\n",
       "    }\n",
       "    if (js_urls == null || js_urls.length === 0) {\n",
       "      run_callbacks();\n",
       "      return null;\n",
       "    }\n",
       "    console.log(\"Bokeh: BokehJS not loaded, scheduling load and callback at\", now());\n",
       "    root._bokeh_is_loading = js_urls.length;\n",
       "    for (var i = 0; i < js_urls.length; i++) {\n",
       "      var url = js_urls[i];\n",
       "      var s = document.createElement('script');\n",
       "      s.src = url;\n",
       "      s.async = false;\n",
       "      s.onreadystatechange = s.onload = function() {\n",
       "        root._bokeh_is_loading--;\n",
       "        if (root._bokeh_is_loading === 0) {\n",
       "          console.log(\"Bokeh: all BokehJS libraries loaded\");\n",
       "          run_callbacks()\n",
       "        }\n",
       "      };\n",
       "      s.onerror = function() {\n",
       "        console.warn(\"failed to load library \" + url);\n",
       "      };\n",
       "      console.log(\"Bokeh: injecting script tag for BokehJS library: \", url);\n",
       "      document.getElementsByTagName(\"head\")[0].appendChild(s);\n",
       "    }\n",
       "  };var element = document.getElementById(\"3809\");\n",
       "  if (element == null) {\n",
       "    console.log(\"Bokeh: ERROR: autoload.js configured with elementid '3809' but no matching script tag was found. \")\n",
       "    return false;\n",
       "  }\n",
       "\n",
       "  var js_urls = [\"https://cdn.pydata.org/bokeh/release/bokeh-1.0.4.min.js\", \"https://cdn.pydata.org/bokeh/release/bokeh-widgets-1.0.4.min.js\", \"https://cdn.pydata.org/bokeh/release/bokeh-tables-1.0.4.min.js\", \"https://cdn.pydata.org/bokeh/release/bokeh-gl-1.0.4.min.js\"];\n",
       "\n",
       "  var inline_js = [\n",
       "    function(Bokeh) {\n",
       "      Bokeh.set_log_level(\"info\");\n",
       "    },\n",
       "    \n",
       "    function(Bokeh) {\n",
       "      \n",
       "    },\n",
       "    function(Bokeh) {\n",
       "      console.log(\"Bokeh: injecting CSS: https://cdn.pydata.org/bokeh/release/bokeh-1.0.4.min.css\");\n",
       "      Bokeh.embed.inject_css(\"https://cdn.pydata.org/bokeh/release/bokeh-1.0.4.min.css\");\n",
       "      console.log(\"Bokeh: injecting CSS: https://cdn.pydata.org/bokeh/release/bokeh-widgets-1.0.4.min.css\");\n",
       "      Bokeh.embed.inject_css(\"https://cdn.pydata.org/bokeh/release/bokeh-widgets-1.0.4.min.css\");\n",
       "      console.log(\"Bokeh: injecting CSS: https://cdn.pydata.org/bokeh/release/bokeh-tables-1.0.4.min.css\");\n",
       "      Bokeh.embed.inject_css(\"https://cdn.pydata.org/bokeh/release/bokeh-tables-1.0.4.min.css\");\n",
       "    }\n",
       "  ];\n",
       "\n",
       "  function run_inline_js() {\n",
       "    \n",
       "    if ((root.Bokeh !== undefined) || (force === true)) {\n",
       "      for (var i = 0; i < inline_js.length; i++) {\n",
       "        inline_js[i].call(root, root.Bokeh);\n",
       "      }if (force === true) {\n",
       "        display_loaded();\n",
       "      }} else if (Date.now() < root._bokeh_timeout) {\n",
       "      setTimeout(run_inline_js, 100);\n",
       "    } else if (!root._bokeh_failed_load) {\n",
       "      console.log(\"Bokeh: BokehJS failed to load within specified timeout.\");\n",
       "      root._bokeh_failed_load = true;\n",
       "    } else if (force !== true) {\n",
       "      var cell = $(document.getElementById(\"3809\")).parents('.cell').data().cell;\n",
       "      cell.output_area.append_execute_result(NB_LOAD_WARNING)\n",
       "    }\n",
       "\n",
       "  }\n",
       "\n",
       "  if (root._bokeh_is_loading === 0) {\n",
       "    console.log(\"Bokeh: BokehJS loaded, going straight to plotting\");\n",
       "    run_inline_js();\n",
       "  } else {\n",
       "    load_libs(js_urls, function() {\n",
       "      console.log(\"Bokeh: BokehJS plotting callback run at\", now());\n",
       "      run_inline_js();\n",
       "    });\n",
       "  }\n",
       "}(window));"
      ],
      "application/vnd.bokehjs_load.v0+json": "\n(function(root) {\n  function now() {\n    return new Date();\n  }\n\n  var force = true;\n\n  if (typeof (root._bokeh_onload_callbacks) === \"undefined\" || force === true) {\n    root._bokeh_onload_callbacks = [];\n    root._bokeh_is_loading = undefined;\n  }\n\n  \n\n  \n  if (typeof (root._bokeh_timeout) === \"undefined\" || force === true) {\n    root._bokeh_timeout = Date.now() + 5000;\n    root._bokeh_failed_load = false;\n  }\n\n  var NB_LOAD_WARNING = {'data': {'text/html':\n     \"<div style='background-color: #fdd'>\\n\"+\n     \"<p>\\n\"+\n     \"BokehJS does not appear to have successfully loaded. If loading BokehJS from CDN, this \\n\"+\n     \"may be due to a slow or bad network connection. Possible fixes:\\n\"+\n     \"</p>\\n\"+\n     \"<ul>\\n\"+\n     \"<li>re-rerun `output_notebook()` to attempt to load from CDN again, or</li>\\n\"+\n     \"<li>use INLINE resources instead, as so:</li>\\n\"+\n     \"</ul>\\n\"+\n     \"<code>\\n\"+\n     \"from bokeh.resources import INLINE\\n\"+\n     \"output_notebook(resources=INLINE)\\n\"+\n     \"</code>\\n\"+\n     \"</div>\"}};\n\n  function display_loaded() {\n    var el = document.getElementById(\"3809\");\n    if (el != null) {\n      el.textContent = \"BokehJS is loading...\";\n    }\n    if (root.Bokeh !== undefined) {\n      if (el != null) {\n        el.textContent = \"BokehJS \" + root.Bokeh.version + \" successfully loaded.\";\n      }\n    } else if (Date.now() < root._bokeh_timeout) {\n      setTimeout(display_loaded, 100)\n    }\n  }\n\n\n  function run_callbacks() {\n    try {\n      root._bokeh_onload_callbacks.forEach(function(callback) { callback() });\n    }\n    finally {\n      delete root._bokeh_onload_callbacks\n    }\n    console.info(\"Bokeh: all callbacks have finished\");\n  }\n\n  function load_libs(js_urls, callback) {\n    root._bokeh_onload_callbacks.push(callback);\n    if (root._bokeh_is_loading > 0) {\n      console.log(\"Bokeh: BokehJS is being loaded, scheduling callback at\", now());\n      return null;\n    }\n    if (js_urls == null || js_urls.length === 0) {\n      run_callbacks();\n      return null;\n    }\n    console.log(\"Bokeh: BokehJS not loaded, scheduling load and callback at\", now());\n    root._bokeh_is_loading = js_urls.length;\n    for (var i = 0; i < js_urls.length; i++) {\n      var url = js_urls[i];\n      var s = document.createElement('script');\n      s.src = url;\n      s.async = false;\n      s.onreadystatechange = s.onload = function() {\n        root._bokeh_is_loading--;\n        if (root._bokeh_is_loading === 0) {\n          console.log(\"Bokeh: all BokehJS libraries loaded\");\n          run_callbacks()\n        }\n      };\n      s.onerror = function() {\n        console.warn(\"failed to load library \" + url);\n      };\n      console.log(\"Bokeh: injecting script tag for BokehJS library: \", url);\n      document.getElementsByTagName(\"head\")[0].appendChild(s);\n    }\n  };var element = document.getElementById(\"3809\");\n  if (element == null) {\n    console.log(\"Bokeh: ERROR: autoload.js configured with elementid '3809' but no matching script tag was found. \")\n    return false;\n  }\n\n  var js_urls = [\"https://cdn.pydata.org/bokeh/release/bokeh-1.0.4.min.js\", \"https://cdn.pydata.org/bokeh/release/bokeh-widgets-1.0.4.min.js\", \"https://cdn.pydata.org/bokeh/release/bokeh-tables-1.0.4.min.js\", \"https://cdn.pydata.org/bokeh/release/bokeh-gl-1.0.4.min.js\"];\n\n  var inline_js = [\n    function(Bokeh) {\n      Bokeh.set_log_level(\"info\");\n    },\n    \n    function(Bokeh) {\n      \n    },\n    function(Bokeh) {\n      console.log(\"Bokeh: injecting CSS: https://cdn.pydata.org/bokeh/release/bokeh-1.0.4.min.css\");\n      Bokeh.embed.inject_css(\"https://cdn.pydata.org/bokeh/release/bokeh-1.0.4.min.css\");\n      console.log(\"Bokeh: injecting CSS: https://cdn.pydata.org/bokeh/release/bokeh-widgets-1.0.4.min.css\");\n      Bokeh.embed.inject_css(\"https://cdn.pydata.org/bokeh/release/bokeh-widgets-1.0.4.min.css\");\n      console.log(\"Bokeh: injecting CSS: https://cdn.pydata.org/bokeh/release/bokeh-tables-1.0.4.min.css\");\n      Bokeh.embed.inject_css(\"https://cdn.pydata.org/bokeh/release/bokeh-tables-1.0.4.min.css\");\n    }\n  ];\n\n  function run_inline_js() {\n    \n    if ((root.Bokeh !== undefined) || (force === true)) {\n      for (var i = 0; i < inline_js.length; i++) {\n        inline_js[i].call(root, root.Bokeh);\n      }if (force === true) {\n        display_loaded();\n      }} else if (Date.now() < root._bokeh_timeout) {\n      setTimeout(run_inline_js, 100);\n    } else if (!root._bokeh_failed_load) {\n      console.log(\"Bokeh: BokehJS failed to load within specified timeout.\");\n      root._bokeh_failed_load = true;\n    } else if (force !== true) {\n      var cell = $(document.getElementById(\"3809\")).parents('.cell').data().cell;\n      cell.output_area.append_execute_result(NB_LOAD_WARNING)\n    }\n\n  }\n\n  if (root._bokeh_is_loading === 0) {\n    console.log(\"Bokeh: BokehJS loaded, going straight to plotting\");\n    run_inline_js();\n  } else {\n    load_libs(js_urls, function() {\n      console.log(\"Bokeh: BokehJS plotting callback run at\", now());\n      run_inline_js();\n    });\n  }\n}(window));"
     },
     "metadata": {},
     "output_type": "display_data"
    }
   ],
   "source": [
    "%matplotlib inline\n",
    "\n",
    "import http.client\n",
    "import json\n",
    "import numpy as np\n",
    "import matplotlib.mlab as mlab\n",
    "import matplotlib.pyplot as plt\n",
    "import pika\n",
    "import time\n",
    "from ipywidgets import interact\n",
    "\n",
    "# from bokeh.plotting import output_file, figure, show, hplot\n",
    "\n",
    "from bokeh.io import push_notebook, show, output_notebook\n",
    "from bokeh.plotting import output_file, figure, show, output_notebook\n",
    "from bokeh.models import ColumnDataSource, CustomJS, Rect\n",
    "\n",
    "from six.moves import zip\n",
    "\n",
    "output_notebook()\n",
    "\n",
    "source = ColumnDataSource({'x': [], 'y': [], 'width': [], 'height': []})"
   ]
  },
  {
   "cell_type": "code",
   "execution_count": 2,
   "metadata": {},
   "outputs": [],
   "source": [
    "# backend service connection\n",
    "baseEndpoint = \"localhost:8082\" \n",
    "basePath = \"/2d/scatter\"\n",
    "baseUri = baseEndpoint + basePath\n",
    "\n",
    "# rabbitMQ connection\n",
    "credentials = pika.PlainCredentials(\"user\", \"password\")\n",
    "parameters = pika.ConnectionParameters('localhost', 5672, '/', credentials)\n"
   ]
  },
  {
   "cell_type": "code",
   "execution_count": 3,
   "metadata": {},
   "outputs": [],
   "source": [
    "# functions\n",
    "\n",
    "def getData(x=100,y=100):\n",
    "    relativePath = \"{}?x={}&y={}\".format(basePath,x,y)\n",
    "    conn = http.client.HTTPConnection(baseEndpoint)\n",
    "    conn.request(\"GET\", relativePath)\n",
    "    r1 = conn.getresponse()\n",
    "\n",
    "    if (r1.status >= 400):\n",
    "        print(\"Error:\", relativePath, r1.status, r1.reason)\n",
    "        return []\n",
    "    else:\n",
    "        payload = r1.read()\n",
    "        jsonPayload = payload.decode('utf-8')\n",
    "        return json.loads(jsonPayload)\n",
    "    \n",
    "\n",
    "def scatterPlot(data):\n",
    "    grid = np.array(data)\n",
    "    plt.scatter(grid[:,0], grid[:,1], c='b', marker='.', s=1)\n",
    "    plt.title('Optimized Scatter Plot')\n",
    "    plt.xlabel('X-Axis')\n",
    "    plt.ylabel('Y-Axis')\n",
    "    plt.show()\n",
    "    plt.close()"
   ]
  },
  {
   "cell_type": "code",
   "execution_count": 26,
   "metadata": {
    "scrolled": false
   },
   "outputs": [],
   "source": [
    "data = getData(4000,4000)\n",
    "\n"
   ]
  },
  {
   "cell_type": "code",
   "execution_count": 5,
   "metadata": {},
   "outputs": [
    {
     "data": {
      "image/png": "[encoded data removed]",
      "text/plain": [
       "<Figure size 432x288 with 1 Axes>"
      ]
     },
     "metadata": {},
     "output_type": "display_data"
    }
   ],
   "source": [
    "scatterPlot(data)"
   ]
  },
  {
   "cell_type": "code",
   "execution_count": 88,
   "metadata": {},
   "outputs": [
    {
     "name": "stderr",
     "output_type": "stream",
     "text": [
      "BokehUserWarning: ColumnDataSource's columns must be of the same length. Current lengths: ('fill_color', 4000), ('radius', 4397), ('x', 4397), ('y', 4397)\n"
     ]
    }
   ],
   "source": [
    "grid = np.array(data)\n",
    "\n",
    "TOOLS=\"hover,crosshair,pan,wheel_zoom,box_zoom,reset,tap,save,box_select,poly_select,lasso_select\"\n",
    "colors2 = [\"#%02x%02x%02x\" % (int(r), int(g), 150) for r, g in zip(50+2*x, 30+2*y)]\n",
    "#radius=radii\n",
    "distance = grid[:,0]\n",
    "fair = grid[:,1]\n",
    "radii = grid[:,2]\n",
    "\n",
    "p = figure(title=\"visaulization pipeline scatter plot\", width=500, height=500, tools=TOOLS)\n",
    "r = p.scatter(x = distance, y = fair, radius=grid[:,2], fill_color=colors2, fill_alpha=0.6, line_color=None)"
   ]
  },
  {
   "cell_type": "code",
   "execution_count": 89,
   "metadata": {},
   "outputs": [
    {
     "data": {
      "text/html": [
       "\n",
       "\n",
       "\n",
       "\n",
       "\n",
       "\n",
       "  <div class=\"bk-root\" id=\"5ab1fd61-1e5b-4340-ab3d-a86a287eec6b\" data-root-id=\"3812\"></div>\n"
      ]
     },
     "metadata": {},
     "output_type": "display_data"
    },
    {
     "data": {
      "application/javascript": [
       "(function(root) {\n",
       "  function embed_document(root) {\n",
       "    \n",
       "  var docs_json = {\"0de94a34-cafd-4ec1-905f-853d23a3a05a\":{\"roots\":{\"references\":[{\"attributes\":{\"below\":[{\"id\":\"3822\",\"type\":\"LinearAxis\"}],\"left\":[{\"id\":\"3827\",\"type\":\"LinearAxis\"}],\"plot_height\":500,\"plot_width\":500,\"renderers\":[{\"id\":\"3822\",\"type\":\"LinearAxis\"},{\"id\":\"3826\",\"type\":\"Grid\"},{\"id\":\"3827\",\"type\":\"LinearAxis\"},{\"id\":\"3831\",\"type\":\"Grid\"},{\"id\":\"3847\",\"type\":\"BoxAnnotation\"},{\"id\":\"3853\",\"type\":\"BoxAnnotation\"},{\"id\":\"3856\",\"type\":\"PolyAnnotation\"},{\"id\":\"3859\",\"type\":\"PolyAnnotation\"},{\"id\":\"3866\",\"type\":\"GlyphRenderer\"}],\"title\":{\"id\":\"3811\",\"type\":\"Title\"},\"toolbar\":{\"id\":\"3843\",\"type\":\"Toolbar\"},\"x_range\":{\"id\":\"3814\",\"type\":\"DataRange1d\"},\"x_scale\":{\"id\":\"3818\",\"type\":\"LinearScale\"},\"y_range\":{\"id\":\"3816\",\"type\":\"DataRange1d\"},\"y_scale\":{\"id\":\"3820\",\"type\":\"LinearScale\"}},\"id\":\"3812\",\"subtype\":\"Figure\",\"type\":\"Plot\"},{\"attributes\":{},\"id\":\"3833\",\"type\":\"CrosshairTool\"},{\"attributes\":{},\"id\":\"3834\",\"type\":\"PanTool\"},{\"attributes\":{},\"id\":\"3835\",\"type\":\"WheelZoomTool\"},{\"attributes\":{\"overlay\":{\"id\":\"3847\",\"type\":\"BoxAnnotation\"}},\"id\":\"3836\",\"type\":\"BoxZoomTool\"},{\"attributes\":{\"callback\":null},\"id\":\"3814\",\"type\":\"DataRange1d\"},{\"attributes\":{},\"id\":\"3945\",\"type\":\"BasicTickFormatter\"},{\"attributes\":{},\"id\":\"3837\",\"type\":\"ResetTool\"},{\"attributes\":{\"callback\":null},\"id\":\"3816\",\"type\":\"DataRange1d\"},{\"attributes\":{\"callback\":null},\"id\":\"3838\",\"type\":\"TapTool\"},{\"attributes\":{},\"id\":\"3948\",\"type\":\"UnionRenderers\"},{\"attributes\":{},\"id\":\"3818\",\"type\":\"LinearScale\"},{\"attributes\":{},\"id\":\"3839\",\"type\":\"SaveTool\"},{\"attributes\":{},\"id\":\"3820\",\"type\":\"LinearScale\"},{\"attributes\":{\"callback\":null,\"overlay\":{\"id\":\"3853\",\"type\":\"BoxAnnotation\"}},\"id\":\"3840\",\"type\":\"BoxSelectTool\"},{\"attributes\":{},\"id\":\"3947\",\"type\":\"BasicTickFormatter\"},{\"attributes\":{\"plot\":null,\"text\":\"visaulization pipeline scatter plot\"},\"id\":\"3811\",\"type\":\"Title\"},{\"attributes\":{\"formatter\":{\"id\":\"3947\",\"type\":\"BasicTickFormatter\"},\"plot\":{\"id\":\"3812\",\"subtype\":\"Figure\",\"type\":\"Plot\"},\"ticker\":{\"id\":\"3823\",\"type\":\"BasicTicker\"}},\"id\":\"3822\",\"type\":\"LinearAxis\"},{\"attributes\":{\"callback\":null,\"overlay\":{\"id\":\"3856\",\"type\":\"PolyAnnotation\"}},\"id\":\"3841\",\"type\":\"PolySelectTool\"},{\"attributes\":{},\"id\":\"3823\",\"type\":\"BasicTicker\"},{\"attributes\":{\"callback\":null,\"overlay\":{\"id\":\"3859\",\"type\":\"PolyAnnotation\"}},\"id\":\"3842\",\"type\":\"LassoSelectTool\"},{\"attributes\":{\"plot\":{\"id\":\"3812\",\"subtype\":\"Figure\",\"type\":\"Plot\"},\"ticker\":{\"id\":\"3823\",\"type\":\"BasicTicker\"}},\"id\":\"3826\",\"type\":\"Grid\"},{\"attributes\":{\"fill_alpha\":{\"value\":0.6},\"fill_color\":{\"field\":\"fill_color\"},\"line_color\":{\"value\":null},\"radius\":{\"field\":\"radius\",\"units\":\"data\"},\"x\":{\"field\":\"x\"},\"y\":{\"field\":\"y\"}},\"id\":\"3864\",\"type\":\"Circle\"},{\"attributes\":{\"active_drag\":\"auto\",\"active_inspect\":\"auto\",\"active_multi\":null,\"active_scroll\":\"auto\",\"active_tap\":\"auto\",\"tools\":[{\"id\":\"3832\",\"type\":\"HoverTool\"},{\"id\":\"3833\",\"type\":\"CrosshairTool\"},{\"id\":\"3834\",\"type\":\"PanTool\"},{\"id\":\"3835\",\"type\":\"WheelZoomTool\"},{\"id\":\"3836\",\"type\":\"BoxZoomTool\"},{\"id\":\"3837\",\"type\":\"ResetTool\"},{\"id\":\"3838\",\"type\":\"TapTool\"},{\"id\":\"3839\",\"type\":\"SaveTool\"},{\"id\":\"3840\",\"type\":\"BoxSelectTool\"},{\"id\":\"3841\",\"type\":\"PolySelectTool\"},{\"id\":\"3842\",\"type\":\"LassoSelectTool\"}]},\"id\":\"3843\",\"type\":\"Toolbar\"},{\"attributes\":{},\"id\":\"3949\",\"type\":\"Selection\"},{\"attributes\":{\"formatter\":{\"id\":\"3945\",\"type\":\"BasicTickFormatter\"},\"plot\":{\"id\":\"3812\",\"subtype\":\"Figure\",\"type\":\"Plot\"},\"ticker\":{\"id\":\"3828\",\"type\":\"BasicTicker\"}},\"id\":\"3827\",\"type\":\"LinearAxis\"},{\"attributes\":{\"bottom_units\":\"screen\",\"fill_alpha\":{\"value\":0.5},\"fill_color\":{\"value\":\"lightgrey\"},\"left_units\":\"screen\",\"level\":\"overlay\",\"line_alpha\":{\"value\":1.0},\"line_color\":{\"value\":\"black\"},\"line_dash\":[4,4],\"line_width\":{\"value\":2},\"plot\":null,\"render_mode\":\"css\",\"right_units\":\"screen\",\"top_units\":\"screen\"},\"id\":\"3847\",\"type\":\"BoxAnnotation\"},{\"attributes\":{},\"id\":\"3828\",\"type\":\"BasicTicker\"},{\"attributes\":{\"bottom_units\":\"screen\",\"fill_alpha\":{\"value\":0.5},\"fill_color\":{\"value\":\"lightgrey\"},\"left_units\":\"screen\",\"level\":\"overlay\",\"line_alpha\":{\"value\":1.0},\"line_color\":{\"value\":\"black\"},\"line_dash\":[4,4],\"line_width\":{\"value\":2},\"plot\":null,\"render_mode\":\"css\",\"right_units\":\"screen\",\"top_units\":\"screen\"},\"id\":\"3853\",\"type\":\"BoxAnnotation\"},{\"attributes\":{\"dimension\":1,\"plot\":{\"id\":\"3812\",\"subtype\":\"Figure\",\"type\":\"Plot\"},\"ticker\":{\"id\":\"3828\",\"type\":\"BasicTicker\"}},\"id\":\"3831\",\"type\":\"Grid\"},{\"attributes\":{\"fill_alpha\":{\"value\":0.5},\"fill_color\":{\"value\":\"lightgrey\"},\"level\":\"overlay\",\"line_alpha\":{\"value\":1.0},\"line_color\":{\"value\":\"black\"},\"line_dash\":[4,4],\"line_width\":{\"value\":2},\"plot\":null,\"xs_units\":\"screen\",\"ys_units\":\"screen\"},\"id\":\"3856\",\"type\":\"PolyAnnotation\"},{\"attributes\":{\"source\":{\"id\":\"3863\",\"type\":\"ColumnDataSource\"}},\"id\":\"3867\",\"type\":\"CDSView\"},{\"attributes\":{\"fill_alpha\":{\"value\":0.5},\"fill_color\":{\"value\":\"lightgrey\"},\"level\":\"overlay\",\"line_alpha\":{\"value\":1.0},\"line_color\":{\"value\":\"black\"},\"line_dash\":[4,4],\"line_width\":{\"value\":2},\"plot\":null,\"xs_units\":\"screen\",\"ys_units\":\"screen\"},\"id\":\"3859\",\"type\":\"PolyAnnotation\"},{\"attributes\":{\"data_source\":{\"id\":\"3863\",\"type\":\"ColumnDataSource\"},\"glyph\":{\"id\":\"3864\",\"type\":\"Circle\"},\"hover_glyph\":null,\"muted_glyph\":null,\"nonselection_glyph\":{\"id\":\"3865\",\"type\":\"Circle\"},\"selection_glyph\":null,\"view\":{\"id\":\"3867\",\"type\":\"CDSView\"}},\"id\":\"3866\",\"type\":\"GlyphRenderer\"},{\"attributes\":{\"fill_alpha\":{\"value\":0.1},\"fill_color\":{\"value\":\"#1f77b4\"},\"line_alpha\":{\"value\":0.1},\"line_color\":{\"value\":\"#1f77b4\"},\"radius\":{\"field\":\"radius\",\"units\":\"data\"},\"x\":{\"field\":\"x\"},\"y\":{\"field\":\"y\"}},\"id\":\"3865\",\"type\":\"Circle\"},{\"attributes\":{\"callback\":null,\"data\":{\"fill_color\":[\"#f2ca96\",\"#518596\",\"#e34896\",\"#b92a96\",\"#96b796\",\"#737e96\",\"#8ad796\",\"#5c2996\",\"#c85996\",\"#86e096\",\"#bfa196\",\"#e02896\",\"#babd96\",\"#abc296\",\"#678a96\",\"#672196\",\"#b7a396\",\"#aa5696\",\"#ab8c96\",\"#c18696\",\"#587196\",\"#642b96\",\"#795d96\",\"#d07c96\",\"#c23d96\",\"#474696\",\"#3b6396\",\"#658296\",\"#754796\",\"#be3f96\",\"#aecf96\",\"#8b2b96\",\"#f7b996\",\"#44d896\",\"#e03396\",\"#8d3a96\",\"#c7da96\",\"#452296\",\"#c2ab96\",\"#6fe496\",\"#a46d96\",\"#9e8796\",\"#af6596\",\"#862796\",\"#c23796\",\"#d26996\",\"#dec896\",\"#764996\",\"#9e2e96\",\"#62cb96\",\"#f46c96\",\"#973496\",\"#81b696\",\"#f08496\",\"#cb4696\",\"#7d2e96\",\"#45de96\",\"#71a596\",\"#be6f96\",\"#bb3996\",\"#67a296\",\"#a12296\",\"#d55796\",\"#3cd496\",\"#f9da96\",\"#e04596\",\"#328596\",\"#792096\",\"#81a896\",\"#ac3d96\",\"#49ce96\",\"#899f96\",\"#adb096\",\"#d33b96\",\"#842e96\",\"#3f9596\",\"#5da996\",\"#986d96\",\"#67d396\",\"#dd4796\",\"#874a96\",\"#ae6696\",\"#73c396\",\"#87ad96\",\"#dc6396\",\"#515396\",\"#4dce96\",\"#a85f96\",\"#71dc96\",\"#b6c396\",\"#d2dd96\",\"#3d2296\",\"#405996\",\"#972296\",\"#b29896\",\"#bd7696\",\"#5e4996\",\"#dddc96\",\"#a3c696\",\"#cba296\",\"#8f4296\",\"#e09b96\",\"#ba2d96\",\"#543996\",\"#c3e596\",\"#a12d96\",\"#e33b96\",\"#562196\",\"#985b96\",\"#e65b96\",\"#c86c96\",\"#5b4996\",\"#383f96\",\"#807296\",\"#f1cd96\",\"#e18896\",\"#a03196\",\"#778e96\",\"#60a096\",\"#f11e96\",\"#b0a196\",\"#ba2396\",\"#a43b96\",\"#447896\",\"#884296\",\"#a1d596\",\"#4f9896\",\"#d47996\",\"#c96d96\",\"#b0d996\",\"#8fa396\",\"#cac996\",\"#9b6396\",\"#a66a96\",\"#535596\",\"#a2cf96\",\"#7eaa96\",\"#a29596\",\"#eb8a96\",\"#7b2c96\",\"#e43896\",\"#dd8796\",\"#d78d96\",\"#468396\",\"#667796\",\"#715996\",\"#978896\",\"#6bd696\",\"#b0df96\",\"#8a4496\",\"#7f8b96\",\"#7a2096\",\"#e15b96\",\"#e75b96\",\"#f28596\",\"#c46696\",\"#bd1f96\",\"#539196\",\"#33b096\",\"#eee496\",\"#e32796\",\"#587096\",\"#dd4096\",\"#e97d96\",\"#8f3096\",\"#a77496\",\"#5d6796\",\"#a85b96\",\"#445996\",\"#4e6896\",\"#ac2796\",\"#f13796\",\"#54db96\",\"#dc8c96\",\"#d55596\",\"#e29696\",\"#bf8296\",\"#aa7796\",\"#827c96\",\"#ee4a96\",\"#8d2396\",\"#39c896\",\"#ec9996\",\"#6b9696\",\"#c3ca96\",\"#468096\",\"#744696\",\"#d45f96\",\"#746e96\",\"#ad8b96\",\"#5a3a96\",\"#f6d096\",\"#e3e596\",\"#80b396\",\"#c68696\",\"#e65496\",\"#69ac96\",\"#f43b96\",\"#5e8696\",\"#cc7596\",\"#cdbd96\",\"#a7e396\",\"#647a96\",\"#6f2896\",\"#63a996\",\"#662b96\",\"#c22896\",\"#ef7a96\",\"#7c3496\",\"#6da096\",\"#8c8f96\",\"#82b696\",\"#bb4296\",\"#a48896\",\"#dc3596\",\"#543b96\",\"#d7c896\",\"#45b896\",\"#805396\",\"#f23196\",\"#c68c96\",\"#ca3a96\",\"#787f96\",\"#874896\",\"#d14f96\",\"#ecb596\",\"#b86796\",\"#698a96\",\"#647a96\",\"#cd6e96\",\"#ae9396\",\"#7d5b96\",\"#869996\",\"#a46c96\",\"#c72c96\",\"#c98d96\",\"#855796\",\"#898596\",\"#5ce396\",\"#ba3996\",\"#6b9696\",\"#a24496\",\"#b1b496\",\"#814a96\",\"#ad5d96\",\"#d23f96\",\"#b53c96\",\"#738296\",\"#4b1f96\",\"#554096\",\"#c5b396\",\"#bc8196\",\"#b5c996\",\"#ba8496\",\"#a68b96\",\"#375996\",\"#ae9896\",\"#5a8496\",\"#dd4c96\",\"#734c96\",\"#ec9a96\",\"#79ba96\",\"#bcdf96\",\"#8c4396\",\"#bc7296\",\"#641e96\",\"#4ece96\",\"#5d9e96\",\"#676a96\",\"#e9da96\",\"#8eb596\",\"#9d2a96\",\"#70a996\",\"#886c96\",\"#d08996\",\"#437896\",\"#96cd96\",\"#6fb596\",\"#61e396\",\"#c13496\",\"#5f2296\",\"#8d8196\",\"#84be96\",\"#3e7696\",\"#c9d196\",\"#947f96\",\"#44e196\",\"#5a7096\",\"#6f8096\",\"#5f9f96\",\"#887996\",\"#9b2996\",\"#ebd696\",\"#6b3796\",\"#83c796\",\"#742596\",\"#da4996\",\"#85ca96\",\"#c5c196\",\"#755e96\",\"#5caf96\",\"#3cae96\",\"#ee8696\",\"#35d596\",\"#ba3396\",\"#4a9096\",\"#673696\",\"#a92d96\",\"#f67296\",\"#f2a096\",\"#927896\",\"#666b96\",\"#392596\",\"#b5e496\",\"#a22a96\",\"#d6b996\",\"#d0ab96\",\"#cc8596\",\"#49cd96\",\"#803996\",\"#afe496\",\"#392c96\",\"#5a2396\",\"#b08a96\",\"#627b96\",\"#548a96\",\"#873096\",\"#7b5d96\",\"#81c296\",\"#73b396\",\"#595a96\",\"#972496\",\"#abcf96\",\"#557296\",\"#64a596\",\"#893396\",\"#362496\",\"#cb9f96\",\"#bd3196\",\"#dd3996\",\"#e23096\",\"#6b7d96\",\"#ba8a96\",\"#b34496\",\"#4a9696\",\"#76af96\",\"#a1b896\",\"#77ab96\",\"#764996\",\"#51d596\",\"#a3ca96\",\"#f1d496\",\"#5f9d96\",\"#ea8496\",\"#c8bd96\",\"#689d96\",\"#496196\",\"#3e9c96\",\"#905196\",\"#5dbe96\",\"#803596\",\"#46a896\",\"#549d96\",\"#639196\",\"#44e296\",\"#c1a696\",\"#e3cf96\",\"#66a796\",\"#8ae096\",\"#a0e296\",\"#ee7496\",\"#e7d996\",\"#a17c96\",\"#66d196\",\"#755d96\",\"#3b9096\",\"#399596\",\"#682e96\",\"#447b96\",\"#548296\",\"#ab9996\",\"#8c9b96\",\"#b6df96\",\"#54c896\",\"#5c2296\",\"#438496\",\"#6d2996\",\"#d57996\",\"#4a2696\",\"#506d96\",\"#a3ad96\",\"#d9ab96\",\"#a6bf96\",\"#655296\",\"#96a296\",\"#b6da96\",\"#659e96\",\"#8fcf96\",\"#786d96\",\"#359196\",\"#eddf96\",\"#605796\",\"#44a096\",\"#9ea696\",\"#7ec196\",\"#4bc796\",\"#a32396\",\"#7c7296\",\"#5ba196\",\"#935696\",\"#6da596\",\"#39dc96\",\"#ddca96\",\"#e0b796\",\"#cb3696\",\"#8aaf96\",\"#f5ce96\",\"#682496\",\"#c99396\",\"#5cc496\",\"#d44296\",\"#9fe396\",\"#989096\",\"#922796\",\"#a8a496\",\"#949e96\",\"#bf9196\",\"#90a296\",\"#64ae96\",\"#f02996\",\"#a54c96\",\"#623e96\",\"#4db496\",\"#f72d96\",\"#e79396\",\"#721e96\",\"#455596\",\"#eda996\",\"#ea3c96\",\"#a46996\",\"#be8696\",\"#cd5c96\",\"#535c96\",\"#e55896\",\"#cf9596\",\"#53c996\",\"#806e96\",\"#78b396\",\"#f8b396\",\"#c35396\",\"#b6a896\",\"#89e496\",\"#bc4696\",\"#3b8496\",\"#ecb596\",\"#8ad596\",\"#dc9296\",\"#ac3896\",\"#5aca96\",\"#b77b96\",\"#753096\",\"#8da396\",\"#3b6796\",\"#919c96\",\"#b53296\",\"#834796\",\"#7ad696\",\"#bbc696\",\"#523096\",\"#dad396\",\"#df3d96\",\"#58b896\",\"#bf3496\",\"#99c196\",\"#903b96\",\"#bdd796\",\"#a45296\",\"#828c96\",\"#dd5396\",\"#956096\",\"#758a96\",\"#862a96\",\"#68b196\",\"#c52696\",\"#669996\",\"#a4c396\",\"#6bca96\",\"#96dd96\",\"#355596\",\"#7fd296\",\"#a8ab96\",\"#3f3796\",\"#84df96\",\"#ad6a96\",\"#43e596\",\"#6ed796\",\"#5b4396\",\"#ebcc96\",\"#b0b396\",\"#677396\",\"#d52296\",\"#b39696\",\"#ae3c96\",\"#434e96\",\"#b45996\",\"#4ca496\",\"#80c796\",\"#33bd96\",\"#743596\",\"#d1a096\",\"#707396\",\"#dbd596\",\"#811f96\",\"#7d4a96\",\"#486496\",\"#458f96\",\"#544a96\",\"#44ab96\",\"#8e5296\",\"#9e8b96\",\"#dfa396\",\"#e5c196\",\"#398a96\",\"#eba796\",\"#734b96\",\"#f19696\",\"#7a4596\",\"#39a796\",\"#c6d996\",\"#918096\",\"#c03d96\",\"#60de96\",\"#ed8996\",\"#5a2d96\",\"#6f7496\",\"#604496\",\"#3a5b96\",\"#ecba96\",\"#363f96\",\"#8c2396\",\"#c1b996\",\"#f8b996\",\"#599b96\",\"#697396\",\"#cac596\",\"#d93f96\",\"#bfbb96\",\"#6b5d96\",\"#dda496\",\"#92c896\",\"#3bac96\",\"#524c96\",\"#a68396\",\"#ba6a96\",\"#ba5796\",\"#553996\",\"#c5d296\",\"#784a96\",\"#985496\",\"#5edb96\",\"#876d96\",\"#8f5596\",\"#b9d296\",\"#468c96\",\"#4abd96\",\"#a09696\",\"#8c3b96\",\"#bcb496\",\"#684796\",\"#ce5396\",\"#825e96\",\"#3d7b96\",\"#37af96\",\"#3ea896\",\"#c16e96\",\"#977196\",\"#e1ce96\",\"#e9bc96\",\"#714696\",\"#543f96\",\"#743496\",\"#3c5096\",\"#b95096\",\"#4fbe96\",\"#e02996\",\"#f3e496\",\"#89a696\",\"#625996\",\"#581e96\",\"#c95296\",\"#703d96\",\"#5c3696\",\"#b24e96\",\"#8aca96\",\"#db5796\",\"#7caf96\",\"#d5bc96\",\"#d04996\",\"#396096\",\"#7d2796\",\"#866096\",\"#914596\",\"#cd8d96\",\"#cb4f96\",\"#c58096\",\"#959c96\",\"#e65a96\",\"#aaba96\",\"#e4a096\",\"#df7496\",\"#ac7596\",\"#717296\",\"#4f4296\",\"#b84c96\",\"#5c5096\",\"#e29b96\",\"#e1d696\",\"#7f7896\",\"#5a2096\",\"#e75996\",\"#c65096\",\"#e23096\",\"#95c396\",\"#f7b396\",\"#362196\",\"#bf7396\",\"#a1a796\",\"#f8dc96\",\"#865196\",\"#eec896\",\"#8d9d96\",\"#ab8896\",\"#b97496\",\"#42a296\",\"#5d9f96\",\"#4c7996\",\"#916296\",\"#4ace96\",\"#e6a196\",\"#405596\",\"#a2e196\",\"#a85896\",\"#a27196\",\"#9e3096\",\"#d6d096\",\"#c16f96\",\"#932d96\",\"#bd7d96\",\"#56a296\",\"#973396\",\"#8c4596\",\"#47ad96\",\"#385296\",\"#d4a296\",\"#57b496\",\"#709d96\",\"#cc3396\",\"#c88396\",\"#7b6696\",\"#e98896\",\"#87cb96\",\"#ef8f96\",\"#73b196\",\"#dcbd96\",\"#f8b096\",\"#c16896\",\"#528896\",\"#ced396\",\"#813996\",\"#74b396\",\"#59af96\",\"#ce8396\",\"#e0d196\",\"#f64596\",\"#347696\",\"#6f2f96\",\"#556a96\",\"#b16d96\",\"#cc5e96\",\"#63b496\",\"#434396\",\"#49cb96\",\"#cbc296\",\"#d2af96\",\"#b44696\",\"#dea596\",\"#b02896\",\"#682196\",\"#d63d96\",\"#ca9696\",\"#a16296\",\"#876d96\",\"#daa096\",\"#de6396\",\"#ef9696\",\"#cd2f96\",\"#d62a96\",\"#aea096\",\"#348d96\",\"#696296\",\"#a4b896\",\"#9f3096\",\"#4dd596\",\"#f7e496\",\"#3d8296\",\"#837096\",\"#f0d496\",\"#70c796\",\"#74cd96\",\"#e26a96\",\"#6c6d96\",\"#81cb96\",\"#ba5196\",\"#5d2596\",\"#d22996\",\"#ea3396\",\"#771e96\",\"#4f3496\",\"#4b3696\",\"#587696\",\"#c1d796\",\"#db2d96\",\"#469996\",\"#678796\",\"#885896\",\"#c9e196\",\"#e43f96\",\"#6a4896\",\"#e37b96\",\"#869396\",\"#e75496\",\"#42a096\",\"#5d2196\",\"#a63996\",\"#348a96\",\"#a93296\",\"#c66296\",\"#833b96\",\"#536b96\",\"#582f96\",\"#ef2a96\",\"#887196\",\"#565296\",\"#723296\",\"#3c9196\",\"#4dd396\",\"#834296\",\"#b0d496\",\"#918e96\",\"#68a596\",\"#acdb96\",\"#448596\",\"#457396\",\"#c6c596\",\"#526c96\",\"#8c3c96\",\"#396596\",\"#653196\",\"#a45e96\",\"#8d6996\",\"#6b7b96\",\"#4dc596\",\"#a9e496\",\"#b6e096\",\"#836896\",\"#da3196\",\"#926f96\",\"#cd7c96\",\"#972496\",\"#aebf96\",\"#774596\",\"#ae8496\",\"#764d96\",\"#6e7b96\",\"#801f96\",\"#f85b96\",\"#3bb196\",\"#864196\",\"#9cac96\",\"#e63e96\",\"#db9f96\",\"#49d796\",\"#7b3e96\",\"#927f96\",\"#b19a96\",\"#6d9e96\",\"#36d396\",\"#9c2a96\",\"#ed8296\",\"#66d196\",\"#517296\",\"#f07796\",\"#c5df96\",\"#4d7f96\",\"#56c296\",\"#f1b996\",\"#f32296\",\"#ce2d96\",\"#d93296\",\"#b1a496\",\"#413f96\",\"#dbd196\",\"#705696\",\"#7a8596\",\"#848296\",\"#908796\",\"#834096\",\"#357396\",\"#ad6296\",\"#aeb496\",\"#92da96\",\"#a09c96\",\"#b5ce96\",\"#674796\",\"#9ac896\",\"#e9c196\",\"#329796\",\"#bc3496\",\"#8da696\",\"#e76396\",\"#7eae96\",\"#7f6096\",\"#e5c496\",\"#702196\",\"#a48996\",\"#6ddb96\",\"#e96a96\",\"#dba396\",\"#495396\",\"#b1c896\",\"#79bc96\",\"#575196\",\"#aecb96\",\"#b6b196\",\"#a98196\",\"#8e7296\",\"#64ac96\",\"#dbb496\",\"#408196\",\"#3a4496\",\"#483f96\",\"#922f96\",\"#5de196\",\"#71a296\",\"#d5df96\",\"#bb6596\",\"#823696\",\"#6a7696\",\"#365f96\",\"#d42896\",\"#b75496\",\"#a38296\",\"#5e6596\",\"#3b6296\",\"#973b96\",\"#b7d596\",\"#7c2996\",\"#a6b196\",\"#7d2196\",\"#c0db96\",\"#863f96\",\"#f0d896\",\"#777496\",\"#3de596\",\"#bf3b96\",\"#af6e96\",\"#747196\",\"#847d96\",\"#4f9296\",\"#4ba796\",\"#f07496\",\"#41cc96\",\"#c67b96\",\"#be5d96\",\"#8f4896\",\"#3a1f96\",\"#9ebc96\",\"#7b9c96\",\"#ea2c96\",\"#4c7e96\",\"#3f5196\",\"#8b2e96\",\"#9ba796\",\"#385496\",\"#785496\",\"#c35f96\",\"#cc2296\",\"#f63b96\",\"#3fdd96\",\"#894c96\",\"#3f8596\",\"#ea5896\",\"#616e96\",\"#9e7096\",\"#7e4396\",\"#a38596\",\"#7f3496\",\"#f48a96\",\"#eebf96\",\"#a3ba96\",\"#869696\",\"#e83d96\",\"#b26896\",\"#ec8596\",\"#de9696\",\"#cd7896\",\"#aa9796\",\"#f99b96\",\"#c75196\",\"#da2196\",\"#ead796\",\"#537196\",\"#6e1f96\",\"#a5b496\",\"#e2b096\",\"#b65196\",\"#724796\",\"#989d96\",\"#849c96\",\"#bdc096\",\"#45ce96\",\"#adb696\",\"#574496\",\"#efad96\",\"#55a096\",\"#3dba96\",\"#dc3e96\",\"#ede096\",\"#dd9396\",\"#965196\",\"#f09796\",\"#e54d96\",\"#bb9a96\",\"#cb3696\",\"#ed7c96\",\"#a74f96\",\"#79b396\",\"#f1b496\",\"#c97d96\",\"#c1c396\",\"#eb6596\",\"#909196\",\"#8b9f96\",\"#db3c96\",\"#757b96\",\"#926896\",\"#7aad96\",\"#e8cb96\",\"#5a3496\",\"#4fd896\",\"#e1a596\",\"#3f7c96\",\"#3dbc96\",\"#549b96\",\"#844e96\",\"#d17296\",\"#d6a596\",\"#893b96\",\"#79a096\",\"#746696\",\"#5ade96\",\"#5da496\",\"#3f4496\",\"#556496\",\"#82d996\",\"#49bf96\",\"#557d96\",\"#3a6796\",\"#6ec896\",\"#3aa296\",\"#ccbb96\",\"#c65896\",\"#33c796\",\"#e73f96\",\"#52cc96\",\"#886696\",\"#659496\",\"#402a96\",\"#453596\",\"#a8e096\",\"#ee9a96\",\"#5c7d96\",\"#ddb596\",\"#489e96\",\"#4cdb96\",\"#e14a96\",\"#949296\",\"#e72896\",\"#4d8d96\",\"#eb8896\",\"#cbba96\",\"#a68196\",\"#a3ca96\",\"#46dc96\",\"#935496\",\"#acb196\",\"#c35596\",\"#8b5896\",\"#e97c96\",\"#323596\",\"#913596\",\"#b8a896\",\"#652b96\",\"#444196\",\"#e47b96\",\"#cdb196\",\"#a7c396\",\"#4bbc96\",\"#e53696\",\"#345d96\",\"#f49b96\",\"#464696\",\"#478a96\",\"#6e7f96\",\"#a8bc96\",\"#6ece96\",\"#3bad96\",\"#712096\",\"#478096\",\"#ab9696\",\"#4e6696\",\"#8e6396\",\"#b3b896\",\"#5dda96\",\"#43c896\",\"#f07c96\",\"#7c5896\",\"#d2b396\",\"#e94296\",\"#a8b396\",\"#b8a896\",\"#8f2d96\",\"#e53e96\",\"#844f96\",\"#393b96\",\"#476596\",\"#a8a296\",\"#dc5996\",\"#de9496\",\"#715096\",\"#8e3a96\",\"#a92396\",\"#69df96\",\"#69c296\",\"#bf4a96\",\"#c5d796\",\"#7bb896\",\"#cc8996\",\"#f12196\",\"#3d5196\",\"#456a96\",\"#dba096\",\"#b48796\",\"#415c96\",\"#de8b96\",\"#76c896\",\"#d72f96\",\"#838f96\",\"#db7696\",\"#992f96\",\"#426696\",\"#6fd996\",\"#7a4b96\",\"#8b6196\",\"#422d96\",\"#902096\",\"#b75796\",\"#947c96\",\"#d6e496\",\"#78cc96\",\"#5a2596\",\"#7b5896\",\"#a1a996\",\"#897096\",\"#982296\",\"#c57996\",\"#97d496\",\"#3ecd96\",\"#c26396\",\"#5ea896\",\"#46c796\",\"#ce7496\",\"#c09c96\",\"#da4896\",\"#b0d296\",\"#883896\",\"#89cf96\",\"#b6d196\",\"#8ecb96\",\"#8e5796\",\"#f53e96\",\"#d5dd96\",\"#46c496\",\"#7c3d96\",\"#3bd796\",\"#558796\",\"#d66296\",\"#59c496\",\"#b79996\",\"#8d9796\",\"#a63a96\",\"#cdb396\",\"#d66d96\",\"#413796\",\"#3a7496\",\"#637796\",\"#a65996\",\"#7a8296\",\"#65da96\",\"#c97b96\",\"#b8c496\",\"#ceda96\",\"#d87596\",\"#437896\",\"#689896\",\"#509b96\",\"#527996\",\"#a07196\",\"#e8cd96\",\"#cf8a96\",\"#b9b896\",\"#7a8b96\",\"#ef9196\",\"#3aa596\",\"#639296\",\"#da8296\",\"#e4d496\",\"#327496\",\"#a7e396\",\"#962196\",\"#853b96\",\"#7d5696\",\"#d73296\",\"#552f96\",\"#67cc96\",\"#b37e96\",\"#c3be96\",\"#53a196\",\"#bd3096\",\"#e2a296\",\"#6d2e96\",\"#6e4c96\",\"#e95d96\",\"#8bde96\",\"#513896\",\"#b2c096\",\"#456996\",\"#4e8a96\",\"#337c96\",\"#d1b396\",\"#ecbb96\",\"#f7b496\",\"#ecdb96\",\"#6b2296\",\"#f5a996\",\"#797b96\",\"#392196\",\"#3cb096\",\"#7cdf96\",\"#8ed596\",\"#33ce96\",\"#5e9796\",\"#5ccf96\",\"#d56b96\",\"#c55796\",\"#459896\",\"#468f96\",\"#e29a96\",\"#637b96\",\"#956096\",\"#493896\",\"#9ec696\",\"#c27696\",\"#da2596\",\"#ebaa96\",\"#bb6496\",\"#8e8c96\",\"#b1a296\",\"#702296\",\"#85e596\",\"#622f96\",\"#6e4896\",\"#afb096\",\"#bee496\",\"#e43396\",\"#52ad96\",\"#545096\",\"#c24096\",\"#a08596\",\"#a72696\",\"#eca496\",\"#577896\",\"#e1ae96\",\"#ae8c96\",\"#506f96\",\"#6db696\",\"#5cd796\",\"#59c996\",\"#bd2096\",\"#bcdc96\",\"#a22596\",\"#867096\",\"#f4ad96\",\"#a18696\",\"#532d96\",\"#827696\",\"#8c5496\",\"#674a96\",\"#335496\",\"#e0cf96\",\"#b1cd96\",\"#e67096\",\"#566d96\",\"#ab2996\",\"#586c96\",\"#e06d96\",\"#9ae596\",\"#426f96\",\"#7e5796\",\"#783796\",\"#d56d96\",\"#969696\",\"#393296\",\"#ba3696\",\"#d78e96\",\"#5ee596\",\"#c44a96\",\"#a26f96\",\"#b7d296\",\"#b98496\",\"#54a796\",\"#493b96\",\"#51cb96\",\"#5c7896\",\"#a6d596\",\"#5bd096\",\"#79d396\",\"#f86496\",\"#c1d896\",\"#da5d96\",\"#b3a496\",\"#ace096\",\"#ceb196\",\"#5e8496\",\"#3ea096\",\"#3c3996\",\"#e65c96\",\"#eeab96\",\"#639996\",\"#f52496\",\"#33c996\",\"#e8a996\",\"#bbc196\",\"#4b9296\",\"#c45c96\",\"#346d96\",\"#d29b96\",\"#e34896\",\"#a38196\",\"#e6a596\",\"#948b96\",\"#da8f96\",\"#81ca96\",\"#dc6d96\",\"#337796\",\"#994796\",\"#a2aa96\",\"#e07296\",\"#d03796\",\"#60b596\",\"#857196\",\"#d7d596\",\"#8c5896\",\"#9d2796\",\"#af4696\",\"#35e396\",\"#bb8d96\",\"#36a296\",\"#607796\",\"#868096\",\"#84a596\",\"#ab3996\",\"#dc8996\",\"#41dc96\",\"#d0a796\",\"#db9096\",\"#47d296\",\"#afcb96\",\"#845496\",\"#3eab96\",\"#b59496\",\"#82b296\",\"#a4a496\",\"#33ba96\",\"#b82b96\",\"#778b96\",\"#555396\",\"#703296\",\"#b08296\",\"#48d196\",\"#7d4196\",\"#beb196\",\"#ac6296\",\"#c67196\",\"#df7696\",\"#d34c96\",\"#a29296\",\"#c03396\",\"#a94896\",\"#3da896\",\"#546a96\",\"#a75796\",\"#f74f96\",\"#d76096\",\"#e67196\",\"#cb2196\",\"#f45196\",\"#379096\",\"#373196\",\"#4e7a96\",\"#b83996\",\"#5d6c96\",\"#4cc296\",\"#a85d96\",\"#32de96\",\"#46bf96\",\"#f17896\",\"#436a96\",\"#338796\",\"#847b96\",\"#cca096\",\"#97aa96\",\"#a75196\",\"#7d7096\",\"#cec996\",\"#cc9096\",\"#ea2596\",\"#7ba996\",\"#939196\",\"#ab3696\",\"#5a5896\",\"#35a396\",\"#c3a196\",\"#c2db96\",\"#da7596\",\"#67d396\",\"#8b7196\",\"#86b896\",\"#41a696\",\"#786596\",\"#6e3196\",\"#94a896\",\"#6b2c96\",\"#ad5296\",\"#395d96\",\"#3f5f96\",\"#7c4f96\",\"#b87f96\",\"#599796\",\"#7f9296\",\"#715196\",\"#7dc796\",\"#649696\",\"#ccca96\",\"#be8496\",\"#b69d96\",\"#cfcd96\",\"#f36796\",\"#47b696\",\"#4fcb96\",\"#edd596\",\"#cb8096\",\"#c6d396\",\"#9d2096\",\"#cd8296\",\"#ab6a96\",\"#c9d296\",\"#8c5896\",\"#8ca696\",\"#382c96\",\"#554f96\",\"#a3d796\",\"#738096\",\"#ee3796\",\"#7b3496\",\"#af2596\",\"#e98696\",\"#507896\",\"#473a96\",\"#acc596\",\"#334996\",\"#8f5296\",\"#ceb896\",\"#9b4996\",\"#69bb96\",\"#e94796\",\"#661f96\",\"#d3d096\",\"#7a6b96\",\"#beb196\",\"#88d196\",\"#5f2a96\",\"#52b396\",\"#8aa196\",\"#82b796\",\"#7d7496\",\"#519e96\",\"#5fa496\",\"#e96796\",\"#3c7a96\",\"#854896\",\"#8f5696\",\"#aea096\",\"#3fc096\",\"#614896\",\"#6fa996\",\"#489b96\",\"#7e6e96\",\"#b2e196\",\"#499796\",\"#ef5096\",\"#d9ce96\",\"#e24996\",\"#618c96\",\"#5c4f96\",\"#8a4d96\",\"#7c6696\",\"#465c96\",\"#82b796\",\"#e28b96\",\"#e3a696\",\"#679e96\",\"#803c96\",\"#7a5f96\",\"#982596\",\"#56b996\",\"#d44396\",\"#d9a296\",\"#333596\",\"#94dc96\",\"#a1a396\",\"#553f96\",\"#cb4496\",\"#9b5f96\",\"#dd4296\",\"#668696\",\"#484196\",\"#d64a96\",\"#868896\",\"#756496\",\"#db6496\",\"#5a2f96\",\"#dc5696\",\"#c4c096\",\"#34e096\",\"#688c96\",\"#70af96\",\"#4a5f96\",\"#d94996\",\"#894596\",\"#b9c196\",\"#8a5296\",\"#ea6096\",\"#364096\",\"#bb3e96\",\"#a57296\",\"#887296\",\"#6b9d96\",\"#6f2796\",\"#7b3a96\",\"#7c8996\",\"#d06c96\",\"#339f96\",\"#b82496\",\"#397f96\",\"#ec5496\",\"#e4d196\",\"#f16796\",\"#dde296\",\"#6eb896\",\"#64bf96\",\"#ee3596\",\"#938c96\",\"#a2d996\",\"#6aa696\",\"#a87896\",\"#ec4396\",\"#a41f96\",\"#49dd96\",\"#5c9096\",\"#394196\",\"#8b6b96\",\"#336296\",\"#d2a496\",\"#a96896\",\"#9c2696\",\"#646f96\",\"#3e7296\",\"#54a396\",\"#582396\",\"#ed3596\",\"#729996\",\"#3a2996\",\"#4d2796\",\"#4cb296\",\"#b79896\",\"#a97d96\",\"#b4cb96\",\"#eea896\",\"#6cc396\",\"#d61f96\",\"#cba996\",\"#66cb96\",\"#cc7496\",\"#a98196\",\"#926896\",\"#b53d96\",\"#5e8f96\",\"#3fb196\",\"#544596\",\"#f4b596\",\"#6ddf96\",\"#8a8196\",\"#508c96\",\"#ef5796\",\"#f3b796\",\"#986a96\",\"#342896\",\"#5b6696\",\"#bb8296\",\"#d37296\",\"#86b896\",\"#a7b896\",\"#737b96\",\"#9db596\",\"#f69596\",\"#9be396\",\"#953096\",\"#bc5496\",\"#9c8996\",\"#673996\",\"#e17a96\",\"#7be496\",\"#aa2596\",\"#367096\",\"#679d96\",\"#713b96\",\"#5e9496\",\"#4a5196\",\"#aa9896\",\"#6f4696\",\"#cc2d96\",\"#dca896\",\"#e5de96\",\"#c65c96\",\"#834d96\",\"#45da96\",\"#f86b96\",\"#6c4b96\",\"#bfa396\",\"#338696\",\"#5dc496\",\"#76a296\",\"#9d5696\",\"#328a96\",\"#f2e396\",\"#517396\",\"#b3cb96\",\"#d73496\",\"#904096\",\"#df2c96\",\"#783e96\",\"#bdd996\",\"#b7b696\",\"#c22d96\",\"#9b7c96\",\"#c88c96\",\"#b6c296\",\"#d12196\",\"#6ecd96\",\"#f8a396\",\"#56aa96\",\"#dca596\",\"#a69d96\",\"#ea5c96\",\"#46dc96\",\"#77d696\",\"#dbd696\",\"#44cf96\",\"#a74396\",\"#f48396\",\"#d15896\",\"#d86d96\",\"#44dc96\",\"#4acb96\",\"#dfdb96\",\"#d69096\",\"#72aa96\",\"#4c9696\",\"#f26e96\",\"#5d7096\",\"#f67096\",\"#e2b796\",\"#c1b996\",\"#7f6c96\",\"#cbae96\",\"#6ecc96\",\"#467596\",\"#bb2496\",\"#d09c96\",\"#d8cc96\",\"#8c5696\",\"#cbb496\",\"#44d296\",\"#afc196\",\"#6e3696\",\"#80c196\",\"#6ca596\",\"#d42096\",\"#47d096\",\"#76c896\",\"#76e196\",\"#39d196\",\"#726a96\",\"#eab696\",\"#4f3696\",\"#cb3496\",\"#65d496\",\"#b09396\",\"#e05896\",\"#cf4896\",\"#ccd896\",\"#f36096\",\"#d2a096\",\"#a14296\",\"#5b6196\",\"#437496\",\"#533d96\",\"#7adc96\",\"#71a296\",\"#ef6096\",\"#b68f96\",\"#e58f96\",\"#6a3a96\",\"#48bc96\",\"#c8a996\",\"#e1a796\",\"#9ab396\",\"#f99a96\",\"#d33c96\",\"#72b496\",\"#b15796\",\"#849196\",\"#65be96\",\"#8bc396\",\"#622a96\",\"#b06d96\",\"#ed5d96\",\"#42a796\",\"#904896\",\"#b12096\",\"#b5de96\",\"#e0bf96\",\"#7f2596\",\"#7bb396\",\"#e32996\",\"#61d596\",\"#aa2596\",\"#6f4296\",\"#642c96\",\"#954496\",\"#e3a396\",\"#53a096\",\"#79d796\",\"#735896\",\"#d3da96\",\"#869f96\",\"#f9e296\",\"#80db96\",\"#4ac296\",\"#a39b96\",\"#ded296\",\"#cb8296\",\"#778b96\",\"#d2b096\",\"#e64596\",\"#b22c96\",\"#595596\",\"#413a96\",\"#7e6f96\",\"#9bda96\",\"#c09d96\",\"#5ab796\",\"#41ce96\",\"#3c7196\",\"#e36f96\",\"#ac6696\",\"#4c7d96\",\"#602196\",\"#b9bf96\",\"#de6796\",\"#4eb796\",\"#ee5c96\",\"#5a2396\",\"#a39696\",\"#845496\",\"#cfcd96\",\"#c37b96\",\"#856a96\",\"#619596\",\"#b9ab96\",\"#adce96\",\"#902f96\",\"#cf8596\",\"#e42796\",\"#605496\",\"#f7e096\",\"#f3db96\",\"#49c396\",\"#69e396\",\"#c02896\",\"#c45996\",\"#ac5b96\",\"#538f96\",\"#f92c96\",\"#c9b296\",\"#9a6c96\",\"#4c9796\",\"#e85596\",\"#994796\",\"#9b8796\",\"#38c296\",\"#828896\",\"#38d396\",\"#b3ae96\",\"#83de96\",\"#4a2096\",\"#a42996\",\"#f3c996\",\"#6acd96\",\"#b87e96\",\"#8b6696\",\"#7b5796\",\"#ef7296\",\"#b5e296\",\"#a13496\",\"#76d196\",\"#8b4396\",\"#9d2096\",\"#5d9d96\",\"#ec8996\",\"#9e7a96\",\"#d7dd96\",\"#75ab96\",\"#967096\",\"#67b296\",\"#725296\",\"#77d196\",\"#5dcb96\",\"#c24996\",\"#f9bf96\",\"#56d696\",\"#7c5e96\",\"#7ede96\",\"#42d296\",\"#9e3396\",\"#411e96\",\"#c0ab96\",\"#e1c196\",\"#5bc096\",\"#a06696\",\"#eb5696\",\"#7dd596\",\"#5c4d96\",\"#592f96\",\"#c1a196\",\"#c1b496\",\"#827596\",\"#487596\",\"#6abb96\",\"#67ab96\",\"#a73096\",\"#b24396\",\"#cdb296\",\"#9cb896\",\"#3b6096\",\"#cad996\",\"#a03d96\",\"#b03496\",\"#e3c996\",\"#d13596\",\"#6ba096\",\"#c22f96\",\"#9b2b96\",\"#777c96\",\"#868496\",\"#43b496\",\"#f16b96\",\"#985e96\",\"#edc396\",\"#335396\",\"#838396\",\"#4b6896\",\"#65db96\",\"#b28096\",\"#5e5496\",\"#485396\",\"#633c96\",\"#80ac96\",\"#c87696\",\"#c57096\",\"#74a296\",\"#7c6896\",\"#503296\",\"#af2a96\",\"#57d196\",\"#a28296\",\"#f21f96\",\"#b98096\",\"#522896\",\"#c8e296\",\"#3e6e96\",\"#ce3896\",\"#b74496\",\"#6c8896\",\"#575a96\",\"#c36796\",\"#5f9596\",\"#4e2196\",\"#a07296\",\"#4bce96\",\"#42a796\",\"#4f8996\",\"#72e396\",\"#7e2596\",\"#6a8896\",\"#8c3c96\",\"#8cc996\",\"#7bb496\",\"#347796\",\"#439b96\",\"#a18996\",\"#96ce96\",\"#832596\",\"#ba4996\",\"#cbe396\",\"#bb7096\",\"#394f96\",\"#534696\",\"#ee8096\",\"#36b796\",\"#cb4f96\",\"#57d896\",\"#63ca96\",\"#b92796\",\"#d4de96\",\"#7bde96\",\"#a03796\",\"#558e96\",\"#e9cd96\",\"#464b96\",\"#f91e96\",\"#f7bd96\",\"#9c8296\",\"#7eaf96\",\"#c82196\",\"#f5c296\",\"#967996\",\"#7fb896\",\"#616296\",\"#928496\",\"#395996\",\"#90ab96\",\"#4b2696\",\"#e17896\",\"#d54696\",\"#b22f96\",\"#a14a96\",\"#9fdf96\",\"#4e9a96\",\"#e7b096\",\"#edcb96\",\"#3bcb96\",\"#3ba596\",\"#cf8996\",\"#a84c96\",\"#dc3d96\",\"#3e8096\",\"#757c96\",\"#7e5996\",\"#acbd96\",\"#5f7a96\",\"#498596\",\"#707a96\",\"#da3e96\",\"#8abd96\",\"#816796\",\"#41e096\",\"#78b896\",\"#36c496\",\"#39c796\",\"#658b96\",\"#d5e596\",\"#4ebd96\",\"#769396\",\"#f56796\",\"#d57e96\",\"#4aa296\",\"#5fc296\",\"#bf2696\",\"#c1de96\",\"#335696\",\"#44c896\",\"#7a8296\",\"#347396\",\"#b99d96\",\"#75dd96\",\"#53da96\",\"#452896\",\"#b38196\",\"#f0e096\",\"#70e196\",\"#85e196\",\"#6a7596\",\"#354196\",\"#55e496\",\"#a7e296\",\"#67cb96\",\"#794c96\",\"#51be96\",\"#3c9996\",\"#cfc996\",\"#33bb96\",\"#f8dc96\",\"#aab896\",\"#c5d196\",\"#a38f96\",\"#b6a196\",\"#f8ad96\",\"#8fcc96\",\"#8d5596\",\"#ace296\",\"#7dd496\",\"#9b4196\",\"#642c96\",\"#aa5896\",\"#5b1f96\",\"#36d096\",\"#59da96\",\"#e6e296\",\"#dd4396\",\"#d59396\",\"#e2ca96\",\"#d67796\",\"#cacd96\",\"#badb96\",\"#cd8396\",\"#7b5b96\",\"#3a5496\",\"#536396\",\"#b1bf96\",\"#ed3896\",\"#73af96\",\"#71e596\",\"#8a6a96\",\"#dd2296\",\"#38db96\",\"#8de596\",\"#a19a96\",\"#ca3796\",\"#e76696\",\"#e4d296\",\"#848c96\",\"#385896\",\"#bf2796\",\"#637396\",\"#c22496\",\"#86b996\",\"#58ba96\",\"#3ab496\",\"#5f5f96\",\"#d14b96\",\"#499796\",\"#d0c196\",\"#b34596\",\"#3f9096\",\"#46a096\",\"#a9ce96\",\"#9fe196\",\"#46ae96\",\"#357b96\",\"#9f3596\",\"#f39b96\",\"#81c796\",\"#657596\",\"#9e7f96\",\"#554796\",\"#f88496\",\"#b0b696\",\"#6c8696\",\"#6f2596\",\"#719596\",\"#54a696\",\"#b0a496\",\"#649196\",\"#e4af96\",\"#95d496\",\"#58bd96\",\"#605196\",\"#b57696\",\"#7d5c96\",\"#804996\",\"#da4a96\",\"#ece296\",\"#90d396\",\"#b62996\",\"#36c596\",\"#3ed696\",\"#d1ac96\",\"#d14f96\",\"#ebc796\",\"#f09896\",\"#588d96\",\"#c82a96\",\"#476796\",\"#8b5096\",\"#968f96\",\"#8ec296\",\"#892896\",\"#785f96\",\"#ead296\",\"#a07c96\",\"#e62b96\",\"#d54896\",\"#3eca96\",\"#e56896\",\"#45b296\",\"#39a096\",\"#b2bd96\",\"#428b96\",\"#79a596\",\"#bc6296\",\"#d37b96\",\"#8b8196\",\"#f44e96\",\"#843296\",\"#7b7496\",\"#487d96\",\"#95af96\",\"#763796\",\"#f69296\",\"#a95396\",\"#3dba96\",\"#969796\",\"#538996\",\"#efda96\",\"#46ce96\",\"#d6d196\",\"#84bb96\",\"#826596\",\"#c59d96\",\"#55aa96\",\"#88d696\",\"#ad5896\",\"#336596\",\"#68cd96\",\"#49ae96\",\"#a66896\",\"#342f96\",\"#e83d96\",\"#addb96\",\"#937f96\",\"#6e5696\",\"#9b4c96\",\"#c5ba96\",\"#9dbc96\",\"#796996\",\"#92d796\",\"#e5c996\",\"#40b196\",\"#a09196\",\"#b4b696\",\"#a69d96\",\"#3d6796\",\"#3f2496\",\"#3c7c96\",\"#9f3296\",\"#98d696\",\"#b9a296\",\"#e32e96\",\"#678a96\",\"#c52996\",\"#558996\",\"#abb096\",\"#d5df96\",\"#da2f96\",\"#473896\",\"#7be096\",\"#759096\",\"#d7d496\",\"#afb996\",\"#f43396\",\"#6d8396\",\"#376596\",\"#ca8496\",\"#e27896\",\"#5c8c96\",\"#48ca96\",\"#71c296\",\"#392f96\",\"#488196\",\"#9b3496\",\"#bc5b96\",\"#616f96\",\"#798896\",\"#32d296\",\"#833596\",\"#7db296\",\"#cfa596\",\"#e58a96\",\"#ce8696\",\"#89c396\",\"#5be196\",\"#a88496\",\"#646996\",\"#8bc796\",\"#a2a096\",\"#f17796\",\"#c19f96\",\"#56c996\",\"#447d96\",\"#a2ba96\",\"#3f9c96\",\"#37ac96\",\"#697996\",\"#8d5c96\",\"#9ecf96\",\"#8b4e96\",\"#adce96\",\"#d5dd96\",\"#c16f96\",\"#888a96\",\"#828a96\",\"#e4cc96\",\"#c97396\",\"#8bc196\",\"#455c96\",\"#81bb96\",\"#f1a796\",\"#5d8796\",\"#755d96\",\"#f23d96\",\"#495896\",\"#66a696\",\"#74b896\",\"#e68196\",\"#6f7096\",\"#af3096\",\"#7adc96\",\"#91de96\",\"#b39a96\",\"#88d696\",\"#ecac96\",\"#4aa496\",\"#6b2a96\",\"#d9b896\",\"#e09796\",\"#54ca96\",\"#865b96\",\"#763896\",\"#3ad296\",\"#476e96\",\"#5f5c96\",\"#e42096\",\"#a72d96\",\"#917996\",\"#e24e96\",\"#b1a096\",\"#51d796\",\"#e73a96\",\"#3f9b96\",\"#36ad96\",\"#a87d96\",\"#6a2c96\",\"#9bd696\",\"#5cb796\",\"#f0be96\",\"#434396\",\"#8c5f96\",\"#589796\",\"#d23496\",\"#856196\",\"#6ba196\",\"#a3e496\",\"#f15696\",\"#99b296\",\"#423e96\",\"#5ad096\",\"#67d696\",\"#b0df96\",\"#a64296\",\"#5cc696\",\"#846096\",\"#f6bb96\",\"#abca96\",\"#f1a196\",\"#b44396\",\"#beb396\",\"#ebd496\",\"#801e96\",\"#5f2196\",\"#cb5b96\",\"#ae4996\",\"#5a3d96\",\"#d89d96\",\"#a9b696\",\"#9ea496\",\"#4b3c96\",\"#c67c96\",\"#9e3596\",\"#a45496\",\"#ba8b96\",\"#50a896\",\"#885e96\",\"#969996\",\"#687996\",\"#528596\",\"#51cb96\",\"#646f96\",\"#cadd96\",\"#d94696\",\"#829296\",\"#563a96\",\"#dc9696\",\"#d0b796\",\"#d0c696\",\"#be4796\",\"#7b9796\",\"#7b7b96\",\"#805f96\",\"#7a4096\",\"#401f96\",\"#e3ab96\",\"#6f3296\",\"#efba96\",\"#9b9e96\",\"#69d796\",\"#7ec496\",\"#52c396\",\"#4a8796\",\"#482496\",\"#cac996\",\"#b64596\",\"#35c996\",\"#ed4896\",\"#ac8a96\",\"#e3c896\",\"#b32296\",\"#d76496\",\"#f85796\",\"#527996\",\"#6d8d96\",\"#a8d896\",\"#82dc96\",\"#ae6b96\",\"#92d096\",\"#672c96\",\"#9e9a96\",\"#e09496\",\"#39cb96\",\"#867996\",\"#f6c696\",\"#b14b96\",\"#ba9b96\",\"#9a3c96\",\"#f8de96\",\"#478196\",\"#3c3696\",\"#bbba96\",\"#664996\",\"#a58596\",\"#ec5296\",\"#c67c96\",\"#4c8796\",\"#e96296\",\"#90df96\",\"#d0c196\",\"#524e96\",\"#60a496\",\"#d55e96\",\"#cdd796\",\"#487a96\",\"#975196\",\"#894096\",\"#36b396\",\"#c0d596\",\"#788c96\",\"#952196\",\"#de3096\",\"#d18496\",\"#e1d596\",\"#379896\",\"#d5ae96\",\"#f39d96\",\"#e54d96\",\"#eda996\",\"#7c6896\",\"#518996\",\"#f72696\",\"#95d096\",\"#998396\",\"#483b96\",\"#76dd96\",\"#378996\",\"#ec7b96\",\"#d13796\",\"#dc2196\",\"#e35896\",\"#477f96\",\"#34d096\",\"#d73896\",\"#bc2396\",\"#c35d96\",\"#716e96\",\"#4b7396\",\"#7e9596\",\"#919896\",\"#5a6b96\",\"#b7a496\",\"#e6dc96\",\"#c37c96\",\"#dbae96\",\"#9ab296\",\"#3a9996\",\"#50bc96\",\"#d9a696\",\"#916b96\",\"#de5096\",\"#522596\",\"#4f9696\",\"#444396\",\"#bd3896\",\"#54bd96\",\"#3a9996\",\"#a9b896\",\"#f85896\",\"#d07596\",\"#77c596\",\"#8e8f96\",\"#75e296\",\"#9a3496\",\"#709696\",\"#425296\",\"#d42296\",\"#425196\",\"#d79c96\",\"#a8d196\",\"#68d796\",\"#dabd96\",\"#6a8e96\",\"#c4d096\",\"#dab096\",\"#b29a96\",\"#d4b896\",\"#d6a496\",\"#d75496\",\"#f32c96\",\"#4d7c96\",\"#f7d296\",\"#5e3896\",\"#6cdf96\",\"#569b96\",\"#ba7896\",\"#eab596\",\"#88c996\",\"#ef9696\",\"#4eb796\",\"#e45596\",\"#c03d96\",\"#72cc96\",\"#e76c96\",\"#db6296\",\"#6d4796\",\"#528796\",\"#d63596\",\"#f96896\",\"#423196\",\"#3c2796\",\"#44cc96\",\"#669a96\",\"#6dc696\",\"#af5696\",\"#c87196\",\"#898f96\",\"#8d9296\",\"#f11f96\",\"#3b2296\",\"#6f8c96\",\"#a46e96\",\"#ea7696\",\"#37df96\",\"#46a396\",\"#5dd096\",\"#c46496\",\"#94b496\",\"#655a96\",\"#a44a96\",\"#a3c196\",\"#902296\",\"#374196\",\"#d78796\",\"#853796\",\"#4cc496\",\"#685c96\",\"#3db496\",\"#3c3c96\",\"#74cf96\",\"#48b096\",\"#852396\",\"#c33696\",\"#6e5f96\",\"#4b8f96\",\"#da8d96\",\"#379796\",\"#3ad096\",\"#a57596\",\"#b45696\",\"#b55f96\",\"#b07396\",\"#43da96\",\"#df7796\",\"#f1c296\",\"#485d96\",\"#7ede96\",\"#ca7396\",\"#ddc596\",\"#55c796\",\"#3bdc96\",\"#335996\",\"#672096\",\"#b3ad96\",\"#c42c96\",\"#60cf96\",\"#e94396\",\"#9e5896\",\"#90d496\",\"#402096\",\"#637e96\",\"#ed6b96\",\"#635796\",\"#cdbd96\",\"#88df96\",\"#f89c96\",\"#edb796\",\"#4e6696\",\"#74c396\",\"#3c4596\",\"#9fe496\",\"#cbe096\",\"#d43396\",\"#ab6a96\",\"#bb9796\",\"#ed8696\",\"#52cc96\",\"#d08896\",\"#63ac96\",\"#f49296\",\"#7a6196\",\"#9f5496\",\"#b57996\",\"#4a4096\",\"#6a5296\",\"#f59f96\",\"#4bc196\",\"#b39b96\",\"#c47096\",\"#7dc796\",\"#a06696\",\"#887c96\",\"#65d696\",\"#bc8596\",\"#7ab896\",\"#772d96\",\"#933596\",\"#b96296\",\"#669d96\",\"#b68096\",\"#916496\",\"#8f5796\",\"#b6d296\",\"#54de96\",\"#7ce296\",\"#936796\",\"#cc5b96\",\"#ac9496\",\"#4e4996\",\"#876996\",\"#4a3d96\",\"#57ad96\",\"#bc7b96\",\"#b83c96\",\"#b39d96\",\"#85c296\",\"#b68696\",\"#ab3896\",\"#5cd196\",\"#de2396\",\"#5bc296\",\"#ced996\",\"#af9b96\",\"#cbe596\",\"#ec8e96\",\"#a59996\",\"#d18396\",\"#f8bb96\",\"#b9ba96\",\"#c24396\",\"#924996\",\"#d57796\",\"#362896\",\"#d09e96\",\"#d25596\",\"#a95696\",\"#766596\",\"#65dd96\",\"#6b6596\",\"#5dd196\",\"#d95896\",\"#8db796\",\"#f45d96\",\"#d6e296\",\"#f47296\",\"#ce4896\",\"#e07e96\",\"#3c3896\",\"#46dd96\",\"#f5c396\",\"#9ee196\",\"#f84996\",\"#9f6596\",\"#38a296\",\"#b7ca96\",\"#a63296\",\"#efe296\",\"#852496\",\"#e46d96\",\"#e58b96\",\"#728c96\",\"#70cb96\",\"#a6ad96\",\"#e8a396\",\"#e04296\",\"#b03496\",\"#f63c96\",\"#af6596\",\"#a01e96\",\"#f47e96\",\"#6bd196\",\"#a8de96\",\"#476b96\",\"#9ea896\",\"#f94096\",\"#515796\",\"#c77896\",\"#d59996\",\"#668a96\",\"#cd4c96\",\"#807596\",\"#c3a596\",\"#3bc896\",\"#9c6496\",\"#d3d096\",\"#4f9f96\",\"#44d396\",\"#747e96\",\"#94c196\",\"#ece296\",\"#838096\",\"#b6bf96\",\"#bc3c96\",\"#603596\",\"#ba9396\",\"#f39a96\",\"#3e7396\",\"#357196\",\"#48cd96\",\"#58a796\",\"#556c96\",\"#d76a96\",\"#6ce396\",\"#a63796\",\"#cfbe96\",\"#a87796\",\"#b6b296\",\"#476896\",\"#5cc296\",\"#ed5496\",\"#4e7f96\",\"#684796\",\"#867d96\",\"#44b996\",\"#41cd96\",\"#51ae96\",\"#57b096\",\"#9fc196\",\"#4a5896\",\"#482196\",\"#38c096\",\"#66ca96\",\"#f27f96\",\"#ab6c96\",\"#694696\",\"#b14596\",\"#55dd96\",\"#609396\",\"#8fe196\",\"#b14696\",\"#c88d96\",\"#3e4b96\",\"#70a596\",\"#98dd96\",\"#4a4496\",\"#959996\",\"#e52596\",\"#e4a696\",\"#d0dc96\",\"#b45996\",\"#b78396\",\"#afa496\",\"#a1cf96\",\"#aaa996\",\"#a2ad96\",\"#617796\",\"#d15c96\",\"#acaa96\",\"#d4a696\",\"#d17996\",\"#8aa996\",\"#f46996\",\"#7f7096\",\"#f36496\",\"#3dd696\",\"#556196\",\"#688e96\",\"#9ca796\",\"#c2b096\",\"#ec9096\",\"#a5c796\",\"#35d296\",\"#e2a396\",\"#9d3296\",\"#837596\",\"#c87c96\",\"#b65f96\",\"#d4ab96\",\"#d82496\",\"#6f7296\",\"#cf4f96\",\"#dfa396\",\"#565596\",\"#897e96\",\"#ba4a96\",\"#785896\",\"#5b3596\",\"#95b196\",\"#f1cb96\",\"#41a996\",\"#645896\",\"#bd3296\",\"#bb9b96\",\"#a3d396\",\"#ad2996\",\"#b28c96\",\"#ede496\",\"#9a9b96\",\"#b17096\",\"#f82a96\",\"#992496\",\"#af3c96\",\"#87b596\",\"#55c596\",\"#be9d96\",\"#499e96\",\"#ad4096\",\"#3f6496\",\"#cf2796\",\"#558796\",\"#997a96\",\"#5e9796\",\"#514796\",\"#d72f96\",\"#c16a96\",\"#c75a96\",\"#6fb196\",\"#493396\",\"#847396\",\"#879796\",\"#56d896\",\"#524d96\",\"#336796\",\"#ab4f96\",\"#aa2f96\",\"#c3e396\",\"#bf4b96\",\"#36dd96\",\"#714796\",\"#c58496\",\"#7aaa96\",\"#498396\",\"#c3d796\",\"#f64396\",\"#e9ab96\",\"#5b2296\",\"#3e2096\",\"#cd9396\",\"#8f6896\",\"#9ba496\",\"#4c6d96\",\"#41c796\",\"#4acb96\",\"#5fe196\",\"#d74c96\",\"#963996\",\"#8cbe96\",\"#988c96\",\"#909596\",\"#d42b96\",\"#75de96\",\"#9a8696\",\"#db8d96\",\"#d4d796\",\"#a6dc96\",\"#e8b796\",\"#8c2196\",\"#81db96\",\"#a03896\",\"#738096\",\"#3b6696\",\"#3ac896\",\"#d39196\",\"#68da96\",\"#7c9d96\",\"#327396\",\"#e16a96\",\"#8d5496\",\"#e9b296\",\"#d8af96\",\"#97b396\",\"#c55e96\",\"#d17996\",\"#f4da96\",\"#9e6696\",\"#d38596\",\"#5f8796\",\"#3acb96\",\"#ac6696\",\"#e94e96\",\"#a62496\",\"#71bd96\",\"#96c596\",\"#f46396\",\"#9ed196\",\"#a4b296\",\"#496d96\",\"#e46696\",\"#f2a496\",\"#651e96\",\"#a0a396\",\"#383c96\",\"#cf7396\",\"#35cd96\",\"#5b3496\",\"#5f7296\",\"#ba2296\",\"#9f7796\",\"#463196\",\"#b0b696\",\"#39cd96\",\"#9e5e96\",\"#dd7d96\",\"#b34096\",\"#bfd296\",\"#b28f96\",\"#dd5396\",\"#614396\",\"#5f8196\",\"#d63e96\",\"#e15c96\",\"#362496\",\"#948c96\",\"#a7c196\",\"#3a2796\",\"#3ce396\",\"#9a4796\",\"#9c6896\",\"#369b96\",\"#f88696\",\"#8aa396\",\"#8fc596\",\"#41d696\",\"#69d296\",\"#e88a96\",\"#783396\",\"#e65d96\",\"#90ab96\",\"#dc5296\",\"#e08f96\",\"#7e5d96\",\"#9ae296\",\"#d6c596\",\"#3b9796\",\"#917796\",\"#c82596\",\"#baa396\",\"#d57696\",\"#9a8196\",\"#498296\",\"#e98b96\",\"#f3b596\",\"#9fab96\",\"#656b96\",\"#33cd96\",\"#35b096\",\"#4c8696\",\"#66df96\",\"#b73196\",\"#732896\",\"#af3d96\",\"#ca6f96\",\"#cd6396\",\"#61e196\",\"#c3b096\",\"#50dd96\",\"#b44296\",\"#a45a96\",\"#595996\",\"#3aa796\",\"#3cc596\",\"#d72d96\",\"#982b96\",\"#a0de96\",\"#e86296\",\"#336d96\",\"#532c96\",\"#56dc96\",\"#c7da96\",\"#bf4696\",\"#d34396\",\"#3a6596\",\"#bbdb96\",\"#9a9996\",\"#66c896\",\"#c35d96\",\"#406c96\",\"#f12f96\",\"#5c6696\",\"#4bd796\",\"#8a5f96\",\"#ec4a96\",\"#656c96\",\"#46bb96\",\"#413c96\",\"#95c796\",\"#542396\",\"#4d5896\",\"#3b5596\",\"#41d896\",\"#554a96\",\"#9d7a96\",\"#519a96\",\"#8f7396\",\"#bbab96\",\"#836496\",\"#5f7596\",\"#88c296\",\"#5b7896\",\"#caac96\",\"#337596\",\"#495a96\",\"#328396\",\"#a8bf96\",\"#489396\",\"#a88b96\",\"#7abc96\",\"#883296\",\"#9ab896\",\"#c0ba96\",\"#58b796\",\"#c6b796\",\"#411f96\",\"#536a96\",\"#857496\",\"#456196\",\"#dd6896\",\"#959496\",\"#552896\",\"#4d4e96\",\"#8d4a96\",\"#e19d96\",\"#b0ac96\",\"#a55b96\",\"#474096\",\"#e08e96\",\"#39c296\",\"#7c2896\",\"#4ac796\",\"#b23796\",\"#389f96\",\"#a59796\",\"#f65c96\",\"#956e96\",\"#f62696\",\"#572696\",\"#694996\",\"#686596\",\"#799796\",\"#ec7b96\",\"#3a4796\",\"#613996\",\"#5ece96\",\"#6a3c96\",\"#e15496\",\"#df8496\",\"#732996\",\"#d7a396\",\"#dea196\",\"#5a7c96\",\"#a9e096\",\"#69a896\",\"#3ad096\",\"#b83296\",\"#c43196\",\"#892696\",\"#3f7896\",\"#7bc596\",\"#e16e96\",\"#753696\",\"#4bb496\",\"#90c596\",\"#b93396\",\"#5ebf96\",\"#eaa296\",\"#bd7c96\",\"#6bb396\",\"#827296\",\"#c2d896\",\"#908996\",\"#4daa96\",\"#6f6796\",\"#be4596\",\"#a1c896\",\"#dd7c96\",\"#eb4c96\",\"#86c096\",\"#f8b996\",\"#504096\",\"#d02f96\",\"#726896\",\"#3a5596\",\"#9c3d96\",\"#54bf96\",\"#482296\",\"#a87b96\",\"#e23a96\",\"#4b5496\",\"#f7cc96\",\"#93ab96\",\"#af9696\",\"#a2ac96\",\"#492496\",\"#506696\",\"#f74596\",\"#d3a096\",\"#cc6796\",\"#4dc396\",\"#f08396\",\"#54da96\",\"#492a96\",\"#633c96\",\"#dd8e96\",\"#d79f96\",\"#3e5a96\",\"#673396\",\"#37ad96\",\"#b37296\",\"#a96d96\",\"#b44996\",\"#372896\",\"#b76196\",\"#bf2296\",\"#eab096\",\"#462f96\",\"#76af96\",\"#cc4196\",\"#619c96\",\"#cc2796\",\"#8a9996\",\"#b3cd96\",\"#496e96\",\"#ee7c96\",\"#7e8196\",\"#5b8396\",\"#67e196\",\"#ebbc96\",\"#e56896\",\"#b58796\",\"#42bd96\",\"#67bb96\",\"#4b3f96\",\"#ab7e96\",\"#a09996\",\"#bd5e96\",\"#3cb896\",\"#5d2e96\",\"#3be496\",\"#c19196\",\"#389996\",\"#729096\",\"#e22996\",\"#826d96\",\"#6aaa96\",\"#439f96\",\"#d4ca96\",\"#565996\",\"#ec1e96\",\"#90b296\",\"#4f5a96\",\"#474b96\",\"#994396\",\"#708596\",\"#98c096\",\"#632c96\",\"#9cca96\",\"#e67696\",\"#476696\",\"#4da796\",\"#7ab796\",\"#3a8c96\",\"#375696\",\"#c9cc96\",\"#752696\",\"#e5a496\",\"#bbc696\",\"#577c96\",\"#87cb96\",\"#386996\",\"#dda496\",\"#e95196\",\"#8e2096\",\"#646696\",\"#3b4396\",\"#705596\",\"#581e96\",\"#cabd96\",\"#f2bf96\",\"#baa196\",\"#3f2f96\",\"#8d2896\",\"#545e96\",\"#6fd296\",\"#7b7696\",\"#cd8596\",\"#be2596\",\"#ada896\",\"#f36496\",\"#829096\",\"#3d5e96\",\"#a06796\",\"#ead196\",\"#eab096\",\"#e74796\",\"#9c8596\",\"#f64b96\",\"#42a796\",\"#ea6e96\",\"#a57c96\",\"#f63b96\",\"#c9b996\",\"#aed996\",\"#f24e96\",\"#d09296\",\"#9c3f96\",\"#746d96\",\"#f43896\",\"#8e2c96\",\"#768b96\",\"#b22196\",\"#92e196\",\"#986f96\",\"#946596\",\"#634496\",\"#9c3b96\",\"#362d96\",\"#9e9c96\",\"#81af96\",\"#ed4896\",\"#e84e96\",\"#8b5f96\",\"#92c896\",\"#636596\",\"#e8b796\",\"#b94396\",\"#496f96\",\"#c0d296\",\"#465696\",\"#e45196\",\"#b78896\",\"#b99496\",\"#93c096\",\"#8f3796\",\"#8a5696\",\"#859196\",\"#8b7296\",\"#ead096\",\"#589f96\",\"#d5e196\",\"#d07996\",\"#3c8296\",\"#598096\",\"#7c4a96\",\"#e05596\",\"#6ca396\",\"#d87496\",\"#9f8796\",\"#325096\",\"#6b8296\",\"#e73996\",\"#c0a396\",\"#41a396\",\"#c29696\",\"#cec696\",\"#e26696\",\"#59e196\",\"#3fc996\",\"#424896\",\"#c02596\",\"#74b096\",\"#cb3f96\",\"#ec7996\",\"#e36296\",\"#ac8396\",\"#b82b96\",\"#df2f96\",\"#ae8096\",\"#3d8b96\",\"#627c96\",\"#b25d96\",\"#a93596\",\"#ce8096\",\"#d9b896\",\"#c2c696\",\"#622e96\",\"#802d96\",\"#f9ab96\",\"#543f96\",\"#e67d96\",\"#7b5396\",\"#79c596\",\"#415b96\",\"#67bf96\",\"#79d396\",\"#f0df96\",\"#b1a196\",\"#6d8596\",\"#909e96\",\"#6f3896\",\"#817796\",\"#4f6296\",\"#f33796\",\"#794096\",\"#cb6696\",\"#76cc96\",\"#f7a496\",\"#e9df96\",\"#827e96\",\"#5bc196\",\"#852896\",\"#9ea896\",\"#9a8d96\",\"#8dd796\",\"#abc896\",\"#a55f96\",\"#9c5a96\",\"#3fa096\",\"#dec196\",\"#586796\",\"#a34696\",\"#346096\",\"#c9d996\",\"#929296\",\"#3ad696\",\"#593f96\",\"#6ea396\",\"#e39e96\",\"#908096\",\"#efbb96\",\"#a04f96\",\"#e16396\",\"#7d3696\",\"#675296\",\"#8a9896\",\"#76b496\",\"#e76b96\",\"#803b96\",\"#c64b96\",\"#c8ba96\",\"#88cb96\",\"#6baa96\",\"#823796\",\"#e73196\",\"#b92496\",\"#9fc296\",\"#a79496\",\"#ae8c96\",\"#d1b096\",\"#d0d896\",\"#a04596\",\"#b9c196\",\"#72b996\",\"#576d96\",\"#f9cc96\",\"#9ee596\",\"#a23396\",\"#cb6b96\",\"#c85396\",\"#b18296\",\"#bcd196\",\"#93e096\",\"#62a096\",\"#632396\",\"#b92096\",\"#8d7996\",\"#e4cf96\",\"#c6a696\",\"#b76b96\",\"#39de96\",\"#5ea696\",\"#4eb396\",\"#d38d96\",\"#6ca596\",\"#5f8896\",\"#a25496\",\"#4ae096\",\"#d25196\",\"#d07b96\",\"#efd696\",\"#566b96\",\"#3ec296\",\"#ccbf96\",\"#dbce96\",\"#c04796\",\"#6e7e96\",\"#70c096\",\"#9bc296\",\"#6c3a96\",\"#58a196\",\"#827e96\",\"#354d96\",\"#548a96\",\"#ae9696\",\"#cf3d96\",\"#584896\",\"#bf2396\",\"#3e9696\",\"#85d196\",\"#c8c596\",\"#767896\",\"#753796\",\"#cc3196\",\"#a0b796\",\"#807396\",\"#649196\",\"#895096\",\"#39cb96\",\"#968896\",\"#bb7296\",\"#f06696\",\"#3ed896\",\"#533596\",\"#b57896\",\"#8c7296\",\"#772b96\",\"#bb6496\",\"#806d96\",\"#bfac96\",\"#6ca696\",\"#787896\",\"#cb5f96\",\"#774396\",\"#cb2d96\",\"#b7b796\",\"#8d7f96\",\"#efaa96\",\"#e33c96\",\"#a82696\",\"#556796\",\"#efc196\",\"#eeb596\",\"#cb6e96\",\"#734896\",\"#5c2396\",\"#edce96\",\"#50d696\",\"#378c96\",\"#384496\",\"#91a796\",\"#775b96\",\"#da4696\",\"#347196\",\"#b33296\",\"#a87196\",\"#685c96\",\"#e9e296\",\"#b88596\",\"#917196\",\"#959b96\",\"#b74696\",\"#e54996\",\"#94e396\",\"#e68696\",\"#a54f96\",\"#bd8696\",\"#a24696\",\"#427396\",\"#7eb396\",\"#bacd96\",\"#cd9c96\",\"#b28996\",\"#d72a96\",\"#7f6496\",\"#b3cf96\",\"#749c96\",\"#60a896\",\"#f9e096\",\"#e75796\",\"#9a7d96\",\"#a06696\",\"#b6d396\",\"#86e096\",\"#475096\",\"#9f7296\",\"#ba9096\",\"#cf9f96\",\"#f67296\",\"#c2af96\",\"#c72996\",\"#4f6b96\",\"#7b5496\",\"#cf2196\",\"#e34096\",\"#86b196\",\"#5c7696\",\"#d24b96\",\"#453f96\",\"#e5c396\",\"#f64796\",\"#e67296\",\"#a0c596\",\"#4ab396\",\"#65b796\",\"#dc5796\",\"#873996\",\"#45cb96\",\"#62d496\",\"#4c6696\",\"#37b396\",\"#ae5d96\",\"#80ab96\",\"#962196\",\"#792696\",\"#957396\",\"#7d9596\",\"#3bda96\",\"#5fa396\",\"#974b96\",\"#3e9b96\",\"#a07496\",\"#63ad96\",\"#812b96\",\"#7be596\",\"#89c696\",\"#4f2196\",\"#eb3f96\",\"#bb3b96\",\"#d3a596\",\"#496196\",\"#6b7996\",\"#b23596\",\"#ea4996\",\"#5c8b96\",\"#653e96\",\"#f6df96\",\"#381e96\",\"#79ae96\",\"#bc3196\",\"#b8dc96\",\"#763d96\",\"#d66296\",\"#6bb296\",\"#ac7296\",\"#ae9896\",\"#ab6896\",\"#4f3c96\",\"#629196\",\"#71e096\",\"#6a6596\",\"#ead496\",\"#3b5f96\",\"#6cc496\",\"#be9996\",\"#e9bc96\",\"#416996\",\"#815896\",\"#a55296\",\"#628296\",\"#b3c496\",\"#624a96\",\"#d2dd96\",\"#a77a96\",\"#9d2b96\",\"#c57b96\",\"#72db96\",\"#cac396\",\"#3b5596\",\"#6f3496\",\"#517996\",\"#d32d96\",\"#3b4696\",\"#529696\",\"#92a896\",\"#ddda96\",\"#88c796\",\"#769b96\",\"#745896\",\"#9eb596\",\"#d39996\",\"#809696\",\"#f93d96\",\"#c6b496\",\"#7aa596\",\"#efdc96\",\"#915696\",\"#f66596\",\"#af8d96\",\"#c0b296\",\"#599f96\",\"#a0bc96\",\"#905196\",\"#674f96\",\"#7d9596\",\"#355d96\",\"#c93b96\",\"#777a96\",\"#e33c96\",\"#7bdd96\",\"#4a3f96\",\"#b2d896\",\"#e7d696\",\"#86af96\",\"#b19a96\",\"#c2bc96\",\"#906296\",\"#713496\",\"#b8c396\",\"#83d096\",\"#6d2296\",\"#b34b96\",\"#e58d96\",\"#cce096\",\"#45bb96\",\"#c7b896\",\"#a39c96\",\"#e98096\",\"#bbac96\",\"#7e4a96\",\"#783096\",\"#34d596\",\"#89d596\",\"#79ca96\",\"#509396\",\"#a68f96\",\"#5e4b96\",\"#33d396\",\"#8e9696\",\"#e1d196\",\"#376896\",\"#3d3696\",\"#e08e96\",\"#a1dd96\",\"#884c96\",\"#556a96\",\"#829396\",\"#6bbb96\",\"#f5cc96\",\"#3c6896\",\"#e92896\",\"#e84d96\",\"#a9d396\",\"#ae4596\",\"#e19c96\",\"#7b2b96\",\"#cad396\",\"#f2c796\",\"#e32496\",\"#9b4196\",\"#853196\",\"#e9d496\",\"#4c2996\",\"#57cf96\",\"#867b96\",\"#dc4e96\",\"#594296\",\"#494596\",\"#f14a96\",\"#cedb96\",\"#e34896\",\"#5ada96\",\"#8a9e96\",\"#985296\",\"#edbb96\",\"#688e96\",\"#9a5696\",\"#c9c896\",\"#ec3a96\",\"#a3d396\",\"#8d2096\",\"#c3a896\",\"#482696\",\"#b3b296\",\"#a2d396\",\"#a15196\",\"#c17b96\",\"#9f4b96\",\"#75b996\",\"#813396\",\"#cd5c96\",\"#b6ab96\",\"#70c196\",\"#ab3b96\",\"#f03e96\",\"#f1d096\",\"#e07296\",\"#d4cf96\",\"#a94396\",\"#836596\",\"#ad6796\",\"#ba3596\",\"#e18a96\",\"#acd396\",\"#f7d596\",\"#55a396\",\"#332d96\",\"#866996\",\"#b49796\",\"#ab7096\",\"#d14f96\",\"#4ac596\",\"#a59596\",\"#b84096\",\"#406496\",\"#708196\",\"#5fdc96\",\"#407a96\",\"#36a796\",\"#59b096\",\"#e2cc96\",\"#614796\",\"#894796\",\"#84dc96\",\"#579196\",\"#f1ab96\",\"#ac5b96\",\"#cbd496\",\"#f24b96\",\"#707d96\",\"#bc8c96\",\"#a8da96\",\"#e25396\",\"#dc1e96\",\"#e68b96\",\"#abbf96\",\"#e5bc96\",\"#59da96\",\"#ac4f96\",\"#bd3b96\",\"#ba6e96\",\"#94e296\",\"#e99596\",\"#e6a796\",\"#485796\",\"#8fb896\",\"#8a7f96\",\"#a74d96\",\"#f3bd96\",\"#66c596\",\"#62df96\",\"#926896\",\"#3d4f96\",\"#ea4796\",\"#e8e496\",\"#7a9d96\",\"#e1a496\",\"#87c996\",\"#72d996\",\"#b8d496\",\"#972b96\",\"#682796\",\"#38a696\",\"#b2df96\",\"#445a96\",\"#a79396\",\"#db4996\",\"#a83596\",\"#352396\",\"#f4c896\",\"#a88796\",\"#7a5796\",\"#db4396\",\"#7cc596\",\"#365e96\",\"#75cd96\",\"#41de96\",\"#789596\",\"#86bf96\",\"#cfb796\",\"#741e96\",\"#438f96\",\"#b89c96\",\"#d1ab96\",\"#a0da96\",\"#da8196\",\"#886b96\",\"#bb4f96\",\"#e52296\",\"#9e6a96\",\"#e43b96\",\"#ac6796\",\"#8e7e96\",\"#6e3c96\",\"#907896\",\"#db9796\",\"#69ae96\",\"#516b96\",\"#c1c296\",\"#766d96\",\"#7b5a96\",\"#98c896\",\"#eca196\",\"#a54696\",\"#a42496\",\"#bf9e96\",\"#e9cf96\",\"#f25096\",\"#ce5e96\",\"#d4db96\",\"#4b7d96\",\"#8cdb96\",\"#969a96\",\"#6d3a96\",\"#d3be96\",\"#4dc096\",\"#739d96\",\"#486b96\",\"#a87496\",\"#e17896\",\"#6ad596\",\"#b22e96\",\"#43c596\",\"#699e96\",\"#f64896\",\"#742b96\",\"#748796\",\"#40b496\",\"#755e96\",\"#46ab96\",\"#c44b96\",\"#e86996\",\"#3f2496\",\"#d45f96\",\"#d1e196\",\"#909f96\",\"#ded196\",\"#b2b596\",\"#d42596\",\"#c07196\",\"#599d96\",\"#345196\",\"#b8c796\",\"#3fa996\",\"#dc8096\",\"#6c5a96\",\"#ec8096\",\"#43cd96\",\"#626b96\",\"#d22196\",\"#bcd796\",\"#853996\",\"#a35496\",\"#5fac96\",\"#f5ca96\",\"#f8db96\",\"#5ee496\",\"#ba2f96\",\"#e6aa96\",\"#93d896\",\"#7da296\",\"#87c596\",\"#f5a396\",\"#a77496\",\"#7b7296\",\"#c68396\",\"#57e396\",\"#816896\",\"#c19396\",\"#537c96\",\"#e45796\",\"#9f8f96\",\"#989396\",\"#8a4f96\",\"#991f96\",\"#40b496\",\"#8ac996\",\"#7c9396\",\"#581e96\",\"#901f96\",\"#6a4296\",\"#32c096\",\"#415596\",\"#792696\",\"#bf6996\",\"#89a996\",\"#ae4a96\",\"#7ea896\",\"#aae096\",\"#eab596\",\"#d29696\",\"#6bc996\",\"#872096\",\"#a18d96\",\"#992296\",\"#d42296\",\"#e73a96\",\"#652496\",\"#e5a696\",\"#434d96\",\"#5eca96\",\"#ded596\",\"#e95296\",\"#e85096\",\"#a88196\",\"#346696\",\"#d97a96\",\"#6f6996\",\"#894d96\",\"#382b96\",\"#a2aa96\",\"#7fe096\",\"#9a9a96\",\"#789796\",\"#c2d296\",\"#afa396\",\"#ab9c96\",\"#f0c396\",\"#ca5196\",\"#47c096\",\"#6e9896\",\"#af9296\",\"#d9c196\",\"#95b296\",\"#5b4e96\",\"#33bd96\",\"#762f96\",\"#dc9a96\",\"#3d3996\",\"#dd9e96\",\"#5fa196\",\"#338f96\",\"#686496\",\"#429d96\",\"#4b5596\",\"#429796\",\"#5c3c96\",\"#ae9796\",\"#45da96\",\"#d19a96\",\"#675c96\",\"#40a396\",\"#c1e596\",\"#db7496\",\"#aa4496\",\"#4d8796\",\"#e5a796\",\"#d52f96\",\"#f95096\",\"#e2c296\",\"#4f8296\",\"#8b9996\",\"#a48d96\",\"#d06296\",\"#f13496\",\"#a3c496\",\"#b8da96\",\"#622e96\",\"#e43c96\",\"#92c096\",\"#5a8196\",\"#d8d096\",\"#818596\",\"#bc8f96\",\"#685a96\",\"#bd9396\",\"#a3ca96\",\"#a03296\",\"#bfc296\",\"#f95796\",\"#a67f96\",\"#57da96\",\"#aaa196\",\"#5eae96\",\"#ca4596\",\"#573a96\",\"#d5e396\",\"#a74596\",\"#327096\",\"#742496\",\"#bcd196\",\"#7fc096\",\"#81bd96\",\"#a4d796\",\"#512c96\",\"#f69896\",\"#546796\",\"#5acf96\",\"#a75396\",\"#e8e196\",\"#dfd096\",\"#439d96\",\"#c5bb96\",\"#eb6596\",\"#8c9596\",\"#5d9696\",\"#466f96\",\"#60a496\",\"#f65b96\",\"#dec296\",\"#b53896\",\"#edac96\",\"#3f3096\",\"#744e96\",\"#bc8596\",\"#6d9096\",\"#3ad096\",\"#732a96\",\"#569696\",\"#91ce96\",\"#6d3596\",\"#aa5296\",\"#ec8996\",\"#da2c96\",\"#3f7596\",\"#afbb96\",\"#c4cc96\",\"#4d9f96\",\"#a6d496\",\"#5ddf96\",\"#ef6296\",\"#b11f96\",\"#44d596\",\"#852b96\",\"#e06996\",\"#5ec296\",\"#932296\",\"#3cb096\",\"#aab596\",\"#e44896\",\"#e7a496\",\"#733a96\",\"#b8ad96\",\"#f8be96\",\"#8d3996\",\"#542196\",\"#a87f96\",\"#43c596\",\"#b67596\",\"#648a96\",\"#8dc996\",\"#cfaf96\",\"#943b96\",\"#96af96\",\"#901f96\",\"#786f96\",\"#f34296\",\"#912b96\",\"#f8e596\",\"#f7e096\",\"#bfbf96\",\"#9c7c96\",\"#d26e96\",\"#ed6896\",\"#c14496\",\"#4dc696\",\"#f67996\",\"#6eb096\",\"#414596\",\"#de1f96\",\"#f4c696\",\"#3ae196\",\"#64a696\",\"#c39096\",\"#b3a996\",\"#a8b596\",\"#906396\",\"#d23396\",\"#c6b396\",\"#c3bc96\",\"#eab496\",\"#e5c096\",\"#eec596\",\"#a5b396\",\"#b0a896\",\"#715496\",\"#906196\",\"#da9396\",\"#723696\",\"#547096\",\"#f69496\",\"#bb6596\",\"#46a896\",\"#683d96\",\"#92b496\",\"#b1df96\",\"#f03796\",\"#865d96\",\"#af8996\",\"#b37c96\",\"#d8d596\",\"#60c896\",\"#404e96\",\"#a12e96\",\"#6c5d96\",\"#3e6796\",\"#437496\",\"#85bc96\",\"#557196\",\"#aa7f96\",\"#56c696\",\"#cf8196\",\"#6c5596\",\"#e93396\",\"#d88496\",\"#9eb096\",\"#e64196\",\"#5f7496\",\"#943a96\",\"#ed9c96\",\"#887c96\",\"#5ba096\",\"#3c8e96\",\"#e14f96\",\"#c85c96\",\"#38d096\",\"#b23296\",\"#a46396\",\"#51c496\",\"#ae7896\",\"#ce4896\",\"#6b5596\",\"#585596\",\"#832c96\",\"#903796\",\"#e3c096\",\"#85ad96\",\"#86cd96\",\"#4fd396\",\"#e9b396\",\"#e15696\",\"#8d1f96\",\"#bb4f96\",\"#eec696\",\"#d95196\",\"#749496\",\"#d54696\",\"#756396\",\"#86be96\",\"#502196\",\"#be6e96\",\"#8b8496\",\"#a07796\",\"#7d6f96\",\"#7f5c96\",\"#8cc996\",\"#6cb496\",\"#60df96\",\"#363f96\",\"#a16e96\",\"#ee2496\",\"#7b7296\",\"#8dbc96\",\"#406c96\",\"#8ae596\"],\"radius\":[5,36,5,3,3,2,2,2,1,2,1,3,1,1,1,4,1,3,1,2,1,1,2,1,1,1,2,1,2,3,1,1,1,1,1,1,1,2,1,3,3,6,2,1,1,1,1,3,1,2,1,1,1,1,1,1,1,1,1,1,1,2,1,1,1,1,2,2,1,1,1,3,6,5,1,1,1,1,1,2,2,1,1,3,2,1,14,15,7,1,1,2,2,1,1,2,4,2,1,1,2,1,1,4,2,3,1,1,1,8,34,17,6,1,1,4,2,1,2,2,3,4,3,2,4,1,1,3,3,2,2,8,7,1,1,1,4,5,1,1,2,1,29,38,17,9,1,1,1,5,3,1,1,6,7,1,2,15,13,3,1,3,6,2,2,7,1,1,1,3,3,2,5,1,1,1,1,24,60,59,24,8,2,1,1,1,7,6,1,3,4,9,10,1,1,8,4,1,2,6,10,3,4,3,8,5,1,2,18,17,10,5,6,6,4,1,1,1,44,76,57,13,4,1,1,2,1,2,3,7,2,6,23,8,5,3,15,7,4,1,1,1,1,10,10,2,1,3,11,3,4,3,4,8,8,3,2,2,4,32,18,9,1,2,1,15,62,81,30,7,4,4,2,2,13,11,5,1,1,4,9,4,9,3,1,3,8,14,5,1,3,1,3,7,8,6,4,2,6,13,6,2,1,1,8,7,5,2,1,2,5,10,7,3,1,6,8,4,2,1,1,1,1,26,69,68,34,9,3,3,1,8,16,13,9,2,8,6,5,1,2,8,14,6,4,1,1,1,11,8,1,3,7,7,3,4,1,6,16,16,9,1,2,1,5,9,4,7,1,2,14,59,64,65,30,11,3,1,1,1,5,10,5,4,1,1,4,2,7,7,2,3,1,3,8,20,8,9,3,1,1,4,6,2,4,2,1,5,11,10,5,3,1,2,8,7,3,2,1,4,7,10,5,2,1,31,81,87,44,18,11,3,3,1,3,7,8,3,3,5,3,3,1,1,5,7,10,6,8,1,1,3,6,7,6,2,4,8,3,8,4,2,1,6,13,14,13,2,2,1,1,1,10,13,5,4,3,1,6,8,7,4,1,1,10,41,72,54,29,12,5,2,2,2,2,5,10,6,3,1,5,12,26,24,14,7,1,1,2,7,2,3,1,1,2,1,3,8,4,4,5,2,5,4,3,6,3,1,1,6,8,19,8,5,4,2,1,14,58,62,49,31,14,8,3,1,2,7,11,5,1,2,3,4,9,3,2,1,3,5,3,2,3,1,2,3,7,11,15,3,1,1,1,1,8,6,8,6,1,1,3,4,3,3,1,1,1,7,7,7,3,1,1,1,5,9,4,1,2,27,56,65,41,19,8,3,5,7,13,14,11,7,2,1,1,1,2,7,1,2,5,1,1,1,2,4,6,3,1,1,1,1,1,9,6,10,6,3,2,3,10,4,2,1,4,12,20,9,10,4,2,5,12,5,4,2,1,10,46,56,42,39,16,6,3,1,4,9,4,3,2,5,4,3,3,2,1,1,2,13,14,9,6,4,3,1,1,1,1,1,6,4,1,1,1,2,2,7,3,8,3,1,2,8,6,6,4,1,4,3,7,4,1,1,1,1,1,24,50,61,43,25,5,6,3,1,4,6,4,5,1,1,5,2,6,5,2,1,2,4,7,5,3,2,2,1,1,2,7,7,3,1,1,3,6,7,3,1,1,1,1,3,10,9,11,3,3,1,3,4,9,6,4,3,1,1,6,6,4,2,3,2,1,1,1,8,29,57,51,29,21,5,5,1,2,3,4,7,5,5,1,1,2,1,1,6,10,9,4,3,1,6,7,6,3,3,1,1,5,6,3,1,1,3,6,3,3,4,1,4,8,4,4,2,1,1,5,10,12,9,7,4,1,2,1,16,38,33,28,26,17,5,4,2,1,2,1,6,7,4,1,1,1,1,4,6,3,4,1,1,2,4,6,2,3,1,1,1,2,6,8,12,3,1,4,2,3,4,4,3,3,2,3,4,4,4,3,1,1,1,6,3,2,2,4,1,1,1,3,3,7,5,3,8,12,31,38,32,20,10,4,1,3,1,1,1,6,5,8,1,4,1,3,3,4,4,3,1,2,1,1,4,3,4,1,1,1,2,6,5,2,1,1,5,3,1,1,1,4,5,13,6,8,3,1,1,1,1,2,1,3,2,1,10,26,43,42,24,8,3,3,2,1,1,2,3,4,1,3,1,1,2,3,3,6,1,2,1,9,6,10,8,4,2,1,2,2,1,4,4,4,1,2,4,5,8,5,3,1,1,3,5,3,1,2,1,4,3,3,2,8,22,30,55,54,31,11,4,1,1,2,2,4,8,9,4,1,2,2,1,1,6,9,9,2,3,2,2,3,3,3,1,5,1,1,1,2,9,6,2,3,1,1,2,3,2,1,1,1,7,16,32,28,23,17,3,8,1,2,6,10,5,1,1,1,1,6,7,7,1,5,2,1,1,6,3,1,1,1,1,1,3,2,1,1,2,1,1,2,3,2,2,1,1,3,1,3,3,1,3,4,10,3,3,3,1,12,21,24,31,26,15,5,1,2,1,1,2,5,1,2,1,1,3,3,3,1,1,3,1,1,1,3,5,4,3,1,2,1,1,1,5,10,11,11,8,4,2,1,2,2,11,9,5,2,1,1,3,8,16,32,23,19,11,7,5,2,3,1,1,4,2,8,5,6,1,1,4,3,1,1,2,1,4,3,3,1,3,4,7,1,1,1,1,1,3,5,1,2,1,3,6,2,9,7,1,4,1,1,4,4,4,2,1,4,8,21,34,32,19,7,7,6,1,2,1,1,4,3,2,2,1,1,1,3,6,1,1,1,2,2,6,5,5,4,1,2,1,6,2,5,1,1,1,1,5,4,1,3,2,1,1,1,2,4,2,1,4,1,1,3,2,1,5,1,1,2,1,1,8,16,31,36,28,20,9,5,3,1,1,6,4,6,3,3,4,1,1,1,2,3,4,6,2,1,1,3,3,5,3,2,1,1,2,2,2,4,1,1,1,1,1,2,2,2,1,2,1,1,1,1,1,3,12,19,26,28,17,7,6,2,1,1,1,1,6,4,1,1,1,1,1,3,4,7,6,3,5,3,3,1,1,1,1,2,4,1,1,4,2,1,1,1,1,4,1,6,2,3,1,5,2,3,2,1,1,4,2,7,5,3,6,1,1,5,14,15,19,13,14,5,3,3,1,1,3,3,2,3,4,1,3,3,2,2,5,1,1,1,5,1,2,1,1,3,3,3,3,1,1,1,4,2,1,1,1,1,1,2,1,5,1,1,1,1,1,2,3,2,2,2,4,3,2,3,1,1,1,8,19,22,14,18,15,8,2,1,4,1,1,2,2,2,2,1,3,1,1,1,3,1,3,2,1,1,1,2,2,1,1,1,3,4,1,4,1,1,1,1,1,1,6,6,3,5,4,1,1,2,2,3,5,3,2,5,8,11,23,15,12,11,7,1,2,1,1,2,2,3,4,3,1,1,1,3,2,1,1,1,1,5,4,6,6,2,1,1,1,2,2,2,2,1,1,1,2,2,1,1,3,1,2,1,3,4,1,1,1,7,9,16,24,18,13,3,8,1,2,1,3,1,1,1,3,5,5,2,1,1,5,4,1,1,2,1,3,2,3,1,3,4,3,3,3,4,1,1,3,1,4,1,1,1,2,3,1,1,1,1,2,1,2,3,1,1,1,2,4,10,15,15,13,6,4,2,2,1,1,1,1,1,2,3,1,1,4,3,3,5,2,3,2,1,1,1,2,2,3,2,2,1,1,1,1,1,1,1,2,2,1,1,1,1,1,1,2,1,1,1,3,2,5,5,4,1,1,6,8,19,13,11,8,6,8,1,2,1,2,1,1,2,1,2,2,1,4,3,1,1,2,1,2,3,1,1,3,5,4,1,1,2,2,1,2,2,3,3,1,1,2,2,1,2,1,1,2,2,1,4,1,1,2,1,2,2,1,1,1,5,9,5,15,14,11,8,4,3,1,1,1,1,1,1,2,1,1,1,1,1,1,2,1,1,1,1,1,3,2,1,2,1,1,1,2,1,1,2,3,3,2,1,1,1,1,4,3,4,3,1,1,4,2,1,2,1,4,10,10,13,14,8,7,5,5,2,3,1,1,1,1,1,1,2,1,2,1,1,1,1,2,1,1,1,2,6,3,2,1,1,1,1,1,3,1,1,1,1,4,1,1,1,4,1,1,1,1,2,1,2,1,4,3,12,17,17,8,2,2,3,1,1,1,1,2,1,1,1,1,1,3,2,1,1,2,2,1,1,1,1,1,1,2,2,4,3,1,1,4,2,2,3,4,1,2,1,1,1,1,1,1,1,1,1,1,1,1,1,6,6,11,12,8,9,9,7,2,2,1,1,1,2,1,2,2,4,1,1,1,2,3,2,1,1,5,4,3,2,1,1,1,1,1,2,1,1,4,1,1,1,3,2,3,6,3,2,1,1,3,6,7,22,7,6,6,2,1,1,1,2,1,2,3,1,1,2,1,1,2,1,1,1,1,1,1,1,2,3,2,3,2,2,3,1,1,1,2,1,3,1,1,2,3,1,1,1,1,1,3,1,1,1,1,1,1,1,1,1,1,4,8,9,9,18,5,6,4,2,4,1,1,1,1,1,2,1,1,1,1,1,1,2,1,1,1,1,1,1,2,1,3,1,1,1,1,1,5,6,1,2,1,1,1,1,3,2,2,1,2,3,16,11,7,9,8,4,1,1,1,1,2,1,1,2,1,1,3,1,1,4,1,1,2,1,1,2,1,1,2,1,1,4,1,2,1,2,1,1,1,1,1,1,2,1,4,7,7,6,8,10,6,4,1,3,2,1,1,1,1,3,3,3,1,1,1,5,1,2,1,1,1,1,1,2,1,4,1,1,3,1,1,1,1,1,1,2,1,1,2,2,1,3,1,2,5,9,10,7,4,3,4,1,1,1,1,1,1,1,1,5,2,1,1,1,1,1,2,1,2,1,1,1,1,3,1,2,1,1,2,1,2,4,2,2,1,1,2,1,1,3,4,6,4,6,9,5,4,5,1,3,1,1,1,1,1,1,1,1,1,1,1,1,2,2,1,1,1,1,1,2,4,2,1,1,1,1,1,1,3,2,1,1,1,1,1,1,4,4,15,9,14,8,7,2,4,2,1,1,1,1,1,1,1,1,1,1,1,1,1,4,2,1,1,2,1,1,1,1,1,2,2,1,2,3,3,1,1,2,4,4,7,8,5,9,5,5,1,2,1,1,1,1,1,1,1,1,2,1,1,1,2,1,2,1,2,1,1,1,1,2,1,2,1,1,1,3,1,1,1,1,1,1,1,1,1,3,3,6,9,9,9,4,8,2,2,3,1,1,1,1,2,2,4,1,3,1,2,1,2,2,1,1,1,2,2,3,2,1,1,2,1,1,1,4,2,2,1,2,4,5,7,6,7,6,3,4,1,3,1,2,1,3,1,1,1,1,3,2,3,1,2,1,1,1,1,2,1,1,1,2,1,1,1,2,5,1,1,3,1,1,1,2,5,1,7,4,4,4,6,2,2,1,1,1,2,1,1,1,1,1,1,1,2,1,1,1,1,1,1,2,2,2,1,1,1,1,1,1,1,3,1,1,1,1,1,2,1,1,2,1,1,1,4,3,4,8,6,6,3,5,3,2,1,1,1,2,1,1,1,1,1,1,1,3,1,1,2,1,1,2,1,1,1,2,1,2,1,3,4,1,1,1,3,6,6,3,11,4,2,2,2,1,1,1,1,1,1,1,1,1,1,1,1,1,1,1,1,4,2,2,1,2,1,1,1,1,1,2,2,1,1,1,3,2,1,1,2,1,1,1,2,1,1,5,3,3,7,7,1,3,2,2,3,1,1,1,2,2,1,2,1,1,1,1,1,1,1,1,1,1,1,1,1,1,1,2,3,1,2,1,2,1,1,2,1,2,4,4,5,13,3,5,1,3,1,1,3,2,2,2,1,1,1,1,1,1,2,1,1,1,1,1,1,1,1,2,1,1,3,1,1,1,1,4,6,3,7,4,4,6,2,3,1,1,1,1,1,1,1,1,2,2,2,1,1,1,2,1,1,1,1,1,2,2,1,1,1,1,3,1,8,3,2,5,3,6,2,2,2,2,1,2,1,2,1,1,1,1,1,1,1,3,1,1,2,3,1,1,1,1,1,3,1,2,1,3,1,1,1,4,3,4,4,4,7,2,1,1,2,2,1,2,1,2,1,2,1,1,1,1,2,1,1,1,1,1,1,1,1,1,2,1,2,1,1,3,2,1,1,1,1,2,1,1,1,1,2,1,1,8,5,5,1,3,6,4,1,1,1,1,1,1,1,1,1,1,1,1,2,1,2,1,1,1,1,1,1,1,1,1,2,1,1,1,2,2,1,1,1,1,1,1,1,1,1,1,3,4,3,2,5,3,6,4,1,2,1,1,1,1,1,1,1,1,1,1,1,1,1,1,1,1,1,1,1,1,1,1,1,3,8,5,7,3,1,4,4,3,1,2,1,2,1,1,1,2,1,1,1,1,3,1,1,1,1,1,1,2,2,1,1,1,1,1,1,1,1,1,1,1,2,1,2,3,5,9,3,1,1,1,1,1,1,1,1,1,1,1,1,1,1,1,1,1,1,1,2,1,1,2,3,1,1,1,1,1,2,1,2,6,2,3,7,2,2,4,1,1,1,1,2,2,2,1,1,1,1,1,1,1,1,1,1,4,1,6,5,6,3,4,4,1,3,1,1,1,1,1,1,1,1,1,1,1,1,1,1,1,2,1,1,1,1,2,1,1,1,1,1,1,1,1,2,2,4,2,3,1,6,1,1,2,2,1,1,1,1,1,1,1,1,1,1,1,1,1,1,1,1,2,1,1,1,1,1,1,2,1,1,1,3,5,3,7,3,2,3,2,1,1,1,1,1,1,1,1,1,1,1,2,2,1,1,2,1,1,2,1,1,1,1,1,1,1,1,1,1,1,1,1,6,1,8,1,2,3,3,1,1,1,2,1,1,1,1,1,2,2,1,1,3,1,1,1,1,1,1,1,1,1,2,3,1,4,1,5,2,3,2,1,1,1,1,1,1,1,1,1,1,1,1,1,1,1,1,1,2,1,1,1,1,1,1,1,1,1,1,3,1,3,1,3,4,1,1,1,1,1,1,1,1,1,1,1,1,1,1,1,2,1,1,1,2,1,1,2,2,1,2,2,1,1,1,3,1,3,1,1,1,1,1,2,2,2,1,1,1,1,1,1,1,1,1,1,1,2,1,1,1,1,1,1,3,1,1,1,3,3,2,1,1,1,1,1,1,1,1,1,2,1,1,1,1,1,1,1,1,1,1,1,1,1,1,1,1,1,2,3,3,5,7,1,1,3,4,1,1,2,1,1,1,1,1,2,1,1,1,1,3,2,1,1,1,1,3,2,1,1,2,2,1,1,1,1,1,1,1,3,1,1,2,1,1,1,1,1,1,1,2,1,3,3,1,3,1,1,1,1,1,1,1,1,1,2,1,1,1,1,1,1,1,1,2,1,2,2,1,3,1,2,1,2,1,3,1,1,1,1,1,1,1,1,1,1,4,3,1,1,2,2,1,2,1,2,2,1,1,2,1,1,1,1,2,1,2,3,3,1,1,2,1,1,1,1,1,1,1,1,1,1,1,2,1,1,2,2,1,2,2,2,1,1,1,1,1,1,1,1,1,1,1,1,1,1,1,1,1,1,1,2,1,5,1,1,1,3,1,1,1,1,1,1,1,1,1,1,1,1,1,1,1,1,1,1,1,2,1,4,1,2,1,1,2,1,1,1,1,1,1,1,1,1,1,1,1,1,2,2,1,2,2,1,1,1,1,1,1,1,1,1,1,1,1,1,1,1,1,1,1,2,1,1,4,2,1,1,1,1,1,1,1,1,1,1,1,1,1,2,1,5,1,2,1,1,1,1,1,1,1,1,1,1,1,1,2,1,1,1,1,1,1,3,2,1,1,1,1,1,1,1,1,1,1,2,1,1,2,2,1,2,1,1,1,1,1,1,1,1,2,2,1,1,1,3,1,2,2,1,1,1,1,1,1,1,1,1,1,1,1,1,1,1,1,1,2,2,2,3,2,1,1,1,1,1,1,1,1,2,1,1,1,1,1,2,2,1,2,1,1,1,1,1,1,1,1,1,1,1,1,1,1,4,2,1,2,1,1,1,1,1,2,1,1,2,1,1,1,1,1,1,2,2,1,3,2,1,1,1,1,1,1,1,1,1,1,1,1,1,1,1,1,2,1,2,1,1,1,1,1,1,1,1,2,1,1,1,1,1,1,1,1,2,1,1,1,2,1,1,2,1,1,1,2,1,1,1,1,1,1,1,2,1,1,3,1,1,1,1,1,1,1,1,1,1,1,1,4,2,2,2,1,1,1,1,2,1,1,1,1,1,2,1,2,1,1,2,1,1,1,1,2,1,1,1,1,1,1,3,1,2,1,1,1,1,1,1,1,1,1,1,1,1,1,1,2,1,2,2,1,1,1,1,1,1,1,1,1,1,1,1,2,2,2,1,1,1,1,2,1,2,1,1,1,1,1,1,1,1,2,1,1,1,1,1,1,1,1,1,1,1,1,1,1,1,2,1,2,1,1,1,1,1,1,2,1,1,2,1,1,1,1,1,1,1,1,1,1,4,2,1,1,1,1,1,1,1,1,1,1,1,1,1,1,1,1,1,1,1,1,1,1,1,1,1,2,1,1,1,2,1,1,1,1,1,1,1,1,1,3,1,2,2,1,1,1,1,1,1,1,1,1,1,1,1,1,1,1,1,1,1,1,1,1,1,1,2,1,1,1,1,1,1,1,1,2,2,1,1,1,1,1,1,1,1,1,1,1,1,1,1,1,1,1,1,2,1,1,1,1,1,1,1,1,1,1,1,1,1,1,1,1,1,1,1,1,1,1,1,1,1,2,1,3,1,1,1,1,1,1,1,1,1,2,1,1,3,1,1,1,1,1,1,1,1,1,1,1,1,1,1,1,1,1,1,1,1,1,1,1,1,1,1,1,1,1,1,1,1,1,1,1,1,1,1,1,1,1,1,1,1,1,1,1,1,1,1,1,1,1,1,1,1,1,1,1,1,1,1,1,1,1,1,1,1,1,1,2,2,1,1,1,1,2,1,1,1,1,1,1,1,1,1,1,1,1,1,1,1,1,1,1,1,1,1,2,1,1,1,1,1,1,1,2,1,1,1,1,1,1,1,1,1,1,1,1,1,1,1,1,1,1,1,1,1,1,1,1,1,1,1,1,1,1,1,1,1,1,1,1,1,2,1,1,1,1,1,1,1,1,1,1,1,1,1,1,1,1,1,1,1,1,1,1,1,1,1,1,1,1,1,1,1,1,1,1,1,1,1,1,1,1,1,1,1,1,1,1,1,1,1,1,1,1,1,1,1,1,1,1,1,1,1,1,1,1,1,1,1,1,1,1,1,1,1,1,1,2,1,1,1,1,1,1,1,1,1,1,1,2,1,1,1,1,1,2,1,1,2,1,1,1,1,1,3,2,1,2,1,2,2,3,1,3,1,2,3,1,1,1,3,1,1,1,1,2,1,3,1,1,1,1,1,1,1,1,1,1,1,1,1,1,1,1,1,3,1,1,1,1,1,2,1,2,1,1,1,1,1,2,1,1,2,1,1,2,1,1,2,2,1,1,1,3,1,1,1,2,1,1,1,1,2,1,1,1,1,1,1,1,1,1,1,1,1,1,1,1,1,1,1,1,1,1,1,1,1,1,1,1,1,1,1,1,1,1,2,1,1,1,1,1,1,1,1,1,1,1,1,1,1,1,1,1,1,1,1,1,1,1,1,1,1,1,1,1,1,1,1],\"x\":[0,0,0,0,0,0,0,0,0,0,0,0,0,0,0,0,0,0,0,0,0,0,0,0,0,0,0,0,0,0,0,0,0,0,0,0,0,0,0,0,0,0,0,0,0,0,0,0,0,0,0,0,0,0,0,0,0,0,0,0,1,2,2,3,3,4,4,4,5,5,6,7,7,7,7,9,9,11,11,12,12,13,13,14,14,14,15,15,15,15,15,16,17,17,18,18,19,19,19,20,20,20,21,22,22,22,22,22,22,24,24,24,24,24,25,25,25,25,26,26,26,27,27,27,28,28,28,29,29,29,30,30,30,30,30,30,31,31,31,32,32,32,32,32,32,32,32,32,32,33,33,33,34,34,34,34,34,35,35,35,35,36,36,36,37,37,37,37,38,38,38,39,39,39,39,39,40,40,40,40,40,40,40,40,40,41,41,41,41,41,42,42,42,42,43,43,43,43,44,44,44,44,45,45,45,45,46,46,46,46,46,46,48,48,48,48,49,49,49,49,49,49,49,49,49,49,49,50,50,50,50,51,51,51,51,52,52,52,52,52,52,53,53,53,53,53,53,54,54,54,54,54,55,55,55,55,55,55,56,56,56,56,56,56,57,57,57,57,57,57,57,57,57,58,58,58,58,58,59,59,59,59,59,59,59,60,60,60,60,60,60,60,61,61,61,61,61,62,62,62,62,62,62,63,63,63,63,63,63,64,64,64,64,64,65,65,65,65,65,65,65,66,66,66,66,66,66,66,66,66,66,67,67,67,67,67,68,68,68,68,68,69,69,69,69,69,69,70,70,70,70,71,71,71,71,71,71,72,72,72,72,72,72,72,73,73,73,73,73,73,74,74,74,74,74,74,74,74,74,75,75,75,75,75,75,76,76,76,76,76,76,76,76,77,77,77,77,77,77,77,78,78,78,78,78,78,79,79,79,79,79,79,79,80,80,80,80,80,81,81,81,81,81,81,82,82,82,82,82,82,82,82,82,83,83,83,83,83,84,84,84,84,84,84,85,85,85,85,85,85,85,86,86,86,86,86,87,87,87,87,87,87,87,88,88,88,88,88,88,88,88,89,89,89,89,89,89,90,90,90,90,90,90,91,91,91,91,91,91,91,91,91,91,91,92,92,92,92,92,92,93,93,93,93,93,93,93,94,94,94,94,94,94,94,94,95,95,95,95,95,95,95,97,97,97,97,97,97,97,98,98,98,98,98,98,98,99,99,99,99,99,99,99,99,99,99,100,100,100,100,100,100,101,101,101,101,101,101,102,102,102,102,102,102,102,103,103,103,103,103,103,103,103,104,104,104,104,104,104,104,105,105,105,105,105,105,106,106,106,106,106,106,106,107,107,107,107,108,108,108,108,108,108,108,108,108,108,109,109,109,109,109,109,109,109,110,110,110,110,110,110,110,110,111,111,111,111,111,111,111,111,111,112,112,112,112,112,112,113,113,113,113,113,113,114,114,114,114,114,114,114,115,115,115,115,115,115,116,116,116,116,116,116,116,116,116,117,117,117,117,117,118,118,118,118,118,118,118,119,119,119,119,119,119,119,119,119,119,120,120,120,120,120,120,120,121,121,121,121,121,121,121,122,122,122,122,122,123,123,123,123,123,123,123,123,123,124,124,124,124,124,124,124,124,124,124,125,125,125,125,125,126,126,126,126,126,126,126,127,127,127,127,127,127,127,128,128,128,128,128,128,128,128,129,129,129,129,129,129,129,129,130,130,130,130,130,130,130,131,131,131,131,131,131,131,131,132,132,132,132,132,132,132,132,133,133,133,133,133,133,133,133,133,133,133,134,134,134,134,134,134,134,134,134,135,135,135,135,135,135,135,136,136,136,136,136,137,137,137,137,137,137,137,138,138,138,138,138,139,139,139,139,139,139,139,140,140,140,140,140,140,140,140,140,141,141,141,141,141,141,141,141,141,141,141,142,142,142,142,142,142,142,142,143,143,143,143,143,143,143,144,144,144,144,144,144,144,144,145,145,145,145,145,145,145,146,146,146,146,146,146,147,147,147,147,147,147,147,147,148,148,148,148,148,148,148,148,149,149,149,149,149,149,150,150,150,150,150,150,150,150,150,150,150,150,151,151,151,151,151,151,151,152,152,152,152,152,152,152,152,153,153,153,153,153,153,153,154,154,154,154,154,155,155,155,155,155,156,156,156,156,156,156,156,156,156,157,157,157,157,157,158,158,158,158,158,158,158,158,158,158,158,158,158,159,159,159,159,159,159,160,160,160,160,160,160,161,161,161,161,161,161,161,161,161,162,162,162,162,162,162,162,162,163,163,163,163,163,163,163,164,164,164,164,164,164,165,165,165,165,166,166,166,166,166,166,166,166,166,166,166,168,168,168,168,168,168,168,168,168,170,170,170,170,170,170,170,172,172,172,172,172,172,172,173,173,173,173,173,173,173,173,173,174,174,174,174,174,175,175,175,175,175,175,175,175,175,175,175,176,176,176,176,176,176,177,177,177,177,177,177,177,178,178,178,178,178,178,178,178,179,179,179,179,179,179,179,180,180,180,180,180,181,181,181,181,181,181,182,182,182,182,182,182,182,183,183,183,183,183,183,183,183,183,183,183,184,184,184,184,184,184,185,185,185,185,185,185,185,185,185,186,186,186,186,186,186,186,186,186,187,187,187,187,187,187,187,187,187,189,189,189,189,189,189,189,191,191,191,191,191,191,191,191,191,191,191,191,191,191,192,192,192,192,192,192,194,194,194,194,194,194,194,195,195,195,195,196,196,196,196,196,197,197,197,197,197,197,197,198,198,198,198,198,198,198,198,198,199,199,199,199,199,199,200,200,200,200,200,200,200,200,200,200,200,200,201,201,201,201,201,201,202,202,202,202,202,202,202,203,203,203,203,203,203,203,204,204,204,204,204,204,204,204,205,205,205,205,205,205,205,205,206,206,206,206,206,206,206,207,207,207,207,207,207,207,207,207,208,208,208,208,208,208,208,208,208,208,208,208,210,210,210,210,210,210,210,212,212,212,212,212,212,212,212,213,213,213,213,213,213,213,213,214,214,214,214,214,214,214,215,215,215,215,215,216,216,216,216,216,216,216,217,217,217,217,217,217,217,217,217,217,217,217,217,218,218,218,218,218,218,219,219,219,219,219,219,219,219,219,219,220,220,220,220,220,220,220,221,221,221,221,221,222,222,222,222,222,222,222,223,223,223,223,224,224,224,224,224,224,224,224,224,225,225,225,225,225,225,225,225,225,225,225,225,226,226,226,226,226,226,227,227,227,227,227,227,228,228,228,228,228,229,229,229,229,229,229,229,229,230,230,230,230,230,230,231,231,231,231,231,231,231,231,231,232,232,232,232,232,232,233,233,233,233,233,234,234,234,234,234,234,234,234,234,234,234,234,234,234,235,235,235,235,235,235,235,235,236,236,236,236,236,236,236,237,237,237,237,238,238,238,238,238,239,239,239,239,239,240,240,240,240,240,240,240,240,240,241,241,241,241,241,241,242,242,242,242,242,242,242,242,242,242,242,242,243,243,243,243,243,243,244,244,244,244,244,244,245,245,245,245,245,245,245,245,245,246,246,246,246,246,246,247,247,247,247,247,247,248,248,248,248,249,249,249,249,250,250,250,250,250,250,250,250,250,250,250,251,251,251,251,252,252,252,252,252,252,253,253,253,253,253,253,253,254,254,254,254,255,255,255,255,255,255,256,256,256,256,256,256,257,257,257,257,257,257,257,257,258,258,258,258,258,258,258,259,259,259,259,259,259,259,259,259,259,259,259,259,259,260,260,260,260,260,261,261,261,261,261,261,261,262,262,262,262,262,262,262,263,263,263,263,263,263,263,263,264,264,264,264,265,265,265,265,265,265,265,265,266,266,266,266,266,266,267,267,267,267,267,267,267,267,267,267,267,267,267,267,267,268,268,268,269,269,269,269,270,270,270,270,270,270,270,271,271,271,271,271,271,271,272,272,272,272,272,272,272,273,273,273,273,273,273,273,274,274,274,274,275,275,275,275,275,275,275,275,276,276,276,276,276,276,276,276,276,276,276,276,276,277,277,277,277,277,277,277,278,278,278,278,278,278,278,279,279,279,279,279,279,279,280,280,280,280,280,281,281,281,281,281,282,282,282,282,282,282,282,282,282,283,283,283,283,284,284,284,284,284,284,284,284,284,284,284,284,284,284,285,285,285,285,285,285,285,285,285,285,286,286,286,286,287,287,287,287,287,287,287,288,288,288,288,288,288,288,289,289,289,289,289,290,290,290,290,290,291,291,291,292,292,292,292,292,292,292,292,292,292,292,292,292,293,293,293,293,294,294,294,294,294,294,295,295,295,295,295,295,295,295,296,296,296,296,296,296,296,297,297,297,297,297,297,297,297,297,298,298,298,298,298,299,300,300,300,300,301,301,301,301,301,301,301,301,301,301,301,301,301,302,302,302,302,303,303,303,303,304,304,304,304,304,305,305,305,305,305,305,305,305,306,306,306,306,307,307,307,307,308,308,308,308,308,308,308,308,308,309,309,309,309,309,309,309,309,309,309,309,310,310,310,310,310,310,310,311,311,311,311,311,311,311,312,312,312,312,312,313,313,313,313,313,313,314,314,314,314,314,315,315,315,315,315,315,315,316,316,316,316,316,316,316,316,316,317,317,317,317,318,318,318,318,318,318,318,318,318,318,318,319,319,319,319,319,319,319,319,320,321,321,321,321,322,322,322,322,322,322,323,323,323,323,324,324,324,324,324,324,324,324,325,325,325,325,325,325,326,326,326,326,326,326,326,326,326,326,326,326,326,327,327,327,328,328,329,329,329,329,329,329,329,329,329,330,330,330,330,331,331,331,331,331,332,332,332,332,332,332,332,333,333,333,333,334,334,334,334,334,334,334,334,334,334,334,334,334,334,335,335,335,335,335,335,335,337,337,337,337,338,338,338,338,339,339,339,339,339,339,339,339,340,340,340,340,340,340,340,341,341,341,341,342,342,342,342,342,342,342,342,342,342,342,344,344,344,345,345,345,345,345,345,345,345,347,347,347,347,347,347,348,348,348,348,348,348,349,349,349,349,350,350,350,350,350,350,350,350,351,351,351,351,351,351,351,351,351,351,351,351,351,352,352,352,352,353,353,353,353,353,354,354,354,355,355,355,355,355,356,356,356,356,356,356,356,356,356,358,358,358,359,359,359,359,359,359,360,360,360,360,360,360,360,360,360,360,360,360,360,361,361,361,361,361,362,362,362,363,363,363,363,363,363,363,363,363,365,365,365,365,365,365,366,366,366,366,366,368,368,368,368,368,368,368,368,368,368,368,368,368,369,369,369,369,369,369,370,370,370,370,370,371,371,371,371,371,371,371,371,372,372,372,373,373,373,373,373,374,374,374,374,374,375,375,375,376,376,376,376,376,376,376,376,376,376,376,376,376,376,377,377,377,377,377,379,379,379,379,380,380,380,380,381,381,381,381,381,382,382,382,382,382,382,383,383,383,384,384,384,384,384,384,384,384,384,384,384,384,384,384,386,386,386,386,387,387,387,387,387,387,387,387,389,390,390,390,390,390,390,391,391,391,391,392,392,392,392,392,392,392,392,393,393,393,393,393,393,393,393,393,393,393,394,394,394,394,395,395,395,395,395,396,396,396,396,396,396,397,397,397,397,397,397,397,397,397,398,398,398,398,398,398,398,398,400,400,400,401,401,401,402,402,402,402,402,402,402,402,402,402,402,402,402,402,402,403,403,403,403,403,404,404,405,405,405,405,405,405,407,407,407,407,407,407,407,407,408,408,408,408,408,410,410,410,410,410,410,410,410,410,410,410,410,410,410,411,411,411,411,411,411,412,412,412,412,413,413,413,413,413,413,413,413,413,414,414,415,415,415,415,415,416,416,416,416,416,416,416,417,417,417,417,418,418,418,418,418,418,418,418,418,418,418,418,418,418,419,419,419,419,419,419,421,421,421,421,421,422,422,422,423,423,423,423,423,423,423,423,424,424,424,424,424,425,426,426,426,426,426,426,426,426,426,426,426,428,428,428,428,429,430,430,430,430,430,430,431,431,432,432,432,433,433,433,433,434,434,434,434,434,434,434,435,435,435,435,435,435,435,435,435,435,435,436,436,436,437,437,437,437,438,438,438,438,439,439,439,439,440,440,441,441,441,441,441,443,443,443,444,444,444,444,444,444,444,444,444,444,444,444,444,444,445,445,445,446,446,447,447,448,448,448,449,449,449,449,449,449,449,449,450,450,450,450,451,451,451,451,452,452,452,452,452,452,452,452,452,452,452,452,452,452,452,452,453,453,453,454,454,455,455,455,455,455,455,455,455,456,456,456,456,456,456,456,456,457,457,457,457,458,458,458,458,458,459,459,459,459,460,460,460,460,460,460,460,460,460,460,460,460,460,460,461,461,461,462,462,462,462,462,462,462,463,463,463,464,464,464,464,465,465,465,465,465,466,466,466,466,466,466,467,467,467,468,468,469,469,469,469,469,469,469,469,469,469,469,469,469,470,470,470,470,470,471,471,472,472,472,472,472,472,473,473,474,475,475,475,476,476,477,477,477,477,477,477,477,477,477,477,478,478,478,479,479,479,479,479,479,480,481,481,481,481,481,481,482,482,482,482,482,482,483,483,483,483,484,484,484,484,485,486,486,486,486,486,486,486,486,486,486,486,486,487,487,488,488,489,489,490,490,490,490,490,490,491,491,491,491,491,491,491,491,491,492,492,492,493,493,494,494,494,494,494,494,494,494,494,495,495,496,497,497,497,497,497,498,500,500,500,500,501,501,502,502,502,502,502,502,502,502,502,502,502,502,503,503,503,504,504,504,504,504,505,505,505,505,505,506,506,507,507,507,507,507,507,507,507,507,508,509,510,511,511,511,511,511,511,511,511,511,511,511,511,511,512,512,512,512,513,513,513,513,514,514,514,514,514,515,515,515,515,515,517,517,517,517,518,518,518,519,519,519,519,519,519,519,519,519,519,519,519,519,519,519,520,520,521,522,522,522,522,523,523,523,523,523,524,525,525,525,525,526,526,526,526,527,527,527,527,528,528,528,528,528,528,528,528,528,528,529,529,529,529,529,529,530,530,531,531,532,532,533,533,533,533,534,535,535,535,536,536,536,536,536,536,536,536,536,536,536,536,536,537,537,537,538,538,538,538,538,539,539,539,540,541,541,541,541,542,543,543,543,543,543,544,544,544,544,544,544,544,544,544,544,544,545,546,546,546,546,547,547,547,547,548,548,548,548,550,551,551,551,552,552,552,553,553,553,553,553,553,553,553,553,553,553,553,553,554,554,554,554,554,554,554,555,555,555,556,556,557,557,558,558,558,558,559,559,559,560,560,561,561,561,561,561,561,561,561,561,561,561,562,563,563,564,564,565,565,565,565,565,566,566,566,566,566,567,567,567,568,569,569,569,569,570,570,570,570,570,570,570,570,570,570,571,571,572,572,572,572,572,572,574,575,575,575,575,576,576,576,577,577,577,578,578,578,578,578,578,578,578,578,579,580,580,580,580,580,580,580,580,581,581,581,583,584,584,585,586,586,586,586,586,586,586,586,586,587,590,590,591,591,591,591,592,592,592,594,594,595,595,595,595,595,595,595,595,595,595,596,596,596,598,599,599,599,600,601,601,601,602,603,603,603,603,603,603,603,603,603,603,603,604,605,606,606,607,607,607,609,609,612,612,612,612,612,612,612,612,612,612,613,614,615,616,616,616,617,618,619,619,619,620,620,620,620,620,620,620,620,620,620,620,621,621,622,622,623,623,623,623,623,625,626,626,627,627,628,628,628,628,628,628,628,628,628,628,630,630,632,632,632,633,634,634,635,636,636,636,637,637,637,637,637,637,637,637,637,637,638,638,638,638,638,638,639,639,639,641,642,642,643,643,643,644,645,645,645,645,645,645,645,645,646,647,647,648,648,648,649,649,649,649,651,652,652,654,654,654,654,654,654,654,654,654,654,654,655,657,657,657,658,659,659,662,662,662,662,662,662,662,662,662,662,662,664,664,664,664,665,665,666,667,667,667,667,670,670,670,670,670,670,670,670,670,672,672,672,672,673,675,676,679,679,679,679,679,679,679,679,680,680,681,682,683,685,686,686,686,686,686,686,686,686,686,686,688,690,691,691,691,691,691,692,692,693,693,693,693,694,696,696,696,696,696,696,696,696,696,696,696,697,698,698,698,698,699,699,701,701,702,704,704,704,704,704,704,704,704,704,704,705,705,705,706,707,710,711,711,712,712,712,712,712,712,712,713,713,714,714,714,714,717,717,717,720,721,721,721,721,721,721,721,721,721,722,722,723,724,724,724,724,726,726,727,727,728,728,728,728,728,728,728,728,728,728,730,731,731,731,732,732,732,732,735,735,735,736,736,736,738,738,738,738,738,738,738,738,738,740,741,742,742,743,743,744,744,744,746,746,746,746,746,746,746,747,747,748,748,749,749,749,752,752,753,754,754,754,754,754,754,756,756,756,757,757,759,760,761,763,763,763,763,763,763,763,763,764,766,767,768,769,769,770,770,770,770,770,770,772,773,774,774,774,774,774,776,777,777,777,777,778,778,778,780,780,780,780,780,782,783,783,784,784,785,785,785,786,788,788,788,788,788,789,790,791,793,796,796,796,797,798,798,798,798,799,801,801,803,805,805,805,805,805,805,805,806,807,810,811,811,811,812,812,812,812,812,817,819,819,820,822,822,822,822,822,822,823,824,825,826,828,828,828,830,830,830,830,830,830,830,830,831,831,832,833,835,837,837,837,838,838,838,838,838,838,839,840,843,843,843,844,847,847,847,850,853,854,854,856,857,857,858,858,859,859,862,864,864,864,864,866,866,869,869,869,869,871,871,872,872,872,872,872,872,872,872,872,873,874,874,876,876,880,880,880,882,882,886,887,888,889,889,889,889,889,890,890,893,894,895,895,895,896,897,897,897,897,899,899,900,900,902,905,905,905,906,906,906,907,907,907,907,907,909,910,913,913,914,914,914,914,914,915,915,916,917,917,918,922,922,922,922,922,922,924,924,924,927,928,931,931,937,937,939,939,939,939,939,940,941,943,943,945,947,947,947,947,947,949,949,953,956,956,961,963,964,964,964,965,966,968,968,969,970,972,973,973,974,974,974,975,978,978,981,981,981,981,983,983,987,989,989,989,994,995,998,998,999,1000,1001,1005,1005,1006,1009,1010,1015,1015,1015,1016,1016,1017,1017,1021,1021,1023,1023,1027,1028,1029,1031,1031,1031,1031,1031,1031,1040,1047,1047,1048,1048,1048,1048,1049,1049,1053,1057,1058,1062,1062,1062,1063,1063,1065,1065,1065,1065,1068,1069,1072,1073,1073,1073,1084,1084,1086,1087,1090,1090,1091,1099,1100,1102,1103,1104,1107,1107,1107,1107,1107,1113,1115,1115,1116,1118,1122,1124,1124,1130,1131,1132,1141,1149,1151,1155,1157,1157,1157,1165,1166,1167,1174,1174,1174,1174,1182,1183,1183,1183,1184,1186,1189,1191,1208,1208,1214,1216,1225,1225,1230,1233,1233,1233,1236,1241,1241,1241,1245,1246,1250,1250,1257,1258,1258,1266,1267,1268,1272,1275,1278,1288,1288,1292,1292,1295,1297,1300,1304,1309,1309,1317,1317,1325,1325,1325,1334,1346,1351,1353,1357,1359,1367,1367,1367,1380,1384,1384,1384,1384,1386,1387,1388,1393,1393,1393,1394,1396,1399,1401,1401,1403,1403,1403,1409,1417,1419,1424,1424,1426,1426,1435,1440,1443,1443,1445,1447,1451,1451,1453,1456,1459,1468,1472,1477,1477,1480,1483,1485,1491,1493,1495,1501,1506,1508,1510,1514,1518,1519,1519,1520,1524,1527,1527,1529,1532,1535,1535,1540,1540,1542,1543,1543,1545,1547,1548,1552,1556,1561,1570,1574,1574,1576,1577,1577,1583,1585,1585,1587,1590,1592,1597,1597,1600,1602,1603,1606,1606,1611,1611,1618,1619,1623,1624,1627,1631,1634,1636,1637,1637,1640,1642,1645,1645,1645,1667,1669,1673,1678,1678,1678,1687,1687,1688,1690,1695,1699,1702,1703,1708,1711,1711,1723,1726,1729,1730,1737,1743,1747,1754,1755,1757,1760,1762,1762,1770,1770,1770,1772,1776,1779,1785,1786,1791,1796,1804,1812,1841,1842,1845,1871,1871,1871,1888,1900,1936,1938,1955,1955,2079,2098,2154,2266,2270,2291,2401,2436,2476,2493,2493,2556,2669,2832,2871,3274,3394,3945,3999],\"y\":[0,17,21,25,28,32,36,43,49,51,56,58,62,64,66,68,72,73,76,81,82,83,88,92,99,109,111,126,133,148,152,170,197,218,223,236,247,298,313,335,372,387,440,447,481,501,514,522,543,597,649,686,859,896,926,982,1120,1494,2503,3999,103,17,21,0,17,0,17,21,21,25,21,17,21,25,387,21,25,17,55,0,21,21,25,21,25,28,21,25,28,32,40,21,21,25,28,32,21,25,32,0,21,25,28,21,25,28,36,47,2241,21,25,28,32,148,21,25,28,36,21,25,28,21,25,28,25,28,32,21,25,28,21,25,28,32,36,47,25,28,32,0,17,21,25,28,32,36,40,62,73,25,28,36,0,25,28,32,36,25,28,32,62,25,28,32,25,28,32,36,25,28,32,25,28,32,40,43,17,25,28,32,36,40,43,47,73,25,28,32,36,40,25,28,32,36,25,28,32,40,25,28,32,36,25,28,32,36,0,25,28,32,36,40,28,32,36,43,17,25,28,32,36,40,43,47,51,58,81,28,32,36,40,28,32,36,40,28,32,36,40,47,51,0,28,32,36,40,55,28,32,36,40,43,28,32,36,40,43,47,28,32,36,40,43,55,17,28,32,36,40,43,47,51,55,28,32,36,40,43,0,28,32,36,40,43,47,28,32,36,40,43,47,58,28,32,36,40,43,28,32,36,40,43,47,28,32,36,40,43,47,28,32,36,40,47,28,32,36,40,43,47,55,17,28,32,36,40,43,47,51,55,70,32,36,40,43,47,36,40,43,47,51,32,36,40,43,47,58,32,36,40,43,32,36,40,43,47,55,32,36,40,43,47,51,55,32,36,40,43,47,58,32,36,40,43,47,51,55,58,62,32,36,40,43,47,51,0,32,36,40,43,47,51,55,32,36,40,43,47,51,55,32,36,40,43,47,55,32,36,40,43,47,51,55,36,40,43,47,51,0,36,40,43,47,51,32,36,40,43,47,51,55,58,62,36,40,43,47,51,36,40,43,47,51,55,36,40,43,47,51,55,62,36,40,43,47,51,36,40,43,47,51,55,107,36,40,43,47,51,55,58,62,36,40,43,47,51,55,36,40,43,47,51,62,17,36,40,43,47,51,55,58,62,66,70,36,40,43,47,51,55,36,40,43,47,51,55,66,36,40,43,47,51,55,58,62,36,40,43,47,51,55,58,40,43,47,51,55,62,66,40,43,47,51,55,58,62,17,40,43,47,51,55,58,62,66,73,40,43,47,51,55,58,40,43,47,51,55,58,40,43,47,51,55,58,62,40,43,47,51,55,58,62,70,40,43,47,51,55,58,66,43,47,51,55,58,62,40,43,47,51,55,58,66,43,47,51,55,0,40,43,47,51,55,58,62,66,70,43,47,51,55,58,62,66,73,40,43,47,51,55,58,62,66,40,43,47,51,55,58,62,66,70,40,43,47,51,55,58,43,47,51,55,58,62,43,47,51,55,58,62,66,47,51,55,58,62,70,43,47,51,55,58,62,66,70,372,47,51,55,58,62,47,51,55,58,62,66,70,43,47,51,55,58,62,66,70,73,84,43,47,51,55,58,62,66,43,47,51,55,58,62,66,47,51,55,58,62,43,47,51,55,58,62,66,73,77,43,47,51,55,58,62,66,70,73,88,47,51,55,58,62,43,47,51,55,58,62,73,43,51,55,58,62,66,70,43,47,51,55,58,62,66,70,47,51,55,58,62,66,70,88,47,51,55,58,62,70,73,47,51,55,58,62,66,70,77,51,55,58,62,66,70,73,88,43,47,51,55,58,62,66,70,73,77,84,47,51,55,58,62,70,73,77,81,47,51,55,58,62,66,77,51,55,58,62,66,47,51,55,58,62,66,70,51,55,58,62,66,47,51,55,58,62,66,70,47,51,55,58,62,66,70,73,84,47,51,55,58,62,66,70,73,77,81,92,51,55,58,62,66,84,387,440,51,55,58,62,66,70,81,51,55,58,62,66,70,81,99,51,55,58,62,66,70,73,51,55,58,62,66,70,51,55,58,62,66,70,81,84,51,55,58,62,66,70,73,77,47,55,58,62,66,70,51,55,58,62,66,70,73,77,81,84,92,99,55,58,62,66,70,73,77,51,55,58,62,66,70,73,77,55,58,62,66,70,73,77,58,62,66,73,77,55,58,62,70,81,51,55,58,62,66,70,73,77,92,51,55,66,70,73,17,51,55,58,62,66,70,73,77,81,84,96,107,55,58,62,66,70,73,55,58,62,66,70,73,51,55,58,62,66,70,73,77,81,55,58,62,66,70,73,77,88,58,62,66,70,73,81,84,55,62,66,70,73,84,62,66,70,73,55,58,62,66,70,73,77,81,84,96,99,55,58,62,66,70,73,77,81,84,55,58,62,66,70,73,77,58,62,66,70,73,77,81,55,58,62,66,70,73,77,84,96,66,70,73,77,81,55,58,62,66,70,73,77,81,84,88,92,62,66,70,73,77,88,58,62,66,70,73,77,84,58,62,66,70,73,81,84,88,62,66,70,73,77,81,84,58,62,66,70,73,58,62,66,70,73,81,58,62,66,70,73,77,81,58,62,66,70,73,77,81,84,88,92,107,62,66,70,81,84,88,58,66,70,73,77,81,88,92,99,62,66,70,73,77,81,84,88,103,58,62,66,70,73,77,81,84,96,62,66,70,73,77,81,84,58,62,66,70,73,77,81,84,88,92,96,99,107,111,62,66,70,73,77,81,62,70,73,77,81,88,92,70,77,81,92,66,70,73,84,88,58,62,66,70,73,77,81,58,62,66,70,73,77,81,84,99,66,70,73,77,81,96,62,66,70,73,77,81,84,88,92,96,99,111,62,70,73,77,84,99,66,70,73,77,81,84,88,66,70,73,77,81,84,88,66,70,73,77,81,84,88,92,62,70,73,77,81,84,92,96,62,70,73,77,81,88,96,66,70,73,77,81,84,88,92,99,62,66,70,73,77,81,84,88,92,96,99,103,70,73,77,81,84,88,99,62,66,70,73,77,81,84,88,70,73,77,81,84,88,92,96,70,73,77,81,84,92,96,70,73,77,81,84,73,77,81,84,88,92,96,66,70,73,77,81,84,88,92,96,99,103,126,129,73,77,81,84,88,92,66,70,73,77,81,84,88,92,96,103,66,70,73,77,81,88,92,77,81,84,88,92,66,73,77,81,84,88,92,77,81,84,88,66,70,73,77,81,84,88,92,111,66,70,73,77,81,84,88,92,96,99,107,111,73,77,81,84,88,96,73,77,81,84,92,96,73,77,81,84,96,73,77,81,84,88,92,99,387,77,81,88,92,96,107,70,73,77,81,84,92,99,103,118,73,77,81,84,92,96,77,81,84,88,92,17,70,73,77,81,84,88,92,96,99,103,107,114,133,73,77,81,84,88,92,96,111,70,73,81,84,88,92,96,81,84,96,103,73,81,84,88,96,73,77,81,88,92,73,77,81,84,88,92,96,99,103,73,77,81,84,88,99,73,77,81,84,88,92,96,99,103,107,111,114,77,81,84,88,92,99,77,81,84,88,92,137,70,73,81,84,88,92,96,107,122,73,81,84,88,103,122,70,73,77,81,84,88,84,88,92,107,84,88,92,96,73,77,81,84,88,92,96,99,103,107,114,81,84,88,96,73,81,84,88,92,99,81,84,88,92,96,99,103,84,92,96,107,81,84,88,92,96,99,73,81,84,88,92,96,77,84,88,92,99,118,122,167,77,84,88,92,96,99,103,77,81,84,88,92,96,99,103,107,114,118,133,144,365,77,81,84,88,92,81,84,88,92,96,99,103,73,77,81,84,92,99,103,81,84,88,92,96,103,114,118,84,88,92,387,77,84,88,92,96,99,103,107,84,88,92,96,99,103,77,81,84,88,92,96,99,103,107,111,114,118,122,126,533,88,96,99,88,92,96,99,77,81,92,96,99,103,107,77,84,88,92,99,103,118,84,88,92,96,99,103,111,81,88,92,96,103,107,111,92,96,103,111,77,84,88,92,96,99,103,107,77,81,84,88,92,96,99,103,107,111,114,118,133,81,84,88,96,99,111,129,81,88,92,96,99,103,122,84,92,99,103,114,122,126,84,96,107,114,126,92,96,99,103,107,84,88,92,96,99,103,107,111,114,88,92,96,99,81,84,88,92,96,99,103,107,111,114,118,122,126,447,81,84,88,92,96,99,103,107,114,447,81,99,107,114,84,88,92,99,103,114,118,0,84,88,99,103,107,122,92,99,103,107,111,96,99,103,107,111,92,99,111,81,88,92,96,99,103,107,111,118,126,133,167,298,88,96,99,114,88,92,96,99,103,111,81,96,99,107,111,118,122,126,88,92,96,99,103,107,111,92,96,99,103,107,114,118,152,522,92,99,103,107,111,92,99,103,107,118,84,88,92,96,99,103,107,111,114,118,122,126,372,96,99,103,107,88,99,107,114,92,99,103,107,122,84,92,103,107,111,118,159,372,92,107,118,122,88,99,103,107,92,96,103,107,111,114,118,122,126,92,96,99,103,107,111,118,122,126,141,447,96,99,103,107,114,118,122,99,103,111,114,118,122,219,88,92,99,103,111,96,99,107,111,114,122,96,99,103,107,111,96,99,103,107,114,126,129,88,92,96,99,103,111,118,129,144,96,99,111,114,92,96,99,103,107,111,114,118,122,126,129,88,92,96,103,107,111,114,118,103,92,96,99,118,92,96,107,111,114,122,107,111,122,126,96,99,103,107,111,122,126,129,88,92,99,103,111,114,92,96,99,103,107,111,114,118,122,126,129,152,357,111,114,118,103,114,92,96,99,103,107,111,114,122,129,92,107,118,126,99,107,111,114,122,96,99,103,114,118,122,129,103,107,114,141,96,99,103,107,111,114,118,122,126,129,133,137,167,447,103,107,111,114,118,129,144,111,114,122,137,107,111,118,122,99,103,107,111,114,118,122,133,92,103,107,111,122,126,137,107,111,114,118,96,99,103,107,111,114,118,122,126,148,372,107,118,122,96,99,107,111,114,126,141,152,96,103,114,118,122,133,99,103,107,111,114,118,96,107,111,126,92,111,114,118,122,126,129,148,96,99,103,107,111,114,118,122,126,129,133,137,144,99,103,114,126,107,111,114,118,122,103,107,129,107,111,114,122,129,103,111,118,122,126,129,133,137,144,111,114,118,99,111,122,126,129,148,103,107,111,114,118,122,126,129,133,141,170,260,298,107,111,126,129,148,114,122,129,103,107,111,114,118,122,129,133,372,107,114,118,122,126,129,107,114,122,126,144,103,107,111,114,118,122,126,129,133,137,141,152,335,107,122,126,129,141,197,107,111,114,118,126,103,107,111,114,118,122,126,156,114,118,122,107,111,114,118,126,114,118,122,129,137,111,122,126,107,111,114,118,122,126,129,133,137,141,144,152,159,335,107,114,118,122,126,111,114,118,129,103,122,126,141,114,118,122,126,133,107,111,114,122,129,133,118,122,129,107,111,114,118,122,126,129,133,137,141,144,148,152,159,118,126,129,141,107,114,118,126,129,133,137,156,129,107,114,118,122,137,141,118,122,133,144,107,114,122,126,129,133,141,298,111,114,118,122,126,129,133,137,144,156,447,114,118,137,144,111,118,122,129,156,107,114,122,126,129,137,111,118,122,126,129,133,141,144,387,111,118,122,129,133,137,144,156,118,137,163,114,118,174,107,111,114,118,122,126,129,133,137,141,144,148,156,159,163,114,126,133,141,174,129,159,122,129,133,137,144,152,114,122,126,129,133,137,144,170,122,126,129,133,137,111,114,122,126,129,133,137,141,144,148,152,159,163,167,118,122,133,137,141,159,122,129,133,144,111,122,126,129,133,137,141,144,152,126,152,126,129,137,148,174,111,122,126,129,133,137,152,122,137,141,170,111,114,118,122,126,129,133,137,141,144,148,152,163,185,122,129,133,137,141,152,126,129,137,141,148,129,137,148,114,118,126,133,137,141,144,152,122,126,129,152,204,129,114,118,122,126,129,133,137,141,144,152,156,129,137,144,152,148,114,118,126,156,163,189,133,137,133,137,178,126,129,144,159,118,122,129,141,156,159,447,118,126,129,133,137,141,144,148,156,163,178,129,144,152,118,148,170,447,133,137,141,159,133,141,148,152,137,144,122,129,137,144,148,122,148,152,118,122,126,129,133,137,141,144,148,152,156,163,174,197,137,148,189,122,137,163,170,129,133,137,126,133,137,141,144,148,159,167,129,133,144,148,141,144,152,156,118,126,129,133,137,141,144,148,152,156,159,163,167,170,174,178,129,133,144,126,174,126,133,137,141,144,152,156,185,118,129,141,144,148,156,167,170,137,156,159,193,129,137,141,159,167,126,129,137,144,129,133,137,141,144,148,152,156,159,163,170,178,335,372,133,156,167,129,133,137,144,148,159,185,137,141,148,129,141,159,372,133,148,152,156,185,129,141,144,148,152,163,129,141,163,141,159,129,133,137,141,144,148,152,156,163,167,170,193,197,133,141,148,159,167,129,148,129,133,137,141,144,148,144,170,137,144,148,167,133,141,133,137,141,144,148,152,156,159,163,313,141,148,152,126,129,141,144,159,170,156,129,141,144,148,159,197,133,141,144,148,152,156,137,144,156,159,144,148,156,170,133,133,137,141,144,148,152,156,159,163,167,170,178,144,167,167,212,129,137,137,141,144,148,156,185,129,141,144,148,152,156,163,167,170,137,148,152,144,156,137,144,148,152,156,159,163,167,178,144,174,156,141,144,148,152,170,144,141,144,156,159,133,144,137,141,144,148,152,156,159,163,167,170,174,223,141,144,174,137,141,148,163,167,141,144,148,156,167,163,178,137,141,144,152,159,167,174,178,182,159,141,170,126,141,144,148,152,156,159,163,167,170,174,178,189,152,159,167,170,141,152,156,167,137,152,163,170,197,141,148,170,185,313,144,152,170,182,152,156,159,137,141,148,152,156,159,163,167,170,174,178,182,189,241,372,148,167,178,148,152,159,163,144,152,156,200,447,163,156,167,170,174,137,148,152,170,144,156,159,170,148,152,156,159,163,167,170,174,204,212,144,148,159,167,174,182,148,170,156,167,159,167,152,156,159,167,148,141,152,174,141,144,156,159,163,167,170,174,178,185,189,193,301,156,167,174,148,159,163,182,212,156,163,193,163,148,152,159,167,148,144,152,156,174,387,144,148,152,156,159,163,167,170,174,178,189,163,141,152,174,193,141,144,152,204,148,159,174,182,152,152,159,170,159,167,174,144,148,152,156,159,163,167,170,178,182,185,204,245,159,163,167,170,174,182,200,152,156,174,152,156,144,182,152,170,178,189,152,156,182,163,189,144,148,152,159,163,167,178,182,189,193,197,167,159,182,167,189,152,156,178,193,212,159,167,185,200,204,148,156,182,163,148,167,170,174,152,156,159,163,167,170,174,178,182,189,159,167,148,152,170,178,182,185,163,159,163,167,178,156,159,174,152,156,170,152,156,167,170,174,178,189,197,204,241,156,159,163,167,170,174,178,185,159,167,447,178,174,185,182,159,163,174,182,185,189,197,204,219,163,156,170,152,167,189,484,156,174,189,159,193,0,163,167,174,178,182,185,189,197,208,170,182,185,163,163,167,185,200,159,197,200,215,17,159,163,167,170,174,178,182,189,193,197,174,163,156,227,170,174,241,167,182,159,167,170,174,178,182,185,189,204,230,163,182,170,170,189,223,185,185,167,170,185,159,163,167,170,174,178,182,185,189,193,204,167,189,170,193,170,185,189,193,215,174,159,189,163,185,159,163,170,178,182,185,189,193,200,212,163,182,170,189,197,178,185,197,163,163,193,219,163,167,170,174,178,185,189,200,212,215,167,178,182,197,234,241,178,200,208,193,170,256,185,197,200,219,178,185,189,193,200,208,238,249,185,178,193,170,193,197,178,193,204,215,204,170,200,170,178,182,185,193,197,200,204,208,212,215,197,174,197,234,193,197,208,170,174,178,182,185,189,193,200,215,234,268,185,200,204,271,193,204,200,185,189,200,208,170,174,182,185,189,193,208,212,227,174,182,200,212,200,189,193,174,178,185,193,197,200,208,387,193,223,189,208,193,204,174,182,185,193,197,200,204,212,215,223,193,212,182,189,212,219,223,200,204,185,200,212,219,189,178,182,189,197,200,204,212,215,223,241,245,249,182,185,208,212,193,197,204,208,185,178,185,189,193,200,204,208,212,215,234,174,185,215,189,197,200,182,189,185,189,193,197,204,212,215,193,204,193,197,204,212,193,215,223,204,189,193,197,200,204,208,212,215,227,200,212,197,182,189,193,208,185,249,200,204,189,193,197,204,208,212,215,219,223,268,238,208,223,230,193,197,219,238,204,241,372,189,197,219,189,197,200,204,212,219,223,227,230,245,223,197,234,215,230,212,245,249,189,200,208,212,215,227,238,208,227,193,249,189,193,204,212,215,193,200,204,208,212,215,271,193,197,219,189,230,212,193,208,193,204,208,212,215,219,238,245,197,223,241,223,212,230,200,204,208,212,223,230,227,212,197,204,227,241,290,200,197,223,238,264,212,215,223,197,204,215,227,230,219,200,215,219,230,200,208,245,200,200,204,212,245,253,204,238,227,212,223,238,249,200,208,219,234,238,241,223,238,208,215,219,227,230,241,245,275,219,223,227,212,215,219,204,219,223,234,241,215,234,256,212,204,212,215,219,234,279,219,245,256,227,212,219,238,212,219,223,227,230,234,249,260,215,230,208,268,241,219,223,227,219,227,234,241,245,253,223,219,219,223,253,230,215,223,234,223,230,223,245,234,230,260,234,290,234,249,256,230,234,238,241,223,227,234,238,241,245,227,238,215,227,234,238,241,245,256,260,522,219,238,241,227,484,223,227,245,227,268,253,219,249,227,249,253,256,260,227,230,241,245,219,234,245,230,253,256,260,264,230,245,264,484,241,238,241,253,223,256,260,219,245,249,253,264,230,256,227,241,230,234,245,249,260,234,238,234,245,283,253,238,245,253,256,264,271,227,249,260,249,279,238,245,245,249,241,245,253,260,275,238,245,234,256,253,249,253,260,271,309,271,279,260,260,264,245,249,260,264,279,256,264,253,286,241,268,260,241,298,249,275,301,249,245,253,238,256,294,387,253,264,264,260,268,275,286,256,256,268,275,256,253,256,279,271,260,279,264,268,294,268,275,260,305,264,286,268,283,283,256,271,264,268,271,279,290,470,298,271,279,260,264,268,286,279,327,294,301,268,286,294,301,268,384,268,275,290,294,283,294,271,275,294,447,275,309,264,268,309,313,294,286,301,264,313,354,271,290,294,298,313,305,279,286,279,294,286,298,305,320,298,342,305,279,286,387,275,286,313,298,283,361,17,298,301,597,309,301,309,320,313,298,320,331,301,331,387,301,301,387,327,298,301,369,335,301,305,331,327,301,301,324,313,309,335,339,309,313,309,320,335,324,335,313,324,320,324,327,327,320,451,331,335,346,350,387,327,342,335,342,354,327,331,335,612,350,365,387,391,410,335,387,406,342,346,361,339,387,387,372,387,339,361,387,354,387,387,361,387,342,387,387,387,357,387,365,387,387,402,380,357,387,387,387,387,391,387,387,387,387,387,372,387,387,387,387,387,387,357,387,387,387,384,387,387,387,387,391,365,387,387,387,436,387,387,387,387,387,376,410,387,406,387,384,387,387,372,387,387,387,387,384,387,376,387,387,384,387,387,391,399,387,387,406,387,387,387,387,387,402,387,387,387,421,425,387,387,387,387,425,473,387,413,387,387,492,413,387,447,746,387,410,425,432,387,387,428,387,387,443,417,387,387,387,436,387,421,559,481,387,387,387,387,387,387,387,387,432,387,671,0,470,686,466,481,462,746,466,862,671,518,514,671,772,1120,387,1098,582,17,28,597,858,746,679,877,1647,1199,1344]},\"selected\":{\"id\":\"3949\",\"type\":\"Selection\"},\"selection_policy\":{\"id\":\"3948\",\"type\":\"UnionRenderers\"}},\"id\":\"3863\",\"type\":\"ColumnDataSource\"},{\"attributes\":{\"callback\":null},\"id\":\"3832\",\"type\":\"HoverTool\"}],\"root_ids\":[\"3812\"]},\"title\":\"Bokeh Application\",\"version\":\"1.0.4\"}};\n",
       "  var render_items = [{\"docid\":\"0de94a34-cafd-4ec1-905f-853d23a3a05a\",\"notebook_comms_target\":\"3954\",\"roots\":{\"3812\":\"5ab1fd61-1e5b-4340-ab3d-a86a287eec6b\"}}];\n",
       "  root.Bokeh.embed.embed_items_notebook(docs_json, render_items);\n",
       "\n",
       "  }\n",
       "  if (root.Bokeh !== undefined) {\n",
       "    embed_document(root);\n",
       "  } else {\n",
       "    var attempts = 0;\n",
       "    var timer = setInterval(function(root) {\n",
       "      if (root.Bokeh !== undefined) {\n",
       "        embed_document(root);\n",
       "        clearInterval(timer);\n",
       "      }\n",
       "      attempts++;\n",
       "      if (attempts > 100) {\n",
       "        console.log(\"Bokeh: ERROR: Unable to run BokehJS code because BokehJS library is missing\");\n",
       "        clearInterval(timer);\n",
       "      }\n",
       "    }, 10, root)\n",
       "  }\n",
       "})(window);"
      ],
      "application/vnd.bokehjs_exec.v0+json": ""
     },
     "metadata": {
      "application/vnd.bokehjs_exec.v0+json": {
       "id": "3812"
      }
     },
     "output_type": "display_data"
    },
    {
     "data": {
      "text/html": [
       "<p><code>&lt;Bokeh Notebook handle for <strong>In[89]</strong>&gt;</code></p>"
      ],
      "text/plain": [
       "<bokeh.io.notebook.CommsHandle at 0x7fdb08aeb7f0>"
      ]
     },
     "execution_count": 89,
     "metadata": {},
     "output_type": "execute_result"
    }
   ],
   "source": [
    "show(p, notebook_handle=True)"
   ]
  },
  {
   "cell_type": "code",
   "execution_count": null,
   "metadata": {},
   "outputs": [],
   "source": []
  },
  {
   "cell_type": "code",
   "execution_count": 90,
   "metadata": {
    "scrolled": true
   },
   "outputs": [],
   "source": [
    "# for plots read: http://bokeh.pydata.org/en/latest/docs/user_guide/notebook.html\n",
    "\n",
    "connection = pika.BlockingConnection(parameters)\n",
    "channel = connection.channel()\n"
   ]
  },
  {
   "cell_type": "code",
   "execution_count": 93,
   "metadata": {
    "scrolled": true
   },
   "outputs": [],
   "source": [
    "MESSAGE_DELAY_SECONDS = 1\n",
    "\n",
    "def consumeQueue(ch, method, properties, body):\n",
    "    print(\" [x] Consuming Queue Message:%r\" % (method.routing_key))\n",
    "    \n",
    "    # parse message\n",
    "    # example message: {\"data\":[[641378,0,0,0, ... ,0,0]]}\n",
    "    jsonPayload = body.decode('utf-8')\n",
    "    data = json.loads(jsonPayload)\n",
    "    \n",
    "    ch.basic_ack(delivery_tag = method.delivery_tag)\n",
    "    \n",
    "    # scatterPlot(data)\n",
    "    \n",
    "    grid = np.array(data)\n",
    "    r.data_source.data['x'] = grid[:,0]\n",
    "    r.data_source.data['y'] = grid[:,1]\n",
    "    \n",
    "    # r.data_source.data['radius'] = np.random(size=radius) * radius\n",
    "    push_notebook()\n",
    "    \n",
    "    time.sleep(MESSAGE_DELAY_SECONDS)\n",
    "\n"
   ]
  },
  {
   "cell_type": "code",
   "execution_count": 92,
   "metadata": {
    "scrolled": true
   },
   "outputs": [
    {
     "name": "stdout",
     "output_type": "stream",
     "text": [
      " [x] Consuming Queue Message... 'plot.2d'\n"
     ]
    },
    {
     "name": "stderr",
     "output_type": "stream",
     "text": [
      "BokehUserWarning: ColumnDataSource's columns must be of the same length. Current lengths: ('fill_color', 4000), ('radius', 4397), ('x', 100), ('y', 4397)\n",
      "BokehUserWarning: ColumnDataSource's columns must be of the same length. Current lengths: ('fill_color', 4000), ('radius', 4397), ('x', 100), ('y', 100)\n"
     ]
    },
    {
     "name": "stdout",
     "output_type": "stream",
     "text": [
      " [x] Consuming Queue Message... 'plot.2d'\n"
     ]
    },
    {
     "name": "stderr",
     "output_type": "stream",
     "text": [
      "BokehUserWarning: ColumnDataSource's columns must be of the same length. Current lengths: ('fill_color', 4000), ('radius', 4397), ('x', 100), ('y', 100)\n",
      "BokehUserWarning: ColumnDataSource's columns must be of the same length. Current lengths: ('fill_color', 4000), ('radius', 4397), ('x', 100), ('y', 100)\n"
     ]
    },
    {
     "name": "stdout",
     "output_type": "stream",
     "text": [
      " [x] Consuming Queue Message... 'plot.2d'\n"
     ]
    },
    {
     "name": "stderr",
     "output_type": "stream",
     "text": [
      "BokehUserWarning: ColumnDataSource's columns must be of the same length. Current lengths: ('fill_color', 4000), ('radius', 4397), ('x', 100), ('y', 100)\n",
      "BokehUserWarning: ColumnDataSource's columns must be of the same length. Current lengths: ('fill_color', 4000), ('radius', 4397), ('x', 100), ('y', 100)\n"
     ]
    },
    {
     "name": "stdout",
     "output_type": "stream",
     "text": [
      " [x] Consuming Queue Message... 'plot.2d'\n"
     ]
    },
    {
     "name": "stderr",
     "output_type": "stream",
     "text": [
      "BokehUserWarning: ColumnDataSource's columns must be of the same length. Current lengths: ('fill_color', 4000), ('radius', 4397), ('x', 100), ('y', 100)\n",
      "BokehUserWarning: ColumnDataSource's columns must be of the same length. Current lengths: ('fill_color', 4000), ('radius', 4397), ('x', 100), ('y', 100)\n"
     ]
    },
    {
     "name": "stdout",
     "output_type": "stream",
     "text": [
      " [x] Consuming Queue Message... 'plot.2d'\n"
     ]
    },
    {
     "name": "stderr",
     "output_type": "stream",
     "text": [
      "BokehUserWarning: ColumnDataSource's columns must be of the same length. Current lengths: ('fill_color', 4000), ('radius', 4397), ('x', 100), ('y', 100)\n",
      "BokehUserWarning: ColumnDataSource's columns must be of the same length. Current lengths: ('fill_color', 4000), ('radius', 4397), ('x', 100), ('y', 100)\n"
     ]
    },
    {
     "name": "stdout",
     "output_type": "stream",
     "text": [
      " [x] Consuming Queue Message... 'plot.2d'\n"
     ]
    },
    {
     "name": "stderr",
     "output_type": "stream",
     "text": [
      "BokehUserWarning: ColumnDataSource's columns must be of the same length. Current lengths: ('fill_color', 4000), ('radius', 4397), ('x', 100), ('y', 100)\n",
      "BokehUserWarning: ColumnDataSource's columns must be of the same length. Current lengths: ('fill_color', 4000), ('radius', 4397), ('x', 100), ('y', 100)\n"
     ]
    },
    {
     "name": "stdout",
     "output_type": "stream",
     "text": [
      " [x] Consuming Queue Message... 'plot.2d'\n"
     ]
    },
    {
     "name": "stderr",
     "output_type": "stream",
     "text": [
      "BokehUserWarning: ColumnDataSource's columns must be of the same length. Current lengths: ('fill_color', 4000), ('radius', 4397), ('x', 100), ('y', 100)\n",
      "BokehUserWarning: ColumnDataSource's columns must be of the same length. Current lengths: ('fill_color', 4000), ('radius', 4397), ('x', 100), ('y', 100)\n"
     ]
    },
    {
     "name": "stdout",
     "output_type": "stream",
     "text": [
      " [x] Consuming Queue Message... 'plot.2d'\n"
     ]
    },
    {
     "name": "stderr",
     "output_type": "stream",
     "text": [
      "BokehUserWarning: ColumnDataSource's columns must be of the same length. Current lengths: ('fill_color', 4000), ('radius', 4397), ('x', 100), ('y', 100)\n",
      "BokehUserWarning: ColumnDataSource's columns must be of the same length. Current lengths: ('fill_color', 4000), ('radius', 4397), ('x', 100), ('y', 100)\n"
     ]
    },
    {
     "name": "stdout",
     "output_type": "stream",
     "text": [
      " [x] Consuming Queue Message... 'plot.2d'\n"
     ]
    },
    {
     "name": "stderr",
     "output_type": "stream",
     "text": [
      "BokehUserWarning: ColumnDataSource's columns must be of the same length. Current lengths: ('fill_color', 4000), ('radius', 4397), ('x', 100), ('y', 100)\n",
      "BokehUserWarning: ColumnDataSource's columns must be of the same length. Current lengths: ('fill_color', 4000), ('radius', 4397), ('x', 100), ('y', 100)\n"
     ]
    },
    {
     "name": "stdout",
     "output_type": "stream",
     "text": [
      " [x] Consuming Queue Message... 'plot.2d'\n"
     ]
    },
    {
     "name": "stderr",
     "output_type": "stream",
     "text": [
      "BokehUserWarning: ColumnDataSource's columns must be of the same length. Current lengths: ('fill_color', 4000), ('radius', 4397), ('x', 100), ('y', 100)\n",
      "BokehUserWarning: ColumnDataSource's columns must be of the same length. Current lengths: ('fill_color', 4000), ('radius', 4397), ('x', 100), ('y', 100)\n"
     ]
    },
    {
     "name": "stdout",
     "output_type": "stream",
     "text": [
      " [x] Consuming Queue Message... 'plot.2d'\n"
     ]
    },
    {
     "name": "stderr",
     "output_type": "stream",
     "text": [
      "BokehUserWarning: ColumnDataSource's columns must be of the same length. Current lengths: ('fill_color', 4000), ('radius', 4397), ('x', 100), ('y', 100)\n",
      "BokehUserWarning: ColumnDataSource's columns must be of the same length. Current lengths: ('fill_color', 4000), ('radius', 4397), ('x', 100), ('y', 100)\n"
     ]
    },
    {
     "name": "stdout",
     "output_type": "stream",
     "text": [
      " [x] Consuming Queue Message... 'plot.2d'\n"
     ]
    },
    {
     "name": "stderr",
     "output_type": "stream",
     "text": [
      "BokehUserWarning: ColumnDataSource's columns must be of the same length. Current lengths: ('fill_color', 4000), ('radius', 4397), ('x', 100), ('y', 100)\n",
      "BokehUserWarning: ColumnDataSource's columns must be of the same length. Current lengths: ('fill_color', 4000), ('radius', 4397), ('x', 100), ('y', 100)\n"
     ]
    },
    {
     "name": "stdout",
     "output_type": "stream",
     "text": [
      " [x] Consuming Queue Message... 'plot.2d'\n"
     ]
    },
    {
     "name": "stderr",
     "output_type": "stream",
     "text": [
      "BokehUserWarning: ColumnDataSource's columns must be of the same length. Current lengths: ('fill_color', 4000), ('radius', 4397), ('x', 100), ('y', 100)\n",
      "BokehUserWarning: ColumnDataSource's columns must be of the same length. Current lengths: ('fill_color', 4000), ('radius', 4397), ('x', 100), ('y', 100)\n"
     ]
    },
    {
     "name": "stdout",
     "output_type": "stream",
     "text": [
      " [x] Consuming Queue Message... 'plot.2d'\n"
     ]
    },
    {
     "name": "stderr",
     "output_type": "stream",
     "text": [
      "BokehUserWarning: ColumnDataSource's columns must be of the same length. Current lengths: ('fill_color', 4000), ('radius', 4397), ('x', 100), ('y', 100)\n",
      "BokehUserWarning: ColumnDataSource's columns must be of the same length. Current lengths: ('fill_color', 4000), ('radius', 4397), ('x', 100), ('y', 100)\n"
     ]
    },
    {
     "name": "stdout",
     "output_type": "stream",
     "text": [
      " [x] Consuming Queue Message... 'plot.2d'\n"
     ]
    },
    {
     "name": "stderr",
     "output_type": "stream",
     "text": [
      "BokehUserWarning: ColumnDataSource's columns must be of the same length. Current lengths: ('fill_color', 4000), ('radius', 4397), ('x', 100), ('y', 100)\n",
      "BokehUserWarning: ColumnDataSource's columns must be of the same length. Current lengths: ('fill_color', 4000), ('radius', 4397), ('x', 100), ('y', 100)\n"
     ]
    },
    {
     "name": "stdout",
     "output_type": "stream",
     "text": [
      " [x] Consuming Queue Message... 'plot.2d'\n"
     ]
    },
    {
     "name": "stderr",
     "output_type": "stream",
     "text": [
      "BokehUserWarning: ColumnDataSource's columns must be of the same length. Current lengths: ('fill_color', 4000), ('radius', 4397), ('x', 100), ('y', 100)\n",
      "BokehUserWarning: ColumnDataSource's columns must be of the same length. Current lengths: ('fill_color', 4000), ('radius', 4397), ('x', 100), ('y', 100)\n"
     ]
    },
    {
     "name": "stdout",
     "output_type": "stream",
     "text": [
      " [x] Consuming Queue Message... 'plot.2d'\n"
     ]
    },
    {
     "name": "stderr",
     "output_type": "stream",
     "text": [
      "BokehUserWarning: ColumnDataSource's columns must be of the same length. Current lengths: ('fill_color', 4000), ('radius', 4397), ('x', 100), ('y', 100)\n",
      "BokehUserWarning: ColumnDataSource's columns must be of the same length. Current lengths: ('fill_color', 4000), ('radius', 4397), ('x', 100), ('y', 100)\n"
     ]
    },
    {
     "name": "stdout",
     "output_type": "stream",
     "text": [
      " [x] Consuming Queue Message... 'plot.2d'\n"
     ]
    },
    {
     "name": "stderr",
     "output_type": "stream",
     "text": [
      "BokehUserWarning: ColumnDataSource's columns must be of the same length. Current lengths: ('fill_color', 4000), ('radius', 4397), ('x', 100), ('y', 100)\n",
      "BokehUserWarning: ColumnDataSource's columns must be of the same length. Current lengths: ('fill_color', 4000), ('radius', 4397), ('x', 100), ('y', 100)\n"
     ]
    },
    {
     "name": "stdout",
     "output_type": "stream",
     "text": [
      " [x] Consuming Queue Message... 'plot.2d'\n"
     ]
    },
    {
     "name": "stderr",
     "output_type": "stream",
     "text": [
      "BokehUserWarning: ColumnDataSource's columns must be of the same length. Current lengths: ('fill_color', 4000), ('radius', 4397), ('x', 100), ('y', 100)\n",
      "BokehUserWarning: ColumnDataSource's columns must be of the same length. Current lengths: ('fill_color', 4000), ('radius', 4397), ('x', 100), ('y', 100)\n"
     ]
    },
    {
     "name": "stdout",
     "output_type": "stream",
     "text": [
      " [x] Consuming Queue Message... 'plot.2d'\n"
     ]
    },
    {
     "name": "stderr",
     "output_type": "stream",
     "text": [
      "BokehUserWarning: ColumnDataSource's columns must be of the same length. Current lengths: ('fill_color', 4000), ('radius', 4397), ('x', 100), ('y', 100)\n",
      "BokehUserWarning: ColumnDataSource's columns must be of the same length. Current lengths: ('fill_color', 4000), ('radius', 4397), ('x', 100), ('y', 100)\n"
     ]
    },
    {
     "name": "stdout",
     "output_type": "stream",
     "text": [
      " [x] Consuming Queue Message... 'plot.2d'\n"
     ]
    },
    {
     "name": "stderr",
     "output_type": "stream",
     "text": [
      "BokehUserWarning: ColumnDataSource's columns must be of the same length. Current lengths: ('fill_color', 4000), ('radius', 4397), ('x', 100), ('y', 100)\n",
      "BokehUserWarning: ColumnDataSource's columns must be of the same length. Current lengths: ('fill_color', 4000), ('radius', 4397), ('x', 100), ('y', 100)\n"
     ]
    },
    {
     "name": "stdout",
     "output_type": "stream",
     "text": [
      " [x] Consuming Queue Message... 'plot.2d'\n"
     ]
    },
    {
     "name": "stderr",
     "output_type": "stream",
     "text": [
      "BokehUserWarning: ColumnDataSource's columns must be of the same length. Current lengths: ('fill_color', 4000), ('radius', 4397), ('x', 100), ('y', 100)\n",
      "BokehUserWarning: ColumnDataSource's columns must be of the same length. Current lengths: ('fill_color', 4000), ('radius', 4397), ('x', 100), ('y', 100)\n"
     ]
    },
    {
     "name": "stdout",
     "output_type": "stream",
     "text": [
      " [x] Consuming Queue Message... 'plot.2d'\n"
     ]
    },
    {
     "name": "stderr",
     "output_type": "stream",
     "text": [
      "BokehUserWarning: ColumnDataSource's columns must be of the same length. Current lengths: ('fill_color', 4000), ('radius', 4397), ('x', 100), ('y', 100)\n",
      "BokehUserWarning: ColumnDataSource's columns must be of the same length. Current lengths: ('fill_color', 4000), ('radius', 4397), ('x', 100), ('y', 100)\n"
     ]
    },
    {
     "name": "stdout",
     "output_type": "stream",
     "text": [
      " [x] Consuming Queue Message... 'plot.2d'\n"
     ]
    },
    {
     "name": "stderr",
     "output_type": "stream",
     "text": [
      "BokehUserWarning: ColumnDataSource's columns must be of the same length. Current lengths: ('fill_color', 4000), ('radius', 4397), ('x', 100), ('y', 100)\n",
      "BokehUserWarning: ColumnDataSource's columns must be of the same length. Current lengths: ('fill_color', 4000), ('radius', 4397), ('x', 100), ('y', 100)\n"
     ]
    },
    {
     "name": "stdout",
     "output_type": "stream",
     "text": [
      " [x] Consuming Queue Message... 'plot.2d'\n"
     ]
    },
    {
     "name": "stderr",
     "output_type": "stream",
     "text": [
      "BokehUserWarning: ColumnDataSource's columns must be of the same length. Current lengths: ('fill_color', 4000), ('radius', 4397), ('x', 100), ('y', 100)\n",
      "BokehUserWarning: ColumnDataSource's columns must be of the same length. Current lengths: ('fill_color', 4000), ('radius', 4397), ('x', 100), ('y', 100)\n"
     ]
    },
    {
     "name": "stdout",
     "output_type": "stream",
     "text": [
      " [x] Consuming Queue Message... 'plot.2d'\n"
     ]
    },
    {
     "name": "stderr",
     "output_type": "stream",
     "text": [
      "BokehUserWarning: ColumnDataSource's columns must be of the same length. Current lengths: ('fill_color', 4000), ('radius', 4397), ('x', 100), ('y', 100)\n",
      "BokehUserWarning: ColumnDataSource's columns must be of the same length. Current lengths: ('fill_color', 4000), ('radius', 4397), ('x', 100), ('y', 100)\n"
     ]
    },
    {
     "name": "stdout",
     "output_type": "stream",
     "text": [
      " [x] Consuming Queue Message... 'plot.2d'\n"
     ]
    },
    {
     "name": "stderr",
     "output_type": "stream",
     "text": [
      "BokehUserWarning: ColumnDataSource's columns must be of the same length. Current lengths: ('fill_color', 4000), ('radius', 4397), ('x', 100), ('y', 100)\n",
      "BokehUserWarning: ColumnDataSource's columns must be of the same length. Current lengths: ('fill_color', 4000), ('radius', 4397), ('x', 100), ('y', 100)\n"
     ]
    },
    {
     "name": "stdout",
     "output_type": "stream",
     "text": [
      " [x] Consuming Queue Message... 'plot.2d'\n"
     ]
    },
    {
     "name": "stderr",
     "output_type": "stream",
     "text": [
      "BokehUserWarning: ColumnDataSource's columns must be of the same length. Current lengths: ('fill_color', 4000), ('radius', 4397), ('x', 100), ('y', 100)\n",
      "BokehUserWarning: ColumnDataSource's columns must be of the same length. Current lengths: ('fill_color', 4000), ('radius', 4397), ('x', 100), ('y', 100)\n"
     ]
    },
    {
     "name": "stdout",
     "output_type": "stream",
     "text": [
      " [x] Consuming Queue Message... 'plot.2d'\n"
     ]
    },
    {
     "name": "stderr",
     "output_type": "stream",
     "text": [
      "BokehUserWarning: ColumnDataSource's columns must be of the same length. Current lengths: ('fill_color', 4000), ('radius', 4397), ('x', 100), ('y', 100)\n",
      "BokehUserWarning: ColumnDataSource's columns must be of the same length. Current lengths: ('fill_color', 4000), ('radius', 4397), ('x', 100), ('y', 100)\n"
     ]
    },
    {
     "name": "stdout",
     "output_type": "stream",
     "text": [
      " [x] Consuming Queue Message... 'plot.2d'\n"
     ]
    },
    {
     "name": "stderr",
     "output_type": "stream",
     "text": [
      "BokehUserWarning: ColumnDataSource's columns must be of the same length. Current lengths: ('fill_color', 4000), ('radius', 4397), ('x', 100), ('y', 100)\n",
      "BokehUserWarning: ColumnDataSource's columns must be of the same length. Current lengths: ('fill_color', 4000), ('radius', 4397), ('x', 100), ('y', 100)\n"
     ]
    },
    {
     "name": "stdout",
     "output_type": "stream",
     "text": [
      " [x] Consuming Queue Message... 'plot.2d'\n"
     ]
    },
    {
     "ename": "ChannelClosed",
     "evalue": "(406, 'PRECONDITION_FAILED - unknown delivery tag 1')",
     "output_type": "error",
     "traceback": [
      "\u001b[0;31m---------------------------------------------------------------------------\u001b[0m",
      "\u001b[0;31mChannelClosed\u001b[0m                             Traceback (most recent call last)",
      "\u001b[0;32m<ipython-input-92-f402a80d9b33>\u001b[0m in \u001b[0;36m<module>\u001b[0;34m()\u001b[0m\n\u001b[1;32m      1\u001b[0m \u001b[0mchannel\u001b[0m\u001b[0;34m.\u001b[0m\u001b[0mbasic_consume\u001b[0m\u001b[0;34m(\u001b[0m\u001b[0mconsumeQueue\u001b[0m\u001b[0;34m,\u001b[0m \u001b[0mqueue\u001b[0m\u001b[0;34m=\u001b[0m\u001b[0;34m'BDAPRO'\u001b[0m\u001b[0;34m,\u001b[0m \u001b[0mno_ack\u001b[0m\u001b[0;34m=\u001b[0m\u001b[0;32mTrue\u001b[0m\u001b[0;34m)\u001b[0m\u001b[0;34m\u001b[0m\u001b[0;34m\u001b[0m\u001b[0m\n\u001b[0;32m----> 2\u001b[0;31m \u001b[0mchannel\u001b[0m\u001b[0;34m.\u001b[0m\u001b[0mstart_consuming\u001b[0m\u001b[0;34m(\u001b[0m\u001b[0;34m)\u001b[0m\u001b[0;34m\u001b[0m\u001b[0;34m\u001b[0m\u001b[0m\n\u001b[0m",
      "\u001b[0;32m/home/chris/.local/lib/python3.6/site-packages/pika/adapters/blocking_connection.py\u001b[0m in \u001b[0;36mstart_consuming\u001b[0;34m(self)\u001b[0m\n\u001b[1;32m   1820\u001b[0m         \u001b[0;31m# Process events as long as consumers exist on this channel\u001b[0m\u001b[0;34m\u001b[0m\u001b[0;34m\u001b[0m\u001b[0;34m\u001b[0m\u001b[0m\n\u001b[1;32m   1821\u001b[0m         \u001b[0;32mwhile\u001b[0m \u001b[0mself\u001b[0m\u001b[0;34m.\u001b[0m\u001b[0m_consumer_infos\u001b[0m\u001b[0;34m:\u001b[0m\u001b[0;34m\u001b[0m\u001b[0;34m\u001b[0m\u001b[0m\n\u001b[0;32m-> 1822\u001b[0;31m             \u001b[0mself\u001b[0m\u001b[0;34m.\u001b[0m\u001b[0mconnection\u001b[0m\u001b[0;34m.\u001b[0m\u001b[0mprocess_data_events\u001b[0m\u001b[0;34m(\u001b[0m\u001b[0mtime_limit\u001b[0m\u001b[0;34m=\u001b[0m\u001b[0;32mNone\u001b[0m\u001b[0;34m)\u001b[0m\u001b[0;34m\u001b[0m\u001b[0;34m\u001b[0m\u001b[0m\n\u001b[0m\u001b[1;32m   1823\u001b[0m \u001b[0;34m\u001b[0m\u001b[0m\n\u001b[1;32m   1824\u001b[0m     \u001b[0;32mdef\u001b[0m \u001b[0mstop_consuming\u001b[0m\u001b[0;34m(\u001b[0m\u001b[0mself\u001b[0m\u001b[0;34m,\u001b[0m \u001b[0mconsumer_tag\u001b[0m\u001b[0;34m=\u001b[0m\u001b[0;32mNone\u001b[0m\u001b[0;34m)\u001b[0m\u001b[0;34m:\u001b[0m\u001b[0;34m\u001b[0m\u001b[0;34m\u001b[0m\u001b[0m\n",
      "\u001b[0;32m/home/chris/.local/lib/python3.6/site-packages/pika/adapters/blocking_connection.py\u001b[0m in \u001b[0;36mprocess_data_events\u001b[0;34m(self, time_limit)\u001b[0m\n\u001b[1;32m    756\u001b[0m \u001b[0;34m\u001b[0m\u001b[0m\n\u001b[1;32m    757\u001b[0m         \u001b[0;32mif\u001b[0m \u001b[0mself\u001b[0m\u001b[0;34m.\u001b[0m\u001b[0m_channels_pending_dispatch\u001b[0m\u001b[0;34m:\u001b[0m\u001b[0;34m\u001b[0m\u001b[0;34m\u001b[0m\u001b[0m\n\u001b[0;32m--> 758\u001b[0;31m             \u001b[0mself\u001b[0m\u001b[0;34m.\u001b[0m\u001b[0m_dispatch_channel_events\u001b[0m\u001b[0;34m(\u001b[0m\u001b[0;34m)\u001b[0m\u001b[0;34m\u001b[0m\u001b[0;34m\u001b[0m\u001b[0m\n\u001b[0m\u001b[1;32m    759\u001b[0m \u001b[0;34m\u001b[0m\u001b[0m\n\u001b[1;32m    760\u001b[0m     \u001b[0;32mdef\u001b[0m \u001b[0msleep\u001b[0m\u001b[0;34m(\u001b[0m\u001b[0mself\u001b[0m\u001b[0;34m,\u001b[0m \u001b[0mduration\u001b[0m\u001b[0;34m)\u001b[0m\u001b[0;34m:\u001b[0m\u001b[0;34m\u001b[0m\u001b[0;34m\u001b[0m\u001b[0m\n",
      "\u001b[0;32m/home/chris/.local/lib/python3.6/site-packages/pika/adapters/blocking_connection.py\u001b[0m in \u001b[0;36m_dispatch_channel_events\u001b[0;34m(self)\u001b[0m\n\u001b[1;32m    519\u001b[0m \u001b[0;34m\u001b[0m\u001b[0m\n\u001b[1;32m    520\u001b[0m                 \u001b[0;32mif\u001b[0m \u001b[0mimpl_channel\u001b[0m\u001b[0;34m.\u001b[0m\u001b[0mis_open\u001b[0m\u001b[0;34m:\u001b[0m\u001b[0;34m\u001b[0m\u001b[0;34m\u001b[0m\u001b[0m\n\u001b[0;32m--> 521\u001b[0;31m                     \u001b[0mimpl_channel\u001b[0m\u001b[0;34m.\u001b[0m\u001b[0m_get_cookie\u001b[0m\u001b[0;34m(\u001b[0m\u001b[0;34m)\u001b[0m\u001b[0;34m.\u001b[0m\u001b[0m_dispatch_events\u001b[0m\u001b[0;34m(\u001b[0m\u001b[0;34m)\u001b[0m\u001b[0;34m\u001b[0m\u001b[0;34m\u001b[0m\u001b[0m\n\u001b[0m\u001b[1;32m    522\u001b[0m \u001b[0;34m\u001b[0m\u001b[0m\n\u001b[1;32m    523\u001b[0m     \u001b[0;32mdef\u001b[0m \u001b[0m_on_timer_ready\u001b[0m\u001b[0;34m(\u001b[0m\u001b[0mself\u001b[0m\u001b[0;34m,\u001b[0m \u001b[0mevt\u001b[0m\u001b[0;34m)\u001b[0m\u001b[0;34m:\u001b[0m\u001b[0;34m\u001b[0m\u001b[0;34m\u001b[0m\u001b[0m\n",
      "\u001b[0;32m/home/chris/.local/lib/python3.6/site-packages/pika/adapters/blocking_connection.py\u001b[0m in \u001b[0;36m_dispatch_events\u001b[0;34m(self)\u001b[0m\n\u001b[1;32m   1443\u001b[0m                 \u001b[0mconsumer_info\u001b[0m \u001b[0;34m=\u001b[0m \u001b[0mself\u001b[0m\u001b[0;34m.\u001b[0m\u001b[0m_consumer_infos\u001b[0m\u001b[0;34m[\u001b[0m\u001b[0mevt\u001b[0m\u001b[0;34m.\u001b[0m\u001b[0mmethod\u001b[0m\u001b[0;34m.\u001b[0m\u001b[0mconsumer_tag\u001b[0m\u001b[0;34m]\u001b[0m\u001b[0;34m\u001b[0m\u001b[0;34m\u001b[0m\u001b[0m\n\u001b[1;32m   1444\u001b[0m                 consumer_info.consumer_cb(self, evt.method, evt.properties,\n\u001b[0;32m-> 1445\u001b[0;31m                                           evt.body)\n\u001b[0m\u001b[1;32m   1446\u001b[0m \u001b[0;34m\u001b[0m\u001b[0m\n\u001b[1;32m   1447\u001b[0m             \u001b[0;32melif\u001b[0m \u001b[0mtype\u001b[0m\u001b[0;34m(\u001b[0m\u001b[0mevt\u001b[0m\u001b[0;34m)\u001b[0m \u001b[0;32mis\u001b[0m \u001b[0m_ConsumerCancellationEvt\u001b[0m\u001b[0;34m:\u001b[0m\u001b[0;34m\u001b[0m\u001b[0;34m\u001b[0m\u001b[0m\n",
      "\u001b[0;32m<ipython-input-91-e9a2e21638b2>\u001b[0m in \u001b[0;36mconsumeQueue\u001b[0;34m(ch, method, properties, body)\u001b[0m\n\u001b[1;32m      9\u001b[0m     \u001b[0mdata\u001b[0m \u001b[0;34m=\u001b[0m \u001b[0mjson\u001b[0m\u001b[0;34m.\u001b[0m\u001b[0mloads\u001b[0m\u001b[0;34m(\u001b[0m\u001b[0mjsonPayload\u001b[0m\u001b[0;34m)\u001b[0m\u001b[0;34m\u001b[0m\u001b[0;34m\u001b[0m\u001b[0m\n\u001b[1;32m     10\u001b[0m \u001b[0;34m\u001b[0m\u001b[0m\n\u001b[0;32m---> 11\u001b[0;31m     \u001b[0mch\u001b[0m\u001b[0;34m.\u001b[0m\u001b[0mbasic_ack\u001b[0m\u001b[0;34m(\u001b[0m\u001b[0mdelivery_tag\u001b[0m \u001b[0;34m=\u001b[0m \u001b[0mmethod\u001b[0m\u001b[0;34m.\u001b[0m\u001b[0mdelivery_tag\u001b[0m\u001b[0;34m)\u001b[0m\u001b[0;34m\u001b[0m\u001b[0;34m\u001b[0m\u001b[0m\n\u001b[0m\u001b[1;32m     12\u001b[0m \u001b[0;34m\u001b[0m\u001b[0m\n\u001b[1;32m     13\u001b[0m     \u001b[0;31m# scatterPlot(data)\u001b[0m\u001b[0;34m\u001b[0m\u001b[0;34m\u001b[0m\u001b[0;34m\u001b[0m\u001b[0m\n",
      "\u001b[0;32m/home/chris/.local/lib/python3.6/site-packages/pika/adapters/blocking_connection.py\u001b[0m in \u001b[0;36mbasic_ack\u001b[0;34m(self, delivery_tag, multiple)\u001b[0m\n\u001b[1;32m   2029\u001b[0m         \"\"\"\n\u001b[1;32m   2030\u001b[0m         \u001b[0mself\u001b[0m\u001b[0;34m.\u001b[0m\u001b[0m_impl\u001b[0m\u001b[0;34m.\u001b[0m\u001b[0mbasic_ack\u001b[0m\u001b[0;34m(\u001b[0m\u001b[0mdelivery_tag\u001b[0m\u001b[0;34m=\u001b[0m\u001b[0mdelivery_tag\u001b[0m\u001b[0;34m,\u001b[0m \u001b[0mmultiple\u001b[0m\u001b[0;34m=\u001b[0m\u001b[0mmultiple\u001b[0m\u001b[0;34m)\u001b[0m\u001b[0;34m\u001b[0m\u001b[0;34m\u001b[0m\u001b[0m\n\u001b[0;32m-> 2031\u001b[0;31m         \u001b[0mself\u001b[0m\u001b[0;34m.\u001b[0m\u001b[0m_flush_output\u001b[0m\u001b[0;34m(\u001b[0m\u001b[0;34m)\u001b[0m\u001b[0;34m\u001b[0m\u001b[0;34m\u001b[0m\u001b[0m\n\u001b[0m\u001b[1;32m   2032\u001b[0m \u001b[0;34m\u001b[0m\u001b[0m\n\u001b[1;32m   2033\u001b[0m     \u001b[0;32mdef\u001b[0m \u001b[0mbasic_nack\u001b[0m\u001b[0;34m(\u001b[0m\u001b[0mself\u001b[0m\u001b[0;34m,\u001b[0m \u001b[0mdelivery_tag\u001b[0m\u001b[0;34m=\u001b[0m\u001b[0;32mNone\u001b[0m\u001b[0;34m,\u001b[0m \u001b[0mmultiple\u001b[0m\u001b[0;34m=\u001b[0m\u001b[0;32mFalse\u001b[0m\u001b[0;34m,\u001b[0m \u001b[0mrequeue\u001b[0m\u001b[0;34m=\u001b[0m\u001b[0;32mTrue\u001b[0m\u001b[0;34m)\u001b[0m\u001b[0;34m:\u001b[0m\u001b[0;34m\u001b[0m\u001b[0;34m\u001b[0m\u001b[0m\n",
      "\u001b[0;32m/home/chris/.local/lib/python3.6/site-packages/pika/adapters/blocking_connection.py\u001b[0m in \u001b[0;36m_flush_output\u001b[0;34m(self, *waiters)\u001b[0m\n\u001b[1;32m   1290\u001b[0m         self._connection._flush_output(\n\u001b[1;32m   1291\u001b[0m             \u001b[0mself\u001b[0m\u001b[0;34m.\u001b[0m\u001b[0m_channel_closed_by_broker_result\u001b[0m\u001b[0;34m.\u001b[0m\u001b[0mis_ready\u001b[0m\u001b[0;34m,\u001b[0m\u001b[0;34m\u001b[0m\u001b[0;34m\u001b[0m\u001b[0m\n\u001b[0;32m-> 1292\u001b[0;31m             *waiters)\n\u001b[0m\u001b[1;32m   1293\u001b[0m \u001b[0;34m\u001b[0m\u001b[0m\n\u001b[1;32m   1294\u001b[0m         \u001b[0;32mif\u001b[0m \u001b[0mself\u001b[0m\u001b[0;34m.\u001b[0m\u001b[0m_channel_closed_by_broker_result\u001b[0m\u001b[0;34m:\u001b[0m\u001b[0;34m\u001b[0m\u001b[0;34m\u001b[0m\u001b[0m\n",
      "\u001b[0;32m/home/chris/.local/lib/python3.6/site-packages/pika/adapters/blocking_connection.py\u001b[0m in \u001b[0;36m_flush_output\u001b[0;34m(self, *waiters)\u001b[0m\n\u001b[1;32m    456\u001b[0m         \u001b[0;31m# Process I/O until our completion condition is satisified\u001b[0m\u001b[0;34m\u001b[0m\u001b[0;34m\u001b[0m\u001b[0;34m\u001b[0m\u001b[0m\n\u001b[1;32m    457\u001b[0m         \u001b[0;32mwhile\u001b[0m \u001b[0;32mnot\u001b[0m \u001b[0mis_done\u001b[0m\u001b[0;34m(\u001b[0m\u001b[0;34m)\u001b[0m\u001b[0;34m:\u001b[0m\u001b[0;34m\u001b[0m\u001b[0;34m\u001b[0m\u001b[0m\n\u001b[0;32m--> 458\u001b[0;31m             \u001b[0mself\u001b[0m\u001b[0;34m.\u001b[0m\u001b[0m_impl\u001b[0m\u001b[0;34m.\u001b[0m\u001b[0mioloop\u001b[0m\u001b[0;34m.\u001b[0m\u001b[0mpoll\u001b[0m\u001b[0;34m(\u001b[0m\u001b[0;34m)\u001b[0m\u001b[0;34m\u001b[0m\u001b[0;34m\u001b[0m\u001b[0m\n\u001b[0m\u001b[1;32m    459\u001b[0m             \u001b[0mself\u001b[0m\u001b[0;34m.\u001b[0m\u001b[0m_impl\u001b[0m\u001b[0;34m.\u001b[0m\u001b[0mioloop\u001b[0m\u001b[0;34m.\u001b[0m\u001b[0mprocess_timeouts\u001b[0m\u001b[0;34m(\u001b[0m\u001b[0;34m)\u001b[0m\u001b[0;34m\u001b[0m\u001b[0;34m\u001b[0m\u001b[0m\n\u001b[1;32m    460\u001b[0m \u001b[0;34m\u001b[0m\u001b[0m\n",
      "\u001b[0;32m/home/chris/.local/lib/python3.6/site-packages/pika/adapters/select_connection.py\u001b[0m in \u001b[0;36mpoll\u001b[0;34m(self)\u001b[0m\n\u001b[1;32m    493\u001b[0m \u001b[0;34m\u001b[0m\u001b[0m\n\u001b[1;32m    494\u001b[0m         \"\"\"\n\u001b[0;32m--> 495\u001b[0;31m         \u001b[0mself\u001b[0m\u001b[0;34m.\u001b[0m\u001b[0m_poller\u001b[0m\u001b[0;34m.\u001b[0m\u001b[0mpoll\u001b[0m\u001b[0;34m(\u001b[0m\u001b[0;34m)\u001b[0m\u001b[0;34m\u001b[0m\u001b[0;34m\u001b[0m\u001b[0m\n\u001b[0m\u001b[1;32m    496\u001b[0m \u001b[0;34m\u001b[0m\u001b[0m\n\u001b[1;32m    497\u001b[0m \u001b[0;34m\u001b[0m\u001b[0m\n",
      "\u001b[0;32m/home/chris/.local/lib/python3.6/site-packages/pika/adapters/select_connection.py\u001b[0m in \u001b[0;36mpoll\u001b[0;34m(self)\u001b[0m\n\u001b[1;32m   1112\u001b[0m             \u001b[0mfd_event_map\u001b[0m\u001b[0;34m[\u001b[0m\u001b[0mfileno\u001b[0m\u001b[0;34m]\u001b[0m \u001b[0;34m|=\u001b[0m \u001b[0mevent\u001b[0m\u001b[0;34m\u001b[0m\u001b[0;34m\u001b[0m\u001b[0m\n\u001b[1;32m   1113\u001b[0m \u001b[0;34m\u001b[0m\u001b[0m\n\u001b[0;32m-> 1114\u001b[0;31m         \u001b[0mself\u001b[0m\u001b[0;34m.\u001b[0m\u001b[0m_dispatch_fd_events\u001b[0m\u001b[0;34m(\u001b[0m\u001b[0mfd_event_map\u001b[0m\u001b[0;34m)\u001b[0m\u001b[0;34m\u001b[0m\u001b[0;34m\u001b[0m\u001b[0m\n\u001b[0m\u001b[1;32m   1115\u001b[0m \u001b[0;34m\u001b[0m\u001b[0m\n\u001b[1;32m   1116\u001b[0m     \u001b[0;32mdef\u001b[0m \u001b[0m_init_poller\u001b[0m\u001b[0;34m(\u001b[0m\u001b[0mself\u001b[0m\u001b[0;34m)\u001b[0m\u001b[0;34m:\u001b[0m\u001b[0;34m\u001b[0m\u001b[0;34m\u001b[0m\u001b[0m\n",
      "\u001b[0;32m/home/chris/.local/lib/python3.6/site-packages/pika/adapters/select_connection.py\u001b[0m in \u001b[0;36m_dispatch_fd_events\u001b[0;34m(self, fd_event_map)\u001b[0m\n\u001b[1;32m    829\u001b[0m             \u001b[0;32mif\u001b[0m \u001b[0mevents\u001b[0m\u001b[0;34m:\u001b[0m\u001b[0;34m\u001b[0m\u001b[0;34m\u001b[0m\u001b[0m\n\u001b[1;32m    830\u001b[0m                 \u001b[0mhandler\u001b[0m \u001b[0;34m=\u001b[0m \u001b[0mself\u001b[0m\u001b[0;34m.\u001b[0m\u001b[0m_fd_handlers\u001b[0m\u001b[0;34m[\u001b[0m\u001b[0mfileno\u001b[0m\u001b[0;34m]\u001b[0m\u001b[0;34m\u001b[0m\u001b[0;34m\u001b[0m\u001b[0m\n\u001b[0;32m--> 831\u001b[0;31m                 \u001b[0mhandler\u001b[0m\u001b[0;34m(\u001b[0m\u001b[0mfileno\u001b[0m\u001b[0;34m,\u001b[0m \u001b[0mevents\u001b[0m\u001b[0;34m)\u001b[0m\u001b[0;34m\u001b[0m\u001b[0;34m\u001b[0m\u001b[0m\n\u001b[0m\u001b[1;32m    832\u001b[0m \u001b[0;34m\u001b[0m\u001b[0m\n\u001b[1;32m    833\u001b[0m     \u001b[0;34m@\u001b[0m\u001b[0mstaticmethod\u001b[0m\u001b[0;34m\u001b[0m\u001b[0;34m\u001b[0m\u001b[0m\n",
      "\u001b[0;32m/home/chris/.local/lib/python3.6/site-packages/pika/adapters/base_connection.py\u001b[0m in \u001b[0;36m_handle_events\u001b[0;34m(self, fd, events, error, write_only)\u001b[0m\n\u001b[1;32m    408\u001b[0m \u001b[0;34m\u001b[0m\u001b[0m\n\u001b[1;32m    409\u001b[0m         \u001b[0;32mif\u001b[0m \u001b[0mself\u001b[0m\u001b[0;34m.\u001b[0m\u001b[0msocket\u001b[0m \u001b[0;32mand\u001b[0m \u001b[0;32mnot\u001b[0m \u001b[0mwrite_only\u001b[0m \u001b[0;32mand\u001b[0m \u001b[0;34m(\u001b[0m\u001b[0mevents\u001b[0m \u001b[0;34m&\u001b[0m \u001b[0mself\u001b[0m\u001b[0;34m.\u001b[0m\u001b[0mREAD\u001b[0m\u001b[0;34m)\u001b[0m\u001b[0;34m:\u001b[0m\u001b[0;34m\u001b[0m\u001b[0;34m\u001b[0m\u001b[0m\n\u001b[0;32m--> 410\u001b[0;31m             \u001b[0mself\u001b[0m\u001b[0;34m.\u001b[0m\u001b[0m_handle_read\u001b[0m\u001b[0;34m(\u001b[0m\u001b[0;34m)\u001b[0m\u001b[0;34m\u001b[0m\u001b[0;34m\u001b[0m\u001b[0m\n\u001b[0m\u001b[1;32m    411\u001b[0m \u001b[0;34m\u001b[0m\u001b[0m\n\u001b[1;32m    412\u001b[0m         if (self.socket and write_only and (events & self.READ) and\n",
      "\u001b[0;32m/home/chris/.local/lib/python3.6/site-packages/pika/adapters/base_connection.py\u001b[0m in \u001b[0;36m_handle_read\u001b[0;34m(self)\u001b[0m\n\u001b[1;32m    462\u001b[0m \u001b[0;34m\u001b[0m\u001b[0m\n\u001b[1;32m    463\u001b[0m         \u001b[0;31m# Pass the data into our top level frame dispatching method\u001b[0m\u001b[0;34m\u001b[0m\u001b[0;34m\u001b[0m\u001b[0;34m\u001b[0m\u001b[0m\n\u001b[0;32m--> 464\u001b[0;31m         \u001b[0mself\u001b[0m\u001b[0;34m.\u001b[0m\u001b[0m_on_data_available\u001b[0m\u001b[0;34m(\u001b[0m\u001b[0mdata\u001b[0m\u001b[0;34m)\u001b[0m\u001b[0;34m\u001b[0m\u001b[0;34m\u001b[0m\u001b[0m\n\u001b[0m\u001b[1;32m    465\u001b[0m         \u001b[0;32mreturn\u001b[0m \u001b[0mlen\u001b[0m\u001b[0;34m(\u001b[0m\u001b[0mdata\u001b[0m\u001b[0;34m)\u001b[0m\u001b[0;34m\u001b[0m\u001b[0;34m\u001b[0m\u001b[0m\n\u001b[1;32m    466\u001b[0m \u001b[0;34m\u001b[0m\u001b[0m\n",
      "\u001b[0;32m/home/chris/.local/lib/python3.6/site-packages/pika/connection.py\u001b[0m in \u001b[0;36m_on_data_available\u001b[0;34m(self, data_in)\u001b[0m\n\u001b[1;32m   2039\u001b[0m                 \u001b[0;32mreturn\u001b[0m\u001b[0;34m\u001b[0m\u001b[0;34m\u001b[0m\u001b[0m\n\u001b[1;32m   2040\u001b[0m             \u001b[0mself\u001b[0m\u001b[0;34m.\u001b[0m\u001b[0m_trim_frame_buffer\u001b[0m\u001b[0;34m(\u001b[0m\u001b[0mconsumed_count\u001b[0m\u001b[0;34m)\u001b[0m\u001b[0;34m\u001b[0m\u001b[0;34m\u001b[0m\u001b[0m\n\u001b[0;32m-> 2041\u001b[0;31m             \u001b[0mself\u001b[0m\u001b[0;34m.\u001b[0m\u001b[0m_process_frame\u001b[0m\u001b[0;34m(\u001b[0m\u001b[0mframe_value\u001b[0m\u001b[0;34m)\u001b[0m\u001b[0;34m\u001b[0m\u001b[0;34m\u001b[0m\u001b[0m\n\u001b[0m\u001b[1;32m   2042\u001b[0m \u001b[0;34m\u001b[0m\u001b[0m\n\u001b[1;32m   2043\u001b[0m     \u001b[0;32mdef\u001b[0m \u001b[0m_on_terminate\u001b[0m\u001b[0;34m(\u001b[0m\u001b[0mself\u001b[0m\u001b[0;34m,\u001b[0m \u001b[0mreason_code\u001b[0m\u001b[0;34m,\u001b[0m \u001b[0mreason_text\u001b[0m\u001b[0;34m)\u001b[0m\u001b[0;34m:\u001b[0m\u001b[0;34m\u001b[0m\u001b[0;34m\u001b[0m\u001b[0m\n",
      "\u001b[0;32m/home/chris/.local/lib/python3.6/site-packages/pika/connection.py\u001b[0m in \u001b[0;36m_process_frame\u001b[0;34m(self, frame_value)\u001b[0m\n\u001b[1;32m   2160\u001b[0m \u001b[0;34m\u001b[0m\u001b[0m\n\u001b[1;32m   2161\u001b[0m         \u001b[0;31m# Process any callbacks, if True, exit method\u001b[0m\u001b[0;34m\u001b[0m\u001b[0;34m\u001b[0m\u001b[0;34m\u001b[0m\u001b[0m\n\u001b[0;32m-> 2162\u001b[0;31m         \u001b[0;32mif\u001b[0m \u001b[0mself\u001b[0m\u001b[0;34m.\u001b[0m\u001b[0m_process_callbacks\u001b[0m\u001b[0;34m(\u001b[0m\u001b[0mframe_value\u001b[0m\u001b[0;34m)\u001b[0m\u001b[0;34m:\u001b[0m\u001b[0;34m\u001b[0m\u001b[0;34m\u001b[0m\u001b[0m\n\u001b[0m\u001b[1;32m   2163\u001b[0m             \u001b[0;32mreturn\u001b[0m\u001b[0;34m\u001b[0m\u001b[0;34m\u001b[0m\u001b[0m\n\u001b[1;32m   2164\u001b[0m \u001b[0;34m\u001b[0m\u001b[0m\n",
      "\u001b[0;32m/home/chris/.local/lib/python3.6/site-packages/pika/connection.py\u001b[0m in \u001b[0;36m_process_callbacks\u001b[0;34m(self, frame_value)\u001b[0m\n\u001b[1;32m   2141\u001b[0m                                    \u001b[0mframe_value\u001b[0m\u001b[0;34m.\u001b[0m\u001b[0mmethod\u001b[0m\u001b[0;34m,\u001b[0m  \u001b[0;31m# Key\u001b[0m\u001b[0;34m\u001b[0m\u001b[0;34m\u001b[0m\u001b[0m\n\u001b[1;32m   2142\u001b[0m                                    \u001b[0mself\u001b[0m\u001b[0;34m,\u001b[0m  \u001b[0;31m# Caller\u001b[0m\u001b[0;34m\u001b[0m\u001b[0;34m\u001b[0m\u001b[0m\n\u001b[0;32m-> 2143\u001b[0;31m                                    frame_value)  # Args\n\u001b[0m\u001b[1;32m   2144\u001b[0m             \u001b[0;32mreturn\u001b[0m \u001b[0;32mTrue\u001b[0m\u001b[0;34m\u001b[0m\u001b[0;34m\u001b[0m\u001b[0m\n\u001b[1;32m   2145\u001b[0m         \u001b[0;32mreturn\u001b[0m \u001b[0;32mFalse\u001b[0m\u001b[0;34m\u001b[0m\u001b[0;34m\u001b[0m\u001b[0m\n",
      "\u001b[0;32m/home/chris/.local/lib/python3.6/site-packages/pika/callback.py\u001b[0m in \u001b[0;36mwrapper\u001b[0;34m(*args, **kwargs)\u001b[0m\n\u001b[1;32m     58\u001b[0m             \u001b[0margs\u001b[0m\u001b[0;34m[\u001b[0m\u001b[0moffset\u001b[0m\u001b[0;34m]\u001b[0m \u001b[0;34m=\u001b[0m \u001b[0mname_or_value\u001b[0m\u001b[0;34m(\u001b[0m\u001b[0margs\u001b[0m\u001b[0;34m[\u001b[0m\u001b[0moffset\u001b[0m\u001b[0;34m]\u001b[0m\u001b[0;34m)\u001b[0m\u001b[0;34m\u001b[0m\u001b[0;34m\u001b[0m\u001b[0m\n\u001b[1;32m     59\u001b[0m \u001b[0;34m\u001b[0m\u001b[0m\n\u001b[0;32m---> 60\u001b[0;31m         \u001b[0;32mreturn\u001b[0m \u001b[0mfunction\u001b[0m\u001b[0;34m(\u001b[0m\u001b[0;34m*\u001b[0m\u001b[0mtuple\u001b[0m\u001b[0;34m(\u001b[0m\u001b[0margs\u001b[0m\u001b[0;34m)\u001b[0m\u001b[0;34m,\u001b[0m \u001b[0;34m**\u001b[0m\u001b[0mkwargs\u001b[0m\u001b[0;34m)\u001b[0m\u001b[0;34m\u001b[0m\u001b[0;34m\u001b[0m\u001b[0m\n\u001b[0m\u001b[1;32m     61\u001b[0m \u001b[0;34m\u001b[0m\u001b[0m\n\u001b[1;32m     62\u001b[0m     \u001b[0;32mreturn\u001b[0m \u001b[0mwrapper\u001b[0m\u001b[0;34m\u001b[0m\u001b[0;34m\u001b[0m\u001b[0m\n",
      "\u001b[0;32m/home/chris/.local/lib/python3.6/site-packages/pika/callback.py\u001b[0m in \u001b[0;36mwrapper\u001b[0;34m(*args, **kwargs)\u001b[0m\n\u001b[1;32m     90\u001b[0m \u001b[0;34m\u001b[0m\u001b[0m\n\u001b[1;32m     91\u001b[0m         \u001b[0;31m# Execute the method\u001b[0m\u001b[0;34m\u001b[0m\u001b[0;34m\u001b[0m\u001b[0;34m\u001b[0m\u001b[0m\n\u001b[0;32m---> 92\u001b[0;31m         \u001b[0;32mreturn\u001b[0m \u001b[0mfunction\u001b[0m\u001b[0;34m(\u001b[0m\u001b[0;34m*\u001b[0m\u001b[0margs\u001b[0m\u001b[0;34m,\u001b[0m \u001b[0;34m**\u001b[0m\u001b[0mkwargs\u001b[0m\u001b[0;34m)\u001b[0m\u001b[0;34m\u001b[0m\u001b[0;34m\u001b[0m\u001b[0m\n\u001b[0m\u001b[1;32m     93\u001b[0m \u001b[0;34m\u001b[0m\u001b[0m\n\u001b[1;32m     94\u001b[0m     \u001b[0;32mreturn\u001b[0m \u001b[0mwrapper\u001b[0m\u001b[0;34m\u001b[0m\u001b[0;34m\u001b[0m\u001b[0m\n",
      "\u001b[0;32m/home/chris/.local/lib/python3.6/site-packages/pika/callback.py\u001b[0m in \u001b[0;36mprocess\u001b[0;34m(self, prefix, key, caller, *args, **keywords)\u001b[0m\n\u001b[1;32m    234\u001b[0m             \u001b[0mLOGGER\u001b[0m\u001b[0;34m.\u001b[0m\u001b[0mdebug\u001b[0m\u001b[0;34m(\u001b[0m\u001b[0;34m'Calling %s for \"%s:%s\"'\u001b[0m\u001b[0;34m,\u001b[0m \u001b[0mcallback\u001b[0m\u001b[0;34m,\u001b[0m \u001b[0mprefix\u001b[0m\u001b[0;34m,\u001b[0m \u001b[0mkey\u001b[0m\u001b[0;34m)\u001b[0m\u001b[0;34m\u001b[0m\u001b[0;34m\u001b[0m\u001b[0m\n\u001b[1;32m    235\u001b[0m             \u001b[0;32mtry\u001b[0m\u001b[0;34m:\u001b[0m\u001b[0;34m\u001b[0m\u001b[0;34m\u001b[0m\u001b[0m\n\u001b[0;32m--> 236\u001b[0;31m                 \u001b[0mcallback\u001b[0m\u001b[0;34m(\u001b[0m\u001b[0;34m*\u001b[0m\u001b[0margs\u001b[0m\u001b[0;34m,\u001b[0m \u001b[0;34m**\u001b[0m\u001b[0mkeywords\u001b[0m\u001b[0;34m)\u001b[0m\u001b[0;34m\u001b[0m\u001b[0;34m\u001b[0m\u001b[0m\n\u001b[0m\u001b[1;32m    237\u001b[0m             \u001b[0;32mexcept\u001b[0m\u001b[0;34m:\u001b[0m\u001b[0;34m\u001b[0m\u001b[0;34m\u001b[0m\u001b[0m\n\u001b[1;32m    238\u001b[0m                 LOGGER.exception('Calling %s for \"%s:%s\" failed', callback,\n",
      "\u001b[0;32m/home/chris/.local/lib/python3.6/site-packages/pika/adapters/blocking_connection.py\u001b[0m in \u001b[0;36m_on_channel_closed\u001b[0;34m(self, method_frame)\u001b[0m\n\u001b[1;32m   1356\u001b[0m         \u001b[0mmethod\u001b[0m \u001b[0;34m=\u001b[0m \u001b[0mmethod_frame\u001b[0m\u001b[0;34m.\u001b[0m\u001b[0mmethod\u001b[0m\u001b[0;34m\u001b[0m\u001b[0;34m\u001b[0m\u001b[0m\n\u001b[1;32m   1357\u001b[0m         raise exceptions.ChannelClosed(method.reply_code,\n\u001b[0;32m-> 1358\u001b[0;31m                  method.reply_text)\n\u001b[0m\u001b[1;32m   1359\u001b[0m \u001b[0;34m\u001b[0m\u001b[0m\n\u001b[1;32m   1360\u001b[0m     \u001b[0;32mdef\u001b[0m \u001b[0m_on_consumer_cancelled_by_broker\u001b[0m\u001b[0;34m(\u001b[0m\u001b[0mself\u001b[0m\u001b[0;34m,\u001b[0m \u001b[0mmethod_frame\u001b[0m\u001b[0;34m)\u001b[0m\u001b[0;34m:\u001b[0m\u001b[0;34m\u001b[0m\u001b[0;34m\u001b[0m\u001b[0m\n",
      "\u001b[0;31mChannelClosed\u001b[0m: (406, 'PRECONDITION_FAILED - unknown delivery tag 1')"
     ]
    }
   ],
   "source": [
    "channel.basic_consume(consumeQueue, queue='BDAPRO', no_ack=True)\n",
    "channel.start_consuming()"
   ]
  },
  {
   "cell_type": "code",
   "execution_count": null,
   "metadata": {
    "scrolled": true
   },
   "outputs": [],
   "source": [
    "connection.close()"
   ]
  },
  {
   "cell_type": "code",
   "execution_count": null,
   "metadata": {},
   "outputs": [],
   "source": []
  },
  {
   "cell_type": "code",
   "execution_count": null,
   "metadata": {
    "scrolled": false
   },
   "outputs": [],
   "source": []
  },
  {
   "cell_type": "code",
   "execution_count": null,
   "metadata": {},
   "outputs": [],
   "source": []
  },
  {
   "cell_type": "code",
   "execution_count": null,
   "metadata": {},
   "outputs": [],
   "source": [
    "\n"
   ]
  },
  {
   "cell_type": "code",
   "execution_count": null,
   "metadata": {},
   "outputs": [],
   "source": []
  },
  {
   "cell_type": "code",
   "execution_count": null,
   "metadata": {},
   "outputs": [],
   "source": []
  },
  {
   "cell_type": "code",
   "execution_count": 46,
   "metadata": {},
   "outputs": [],
   "source": [
    "def update(q, f, x=10, y=10, radius=10):\n",
    "    ## pull data from queue\n",
    "    # r.data_source.data['x'] = np.random.random(size=x) * x\n",
    "    r.data_source.data['y'] = np.random.random(size=y) * y\n",
    "    # r.data_source.data['radius'] = np.random(size=radius) * radius\n",
    "    push_notebook()"
   ]
  },
  {
   "cell_type": "code",
   "execution_count": null,
   "metadata": {},
   "outputs": [],
   "source": []
  },
  {
   "cell_type": "code",
   "execution_count": 47,
   "metadata": {},
   "outputs": [
    {
     "data": {
      "application/vnd.jupyter.widget-view+json": {
       "model_id": "fee0e86f94de4629800805fb5e258934"
      }
     },
     "metadata": {},
     "output_type": "display_data"
    },
    {
     "data": {
      "text/plain": [
       "<function __main__.update>"
      ]
     },
     "execution_count": 47,
     "metadata": {},
     "output_type": "execute_result"
    }
   ],
   "source": [
    "interact(update, q=[\"taxi data\", \"????\"], f=[\"scatter\", \"cluster\"], x=(10,4000), y=(10,4000), radius=(1,10))"
   ]
  },
  {
   "cell_type": "markdown",
   "metadata": {},
   "source": [
    "also see for growing (appending) scatter plots: https://stackoverflow.com/questions/43101497/how-do-stream-data-to-a-bokeh-plot-in-jupyter-with-a-high-refresh-rate\n",
    "\n"
   ]
  },
  {
   "cell_type": "code",
   "execution_count": 39,
   "metadata": {},
   "outputs": [],
   "source": [
    "# p1.x_range.callback = CustomJS(args=dict(source=source, range=p1.x_range), code=jscode % ('x', 'width'))\n",
    "# p1.y_range.callback = CustomJS(args=dict(source=source, range=p1.y_range), code=jscode % ('y', 'height'))"
   ]
  },
  {
   "cell_type": "code",
   "execution_count": null,
   "metadata": {
    "scrolled": true
   },
   "outputs": [],
   "source": []
  },
  {
   "cell_type": "code",
   "execution_count": null,
   "metadata": {},
   "outputs": [],
   "source": []
  },
  {
   "cell_type": "code",
   "execution_count": null,
   "metadata": {},
   "outputs": [],
   "source": []
  },
  {
   "cell_type": "code",
   "execution_count": null,
   "metadata": {},
   "outputs": [],
   "source": []
  },
  {
   "cell_type": "code",
   "execution_count": 8,
   "metadata": {},
   "outputs": [],
   "source": []
  },
  {
   "cell_type": "code",
   "execution_count": null,
   "metadata": {},
   "outputs": [],
   "source": []
  }
 ],
 "metadata": {
  "kernelspec": {
   "display_name": "Python 3",
   "language": "python",
   "name": "python3"
  },
  "language_info": {
   "codemirror_mode": {
    "name": "ipython",
    "version": 3
   },
   "file_extension": ".py",
   "mimetype": "text/x-python",
   "name": "python",
   "nbconvert_exporter": "python",
   "pygments_lexer": "ipython3",
   "version": "3.6.7"
  }
 },
 "nbformat": 4,
 "nbformat_minor": 2
}
