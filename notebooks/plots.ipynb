{
 "cells": [
  {
   "cell_type": "code",
   "execution_count": 1,
   "metadata": {},
   "outputs": [
    {
     "data": {
      "text/html": [
       "\n",
       "    <div class=\"bk-root\">\n",
       "        <a href=\"https://bokeh.pydata.org\" target=\"_blank\" class=\"bk-logo bk-logo-small bk-logo-notebook\"></a>\n",
       "        <span id=\"1001\">Loading BokehJS ...</span>\n",
       "    </div>"
      ]
     },
     "metadata": {},
     "output_type": "display_data"
    },
    {
     "data": {
      "application/javascript": [
       "\n",
       "(function(root) {\n",
       "  function now() {\n",
       "    return new Date();\n",
       "  }\n",
       "\n",
       "  var force = true;\n",
       "\n",
       "  if (typeof (root._bokeh_onload_callbacks) === \"undefined\" || force === true) {\n",
       "    root._bokeh_onload_callbacks = [];\n",
       "    root._bokeh_is_loading = undefined;\n",
       "  }\n",
       "\n",
       "  var JS_MIME_TYPE = 'application/javascript';\n",
       "  var HTML_MIME_TYPE = 'text/html';\n",
       "  var EXEC_MIME_TYPE = 'application/vnd.bokehjs_exec.v0+json';\n",
       "  var CLASS_NAME = 'output_bokeh rendered_html';\n",
       "\n",
       "  /**\n",
       "   * Render data to the DOM node\n",
       "   */\n",
       "  function render(props, node) {\n",
       "    var script = document.createElement(\"script\");\n",
       "    node.appendChild(script);\n",
       "  }\n",
       "\n",
       "  /**\n",
       "   * Handle when an output is cleared or removed\n",
       "   */\n",
       "  function handleClearOutput(event, handle) {\n",
       "    var cell = handle.cell;\n",
       "\n",
       "    var id = cell.output_area._bokeh_element_id;\n",
       "    var server_id = cell.output_area._bokeh_server_id;\n",
       "    // Clean up Bokeh references\n",
       "    if (id != null && id in Bokeh.index) {\n",
       "      Bokeh.index[id].model.document.clear();\n",
       "      delete Bokeh.index[id];\n",
       "    }\n",
       "\n",
       "    if (server_id !== undefined) {\n",
       "      // Clean up Bokeh references\n",
       "      var cmd = \"from bokeh.io.state import curstate; print(curstate().uuid_to_server['\" + server_id + \"'].get_sessions()[0].document.roots[0]._id)\";\n",
       "      cell.notebook.kernel.execute(cmd, {\n",
       "        iopub: {\n",
       "          output: function(msg) {\n",
       "            var id = msg.content.text.trim();\n",
       "            if (id in Bokeh.index) {\n",
       "              Bokeh.index[id].model.document.clear();\n",
       "              delete Bokeh.index[id];\n",
       "            }\n",
       "          }\n",
       "        }\n",
       "      });\n",
       "      // Destroy server and session\n",
       "      var cmd = \"import bokeh.io.notebook as ion; ion.destroy_server('\" + server_id + \"')\";\n",
       "      cell.notebook.kernel.execute(cmd);\n",
       "    }\n",
       "  }\n",
       "\n",
       "  /**\n",
       "   * Handle when a new output is added\n",
       "   */\n",
       "  function handleAddOutput(event, handle) {\n",
       "    var output_area = handle.output_area;\n",
       "    var output = handle.output;\n",
       "\n",
       "    // limit handleAddOutput to display_data with EXEC_MIME_TYPE content only\n",
       "    if ((output.output_type != \"display_data\") || (!output.data.hasOwnProperty(EXEC_MIME_TYPE))) {\n",
       "      return\n",
       "    }\n",
       "\n",
       "    var toinsert = output_area.element.find(\".\" + CLASS_NAME.split(' ')[0]);\n",
       "\n",
       "    if (output.metadata[EXEC_MIME_TYPE][\"id\"] !== undefined) {\n",
       "      toinsert[toinsert.length - 1].firstChild.textContent = output.data[JS_MIME_TYPE];\n",
       "      // store reference to embed id on output_area\n",
       "      output_area._bokeh_element_id = output.metadata[EXEC_MIME_TYPE][\"id\"];\n",
       "    }\n",
       "    if (output.metadata[EXEC_MIME_TYPE][\"server_id\"] !== undefined) {\n",
       "      var bk_div = document.createElement(\"div\");\n",
       "      bk_div.innerHTML = output.data[HTML_MIME_TYPE];\n",
       "      var script_attrs = bk_div.children[0].attributes;\n",
       "      for (var i = 0; i < script_attrs.length; i++) {\n",
       "        toinsert[toinsert.length - 1].firstChild.setAttribute(script_attrs[i].name, script_attrs[i].value);\n",
       "      }\n",
       "      // store reference to server id on output_area\n",
       "      output_area._bokeh_server_id = output.metadata[EXEC_MIME_TYPE][\"server_id\"];\n",
       "    }\n",
       "  }\n",
       "\n",
       "  function register_renderer(events, OutputArea) {\n",
       "\n",
       "    function append_mime(data, metadata, element) {\n",
       "      // create a DOM node to render to\n",
       "      var toinsert = this.create_output_subarea(\n",
       "        metadata,\n",
       "        CLASS_NAME,\n",
       "        EXEC_MIME_TYPE\n",
       "      );\n",
       "      this.keyboard_manager.register_events(toinsert);\n",
       "      // Render to node\n",
       "      var props = {data: data, metadata: metadata[EXEC_MIME_TYPE]};\n",
       "      render(props, toinsert[toinsert.length - 1]);\n",
       "      element.append(toinsert);\n",
       "      return toinsert\n",
       "    }\n",
       "\n",
       "    /* Handle when an output is cleared or removed */\n",
       "    events.on('clear_output.CodeCell', handleClearOutput);\n",
       "    events.on('delete.Cell', handleClearOutput);\n",
       "\n",
       "    /* Handle when a new output is added */\n",
       "    events.on('output_added.OutputArea', handleAddOutput);\n",
       "\n",
       "    /**\n",
       "     * Register the mime type and append_mime function with output_area\n",
       "     */\n",
       "    OutputArea.prototype.register_mime_type(EXEC_MIME_TYPE, append_mime, {\n",
       "      /* Is output safe? */\n",
       "      safe: true,\n",
       "      /* Index of renderer in `output_area.display_order` */\n",
       "      index: 0\n",
       "    });\n",
       "  }\n",
       "\n",
       "  // register the mime type if in Jupyter Notebook environment and previously unregistered\n",
       "  if (root.Jupyter !== undefined) {\n",
       "    var events = require('base/js/events');\n",
       "    var OutputArea = require('notebook/js/outputarea').OutputArea;\n",
       "\n",
       "    if (OutputArea.prototype.mime_types().indexOf(EXEC_MIME_TYPE) == -1) {\n",
       "      register_renderer(events, OutputArea);\n",
       "    }\n",
       "  }\n",
       "\n",
       "  \n",
       "  if (typeof (root._bokeh_timeout) === \"undefined\" || force === true) {\n",
       "    root._bokeh_timeout = Date.now() + 5000;\n",
       "    root._bokeh_failed_load = false;\n",
       "  }\n",
       "\n",
       "  var NB_LOAD_WARNING = {'data': {'text/html':\n",
       "     \"<div style='background-color: #fdd'>\\n\"+\n",
       "     \"<p>\\n\"+\n",
       "     \"BokehJS does not appear to have successfully loaded. If loading BokehJS from CDN, this \\n\"+\n",
       "     \"may be due to a slow or bad network connection. Possible fixes:\\n\"+\n",
       "     \"</p>\\n\"+\n",
       "     \"<ul>\\n\"+\n",
       "     \"<li>re-rerun `output_notebook()` to attempt to load from CDN again, or</li>\\n\"+\n",
       "     \"<li>use INLINE resources instead, as so:</li>\\n\"+\n",
       "     \"</ul>\\n\"+\n",
       "     \"<code>\\n\"+\n",
       "     \"from bokeh.resources import INLINE\\n\"+\n",
       "     \"output_notebook(resources=INLINE)\\n\"+\n",
       "     \"</code>\\n\"+\n",
       "     \"</div>\"}};\n",
       "\n",
       "  function display_loaded() {\n",
       "    var el = document.getElementById(\"1001\");\n",
       "    if (el != null) {\n",
       "      el.textContent = \"BokehJS is loading...\";\n",
       "    }\n",
       "    if (root.Bokeh !== undefined) {\n",
       "      if (el != null) {\n",
       "        el.textContent = \"BokehJS \" + root.Bokeh.version + \" successfully loaded.\";\n",
       "      }\n",
       "    } else if (Date.now() < root._bokeh_timeout) {\n",
       "      setTimeout(display_loaded, 100)\n",
       "    }\n",
       "  }\n",
       "\n",
       "\n",
       "  function run_callbacks() {\n",
       "    try {\n",
       "      root._bokeh_onload_callbacks.forEach(function(callback) { callback() });\n",
       "    }\n",
       "    finally {\n",
       "      delete root._bokeh_onload_callbacks\n",
       "    }\n",
       "    console.info(\"Bokeh: all callbacks have finished\");\n",
       "  }\n",
       "\n",
       "  function load_libs(js_urls, callback) {\n",
       "    root._bokeh_onload_callbacks.push(callback);\n",
       "    if (root._bokeh_is_loading > 0) {\n",
       "      console.log(\"Bokeh: BokehJS is being loaded, scheduling callback at\", now());\n",
       "      return null;\n",
       "    }\n",
       "    if (js_urls == null || js_urls.length === 0) {\n",
       "      run_callbacks();\n",
       "      return null;\n",
       "    }\n",
       "    console.log(\"Bokeh: BokehJS not loaded, scheduling load and callback at\", now());\n",
       "    root._bokeh_is_loading = js_urls.length;\n",
       "    for (var i = 0; i < js_urls.length; i++) {\n",
       "      var url = js_urls[i];\n",
       "      var s = document.createElement('script');\n",
       "      s.src = url;\n",
       "      s.async = false;\n",
       "      s.onreadystatechange = s.onload = function() {\n",
       "        root._bokeh_is_loading--;\n",
       "        if (root._bokeh_is_loading === 0) {\n",
       "          console.log(\"Bokeh: all BokehJS libraries loaded\");\n",
       "          run_callbacks()\n",
       "        }\n",
       "      };\n",
       "      s.onerror = function() {\n",
       "        console.warn(\"failed to load library \" + url);\n",
       "      };\n",
       "      console.log(\"Bokeh: injecting script tag for BokehJS library: \", url);\n",
       "      document.getElementsByTagName(\"head\")[0].appendChild(s);\n",
       "    }\n",
       "  };var element = document.getElementById(\"1001\");\n",
       "  if (element == null) {\n",
       "    console.log(\"Bokeh: ERROR: autoload.js configured with elementid '1001' but no matching script tag was found. \")\n",
       "    return false;\n",
       "  }\n",
       "\n",
       "  var js_urls = [\"https://cdn.pydata.org/bokeh/release/bokeh-1.0.4.min.js\", \"https://cdn.pydata.org/bokeh/release/bokeh-widgets-1.0.4.min.js\", \"https://cdn.pydata.org/bokeh/release/bokeh-tables-1.0.4.min.js\", \"https://cdn.pydata.org/bokeh/release/bokeh-gl-1.0.4.min.js\"];\n",
       "\n",
       "  var inline_js = [\n",
       "    function(Bokeh) {\n",
       "      Bokeh.set_log_level(\"info\");\n",
       "    },\n",
       "    \n",
       "    function(Bokeh) {\n",
       "      \n",
       "    },\n",
       "    function(Bokeh) {\n",
       "      console.log(\"Bokeh: injecting CSS: https://cdn.pydata.org/bokeh/release/bokeh-1.0.4.min.css\");\n",
       "      Bokeh.embed.inject_css(\"https://cdn.pydata.org/bokeh/release/bokeh-1.0.4.min.css\");\n",
       "      console.log(\"Bokeh: injecting CSS: https://cdn.pydata.org/bokeh/release/bokeh-widgets-1.0.4.min.css\");\n",
       "      Bokeh.embed.inject_css(\"https://cdn.pydata.org/bokeh/release/bokeh-widgets-1.0.4.min.css\");\n",
       "      console.log(\"Bokeh: injecting CSS: https://cdn.pydata.org/bokeh/release/bokeh-tables-1.0.4.min.css\");\n",
       "      Bokeh.embed.inject_css(\"https://cdn.pydata.org/bokeh/release/bokeh-tables-1.0.4.min.css\");\n",
       "    }\n",
       "  ];\n",
       "\n",
       "  function run_inline_js() {\n",
       "    \n",
       "    if ((root.Bokeh !== undefined) || (force === true)) {\n",
       "      for (var i = 0; i < inline_js.length; i++) {\n",
       "        inline_js[i].call(root, root.Bokeh);\n",
       "      }if (force === true) {\n",
       "        display_loaded();\n",
       "      }} else if (Date.now() < root._bokeh_timeout) {\n",
       "      setTimeout(run_inline_js, 100);\n",
       "    } else if (!root._bokeh_failed_load) {\n",
       "      console.log(\"Bokeh: BokehJS failed to load within specified timeout.\");\n",
       "      root._bokeh_failed_load = true;\n",
       "    } else if (force !== true) {\n",
       "      var cell = $(document.getElementById(\"1001\")).parents('.cell').data().cell;\n",
       "      cell.output_area.append_execute_result(NB_LOAD_WARNING)\n",
       "    }\n",
       "\n",
       "  }\n",
       "\n",
       "  if (root._bokeh_is_loading === 0) {\n",
       "    console.log(\"Bokeh: BokehJS loaded, going straight to plotting\");\n",
       "    run_inline_js();\n",
       "  } else {\n",
       "    load_libs(js_urls, function() {\n",
       "      console.log(\"Bokeh: BokehJS plotting callback run at\", now());\n",
       "      run_inline_js();\n",
       "    });\n",
       "  }\n",
       "}(window));"
      ],
      "application/vnd.bokehjs_load.v0+json": "\n(function(root) {\n  function now() {\n    return new Date();\n  }\n\n  var force = true;\n\n  if (typeof (root._bokeh_onload_callbacks) === \"undefined\" || force === true) {\n    root._bokeh_onload_callbacks = [];\n    root._bokeh_is_loading = undefined;\n  }\n\n  \n\n  \n  if (typeof (root._bokeh_timeout) === \"undefined\" || force === true) {\n    root._bokeh_timeout = Date.now() + 5000;\n    root._bokeh_failed_load = false;\n  }\n\n  var NB_LOAD_WARNING = {'data': {'text/html':\n     \"<div style='background-color: #fdd'>\\n\"+\n     \"<p>\\n\"+\n     \"BokehJS does not appear to have successfully loaded. If loading BokehJS from CDN, this \\n\"+\n     \"may be due to a slow or bad network connection. Possible fixes:\\n\"+\n     \"</p>\\n\"+\n     \"<ul>\\n\"+\n     \"<li>re-rerun `output_notebook()` to attempt to load from CDN again, or</li>\\n\"+\n     \"<li>use INLINE resources instead, as so:</li>\\n\"+\n     \"</ul>\\n\"+\n     \"<code>\\n\"+\n     \"from bokeh.resources import INLINE\\n\"+\n     \"output_notebook(resources=INLINE)\\n\"+\n     \"</code>\\n\"+\n     \"</div>\"}};\n\n  function display_loaded() {\n    var el = document.getElementById(\"1001\");\n    if (el != null) {\n      el.textContent = \"BokehJS is loading...\";\n    }\n    if (root.Bokeh !== undefined) {\n      if (el != null) {\n        el.textContent = \"BokehJS \" + root.Bokeh.version + \" successfully loaded.\";\n      }\n    } else if (Date.now() < root._bokeh_timeout) {\n      setTimeout(display_loaded, 100)\n    }\n  }\n\n\n  function run_callbacks() {\n    try {\n      root._bokeh_onload_callbacks.forEach(function(callback) { callback() });\n    }\n    finally {\n      delete root._bokeh_onload_callbacks\n    }\n    console.info(\"Bokeh: all callbacks have finished\");\n  }\n\n  function load_libs(js_urls, callback) {\n    root._bokeh_onload_callbacks.push(callback);\n    if (root._bokeh_is_loading > 0) {\n      console.log(\"Bokeh: BokehJS is being loaded, scheduling callback at\", now());\n      return null;\n    }\n    if (js_urls == null || js_urls.length === 0) {\n      run_callbacks();\n      return null;\n    }\n    console.log(\"Bokeh: BokehJS not loaded, scheduling load and callback at\", now());\n    root._bokeh_is_loading = js_urls.length;\n    for (var i = 0; i < js_urls.length; i++) {\n      var url = js_urls[i];\n      var s = document.createElement('script');\n      s.src = url;\n      s.async = false;\n      s.onreadystatechange = s.onload = function() {\n        root._bokeh_is_loading--;\n        if (root._bokeh_is_loading === 0) {\n          console.log(\"Bokeh: all BokehJS libraries loaded\");\n          run_callbacks()\n        }\n      };\n      s.onerror = function() {\n        console.warn(\"failed to load library \" + url);\n      };\n      console.log(\"Bokeh: injecting script tag for BokehJS library: \", url);\n      document.getElementsByTagName(\"head\")[0].appendChild(s);\n    }\n  };var element = document.getElementById(\"1001\");\n  if (element == null) {\n    console.log(\"Bokeh: ERROR: autoload.js configured with elementid '1001' but no matching script tag was found. \")\n    return false;\n  }\n\n  var js_urls = [\"https://cdn.pydata.org/bokeh/release/bokeh-1.0.4.min.js\", \"https://cdn.pydata.org/bokeh/release/bokeh-widgets-1.0.4.min.js\", \"https://cdn.pydata.org/bokeh/release/bokeh-tables-1.0.4.min.js\", \"https://cdn.pydata.org/bokeh/release/bokeh-gl-1.0.4.min.js\"];\n\n  var inline_js = [\n    function(Bokeh) {\n      Bokeh.set_log_level(\"info\");\n    },\n    \n    function(Bokeh) {\n      \n    },\n    function(Bokeh) {\n      console.log(\"Bokeh: injecting CSS: https://cdn.pydata.org/bokeh/release/bokeh-1.0.4.min.css\");\n      Bokeh.embed.inject_css(\"https://cdn.pydata.org/bokeh/release/bokeh-1.0.4.min.css\");\n      console.log(\"Bokeh: injecting CSS: https://cdn.pydata.org/bokeh/release/bokeh-widgets-1.0.4.min.css\");\n      Bokeh.embed.inject_css(\"https://cdn.pydata.org/bokeh/release/bokeh-widgets-1.0.4.min.css\");\n      console.log(\"Bokeh: injecting CSS: https://cdn.pydata.org/bokeh/release/bokeh-tables-1.0.4.min.css\");\n      Bokeh.embed.inject_css(\"https://cdn.pydata.org/bokeh/release/bokeh-tables-1.0.4.min.css\");\n    }\n  ];\n\n  function run_inline_js() {\n    \n    if ((root.Bokeh !== undefined) || (force === true)) {\n      for (var i = 0; i < inline_js.length; i++) {\n        inline_js[i].call(root, root.Bokeh);\n      }if (force === true) {\n        display_loaded();\n      }} else if (Date.now() < root._bokeh_timeout) {\n      setTimeout(run_inline_js, 100);\n    } else if (!root._bokeh_failed_load) {\n      console.log(\"Bokeh: BokehJS failed to load within specified timeout.\");\n      root._bokeh_failed_load = true;\n    } else if (force !== true) {\n      var cell = $(document.getElementById(\"1001\")).parents('.cell').data().cell;\n      cell.output_area.append_execute_result(NB_LOAD_WARNING)\n    }\n\n  }\n\n  if (root._bokeh_is_loading === 0) {\n    console.log(\"Bokeh: BokehJS loaded, going straight to plotting\");\n    run_inline_js();\n  } else {\n    load_libs(js_urls, function() {\n      console.log(\"Bokeh: BokehJS plotting callback run at\", now());\n      run_inline_js();\n    });\n  }\n}(window));"
     },
     "metadata": {},
     "output_type": "display_data"
    }
   ],
   "source": [
    "%matplotlib inline\n",
    "\n",
    "import http.client\n",
    "import json\n",
    "import numpy as np\n",
    "import matplotlib.mlab as mlab\n",
    "import matplotlib.pyplot as plt\n",
    "import pika\n",
    "import time\n",
    "from ipywidgets import interact\n",
    "\n",
    "# from bokeh.plotting import output_file, figure, show, hplot\n",
    "\n",
    "from bokeh.io import push_notebook, show, output_notebook\n",
    "from bokeh.plotting import output_file, figure, show, output_notebook\n",
    "from bokeh.models import ColumnDataSource, CustomJS, Rect\n",
    "\n",
    "from six.moves import zip\n",
    "\n",
    "output_notebook()\n",
    "\n",
    "source = ColumnDataSource({'x': [], 'y': [], 'width': [], 'height': []})"
   ]
  },
  {
   "cell_type": "code",
   "execution_count": 2,
   "metadata": {},
   "outputs": [],
   "source": [
    "# backend service connection\n",
    "baseEndpoint = \"localhost:8082\" \n",
    "basePath = \"/2d/scatter\"\n",
    "baseUri = baseEndpoint + basePath\n",
    "\n",
    "# rabbitMQ connection\n",
    "credentials = pika.PlainCredentials(\"user\", \"password\")\n",
    "parameters = pika.ConnectionParameters('localhost', 5672, '/', credentials)\n"
   ]
  },
  {
   "cell_type": "code",
   "execution_count": 3,
   "metadata": {},
   "outputs": [],
   "source": [
    "# functions\n",
    "\n",
    "def getData(x=100,y=100):\n",
    "    relativePath = \"{}?x={}&y={}\".format(basePath,x,y)\n",
    "    conn = http.client.HTTPConnection(baseEndpoint)\n",
    "    conn.request(\"GET\", relativePath)\n",
    "    r1 = conn.getresponse()\n",
    "\n",
    "    if (r1.status >= 400):\n",
    "        print(\"Error:\", relativePath, r1.status, r1.reason)\n",
    "        return []\n",
    "    else:\n",
    "        payload = r1.read()\n",
    "        jsonPayload = payload.decode('utf-8')\n",
    "        return json.loads(jsonPayload)\n",
    "    \n",
    "\n",
    "def scatterPlot(data):\n",
    "    grid = np.array(data)\n",
    "    plt.scatter(grid[:,0], grid[:,1], c='b', marker='.', s=1)\n",
    "    plt.title('Optimized Scatter Plot')\n",
    "    plt.xlabel('X-Axis')\n",
    "    plt.ylabel('Y-Axis')\n",
    "    plt.show()\n",
    "    plt.close()"
   ]
  },
  {
   "cell_type": "code",
   "execution_count": 4,
   "metadata": {
    "scrolled": false
   },
   "outputs": [],
   "source": [
    "data = getData(4000,4000)\n",
    "\n"
   ]
  },
  {
   "cell_type": "code",
   "execution_count": 5,
   "metadata": {},
   "outputs": [
    {
     "data": {
      "image/png": "[encoded data removed]",
      "text/plain": [
       "<Figure size 432x288 with 1 Axes>"
      ]
     },
     "metadata": {},
     "output_type": "display_data"
    }
   ],
   "source": [
    "scatterPlot(data)"
   ]
  },
  {
   "cell_type": "code",
   "execution_count": 6,
   "metadata": {},
   "outputs": [],
   "source": [
    "grid = np.array(data)\n",
    "\n",
    "TOOLS=\"hover,crosshair,pan,wheel_zoom,box_zoom,reset,tap,save,box_select,poly_select,lasso_select\"\n",
    "\n",
    "distance = grid[:,0]\n",
    "fair = grid[:,1]\n",
    "radii = grid[:,2]\n",
    "\n",
    "colors = [\"#%02x%02x%02x\" % (int(r), int(g), 150) for r, g in zip(50+2*distance, 30+2*fair)]\n",
    "\n",
    "p = figure(title=\"visaulization pipeline scatter plot\", width=500, height=500, tools=TOOLS)\n",
    "#, x_range_name='distance', y_range_name='fair'\n",
    "r = p.scatter(x = distance, y = fair, radius=radii, fill_color=colors, fill_alpha=0.6, line_color=None)"
   ]
  },
  {
   "cell_type": "code",
   "execution_count": 7,
   "metadata": {
    "scrolled": true
   },
   "outputs": [],
   "source": [
    "MESSAGE_DELAY_SECONDS = 1\n",
    "RADIUS = 3\n",
    "\n",
    "def consumeQueue(ch, method, properties, body):\n",
    "    print(\" [x] Consuming Queue Message:%r\" % (method.routing_key))\n",
    "    \n",
    "    # parse message; e.g. {\"data\":[[719,0,0,536, ... ,0,0]]}\n",
    "    jsonPayload = body.decode('utf-8')\n",
    "    data = json.loads(jsonPayload)\n",
    "    \n",
    "    # acknowledge message received\n",
    "    # ch.basic_ack(delivery_tag = method.delivery_tag)\n",
    "    \n",
    "    # scatterPlot(data)\n",
    "\n",
    "    # convert data\n",
    "    grid = np.array(data)\n",
    "    x = grid[:,0]\n",
    "    y = grid[:,1]\n",
    "    radii = grid[:,2]\n",
    "    colors = [\"#%02x%02x%02x\" % (int(red), int(green), 150) for red, green in zip(50+2*x, 30+2*y)]\n",
    "    \n",
    "    # update plot\n",
    "    r.data_source.data['x'] = x\n",
    "    r.data_source.data['y'] = y\n",
    "    r.data_source.data['radius'] = [(radius % RADIUS) for radius in radii]\n",
    "    r.data_source.data['fill_color'] = colors\n",
    "    \n",
    "    # time.sleep(MESSAGE_DELAY_SECONDS)\n",
    "    push_notebook()\n",
    "    \n",
    "\n"
   ]
  },
  {
   "cell_type": "code",
   "execution_count": 8,
   "metadata": {},
   "outputs": [
    {
     "data": {
      "text/html": [
       "\n",
       "\n",
       "\n",
       "\n",
       "\n",
       "\n",
       "  <div class=\"bk-root\" id=\"bd212f19-3a1e-45c1-a7f8-89df9383bc95\" data-root-id=\"1004\"></div>\n"
      ]
     },
     "metadata": {},
     "output_type": "display_data"
    },
    {
     "data": {
      "application/javascript": [
       "(function(root) {\n",
       "  function embed_document(root) {\n",
       "    \n",
       "  var docs_json = {\"f775f23f-f7c6-4990-bbda-422568e3c275\":{\"roots\":{\"references\":[{\"attributes\":{\"below\":[{\"id\":\"1014\",\"type\":\"LinearAxis\"}],\"left\":[{\"id\":\"1019\",\"type\":\"LinearAxis\"}],\"plot_height\":500,\"plot_width\":500,\"renderers\":[{\"id\":\"1014\",\"type\":\"LinearAxis\"},{\"id\":\"1018\",\"type\":\"Grid\"},{\"id\":\"1019\",\"type\":\"LinearAxis\"},{\"id\":\"1023\",\"type\":\"Grid\"},{\"id\":\"1039\",\"type\":\"BoxAnnotation\"},{\"id\":\"1045\",\"type\":\"BoxAnnotation\"},{\"id\":\"1048\",\"type\":\"PolyAnnotation\"},{\"id\":\"1051\",\"type\":\"PolyAnnotation\"},{\"id\":\"1058\",\"type\":\"GlyphRenderer\"}],\"title\":{\"id\":\"1003\",\"type\":\"Title\"},\"toolbar\":{\"id\":\"1035\",\"type\":\"Toolbar\"},\"x_range\":{\"id\":\"1006\",\"type\":\"DataRange1d\"},\"x_scale\":{\"id\":\"1010\",\"type\":\"LinearScale\"},\"y_range\":{\"id\":\"1008\",\"type\":\"DataRange1d\"},\"y_scale\":{\"id\":\"1012\",\"type\":\"LinearScale\"}},\"id\":\"1004\",\"subtype\":\"Figure\",\"type\":\"Plot\"},{\"attributes\":{},\"id\":\"1029\",\"type\":\"ResetTool\"},{\"attributes\":{\"callback\":null},\"id\":\"1008\",\"type\":\"DataRange1d\"},{\"attributes\":{\"fill_alpha\":{\"value\":0.6},\"fill_color\":{\"field\":\"fill_color\"},\"line_color\":{\"value\":null},\"radius\":{\"field\":\"radius\",\"units\":\"data\"},\"x\":{\"field\":\"x\"},\"y\":{\"field\":\"y\"}},\"id\":\"1056\",\"type\":\"Circle\"},{\"attributes\":{\"callback\":null},\"id\":\"1030\",\"type\":\"TapTool\"},{\"attributes\":{},\"id\":\"1010\",\"type\":\"LinearScale\"},{\"attributes\":{},\"id\":\"1031\",\"type\":\"SaveTool\"},{\"attributes\":{},\"id\":\"1012\",\"type\":\"LinearScale\"},{\"attributes\":{\"callback\":null,\"overlay\":{\"id\":\"1045\",\"type\":\"BoxAnnotation\"}},\"id\":\"1032\",\"type\":\"BoxSelectTool\"},{\"attributes\":{\"formatter\":{\"id\":\"1062\",\"type\":\"BasicTickFormatter\"},\"plot\":{\"id\":\"1004\",\"subtype\":\"Figure\",\"type\":\"Plot\"},\"ticker\":{\"id\":\"1015\",\"type\":\"BasicTicker\"}},\"id\":\"1014\",\"type\":\"LinearAxis\"},{\"attributes\":{\"callback\":null,\"overlay\":{\"id\":\"1048\",\"type\":\"PolyAnnotation\"}},\"id\":\"1033\",\"type\":\"PolySelectTool\"},{\"attributes\":{},\"id\":\"1015\",\"type\":\"BasicTicker\"},{\"attributes\":{\"callback\":null,\"data\":{\"fill_color\":[\"#321e96\",\"#324096\",\"#324896\",\"#325096\",\"#325696\",\"#325e96\",\"#326696\",\"#327496\",\"#328096\",\"#328496\",\"#328e96\",\"#329296\",\"#329a96\",\"#329e96\",\"#32a296\",\"#32a696\",\"#32ae96\",\"#32b096\",\"#32b696\",\"#32c096\",\"#32c296\",\"#32c496\",\"#32ce96\",\"#32d696\",\"#32e496\",\"#32f896\",\"#32fc96\",\"#3211a96\",\"#3212896\",\"#3214696\",\"#3214e96\",\"#3217296\",\"#321a896\",\"#321d296\",\"#321dc96\",\"#321f696\",\"#3220c96\",\"#3227296\",\"#3229096\",\"#322bc96\",\"#3230696\",\"#3232496\",\"#3238e96\",\"#3239c96\",\"#323e096\",\"#3240896\",\"#3242296\",\"#3243296\",\"#3245c96\",\"#324c896\",\"#3253096\",\"#3257a96\",\"#326d496\",\"#3271e96\",\"#3275a96\",\"#327ca96\",\"#328de96\",\"#32bca96\",\"#3213ac96\",\"#321f5c96\",\"#34ec96\",\"#364096\",\"#364896\",\"#381e96\",\"#384096\",\"#3a1e96\",\"#3a4096\",\"#3a4896\",\"#3c4896\",\"#3c5096\",\"#3e4896\",\"#404096\",\"#404896\",\"#405096\",\"#4032496\",\"#444896\",\"#445096\",\"#484096\",\"#488c96\",\"#4a1e96\",\"#4a4896\",\"#4c4896\",\"#4c5096\",\"#4e4896\",\"#4e5096\",\"#4e5696\",\"#504896\",\"#505096\",\"#505696\",\"#505e96\",\"#506e96\",\"#524896\",\"#544896\",\"#545096\",\"#565696\",\"#565e96\",\"#584896\",\"#585096\",\"#585e96\",\"#5a1e96\",\"#5a4896\",\"#5a5096\",\"#5c5696\",\"#5e4896\",\"#5e5096\",\"#5e5696\",\"#5e6696\",\"#5e7c96\",\"#5e11a096\",\"#624896\",\"#625096\",\"#625696\",\"#625e96\",\"#6214696\",\"#644896\",\"#645096\",\"#645696\",\"#646696\",\"#664896\",\"#665096\",\"#665696\",\"#684896\",\"#685096\",\"#685696\",\"#6a5096\",\"#6a5696\",\"#6a5e96\",\"#6c4896\",\"#6c5096\",\"#6c5696\",\"#6e4896\",\"#6e5096\",\"#6e5696\",\"#6e5e96\",\"#6e6696\",\"#6e7c96\",\"#705096\",\"#705696\",\"#705e96\",\"#721e96\",\"#724096\",\"#724896\",\"#725096\",\"#725696\",\"#725e96\",\"#726696\",\"#726e96\",\"#729a96\",\"#72b096\",\"#745096\",\"#745696\",\"#746696\",\"#761e96\",\"#765096\",\"#765696\",\"#765e96\",\"#766696\",\"#785096\",\"#785696\",\"#785e96\",\"#789a96\",\"#7a5096\",\"#7a5696\",\"#7a5e96\",\"#7c5096\",\"#7c5696\",\"#7c5e96\",\"#7c6696\",\"#7e5096\",\"#7e5696\",\"#7e5e96\",\"#805096\",\"#805696\",\"#805e96\",\"#806e96\",\"#807496\",\"#824096\",\"#825096\",\"#825696\",\"#825e96\",\"#826696\",\"#826e96\",\"#827496\",\"#827c96\",\"#82b096\",\"#845096\",\"#845696\",\"#845e96\",\"#846696\",\"#846e96\",\"#865096\",\"#865696\",\"#865e96\",\"#866696\",\"#885096\",\"#885696\",\"#885e96\",\"#886e96\",\"#8a5096\",\"#8a5696\",\"#8a5e96\",\"#8a6696\",\"#8c5096\",\"#8c5696\",\"#8c5e96\",\"#8c6696\",\"#8e1e96\",\"#8e5096\",\"#8e5696\",\"#8e5e96\",\"#8e6696\",\"#8e6e96\",\"#925696\",\"#925e96\",\"#926696\",\"#927496\",\"#944096\",\"#945096\",\"#945696\",\"#945e96\",\"#946696\",\"#946e96\",\"#947496\",\"#947c96\",\"#948496\",\"#949296\",\"#94c096\",\"#965696\",\"#965e96\",\"#966696\",\"#966e96\",\"#985696\",\"#985e96\",\"#986696\",\"#986e96\",\"#9a5696\",\"#9a5e96\",\"#9a6696\",\"#9a6e96\",\"#9a7c96\",\"#9a8496\",\"#9c1e96\",\"#9c5696\",\"#9c5e96\",\"#9c6696\",\"#9c6e96\",\"#9c8c96\",\"#9e5696\",\"#9e5e96\",\"#9e6696\",\"#9e6e96\",\"#9e7496\",\"#a05696\",\"#a05e96\",\"#a06696\",\"#a06e96\",\"#a07496\",\"#a07c96\",\"#a25696\",\"#a25e96\",\"#a26696\",\"#a26e96\",\"#a27496\",\"#a28c96\",\"#a44096\",\"#a45696\",\"#a45e96\",\"#a46696\",\"#a46e96\",\"#a47496\",\"#a47c96\",\"#a48496\",\"#a48c96\",\"#a65696\",\"#a65e96\",\"#a66696\",\"#a66e96\",\"#a67496\",\"#a81e96\",\"#a85696\",\"#a85e96\",\"#a86696\",\"#a86e96\",\"#a87496\",\"#a87c96\",\"#aa5696\",\"#aa5e96\",\"#aa6696\",\"#aa6e96\",\"#aa7496\",\"#aa7c96\",\"#aa9296\",\"#ac5696\",\"#ac5e96\",\"#ac6696\",\"#ac6e96\",\"#ac7496\",\"#ae5696\",\"#ae5e96\",\"#ae6696\",\"#ae6e96\",\"#ae7496\",\"#ae7c96\",\"#b05696\",\"#b05e96\",\"#b06696\",\"#b06e96\",\"#b07496\",\"#b07c96\",\"#b25696\",\"#b25e96\",\"#b26696\",\"#b26e96\",\"#b27c96\",\"#b45696\",\"#b45e96\",\"#b46696\",\"#b46e96\",\"#b47496\",\"#b47c96\",\"#b48c96\",\"#b64096\",\"#b65696\",\"#b65e96\",\"#b66696\",\"#b66e96\",\"#b67496\",\"#b67c96\",\"#b68496\",\"#b68c96\",\"#b6aa96\",\"#b85e96\",\"#b86696\",\"#b86e96\",\"#b87496\",\"#b87c96\",\"#ba6696\",\"#ba6e96\",\"#ba7496\",\"#ba7c96\",\"#ba8496\",\"#bc5e96\",\"#bc6696\",\"#bc6e96\",\"#bc7496\",\"#bc7c96\",\"#bc9296\",\"#be5e96\",\"#be6696\",\"#be6e96\",\"#be7496\",\"#c05e96\",\"#c06696\",\"#c06e96\",\"#c07496\",\"#c07c96\",\"#c08c96\",\"#c25e96\",\"#c26696\",\"#c26e96\",\"#c27496\",\"#c27c96\",\"#c28496\",\"#c28c96\",\"#c45e96\",\"#c46696\",\"#c46e96\",\"#c47496\",\"#c47c96\",\"#c49296\",\"#c65e96\",\"#c66696\",\"#c66e96\",\"#c67496\",\"#c67c96\",\"#c68496\",\"#c68c96\",\"#c69296\",\"#c69a96\",\"#c85e96\",\"#c86696\",\"#c86e96\",\"#c87496\",\"#c87c96\",\"#c88496\",\"#ca1e96\",\"#ca5e96\",\"#ca6696\",\"#ca6e96\",\"#ca7496\",\"#ca7c96\",\"#ca8496\",\"#ca8c96\",\"#cc5e96\",\"#cc6696\",\"#cc6e96\",\"#cc7496\",\"#cc7c96\",\"#cc8496\",\"#cc8c96\",\"#ce5e96\",\"#ce6696\",\"#ce6e96\",\"#ce7496\",\"#ce7c96\",\"#ce8c96\",\"#d05e96\",\"#d06696\",\"#d06e96\",\"#d07496\",\"#d07c96\",\"#d08496\",\"#d08c96\",\"#d26696\",\"#d26e96\",\"#d27496\",\"#d27c96\",\"#d28496\",\"#d41e96\",\"#d46696\",\"#d46e96\",\"#d47496\",\"#d47c96\",\"#d48496\",\"#d65e96\",\"#d66696\",\"#d66e96\",\"#d67496\",\"#d67c96\",\"#d68496\",\"#d68c96\",\"#d69296\",\"#d69a96\",\"#d86696\",\"#d86e96\",\"#d87496\",\"#d87c96\",\"#d88496\",\"#da6696\",\"#da6e96\",\"#da7496\",\"#da7c96\",\"#da8496\",\"#da8c96\",\"#dc6696\",\"#dc6e96\",\"#dc7496\",\"#dc7c96\",\"#dc8496\",\"#dc8c96\",\"#dc9a96\",\"#de6696\",\"#de6e96\",\"#de7496\",\"#de7c96\",\"#de8496\",\"#e06696\",\"#e06e96\",\"#e07496\",\"#e07c96\",\"#e08496\",\"#e08c96\",\"#e0f496\",\"#e26696\",\"#e26e96\",\"#e27496\",\"#e27c96\",\"#e28496\",\"#e28c96\",\"#e29296\",\"#e29a96\",\"#e46696\",\"#e46e96\",\"#e47496\",\"#e47c96\",\"#e48496\",\"#e48c96\",\"#e66696\",\"#e66e96\",\"#e67496\",\"#e67c96\",\"#e68496\",\"#e69a96\",\"#e84096\",\"#e86696\",\"#e86e96\",\"#e87496\",\"#e87c96\",\"#e88496\",\"#e88c96\",\"#e89296\",\"#e89a96\",\"#e8a296\",\"#e8aa96\",\"#ea6696\",\"#ea6e96\",\"#ea7496\",\"#ea7c96\",\"#ea8496\",\"#ea8c96\",\"#ec6696\",\"#ec6e96\",\"#ec7496\",\"#ec7c96\",\"#ec8496\",\"#ec8c96\",\"#eca296\",\"#ee6696\",\"#ee6e96\",\"#ee7496\",\"#ee7c96\",\"#ee8496\",\"#ee8c96\",\"#ee9296\",\"#ee9a96\",\"#f06696\",\"#f06e96\",\"#f07496\",\"#f07c96\",\"#f08496\",\"#f08c96\",\"#f09296\",\"#f46e96\",\"#f47496\",\"#f47c96\",\"#f48496\",\"#f48c96\",\"#f49a96\",\"#f4a296\",\"#f66e96\",\"#f67496\",\"#f67c96\",\"#f68496\",\"#f68c96\",\"#f69296\",\"#f69a96\",\"#f84096\",\"#f86e96\",\"#f87496\",\"#f87c96\",\"#f88496\",\"#f88c96\",\"#f89296\",\"#f89a96\",\"#f8a296\",\"#f8b096\",\"#fa6e96\",\"#fa7496\",\"#fa7c96\",\"#fa8496\",\"#fa8c96\",\"#fa9296\",\"#fc6e96\",\"#fc7496\",\"#fc7c96\",\"#fc8496\",\"#fc8c96\",\"#fc9296\",\"#fe6e96\",\"#fe7496\",\"#fe7c96\",\"#fe8496\",\"#fe8c96\",\"#fe9296\",\"#fe9a96\",\"#1006e96\",\"#1007496\",\"#1007c96\",\"#1008496\",\"#1008c96\",\"#1009296\",\"#1009a96\",\"#100aa96\",\"#1026e96\",\"#1027496\",\"#1027c96\",\"#1028496\",\"#1028c96\",\"#1029296\",\"#102a296\",\"#1047496\",\"#1047c96\",\"#1048496\",\"#1048c96\",\"#1049296\",\"#1049a96\",\"#1066e96\",\"#1067496\",\"#1067c96\",\"#1068496\",\"#1068c96\",\"#1069296\",\"#106a296\",\"#1087496\",\"#1087c96\",\"#1088496\",\"#1088c96\",\"#10a1e96\",\"#10a6e96\",\"#10a7496\",\"#10a7c96\",\"#10a8496\",\"#10a8c96\",\"#10a9296\",\"#10a9a96\",\"#10aa296\",\"#10aaa96\",\"#10c7496\",\"#10c7c96\",\"#10c8496\",\"#10c8c96\",\"#10c9296\",\"#10c9a96\",\"#10ca296\",\"#10cb096\",\"#10e6e96\",\"#10e7496\",\"#10e7c96\",\"#10e8496\",\"#10e8c96\",\"#10e9296\",\"#10e9a96\",\"#10ea296\",\"#1106e96\",\"#1107496\",\"#1107c96\",\"#1108496\",\"#1108c96\",\"#1109296\",\"#1109a96\",\"#110a296\",\"#110aa96\",\"#1126e96\",\"#1127496\",\"#1127c96\",\"#1128496\",\"#1128c96\",\"#1129296\",\"#1147496\",\"#1147c96\",\"#1148496\",\"#1148c96\",\"#1149296\",\"#1149a96\",\"#1167496\",\"#1167c96\",\"#1168496\",\"#1168c96\",\"#1169296\",\"#1169a96\",\"#116a296\",\"#1187c96\",\"#1188496\",\"#1188c96\",\"#1189296\",\"#1189a96\",\"#118aa96\",\"#11a7496\",\"#11a7c96\",\"#11a8496\",\"#11a8c96\",\"#11a9296\",\"#11a9a96\",\"#11aa296\",\"#11aaa96\",\"#11a30696\",\"#11c7c96\",\"#11c8496\",\"#11c8c96\",\"#11c9296\",\"#11c9a96\",\"#11e7c96\",\"#11e8496\",\"#11e8c96\",\"#11e9296\",\"#11e9a96\",\"#11ea296\",\"#11eaa96\",\"#1207496\",\"#1207c96\",\"#1208496\",\"#1208c96\",\"#1209296\",\"#1209a96\",\"#120a296\",\"#120aa96\",\"#120b096\",\"#120c696\",\"#1227496\",\"#1227c96\",\"#1228496\",\"#1228c96\",\"#1229296\",\"#1229a96\",\"#122a296\",\"#1247496\",\"#1247c96\",\"#1248496\",\"#1248c96\",\"#1249296\",\"#1249a96\",\"#124a296\",\"#1267c96\",\"#1268496\",\"#1268c96\",\"#1269296\",\"#1269a96\",\"#1287496\",\"#1287c96\",\"#1288496\",\"#1288c96\",\"#1289296\",\"#1289a96\",\"#128a296\",\"#128b096\",\"#128b896\",\"#12a7496\",\"#12a7c96\",\"#12a8496\",\"#12a8c96\",\"#12a9296\",\"#12a9a96\",\"#12aa296\",\"#12aaa96\",\"#12ab096\",\"#12ace96\",\"#12c7c96\",\"#12c8496\",\"#12c8c96\",\"#12c9296\",\"#12c9a96\",\"#12e7496\",\"#12e7c96\",\"#12e8496\",\"#12e8c96\",\"#12e9296\",\"#12e9a96\",\"#12eb096\",\"#1307496\",\"#1308496\",\"#1308c96\",\"#1309296\",\"#1309a96\",\"#130a296\",\"#130aa96\",\"#1327496\",\"#1327c96\",\"#1328496\",\"#1328c96\",\"#1329296\",\"#1329a96\",\"#132a296\",\"#132aa96\",\"#1347c96\",\"#1348496\",\"#1348c96\",\"#1349296\",\"#1349a96\",\"#134a296\",\"#134aa96\",\"#134ce96\",\"#1367c96\",\"#1368496\",\"#1368c96\",\"#1369296\",\"#1369a96\",\"#136aa96\",\"#136b096\",\"#1387c96\",\"#1388496\",\"#1388c96\",\"#1389296\",\"#1389a96\",\"#138a296\",\"#138aa96\",\"#138b896\",\"#13a8496\",\"#13a8c96\",\"#13a9296\",\"#13a9a96\",\"#13aa296\",\"#13aaa96\",\"#13ab096\",\"#13ace96\",\"#13c7496\",\"#13c7c96\",\"#13c8496\",\"#13c8c96\",\"#13c9296\",\"#13c9a96\",\"#13ca296\",\"#13caa96\",\"#13cb096\",\"#13cb896\",\"#13cc696\",\"#13e7c96\",\"#13e8496\",\"#13e8c96\",\"#13e9296\",\"#13e9a96\",\"#13eaa96\",\"#13eb096\",\"#13eb896\",\"#13ec096\",\"#1407c96\",\"#1408496\",\"#1408c96\",\"#1409296\",\"#1409a96\",\"#140a296\",\"#140b896\",\"#1428496\",\"#1428c96\",\"#1429296\",\"#1429a96\",\"#142a296\",\"#1447c96\",\"#1448496\",\"#1448c96\",\"#1449296\",\"#1449a96\",\"#144a296\",\"#144aa96\",\"#1468496\",\"#1468c96\",\"#1469296\",\"#1469a96\",\"#146a296\",\"#1487c96\",\"#1488496\",\"#1488c96\",\"#1489296\",\"#1489a96\",\"#148a296\",\"#148aa96\",\"#14a7c96\",\"#14a8496\",\"#14a8c96\",\"#14a9296\",\"#14a9a96\",\"#14aa296\",\"#14aaa96\",\"#14ab096\",\"#14ac696\",\"#14c7c96\",\"#14c8496\",\"#14c8c96\",\"#14c9296\",\"#14c9a96\",\"#14ca296\",\"#14caa96\",\"#14cb096\",\"#14cb896\",\"#14cc096\",\"#14cd696\",\"#14e8496\",\"#14e8c96\",\"#14e9296\",\"#14e9a96\",\"#14ea296\",\"#14ec696\",\"#14e32496\",\"#14e38e96\",\"#1508496\",\"#1508c96\",\"#1509296\",\"#1509a96\",\"#150a296\",\"#150aa96\",\"#150c096\",\"#1528496\",\"#1528c96\",\"#1529296\",\"#1529a96\",\"#152a296\",\"#152aa96\",\"#152c096\",\"#152e496\",\"#1548496\",\"#1548c96\",\"#1549296\",\"#1549a96\",\"#154a296\",\"#154aa96\",\"#154b096\",\"#1568496\",\"#1568c96\",\"#1569296\",\"#1569a96\",\"#156a296\",\"#156aa96\",\"#1588496\",\"#1588c96\",\"#1589296\",\"#1589a96\",\"#158a296\",\"#158aa96\",\"#158c096\",\"#158c696\",\"#15a8496\",\"#15a8c96\",\"#15a9296\",\"#15a9a96\",\"#15aa296\",\"#15aaa96\",\"#15ab096\",\"#15ab896\",\"#15c7c96\",\"#15c8c96\",\"#15c9296\",\"#15c9a96\",\"#15ca296\",\"#15caa96\",\"#15e8496\",\"#15e8c96\",\"#15e9296\",\"#15e9a96\",\"#15ea296\",\"#15eaa96\",\"#15eb096\",\"#15eb896\",\"#15ec096\",\"#15ec696\",\"#15ed696\",\"#15ee496\",\"#1608c96\",\"#1609296\",\"#1609a96\",\"#160a296\",\"#160aa96\",\"#160b096\",\"#160b896\",\"#1628496\",\"#1628c96\",\"#1629296\",\"#1629a96\",\"#162a296\",\"#162aa96\",\"#162b096\",\"#162b896\",\"#1648c96\",\"#1649296\",\"#1649a96\",\"#164a296\",\"#164aa96\",\"#164b096\",\"#164b896\",\"#1669296\",\"#1669a96\",\"#166a296\",\"#166b096\",\"#166b896\",\"#1688c96\",\"#1689296\",\"#1689a96\",\"#168aa96\",\"#168c096\",\"#16a8496\",\"#16a8c96\",\"#16a9296\",\"#16a9a96\",\"#16aa296\",\"#16aaa96\",\"#16ab096\",\"#16ab896\",\"#16ad696\",\"#16c8496\",\"#16c8c96\",\"#16ca296\",\"#16caa96\",\"#16cb096\",\"#16e4096\",\"#16e8496\",\"#16e8c96\",\"#16e9296\",\"#16e9a96\",\"#16ea296\",\"#16eaa96\",\"#16eb096\",\"#16eb896\",\"#16ec096\",\"#16ec696\",\"#16ede96\",\"#16ef496\",\"#1708c96\",\"#1709296\",\"#1709a96\",\"#170a296\",\"#170aa96\",\"#170b096\",\"#1728c96\",\"#1729296\",\"#1729a96\",\"#172a296\",\"#172aa96\",\"#172b096\",\"#1748496\",\"#1748c96\",\"#1749296\",\"#1749a96\",\"#174a296\",\"#174aa96\",\"#174b096\",\"#174b896\",\"#174c096\",\"#1768c96\",\"#1769296\",\"#1769a96\",\"#176a296\",\"#176aa96\",\"#176b096\",\"#176b896\",\"#176ce96\",\"#1789296\",\"#1789a96\",\"#178a296\",\"#178aa96\",\"#178b096\",\"#178c096\",\"#178c696\",\"#17a8c96\",\"#17a9a96\",\"#17aa296\",\"#17aaa96\",\"#17ab096\",\"#17ac696\",\"#17c9a96\",\"#17ca296\",\"#17caa96\",\"#17cb096\",\"#17e8c96\",\"#17e9296\",\"#17e9a96\",\"#17ea296\",\"#17eaa96\",\"#17eb096\",\"#17eb896\",\"#17ec096\",\"#17ec696\",\"#17ede96\",\"#17ee496\",\"#1828c96\",\"#1829296\",\"#1829a96\",\"#182a296\",\"#182aa96\",\"#182b096\",\"#182b896\",\"#182c096\",\"#182c696\",\"#1868c96\",\"#1869296\",\"#1869a96\",\"#186a296\",\"#186aa96\",\"#186b096\",\"#186b896\",\"#18a9296\",\"#18a9a96\",\"#18aa296\",\"#18aaa96\",\"#18ab096\",\"#18ab896\",\"#18ac096\",\"#18c8c96\",\"#18c9296\",\"#18c9a96\",\"#18ca296\",\"#18caa96\",\"#18cb096\",\"#18cb896\",\"#18cc696\",\"#18cde96\",\"#18ea296\",\"#18eaa96\",\"#18eb096\",\"#18eb896\",\"#18ec096\",\"#1908c96\",\"#1909296\",\"#1909a96\",\"#190a296\",\"#190aa96\",\"#190b096\",\"#190b896\",\"#190c096\",\"#190c696\",\"#190ce96\",\"#190d696\",\"#1929a96\",\"#192a296\",\"#192aa96\",\"#192b096\",\"#192b896\",\"#192ce96\",\"#1949296\",\"#1949a96\",\"#194a296\",\"#194aa96\",\"#194b096\",\"#194b896\",\"#194c696\",\"#1969296\",\"#1969a96\",\"#196a296\",\"#196aa96\",\"#196b096\",\"#196c096\",\"#196c696\",\"#196ce96\",\"#1989a96\",\"#198a296\",\"#198aa96\",\"#198b096\",\"#198b896\",\"#198c096\",\"#198c696\",\"#19a9296\",\"#19a9a96\",\"#19aa296\",\"#19aaa96\",\"#19ab096\",\"#19c9296\",\"#19c9a96\",\"#19ca296\",\"#19caa96\",\"#19cb096\",\"#19cc096\",\"#19e9296\",\"#19e9a96\",\"#19ea296\",\"#19eaa96\",\"#19eb096\",\"#19eb896\",\"#19ec096\",\"#1a09296\",\"#1a09a96\",\"#1a0a296\",\"#1a0aa96\",\"#1a0b096\",\"#1a0b896\",\"#1a0c096\",\"#1a0c696\",\"#1a0ce96\",\"#1a0d696\",\"#1a0f496\",\"#1a29a96\",\"#1a2a296\",\"#1a2aa96\",\"#1a2c096\",\"#1a2c696\",\"#1a2ce96\",\"#1a49296\",\"#1a4a296\",\"#1a4aa96\",\"#1a4b096\",\"#1a4b896\",\"#1a4c096\",\"#1a4ce96\",\"#1a4d696\",\"#1a4e496\",\"#1a69a96\",\"#1a6a296\",\"#1a6aa96\",\"#1a6b096\",\"#1a6b896\",\"#1a6c096\",\"#1a6c696\",\"#1a6ce96\",\"#1a6ec96\",\"#1a89296\",\"#1a89a96\",\"#1a8a296\",\"#1a8aa96\",\"#1a8b096\",\"#1a8b896\",\"#1a8c096\",\"#1a8c696\",\"#1a8de96\",\"#1ac9a96\",\"#1aca296\",\"#1acaa96\",\"#1acb096\",\"#1acb896\",\"#1acc096\",\"#1acc696\",\"#1b09296\",\"#1b09a96\",\"#1b0a296\",\"#1b0aa96\",\"#1b0b096\",\"#1b0b896\",\"#1b0c096\",\"#1b0c696\",\"#1b0ce96\",\"#1b0d696\",\"#1b0de96\",\"#1b0e496\",\"#1b0f496\",\"#1b0fc96\",\"#1b29a96\",\"#1b2a296\",\"#1b2aa96\",\"#1b2b096\",\"#1b2b896\",\"#1b2c096\",\"#1b69a96\",\"#1b6aa96\",\"#1b6b096\",\"#1b6b896\",\"#1b6c096\",\"#1b6ce96\",\"#1b6d696\",\"#1b8aa96\",\"#1b8b896\",\"#1b8c096\",\"#1b8d696\",\"#1baa296\",\"#1baaa96\",\"#1bab096\",\"#1bac696\",\"#1bace96\",\"#1bc9296\",\"#1bc9a96\",\"#1bca296\",\"#1bcaa96\",\"#1bcb096\",\"#1bcb896\",\"#1bcc096\",\"#1be9296\",\"#1be9a96\",\"#1bea296\",\"#1beaa96\",\"#1beb096\",\"#1beb896\",\"#1bec096\",\"#1bec696\",\"#1bee496\",\"#1c0a296\",\"#1c0aa96\",\"#1c0b096\",\"#1c0b896\",\"#1c0c096\",\"#1c0de96\",\"#1c29a96\",\"#1c2a296\",\"#1c2aa96\",\"#1c2b096\",\"#1c2b896\",\"#1c2c096\",\"#1c2c696\",\"#1c2ce96\",\"#1c2d696\",\"#1c2de96\",\"#1c2e496\",\"#1c2fc96\",\"#1c49a96\",\"#1c4aa96\",\"#1c4b096\",\"#1c4b896\",\"#1c4c696\",\"#1c4e496\",\"#1c6a296\",\"#1c6aa96\",\"#1c6b096\",\"#1c6b896\",\"#1c6c096\",\"#1c6c696\",\"#1c6ce96\",\"#1c8a296\",\"#1c8aa96\",\"#1c8b096\",\"#1c8b896\",\"#1c8c096\",\"#1c8c696\",\"#1c8ce96\",\"#1caa296\",\"#1caaa96\",\"#1cab096\",\"#1cab896\",\"#1cac096\",\"#1cac696\",\"#1cace96\",\"#1cad696\",\"#1cc9a96\",\"#1ccaa96\",\"#1ccb096\",\"#1ccb896\",\"#1ccc096\",\"#1ccc696\",\"#1ccd696\",\"#1ccde96\",\"#1ce9a96\",\"#1ceaa96\",\"#1ceb096\",\"#1ceb896\",\"#1cec096\",\"#1cece96\",\"#1cede96\",\"#1d0a296\",\"#1d0aa96\",\"#1d0b096\",\"#1d0b896\",\"#1d0c096\",\"#1d0c696\",\"#1d0ce96\",\"#1d0d696\",\"#1d0e496\",\"#1d29a96\",\"#1d2a296\",\"#1d2aa96\",\"#1d2b096\",\"#1d2b896\",\"#1d2c096\",\"#1d2c696\",\"#1d2ce96\",\"#1d2d696\",\"#1d2de96\",\"#1d2e496\",\"#1d2ec96\",\"#1d6aa96\",\"#1d6b096\",\"#1d6b896\",\"#1d6c096\",\"#1d6c696\",\"#1d6ce96\",\"#1d6e496\",\"#1da9a96\",\"#1daa296\",\"#1daaa96\",\"#1dab096\",\"#1dab896\",\"#1dac096\",\"#1dac696\",\"#1dace96\",\"#1dcaa96\",\"#1dcb096\",\"#1dcb896\",\"#1dcc096\",\"#1dcc696\",\"#1dcce96\",\"#1dcd696\",\"#1dcde96\",\"#1deaa96\",\"#1deb096\",\"#1deb896\",\"#1dec096\",\"#1dec696\",\"#1ded696\",\"#1dede96\",\"#1e0aa96\",\"#1e0b096\",\"#1e0b896\",\"#1e0c096\",\"#1e0c696\",\"#1e2b096\",\"#1e2b896\",\"#1e2c096\",\"#1e2c696\",\"#1e2ce96\",\"#1e2d696\",\"#1e2de96\",\"#1e4a296\",\"#1e4aa96\",\"#1e4b096\",\"#1e4b896\",\"#1e4c096\",\"#1e4c696\",\"#1e4ce96\",\"#1e4d696\",\"#1e4de96\",\"#1e4e496\",\"#1e4ec96\",\"#1e411a96\",\"#1e412096\",\"#1e6b096\",\"#1e6b896\",\"#1e6c096\",\"#1e6c696\",\"#1e6ce96\",\"#1e6d696\",\"#1e8a296\",\"#1e8aa96\",\"#1e8b096\",\"#1e8b896\",\"#1e8c096\",\"#1e8c696\",\"#1e8ce96\",\"#1e8d696\",\"#1e8de96\",\"#1e8ec96\",\"#1eaa296\",\"#1eaaa96\",\"#1eab096\",\"#1eab896\",\"#1eac096\",\"#1eace96\",\"#1ead696\",\"#1ecb896\",\"#1ecc096\",\"#1ecc696\",\"#1ecce96\",\"#1ecd696\",\"#1eea296\",\"#1eeb096\",\"#1eeb896\",\"#1eec096\",\"#1eec696\",\"#1eece96\",\"#1eed696\",\"#1f0b896\",\"#1f0c096\",\"#1f0c696\",\"#1f0ce96\",\"#1f2a296\",\"#1f2aa96\",\"#1f2b096\",\"#1f2b896\",\"#1f2c096\",\"#1f2c696\",\"#1f2ce96\",\"#1f2d696\",\"#1f2fc96\",\"#1f4a296\",\"#1f4aa96\",\"#1f4b096\",\"#1f4b896\",\"#1f4c096\",\"#1f4c696\",\"#1f4ce96\",\"#1f4d696\",\"#1f4de96\",\"#1f4e496\",\"#1f4f496\",\"#1f4fc96\",\"#1f6b096\",\"#1f6b896\",\"#1f6c096\",\"#1f6c696\",\"#1f6ce96\",\"#1f6de96\",\"#1f8b096\",\"#1f8b896\",\"#1f8c096\",\"#1f8c696\",\"#1f8d696\",\"#1f8de96\",\"#1fab096\",\"#1fab896\",\"#1fac096\",\"#1fac696\",\"#1fade96\",\"#1fcb096\",\"#1fcb896\",\"#1fcc096\",\"#1fcc696\",\"#1fcce96\",\"#1fcd696\",\"#1fce496\",\"#1fc32496\",\"#1feb896\",\"#1fec096\",\"#1fece96\",\"#1fed696\",\"#1fede96\",\"#1fef496\",\"#200aa96\",\"#200b096\",\"#200b896\",\"#200c096\",\"#200c696\",\"#200d696\",\"#200e496\",\"#200ec96\",\"#20010a96\",\"#202b096\",\"#202b896\",\"#202c096\",\"#202c696\",\"#202d696\",\"#202de96\",\"#204b896\",\"#204c096\",\"#204c696\",\"#204ce96\",\"#204d696\",\"#2064096\",\"#206aa96\",\"#206b096\",\"#206b896\",\"#206c096\",\"#206c696\",\"#206ce96\",\"#206d696\",\"#206de96\",\"#206e496\",\"#206ec96\",\"#206f496\",\"#20610296\",\"#20612896\",\"#208b096\",\"#208b896\",\"#208c096\",\"#208c696\",\"#208ce96\",\"#208d696\",\"#208de96\",\"#208fc96\",\"#20aaa96\",\"#20ab096\",\"#20ac096\",\"#20ac696\",\"#20ace96\",\"#20ad696\",\"#20ade96\",\"#20cc096\",\"#20cc696\",\"#20cde96\",\"#20cec96\",\"#20eb096\",\"#20ec096\",\"#20ec696\",\"#20ece96\",\"#20ede96\",\"#210b096\",\"#210b896\",\"#210c096\",\"#210ce96\",\"#210d696\",\"#212b096\",\"#212b896\",\"#212c096\",\"#212c696\",\"#212ce96\",\"#212d696\",\"#212de96\",\"#212e496\",\"#212ec96\",\"#214b096\",\"#214b896\",\"#214c096\",\"#214c696\",\"#214ce96\",\"#214e496\",\"#216b096\",\"#216b896\",\"#216c096\",\"#216c696\",\"#216ce96\",\"#216d696\",\"#216de96\",\"#216e496\",\"#216ec96\",\"#216f496\",\"#216fc96\",\"#21610296\",\"#218b896\",\"#218c096\",\"#218c696\",\"#218ce96\",\"#218d696\",\"#218e496\",\"#21ab896\",\"#21ac096\",\"#21ac696\",\"#21ace96\",\"#21ad696\",\"#21a13096\",\"#21caa96\",\"#21cb096\",\"#21cc096\",\"#21cc696\",\"#21cce96\",\"#21cd696\",\"#21cde96\",\"#21cf496\",\"#21c11296\",\"#21eb096\",\"#21ec096\",\"#21ec696\",\"#21ece96\",\"#21eec96\",\"#21e11296\",\"#220aa96\",\"#220b096\",\"#220b896\",\"#220c096\",\"#220c696\",\"#220ce96\",\"#222c696\",\"#222ce96\",\"#222d696\",\"#222f496\",\"#224c696\",\"#224ce96\",\"#224d696\",\"#224de96\",\"#226b096\",\"#226b896\",\"#226c096\",\"#226c696\",\"#226ce96\",\"#226d696\",\"#226de96\",\"#226e496\",\"#226ec96\",\"#226f496\",\"#22610296\",\"#228c096\",\"#228c696\",\"#228ce96\",\"#228de96\",\"#22ab096\",\"#22ac096\",\"#22ac696\",\"#22ace96\",\"#22ad696\",\"#22ae496\",\"#22cc096\",\"#22cc696\",\"#22cce96\",\"#22cd696\",\"#22cde96\",\"#22ce496\",\"#22cec96\",\"#22ec696\",\"#22ed696\",\"#22ede96\",\"#22ef496\",\"#230c096\",\"#230c696\",\"#230ce96\",\"#230d696\",\"#230de96\",\"#230e496\",\"#232b096\",\"#232c096\",\"#232c696\",\"#232ce96\",\"#232d696\",\"#232de96\",\"#234b896\",\"#234c696\",\"#234ce96\",\"#234d696\",\"#234e496\",\"#23410a96\",\"#23411296\",\"#23416c96\",\"#236b896\",\"#236c696\",\"#236ce96\",\"#236d696\",\"#236de96\",\"#236e496\",\"#236ec96\",\"#238b896\",\"#238c096\",\"#238c696\",\"#238ce96\",\"#238d696\",\"#238de96\",\"#238e496\",\"#238ec96\",\"#238f496\",\"#23810296\",\"#23810a96\",\"#23812896\",\"#23813e96\",\"#2382f896\",\"#23ab896\",\"#23ac096\",\"#23ac696\",\"#23ace96\",\"#23ad696\",\"#23cc096\",\"#23cc696\",\"#23cce96\",\"#23cd696\",\"#23cde96\",\"#23ce496\",\"#23cec96\",\"#23eb096\",\"#23eb896\",\"#23ec096\",\"#23ec696\",\"#23ed696\",\"#23ee496\",\"#23eec96\",\"#240c096\",\"#240c696\",\"#240ce96\",\"#240d696\",\"#240de96\",\"#240ec96\",\"#24010296\",\"#24010a96\",\"#242c696\",\"#242ce96\",\"#242d696\",\"#24232496\",\"#244b896\",\"#244c696\",\"#244ce96\",\"#244d696\",\"#244de96\",\"#244e496\",\"#244ec96\",\"#244f496\",\"#246c696\",\"#246ce96\",\"#246d696\",\"#246de96\",\"#246e496\",\"#246ec96\",\"#248b896\",\"#248c096\",\"#248c696\",\"#248ce96\",\"#248d696\",\"#248de96\",\"#248e496\",\"#248ec96\",\"#248f496\",\"#248fc96\",\"#24810296\",\"#24810a96\",\"#24811296\",\"#24811a96\",\"#24844896\",\"#24ace96\",\"#24ade96\",\"#24ae496\",\"#24cce96\",\"#24cd696\",\"#24cde96\",\"#24ce496\",\"#24eb896\",\"#24ec096\",\"#24ed696\",\"#24ede96\",\"#24ee496\",\"#24eec96\",\"#24ef496\",\"#250b896\",\"#250c696\",\"#250ce96\",\"#250d696\",\"#250e496\",\"#250ec96\",\"#25010a96\",\"#252c696\",\"#252ce96\",\"#252d696\",\"#252de96\",\"#252e496\",\"#252ec96\",\"#252fc96\",\"#254c096\",\"#254ce96\",\"#254d696\",\"#254de96\",\"#254ec96\",\"#254f496\",\"#254fc96\",\"#256d696\",\"#256de96\",\"#256ec96\",\"#256fc96\",\"#258b896\",\"#258c696\",\"#258ce96\",\"#258d696\",\"#258de96\",\"#258e496\",\"#258ec96\",\"#258f496\",\"#25ab896\",\"#25ac096\",\"#25ac696\",\"#25ace96\",\"#25ad696\",\"#25ade96\",\"#25ae496\",\"#25aec96\",\"#25af496\",\"#25afc96\",\"#25a10296\",\"#25a10a96\",\"#25a12896\",\"#25cc096\",\"#25cc696\",\"#25cce96\",\"#25cde96\",\"#25ce496\",\"#25cfc96\",\"#25c12096\",\"#25ec096\",\"#25ece96\",\"#25ed696\",\"#25ede96\",\"#25ee496\",\"#25eec96\",\"#25e11296\",\"#260c696\",\"#260d696\",\"#260e496\",\"#260ec96\",\"#26010296\",\"#26011296\",\"#26011a96\",\"#262c696\",\"#262de96\",\"#262f496\",\"#26210296\",\"#26211a96\",\"#264d696\",\"#264de96\",\"#264e496\",\"#264ec96\",\"#264f496\",\"#266c696\",\"#266ce96\",\"#266d696\",\"#266de96\",\"#266e496\",\"#266ec96\",\"#266f496\",\"#266fc96\",\"#26610296\",\"#268ce96\",\"#268d696\",\"#268de96\",\"#268e496\",\"#26ac096\",\"#26ac696\",\"#26ace96\",\"#26ad696\",\"#26ade96\",\"#26ae496\",\"#26aec96\",\"#26af496\",\"#26afc96\",\"#26a10296\",\"#26a10a96\",\"#26a11296\",\"#26a11a96\",\"#26a39c96\",\"#26cc096\",\"#26cc696\",\"#26cce96\",\"#26cd696\",\"#26cde96\",\"#26ce496\",\"#26cec96\",\"#26cf496\",\"#26c10296\",\"#26c39c96\",\"#26ec096\",\"#26ee496\",\"#26ef496\",\"#26e10296\",\"#270c696\",\"#270ce96\",\"#270d696\",\"#270e496\",\"#270ec96\",\"#27010296\",\"#27010a96\",\"#2721e96\",\"#272c696\",\"#272ce96\",\"#272e496\",\"#272ec96\",\"#272f496\",\"#27211296\",\"#274d696\",\"#274e496\",\"#274ec96\",\"#274f496\",\"#274fc96\",\"#276de96\",\"#276e496\",\"#276ec96\",\"#276f496\",\"#276fc96\",\"#278d696\",\"#278e496\",\"#278fc96\",\"#27ac096\",\"#27ace96\",\"#27ad696\",\"#27ade96\",\"#27ae496\",\"#27aec96\",\"#27af496\",\"#27afc96\",\"#27a10a96\",\"#27a11a96\",\"#27a12896\",\"#27a16c96\",\"#27a27296\",\"#27cce96\",\"#27cde96\",\"#27ce496\",\"#27c10296\",\"#27ece96\",\"#27ed696\",\"#27ede96\",\"#27ee496\",\"#27eec96\",\"#27efc96\",\"#280c096\",\"#280de96\",\"#280e496\",\"#280f496\",\"#280fc96\",\"#28010a96\",\"#28011296\",\"#28011a96\",\"#282ce96\",\"#282d696\",\"#282de96\",\"#282e496\",\"#282ec96\",\"#282f496\",\"#282fc96\",\"#284d696\",\"#284de96\",\"#284e496\",\"#284ec96\",\"#284f496\",\"#28410296\",\"#28410a96\",\"#28414e96\",\"#28443296\",\"#286d696\",\"#286e496\",\"#286ec96\",\"#286f496\",\"#286fc96\",\"#288d696\",\"#28ae496\",\"#28aec96\",\"#28af496\",\"#28a10a96\",\"#28cc696\",\"#28cce96\",\"#28cd696\",\"#28cde96\",\"#28ce496\",\"#28cec96\",\"#28cf496\",\"#28cfc96\",\"#28c10296\",\"#28c10a96\",\"#28c11296\",\"#28c11a96\",\"#28c30696\",\"#28ede96\",\"#28ee496\",\"#28eec96\",\"#28ef496\",\"#290ce96\",\"#290e496\",\"#290f496\",\"#29010296\",\"#292d696\",\"#292e496\",\"#292ec96\",\"#292f496\",\"#29211296\",\"#294c696\",\"#294d696\",\"#294ec96\",\"#294f496\",\"#294fc96\",\"#29410a96\",\"#29415c96\",\"#29430696\",\"#296d696\",\"#296f496\",\"#29610a96\",\"#29611296\",\"#298ce96\",\"#298e496\",\"#298ec96\",\"#298f496\",\"#29ad696\",\"#29ade96\",\"#29aec96\",\"#29af496\",\"#29afc96\",\"#29a10296\",\"#29a10a96\",\"#29a11296\",\"#29a11a96\",\"#29cd696\",\"#29cde96\",\"#29ce496\",\"#29cec96\",\"#29cf496\",\"#29cfc96\",\"#29c10a96\",\"#29c11296\",\"#29c11a96\",\"#29c13896\",\"#29c39c96\",\"#29ede96\",\"#29ee496\",\"#29eec96\",\"#29ef496\",\"#29e10296\",\"#29e10a96\",\"#29e11296\",\"#2a0e496\",\"#2a0ec96\",\"#2a0fc96\",\"#2a010296\",\"#2a010a96\",\"#2a011296\",\"#2a01d496\",\"#2a2ce96\",\"#2a2d696\",\"#2a2e496\",\"#2a2ec96\",\"#2a2fc96\",\"#2a4de96\",\"#2a4e496\",\"#2a4f496\",\"#2a4fc96\",\"#2a410296\",\"#2a411296\",\"#2a6de96\",\"#2a6e496\",\"#2a6ec96\",\"#2a6f496\",\"#2a6fc96\",\"#2a8de96\",\"#2a8e496\",\"#2a8ec96\",\"#2a8f496\",\"#2a810296\",\"#2a811a96\",\"#2a812096\",\"#2aace96\",\"#2aad696\",\"#2aade96\",\"#2aae496\",\"#2aaec96\",\"#2aafc96\",\"#2aa10a96\",\"#2aa12096\",\"#2aa13e96\",\"#2acde96\",\"#2ace496\",\"#2acfc96\",\"#2ac10296\",\"#2aed696\",\"#2aede96\",\"#2aee496\",\"#2aeec96\",\"#2aef496\",\"#2aefc96\",\"#2ae10296\",\"#2ae10a96\",\"#2ae11296\",\"#2ae11a96\",\"#2ae12096\",\"#2b0ce96\",\"#2b0d696\",\"#2b0de96\",\"#2b0ec96\",\"#2b0f496\",\"#2b0fc96\",\"#2b010296\",\"#2b010a96\",\"#2b2ec96\",\"#2b4d696\",\"#2b4de96\",\"#2b4e496\",\"#2b410a96\",\"#2b6d696\",\"#2b6de96\",\"#2b6f496\",\"#2b6fc96\",\"#2b610296\",\"#2b611296\",\"#2b8f496\",\"#2b8fc96\",\"#2b811296\",\"#2b811a96\",\"#2bade96\",\"#2bae496\",\"#2baec96\",\"#2baf496\",\"#2bafc96\",\"#2ba11296\",\"#2ba11a96\",\"#2ba12096\",\"#2bcce96\",\"#2bcd696\",\"#2bce496\",\"#2bcec96\",\"#2bcfc96\",\"#2bc10296\",\"#2bed696\",\"#2bede96\",\"#2bee496\",\"#2beec96\",\"#2bef496\",\"#2befc96\",\"#2be10296\",\"#2be10a96\",\"#2be11296\",\"#2be11a96\",\"#2be12096\",\"#2be14e96\",\"#2be2e896\",\"#2c0fc96\",\"#2c010296\",\"#2c010a96\",\"#2c2ec96\",\"#2c210296\",\"#2c4d696\",\"#2c4de96\",\"#2c4e496\",\"#2c4ec96\",\"#2c4f496\",\"#2c4fc96\",\"#2c410296\",\"#2c411296\",\"#2c412096\",\"#2c6d696\",\"#2c6f496\",\"#2c610a96\",\"#2c611a96\",\"#2c8e496\",\"#2c8f496\",\"#2c8fc96\",\"#2c810296\",\"#2c811296\",\"#2cade96\",\"#2cae496\",\"#2caec96\",\"#2ca10296\",\"#2ca10a96\",\"#2ca11296\",\"#2ca12096\",\"#2ccec96\",\"#2ccf496\",\"#2cc10296\",\"#2cc13896\",\"#2cede96\",\"#2cee496\",\"#2ceec96\",\"#2cef496\",\"#2cefc96\",\"#2ce10296\",\"#2ce10a96\",\"#2ce11296\",\"#2ce11a96\",\"#2ce12096\",\"#2ce12896\",\"#2ce13096\",\"#2ce16c96\",\"#2ce39c96\",\"#2d0ec96\",\"#2d0f496\",\"#2d0fc96\",\"#2d010296\",\"#2d010a96\",\"#2d012096\",\"#2d013e96\",\"#2d4fc96\",\"#2d410296\",\"#2d411296\",\"#2d413096\",\"#2d6f496\",\"#2d6fc96\",\"#2d610a96\",\"#2d611296\",\"#2d8e496\",\"#2d8ec96\",\"#2d8f496\",\"#2d8fc96\",\"#2d810296\",\"#2d810a96\",\"#2d811296\",\"#2d812896\",\"#2dad696\",\"#2daec96\",\"#2daf496\",\"#2dafc96\",\"#2da11296\",\"#2da11a96\",\"#2da13096\",\"#2dcf496\",\"#2dcfc96\",\"#2dc10296\",\"#2dc10a96\",\"#2dede96\",\"#2dee496\",\"#2deec96\",\"#2def496\",\"#2defc96\",\"#2de10296\",\"#2de10a96\",\"#2de11296\",\"#2de11a96\",\"#2de14696\",\"#2de30696\",\"#2e2f496\",\"#2e210a96\",\"#2e211296\",\"#2e4de96\",\"#2e4e496\",\"#2e4f496\",\"#2e4fc96\",\"#2e410296\",\"#2e411a96\",\"#2e413896\",\"#2e414e96\",\"#2e8de96\",\"#2e8ec96\",\"#2e810296\",\"#2e810a96\",\"#2e811296\",\"#2e812896\",\"#2eae496\",\"#2eaec96\",\"#2eaf496\",\"#2eafc96\",\"#2ea10296\",\"#2ea10a96\",\"#2ecde96\",\"#2ecf496\",\"#2ecfc96\",\"#2ec11a96\",\"#2eed696\",\"#2eefc96\",\"#2ee10296\",\"#2ee10a96\",\"#2ee11296\",\"#2ee11a96\",\"#2ee12096\",\"#2ee14696\",\"#2f0de96\",\"#2f0e496\",\"#2f0ec96\",\"#2f0f496\",\"#2f0fc96\",\"#2f010296\",\"#2f010a96\",\"#2f011296\",\"#2f011a96\",\"#2f012096\",\"#2f012896\",\"#2f013096\",\"#2f013e96\",\"#2f2e496\",\"#2f2ec96\",\"#2f210296\",\"#2f211a96\",\"#2f4f496\",\"#2f4fc96\",\"#2f410296\",\"#2f410a96\",\"#2f411296\",\"#2f6ec96\",\"#2f6f496\",\"#2f612096\",\"#2f8f496\",\"#2f8fc96\",\"#2f810296\",\"#2f811296\",\"#2f812096\",\"#2faec96\",\"#2fafc96\",\"#2fa10a96\",\"#2fa11296\",\"#2fa11a96\",\"#2fa12096\",\"#2fa12896\",\"#2fa13096\",\"#2fa13e96\",\"#2fefc96\",\"#2fe10296\",\"#2fe10a96\",\"#300e496\",\"#300fc96\",\"#30011296\",\"#30011a96\",\"#30012096\",\"#30014696\",\"#302ec96\",\"#302f496\",\"#302fc96\",\"#30210296\",\"#30210a96\",\"#30211296\",\"#30211a96\",\"#30212096\",\"#30212896\",\"#30213896\",\"#30217296\",\"#30222696\",\"#30227296\",\"#304f496\",\"#304fc96\",\"#30411a96\",\"#30412096\",\"#30414696\",\"#30610296\",\"#30611296\",\"#30612096\",\"#308ec96\",\"#308f496\",\"#308fc96\",\"#30810296\",\"#30810a96\",\"#30811296\",\"#30812096\",\"#30812896\",\"#30830696\",\"#30cf496\",\"#30c10296\",\"#30c10a96\",\"#30c11296\",\"#30c11a96\",\"#30c12096\",\"#30ef496\",\"#30e10296\",\"#30e11296\",\"#30e11a96\",\"#30e13e96\",\"#312ec96\",\"#312f496\",\"#312fc96\",\"#31210296\",\"#31210a96\",\"#31211296\",\"#31211a96\",\"#31212096\",\"#31212896\",\"#31213096\",\"#31213896\",\"#31214e96\",\"#3122bc96\",\"#314f496\",\"#31411296\",\"#31411a96\",\"#31412096\",\"#31413896\",\"#3141a896\",\"#316f496\",\"#316fc96\",\"#31610296\",\"#31610a96\",\"#31611a96\",\"#318ec96\",\"#318f496\",\"#318fc96\",\"#31810296\",\"#31810a96\",\"#31811296\",\"#31811a96\",\"#31815696\",\"#31a10296\",\"#31a10a96\",\"#31a11296\",\"#31cf496\",\"#31cfc96\",\"#31c10296\",\"#31c10a96\",\"#31c11a96\",\"#31e10296\",\"#31e10a96\",\"#31e11296\",\"#31e12096\",\"#31e13096\",\"#320fc96\",\"#32011296\",\"#32011a96\",\"#322f496\",\"#322fc96\",\"#32210296\",\"#32210a96\",\"#32211296\",\"#32211a96\",\"#32212096\",\"#32212896\",\"#32213096\",\"#32213896\",\"#32213e96\",\"#32214e96\",\"#32215c96\",\"#3222bc96\",\"#324f496\",\"#32410296\",\"#32410a96\",\"#32411296\",\"#32411a96\",\"#328fc96\",\"#32810296\",\"#32810a96\",\"#32812096\",\"#32aec96\",\"#32a11296\",\"#32a11a96\",\"#32a13896\",\"#32c10296\",\"#32c10a96\",\"#32c11296\",\"#32c11a96\",\"#32c12896\",\"#32ef496\",\"#32efc96\",\"#32e10296\",\"#32e11296\",\"#32e12096\",\"#32e12896\",\"#33010a96\",\"#33011296\",\"#33012096\",\"#332f496\",\"#332fc96\",\"#33210296\",\"#33210a96\",\"#33211296\",\"#33211a96\",\"#33212096\",\"#33212896\",\"#33213096\",\"#33213896\",\"#33213e96\",\"#33214696\",\"#33214e96\",\"#33215c96\",\"#33610a96\",\"#33611a96\",\"#33612096\",\"#33613896\",\"#338f496\",\"#33810296\",\"#33810a96\",\"#33811a96\",\"#33812096\",\"#33812896\",\"#33813096\",\"#33815696\",\"#33c12096\",\"#33ef496\",\"#33e10296\",\"#33e10a96\",\"#33e11296\",\"#33e13096\",\"#33e13896\",\"#34010a96\",\"#34011296\",\"#34012896\",\"#34013e96\",\"#342f496\",\"#34210296\",\"#34211296\",\"#34211a96\",\"#34212096\",\"#34212896\",\"#34213896\",\"#34227296\",\"#344fc96\",\"#34410296\",\"#34410a96\",\"#34411296\",\"#34411a96\",\"#34412096\",\"#34412896\",\"#34413096\",\"#34413e96\",\"#34415696\",\"#34439c96\",\"#34610296\",\"#34610a96\",\"#34613096\",\"#34613e96\",\"#348fc96\",\"#34810a96\",\"#34811296\",\"#34812096\",\"#34815696\",\"#34af496\",\"#34a10296\",\"#34a11296\",\"#34a11a96\",\"#34a12096\",\"#34a13096\",\"#34cfc96\",\"#34c10a96\",\"#34c11296\",\"#34c11a96\",\"#34c12096\",\"#34c12896\",\"#34c13896\",\"#34c13e96\",\"#34c32496\",\"#34efc96\",\"#34e10a96\",\"#34e11296\",\"#34e12096\",\"#34e12896\",\"#34e13096\",\"#34e13e96\",\"#34e15696\",\"#35210a96\",\"#35213096\",\"#35216496\",\"#35410296\",\"#35410a96\",\"#35417a96\",\"#356f496\",\"#356fc96\",\"#35610296\",\"#35610a96\",\"#35611296\",\"#35611a96\",\"#35612096\",\"#35612896\",\"#35613096\",\"#35613896\",\"#35613e96\",\"#35614696\",\"#35615696\",\"#35615c96\",\"#35616496\",\"#35810296\",\"#35811a96\",\"#35812896\",\"#35813896\",\"#35817a96\",\"#35a12096\",\"#35a15c96\",\"#35c11296\",\"#35c12096\",\"#35c12896\",\"#35c13096\",\"#35c13e96\",\"#35c14e96\",\"#36010296\",\"#36011296\",\"#36011a96\",\"#36012096\",\"#36012896\",\"#36013096\",\"#36013e96\",\"#36017296\",\"#36211296\",\"#36211a96\",\"#36212096\",\"#36212896\",\"#36213096\",\"#366fc96\",\"#36610296\",\"#36611296\",\"#36611a96\",\"#36612096\",\"#36612896\",\"#36613096\",\"#36613896\",\"#36613e96\",\"#36614696\",\"#36614e96\",\"#36615c96\",\"#36616496\",\"#36616c96\",\"#36810a96\",\"#36811296\",\"#36812896\",\"#36813096\",\"#36813896\",\"#36815c96\",\"#36a11296\",\"#36a12096\",\"#36a12896\",\"#36a13e96\",\"#36cfc96\",\"#36c11296\",\"#36c11a96\",\"#36c12096\",\"#36c12896\",\"#36c13096\",\"#36c13896\",\"#36c13e96\",\"#36c14e96\",\"#36e11a96\",\"#36e14e96\",\"#37011a96\",\"#37012096\",\"#37013096\",\"#37014696\",\"#37017a96\",\"#372fc96\",\"#37211296\",\"#37211a96\",\"#37212096\",\"#37212896\",\"#37213096\",\"#37214e96\",\"#37411296\",\"#37413096\",\"#37413896\",\"#37417296\",\"#376fc96\",\"#37610296\",\"#37610a96\",\"#37611296\",\"#37611a96\",\"#37612096\",\"#37612896\",\"#37613096\",\"#37613896\",\"#37613e96\",\"#37614696\",\"#37614e96\",\"#37616496\",\"#37619096\",\"#37811296\",\"#37812096\",\"#37812896\",\"#37813096\",\"#37813896\",\"#37814e96\",\"#37c11a96\",\"#37c12096\",\"#37c13096\",\"#37c13896\",\"#37c14696\",\"#37e12096\",\"#37e13096\",\"#37e14696\",\"#38010296\",\"#38010a96\",\"#38011a96\",\"#38012896\",\"#38013096\",\"#38013896\",\"#38013e96\",\"#38014e96\",\"#38211296\",\"#38211a96\",\"#38212096\",\"#38214e96\",\"#3821b696\",\"#38412096\",\"#38610296\",\"#38610a96\",\"#38611296\",\"#38611a96\",\"#38612096\",\"#38612896\",\"#38613096\",\"#38613896\",\"#38613e96\",\"#38614e96\",\"#38615696\",\"#38a12096\",\"#38a13096\",\"#38a13e96\",\"#38a14e96\",\"#38c14696\",\"#38e10296\",\"#38e10a96\",\"#38e11a96\",\"#38e15696\",\"#38e16496\",\"#38e19896\",\"#39012896\",\"#39013096\",\"#39212896\",\"#39213096\",\"#39218296\",\"#39411a96\",\"#39412096\",\"#39413e96\",\"#39415c96\",\"#39610a96\",\"#39611296\",\"#39612096\",\"#39613896\",\"#39615696\",\"#39615c96\",\"#39639c96\",\"#39810a96\",\"#39811a96\",\"#39812096\",\"#39812896\",\"#39813096\",\"#39813896\",\"#39813e96\",\"#39814696\",\"#39815696\",\"#39816496\",\"#39818296\",\"#39a12096\",\"#39a13e96\",\"#39a14e96\",\"#39c10a96\",\"#39c14696\",\"#39c17296\",\"#39c39c96\",\"#39e12896\",\"#39e13096\",\"#39e13896\",\"#39e15c96\",\"#3a012896\",\"#3a013896\",\"#3a014696\",\"#3a014e96\",\"#3a213096\",\"#3a213e96\",\"#3a411296\",\"#3a412096\",\"#3a413096\",\"#3a413e96\",\"#3a414696\",\"#3a811296\",\"#3a814696\",\"#3a814e96\",\"#3aa10a96\",\"#3aa11296\",\"#3aa11a96\",\"#3aa12096\",\"#3aa12896\",\"#3aa13096\",\"#3aa13896\",\"#3aa13e96\",\"#3aa14696\",\"#3aa14e96\",\"#3aa15696\",\"#3aa16496\",\"#3aa17a96\",\"#3aa1a896\",\"#3ac13096\",\"#3ac14696\",\"#3ac19896\",\"#3ae11296\",\"#3ae13096\",\"#3b016496\",\"#3b017296\",\"#3b212096\",\"#3b212896\",\"#3b213096\",\"#3b411a96\",\"#3b412896\",\"#3b413096\",\"#3b413896\",\"#3b413e96\",\"#3b414696\",\"#3b415c96\",\"#3b416c96\",\"#3b612096\",\"#3b612896\",\"#3b613e96\",\"#3b614696\",\"#3b813896\",\"#3b813e96\",\"#3b814e96\",\"#3b815696\",\"#3ba10a96\",\"#3ba11a96\",\"#3ba12096\",\"#3ba12896\",\"#3ba13096\",\"#3ba13896\",\"#3ba13e96\",\"#3ba14696\",\"#3ba14e96\",\"#3ba15696\",\"#3ba15c96\",\"#3ba16496\",\"#3ba16c96\",\"#3ba17296\",\"#3ba17a96\",\"#3ba18296\",\"#3bc12096\",\"#3bc12896\",\"#3bc13e96\",\"#3be11a96\",\"#3be17a96\",\"#3c011a96\",\"#3c012896\",\"#3c013096\",\"#3c013896\",\"#3c013e96\",\"#3c014e96\",\"#3c015696\",\"#3c019096\",\"#3c210a96\",\"#3c212096\",\"#3c213896\",\"#3c213e96\",\"#3c214696\",\"#3c215696\",\"#3c216c96\",\"#3c217296\",\"#3c413096\",\"#3c415696\",\"#3c415c96\",\"#3c41a096\",\"#3c612096\",\"#3c613096\",\"#3c613896\",\"#3c615c96\",\"#3c616c96\",\"#3c811a96\",\"#3c812096\",\"#3c813096\",\"#3c813e96\",\"#3ca12096\",\"#3ca12896\",\"#3ca13096\",\"#3ca13896\",\"#3ca13e96\",\"#3ca14696\",\"#3ca14e96\",\"#3ca15696\",\"#3ca15c96\",\"#3ca16496\",\"#3ca17296\",\"#3ca18296\",\"#3ca2bc96\",\"#3ca30696\",\"#3cc12896\",\"#3cc15696\",\"#3cc16c96\",\"#3ce12096\",\"#3ce12896\",\"#3ce13096\",\"#3ce13e96\",\"#3ce14696\",\"#3ce15c96\",\"#3ce19096\",\"#3d013096\",\"#3d013896\",\"#3d014696\",\"#3d212096\",\"#3d213896\",\"#3d215c96\",\"#3d230696\",\"#3d412896\",\"#3d414696\",\"#3d414e96\",\"#3d415696\",\"#3d419096\",\"#3d612096\",\"#3d613896\",\"#3d613e96\",\"#3d614696\",\"#3d614e96\",\"#3d616496\",\"#3d812096\",\"#3d813896\",\"#3d816496\",\"#3da13896\",\"#3da15c96\",\"#3dc12096\",\"#3dc12896\",\"#3dc13096\",\"#3dc13896\",\"#3dc13e96\",\"#3dc14696\",\"#3dc14e96\",\"#3dc15696\",\"#3dc16496\",\"#3dc16c96\",\"#3dc17296\",\"#3dc1a096\",\"#3dc1a896\",\"#3de12896\",\"#3de13896\",\"#3de14696\",\"#3de15c96\",\"#3de16c96\",\"#3e012096\",\"#3e014696\",\"#3e212096\",\"#3e212896\",\"#3e213096\",\"#3e213896\",\"#3e213e96\",\"#3e214696\",\"#3e413e96\",\"#3e417296\",\"#3e613096\",\"#3e813e96\",\"#3e814696\",\"#3e816c96\",\"#3ea12896\",\"#3ea13896\",\"#3ec12896\",\"#3ec13096\",\"#3ec13896\",\"#3ec13e96\",\"#3ec14696\",\"#3ec14e96\",\"#3ec15696\",\"#3ec15c96\",\"#3ec16496\",\"#3ec29096\",\"#3ee13896\",\"#3ee14696\",\"#3ee14e96\",\"#3f011a96\",\"#3f012096\",\"#3f013896\",\"#3f013e96\",\"#3f015c96\",\"#3f017296\",\"#3f215696\",\"#3f412096\",\"#3f413896\",\"#3f413e96\",\"#3f414696\",\"#3f415c96\",\"#3f41a896\",\"#3f612896\",\"#3f613896\",\"#3f613e96\",\"#3f614696\",\"#3f614e96\",\"#3f615696\",\"#3f813096\",\"#3f813e96\",\"#3f815696\",\"#3f815c96\",\"#3fa13e96\",\"#3fa14696\",\"#3fa15696\",\"#3fa17296\",\"#3fc12896\",\"#3fe12896\",\"#3fe13096\",\"#3fe13896\",\"#3fe13e96\",\"#3fe14696\",\"#3fe14e96\",\"#3fe15696\",\"#3fe15c96\",\"#3fe16496\",\"#3fe16c96\",\"#3fe17296\",\"#3fe18296\",\"#40013e96\",\"#40016c96\",\"#40216c96\",\"#4021c696\",\"#40412096\",\"#40413096\",\"#40613096\",\"#40613896\",\"#40613e96\",\"#40614696\",\"#40615696\",\"#40619096\",\"#40812096\",\"#40813896\",\"#40813e96\",\"#40814696\",\"#40814e96\",\"#40815696\",\"#40816496\",\"#40816c96\",\"#40817296\",\"#40a13096\",\"#40a14696\",\"#40a14e96\",\"#40c13e96\",\"#40c15696\",\"#40e13096\",\"#40e13e96\",\"#40e14696\",\"#40e14e96\",\"#40e15696\",\"#40e15c96\",\"#40e16496\",\"#40e16c96\",\"#40e18296\",\"#41013e96\",\"#41017a96\",\"#41215696\",\"#41413896\",\"#41413e96\",\"#41414696\",\"#41414e96\",\"#41417296\",\"#41613e96\",\"#41a13896\",\"#41a13e96\",\"#41a15696\",\"#41a15c96\",\"#41c12896\",\"#41c13e96\",\"#41e13096\",\"#41e13896\",\"#41e13e96\",\"#41e14696\",\"#41e14e96\",\"#41e15696\",\"#41e15c96\",\"#41e16496\",\"#41e16c96\",\"#41e17296\",\"#41e17a96\",\"#41e1dc96\",\"#42013896\",\"#42013e96\",\"#42017a96\",\"#42213096\",\"#42213896\",\"#42214696\",\"#42216496\",\"#42216c96\",\"#42413896\",\"#42413e96\",\"#42414696\",\"#42415696\",\"#42416c96\",\"#42616496\",\"#42618296\",\"#42813096\",\"#42813896\",\"#42813e96\",\"#42814e96\",\"#42815c96\",\"#42816c96\",\"#42817a96\",\"#42818296\",\"#42818a96\",\"#42a15c96\",\"#42c13896\",\"#42e17296\",\"#43011a96\",\"#43013896\",\"#43013e96\",\"#43014696\",\"#43014e96\",\"#43015696\",\"#43015c96\",\"#43016496\",\"#43016c96\",\"#43017296\",\"#43017a96\",\"#43018296\",\"#43019896\",\"#43214e96\",\"#43215c96\",\"#43216c96\",\"#43217296\",\"#43413896\",\"#43414e96\",\"#43415696\",\"#43416c96\",\"#43613096\",\"#43614e96\",\"#43616496\",\"#43617296\",\"#4361a896\",\"#43813896\",\"#43814696\",\"#43817296\",\"#43819096\",\"#43829096\",\"#43c13e96\",\"#43c14e96\",\"#43c17296\",\"#43c18a96\",\"#43e14e96\",\"#43e15696\",\"#43e15c96\",\"#44013096\",\"#44013896\",\"#44014696\",\"#44014e96\",\"#44015696\",\"#44015c96\",\"#44016496\",\"#44016c96\",\"#44017296\",\"#44017a96\",\"#44018296\",\"#44018a96\",\"#44019896\",\"#44020096\",\"#44030696\",\"#44214696\",\"#44216c96\",\"#44418296\",\"#44614696\",\"#44614e96\",\"#44615c96\",\"#44616496\",\"#44813e96\",\"#44814e96\",\"#44815696\",\"#4481ae96\",\"#44839c96\",\"#44a16496\",\"#44c15696\",\"#44c16c96\",\"#44c17296\",\"#44c17a96\",\"#44e13096\",\"#44e14696\",\"#44e14e96\",\"#44e17296\",\"#45013e96\",\"#45015696\",\"#45015c96\",\"#45017296\",\"#45214696\",\"#45214e96\",\"#45215696\",\"#45215c96\",\"#45216496\",\"#45216c96\",\"#45217296\",\"#45217a96\",\"#4521b696\",\"#4521c696\",\"#45413e96\",\"#45414696\",\"#45415c96\",\"#45416c96\",\"#45417a96\",\"#45418a96\",\"#45614696\",\"#45617296\",\"#45815696\",\"#45816c96\",\"#45a15c96\",\"#45a16c96\",\"#45c14e96\",\"#45c15696\",\"#45c15c96\",\"#45c16c96\",\"#45e14696\",\"#46013896\",\"#46014e96\",\"#46017a96\",\"#46213896\",\"#46213e96\",\"#46215696\",\"#46215c96\",\"#46216496\",\"#46216c96\",\"#46217296\",\"#46217a96\",\"#46218296\",\"#46219096\",\"#46219896\",\"#4621a096\",\"#46227896\",\"#46415696\",\"#46416c96\",\"#46417a96\",\"#46614696\",\"#46615c96\",\"#46616496\",\"#46618a96\",\"#4661c696\",\"#46815696\",\"#46816496\",\"#4681a096\",\"#46a16496\",\"#46c14696\",\"#46c14e96\",\"#46c15c96\",\"#46c16c96\",\"#46e14696\",\"#47013e96\",\"#47014e96\",\"#47015696\",\"#47017a96\",\"#47032496\",\"#47213e96\",\"#47214696\",\"#47214e96\",\"#47215696\",\"#47215c96\",\"#47216496\",\"#47216c96\",\"#47217296\",\"#47217a96\",\"#47218296\",\"#47219896\",\"#47416496\",\"#47613896\",\"#47614e96\",\"#47617a96\",\"#4761a096\",\"#47813896\",\"#47813e96\",\"#47814e96\",\"#4781b696\",\"#47a14696\",\"#47a15c96\",\"#47a17a96\",\"#47a18a96\",\"#47e14e96\",\"#48014e96\",\"#48015c96\",\"#48017296\",\"#48215c96\",\"#48216c96\",\"#48217a96\",\"#48413e96\",\"#48414696\",\"#48414e96\",\"#48415696\",\"#48415c96\",\"#48416496\",\"#48416c96\",\"#48417296\",\"#48418296\",\"#48418a96\",\"#48419096\",\"#4841b696\",\"#48420896\",\"#48615c96\",\"#48616496\",\"#48616c96\",\"#48617296\",\"#48617a96\",\"#48618a96\",\"#4861ae96\",\"#48814e96\",\"#48815696\",\"#48817a96\",\"#48a14e96\",\"#48a15696\",\"#48c13e96\",\"#48c18a96\",\"#48e14e96\",\"#48e17296\",\"#48e18296\",\"#48e19896\",\"#49014e96\",\"#49015696\",\"#49018a96\",\"#49216496\",\"#49219896\",\"#49413e96\",\"#49414696\",\"#49414e96\",\"#49415c96\",\"#49416496\",\"#49416c96\",\"#49418296\",\"#49418a96\",\"#49419896\",\"#4941a096\",\"#4941a896\",\"#49616c96\",\"#49815c96\",\"#49818a96\",\"#49a16c96\",\"#49a19896\",\"#49c14e96\",\"#49c15696\",\"#49c18296\",\"#49c1a096\",\"#49c1c696\",\"#49e15c96\",\"#49e16c96\",\"#49e19096\",\"#49e1ae96\",\"#49e1b696\",\"#4a014696\",\"#4a015696\",\"#4a018a96\",\"#4a216496\",\"#4a414696\",\"#4a416c96\",\"#4a417296\",\"#4a417a96\",\"#4a614e96\",\"#4a615696\",\"#4a615c96\",\"#4a616496\",\"#4a616c96\",\"#4a617296\",\"#4a617a96\",\"#4a618296\",\"#4a618a96\",\"#4a619896\",\"#4a815c96\",\"#4a816c96\",\"#4aa14696\",\"#4aa14e96\",\"#4aa17296\",\"#4aa18296\",\"#4aa18a96\",\"#4aa19096\",\"#4ae16496\",\"#4b015c96\",\"#4b016496\",\"#4b016c96\",\"#4b018296\",\"#4b215696\",\"#4b215c96\",\"#4b217a96\",\"#4b414e96\",\"#4b415696\",\"#4b417296\",\"#4b614e96\",\"#4b615696\",\"#4b616c96\",\"#4b617296\",\"#4b617a96\",\"#4b618296\",\"#4b619896\",\"#4b61a896\",\"#4b61b696\",\"#4b820096\",\"#4ba15696\",\"#4ba15c96\",\"#4ba16496\",\"#4ba16c96\",\"#4ba17296\",\"#4ba17a96\",\"#4ba18296\",\"#4ba19096\",\"#4bc15c96\",\"#4bc16c96\",\"#4bc39c96\",\"#4c018296\",\"#4c217a96\",\"#4c219096\",\"#4c418a96\",\"#4c615c96\",\"#4c616496\",\"#4c617a96\",\"#4c618a96\",\"#4c619096\",\"#4c619896\",\"#4c61a896\",\"#4c61b696\",\"#4c61d496\",\"#4c816496\",\"#4ce15696\",\"#4ce17296\",\"#4d014e96\",\"#4d016c96\",\"#4d019896\",\"#4d03e696\",\"#4d215696\",\"#4d217a96\",\"#4d219896\",\"#4d615c96\",\"#4d61a096\",\"#4d81e96\",\"#4d816496\",\"#4d816c96\",\"#4d817a96\",\"#4d818296\",\"#4d818a96\",\"#4d819096\",\"#4d819896\",\"#4d81a896\",\"#4d81be96\",\"#4da17296\",\"#4da18a96\",\"#4da19096\",\"#4de16496\",\"#4e016496\",\"#4e016c96\",\"#4e019096\",\"#4e21ae96\",\"#4e415c96\",\"#4e41a896\",\"#4e41ae96\",\"#4e61cc96\",\"#4e84096\",\"#4e815c96\",\"#4e816496\",\"#4e816c96\",\"#4e817296\",\"#4e817a96\",\"#4e818296\",\"#4e818a96\",\"#4e819896\",\"#4e81a096\",\"#4e81a896\",\"#4ea17a96\",\"#4ec16496\",\"#4ee15696\",\"#4ee1e496\",\"#4f017296\",\"#4f017a96\",\"#4f020096\",\"#4f416c96\",\"#4f418a96\",\"#4fa15c96\",\"#4fa16c96\",\"#4fa17296\",\"#4fa17a96\",\"#4fa18296\",\"#4fa18a96\",\"#4fa19096\",\"#4fa19896\",\"#4fa1b696\",\"#4fa1ea96\",\"#4fc16496\",\"#4fe18a96\",\"#50017296\",\"#50217296\",\"#50219896\",\"#5021dc96\",\"#50419096\",\"#50619096\",\"#50816c96\",\"#50817296\",\"#50819096\",\"#50a15c96\",\"#50a16496\",\"#50a16c96\",\"#50a17296\",\"#50a17a96\",\"#50a18296\",\"#50a18a96\",\"#50a19096\",\"#50a19896\",\"#50a1a096\",\"#50a1b696\",\"#50c16c96\",\"#50c19896\",\"#50e17296\",\"#50e1a096\",\"#51017296\",\"#51019096\",\"#51019896\",\"#5101a096\",\"#5101cc96\",\"#51417a96\",\"#51615c96\",\"#51619896\",\"#51816496\",\"#51819096\",\"#51a15c96\",\"#51a16496\",\"#51a17296\",\"#51a18296\",\"#51a18a96\",\"#51a19096\",\"#51a19896\",\"#51a1a096\",\"#51a1ae96\",\"#51a1c696\",\"#51e16496\",\"#51e18a96\",\"#52217296\",\"#52219896\",\"#5221a896\",\"#52418296\",\"#52619096\",\"#5261a896\",\"#52816496\",\"#52a16496\",\"#52a1a096\",\"#52a1d496\",\"#52c16496\",\"#52c16c96\",\"#52c17296\",\"#52c17a96\",\"#52c18296\",\"#52c19096\",\"#52c19896\",\"#52c1ae96\",\"#52c1c696\",\"#52c1cc96\",\"#52e16c96\",\"#52e18296\",\"#52e18a96\",\"#52e1a896\",\"#52e1f296\",\"#52e20096\",\"#53018296\",\"#5301ae96\",\"#5301be96\",\"#5341a096\",\"#53617296\",\"#53621e96\",\"#53819096\",\"#5381a896\",\"#5381ae96\",\"#53a1d496\",\"#53c18296\",\"#53c19096\",\"#53c19896\",\"#53c1a096\",\"#53c1ae96\",\"#53c1be96\",\"#53c1fa96\",\"#53c21096\",\"#53e19096\",\"#54018296\",\"#5401a096\",\"#54217296\",\"#5421a096\",\"#5421a896\",\"#54418296\",\"#5441a096\",\"#5441b696\",\"#5441cc96\",\"#5481b696\",\"#54a17296\",\"#54a1ae96\",\"#54e17296\",\"#54e18296\",\"#54e18a96\",\"#54e19096\",\"#54e1a096\",\"#54e1a896\",\"#54e1ae96\",\"#54e1b696\",\"#54e1be96\",\"#54e1c696\",\"#54e1cc96\",\"#5501a896\",\"#55417a96\",\"#5541a896\",\"#5541f296\",\"#5561a096\",\"#5581a896\",\"#5581be96\",\"#55e17296\",\"#55e17a96\",\"#55e18296\",\"#55e18a96\",\"#55e19096\",\"#55e19896\",\"#55e1a096\",\"#55e1ae96\",\"#55e1cc96\",\"#55e1f296\",\"#55e23696\",\"#56219096\",\"#5621ae96\",\"#5621b696\",\"#56223c96\",\"#5641a096\",\"#5641b696\",\"#5661ae96\",\"#56819096\",\"#56819896\",\"#5681ae96\",\"#5681be96\",\"#56e17296\",\"#56e17a96\",\"#56e18a96\",\"#56e19096\",\"#56e19896\",\"#56e1a096\",\"#56e1be96\",\"#56e1c696\",\"#56e1e496\",\"#57217a96\",\"#57218a96\",\"#5721ae96\",\"#5721c696\",\"#5741ae96\",\"#57819896\",\"#57a1a096\",\"#58017a96\",\"#58018296\",\"#58019096\",\"#5801a096\",\"#5801a896\",\"#5801ae96\",\"#5801be96\",\"#58032496\",\"#5821a096\",\"#5821dc96\",\"#58419896\",\"#5861be96\",\"#5881a096\",\"#58c1b696\",\"#58e17a96\",\"#58e18a96\",\"#58e19096\",\"#58e1a096\",\"#58e1a896\",\"#58e1ae96\",\"#58e1b696\",\"#58e1c696\",\"#58e1cc96\",\"#58e1dc96\",\"#5921a096\",\"#5961c696\",\"#59818a96\",\"#59819896\",\"#5981c696\",\"#5981d496\",\"#5981dc96\",\"#59a1ae96\",\"#59a1b696\",\"#59c19096\",\"#59c1ae96\",\"#59c1c696\",\"#59c1d496\",\"#59e19896\",\"#5a218296\",\"#5a218a96\",\"#5a219896\",\"#5a21a896\",\"#5a21ae96\",\"#5a21b696\",\"#5a21c696\",\"#5a21cc96\",\"#5a21dc96\",\"#5a220096\",\"#5a220896\",\"#5a421096\",\"#5a618a96\",\"#5a619096\",\"#5a61be96\",\"#5a61c696\",\"#5a81a096\",\"#5a81a896\",\"#5ac1b696\",\"#5ac1be96\",\"#5ae19096\",\"#5b218296\",\"#5b219096\",\"#5b219896\",\"#5b21a096\",\"#5b21ae96\",\"#5b21b696\",\"#5b21be96\",\"#5b21c696\",\"#5b21cc96\",\"#5b21f296\",\"#5b417a96\",\"#5b419096\",\"#5b41cc96\",\"#5b619896\",\"#5b81a896\",\"#5be1ae96\",\"#5c018a96\",\"#5c019896\",\"#5c219096\",\"#5c219896\",\"#5c21a096\",\"#5c21a896\",\"#5c21b696\",\"#5c21c696\",\"#5c21cc96\",\"#5c41a096\",\"#5c41b696\",\"#5c61a096\",\"#5c61a896\",\"#5c61b696\",\"#5c61c696\",\"#5cc1a096\",\"#5cc1cc96\",\"#5cc1dc96\",\"#5d21b696\",\"#5d419896\",\"#5d41a096\",\"#5d41a896\",\"#5d41ae96\",\"#5d41b696\",\"#5d41be96\",\"#5d41c696\",\"#5d41cc96\",\"#5d41e496\",\"#5d61ae96\",\"#5d61c696\",\"#5d81a896\",\"#5da18a96\",\"#5da19896\",\"#5da1a096\",\"#5da1be96\",\"#5de19096\",\"#5de21096\",\"#5e01ae96\",\"#5e01b696\",\"#5e219896\",\"#5e21a096\",\"#5e21a896\",\"#5e21b696\",\"#5e21be96\",\"#5e21c696\",\"#5e21cc96\",\"#5e21d496\",\"#5e21dc96\",\"#5e223696\",\"#5e61fa96\",\"#5e81be96\",\"#5e81dc96\",\"#5e81ea96\",\"#5ea1a096\",\"#5ea1a896\",\"#5ea1d496\",\"#5ea1fa96\",\"#5f01b696\",\"#5f020096\",\"#5f030696\",\"#5f219896\",\"#5f21a896\",\"#5f21d496\",\"#5f619896\",\"#5f61a896\",\"#5f61ae96\",\"#5f61b696\",\"#5f61c696\",\"#5f61d496\",\"#5f61dc96\",\"#5f61e496\",\"#5f61ea96\",\"#5fa20896\",\"#5fc1dc96\",\"#5fe1a896\",\"#5fe1f296\",\"#6001cc96\",\"#6001ea96\",\"#6021c696\",\"#60220896\",\"#60221096\",\"#60619896\",\"#6061ae96\",\"#6061be96\",\"#6061c696\",\"#6061cc96\",\"#6061e496\",\"#6061fa96\",\"#6081be96\",\"#6081e496\",\"#60a1a096\",\"#60a21096\",\"#60c19896\",\"#60c1a096\",\"#60c1b696\",\"#6121c696\",\"#6121cc96\",\"#6141a096\",\"#6161ae96\",\"#6161b696\",\"#6161be96\",\"#6161c696\",\"#6161cc96\",\"#61623c96\",\"#61a1a096\",\"#61a1a896\",\"#61a1d496\",\"#61c19896\",\"#61c1ea96\",\"#6201c696\",\"#6221a096\",\"#6241be96\",\"#6281a096\",\"#6281b696\",\"#6281be96\",\"#6281c696\",\"#6281cc96\",\"#6281d496\",\"#6281fa96\",\"#62820896\",\"#62a1a896\",\"#62e1dc96\",\"#63020096\",\"#6321dc96\",\"#6341c696\",\"#6341ea96\",\"#6361ae96\",\"#6361b696\",\"#6361be96\",\"#6361c696\",\"#6361dc96\",\"#6361ea96\",\"#63a1e496\",\"#63c1c696\",\"#63e1a896\",\"#63e1b696\",\"#63e1e496\",\"#63e20096\",\"#63e26296\",\"#6421ae96\",\"#6441a896\",\"#6441dc96\",\"#6441fa96\",\"#64422e96\",\"#6461c696\",\"#6461cc96\",\"#6461dc96\",\"#64a1a896\",\"#64a1b696\",\"#64a1cc96\",\"#64a1e496\",\"#64a1ea96\",\"#64e1d496\",\"#6501ae96\",\"#6501cc96\",\"#6521d496\",\"#6521ea96\",\"#6541ae96\",\"#6541be96\",\"#65420896\",\"#6561ae96\",\"#65a1ae96\",\"#65a1b696\",\"#65a1c696\",\"#65a20896\",\"#65a21896\",\"#65c1b696\",\"#65e1fa96\",\"#6601e496\",\"#6641c696\",\"#66a1dc96\",\"#66a1fa96\",\"#66a21096\",\"#66c1ae96\",\"#66e1be96\",\"#66e1d496\",\"#66e1f296\",\"#66e1fa96\",\"#67020096\",\"#6741dc96\",\"#6741fa96\",\"#6781be96\",\"#67c1cc96\",\"#67c1d496\",\"#67c1e496\",\"#67c1ea96\",\"#67c20096\",\"#67c20896\",\"#67c24496\",\"#67e1d496\",\"#6801dc96\",\"#6861e496\",\"#6881c696\",\"#6881cc96\",\"#6881d496\",\"#68a1b696\",\"#68a1d496\",\"#68a1dc96\",\"#68a1f296\",\"#68a20096\",\"#6941cc96\",\"#6981f296\",\"#69821e96\",\"#69a1c696\",\"#69e1b696\",\"#69e1c696\",\"#69e1cc96\",\"#69e1d496\",\"#69e1f296\",\"#69e24c96\",\"#6a01d496\",\"#6a220896\",\"#6a421e96\",\"#6a61e496\",\"#6aa1c696\",\"#6aa1d496\",\"#6aa1fa96\",\"#6ae1c696\",\"#6ae1d496\",\"#6ae1dc96\",\"#6ae1e496\",\"#6ae1ea96\",\"#6ae1f296\",\"#6ae21096\",\"#6ae22696\",\"#6b01cc96\",\"#6b01ea96\",\"#6b21be96\",\"#6b423696\",\"#6b820096\",\"#6bc1d496\",\"#6bc1dc96\",\"#6bc1e496\",\"#6be1d496\",\"#6be1e496\",\"#6be1f296\",\"#6be20096\",\"#6be20896\",\"#6be21896\",\"#6c01dc96\",\"#6c21d496\",\"#6c81d496\",\"#6c81dc96\",\"#6c821896\",\"#6ca1ea96\",\"#6d01cc96\",\"#6d01dc96\",\"#6d01f296\",\"#6d61dc96\",\"#6dc1ea96\",\"#6de1dc96\",\"#6de20896\",\"#6e21f296\",\"#6e41ea96\",\"#6e422696\",\"#6e61f296\",\"#6e626296\",\"#6e81f296\",\"#6e821096\",\"#6ee21e96\",\"#6f21ea96\",\"#6f21f296\",\"#6f21fa96\",\"#6f220096\",\"#6f61dc96\",\"#6f61e496\",\"#6fc1f296\",\"#6fc1fa96\",\"#6fc20096\",\"#6fc20896\",\"#7001e496\",\"#7001fa96\",\"#7021cc96\",\"#7021e496\",\"#7021f296\",\"#7021fa96\",\"#70220096\",\"#70220896\",\"#70221e96\",\"#70222696\",\"#70243296\",\"#7041d496\",\"#7061fa96\",\"#70620096\",\"#70a1e496\",\"#70a3e696\",\"#7121dc96\",\"#7121e496\",\"#71220896\",\"#7161e496\",\"#71623696\",\"#71e21896\",\"#7201d496\",\"#72221096\",\"#7241e496\",\"#72421096\",\"#72421896\",\"#72421e96\",\"#72422696\",\"#7261e496\",\"#7261ea96\",\"#72c20096\",\"#72e20896\",\"#7301d496\",\"#7301f296\",\"#73020896\",\"#7321ea96\",\"#73421896\",\"#73421e96\",\"#73422696\",\"#73422e96\",\"#7381ea96\",\"#73820896\",\"#73a22e96\",\"#73a3e696\",\"#73e20096\",\"#7441fa96\",\"#74420096\",\"#74421896\",\"#7461dc96\",\"#74621e96\",\"#74622696\",\"#7481d496\",\"#74820896\",\"#74821096\",\"#74821896\",\"#74822e96\",\"#74c1ea96\",\"#74e21e96\",\"#7541e496\",\"#75420096\",\"#7561ea96\",\"#7561f296\",\"#75620896\",\"#75621096\",\"#75622696\",\"#7581f296\",\"#7581fa96\",\"#75a1f296\",\"#75c20896\",\"#75c25496\",\"#75e21896\",\"#7661fa96\",\"#76620896\",\"#76621896\",\"#76621e96\",\"#76622e96\",\"#76623c96\",\"#76a1e496\",\"#76a21096\",\"#76a22696\",\"#77021096\",\"#77224c96\",\"#7781fa96\",\"#77820896\",\"#78420896\",\"#78421096\",\"#78820096\",\"#78820896\",\"#78821896\",\"#78822696\",\"#78824496\",\"#78a1fa96\",\"#78c20896\",\"#7901f296\",\"#79021e96\",\"#79421896\",\"#79821096\",\"#79821896\",\"#79822696\",\"#79823c96\",\"#79828896\",\"#79c23c96\",\"#79c24c96\",\"#7a422696\",\"#7aa22696\",\"#7aa22e96\",\"#7b420896\",\"#7b821096\",\"#7ba22696\",\"#7ba22e96\",\"#7ba24c96\",\"#7bc21e96\",\"#7be22e96\",\"#7c221896\",\"#7c225a96\",\"#7c420096\",\"#7c623696\",\"#7ca22696\",\"#7cc20096\",\"#7cc27296\",\"#7ce21096\",\"#7ce24496\",\"#7ce27896\",\"#7d021096\",\"#7d620896\",\"#7d621896\",\"#7dc1fa96\",\"#7dc21e96\",\"#7dc26a96\",\"#7dc32496\",\"#7e021896\",\"#7e022e96\",\"#7e822e96\",\"#7ec22696\",\"#7ec23696\",\"#7ec24496\",\"#7f625a96\",\"#7f821e96\",\"#7fe21e96\",\"#7fe23696\",\"#80024496\",\"#80221e96\",\"#80421896\",\"#80c21e96\",\"#80c24c96\",\"#80e23c96\",\"#81422696\",\"#81624c96\",\"#82022e96\",\"#82023696\",\"#82026a96\",\"#82223696\",\"#82224496\",\"#82422696\",\"#82428096\",\"#82c22e96\",\"#82c25a96\",\"#83023696\",\"#83025496\",\"#83825496\",\"#83a21e96\",\"#83c23c96\",\"#84022e96\",\"#84023696\",\"#84023c96\",\"#84024c96\",\"#84026296\",\"#8403ca96\",\"#85227296\",\"#86023c96\",\"#86024c96\",\"#86222696\",\"#86222e96\",\"#86223696\",\"#86225a96\",\"#86424c96\",\"#8642ac96\",\"#86c26a96\",\"#87427896\",\"#87623696\",\"#87e25a96\",\"#87e26a96\",\"#87e27896\",\"#88023696\",\"#88031e96\",\"#88423696\",\"#88424496\",\"#88426296\",\"#88426a96\",\"#88a25496\",\"#88c26a96\",\"#89223c96\",\"#89424496\",\"#89426a96\",\"#89439c96\",\"#8aa24496\",\"#8aa28896\",\"#8ae22e96\",\"#8b023696\",\"#8b628896\",\"#8b629096\",\"#8b826a96\",\"#8c825a96\",\"#8ca27896\",\"#8ce22e96\",\"#8d029096\",\"#8d22e296\",\"#8d823c96\",\"#8d826296\",\"#8d826a96\",\"#8d827296\",\"#8d829096\",\"#8e428096\",\"#8e824c96\",\"#8e825a96\",\"#8ea24c96\",\"#8ee26a96\",\"#8f625a96\",\"#8fa27296\",\"#8fa28096\",\"#90629e96\",\"#90827296\",\"#90a2ca96\",\"#91c28096\",\"#92c24c96\",\"#93025a96\",\"#93832496\",\"#93c24496\",\"#93c25a96\",\"#93c29096\",\"#94c27296\",\"#94e25496\",\"#9502f096\",\"#95e4096\",\"#95e27296\",\"#95e27896\",\"#95e4c896\",\"#96e28896\",\"#97027896\",\"#97028896\",\"#97029e96\",\"#97229096\",\"#97627296\",\"#97c29e96\",\"#9802b496\",\"#9a227896\",\"#9a22b496\",\"#9ae32496\",\"#9b227896\",\"#9c427896\",\"#9c432496\",\"#9ce2ac96\",\"#9d427296\",\"#9d427896\",\"#9d430096\",\"#9da2bc96\",\"#9e427896\",\"#9e428096\",\"#9e42b496\",\"#9ec2ac96\",\"#9ee27896\",\"#9f627896\",\"#9f62a696\",\"#a0429096\",\"#a0628896\",\"#a062bc96\",\"#a162c496\",\"#a1828896\",\"#a1a29096\",\"#a2228896\",\"#a2829e96\",\"#a2e2bc96\",\"#a422a696\",\"#a422bc96\",\"#a4a29096\",\"#a4a2a696\",\"#a5029e96\",\"#a542a696\",\"#a5a2ac96\",\"#a622ac96\",\"#a6c29e96\",\"#a6c3a496\",\"#a7c2b496\",\"#a7c2bc96\",\"#a8c2d296\",\"#a8c2da96\",\"#a8c32496\",\"#a9e2ac96\",\"#ab62ca96\",\"#ac02bc96\",\"#ac42ca96\",\"#acc2e296\",\"#ad02ac96\",\"#ae02b496\",\"#ae02bc96\",\"#ae04e696\",\"#afa2da96\",\"#b022f896\",\"#b0232496\",\"#b0232c96\",\"#b0235296\",\"#b062bc96\",\"#b0832496\",\"#b0a34a96\",\"#b142ca96\",\"#b142d296\",\"#b142f096\",\"#b162c496\",\"#b1a32496\",\"#b2032496\",\"#b2430696\",\"#b2432496\",\"#b282c496\",\"#b282f096\",\"#b2832496\",\"#b342e296\",\"#b4432496\",\"#b4832496\",\"#b522f096\",\"#b5232496\",\"#b562ca96\",\"#b5632496\",\"#b6832496\",\"#b7232496\",\"#b782e896\",\"#b7832496\",\"#b7c2f896\",\"#b8032496\",\"#b8832496\",\"#b8834296\",\"#b8c31696\",\"#b922e896\",\"#b9832496\",\"#baa32496\",\"#bb232496\",\"#bbc32496\",\"#bbc32c96\",\"#bc232496\",\"#bc832496\",\"#bcc32496\",\"#bd832496\",\"#bdc32496\",\"#be030696\",\"#bec32496\",\"#bf632496\",\"#bfa32496\",\"#bfe32496\",\"#c0632496\",\"#c0e32496\",\"#c102e896\",\"#c1032496\",\"#c1232496\",\"#c1a32496\",\"#c2031e96\",\"#c2032496\",\"#c2432496\",\"#c2a32496\",\"#c3032496\",\"#c3032c96\",\"#c3a2f896\",\"#c3a32496\",\"#c3e32496\",\"#c4032496\",\"#c4038696\",\"#c4432496\",\"#c4832496\",\"#c4a32496\",\"#c5232496\",\"#c5a32496\",\"#c6430e96\",\"#c7635296\",\"#c7e32496\",\"#c7e34a96\",\"#c8232496\",\"#c8431e96\",\"#c8432496\",\"#c9032496\",\"#c9430696\",\"#c9432496\",\"#c9832496\",\"#c9e32496\",\"#ca232496\",\"#cac31e96\",\"#cac32496\",\"#cb230e96\",\"#cb632496\",\"#cb832496\",\"#cbe31e96\",\"#cbe32496\",\"#cc832496\",\"#cc832c96\",\"#cd633c96\",\"#cd832496\",\"#ce032496\",\"#ce234a96\",\"#ce832496\",\"#cf032496\",\"#cf632496\",\"#cfa32496\",\"#cfc32496\",\"#cfc34296\",\"#d0232496\",\"#d0632496\",\"#d0c32496\",\"#d0c36896\",\"#d0c37096\",\"#d3832496\",\"#d3c32496\",\"#d4432496\",\"#d4e32496\",\"#d4e37096\",\"#d4e3d096\",\"#d6032496\",\"#d6035896\",\"#d6232496\",\"#d6632496\",\"#d703f696\",\"#d7835896\",\"#d7e32496\",\"#d8039c96\",\"#d8a5f296\",\"#d9032496\",\"#d9035296\",\"#da837096\",\"#dae37e96\",\"#db432496\",\"#db632496\",\"#dc437696\",\"#dd032496\",\"#dd832496\",\"#de639496\",\"#de836096\",\"#dec32496\",\"#df232496\",\"#df632496\",\"#df638696\",\"#e0632496\",\"#e0636896\",\"#e0647c96\",\"#e0a3e096\",\"#e1232496\",\"#e1832496\",\"#e2432496\",\"#e2632496\",\"#e3032496\",\"#e3a32496\",\"#e4a32496\",\"#e5a32496\",\"#e9437e96\",\"#e9632496\",\"#e9c55c96\",\"#ed01e96\",\"#ed03ca96\",\"#ed057a96\",\"#ef23c296\",\"#f0a3e096\",\"#f523ba96\",\"#f565f296\",\"#f783c296\",\"#f786da96\",\"#107055c96\",\"#109642a96\",\"#110642296\",\"#11e655c96\",\"#11ee62696\",\"#12188de96\",\"#12f432496\",\"#133a8b296\",\"#138a4aa96\",\"#13ac4096\",\"#13ac5696\",\"#142a4c896\",\"#150c6d296\",\"#16525f296\",\"#16a056c96\",\"#19c66f896\",\"#1ab6cfc96\",\"#1f0497c96\",\"#1f70a9e96\"],\"radius\":[5,36,5,3,3,2,2,2,1,2,1,3,1,1,1,4,1,3,1,2,1,1,2,1,1,1,2,1,2,3,1,1,1,1,1,1,1,2,1,3,3,6,2,1,1,1,1,3,1,2,1,1,1,1,1,1,1,1,1,1,1,2,1,1,1,1,2,2,1,1,1,3,6,5,1,1,1,1,1,2,2,1,1,3,2,1,14,15,7,1,1,2,2,1,1,2,4,2,1,1,2,1,1,4,2,3,1,1,1,8,34,17,6,1,1,4,2,1,2,2,3,4,3,2,4,1,1,3,3,2,2,8,7,1,1,1,4,5,1,1,2,1,29,38,17,9,1,1,1,5,3,1,1,6,7,1,2,15,13,3,1,3,6,2,2,7,1,1,1,3,3,2,5,1,1,1,1,24,60,59,24,8,2,1,1,1,7,6,1,3,4,9,10,1,1,8,4,1,2,6,10,3,4,3,8,5,1,2,18,17,10,5,6,6,4,1,1,1,44,76,57,13,4,1,1,2,1,2,3,7,2,6,23,8,5,3,15,7,4,1,1,1,1,10,10,2,1,3,11,3,4,3,4,8,8,3,2,2,4,32,18,9,1,2,1,15,62,81,30,7,4,4,2,2,13,11,5,1,1,4,9,4,9,3,1,3,8,14,5,1,3,1,3,7,8,6,4,2,6,13,6,2,1,1,8,7,5,2,1,2,5,10,7,3,1,6,8,4,2,1,1,1,1,26,69,68,34,9,3,3,1,8,16,13,9,2,8,6,5,1,2,8,14,6,4,1,1,1,11,8,1,3,7,7,3,4,1,6,16,16,9,1,2,1,5,9,4,7,1,2,14,59,64,65,30,11,3,1,1,1,5,10,5,4,1,1,4,2,7,7,2,3,1,3,8,20,8,9,3,1,1,4,6,2,4,2,1,5,11,10,5,3,1,2,8,7,3,2,1,4,7,10,5,2,1,31,81,87,44,18,11,3,3,1,3,7,8,3,3,5,3,3,1,1,5,7,10,6,8,1,1,3,6,7,6,2,4,8,3,8,4,2,1,6,13,14,13,2,2,1,1,1,10,13,5,4,3,1,6,8,7,4,1,1,10,41,72,54,29,12,5,2,2,2,2,5,10,6,3,1,5,12,26,24,14,7,1,1,2,7,2,3,1,1,2,1,3,8,4,4,5,2,5,4,3,6,3,1,1,6,8,19,8,5,4,2,1,14,58,62,49,31,14,8,3,1,2,7,11,5,1,2,3,4,9,3,2,1,3,5,3,2,3,1,2,3,7,11,15,3,1,1,1,1,8,6,8,6,1,1,3,4,3,3,1,1,1,7,7,7,3,1,1,1,5,9,4,1,2,27,56,65,41,19,8,3,5,7,13,14,11,7,2,1,1,1,2,7,1,2,5,1,1,1,2,4,6,3,1,1,1,1,1,9,6,10,6,3,2,3,10,4,2,1,4,12,20,9,10,4,2,5,12,5,4,2,1,10,46,56,42,39,16,6,3,1,4,9,4,3,2,5,4,3,3,2,1,1,2,13,14,9,6,4,3,1,1,1,1,1,6,4,1,1,1,2,2,7,3,8,3,1,2,8,6,6,4,1,4,3,7,4,1,1,1,1,1,24,50,61,43,25,5,6,3,1,4,6,4,5,1,1,5,2,6,5,2,1,2,4,7,5,3,2,2,1,1,2,7,7,3,1,1,3,6,7,3,1,1,1,1,3,10,9,11,3,3,1,3,4,9,6,4,3,1,1,6,6,4,2,3,2,1,1,1,8,29,57,51,29,21,5,5,1,2,3,4,7,5,5,1,1,2,1,1,6,10,9,4,3,1,6,7,6,3,3,1,1,5,6,3,1,1,3,6,3,3,4,1,4,8,4,4,2,1,1,5,10,12,9,7,4,1,2,1,16,38,33,28,26,17,5,4,2,1,2,1,6,7,4,1,1,1,1,4,6,3,4,1,1,2,4,6,2,3,1,1,1,2,6,8,12,3,1,4,2,3,4,4,3,3,2,3,4,4,4,3,1,1,1,6,3,2,2,4,1,1,1,3,3,7,5,3,8,12,31,38,32,20,10,4,1,3,1,1,1,6,5,8,1,4,1,3,3,4,4,3,1,2,1,1,4,3,4,1,1,1,2,6,5,2,1,1,5,3,1,1,1,4,5,13,6,8,3,1,1,1,1,2,1,3,2,1,10,26,43,42,24,8,3,3,2,1,1,2,3,4,1,3,1,1,2,3,3,6,1,2,1,9,6,10,8,4,2,1,2,2,1,4,4,4,1,2,4,5,8,5,3,1,1,3,5,3,1,2,1,4,3,3,2,8,22,30,55,54,31,11,4,1,1,2,2,4,8,9,4,1,2,2,1,1,6,9,9,2,3,2,2,3,3,3,1,5,1,1,1,2,9,6,2,3,1,1,2,3,2,1,1,1,7,16,32,28,23,17,3,8,1,2,6,10,5,1,1,1,1,6,7,7,1,5,2,1,1,6,3,1,1,1,1,1,3,2,1,1,2,1,1,2,3,2,2,1,1,3,1,3,3,1,3,4,10,3,3,3,1,12,21,24,31,26,15,5,1,2,1,1,2,5,1,2,1,1,3,3,3,1,1,3,1,1,1,3,5,4,3,1,2,1,1,1,5,10,11,11,8,4,2,1,2,2,11,9,5,2,1,1,3,8,16,32,23,19,11,7,5,2,3,1,1,4,2,8,5,6,1,1,4,3,1,1,2,1,4,3,3,1,3,4,7,1,1,1,1,1,3,5,1,2,1,3,6,2,9,7,1,4,1,1,4,4,4,2,1,4,8,21,34,32,19,7,7,6,1,2,1,1,4,3,2,2,1,1,1,3,6,1,1,1,2,2,6,5,5,4,1,2,1,6,2,5,1,1,1,1,5,4,1,3,2,1,1,1,2,4,2,1,4,1,1,3,2,1,5,1,1,2,1,1,8,16,31,36,28,20,9,5,3,1,1,6,4,6,3,3,4,1,1,1,2,3,4,6,2,1,1,3,3,5,3,2,1,1,2,2,2,4,1,1,1,1,1,2,2,2,1,2,1,1,1,1,1,3,12,19,26,28,17,7,6,2,1,1,1,1,6,4,1,1,1,1,1,3,4,7,6,3,5,3,3,1,1,1,1,2,4,1,1,4,2,1,1,1,1,4,1,6,2,3,1,5,2,3,2,1,1,4,2,7,5,3,6,1,1,5,14,15,19,13,14,5,3,3,1,1,3,3,2,3,4,1,3,3,2,2,5,1,1,1,5,1,2,1,1,3,3,3,3,1,1,1,4,2,1,1,1,1,1,2,1,5,1,1,1,1,1,2,3,2,2,2,4,3,2,3,1,1,1,8,19,22,14,18,15,8,2,1,4,1,1,2,2,2,2,1,3,1,1,1,3,1,3,2,1,1,1,2,2,1,1,1,3,4,1,4,1,1,1,1,1,1,6,6,3,5,4,1,1,2,2,3,5,3,2,5,8,11,23,15,12,11,7,1,2,1,1,2,2,3,4,3,1,1,1,3,2,1,1,1,1,5,4,6,6,2,1,1,1,2,2,2,2,1,1,1,2,2,1,1,3,1,2,1,3,4,1,1,1,7,9,16,24,18,13,3,8,1,2,1,3,1,1,1,3,5,5,2,1,1,5,4,1,1,2,1,3,2,3,1,3,4,3,3,3,4,1,1,3,1,4,1,1,1,2,3,1,1,1,1,2,1,2,3,1,1,1,2,4,10,15,15,13,6,4,2,2,1,1,1,1,1,2,3,1,1,4,3,3,5,2,3,2,1,1,1,2,2,3,2,2,1,1,1,1,1,1,1,2,2,1,1,1,1,1,1,2,1,1,1,3,2,5,5,4,1,1,6,8,19,13,11,8,6,8,1,2,1,2,1,1,2,1,2,2,1,4,3,1,1,2,1,2,3,1,1,3,5,4,1,1,2,2,1,2,2,3,3,1,1,2,2,1,2,1,1,2,2,1,4,1,1,2,1,2,2,1,1,1,5,9,5,15,14,11,8,4,3,1,1,1,1,1,1,2,1,1,1,1,1,1,2,1,1,1,1,1,3,2,1,2,1,1,1,2,1,1,2,3,3,2,1,1,1,1,4,3,4,3,1,1,4,2,1,2,1,4,10,10,13,14,8,7,5,5,2,3,1,1,1,1,1,1,2,1,2,1,1,1,1,2,1,1,1,2,6,3,2,1,1,1,1,1,3,1,1,1,1,4,1,1,1,4,1,1,1,1,2,1,2,1,4,3,12,17,17,8,2,2,3,1,1,1,1,2,1,1,1,1,1,3,2,1,1,2,2,1,1,1,1,1,1,2,2,4,3,1,1,4,2,2,3,4,1,2,1,1,1,1,1,1,1,1,1,1,1,1,1,6,6,11,12,8,9,9,7,2,2,1,1,1,2,1,2,2,4,1,1,1,2,3,2,1,1,5,4,3,2,1,1,1,1,1,2,1,1,4,1,1,1,3,2,3,6,3,2,1,1,3,6,7,22,7,6,6,2,1,1,1,2,1,2,3,1,1,2,1,1,2,1,1,1,1,1,1,1,2,3,2,3,2,2,3,1,1,1,2,1,3,1,1,2,3,1,1,1,1,1,3,1,1,1,1,1,1,1,1,1,1,4,8,9,9,18,5,6,4,2,4,1,1,1,1,1,2,1,1,1,1,1,1,2,1,1,1,1,1,1,2,1,3,1,1,1,1,1,5,6,1,2,1,1,1,1,3,2,2,1,2,3,16,11,7,9,8,4,1,1,1,1,2,1,1,2,1,1,3,1,1,4,1,1,2,1,1,2,1,1,2,1,1,4,1,2,1,2,1,1,1,1,1,1,2,1,4,7,7,6,8,10,6,4,1,3,2,1,1,1,1,3,3,3,1,1,1,5,1,2,1,1,1,1,1,2,1,4,1,1,3,1,1,1,1,1,1,2,1,1,2,2,1,3,1,2,5,9,10,7,4,3,4,1,1,1,1,1,1,1,1,5,2,1,1,1,1,1,2,1,2,1,1,1,1,3,1,2,1,1,2,1,2,4,2,2,1,1,2,1,1,3,4,6,4,6,9,5,4,5,1,3,1,1,1,1,1,1,1,1,1,1,1,1,2,2,1,1,1,1,1,2,4,2,1,1,1,1,1,1,3,2,1,1,1,1,1,1,4,4,15,9,14,8,7,2,4,2,1,1,1,1,1,1,1,1,1,1,1,1,1,4,2,1,1,2,1,1,1,1,1,2,2,1,2,3,3,1,1,2,4,4,7,8,5,9,5,5,1,2,1,1,1,1,1,1,1,1,2,1,1,1,2,1,2,1,2,1,1,1,1,2,1,2,1,1,1,3,1,1,1,1,1,1,1,1,1,3,3,6,9,9,9,4,8,2,2,3,1,1,1,1,2,2,4,1,3,1,2,1,2,2,1,1,1,2,2,3,2,1,1,2,1,1,1,4,2,2,1,2,4,5,7,6,7,6,3,4,1,3,1,2,1,3,1,1,1,1,3,2,3,1,2,1,1,1,1,2,1,1,1,2,1,1,1,2,5,1,1,3,1,1,1,2,5,1,7,4,4,4,6,2,2,1,1,1,2,1,1,1,1,1,1,1,2,1,1,1,1,1,1,2,2,2,1,1,1,1,1,1,1,3,1,1,1,1,1,2,1,1,2,1,1,1,4,3,4,8,6,6,3,5,3,2,1,1,1,2,1,1,1,1,1,1,1,3,1,1,2,1,1,2,1,1,1,2,1,2,1,3,4,1,1,1,3,6,6,3,11,4,2,2,2,1,1,1,1,1,1,1,1,1,1,1,1,1,1,1,1,4,2,2,1,2,1,1,1,1,1,2,2,1,1,1,3,2,1,1,2,1,1,1,2,1,1,5,3,3,7,7,1,3,2,2,3,1,1,1,2,2,1,2,1,1,1,1,1,1,1,1,1,1,1,1,1,1,1,2,3,1,2,1,2,1,1,2,1,2,4,4,5,13,3,5,1,3,1,1,3,2,2,2,1,1,1,1,1,1,2,1,1,1,1,1,1,1,1,2,1,1,3,1,1,1,1,4,6,3,7,4,4,6,2,3,1,1,1,1,1,1,1,1,2,2,2,1,1,1,2,1,1,1,1,1,2,2,1,1,1,1,3,1,8,3,2,5,3,6,2,2,2,2,1,2,1,2,1,1,1,1,1,1,1,3,1,1,2,3,1,1,1,1,1,3,1,2,1,3,1,1,1,4,3,4,4,4,7,2,1,1,2,2,1,2,1,2,1,2,1,1,1,1,2,1,1,1,1,1,1,1,1,1,2,1,2,1,1,3,2,1,1,1,1,2,1,1,1,1,2,1,1,8,5,5,1,3,6,4,1,1,1,1,1,1,1,1,1,1,1,1,2,1,2,1,1,1,1,1,1,1,1,1,2,1,1,1,2,2,1,1,1,1,1,1,1,1,1,1,3,4,3,2,5,3,6,4,1,2,1,1,1,1,1,1,1,1,1,1,1,1,1,1,1,1,1,1,1,1,1,1,1,3,8,5,7,3,1,4,4,3,1,2,1,2,1,1,1,2,1,1,1,1,3,1,1,1,1,1,1,2,2,1,1,1,1,1,1,1,1,1,1,1,2,1,2,3,5,9,3,1,1,1,1,1,1,1,1,1,1,1,1,1,1,1,1,1,1,1,2,1,1,2,3,1,1,1,1,1,2,1,2,6,2,3,7,2,2,4,1,1,1,1,2,2,2,1,1,1,1,1,1,1,1,1,1,4,1,6,5,6,3,4,4,1,3,1,1,1,1,1,1,1,1,1,1,1,1,1,1,1,2,1,1,1,1,2,1,1,1,1,1,1,1,1,2,2,4,2,3,1,6,1,1,2,2,1,1,1,1,1,1,1,1,1,1,1,1,1,1,1,1,2,1,1,1,1,1,1,2,1,1,1,3,5,3,7,3,2,3,2,1,1,1,1,1,1,1,1,1,1,1,2,2,1,1,2,1,1,2,1,1,1,1,1,1,1,1,1,1,1,1,1,6,1,8,1,2,3,3,1,1,1,2,1,1,1,1,1,2,2,1,1,3,1,1,1,1,1,1,1,1,1,2,3,1,4,1,5,2,3,2,1,1,1,1,1,1,1,1,1,1,1,1,1,1,1,1,1,2,1,1,1,1,1,1,1,1,1,1,3,1,3,1,3,4,1,1,1,1,1,1,1,1,1,1,1,1,1,1,1,2,1,1,1,2,1,1,2,2,1,2,2,1,1,1,3,1,3,1,1,1,1,1,2,2,2,1,1,1,1,1,1,1,1,1,1,1,2,1,1,1,1,1,1,3,1,1,1,3,3,2,1,1,1,1,1,1,1,1,1,2,1,1,1,1,1,1,1,1,1,1,1,1,1,1,1,1,1,2,3,3,5,7,1,1,3,4,1,1,2,1,1,1,1,1,2,1,1,1,1,3,2,1,1,1,1,3,2,1,1,2,2,1,1,1,1,1,1,1,3,1,1,2,1,1,1,1,1,1,1,2,1,3,3,1,3,1,1,1,1,1,1,1,1,1,2,1,1,1,1,1,1,1,1,2,1,2,2,1,3,1,2,1,2,1,3,1,1,1,1,1,1,1,1,1,1,4,3,1,1,2,2,1,2,1,2,2,1,1,2,1,1,1,1,2,1,2,3,3,1,1,2,1,1,1,1,1,1,1,1,1,1,1,2,1,1,2,2,1,2,2,2,1,1,1,1,1,1,1,1,1,1,1,1,1,1,1,1,1,1,1,2,1,5,1,1,1,3,1,1,1,1,1,1,1,1,1,1,1,1,1,1,1,1,1,1,1,2,1,4,1,2,1,1,2,1,1,1,1,1,1,1,1,1,1,1,1,1,2,2,1,2,2,1,1,1,1,1,1,1,1,1,1,1,1,1,1,1,1,1,1,2,1,1,4,2,1,1,1,1,1,1,1,1,1,1,1,1,1,2,1,5,1,2,1,1,1,1,1,1,1,1,1,1,1,1,2,1,1,1,1,1,1,3,2,1,1,1,1,1,1,1,1,1,1,2,1,1,2,2,1,2,1,1,1,1,1,1,1,1,2,2,1,1,1,3,1,2,2,1,1,1,1,1,1,1,1,1,1,1,1,1,1,1,1,1,2,2,2,3,2,1,1,1,1,1,1,1,1,2,1,1,1,1,1,2,2,1,2,1,1,1,1,1,1,1,1,1,1,1,1,1,1,4,2,1,2,1,1,1,1,1,2,1,1,2,1,1,1,1,1,1,2,2,1,3,2,1,1,1,1,1,1,1,1,1,1,1,1,1,1,1,1,2,1,2,1,1,1,1,1,1,1,1,2,1,1,1,1,1,1,1,1,2,1,1,1,2,1,1,2,1,1,1,2,1,1,1,1,1,1,1,2,1,1,3,1,1,1,1,1,1,1,1,1,1,1,1,4,2,2,2,1,1,1,1,2,1,1,1,1,1,2,1,2,1,1,2,1,1,1,1,2,1,1,1,1,1,1,3,1,2,1,1,1,1,1,1,1,1,1,1,1,1,1,1,2,1,2,2,1,1,1,1,1,1,1,1,1,1,1,1,2,2,2,1,1,1,1,2,1,2,1,1,1,1,1,1,1,1,2,1,1,1,1,1,1,1,1,1,1,1,1,1,1,1,2,1,2,1,1,1,1,1,1,2,1,1,2,1,1,1,1,1,1,1,1,1,1,4,2,1,1,1,1,1,1,1,1,1,1,1,1,1,1,1,1,1,1,1,1,1,1,1,1,1,2,1,1,1,2,1,1,1,1,1,1,1,1,1,3,1,2,2,1,1,1,1,1,1,1,1,1,1,1,1,1,1,1,1,1,1,1,1,1,1,1,2,1,1,1,1,1,1,1,1,2,2,1,1,1,1,1,1,1,1,1,1,1,1,1,1,1,1,1,1,2,1,1,1,1,1,1,1,1,1,1,1,1,1,1,1,1,1,1,1,1,1,1,1,1,1,2,1,3,1,1,1,1,1,1,1,1,1,2,1,1,3,1,1,1,1,1,1,1,1,1,1,1,1,1,1,1,1,1,1,1,1,1,1,1,1,1,1,1,1,1,1,1,1,1,1,1,1,1,1,1,1,1,1,1,1,1,1,1,1,1,1,1,1,1,1,1,1,1,1,1,1,1,1,1,1,1,1,1,1,1,1,2,2,1,1,1,1,2,1,1,1,1,1,1,1,1,1,1,1,1,1,1,1,1,1,1,1,1,1,2,1,1,1,1,1,1,1,2,1,1,1,1,1,1,1,1,1,1,1,1,1,1,1,1,1,1,1,1,1,1,1,1,1,1,1,1,1,1,1,1,1,1,1,1,1,2,1,1,1,1,1,1,1,1,1,1,1,1,1,1,1,1,1,1,1,1,1,1,1,1,1,1,1,1,1,1,1,1,1,1,1,1,1,1,1,1,1,1,1,1,1,1,1,1,1,1,1,1,1,1,1,1,1,1,1,1,1,1,1,1,1,1,1,1,1,1,1,1,1,1,1,2,1,1,1,1,1,1,1,1,1,1,1,2,1,1,1,1,1,2,1,1,2,1,1,1,1,1,3,2,1,2,1,2,2,3,1,3,1,2,3,1,1,1,3,1,1,1,1,2,1,3,1,1,1,1,1,1,1,1,1,1,1,1,1,1,1,1,1,3,1,1,1,1,1,2,1,2,1,1,1,1,1,2,1,1,2,1,1,2,1,1,2,2,1,1,1,3,1,1,1,2,1,1,1,1,2,1,1,1,1,1,1,1,1,1,1,1,1,1,1,1,1,1,1,1,1,1,1,1,1,1,1,1,1,1,1,1,1,1,2,1,1,1,1,1,1,1,1,1,1,1,1,1,1,1,1,1,1,1,1,1,1,1,1,1,1,1,1,1,1,1,1],\"x\":[0,0,0,0,0,0,0,0,0,0,0,0,0,0,0,0,0,0,0,0,0,0,0,0,0,0,0,0,0,0,0,0,0,0,0,0,0,0,0,0,0,0,0,0,0,0,0,0,0,0,0,0,0,0,0,0,0,0,0,0,1,2,2,3,3,4,4,4,5,5,6,7,7,7,7,9,9,11,11,12,12,13,13,14,14,14,15,15,15,15,15,16,17,17,18,18,19,19,19,20,20,20,21,22,22,22,22,22,22,24,24,24,24,24,25,25,25,25,26,26,26,27,27,27,28,28,28,29,29,29,30,30,30,30,30,30,31,31,31,32,32,32,32,32,32,32,32,32,32,33,33,33,34,34,34,34,34,35,35,35,35,36,36,36,37,37,37,37,38,38,38,39,39,39,39,39,40,40,40,40,40,40,40,40,40,41,41,41,41,41,42,42,42,42,43,43,43,43,44,44,44,44,45,45,45,45,46,46,46,46,46,46,48,48,48,48,49,49,49,49,49,49,49,49,49,49,49,50,50,50,50,51,51,51,51,52,52,52,52,52,52,53,53,53,53,53,53,54,54,54,54,54,55,55,55,55,55,55,56,56,56,56,56,56,57,57,57,57,57,57,57,57,57,58,58,58,58,58,59,59,59,59,59,59,59,60,60,60,60,60,60,60,61,61,61,61,61,62,62,62,62,62,62,63,63,63,63,63,63,64,64,64,64,64,65,65,65,65,65,65,65,66,66,66,66,66,66,66,66,66,66,67,67,67,67,67,68,68,68,68,68,69,69,69,69,69,69,70,70,70,70,71,71,71,71,71,71,72,72,72,72,72,72,72,73,73,73,73,73,73,74,74,74,74,74,74,74,74,74,75,75,75,75,75,75,76,76,76,76,76,76,76,76,77,77,77,77,77,77,77,78,78,78,78,78,78,79,79,79,79,79,79,79,80,80,80,80,80,81,81,81,81,81,81,82,82,82,82,82,82,82,82,82,83,83,83,83,83,84,84,84,84,84,84,85,85,85,85,85,85,85,86,86,86,86,86,87,87,87,87,87,87,87,88,88,88,88,88,88,88,88,89,89,89,89,89,89,90,90,90,90,90,90,91,91,91,91,91,91,91,91,91,91,91,92,92,92,92,92,92,93,93,93,93,93,93,93,94,94,94,94,94,94,94,94,95,95,95,95,95,95,95,97,97,97,97,97,97,97,98,98,98,98,98,98,98,99,99,99,99,99,99,99,99,99,99,100,100,100,100,100,100,101,101,101,101,101,101,102,102,102,102,102,102,102,103,103,103,103,103,103,103,103,104,104,104,104,104,104,104,105,105,105,105,105,105,106,106,106,106,106,106,106,107,107,107,107,108,108,108,108,108,108,108,108,108,108,109,109,109,109,109,109,109,109,110,110,110,110,110,110,110,110,111,111,111,111,111,111,111,111,111,112,112,112,112,112,112,113,113,113,113,113,113,114,114,114,114,114,114,114,115,115,115,115,115,115,116,116,116,116,116,116,116,116,116,117,117,117,117,117,118,118,118,118,118,118,118,119,119,119,119,119,119,119,119,119,119,120,120,120,120,120,120,120,121,121,121,121,121,121,121,122,122,122,122,122,123,123,123,123,123,123,123,123,123,124,124,124,124,124,124,124,124,124,124,125,125,125,125,125,126,126,126,126,126,126,126,127,127,127,127,127,127,127,128,128,128,128,128,128,128,128,129,129,129,129,129,129,129,129,130,130,130,130,130,130,130,131,131,131,131,131,131,131,131,132,132,132,132,132,132,132,132,133,133,133,133,133,133,133,133,133,133,133,134,134,134,134,134,134,134,134,134,135,135,135,135,135,135,135,136,136,136,136,136,137,137,137,137,137,137,137,138,138,138,138,138,139,139,139,139,139,139,139,140,140,140,140,140,140,140,140,140,141,141,141,141,141,141,141,141,141,141,141,142,142,142,142,142,142,142,142,143,143,143,143,143,143,143,144,144,144,144,144,144,144,144,145,145,145,145,145,145,145,146,146,146,146,146,146,147,147,147,147,147,147,147,147,148,148,148,148,148,148,148,148,149,149,149,149,149,149,150,150,150,150,150,150,150,150,150,150,150,150,151,151,151,151,151,151,151,152,152,152,152,152,152,152,152,153,153,153,153,153,153,153,154,154,154,154,154,155,155,155,155,155,156,156,156,156,156,156,156,156,156,157,157,157,157,157,158,158,158,158,158,158,158,158,158,158,158,158,158,159,159,159,159,159,159,160,160,160,160,160,160,161,161,161,161,161,161,161,161,161,162,162,162,162,162,162,162,162,163,163,163,163,163,163,163,164,164,164,164,164,164,165,165,165,165,166,166,166,166,166,166,166,166,166,166,166,168,168,168,168,168,168,168,168,168,170,170,170,170,170,170,170,172,172,172,172,172,172,172,173,173,173,173,173,173,173,173,173,174,174,174,174,174,175,175,175,175,175,175,175,175,175,175,175,176,176,176,176,176,176,177,177,177,177,177,177,177,178,178,178,178,178,178,178,178,179,179,179,179,179,179,179,180,180,180,180,180,181,181,181,181,181,181,182,182,182,182,182,182,182,183,183,183,183,183,183,183,183,183,183,183,184,184,184,184,184,184,185,185,185,185,185,185,185,185,185,186,186,186,186,186,186,186,186,186,187,187,187,187,187,187,187,187,187,189,189,189,189,189,189,189,191,191,191,191,191,191,191,191,191,191,191,191,191,191,192,192,192,192,192,192,194,194,194,194,194,194,194,195,195,195,195,196,196,196,196,196,197,197,197,197,197,197,197,198,198,198,198,198,198,198,198,198,199,199,199,199,199,199,200,200,200,200,200,200,200,200,200,200,200,200,201,201,201,201,201,201,202,202,202,202,202,202,202,203,203,203,203,203,203,203,204,204,204,204,204,204,204,204,205,205,205,205,205,205,205,205,206,206,206,206,206,206,206,207,207,207,207,207,207,207,207,207,208,208,208,208,208,208,208,208,208,208,208,208,210,210,210,210,210,210,210,212,212,212,212,212,212,212,212,213,213,213,213,213,213,213,213,214,214,214,214,214,214,214,215,215,215,215,215,216,216,216,216,216,216,216,217,217,217,217,217,217,217,217,217,217,217,217,217,218,218,218,218,218,218,219,219,219,219,219,219,219,219,219,219,220,220,220,220,220,220,220,221,221,221,221,221,222,222,222,222,222,222,222,223,223,223,223,224,224,224,224,224,224,224,224,224,225,225,225,225,225,225,225,225,225,225,225,225,226,226,226,226,226,226,227,227,227,227,227,227,228,228,228,228,228,229,229,229,229,229,229,229,229,230,230,230,230,230,230,231,231,231,231,231,231,231,231,231,232,232,232,232,232,232,233,233,233,233,233,234,234,234,234,234,234,234,234,234,234,234,234,234,234,235,235,235,235,235,235,235,235,236,236,236,236,236,236,236,237,237,237,237,238,238,238,238,238,239,239,239,239,239,240,240,240,240,240,240,240,240,240,241,241,241,241,241,241,242,242,242,242,242,242,242,242,242,242,242,242,243,243,243,243,243,243,244,244,244,244,244,244,245,245,245,245,245,245,245,245,245,246,246,246,246,246,246,247,247,247,247,247,247,248,248,248,248,249,249,249,249,250,250,250,250,250,250,250,250,250,250,250,251,251,251,251,252,252,252,252,252,252,253,253,253,253,253,253,253,254,254,254,254,255,255,255,255,255,255,256,256,256,256,256,256,257,257,257,257,257,257,257,257,258,258,258,258,258,258,258,259,259,259,259,259,259,259,259,259,259,259,259,259,259,260,260,260,260,260,261,261,261,261,261,261,261,262,262,262,262,262,262,262,263,263,263,263,263,263,263,263,264,264,264,264,265,265,265,265,265,265,265,265,266,266,266,266,266,266,267,267,267,267,267,267,267,267,267,267,267,267,267,267,267,268,268,268,269,269,269,269,270,270,270,270,270,270,270,271,271,271,271,271,271,271,272,272,272,272,272,272,272,273,273,273,273,273,273,273,274,274,274,274,275,275,275,275,275,275,275,275,276,276,276,276,276,276,276,276,276,276,276,276,276,277,277,277,277,277,277,277,278,278,278,278,278,278,278,279,279,279,279,279,279,279,280,280,280,280,280,281,281,281,281,281,282,282,282,282,282,282,282,282,282,283,283,283,283,284,284,284,284,284,284,284,284,284,284,284,284,284,284,285,285,285,285,285,285,285,285,285,285,286,286,286,286,287,287,287,287,287,287,287,288,288,288,288,288,288,288,289,289,289,289,289,290,290,290,290,290,291,291,291,292,292,292,292,292,292,292,292,292,292,292,292,292,293,293,293,293,294,294,294,294,294,294,295,295,295,295,295,295,295,295,296,296,296,296,296,296,296,297,297,297,297,297,297,297,297,297,298,298,298,298,298,299,300,300,300,300,301,301,301,301,301,301,301,301,301,301,301,301,301,302,302,302,302,303,303,303,303,304,304,304,304,304,305,305,305,305,305,305,305,305,306,306,306,306,307,307,307,307,308,308,308,308,308,308,308,308,308,309,309,309,309,309,309,309,309,309,309,309,310,310,310,310,310,310,310,311,311,311,311,311,311,311,312,312,312,312,312,313,313,313,313,313,313,314,314,314,314,314,315,315,315,315,315,315,315,316,316,316,316,316,316,316,316,316,317,317,317,317,318,318,318,318,318,318,318,318,318,318,318,319,319,319,319,319,319,319,319,320,321,321,321,321,322,322,322,322,322,322,323,323,323,323,324,324,324,324,324,324,324,324,325,325,325,325,325,325,326,326,326,326,326,326,326,326,326,326,326,326,326,327,327,327,328,328,329,329,329,329,329,329,329,329,329,330,330,330,330,331,331,331,331,331,332,332,332,332,332,332,332,333,333,333,333,334,334,334,334,334,334,334,334,334,334,334,334,334,334,335,335,335,335,335,335,335,337,337,337,337,338,338,338,338,339,339,339,339,339,339,339,339,340,340,340,340,340,340,340,341,341,341,341,342,342,342,342,342,342,342,342,342,342,342,344,344,344,345,345,345,345,345,345,345,345,347,347,347,347,347,347,348,348,348,348,348,348,349,349,349,349,350,350,350,350,350,350,350,350,351,351,351,351,351,351,351,351,351,351,351,351,351,352,352,352,352,353,353,353,353,353,354,354,354,355,355,355,355,355,356,356,356,356,356,356,356,356,356,358,358,358,359,359,359,359,359,359,360,360,360,360,360,360,360,360,360,360,360,360,360,361,361,361,361,361,362,362,362,363,363,363,363,363,363,363,363,363,365,365,365,365,365,365,366,366,366,366,366,368,368,368,368,368,368,368,368,368,368,368,368,368,369,369,369,369,369,369,370,370,370,370,370,371,371,371,371,371,371,371,371,372,372,372,373,373,373,373,373,374,374,374,374,374,375,375,375,376,376,376,376,376,376,376,376,376,376,376,376,376,376,377,377,377,377,377,379,379,379,379,380,380,380,380,381,381,381,381,381,382,382,382,382,382,382,383,383,383,384,384,384,384,384,384,384,384,384,384,384,384,384,384,386,386,386,386,387,387,387,387,387,387,387,387,389,390,390,390,390,390,390,391,391,391,391,392,392,392,392,392,392,392,392,393,393,393,393,393,393,393,393,393,393,393,394,394,394,394,395,395,395,395,395,396,396,396,396,396,396,397,397,397,397,397,397,397,397,397,398,398,398,398,398,398,398,398,400,400,400,401,401,401,402,402,402,402,402,402,402,402,402,402,402,402,402,402,402,403,403,403,403,403,404,404,405,405,405,405,405,405,407,407,407,407,407,407,407,407,408,408,408,408,408,410,410,410,410,410,410,410,410,410,410,410,410,410,410,411,411,411,411,411,411,412,412,412,412,413,413,413,413,413,413,413,413,413,414,414,415,415,415,415,415,416,416,416,416,416,416,416,417,417,417,417,418,418,418,418,418,418,418,418,418,418,418,418,418,418,419,419,419,419,419,419,421,421,421,421,421,422,422,422,423,423,423,423,423,423,423,423,424,424,424,424,424,425,426,426,426,426,426,426,426,426,426,426,426,428,428,428,428,429,430,430,430,430,430,430,431,431,432,432,432,433,433,433,433,434,434,434,434,434,434,434,435,435,435,435,435,435,435,435,435,435,435,436,436,436,437,437,437,437,438,438,438,438,439,439,439,439,440,440,441,441,441,441,441,443,443,443,444,444,444,444,444,444,444,444,444,444,444,444,444,444,445,445,445,446,446,447,447,448,448,448,449,449,449,449,449,449,449,449,450,450,450,450,451,451,451,451,452,452,452,452,452,452,452,452,452,452,452,452,452,452,452,452,453,453,453,454,454,455,455,455,455,455,455,455,455,456,456,456,456,456,456,456,456,457,457,457,457,458,458,458,458,458,459,459,459,459,460,460,460,460,460,460,460,460,460,460,460,460,460,460,461,461,461,462,462,462,462,462,462,462,463,463,463,464,464,464,464,465,465,465,465,465,466,466,466,466,466,466,467,467,467,468,468,469,469,469,469,469,469,469,469,469,469,469,469,469,470,470,470,470,470,471,471,472,472,472,472,472,472,473,473,474,475,475,475,476,476,477,477,477,477,477,477,477,477,477,477,478,478,478,479,479,479,479,479,479,480,481,481,481,481,481,481,482,482,482,482,482,482,483,483,483,483,484,484,484,484,485,486,486,486,486,486,486,486,486,486,486,486,486,487,487,488,488,489,489,490,490,490,490,490,490,491,491,491,491,491,491,491,491,491,492,492,492,493,493,494,494,494,494,494,494,494,494,494,495,495,496,497,497,497,497,497,498,500,500,500,500,501,501,502,502,502,502,502,502,502,502,502,502,502,502,503,503,503,504,504,504,504,504,505,505,505,505,505,506,506,507,507,507,507,507,507,507,507,507,508,509,510,511,511,511,511,511,511,511,511,511,511,511,511,511,512,512,512,512,513,513,513,513,514,514,514,514,514,515,515,515,515,515,517,517,517,517,518,518,518,519,519,519,519,519,519,519,519,519,519,519,519,519,519,519,520,520,521,522,522,522,522,523,523,523,523,523,524,525,525,525,525,526,526,526,526,527,527,527,527,528,528,528,528,528,528,528,528,528,528,529,529,529,529,529,529,530,530,531,531,532,532,533,533,533,533,534,535,535,535,536,536,536,536,536,536,536,536,536,536,536,536,536,537,537,537,538,538,538,538,538,539,539,539,540,541,541,541,541,542,543,543,543,543,543,544,544,544,544,544,544,544,544,544,544,544,545,546,546,546,546,547,547,547,547,548,548,548,548,550,551,551,551,552,552,552,553,553,553,553,553,553,553,553,553,553,553,553,553,554,554,554,554,554,554,554,555,555,555,556,556,557,557,558,558,558,558,559,559,559,560,560,561,561,561,561,561,561,561,561,561,561,561,562,563,563,564,564,565,565,565,565,565,566,566,566,566,566,567,567,567,568,569,569,569,569,570,570,570,570,570,570,570,570,570,570,571,571,572,572,572,572,572,572,574,575,575,575,575,576,576,576,577,577,577,578,578,578,578,578,578,578,578,578,579,580,580,580,580,580,580,580,580,581,581,581,583,584,584,585,586,586,586,586,586,586,586,586,586,587,590,590,591,591,591,591,592,592,592,594,594,595,595,595,595,595,595,595,595,595,595,596,596,596,598,599,599,599,600,601,601,601,602,603,603,603,603,603,603,603,603,603,603,603,604,605,606,606,607,607,607,609,609,612,612,612,612,612,612,612,612,612,612,613,614,615,616,616,616,617,618,619,619,619,620,620,620,620,620,620,620,620,620,620,620,621,621,622,622,623,623,623,623,623,625,626,626,627,627,628,628,628,628,628,628,628,628,628,628,630,630,632,632,632,633,634,634,635,636,636,636,637,637,637,637,637,637,637,637,637,637,638,638,638,638,638,638,639,639,639,641,642,642,643,643,643,644,645,645,645,645,645,645,645,645,646,647,647,648,648,648,649,649,649,649,651,652,652,654,654,654,654,654,654,654,654,654,654,654,655,657,657,657,658,659,659,662,662,662,662,662,662,662,662,662,662,662,664,664,664,664,665,665,666,667,667,667,667,670,670,670,670,670,670,670,670,670,672,672,672,672,673,675,676,679,679,679,679,679,679,679,679,680,680,681,682,683,685,686,686,686,686,686,686,686,686,686,686,688,690,691,691,691,691,691,692,692,693,693,693,693,694,696,696,696,696,696,696,696,696,696,696,696,697,698,698,698,698,699,699,701,701,702,704,704,704,704,704,704,704,704,704,704,705,705,705,706,707,710,711,711,712,712,712,712,712,712,712,713,713,714,714,714,714,717,717,717,720,721,721,721,721,721,721,721,721,721,722,722,723,724,724,724,724,726,726,727,727,728,728,728,728,728,728,728,728,728,728,730,731,731,731,732,732,732,732,735,735,735,736,736,736,738,738,738,738,738,738,738,738,738,740,741,742,742,743,743,744,744,744,746,746,746,746,746,746,746,747,747,748,748,749,749,749,752,752,753,754,754,754,754,754,754,756,756,756,757,757,759,760,761,763,763,763,763,763,763,763,763,764,766,767,768,769,769,770,770,770,770,770,770,772,773,774,774,774,774,774,776,777,777,777,777,778,778,778,780,780,780,780,780,782,783,783,784,784,785,785,785,786,788,788,788,788,788,789,790,791,793,796,796,796,797,798,798,798,798,799,801,801,803,805,805,805,805,805,805,805,806,807,810,811,811,811,812,812,812,812,812,817,819,819,820,822,822,822,822,822,822,823,824,825,826,828,828,828,830,830,830,830,830,830,830,830,831,831,832,833,835,837,837,837,838,838,838,838,838,838,839,840,843,843,843,844,847,847,847,850,853,854,854,856,857,857,858,858,859,859,862,864,864,864,864,866,866,869,869,869,869,871,871,872,872,872,872,872,872,872,872,872,873,874,874,876,876,880,880,880,882,882,886,887,888,889,889,889,889,889,890,890,893,894,895,895,895,896,897,897,897,897,899,899,900,900,902,905,905,905,906,906,906,907,907,907,907,907,909,910,913,913,914,914,914,914,914,915,915,916,917,917,918,922,922,922,922,922,922,924,924,924,927,928,931,931,937,937,939,939,939,939,939,940,941,943,943,945,947,947,947,947,947,949,949,953,956,956,961,963,964,964,964,965,966,968,968,969,970,972,973,973,974,974,974,975,978,978,981,981,981,981,983,983,987,989,989,989,994,995,998,998,999,1000,1001,1005,1005,1006,1009,1010,1015,1015,1015,1016,1016,1017,1017,1021,1021,1023,1023,1027,1028,1029,1031,1031,1031,1031,1031,1031,1040,1047,1047,1048,1048,1048,1048,1049,1049,1053,1057,1058,1062,1062,1062,1063,1063,1065,1065,1065,1065,1068,1069,1072,1073,1073,1073,1084,1084,1086,1087,1090,1090,1091,1099,1100,1102,1103,1104,1107,1107,1107,1107,1107,1113,1115,1115,1116,1118,1122,1124,1124,1130,1131,1132,1141,1149,1151,1155,1157,1157,1157,1165,1166,1167,1174,1174,1174,1174,1182,1183,1183,1183,1184,1186,1189,1191,1208,1208,1214,1216,1225,1225,1230,1233,1233,1233,1236,1241,1241,1241,1245,1246,1250,1250,1257,1258,1258,1266,1267,1268,1272,1275,1278,1288,1288,1292,1292,1295,1297,1300,1304,1309,1309,1317,1317,1325,1325,1325,1334,1346,1351,1353,1357,1359,1367,1367,1367,1380,1384,1384,1384,1384,1386,1387,1388,1393,1393,1393,1394,1396,1399,1401,1401,1403,1403,1403,1409,1417,1419,1424,1424,1426,1426,1435,1440,1443,1443,1445,1447,1451,1451,1453,1456,1459,1468,1472,1477,1477,1480,1483,1485,1491,1493,1495,1501,1506,1508,1510,1514,1518,1519,1519,1520,1524,1527,1527,1529,1532,1535,1535,1540,1540,1542,1543,1543,1545,1547,1548,1552,1556,1561,1570,1574,1574,1576,1577,1577,1583,1585,1585,1587,1590,1592,1597,1597,1600,1602,1603,1606,1606,1611,1611,1618,1619,1623,1624,1627,1631,1634,1636,1637,1637,1640,1642,1645,1645,1645,1667,1669,1673,1678,1678,1678,1687,1687,1688,1690,1695,1699,1702,1703,1708,1711,1711,1723,1726,1729,1730,1737,1743,1747,1754,1755,1757,1760,1762,1762,1770,1770,1770,1772,1776,1779,1785,1786,1791,1796,1804,1812,1841,1842,1845,1871,1871,1871,1888,1900,1936,1938,1955,1955,2079,2098,2154,2266,2270,2291,2401,2436,2476,2493,2493,2556,2669,2832,2871,3274,3394,3945,3999],\"y\":[0,17,21,25,28,32,36,43,49,51,56,58,62,64,66,68,72,73,76,81,82,83,88,92,99,109,111,126,133,148,152,170,197,218,223,236,247,298,313,335,372,387,440,447,481,501,514,522,543,597,649,686,859,896,926,982,1120,1494,2503,3999,103,17,21,0,17,0,17,21,21,25,21,17,21,25,387,21,25,17,55,0,21,21,25,21,25,28,21,25,28,32,40,21,21,25,28,32,21,25,32,0,21,25,28,21,25,28,36,47,2241,21,25,28,32,148,21,25,28,36,21,25,28,21,25,28,25,28,32,21,25,28,21,25,28,32,36,47,25,28,32,0,17,21,25,28,32,36,40,62,73,25,28,36,0,25,28,32,36,25,28,32,62,25,28,32,25,28,32,36,25,28,32,25,28,32,40,43,17,25,28,32,36,40,43,47,73,25,28,32,36,40,25,28,32,36,25,28,32,40,25,28,32,36,25,28,32,36,0,25,28,32,36,40,28,32,36,43,17,25,28,32,36,40,43,47,51,58,81,28,32,36,40,28,32,36,40,28,32,36,40,47,51,0,28,32,36,40,55,28,32,36,40,43,28,32,36,40,43,47,28,32,36,40,43,55,17,28,32,36,40,43,47,51,55,28,32,36,40,43,0,28,32,36,40,43,47,28,32,36,40,43,47,58,28,32,36,40,43,28,32,36,40,43,47,28,32,36,40,43,47,28,32,36,40,47,28,32,36,40,43,47,55,17,28,32,36,40,43,47,51,55,70,32,36,40,43,47,36,40,43,47,51,32,36,40,43,47,58,32,36,40,43,32,36,40,43,47,55,32,36,40,43,47,51,55,32,36,40,43,47,58,32,36,40,43,47,51,55,58,62,32,36,40,43,47,51,0,32,36,40,43,47,51,55,32,36,40,43,47,51,55,32,36,40,43,47,55,32,36,40,43,47,51,55,36,40,43,47,51,0,36,40,43,47,51,32,36,40,43,47,51,55,58,62,36,40,43,47,51,36,40,43,47,51,55,36,40,43,47,51,55,62,36,40,43,47,51,36,40,43,47,51,55,107,36,40,43,47,51,55,58,62,36,40,43,47,51,55,36,40,43,47,51,62,17,36,40,43,47,51,55,58,62,66,70,36,40,43,47,51,55,36,40,43,47,51,55,66,36,40,43,47,51,55,58,62,36,40,43,47,51,55,58,40,43,47,51,55,62,66,40,43,47,51,55,58,62,17,40,43,47,51,55,58,62,66,73,40,43,47,51,55,58,40,43,47,51,55,58,40,43,47,51,55,58,62,40,43,47,51,55,58,62,70,40,43,47,51,55,58,66,43,47,51,55,58,62,40,43,47,51,55,58,66,43,47,51,55,0,40,43,47,51,55,58,62,66,70,43,47,51,55,58,62,66,73,40,43,47,51,55,58,62,66,40,43,47,51,55,58,62,66,70,40,43,47,51,55,58,43,47,51,55,58,62,43,47,51,55,58,62,66,47,51,55,58,62,70,43,47,51,55,58,62,66,70,372,47,51,55,58,62,47,51,55,58,62,66,70,43,47,51,55,58,62,66,70,73,84,43,47,51,55,58,62,66,43,47,51,55,58,62,66,47,51,55,58,62,43,47,51,55,58,62,66,73,77,43,47,51,55,58,62,66,70,73,88,47,51,55,58,62,43,47,51,55,58,62,73,43,51,55,58,62,66,70,43,47,51,55,58,62,66,70,47,51,55,58,62,66,70,88,47,51,55,58,62,70,73,47,51,55,58,62,66,70,77,51,55,58,62,66,70,73,88,43,47,51,55,58,62,66,70,73,77,84,47,51,55,58,62,70,73,77,81,47,51,55,58,62,66,77,51,55,58,62,66,47,51,55,58,62,66,70,51,55,58,62,66,47,51,55,58,62,66,70,47,51,55,58,62,66,70,73,84,47,51,55,58,62,66,70,73,77,81,92,51,55,58,62,66,84,387,440,51,55,58,62,66,70,81,51,55,58,62,66,70,81,99,51,55,58,62,66,70,73,51,55,58,62,66,70,51,55,58,62,66,70,81,84,51,55,58,62,66,70,73,77,47,55,58,62,66,70,51,55,58,62,66,70,73,77,81,84,92,99,55,58,62,66,70,73,77,51,55,58,62,66,70,73,77,55,58,62,66,70,73,77,58,62,66,73,77,55,58,62,70,81,51,55,58,62,66,70,73,77,92,51,55,66,70,73,17,51,55,58,62,66,70,73,77,81,84,96,107,55,58,62,66,70,73,55,58,62,66,70,73,51,55,58,62,66,70,73,77,81,55,58,62,66,70,73,77,88,58,62,66,70,73,81,84,55,62,66,70,73,84,62,66,70,73,55,58,62,66,70,73,77,81,84,96,99,55,58,62,66,70,73,77,81,84,55,58,62,66,70,73,77,58,62,66,70,73,77,81,55,58,62,66,70,73,77,84,96,66,70,73,77,81,55,58,62,66,70,73,77,81,84,88,92,62,66,70,73,77,88,58,62,66,70,73,77,84,58,62,66,70,73,81,84,88,62,66,70,73,77,81,84,58,62,66,70,73,58,62,66,70,73,81,58,62,66,70,73,77,81,58,62,66,70,73,77,81,84,88,92,107,62,66,70,81,84,88,58,66,70,73,77,81,88,92,99,62,66,70,73,77,81,84,88,103,58,62,66,70,73,77,81,84,96,62,66,70,73,77,81,84,58,62,66,70,73,77,81,84,88,92,96,99,107,111,62,66,70,73,77,81,62,70,73,77,81,88,92,70,77,81,92,66,70,73,84,88,58,62,66,70,73,77,81,58,62,66,70,73,77,81,84,99,66,70,73,77,81,96,62,66,70,73,77,81,84,88,92,96,99,111,62,70,73,77,84,99,66,70,73,77,81,84,88,66,70,73,77,81,84,88,66,70,73,77,81,84,88,92,62,70,73,77,81,84,92,96,62,70,73,77,81,88,96,66,70,73,77,81,84,88,92,99,62,66,70,73,77,81,84,88,92,96,99,103,70,73,77,81,84,88,99,62,66,70,73,77,81,84,88,70,73,77,81,84,88,92,96,70,73,77,81,84,92,96,70,73,77,81,84,73,77,81,84,88,92,96,66,70,73,77,81,84,88,92,96,99,103,126,129,73,77,81,84,88,92,66,70,73,77,81,84,88,92,96,103,66,70,73,77,81,88,92,77,81,84,88,92,66,73,77,81,84,88,92,77,81,84,88,66,70,73,77,81,84,88,92,111,66,70,73,77,81,84,88,92,96,99,107,111,73,77,81,84,88,96,73,77,81,84,92,96,73,77,81,84,96,73,77,81,84,88,92,99,387,77,81,88,92,96,107,70,73,77,81,84,92,99,103,118,73,77,81,84,92,96,77,81,84,88,92,17,70,73,77,81,84,88,92,96,99,103,107,114,133,73,77,81,84,88,92,96,111,70,73,81,84,88,92,96,81,84,96,103,73,81,84,88,96,73,77,81,88,92,73,77,81,84,88,92,96,99,103,73,77,81,84,88,99,73,77,81,84,88,92,96,99,103,107,111,114,77,81,84,88,92,99,77,81,84,88,92,137,70,73,81,84,88,92,96,107,122,73,81,84,88,103,122,70,73,77,81,84,88,84,88,92,107,84,88,92,96,73,77,81,84,88,92,96,99,103,107,114,81,84,88,96,73,81,84,88,92,99,81,84,88,92,96,99,103,84,92,96,107,81,84,88,92,96,99,73,81,84,88,92,96,77,84,88,92,99,118,122,167,77,84,88,92,96,99,103,77,81,84,88,92,96,99,103,107,114,118,133,144,365,77,81,84,88,92,81,84,88,92,96,99,103,73,77,81,84,92,99,103,81,84,88,92,96,103,114,118,84,88,92,387,77,84,88,92,96,99,103,107,84,88,92,96,99,103,77,81,84,88,92,96,99,103,107,111,114,118,122,126,533,88,96,99,88,92,96,99,77,81,92,96,99,103,107,77,84,88,92,99,103,118,84,88,92,96,99,103,111,81,88,92,96,103,107,111,92,96,103,111,77,84,88,92,96,99,103,107,77,81,84,88,92,96,99,103,107,111,114,118,133,81,84,88,96,99,111,129,81,88,92,96,99,103,122,84,92,99,103,114,122,126,84,96,107,114,126,92,96,99,103,107,84,88,92,96,99,103,107,111,114,88,92,96,99,81,84,88,92,96,99,103,107,111,114,118,122,126,447,81,84,88,92,96,99,103,107,114,447,81,99,107,114,84,88,92,99,103,114,118,0,84,88,99,103,107,122,92,99,103,107,111,96,99,103,107,111,92,99,111,81,88,92,96,99,103,107,111,118,126,133,167,298,88,96,99,114,88,92,96,99,103,111,81,96,99,107,111,118,122,126,88,92,96,99,103,107,111,92,96,99,103,107,114,118,152,522,92,99,103,107,111,92,99,103,107,118,84,88,92,96,99,103,107,111,114,118,122,126,372,96,99,103,107,88,99,107,114,92,99,103,107,122,84,92,103,107,111,118,159,372,92,107,118,122,88,99,103,107,92,96,103,107,111,114,118,122,126,92,96,99,103,107,111,118,122,126,141,447,96,99,103,107,114,118,122,99,103,111,114,118,122,219,88,92,99,103,111,96,99,107,111,114,122,96,99,103,107,111,96,99,103,107,114,126,129,88,92,96,99,103,111,118,129,144,96,99,111,114,92,96,99,103,107,111,114,118,122,126,129,88,92,96,103,107,111,114,118,103,92,96,99,118,92,96,107,111,114,122,107,111,122,126,96,99,103,107,111,122,126,129,88,92,99,103,111,114,92,96,99,103,107,111,114,118,122,126,129,152,357,111,114,118,103,114,92,96,99,103,107,111,114,122,129,92,107,118,126,99,107,111,114,122,96,99,103,114,118,122,129,103,107,114,141,96,99,103,107,111,114,118,122,126,129,133,137,167,447,103,107,111,114,118,129,144,111,114,122,137,107,111,118,122,99,103,107,111,114,118,122,133,92,103,107,111,122,126,137,107,111,114,118,96,99,103,107,111,114,118,122,126,148,372,107,118,122,96,99,107,111,114,126,141,152,96,103,114,118,122,133,99,103,107,111,114,118,96,107,111,126,92,111,114,118,122,126,129,148,96,99,103,107,111,114,118,122,126,129,133,137,144,99,103,114,126,107,111,114,118,122,103,107,129,107,111,114,122,129,103,111,118,122,126,129,133,137,144,111,114,118,99,111,122,126,129,148,103,107,111,114,118,122,126,129,133,141,170,260,298,107,111,126,129,148,114,122,129,103,107,111,114,118,122,129,133,372,107,114,118,122,126,129,107,114,122,126,144,103,107,111,114,118,122,126,129,133,137,141,152,335,107,122,126,129,141,197,107,111,114,118,126,103,107,111,114,118,122,126,156,114,118,122,107,111,114,118,126,114,118,122,129,137,111,122,126,107,111,114,118,122,126,129,133,137,141,144,152,159,335,107,114,118,122,126,111,114,118,129,103,122,126,141,114,118,122,126,133,107,111,114,122,129,133,118,122,129,107,111,114,118,122,126,129,133,137,141,144,148,152,159,118,126,129,141,107,114,118,126,129,133,137,156,129,107,114,118,122,137,141,118,122,133,144,107,114,122,126,129,133,141,298,111,114,118,122,126,129,133,137,144,156,447,114,118,137,144,111,118,122,129,156,107,114,122,126,129,137,111,118,122,126,129,133,141,144,387,111,118,122,129,133,137,144,156,118,137,163,114,118,174,107,111,114,118,122,126,129,133,137,141,144,148,156,159,163,114,126,133,141,174,129,159,122,129,133,137,144,152,114,122,126,129,133,137,144,170,122,126,129,133,137,111,114,122,126,129,133,137,141,144,148,152,159,163,167,118,122,133,137,141,159,122,129,133,144,111,122,126,129,133,137,141,144,152,126,152,126,129,137,148,174,111,122,126,129,133,137,152,122,137,141,170,111,114,118,122,126,129,133,137,141,144,148,152,163,185,122,129,133,137,141,152,126,129,137,141,148,129,137,148,114,118,126,133,137,141,144,152,122,126,129,152,204,129,114,118,122,126,129,133,137,141,144,152,156,129,137,144,152,148,114,118,126,156,163,189,133,137,133,137,178,126,129,144,159,118,122,129,141,156,159,447,118,126,129,133,137,141,144,148,156,163,178,129,144,152,118,148,170,447,133,137,141,159,133,141,148,152,137,144,122,129,137,144,148,122,148,152,118,122,126,129,133,137,141,144,148,152,156,163,174,197,137,148,189,122,137,163,170,129,133,137,126,133,137,141,144,148,159,167,129,133,144,148,141,144,152,156,118,126,129,133,137,141,144,148,152,156,159,163,167,170,174,178,129,133,144,126,174,126,133,137,141,144,152,156,185,118,129,141,144,148,156,167,170,137,156,159,193,129,137,141,159,167,126,129,137,144,129,133,137,141,144,148,152,156,159,163,170,178,335,372,133,156,167,129,133,137,144,148,159,185,137,141,148,129,141,159,372,133,148,152,156,185,129,141,144,148,152,163,129,141,163,141,159,129,133,137,141,144,148,152,156,163,167,170,193,197,133,141,148,159,167,129,148,129,133,137,141,144,148,144,170,137,144,148,167,133,141,133,137,141,144,148,152,156,159,163,313,141,148,152,126,129,141,144,159,170,156,129,141,144,148,159,197,133,141,144,148,152,156,137,144,156,159,144,148,156,170,133,133,137,141,144,148,152,156,159,163,167,170,178,144,167,167,212,129,137,137,141,144,148,156,185,129,141,144,148,152,156,163,167,170,137,148,152,144,156,137,144,148,152,156,159,163,167,178,144,174,156,141,144,148,152,170,144,141,144,156,159,133,144,137,141,144,148,152,156,159,163,167,170,174,223,141,144,174,137,141,148,163,167,141,144,148,156,167,163,178,137,141,144,152,159,167,174,178,182,159,141,170,126,141,144,148,152,156,159,163,167,170,174,178,189,152,159,167,170,141,152,156,167,137,152,163,170,197,141,148,170,185,313,144,152,170,182,152,156,159,137,141,148,152,156,159,163,167,170,174,178,182,189,241,372,148,167,178,148,152,159,163,144,152,156,200,447,163,156,167,170,174,137,148,152,170,144,156,159,170,148,152,156,159,163,167,170,174,204,212,144,148,159,167,174,182,148,170,156,167,159,167,152,156,159,167,148,141,152,174,141,144,156,159,163,167,170,174,178,185,189,193,301,156,167,174,148,159,163,182,212,156,163,193,163,148,152,159,167,148,144,152,156,174,387,144,148,152,156,159,163,167,170,174,178,189,163,141,152,174,193,141,144,152,204,148,159,174,182,152,152,159,170,159,167,174,144,148,152,156,159,163,167,170,178,182,185,204,245,159,163,167,170,174,182,200,152,156,174,152,156,144,182,152,170,178,189,152,156,182,163,189,144,148,152,159,163,167,178,182,189,193,197,167,159,182,167,189,152,156,178,193,212,159,167,185,200,204,148,156,182,163,148,167,170,174,152,156,159,163,167,170,174,178,182,189,159,167,148,152,170,178,182,185,163,159,163,167,178,156,159,174,152,156,170,152,156,167,170,174,178,189,197,204,241,156,159,163,167,170,174,178,185,159,167,447,178,174,185,182,159,163,174,182,185,189,197,204,219,163,156,170,152,167,189,484,156,174,189,159,193,0,163,167,174,178,182,185,189,197,208,170,182,185,163,163,167,185,200,159,197,200,215,17,159,163,167,170,174,178,182,189,193,197,174,163,156,227,170,174,241,167,182,159,167,170,174,178,182,185,189,204,230,163,182,170,170,189,223,185,185,167,170,185,159,163,167,170,174,178,182,185,189,193,204,167,189,170,193,170,185,189,193,215,174,159,189,163,185,159,163,170,178,182,185,189,193,200,212,163,182,170,189,197,178,185,197,163,163,193,219,163,167,170,174,178,185,189,200,212,215,167,178,182,197,234,241,178,200,208,193,170,256,185,197,200,219,178,185,189,193,200,208,238,249,185,178,193,170,193,197,178,193,204,215,204,170,200,170,178,182,185,193,197,200,204,208,212,215,197,174,197,234,193,197,208,170,174,178,182,185,189,193,200,215,234,268,185,200,204,271,193,204,200,185,189,200,208,170,174,182,185,189,193,208,212,227,174,182,200,212,200,189,193,174,178,185,193,197,200,208,387,193,223,189,208,193,204,174,182,185,193,197,200,204,212,215,223,193,212,182,189,212,219,223,200,204,185,200,212,219,189,178,182,189,197,200,204,212,215,223,241,245,249,182,185,208,212,193,197,204,208,185,178,185,189,193,200,204,208,212,215,234,174,185,215,189,197,200,182,189,185,189,193,197,204,212,215,193,204,193,197,204,212,193,215,223,204,189,193,197,200,204,208,212,215,227,200,212,197,182,189,193,208,185,249,200,204,189,193,197,204,208,212,215,219,223,268,238,208,223,230,193,197,219,238,204,241,372,189,197,219,189,197,200,204,212,219,223,227,230,245,223,197,234,215,230,212,245,249,189,200,208,212,215,227,238,208,227,193,249,189,193,204,212,215,193,200,204,208,212,215,271,193,197,219,189,230,212,193,208,193,204,208,212,215,219,238,245,197,223,241,223,212,230,200,204,208,212,223,230,227,212,197,204,227,241,290,200,197,223,238,264,212,215,223,197,204,215,227,230,219,200,215,219,230,200,208,245,200,200,204,212,245,253,204,238,227,212,223,238,249,200,208,219,234,238,241,223,238,208,215,219,227,230,241,245,275,219,223,227,212,215,219,204,219,223,234,241,215,234,256,212,204,212,215,219,234,279,219,245,256,227,212,219,238,212,219,223,227,230,234,249,260,215,230,208,268,241,219,223,227,219,227,234,241,245,253,223,219,219,223,253,230,215,223,234,223,230,223,245,234,230,260,234,290,234,249,256,230,234,238,241,223,227,234,238,241,245,227,238,215,227,234,238,241,245,256,260,522,219,238,241,227,484,223,227,245,227,268,253,219,249,227,249,253,256,260,227,230,241,245,219,234,245,230,253,256,260,264,230,245,264,484,241,238,241,253,223,256,260,219,245,249,253,264,230,256,227,241,230,234,245,249,260,234,238,234,245,283,253,238,245,253,256,264,271,227,249,260,249,279,238,245,245,249,241,245,253,260,275,238,245,234,256,253,249,253,260,271,309,271,279,260,260,264,245,249,260,264,279,256,264,253,286,241,268,260,241,298,249,275,301,249,245,253,238,256,294,387,253,264,264,260,268,275,286,256,256,268,275,256,253,256,279,271,260,279,264,268,294,268,275,260,305,264,286,268,283,283,256,271,264,268,271,279,290,470,298,271,279,260,264,268,286,279,327,294,301,268,286,294,301,268,384,268,275,290,294,283,294,271,275,294,447,275,309,264,268,309,313,294,286,301,264,313,354,271,290,294,298,313,305,279,286,279,294,286,298,305,320,298,342,305,279,286,387,275,286,313,298,283,361,17,298,301,597,309,301,309,320,313,298,320,331,301,331,387,301,301,387,327,298,301,369,335,301,305,331,327,301,301,324,313,309,335,339,309,313,309,320,335,324,335,313,324,320,324,327,327,320,451,331,335,346,350,387,327,342,335,342,354,327,331,335,612,350,365,387,391,410,335,387,406,342,346,361,339,387,387,372,387,339,361,387,354,387,387,361,387,342,387,387,387,357,387,365,387,387,402,380,357,387,387,387,387,391,387,387,387,387,387,372,387,387,387,387,387,387,357,387,387,387,384,387,387,387,387,391,365,387,387,387,436,387,387,387,387,387,376,410,387,406,387,384,387,387,372,387,387,387,387,384,387,376,387,387,384,387,387,391,399,387,387,406,387,387,387,387,387,402,387,387,387,421,425,387,387,387,387,425,473,387,413,387,387,492,413,387,447,746,387,410,425,432,387,387,428,387,387,443,417,387,387,387,436,387,421,559,481,387,387,387,387,387,387,387,387,432,387,671,0,470,686,466,481,462,746,466,862,671,518,514,671,772,1120,387,1098,582,17,28,597,858,746,679,877,1647,1199,1344]},\"selected\":{\"id\":\"1066\",\"type\":\"Selection\"},\"selection_policy\":{\"id\":\"1065\",\"type\":\"UnionRenderers\"}},\"id\":\"1055\",\"type\":\"ColumnDataSource\"},{\"attributes\":{\"callback\":null,\"overlay\":{\"id\":\"1051\",\"type\":\"PolyAnnotation\"}},\"id\":\"1034\",\"type\":\"LassoSelectTool\"},{\"attributes\":{\"plot\":{\"id\":\"1004\",\"subtype\":\"Figure\",\"type\":\"Plot\"},\"ticker\":{\"id\":\"1015\",\"type\":\"BasicTicker\"}},\"id\":\"1018\",\"type\":\"Grid\"},{\"attributes\":{\"active_drag\":\"auto\",\"active_inspect\":\"auto\",\"active_multi\":null,\"active_scroll\":\"auto\",\"active_tap\":\"auto\",\"tools\":[{\"id\":\"1024\",\"type\":\"HoverTool\"},{\"id\":\"1025\",\"type\":\"CrosshairTool\"},{\"id\":\"1026\",\"type\":\"PanTool\"},{\"id\":\"1027\",\"type\":\"WheelZoomTool\"},{\"id\":\"1028\",\"type\":\"BoxZoomTool\"},{\"id\":\"1029\",\"type\":\"ResetTool\"},{\"id\":\"1030\",\"type\":\"TapTool\"},{\"id\":\"1031\",\"type\":\"SaveTool\"},{\"id\":\"1032\",\"type\":\"BoxSelectTool\"},{\"id\":\"1033\",\"type\":\"PolySelectTool\"},{\"id\":\"1034\",\"type\":\"LassoSelectTool\"}]},\"id\":\"1035\",\"type\":\"Toolbar\"},{\"attributes\":{\"formatter\":{\"id\":\"1064\",\"type\":\"BasicTickFormatter\"},\"plot\":{\"id\":\"1004\",\"subtype\":\"Figure\",\"type\":\"Plot\"},\"ticker\":{\"id\":\"1020\",\"type\":\"BasicTicker\"}},\"id\":\"1019\",\"type\":\"LinearAxis\"},{\"attributes\":{\"bottom_units\":\"screen\",\"fill_alpha\":{\"value\":0.5},\"fill_color\":{\"value\":\"lightgrey\"},\"left_units\":\"screen\",\"level\":\"overlay\",\"line_alpha\":{\"value\":1.0},\"line_color\":{\"value\":\"black\"},\"line_dash\":[4,4],\"line_width\":{\"value\":2},\"plot\":null,\"render_mode\":\"css\",\"right_units\":\"screen\",\"top_units\":\"screen\"},\"id\":\"1039\",\"type\":\"BoxAnnotation\"},{\"attributes\":{},\"id\":\"1020\",\"type\":\"BasicTicker\"},{\"attributes\":{\"fill_alpha\":{\"value\":0.5},\"fill_color\":{\"value\":\"lightgrey\"},\"level\":\"overlay\",\"line_alpha\":{\"value\":1.0},\"line_color\":{\"value\":\"black\"},\"line_dash\":[4,4],\"line_width\":{\"value\":2},\"plot\":null,\"xs_units\":\"screen\",\"ys_units\":\"screen\"},\"id\":\"1048\",\"type\":\"PolyAnnotation\"},{\"attributes\":{\"dimension\":1,\"plot\":{\"id\":\"1004\",\"subtype\":\"Figure\",\"type\":\"Plot\"},\"ticker\":{\"id\":\"1020\",\"type\":\"BasicTicker\"}},\"id\":\"1023\",\"type\":\"Grid\"},{\"attributes\":{\"source\":{\"id\":\"1055\",\"type\":\"ColumnDataSource\"}},\"id\":\"1059\",\"type\":\"CDSView\"},{\"attributes\":{\"fill_alpha\":{\"value\":0.5},\"fill_color\":{\"value\":\"lightgrey\"},\"level\":\"overlay\",\"line_alpha\":{\"value\":1.0},\"line_color\":{\"value\":\"black\"},\"line_dash\":[4,4],\"line_width\":{\"value\":2},\"plot\":null,\"xs_units\":\"screen\",\"ys_units\":\"screen\"},\"id\":\"1051\",\"type\":\"PolyAnnotation\"},{\"attributes\":{\"fill_alpha\":{\"value\":0.1},\"fill_color\":{\"value\":\"#1f77b4\"},\"line_alpha\":{\"value\":0.1},\"line_color\":{\"value\":\"#1f77b4\"},\"radius\":{\"field\":\"radius\",\"units\":\"data\"},\"x\":{\"field\":\"x\"},\"y\":{\"field\":\"y\"}},\"id\":\"1057\",\"type\":\"Circle\"},{\"attributes\":{\"data_source\":{\"id\":\"1055\",\"type\":\"ColumnDataSource\"},\"glyph\":{\"id\":\"1056\",\"type\":\"Circle\"},\"hover_glyph\":null,\"muted_glyph\":null,\"nonselection_glyph\":{\"id\":\"1057\",\"type\":\"Circle\"},\"selection_glyph\":null,\"view\":{\"id\":\"1059\",\"type\":\"CDSView\"}},\"id\":\"1058\",\"type\":\"GlyphRenderer\"},{\"attributes\":{\"bottom_units\":\"screen\",\"fill_alpha\":{\"value\":0.5},\"fill_color\":{\"value\":\"lightgrey\"},\"left_units\":\"screen\",\"level\":\"overlay\",\"line_alpha\":{\"value\":1.0},\"line_color\":{\"value\":\"black\"},\"line_dash\":[4,4],\"line_width\":{\"value\":2},\"plot\":null,\"render_mode\":\"css\",\"right_units\":\"screen\",\"top_units\":\"screen\"},\"id\":\"1045\",\"type\":\"BoxAnnotation\"},{\"attributes\":{\"callback\":null},\"id\":\"1024\",\"type\":\"HoverTool\"},{\"attributes\":{},\"id\":\"1062\",\"type\":\"BasicTickFormatter\"},{\"attributes\":{},\"id\":\"1025\",\"type\":\"CrosshairTool\"},{\"attributes\":{},\"id\":\"1064\",\"type\":\"BasicTickFormatter\"},{\"attributes\":{},\"id\":\"1026\",\"type\":\"PanTool\"},{\"attributes\":{},\"id\":\"1065\",\"type\":\"UnionRenderers\"},{\"attributes\":{},\"id\":\"1027\",\"type\":\"WheelZoomTool\"},{\"attributes\":{\"plot\":null,\"text\":\"visaulization pipeline scatter plot\"},\"id\":\"1003\",\"type\":\"Title\"},{\"attributes\":{\"overlay\":{\"id\":\"1039\",\"type\":\"BoxAnnotation\"}},\"id\":\"1028\",\"type\":\"BoxZoomTool\"},{\"attributes\":{},\"id\":\"1066\",\"type\":\"Selection\"},{\"attributes\":{\"callback\":null},\"id\":\"1006\",\"type\":\"DataRange1d\"}],\"root_ids\":[\"1004\"]},\"title\":\"Bokeh Application\",\"version\":\"1.0.4\"}};\n",
       "  var render_items = [{\"docid\":\"f775f23f-f7c6-4990-bbda-422568e3c275\",\"notebook_comms_target\":\"1071\",\"roots\":{\"1004\":\"bd212f19-3a1e-45c1-a7f8-89df9383bc95\"}}];\n",
       "  root.Bokeh.embed.embed_items_notebook(docs_json, render_items);\n",
       "\n",
       "  }\n",
       "  if (root.Bokeh !== undefined) {\n",
       "    embed_document(root);\n",
       "  } else {\n",
       "    var attempts = 0;\n",
       "    var timer = setInterval(function(root) {\n",
       "      if (root.Bokeh !== undefined) {\n",
       "        embed_document(root);\n",
       "        clearInterval(timer);\n",
       "      }\n",
       "      attempts++;\n",
       "      if (attempts > 100) {\n",
       "        console.log(\"Bokeh: ERROR: Unable to run BokehJS code because BokehJS library is missing\");\n",
       "        clearInterval(timer);\n",
       "      }\n",
       "    }, 10, root)\n",
       "  }\n",
       "})(window);"
      ],
      "application/vnd.bokehjs_exec.v0+json": ""
     },
     "metadata": {
      "application/vnd.bokehjs_exec.v0+json": {
       "id": "1004"
      }
     },
     "output_type": "display_data"
    },
    {
     "data": {
      "text/html": [
       "<p><code>&lt;Bokeh Notebook handle for <strong>In[8]</strong>&gt;</code></p>"
      ],
      "text/plain": [
       "<bokeh.io.notebook.CommsHandle at 0x7f9f286c4c88>"
      ]
     },
     "execution_count": 8,
     "metadata": {},
     "output_type": "execute_result"
    }
   ],
   "source": [
    "show(p, notebook_handle=True)"
   ]
  },
  {
   "cell_type": "code",
   "execution_count": null,
   "metadata": {},
   "outputs": [],
   "source": []
  },
  {
   "cell_type": "code",
   "execution_count": 9,
   "metadata": {
    "scrolled": true
   },
   "outputs": [],
   "source": [
    "# for plots read: http://bokeh.pydata.org/en/latest/docs/user_guide/notebook.html\n",
    "\n",
    "connection = pika.BlockingConnection(parameters)\n",
    "channel = connection.channel()\n"
   ]
  },
  {
   "cell_type": "code",
   "execution_count": 10,
   "metadata": {
    "scrolled": true
   },
   "outputs": [
    {
     "name": "stdout",
     "output_type": "stream",
     "text": [
      " [x] Consuming Queue Message:'plot.2d'\n",
      " [x] Consuming Queue Message:'plot.2d'\n",
      " [x] Consuming Queue Message:'plot.2d'\n"
     ]
    },
    {
     "name": "stderr",
     "output_type": "stream",
     "text": [
      "BokehUserWarning: ColumnDataSource's columns must be of the same length. Current lengths: ('fill_color', 4397), ('radius', 4397), ('x', 2545), ('y', 4397)\n",
      "BokehUserWarning: ColumnDataSource's columns must be of the same length. Current lengths: ('fill_color', 4397), ('radius', 4397), ('x', 2545), ('y', 2545)\n",
      "BokehUserWarning: ColumnDataSource's columns must be of the same length. Current lengths: ('fill_color', 4397), ('radius', 2545), ('x', 2545), ('y', 2545)\n",
      "BokehUserWarning: ColumnDataSource's columns must be of the same length. Current lengths: ('fill_color', 2545), ('radius', 2545), ('x', 2485), ('y', 2545)\n",
      "BokehUserWarning: ColumnDataSource's columns must be of the same length. Current lengths: ('fill_color', 2545), ('radius', 2545), ('x', 2485), ('y', 2485)\n",
      "BokehUserWarning: ColumnDataSource's columns must be of the same length. Current lengths: ('fill_color', 2545), ('radius', 2485), ('x', 2485), ('y', 2485)\n",
      "BokehUserWarning: ColumnDataSource's columns must be of the same length. Current lengths: ('fill_color', 2485), ('radius', 2485), ('x', 2440), ('y', 2485)\n",
      "BokehUserWarning: ColumnDataSource's columns must be of the same length. Current lengths: ('fill_color', 2485), ('radius', 2485), ('x', 2440), ('y', 2440)\n",
      "BokehUserWarning: ColumnDataSource's columns must be of the same length. Current lengths: ('fill_color', 2485), ('radius', 2440), ('x', 2440), ('y', 2440)\n"
     ]
    },
    {
     "name": "stdout",
     "output_type": "stream",
     "text": [
      " [x] Consuming Queue Message:'plot.2d'\n",
      " [x] Consuming Queue Message:'plot.2d'\n",
      " [x] Consuming Queue Message:'plot.2d'\n",
      " [x] Consuming Queue Message:'plot.2d'\n"
     ]
    },
    {
     "name": "stderr",
     "output_type": "stream",
     "text": [
      "BokehUserWarning: ColumnDataSource's columns must be of the same length. Current lengths: ('fill_color', 2440), ('radius', 2440), ('x', 2448), ('y', 2440)\n",
      "BokehUserWarning: ColumnDataSource's columns must be of the same length. Current lengths: ('fill_color', 2440), ('radius', 2440), ('x', 2448), ('y', 2448)\n",
      "BokehUserWarning: ColumnDataSource's columns must be of the same length. Current lengths: ('fill_color', 2440), ('radius', 2448), ('x', 2448), ('y', 2448)\n",
      "BokehUserWarning: ColumnDataSource's columns must be of the same length. Current lengths: ('fill_color', 2448), ('radius', 2448), ('x', 2487), ('y', 2448)\n",
      "BokehUserWarning: ColumnDataSource's columns must be of the same length. Current lengths: ('fill_color', 2448), ('radius', 2448), ('x', 2487), ('y', 2487)\n",
      "BokehUserWarning: ColumnDataSource's columns must be of the same length. Current lengths: ('fill_color', 2448), ('radius', 2487), ('x', 2487), ('y', 2487)\n",
      "BokehUserWarning: ColumnDataSource's columns must be of the same length. Current lengths: ('fill_color', 2487), ('radius', 2487), ('x', 2497), ('y', 2487)\n",
      "BokehUserWarning: ColumnDataSource's columns must be of the same length. Current lengths: ('fill_color', 2487), ('radius', 2487), ('x', 2497), ('y', 2497)\n",
      "BokehUserWarning: ColumnDataSource's columns must be of the same length. Current lengths: ('fill_color', 2487), ('radius', 2497), ('x', 2497), ('y', 2497)\n",
      "BokehUserWarning: ColumnDataSource's columns must be of the same length. Current lengths: ('fill_color', 2497), ('radius', 2497), ('x', 2528), ('y', 2497)\n",
      "BokehUserWarning: ColumnDataSource's columns must be of the same length. Current lengths: ('fill_color', 2497), ('radius', 2497), ('x', 2528), ('y', 2528)\n",
      "BokehUserWarning: ColumnDataSource's columns must be of the same length. Current lengths: ('fill_color', 2497), ('radius', 2528), ('x', 2528), ('y', 2528)\n",
      "BokehUserWarning: ColumnDataSource's columns must be of the same length. Current lengths: ('fill_color', 2528), ('radius', 2528), ('x', 2438), ('y', 2528)\n",
      "BokehUserWarning: ColumnDataSource's columns must be of the same length. Current lengths: ('fill_color', 2528), ('radius', 2528), ('x', 2438), ('y', 2438)\n",
      "BokehUserWarning: ColumnDataSource's columns must be of the same length. Current lengths: ('fill_color', 2528), ('radius', 2438), ('x', 2438), ('y', 2438)\n",
      "BokehUserWarning: ColumnDataSource's columns must be of the same length. Current lengths: ('fill_color', 2438), ('radius', 2438), ('x', 2490), ('y', 2438)\n",
      "BokehUserWarning: ColumnDataSource's columns must be of the same length. Current lengths: ('fill_color', 2438), ('radius', 2438), ('x', 2490), ('y', 2490)\n",
      "BokehUserWarning: ColumnDataSource's columns must be of the same length. Current lengths: ('fill_color', 2438), ('radius', 2490), ('x', 2490), ('y', 2490)\n",
      "BokehUserWarning: ColumnDataSource's columns must be of the same length. Current lengths: ('fill_color', 2490), ('radius', 2490), ('x', 2491), ('y', 2490)\n",
      "BokehUserWarning: ColumnDataSource's columns must be of the same length. Current lengths: ('fill_color', 2490), ('radius', 2490), ('x', 2491), ('y', 2491)\n",
      "BokehUserWarning: ColumnDataSource's columns must be of the same length. Current lengths: ('fill_color', 2490), ('radius', 2491), ('x', 2491), ('y', 2491)\n"
     ]
    },
    {
     "name": "stdout",
     "output_type": "stream",
     "text": [
      " [x] Consuming Queue Message:'plot.2d'\n",
      " [x] Consuming Queue Message:'plot.2d'\n",
      " [x] Consuming Queue Message:'plot.2d'\n"
     ]
    },
    {
     "name": "stderr",
     "output_type": "stream",
     "text": [
      "BokehUserWarning: ColumnDataSource's columns must be of the same length. Current lengths: ('fill_color', 2491), ('radius', 2491), ('x', 2423), ('y', 2491)\n",
      "BokehUserWarning: ColumnDataSource's columns must be of the same length. Current lengths: ('fill_color', 2491), ('radius', 2491), ('x', 2423), ('y', 2423)\n",
      "BokehUserWarning: ColumnDataSource's columns must be of the same length. Current lengths: ('fill_color', 2491), ('radius', 2423), ('x', 2423), ('y', 2423)\n",
      "BokehUserWarning: ColumnDataSource's columns must be of the same length. Current lengths: ('fill_color', 2423), ('radius', 2423), ('x', 2516), ('y', 2423)\n",
      "BokehUserWarning: ColumnDataSource's columns must be of the same length. Current lengths: ('fill_color', 2423), ('radius', 2423), ('x', 2516), ('y', 2516)\n",
      "BokehUserWarning: ColumnDataSource's columns must be of the same length. Current lengths: ('fill_color', 2423), ('radius', 2516), ('x', 2516), ('y', 2516)\n",
      "BokehUserWarning: ColumnDataSource's columns must be of the same length. Current lengths: ('fill_color', 2516), ('radius', 2516), ('x', 2553), ('y', 2516)\n",
      "BokehUserWarning: ColumnDataSource's columns must be of the same length. Current lengths: ('fill_color', 2516), ('radius', 2516), ('x', 2553), ('y', 2553)\n",
      "BokehUserWarning: ColumnDataSource's columns must be of the same length. Current lengths: ('fill_color', 2516), ('radius', 2553), ('x', 2553), ('y', 2553)\n",
      "BokehUserWarning: ColumnDataSource's columns must be of the same length. Current lengths: ('fill_color', 2553), ('radius', 2553), ('x', 2462), ('y', 2553)\n",
      "BokehUserWarning: ColumnDataSource's columns must be of the same length. Current lengths: ('fill_color', 2553), ('radius', 2553), ('x', 2462), ('y', 2462)\n",
      "BokehUserWarning: ColumnDataSource's columns must be of the same length. Current lengths: ('fill_color', 2553), ('radius', 2462), ('x', 2462), ('y', 2462)\n"
     ]
    },
    {
     "name": "stdout",
     "output_type": "stream",
     "text": [
      " [x] Consuming Queue Message:'plot.2d'\n",
      " [x] Consuming Queue Message:'plot.2d'\n",
      " [x] Consuming Queue Message:'plot.2d'\n",
      " [x] Consuming Queue Message:'plot.2d'\n",
      " [x] Consuming Queue Message:'plot.2d'\n"
     ]
    },
    {
     "name": "stderr",
     "output_type": "stream",
     "text": [
      "BokehUserWarning: ColumnDataSource's columns must be of the same length. Current lengths: ('fill_color', 2462), ('radius', 2462), ('x', 2431), ('y', 2462)\n",
      "BokehUserWarning: ColumnDataSource's columns must be of the same length. Current lengths: ('fill_color', 2462), ('radius', 2462), ('x', 2431), ('y', 2431)\n",
      "BokehUserWarning: ColumnDataSource's columns must be of the same length. Current lengths: ('fill_color', 2462), ('radius', 2431), ('x', 2431), ('y', 2431)\n",
      "BokehUserWarning: ColumnDataSource's columns must be of the same length. Current lengths: ('fill_color', 2431), ('radius', 2431), ('x', 2508), ('y', 2431)\n",
      "BokehUserWarning: ColumnDataSource's columns must be of the same length. Current lengths: ('fill_color', 2431), ('radius', 2431), ('x', 2508), ('y', 2508)\n",
      "BokehUserWarning: ColumnDataSource's columns must be of the same length. Current lengths: ('fill_color', 2431), ('radius', 2508), ('x', 2508), ('y', 2508)\n",
      "BokehUserWarning: ColumnDataSource's columns must be of the same length. Current lengths: ('fill_color', 2508), ('radius', 2508), ('x', 2512), ('y', 2508)\n",
      "BokehUserWarning: ColumnDataSource's columns must be of the same length. Current lengths: ('fill_color', 2508), ('radius', 2508), ('x', 2512), ('y', 2512)\n",
      "BokehUserWarning: ColumnDataSource's columns must be of the same length. Current lengths: ('fill_color', 2508), ('radius', 2512), ('x', 2512), ('y', 2512)\n"
     ]
    },
    {
     "name": "stdout",
     "output_type": "stream",
     "text": [
      " [x] Consuming Queue Message:'plot.2d'\n",
      " [x] Consuming Queue Message:'plot.2d'\n",
      " [x] Consuming Queue Message:'plot.2d'\n",
      " [x] Consuming Queue Message:'plot.2d'\n",
      " [x] Consuming Queue Message:'plot.2d'\n",
      " [x] Consuming Queue Message:'plot.2d'\n",
      " [x] Consuming Queue Message:'plot.2d'\n"
     ]
    },
    {
     "name": "stderr",
     "output_type": "stream",
     "text": [
      "BokehUserWarning: ColumnDataSource's columns must be of the same length. Current lengths: ('fill_color', 2512), ('radius', 2512), ('x', 2579), ('y', 2512)\n",
      "BokehUserWarning: ColumnDataSource's columns must be of the same length. Current lengths: ('fill_color', 2512), ('radius', 2512), ('x', 2579), ('y', 2579)\n",
      "BokehUserWarning: ColumnDataSource's columns must be of the same length. Current lengths: ('fill_color', 2512), ('radius', 2579), ('x', 2579), ('y', 2579)\n",
      "BokehUserWarning: ColumnDataSource's columns must be of the same length. Current lengths: ('fill_color', 2579), ('radius', 2579), ('x', 2448), ('y', 2579)\n",
      "BokehUserWarning: ColumnDataSource's columns must be of the same length. Current lengths: ('fill_color', 2579), ('radius', 2579), ('x', 2448), ('y', 2448)\n",
      "BokehUserWarning: ColumnDataSource's columns must be of the same length. Current lengths: ('fill_color', 2579), ('radius', 2448), ('x', 2448), ('y', 2448)\n",
      "BokehUserWarning: ColumnDataSource's columns must be of the same length. Current lengths: ('fill_color', 2448), ('radius', 2448), ('x', 2494), ('y', 2448)\n",
      "BokehUserWarning: ColumnDataSource's columns must be of the same length. Current lengths: ('fill_color', 2448), ('radius', 2448), ('x', 2494), ('y', 2494)\n",
      "BokehUserWarning: ColumnDataSource's columns must be of the same length. Current lengths: ('fill_color', 2448), ('radius', 2494), ('x', 2494), ('y', 2494)\n",
      "BokehUserWarning: ColumnDataSource's columns must be of the same length. Current lengths: ('fill_color', 2494), ('radius', 2494), ('x', 2476), ('y', 2494)\n",
      "BokehUserWarning: ColumnDataSource's columns must be of the same length. Current lengths: ('fill_color', 2494), ('radius', 2494), ('x', 2476), ('y', 2476)\n",
      "BokehUserWarning: ColumnDataSource's columns must be of the same length. Current lengths: ('fill_color', 2494), ('radius', 2476), ('x', 2476), ('y', 2476)\n",
      "BokehUserWarning: ColumnDataSource's columns must be of the same length. Current lengths: ('fill_color', 2476), ('radius', 2476), ('x', 2461), ('y', 2476)\n",
      "BokehUserWarning: ColumnDataSource's columns must be of the same length. Current lengths: ('fill_color', 2476), ('radius', 2476), ('x', 2461), ('y', 2461)\n",
      "BokehUserWarning: ColumnDataSource's columns must be of the same length. Current lengths: ('fill_color', 2476), ('radius', 2461), ('x', 2461), ('y', 2461)\n"
     ]
    },
    {
     "name": "stdout",
     "output_type": "stream",
     "text": [
      " [x] Consuming Queue Message:'plot.2d'\n",
      " [x] Consuming Queue Message:'plot.2d'\n",
      " [x] Consuming Queue Message:'plot.2d'\n"
     ]
    },
    {
     "name": "stderr",
     "output_type": "stream",
     "text": [
      "BokehUserWarning: ColumnDataSource's columns must be of the same length. Current lengths: ('fill_color', 2461), ('radius', 2461), ('x', 2563), ('y', 2461)\n",
      "BokehUserWarning: ColumnDataSource's columns must be of the same length. Current lengths: ('fill_color', 2461), ('radius', 2461), ('x', 2563), ('y', 2563)\n",
      "BokehUserWarning: ColumnDataSource's columns must be of the same length. Current lengths: ('fill_color', 2461), ('radius', 2563), ('x', 2563), ('y', 2563)\n",
      "BokehUserWarning: ColumnDataSource's columns must be of the same length. Current lengths: ('fill_color', 2563), ('radius', 2563), ('x', 2520), ('y', 2563)\n",
      "BokehUserWarning: ColumnDataSource's columns must be of the same length. Current lengths: ('fill_color', 2563), ('radius', 2563), ('x', 2520), ('y', 2520)\n",
      "BokehUserWarning: ColumnDataSource's columns must be of the same length. Current lengths: ('fill_color', 2563), ('radius', 2520), ('x', 2520), ('y', 2520)\n",
      "BokehUserWarning: ColumnDataSource's columns must be of the same length. Current lengths: ('fill_color', 2520), ('radius', 2520), ('x', 2502), ('y', 2520)\n",
      "BokehUserWarning: ColumnDataSource's columns must be of the same length. Current lengths: ('fill_color', 2520), ('radius', 2520), ('x', 2502), ('y', 2502)\n",
      "BokehUserWarning: ColumnDataSource's columns must be of the same length. Current lengths: ('fill_color', 2520), ('radius', 2502), ('x', 2502), ('y', 2502)\n",
      "BokehUserWarning: ColumnDataSource's columns must be of the same length. Current lengths: ('fill_color', 2502), ('radius', 2502), ('x', 2549), ('y', 2502)\n",
      "BokehUserWarning: ColumnDataSource's columns must be of the same length. Current lengths: ('fill_color', 2502), ('radius', 2502), ('x', 2549), ('y', 2549)\n"
     ]
    },
    {
     "name": "stdout",
     "output_type": "stream",
     "text": [
      " [x] Consuming Queue Message:'plot.2d'\n",
      " [x] Consuming Queue Message:'plot.2d'\n",
      " [x] Consuming Queue Message:'plot.2d'\n",
      " [x] Consuming Queue Message:'plot.2d'\n",
      " [x] Consuming Queue Message:'plot.2d'\n"
     ]
    },
    {
     "name": "stderr",
     "output_type": "stream",
     "text": [
      "BokehUserWarning: ColumnDataSource's columns must be of the same length. Current lengths: ('fill_color', 2502), ('radius', 2549), ('x', 2549), ('y', 2549)\n",
      "BokehUserWarning: ColumnDataSource's columns must be of the same length. Current lengths: ('fill_color', 2549), ('radius', 2549), ('x', 2437), ('y', 2549)\n",
      "BokehUserWarning: ColumnDataSource's columns must be of the same length. Current lengths: ('fill_color', 2549), ('radius', 2549), ('x', 2437), ('y', 2437)\n",
      "BokehUserWarning: ColumnDataSource's columns must be of the same length. Current lengths: ('fill_color', 2549), ('radius', 2437), ('x', 2437), ('y', 2437)\n",
      "BokehUserWarning: ColumnDataSource's columns must be of the same length. Current lengths: ('fill_color', 2437), ('radius', 2437), ('x', 2468), ('y', 2437)\n",
      "BokehUserWarning: ColumnDataSource's columns must be of the same length. Current lengths: ('fill_color', 2437), ('radius', 2437), ('x', 2468), ('y', 2468)\n",
      "BokehUserWarning: ColumnDataSource's columns must be of the same length. Current lengths: ('fill_color', 2437), ('radius', 2468), ('x', 2468), ('y', 2468)\n",
      "BokehUserWarning: ColumnDataSource's columns must be of the same length. Current lengths: ('fill_color', 2468), ('radius', 2468), ('x', 2532), ('y', 2468)\n",
      "BokehUserWarning: ColumnDataSource's columns must be of the same length. Current lengths: ('fill_color', 2468), ('radius', 2468), ('x', 2532), ('y', 2532)\n",
      "BokehUserWarning: ColumnDataSource's columns must be of the same length. Current lengths: ('fill_color', 2468), ('radius', 2532), ('x', 2532), ('y', 2532)\n",
      "BokehUserWarning: ColumnDataSource's columns must be of the same length. Current lengths: ('fill_color', 2532), ('radius', 2532), ('x', 2524), ('y', 2532)\n",
      "BokehUserWarning: ColumnDataSource's columns must be of the same length. Current lengths: ('fill_color', 2532), ('radius', 2532), ('x', 2524), ('y', 2524)\n",
      "BokehUserWarning: ColumnDataSource's columns must be of the same length. Current lengths: ('fill_color', 2532), ('radius', 2524), ('x', 2524), ('y', 2524)\n"
     ]
    },
    {
     "name": "stdout",
     "output_type": "stream",
     "text": [
      " [x] Consuming Queue Message:'plot.2d'\n",
      " [x] Consuming Queue Message:'plot.2d'\n",
      " [x] Consuming Queue Message:'plot.2d'\n",
      " [x] Consuming Queue Message:'plot.2d'\n"
     ]
    },
    {
     "name": "stderr",
     "output_type": "stream",
     "text": [
      "BokehUserWarning: ColumnDataSource's columns must be of the same length. Current lengths: ('fill_color', 2524), ('radius', 2524), ('x', 2490), ('y', 2524)\n",
      "BokehUserWarning: ColumnDataSource's columns must be of the same length. Current lengths: ('fill_color', 2524), ('radius', 2524), ('x', 2490), ('y', 2490)\n",
      "BokehUserWarning: ColumnDataSource's columns must be of the same length. Current lengths: ('fill_color', 2524), ('radius', 2490), ('x', 2490), ('y', 2490)\n",
      "BokehUserWarning: ColumnDataSource's columns must be of the same length. Current lengths: ('fill_color', 2490), ('radius', 2490), ('x', 2431), ('y', 2490)\n",
      "BokehUserWarning: ColumnDataSource's columns must be of the same length. Current lengths: ('fill_color', 2490), ('radius', 2490), ('x', 2431), ('y', 2431)\n",
      "BokehUserWarning: ColumnDataSource's columns must be of the same length. Current lengths: ('fill_color', 2490), ('radius', 2431), ('x', 2431), ('y', 2431)\n",
      "BokehUserWarning: ColumnDataSource's columns must be of the same length. Current lengths: ('fill_color', 2431), ('radius', 2431), ('x', 2452), ('y', 2431)\n",
      "BokehUserWarning: ColumnDataSource's columns must be of the same length. Current lengths: ('fill_color', 2431), ('radius', 2431), ('x', 2452), ('y', 2452)\n",
      "BokehUserWarning: ColumnDataSource's columns must be of the same length. Current lengths: ('fill_color', 2431), ('radius', 2452), ('x', 2452), ('y', 2452)\n",
      "BokehUserWarning: ColumnDataSource's columns must be of the same length. Current lengths: ('fill_color', 2452), ('radius', 2452), ('x', 2446), ('y', 2452)\n",
      "BokehUserWarning: ColumnDataSource's columns must be of the same length. Current lengths: ('fill_color', 2452), ('radius', 2452), ('x', 2446), ('y', 2446)\n",
      "BokehUserWarning: ColumnDataSource's columns must be of the same length. Current lengths: ('fill_color', 2452), ('radius', 2446), ('x', 2446), ('y', 2446)\n"
     ]
    },
    {
     "name": "stdout",
     "output_type": "stream",
     "text": [
      " [x] Consuming Queue Message:'plot.2d'\n",
      " [x] Consuming Queue Message:'plot.2d'\n",
      " [x] Consuming Queue Message:'plot.2d'\n",
      " [x] Consuming Queue Message:'plot.2d'\n"
     ]
    },
    {
     "name": "stderr",
     "output_type": "stream",
     "text": [
      "BokehUserWarning: ColumnDataSource's columns must be of the same length. Current lengths: ('fill_color', 2446), ('radius', 2446), ('x', 2518), ('y', 2446)\n",
      "BokehUserWarning: ColumnDataSource's columns must be of the same length. Current lengths: ('fill_color', 2446), ('radius', 2446), ('x', 2518), ('y', 2518)\n",
      "BokehUserWarning: ColumnDataSource's columns must be of the same length. Current lengths: ('fill_color', 2446), ('radius', 2518), ('x', 2518), ('y', 2518)\n",
      "BokehUserWarning: ColumnDataSource's columns must be of the same length. Current lengths: ('fill_color', 2518), ('radius', 2518), ('x', 2524), ('y', 2518)\n",
      "BokehUserWarning: ColumnDataSource's columns must be of the same length. Current lengths: ('fill_color', 2518), ('radius', 2518), ('x', 2524), ('y', 2524)\n",
      "BokehUserWarning: ColumnDataSource's columns must be of the same length. Current lengths: ('fill_color', 2518), ('radius', 2524), ('x', 2524), ('y', 2524)\n",
      "BokehUserWarning: ColumnDataSource's columns must be of the same length. Current lengths: ('fill_color', 2524), ('radius', 2524), ('x', 2470), ('y', 2524)\n",
      "BokehUserWarning: ColumnDataSource's columns must be of the same length. Current lengths: ('fill_color', 2524), ('radius', 2524), ('x', 2470), ('y', 2470)\n",
      "BokehUserWarning: ColumnDataSource's columns must be of the same length. Current lengths: ('fill_color', 2524), ('radius', 2470), ('x', 2470), ('y', 2470)\n",
      "BokehUserWarning: ColumnDataSource's columns must be of the same length. Current lengths: ('fill_color', 2470), ('radius', 2470), ('x', 2497), ('y', 2470)\n",
      "BokehUserWarning: ColumnDataSource's columns must be of the same length. Current lengths: ('fill_color', 2470), ('radius', 2470), ('x', 2497), ('y', 2497)\n",
      "BokehUserWarning: ColumnDataSource's columns must be of the same length. Current lengths: ('fill_color', 2470), ('radius', 2497), ('x', 2497), ('y', 2497)\n"
     ]
    },
    {
     "name": "stdout",
     "output_type": "stream",
     "text": [
      " [x] Consuming Queue Message:'plot.2d'\n",
      " [x] Consuming Queue Message:'plot.2d'\n",
      " [x] Consuming Queue Message:'plot.2d'\n"
     ]
    },
    {
     "name": "stderr",
     "output_type": "stream",
     "text": [
      "BokehUserWarning: ColumnDataSource's columns must be of the same length. Current lengths: ('fill_color', 2497), ('radius', 2497), ('x', 2449), ('y', 2497)\n",
      "BokehUserWarning: ColumnDataSource's columns must be of the same length. Current lengths: ('fill_color', 2497), ('radius', 2497), ('x', 2449), ('y', 2449)\n",
      "BokehUserWarning: ColumnDataSource's columns must be of the same length. Current lengths: ('fill_color', 2497), ('radius', 2449), ('x', 2449), ('y', 2449)\n",
      "BokehUserWarning: ColumnDataSource's columns must be of the same length. Current lengths: ('fill_color', 2449), ('radius', 2449), ('x', 2474), ('y', 2449)\n",
      "BokehUserWarning: ColumnDataSource's columns must be of the same length. Current lengths: ('fill_color', 2449), ('radius', 2449), ('x', 2474), ('y', 2474)\n",
      "BokehUserWarning: ColumnDataSource's columns must be of the same length. Current lengths: ('fill_color', 2449), ('radius', 2474), ('x', 2474), ('y', 2474)\n",
      "BokehUserWarning: ColumnDataSource's columns must be of the same length. Current lengths: ('fill_color', 2474), ('radius', 2474), ('x', 2451), ('y', 2474)\n",
      "BokehUserWarning: ColumnDataSource's columns must be of the same length. Current lengths: ('fill_color', 2474), ('radius', 2474), ('x', 2451), ('y', 2451)\n",
      "BokehUserWarning: ColumnDataSource's columns must be of the same length. Current lengths: ('fill_color', 2474), ('radius', 2451), ('x', 2451), ('y', 2451)\n"
     ]
    },
    {
     "name": "stdout",
     "output_type": "stream",
     "text": [
      " [x] Consuming Queue Message:'plot.2d'\n",
      " [x] Consuming Queue Message:'plot.2d'\n",
      " [x] Consuming Queue Message:'plot.2d'\n",
      " [x] Consuming Queue Message:'plot.2d'\n"
     ]
    },
    {
     "name": "stderr",
     "output_type": "stream",
     "text": [
      "BokehUserWarning: ColumnDataSource's columns must be of the same length. Current lengths: ('fill_color', 2451), ('radius', 2451), ('x', 2508), ('y', 2451)\n",
      "BokehUserWarning: ColumnDataSource's columns must be of the same length. Current lengths: ('fill_color', 2451), ('radius', 2451), ('x', 2508), ('y', 2508)\n",
      "BokehUserWarning: ColumnDataSource's columns must be of the same length. Current lengths: ('fill_color', 2451), ('radius', 2508), ('x', 2508), ('y', 2508)\n",
      "BokehUserWarning: ColumnDataSource's columns must be of the same length. Current lengths: ('fill_color', 2508), ('radius', 2508), ('x', 2502), ('y', 2508)\n",
      "BokehUserWarning: ColumnDataSource's columns must be of the same length. Current lengths: ('fill_color', 2508), ('radius', 2508), ('x', 2502), ('y', 2502)\n",
      "BokehUserWarning: ColumnDataSource's columns must be of the same length. Current lengths: ('fill_color', 2508), ('radius', 2502), ('x', 2502), ('y', 2502)\n",
      "BokehUserWarning: ColumnDataSource's columns must be of the same length. Current lengths: ('fill_color', 2502), ('radius', 2502), ('x', 2538), ('y', 2502)\n",
      "BokehUserWarning: ColumnDataSource's columns must be of the same length. Current lengths: ('fill_color', 2502), ('radius', 2502), ('x', 2538), ('y', 2538)\n",
      "BokehUserWarning: ColumnDataSource's columns must be of the same length. Current lengths: ('fill_color', 2502), ('radius', 2538), ('x', 2538), ('y', 2538)\n",
      "BokehUserWarning: ColumnDataSource's columns must be of the same length. Current lengths: ('fill_color', 2538), ('radius', 2538), ('x', 2461), ('y', 2538)\n",
      "BokehUserWarning: ColumnDataSource's columns must be of the same length. Current lengths: ('fill_color', 2538), ('radius', 2538), ('x', 2461), ('y', 2461)\n",
      "BokehUserWarning: ColumnDataSource's columns must be of the same length. Current lengths: ('fill_color', 2538), ('radius', 2461), ('x', 2461), ('y', 2461)\n"
     ]
    },
    {
     "name": "stdout",
     "output_type": "stream",
     "text": [
      " [x] Consuming Queue Message:'plot.2d'\n",
      " [x] Consuming Queue Message:'plot.2d'\n",
      " [x] Consuming Queue Message:'plot.2d'\n",
      " [x] Consuming Queue Message:'plot.2d'\n"
     ]
    },
    {
     "name": "stderr",
     "output_type": "stream",
     "text": [
      "BokehUserWarning: ColumnDataSource's columns must be of the same length. Current lengths: ('fill_color', 2461), ('radius', 2461), ('x', 2502), ('y', 2461)\n",
      "BokehUserWarning: ColumnDataSource's columns must be of the same length. Current lengths: ('fill_color', 2461), ('radius', 2461), ('x', 2502), ('y', 2502)\n",
      "BokehUserWarning: ColumnDataSource's columns must be of the same length. Current lengths: ('fill_color', 2461), ('radius', 2502), ('x', 2502), ('y', 2502)\n",
      "BokehUserWarning: ColumnDataSource's columns must be of the same length. Current lengths: ('fill_color', 2502), ('radius', 2502), ('x', 2509), ('y', 2502)\n",
      "BokehUserWarning: ColumnDataSource's columns must be of the same length. Current lengths: ('fill_color', 2502), ('radius', 2502), ('x', 2509), ('y', 2509)\n",
      "BokehUserWarning: ColumnDataSource's columns must be of the same length. Current lengths: ('fill_color', 2502), ('radius', 2509), ('x', 2509), ('y', 2509)\n",
      "BokehUserWarning: ColumnDataSource's columns must be of the same length. Current lengths: ('fill_color', 2509), ('radius', 2509), ('x', 2549), ('y', 2509)\n",
      "BokehUserWarning: ColumnDataSource's columns must be of the same length. Current lengths: ('fill_color', 2509), ('radius', 2509), ('x', 2549), ('y', 2549)\n",
      "BokehUserWarning: ColumnDataSource's columns must be of the same length. Current lengths: ('fill_color', 2509), ('radius', 2549), ('x', 2549), ('y', 2549)\n",
      "BokehUserWarning: ColumnDataSource's columns must be of the same length. Current lengths: ('fill_color', 2549), ('radius', 2549), ('x', 2536), ('y', 2549)\n",
      "BokehUserWarning: ColumnDataSource's columns must be of the same length. Current lengths: ('fill_color', 2549), ('radius', 2549), ('x', 2536), ('y', 2536)\n",
      "BokehUserWarning: ColumnDataSource's columns must be of the same length. Current lengths: ('fill_color', 2549), ('radius', 2536), ('x', 2536), ('y', 2536)\n"
     ]
    },
    {
     "name": "stdout",
     "output_type": "stream",
     "text": [
      " [x] Consuming Queue Message:'plot.2d'\n",
      " [x] Consuming Queue Message:'plot.2d'\n",
      " [x] Consuming Queue Message:'plot.2d'\n",
      " [x] Consuming Queue Message:'plot.2d'\n"
     ]
    },
    {
     "name": "stderr",
     "output_type": "stream",
     "text": [
      "BokehUserWarning: ColumnDataSource's columns must be of the same length. Current lengths: ('fill_color', 2536), ('radius', 2536), ('x', 2574), ('y', 2536)\n",
      "BokehUserWarning: ColumnDataSource's columns must be of the same length. Current lengths: ('fill_color', 2536), ('radius', 2536), ('x', 2574), ('y', 2574)\n",
      "BokehUserWarning: ColumnDataSource's columns must be of the same length. Current lengths: ('fill_color', 2536), ('radius', 2574), ('x', 2574), ('y', 2574)\n",
      "BokehUserWarning: ColumnDataSource's columns must be of the same length. Current lengths: ('fill_color', 2574), ('radius', 2574), ('x', 2383), ('y', 2574)\n",
      "BokehUserWarning: ColumnDataSource's columns must be of the same length. Current lengths: ('fill_color', 2574), ('radius', 2574), ('x', 2383), ('y', 2383)\n",
      "BokehUserWarning: ColumnDataSource's columns must be of the same length. Current lengths: ('fill_color', 2574), ('radius', 2383), ('x', 2383), ('y', 2383)\n",
      "BokehUserWarning: ColumnDataSource's columns must be of the same length. Current lengths: ('fill_color', 2383), ('radius', 2383), ('x', 2449), ('y', 2383)\n",
      "BokehUserWarning: ColumnDataSource's columns must be of the same length. Current lengths: ('fill_color', 2383), ('radius', 2383), ('x', 2449), ('y', 2449)\n",
      "BokehUserWarning: ColumnDataSource's columns must be of the same length. Current lengths: ('fill_color', 2383), ('radius', 2449), ('x', 2449), ('y', 2449)\n",
      "BokehUserWarning: ColumnDataSource's columns must be of the same length. Current lengths: ('fill_color', 2449), ('radius', 2449), ('x', 2493), ('y', 2449)\n",
      "BokehUserWarning: ColumnDataSource's columns must be of the same length. Current lengths: ('fill_color', 2449), ('radius', 2449), ('x', 2493), ('y', 2493)\n",
      "BokehUserWarning: ColumnDataSource's columns must be of the same length. Current lengths: ('fill_color', 2449), ('radius', 2493), ('x', 2493), ('y', 2493)\n"
     ]
    },
    {
     "name": "stdout",
     "output_type": "stream",
     "text": [
      " [x] Consuming Queue Message:'plot.2d'\n",
      " [x] Consuming Queue Message:'plot.2d'\n",
      " [x] Consuming Queue Message:'plot.2d'\n",
      " [x] Consuming Queue Message:'plot.2d'\n"
     ]
    },
    {
     "name": "stderr",
     "output_type": "stream",
     "text": [
      "BokehUserWarning: ColumnDataSource's columns must be of the same length. Current lengths: ('fill_color', 2493), ('radius', 2493), ('x', 2509), ('y', 2493)\n",
      "BokehUserWarning: ColumnDataSource's columns must be of the same length. Current lengths: ('fill_color', 2493), ('radius', 2493), ('x', 2509), ('y', 2509)\n",
      "BokehUserWarning: ColumnDataSource's columns must be of the same length. Current lengths: ('fill_color', 2493), ('radius', 2509), ('x', 2509), ('y', 2509)\n",
      "BokehUserWarning: ColumnDataSource's columns must be of the same length. Current lengths: ('fill_color', 2509), ('radius', 2509), ('x', 2499), ('y', 2509)\n",
      "BokehUserWarning: ColumnDataSource's columns must be of the same length. Current lengths: ('fill_color', 2509), ('radius', 2509), ('x', 2499), ('y', 2499)\n",
      "BokehUserWarning: ColumnDataSource's columns must be of the same length. Current lengths: ('fill_color', 2509), ('radius', 2499), ('x', 2499), ('y', 2499)\n",
      "BokehUserWarning: ColumnDataSource's columns must be of the same length. Current lengths: ('fill_color', 2499), ('radius', 2499), ('x', 2483), ('y', 2499)\n",
      "BokehUserWarning: ColumnDataSource's columns must be of the same length. Current lengths: ('fill_color', 2499), ('radius', 2499), ('x', 2483), ('y', 2483)\n",
      "BokehUserWarning: ColumnDataSource's columns must be of the same length. Current lengths: ('fill_color', 2499), ('radius', 2483), ('x', 2483), ('y', 2483)\n",
      "BokehUserWarning: ColumnDataSource's columns must be of the same length. Current lengths: ('fill_color', 2483), ('radius', 2483), ('x', 2467), ('y', 2483)\n",
      "BokehUserWarning: ColumnDataSource's columns must be of the same length. Current lengths: ('fill_color', 2483), ('radius', 2483), ('x', 2467), ('y', 2467)\n",
      "BokehUserWarning: ColumnDataSource's columns must be of the same length. Current lengths: ('fill_color', 2483), ('radius', 2467), ('x', 2467), ('y', 2467)\n"
     ]
    },
    {
     "name": "stdout",
     "output_type": "stream",
     "text": [
      " [x] Consuming Queue Message:'plot.2d'\n",
      " [x] Consuming Queue Message:'plot.2d'\n",
      " [x] Consuming Queue Message:'plot.2d'\n",
      " [x] Consuming Queue Message:'plot.2d'\n"
     ]
    },
    {
     "name": "stderr",
     "output_type": "stream",
     "text": [
      "BokehUserWarning: ColumnDataSource's columns must be of the same length. Current lengths: ('fill_color', 2467), ('radius', 2467), ('x', 2534), ('y', 2467)\n",
      "BokehUserWarning: ColumnDataSource's columns must be of the same length. Current lengths: ('fill_color', 2467), ('radius', 2467), ('x', 2534), ('y', 2534)\n",
      "BokehUserWarning: ColumnDataSource's columns must be of the same length. Current lengths: ('fill_color', 2467), ('radius', 2534), ('x', 2534), ('y', 2534)\n",
      "BokehUserWarning: ColumnDataSource's columns must be of the same length. Current lengths: ('fill_color', 2534), ('radius', 2534), ('x', 2452), ('y', 2534)\n",
      "BokehUserWarning: ColumnDataSource's columns must be of the same length. Current lengths: ('fill_color', 2534), ('radius', 2534), ('x', 2452), ('y', 2452)\n",
      "BokehUserWarning: ColumnDataSource's columns must be of the same length. Current lengths: ('fill_color', 2534), ('radius', 2452), ('x', 2452), ('y', 2452)\n",
      "BokehUserWarning: ColumnDataSource's columns must be of the same length. Current lengths: ('fill_color', 2452), ('radius', 2452), ('x', 2557), ('y', 2452)\n",
      "BokehUserWarning: ColumnDataSource's columns must be of the same length. Current lengths: ('fill_color', 2452), ('radius', 2452), ('x', 2557), ('y', 2557)\n",
      "BokehUserWarning: ColumnDataSource's columns must be of the same length. Current lengths: ('fill_color', 2452), ('radius', 2557), ('x', 2557), ('y', 2557)\n",
      "BokehUserWarning: ColumnDataSource's columns must be of the same length. Current lengths: ('fill_color', 2557), ('radius', 2557), ('x', 2498), ('y', 2557)\n",
      "BokehUserWarning: ColumnDataSource's columns must be of the same length. Current lengths: ('fill_color', 2557), ('radius', 2557), ('x', 2498), ('y', 2498)\n",
      "BokehUserWarning: ColumnDataSource's columns must be of the same length. Current lengths: ('fill_color', 2557), ('radius', 2498), ('x', 2498), ('y', 2498)\n"
     ]
    },
    {
     "name": "stdout",
     "output_type": "stream",
     "text": [
      " [x] Consuming Queue Message:'plot.2d'\n",
      " [x] Consuming Queue Message:'plot.2d'\n",
      " [x] Consuming Queue Message:'plot.2d'\n",
      " [x] Consuming Queue Message:'plot.2d'\n"
     ]
    },
    {
     "name": "stderr",
     "output_type": "stream",
     "text": [
      "BokehUserWarning: ColumnDataSource's columns must be of the same length. Current lengths: ('fill_color', 2498), ('radius', 2498), ('x', 2537), ('y', 2498)\n",
      "BokehUserWarning: ColumnDataSource's columns must be of the same length. Current lengths: ('fill_color', 2498), ('radius', 2498), ('x', 2537), ('y', 2537)\n",
      "BokehUserWarning: ColumnDataSource's columns must be of the same length. Current lengths: ('fill_color', 2498), ('radius', 2537), ('x', 2537), ('y', 2537)\n",
      "BokehUserWarning: ColumnDataSource's columns must be of the same length. Current lengths: ('fill_color', 2537), ('radius', 2537), ('x', 2480), ('y', 2537)\n",
      "BokehUserWarning: ColumnDataSource's columns must be of the same length. Current lengths: ('fill_color', 2537), ('radius', 2537), ('x', 2480), ('y', 2480)\n",
      "BokehUserWarning: ColumnDataSource's columns must be of the same length. Current lengths: ('fill_color', 2537), ('radius', 2480), ('x', 2480), ('y', 2480)\n",
      "BokehUserWarning: ColumnDataSource's columns must be of the same length. Current lengths: ('fill_color', 2480), ('radius', 2480), ('x', 2504), ('y', 2480)\n",
      "BokehUserWarning: ColumnDataSource's columns must be of the same length. Current lengths: ('fill_color', 2480), ('radius', 2480), ('x', 2504), ('y', 2504)\n",
      "BokehUserWarning: ColumnDataSource's columns must be of the same length. Current lengths: ('fill_color', 2480), ('radius', 2504), ('x', 2504), ('y', 2504)\n",
      "BokehUserWarning: ColumnDataSource's columns must be of the same length. Current lengths: ('fill_color', 2504), ('radius', 2504), ('x', 2494), ('y', 2504)\n",
      "BokehUserWarning: ColumnDataSource's columns must be of the same length. Current lengths: ('fill_color', 2504), ('radius', 2504), ('x', 2494), ('y', 2494)\n",
      "BokehUserWarning: ColumnDataSource's columns must be of the same length. Current lengths: ('fill_color', 2504), ('radius', 2494), ('x', 2494), ('y', 2494)\n"
     ]
    },
    {
     "name": "stdout",
     "output_type": "stream",
     "text": [
      " [x] Consuming Queue Message:'plot.2d'\n",
      " [x] Consuming Queue Message:'plot.2d'\n",
      " [x] Consuming Queue Message:'plot.2d'\n"
     ]
    },
    {
     "name": "stderr",
     "output_type": "stream",
     "text": [
      "BokehUserWarning: ColumnDataSource's columns must be of the same length. Current lengths: ('fill_color', 2494), ('radius', 2494), ('x', 2537), ('y', 2494)\n",
      "BokehUserWarning: ColumnDataSource's columns must be of the same length. Current lengths: ('fill_color', 2494), ('radius', 2494), ('x', 2537), ('y', 2537)\n",
      "BokehUserWarning: ColumnDataSource's columns must be of the same length. Current lengths: ('fill_color', 2494), ('radius', 2537), ('x', 2537), ('y', 2537)\n",
      "BokehUserWarning: ColumnDataSource's columns must be of the same length. Current lengths: ('fill_color', 2537), ('radius', 2537), ('x', 2568), ('y', 2537)\n",
      "BokehUserWarning: ColumnDataSource's columns must be of the same length. Current lengths: ('fill_color', 2537), ('radius', 2537), ('x', 2568), ('y', 2568)\n",
      "BokehUserWarning: ColumnDataSource's columns must be of the same length. Current lengths: ('fill_color', 2537), ('radius', 2568), ('x', 2568), ('y', 2568)\n",
      "BokehUserWarning: ColumnDataSource's columns must be of the same length. Current lengths: ('fill_color', 2568), ('radius', 2568), ('x', 2492), ('y', 2568)\n",
      "BokehUserWarning: ColumnDataSource's columns must be of the same length. Current lengths: ('fill_color', 2568), ('radius', 2568), ('x', 2492), ('y', 2492)\n",
      "BokehUserWarning: ColumnDataSource's columns must be of the same length. Current lengths: ('fill_color', 2568), ('radius', 2492), ('x', 2492), ('y', 2492)\n"
     ]
    },
    {
     "name": "stdout",
     "output_type": "stream",
     "text": [
      " [x] Consuming Queue Message:'plot.2d'\n",
      " [x] Consuming Queue Message:'plot.2d'\n",
      " [x] Consuming Queue Message:'plot.2d'\n",
      " [x] Consuming Queue Message:'plot.2d'\n"
     ]
    },
    {
     "name": "stderr",
     "output_type": "stream",
     "text": [
      "BokehUserWarning: ColumnDataSource's columns must be of the same length. Current lengths: ('fill_color', 2492), ('radius', 2492), ('x', 2605), ('y', 2492)\n",
      "BokehUserWarning: ColumnDataSource's columns must be of the same length. Current lengths: ('fill_color', 2492), ('radius', 2492), ('x', 2605), ('y', 2605)\n",
      "BokehUserWarning: ColumnDataSource's columns must be of the same length. Current lengths: ('fill_color', 2492), ('radius', 2605), ('x', 2605), ('y', 2605)\n",
      "BokehUserWarning: ColumnDataSource's columns must be of the same length. Current lengths: ('fill_color', 2605), ('radius', 2605), ('x', 2550), ('y', 2605)\n",
      "BokehUserWarning: ColumnDataSource's columns must be of the same length. Current lengths: ('fill_color', 2605), ('radius', 2605), ('x', 2550), ('y', 2550)\n",
      "BokehUserWarning: ColumnDataSource's columns must be of the same length. Current lengths: ('fill_color', 2605), ('radius', 2550), ('x', 2550), ('y', 2550)\n",
      "BokehUserWarning: ColumnDataSource's columns must be of the same length. Current lengths: ('fill_color', 2550), ('radius', 2550), ('x', 2470), ('y', 2550)\n",
      "BokehUserWarning: ColumnDataSource's columns must be of the same length. Current lengths: ('fill_color', 2550), ('radius', 2550), ('x', 2470), ('y', 2470)\n",
      "BokehUserWarning: ColumnDataSource's columns must be of the same length. Current lengths: ('fill_color', 2550), ('radius', 2470), ('x', 2470), ('y', 2470)\n",
      "BokehUserWarning: ColumnDataSource's columns must be of the same length. Current lengths: ('fill_color', 2470), ('radius', 2470), ('x', 2575), ('y', 2470)\n",
      "BokehUserWarning: ColumnDataSource's columns must be of the same length. Current lengths: ('fill_color', 2470), ('radius', 2470), ('x', 2575), ('y', 2575)\n",
      "BokehUserWarning: ColumnDataSource's columns must be of the same length. Current lengths: ('fill_color', 2470), ('radius', 2575), ('x', 2575), ('y', 2575)\n",
      "BokehUserWarning: ColumnDataSource's columns must be of the same length. Current lengths: ('fill_color', 2575), ('radius', 2575), ('x', 2535), ('y', 2575)\n",
      "BokehUserWarning: ColumnDataSource's columns must be of the same length. Current lengths: ('fill_color', 2575), ('radius', 2575), ('x', 2535), ('y', 2535)\n"
     ]
    },
    {
     "name": "stdout",
     "output_type": "stream",
     "text": [
      " [x] Consuming Queue Message:'plot.2d'\n",
      " [x] Consuming Queue Message:'plot.2d'\n",
      " [x] Consuming Queue Message:'plot.2d'\n",
      " [x] Consuming Queue Message:'plot.2d'\n"
     ]
    },
    {
     "name": "stderr",
     "output_type": "stream",
     "text": [
      "BokehUserWarning: ColumnDataSource's columns must be of the same length. Current lengths: ('fill_color', 2575), ('radius', 2535), ('x', 2535), ('y', 2535)\n",
      "BokehUserWarning: ColumnDataSource's columns must be of the same length. Current lengths: ('fill_color', 2535), ('radius', 2535), ('x', 2427), ('y', 2535)\n",
      "BokehUserWarning: ColumnDataSource's columns must be of the same length. Current lengths: ('fill_color', 2535), ('radius', 2535), ('x', 2427), ('y', 2427)\n",
      "BokehUserWarning: ColumnDataSource's columns must be of the same length. Current lengths: ('fill_color', 2535), ('radius', 2427), ('x', 2427), ('y', 2427)\n",
      "BokehUserWarning: ColumnDataSource's columns must be of the same length. Current lengths: ('fill_color', 2427), ('radius', 2427), ('x', 2516), ('y', 2427)\n",
      "BokehUserWarning: ColumnDataSource's columns must be of the same length. Current lengths: ('fill_color', 2427), ('radius', 2427), ('x', 2516), ('y', 2516)\n",
      "BokehUserWarning: ColumnDataSource's columns must be of the same length. Current lengths: ('fill_color', 2427), ('radius', 2516), ('x', 2516), ('y', 2516)\n",
      "BokehUserWarning: ColumnDataSource's columns must be of the same length. Current lengths: ('fill_color', 2516), ('radius', 2516), ('x', 2515), ('y', 2516)\n",
      "BokehUserWarning: ColumnDataSource's columns must be of the same length. Current lengths: ('fill_color', 2516), ('radius', 2516), ('x', 2515), ('y', 2515)\n",
      "BokehUserWarning: ColumnDataSource's columns must be of the same length. Current lengths: ('fill_color', 2516), ('radius', 2515), ('x', 2515), ('y', 2515)\n",
      "BokehUserWarning: ColumnDataSource's columns must be of the same length. Current lengths: ('fill_color', 2515), ('radius', 2515), ('x', 2480), ('y', 2515)\n",
      "BokehUserWarning: ColumnDataSource's columns must be of the same length. Current lengths: ('fill_color', 2515), ('radius', 2515), ('x', 2480), ('y', 2480)\n",
      "BokehUserWarning: ColumnDataSource's columns must be of the same length. Current lengths: ('fill_color', 2515), ('radius', 2480), ('x', 2480), ('y', 2480)\n"
     ]
    },
    {
     "name": "stdout",
     "output_type": "stream",
     "text": [
      " [x] Consuming Queue Message:'plot.2d'\n",
      " [x] Consuming Queue Message:'plot.2d'\n",
      " [x] Consuming Queue Message:'plot.2d'\n"
     ]
    },
    {
     "name": "stderr",
     "output_type": "stream",
     "text": [
      "BokehUserWarning: ColumnDataSource's columns must be of the same length. Current lengths: ('fill_color', 2480), ('radius', 2480), ('x', 2598), ('y', 2480)\n",
      "BokehUserWarning: ColumnDataSource's columns must be of the same length. Current lengths: ('fill_color', 2480), ('radius', 2480), ('x', 2598), ('y', 2598)\n",
      "BokehUserWarning: ColumnDataSource's columns must be of the same length. Current lengths: ('fill_color', 2480), ('radius', 2598), ('x', 2598), ('y', 2598)\n",
      "BokehUserWarning: ColumnDataSource's columns must be of the same length. Current lengths: ('fill_color', 2598), ('radius', 2598), ('x', 2589), ('y', 2598)\n",
      "BokehUserWarning: ColumnDataSource's columns must be of the same length. Current lengths: ('fill_color', 2598), ('radius', 2598), ('x', 2589), ('y', 2589)\n",
      "BokehUserWarning: ColumnDataSource's columns must be of the same length. Current lengths: ('fill_color', 2598), ('radius', 2589), ('x', 2589), ('y', 2589)\n",
      "BokehUserWarning: ColumnDataSource's columns must be of the same length. Current lengths: ('fill_color', 2589), ('radius', 2589), ('x', 2477), ('y', 2589)\n",
      "BokehUserWarning: ColumnDataSource's columns must be of the same length. Current lengths: ('fill_color', 2589), ('radius', 2589), ('x', 2477), ('y', 2477)\n",
      "BokehUserWarning: ColumnDataSource's columns must be of the same length. Current lengths: ('fill_color', 2589), ('radius', 2477), ('x', 2477), ('y', 2477)\n"
     ]
    },
    {
     "name": "stdout",
     "output_type": "stream",
     "text": [
      " [x] Consuming Queue Message:'plot.2d'\n",
      " [x] Consuming Queue Message:'plot.2d'\n",
      " [x] Consuming Queue Message:'plot.2d'\n",
      " [x] Consuming Queue Message:'plot.2d'\n"
     ]
    },
    {
     "name": "stderr",
     "output_type": "stream",
     "text": [
      "BokehUserWarning: ColumnDataSource's columns must be of the same length. Current lengths: ('fill_color', 2477), ('radius', 2477), ('x', 2538), ('y', 2477)\n",
      "BokehUserWarning: ColumnDataSource's columns must be of the same length. Current lengths: ('fill_color', 2477), ('radius', 2477), ('x', 2538), ('y', 2538)\n",
      "BokehUserWarning: ColumnDataSource's columns must be of the same length. Current lengths: ('fill_color', 2477), ('radius', 2538), ('x', 2538), ('y', 2538)\n",
      "BokehUserWarning: ColumnDataSource's columns must be of the same length. Current lengths: ('fill_color', 2538), ('radius', 2538), ('x', 2505), ('y', 2538)\n",
      "BokehUserWarning: ColumnDataSource's columns must be of the same length. Current lengths: ('fill_color', 2538), ('radius', 2538), ('x', 2505), ('y', 2505)\n",
      "BokehUserWarning: ColumnDataSource's columns must be of the same length. Current lengths: ('fill_color', 2538), ('radius', 2505), ('x', 2505), ('y', 2505)\n",
      "BokehUserWarning: ColumnDataSource's columns must be of the same length. Current lengths: ('fill_color', 2505), ('radius', 2505), ('x', 2561), ('y', 2505)\n",
      "BokehUserWarning: ColumnDataSource's columns must be of the same length. Current lengths: ('fill_color', 2505), ('radius', 2505), ('x', 2561), ('y', 2561)\n",
      "BokehUserWarning: ColumnDataSource's columns must be of the same length. Current lengths: ('fill_color', 2505), ('radius', 2561), ('x', 2561), ('y', 2561)\n"
     ]
    },
    {
     "name": "stdout",
     "output_type": "stream",
     "text": [
      " [x] Consuming Queue Message:'plot.2d'\n",
      " [x] Consuming Queue Message:'plot.2d'\n",
      " [x] Consuming Queue Message:'plot.2d'\n"
     ]
    },
    {
     "name": "stderr",
     "output_type": "stream",
     "text": [
      "BokehUserWarning: ColumnDataSource's columns must be of the same length. Current lengths: ('fill_color', 2561), ('radius', 2561), ('x', 2512), ('y', 2561)\n",
      "BokehUserWarning: ColumnDataSource's columns must be of the same length. Current lengths: ('fill_color', 2561), ('radius', 2561), ('x', 2512), ('y', 2512)\n",
      "BokehUserWarning: ColumnDataSource's columns must be of the same length. Current lengths: ('fill_color', 2561), ('radius', 2512), ('x', 2512), ('y', 2512)\n",
      "BokehUserWarning: ColumnDataSource's columns must be of the same length. Current lengths: ('fill_color', 2512), ('radius', 2512), ('x', 2489), ('y', 2512)\n",
      "BokehUserWarning: ColumnDataSource's columns must be of the same length. Current lengths: ('fill_color', 2512), ('radius', 2512), ('x', 2489), ('y', 2489)\n",
      "BokehUserWarning: ColumnDataSource's columns must be of the same length. Current lengths: ('fill_color', 2512), ('radius', 2489), ('x', 2489), ('y', 2489)\n",
      "BokehUserWarning: ColumnDataSource's columns must be of the same length. Current lengths: ('fill_color', 2489), ('radius', 2489), ('x', 2573), ('y', 2489)\n",
      "BokehUserWarning: ColumnDataSource's columns must be of the same length. Current lengths: ('fill_color', 2489), ('radius', 2489), ('x', 2573), ('y', 2573)\n",
      "BokehUserWarning: ColumnDataSource's columns must be of the same length. Current lengths: ('fill_color', 2489), ('radius', 2573), ('x', 2573), ('y', 2573)\n"
     ]
    },
    {
     "name": "stdout",
     "output_type": "stream",
     "text": [
      " [x] Consuming Queue Message:'plot.2d'\n",
      " [x] Consuming Queue Message:'plot.2d'\n",
      " [x] Consuming Queue Message:'plot.2d'\n",
      " [x] Consuming Queue Message:'plot.2d'\n"
     ]
    },
    {
     "name": "stderr",
     "output_type": "stream",
     "text": [
      "BokehUserWarning: ColumnDataSource's columns must be of the same length. Current lengths: ('fill_color', 2573), ('radius', 2573), ('x', 2475), ('y', 2573)\n",
      "BokehUserWarning: ColumnDataSource's columns must be of the same length. Current lengths: ('fill_color', 2573), ('radius', 2573), ('x', 2475), ('y', 2475)\n",
      "BokehUserWarning: ColumnDataSource's columns must be of the same length. Current lengths: ('fill_color', 2573), ('radius', 2475), ('x', 2475), ('y', 2475)\n",
      "BokehUserWarning: ColumnDataSource's columns must be of the same length. Current lengths: ('fill_color', 2475), ('radius', 2475), ('x', 2515), ('y', 2475)\n",
      "BokehUserWarning: ColumnDataSource's columns must be of the same length. Current lengths: ('fill_color', 2475), ('radius', 2475), ('x', 2515), ('y', 2515)\n",
      "BokehUserWarning: ColumnDataSource's columns must be of the same length. Current lengths: ('fill_color', 2475), ('radius', 2515), ('x', 2515), ('y', 2515)\n",
      "BokehUserWarning: ColumnDataSource's columns must be of the same length. Current lengths: ('fill_color', 2515), ('radius', 2515), ('x', 2516), ('y', 2515)\n",
      "BokehUserWarning: ColumnDataSource's columns must be of the same length. Current lengths: ('fill_color', 2515), ('radius', 2515), ('x', 2516), ('y', 2516)\n",
      "BokehUserWarning: ColumnDataSource's columns must be of the same length. Current lengths: ('fill_color', 2515), ('radius', 2516), ('x', 2516), ('y', 2516)\n",
      "BokehUserWarning: ColumnDataSource's columns must be of the same length. Current lengths: ('fill_color', 2516), ('radius', 2516), ('x', 2517), ('y', 2516)\n",
      "BokehUserWarning: ColumnDataSource's columns must be of the same length. Current lengths: ('fill_color', 2516), ('radius', 2516), ('x', 2517), ('y', 2517)\n",
      "BokehUserWarning: ColumnDataSource's columns must be of the same length. Current lengths: ('fill_color', 2516), ('radius', 2517), ('x', 2517), ('y', 2517)\n"
     ]
    },
    {
     "name": "stdout",
     "output_type": "stream",
     "text": [
      " [x] Consuming Queue Message:'plot.2d'\n"
     ]
    },
    {
     "name": "stderr",
     "output_type": "stream",
     "text": [
      "BokehUserWarning: ColumnDataSource's columns must be of the same length. Current lengths: ('fill_color', 2517), ('radius', 2517), ('x', 2448), ('y', 2517)\n",
      "BokehUserWarning: ColumnDataSource's columns must be of the same length. Current lengths: ('fill_color', 2517), ('radius', 2517), ('x', 2448), ('y', 2448)\n",
      "BokehUserWarning: ColumnDataSource's columns must be of the same length. Current lengths: ('fill_color', 2517), ('radius', 2448), ('x', 2448), ('y', 2448)\n"
     ]
    },
    {
     "name": "stdout",
     "output_type": "stream",
     "text": [
      " [x] Consuming Queue Message:'plot.2d'\n"
     ]
    },
    {
     "name": "stderr",
     "output_type": "stream",
     "text": [
      "BokehUserWarning: ColumnDataSource's columns must be of the same length. Current lengths: ('fill_color', 2448), ('radius', 2448), ('x', 2525), ('y', 2448)\n",
      "BokehUserWarning: ColumnDataSource's columns must be of the same length. Current lengths: ('fill_color', 2448), ('radius', 2448), ('x', 2525), ('y', 2525)\n",
      "BokehUserWarning: ColumnDataSource's columns must be of the same length. Current lengths: ('fill_color', 2448), ('radius', 2525), ('x', 2525), ('y', 2525)\n"
     ]
    },
    {
     "name": "stdout",
     "output_type": "stream",
     "text": [
      " [x] Consuming Queue Message:'plot.2d'\n"
     ]
    },
    {
     "name": "stderr",
     "output_type": "stream",
     "text": [
      "BokehUserWarning: ColumnDataSource's columns must be of the same length. Current lengths: ('fill_color', 2525), ('radius', 2525), ('x', 2446), ('y', 2525)\n",
      "BokehUserWarning: ColumnDataSource's columns must be of the same length. Current lengths: ('fill_color', 2525), ('radius', 2525), ('x', 2446), ('y', 2446)\n",
      "BokehUserWarning: ColumnDataSource's columns must be of the same length. Current lengths: ('fill_color', 2525), ('radius', 2446), ('x', 2446), ('y', 2446)\n"
     ]
    },
    {
     "name": "stdout",
     "output_type": "stream",
     "text": [
      " [x] Consuming Queue Message:'plot.2d'\n"
     ]
    },
    {
     "name": "stderr",
     "output_type": "stream",
     "text": [
      "BokehUserWarning: ColumnDataSource's columns must be of the same length. Current lengths: ('fill_color', 2446), ('radius', 2446), ('x', 2475), ('y', 2446)\n",
      "BokehUserWarning: ColumnDataSource's columns must be of the same length. Current lengths: ('fill_color', 2446), ('radius', 2446), ('x', 2475), ('y', 2475)\n",
      "BokehUserWarning: ColumnDataSource's columns must be of the same length. Current lengths: ('fill_color', 2446), ('radius', 2475), ('x', 2475), ('y', 2475)\n"
     ]
    },
    {
     "name": "stdout",
     "output_type": "stream",
     "text": [
      " [x] Consuming Queue Message:'plot.2d'\n"
     ]
    },
    {
     "name": "stderr",
     "output_type": "stream",
     "text": [
      "BokehUserWarning: ColumnDataSource's columns must be of the same length. Current lengths: ('fill_color', 2475), ('radius', 2475), ('x', 2498), ('y', 2475)\n",
      "BokehUserWarning: ColumnDataSource's columns must be of the same length. Current lengths: ('fill_color', 2475), ('radius', 2475), ('x', 2498), ('y', 2498)\n",
      "BokehUserWarning: ColumnDataSource's columns must be of the same length. Current lengths: ('fill_color', 2475), ('radius', 2498), ('x', 2498), ('y', 2498)\n"
     ]
    },
    {
     "name": "stdout",
     "output_type": "stream",
     "text": [
      " [x] Consuming Queue Message:'plot.2d'\n"
     ]
    },
    {
     "name": "stderr",
     "output_type": "stream",
     "text": [
      "BokehUserWarning: ColumnDataSource's columns must be of the same length. Current lengths: ('fill_color', 2498), ('radius', 2498), ('x', 2423), ('y', 2498)\n",
      "BokehUserWarning: ColumnDataSource's columns must be of the same length. Current lengths: ('fill_color', 2498), ('radius', 2498), ('x', 2423), ('y', 2423)\n",
      "BokehUserWarning: ColumnDataSource's columns must be of the same length. Current lengths: ('fill_color', 2498), ('radius', 2423), ('x', 2423), ('y', 2423)\n"
     ]
    },
    {
     "name": "stdout",
     "output_type": "stream",
     "text": [
      " [x] Consuming Queue Message:'plot.2d'\n"
     ]
    },
    {
     "name": "stderr",
     "output_type": "stream",
     "text": [
      "BokehUserWarning: ColumnDataSource's columns must be of the same length. Current lengths: ('fill_color', 2423), ('radius', 2423), ('x', 2462), ('y', 2423)\n",
      "BokehUserWarning: ColumnDataSource's columns must be of the same length. Current lengths: ('fill_color', 2423), ('radius', 2423), ('x', 2462), ('y', 2462)\n",
      "BokehUserWarning: ColumnDataSource's columns must be of the same length. Current lengths: ('fill_color', 2423), ('radius', 2462), ('x', 2462), ('y', 2462)\n"
     ]
    },
    {
     "name": "stdout",
     "output_type": "stream",
     "text": [
      " [x] Consuming Queue Message:'plot.2d'\n"
     ]
    },
    {
     "name": "stderr",
     "output_type": "stream",
     "text": [
      "BokehUserWarning: ColumnDataSource's columns must be of the same length. Current lengths: ('fill_color', 2462), ('radius', 2462), ('x', 2495), ('y', 2462)\n",
      "BokehUserWarning: ColumnDataSource's columns must be of the same length. Current lengths: ('fill_color', 2462), ('radius', 2462), ('x', 2495), ('y', 2495)\n",
      "BokehUserWarning: ColumnDataSource's columns must be of the same length. Current lengths: ('fill_color', 2462), ('radius', 2495), ('x', 2495), ('y', 2495)\n"
     ]
    },
    {
     "name": "stdout",
     "output_type": "stream",
     "text": [
      " [x] Consuming Queue Message:'plot.2d'\n"
     ]
    },
    {
     "name": "stderr",
     "output_type": "stream",
     "text": [
      "BokehUserWarning: ColumnDataSource's columns must be of the same length. Current lengths: ('fill_color', 2495), ('radius', 2495), ('x', 2521), ('y', 2495)\n",
      "BokehUserWarning: ColumnDataSource's columns must be of the same length. Current lengths: ('fill_color', 2495), ('radius', 2495), ('x', 2521), ('y', 2521)\n",
      "BokehUserWarning: ColumnDataSource's columns must be of the same length. Current lengths: ('fill_color', 2495), ('radius', 2521), ('x', 2521), ('y', 2521)\n"
     ]
    },
    {
     "name": "stdout",
     "output_type": "stream",
     "text": [
      " [x] Consuming Queue Message:'plot.2d'\n"
     ]
    },
    {
     "name": "stderr",
     "output_type": "stream",
     "text": [
      "BokehUserWarning: ColumnDataSource's columns must be of the same length. Current lengths: ('fill_color', 2521), ('radius', 2521), ('x', 2538), ('y', 2521)\n",
      "BokehUserWarning: ColumnDataSource's columns must be of the same length. Current lengths: ('fill_color', 2521), ('radius', 2521), ('x', 2538), ('y', 2538)\n",
      "BokehUserWarning: ColumnDataSource's columns must be of the same length. Current lengths: ('fill_color', 2521), ('radius', 2538), ('x', 2538), ('y', 2538)\n"
     ]
    },
    {
     "name": "stdout",
     "output_type": "stream",
     "text": [
      " [x] Consuming Queue Message:'plot.2d'\n"
     ]
    },
    {
     "name": "stderr",
     "output_type": "stream",
     "text": [
      "BokehUserWarning: ColumnDataSource's columns must be of the same length. Current lengths: ('fill_color', 2538), ('radius', 2538), ('x', 2497), ('y', 2538)\n",
      "BokehUserWarning: ColumnDataSource's columns must be of the same length. Current lengths: ('fill_color', 2538), ('radius', 2538), ('x', 2497), ('y', 2497)\n",
      "BokehUserWarning: ColumnDataSource's columns must be of the same length. Current lengths: ('fill_color', 2538), ('radius', 2497), ('x', 2497), ('y', 2497)\n"
     ]
    },
    {
     "name": "stdout",
     "output_type": "stream",
     "text": [
      " [x] Consuming Queue Message:'plot.2d'\n"
     ]
    },
    {
     "name": "stderr",
     "output_type": "stream",
     "text": [
      "BokehUserWarning: ColumnDataSource's columns must be of the same length. Current lengths: ('fill_color', 2497), ('radius', 2497), ('x', 2467), ('y', 2497)\n",
      "BokehUserWarning: ColumnDataSource's columns must be of the same length. Current lengths: ('fill_color', 2497), ('radius', 2497), ('x', 2467), ('y', 2467)\n",
      "BokehUserWarning: ColumnDataSource's columns must be of the same length. Current lengths: ('fill_color', 2497), ('radius', 2467), ('x', 2467), ('y', 2467)\n"
     ]
    },
    {
     "name": "stdout",
     "output_type": "stream",
     "text": [
      " [x] Consuming Queue Message:'plot.2d'\n"
     ]
    },
    {
     "name": "stderr",
     "output_type": "stream",
     "text": [
      "BokehUserWarning: ColumnDataSource's columns must be of the same length. Current lengths: ('fill_color', 2467), ('radius', 2467), ('x', 2435), ('y', 2467)\n",
      "BokehUserWarning: ColumnDataSource's columns must be of the same length. Current lengths: ('fill_color', 2467), ('radius', 2467), ('x', 2435), ('y', 2435)\n",
      "BokehUserWarning: ColumnDataSource's columns must be of the same length. Current lengths: ('fill_color', 2467), ('radius', 2435), ('x', 2435), ('y', 2435)\n"
     ]
    },
    {
     "name": "stdout",
     "output_type": "stream",
     "text": [
      " [x] Consuming Queue Message:'plot.2d'\n"
     ]
    },
    {
     "name": "stderr",
     "output_type": "stream",
     "text": [
      "BokehUserWarning: ColumnDataSource's columns must be of the same length. Current lengths: ('fill_color', 2435), ('radius', 2435), ('x', 2511), ('y', 2435)\n",
      "BokehUserWarning: ColumnDataSource's columns must be of the same length. Current lengths: ('fill_color', 2435), ('radius', 2435), ('x', 2511), ('y', 2511)\n",
      "BokehUserWarning: ColumnDataSource's columns must be of the same length. Current lengths: ('fill_color', 2435), ('radius', 2511), ('x', 2511), ('y', 2511)\n"
     ]
    },
    {
     "name": "stdout",
     "output_type": "stream",
     "text": [
      " [x] Consuming Queue Message:'plot.2d'\n"
     ]
    },
    {
     "name": "stderr",
     "output_type": "stream",
     "text": [
      "BokehUserWarning: ColumnDataSource's columns must be of the same length. Current lengths: ('fill_color', 2511), ('radius', 2511), ('x', 2464), ('y', 2511)\n",
      "BokehUserWarning: ColumnDataSource's columns must be of the same length. Current lengths: ('fill_color', 2511), ('radius', 2511), ('x', 2464), ('y', 2464)\n",
      "BokehUserWarning: ColumnDataSource's columns must be of the same length. Current lengths: ('fill_color', 2511), ('radius', 2464), ('x', 2464), ('y', 2464)\n"
     ]
    },
    {
     "name": "stdout",
     "output_type": "stream",
     "text": [
      " [x] Consuming Queue Message:'plot.2d'\n"
     ]
    },
    {
     "name": "stderr",
     "output_type": "stream",
     "text": [
      "BokehUserWarning: ColumnDataSource's columns must be of the same length. Current lengths: ('fill_color', 2464), ('radius', 2464), ('x', 2479), ('y', 2464)\n",
      "BokehUserWarning: ColumnDataSource's columns must be of the same length. Current lengths: ('fill_color', 2464), ('radius', 2464), ('x', 2479), ('y', 2479)\n",
      "BokehUserWarning: ColumnDataSource's columns must be of the same length. Current lengths: ('fill_color', 2464), ('radius', 2479), ('x', 2479), ('y', 2479)\n"
     ]
    },
    {
     "name": "stdout",
     "output_type": "stream",
     "text": [
      " [x] Consuming Queue Message:'plot.2d'\n"
     ]
    },
    {
     "name": "stderr",
     "output_type": "stream",
     "text": [
      "BokehUserWarning: ColumnDataSource's columns must be of the same length. Current lengths: ('fill_color', 2479), ('radius', 2479), ('x', 2509), ('y', 2479)\n",
      "BokehUserWarning: ColumnDataSource's columns must be of the same length. Current lengths: ('fill_color', 2479), ('radius', 2479), ('x', 2509), ('y', 2509)\n",
      "BokehUserWarning: ColumnDataSource's columns must be of the same length. Current lengths: ('fill_color', 2479), ('radius', 2509), ('x', 2509), ('y', 2509)\n"
     ]
    },
    {
     "name": "stdout",
     "output_type": "stream",
     "text": [
      " [x] Consuming Queue Message:'plot.2d'\n"
     ]
    },
    {
     "name": "stderr",
     "output_type": "stream",
     "text": [
      "BokehUserWarning: ColumnDataSource's columns must be of the same length. Current lengths: ('fill_color', 2509), ('radius', 2509), ('x', 2494), ('y', 2509)\n",
      "BokehUserWarning: ColumnDataSource's columns must be of the same length. Current lengths: ('fill_color', 2509), ('radius', 2509), ('x', 2494), ('y', 2494)\n",
      "BokehUserWarning: ColumnDataSource's columns must be of the same length. Current lengths: ('fill_color', 2509), ('radius', 2494), ('x', 2494), ('y', 2494)\n"
     ]
    },
    {
     "name": "stdout",
     "output_type": "stream",
     "text": [
      " [x] Consuming Queue Message:'plot.2d'\n"
     ]
    },
    {
     "name": "stderr",
     "output_type": "stream",
     "text": [
      "BokehUserWarning: ColumnDataSource's columns must be of the same length. Current lengths: ('fill_color', 2494), ('radius', 2494), ('x', 2459), ('y', 2494)\n",
      "BokehUserWarning: ColumnDataSource's columns must be of the same length. Current lengths: ('fill_color', 2494), ('radius', 2494), ('x', 2459), ('y', 2459)\n",
      "BokehUserWarning: ColumnDataSource's columns must be of the same length. Current lengths: ('fill_color', 2494), ('radius', 2459), ('x', 2459), ('y', 2459)\n"
     ]
    },
    {
     "name": "stdout",
     "output_type": "stream",
     "text": [
      " [x] Consuming Queue Message:'plot.2d'\n"
     ]
    },
    {
     "name": "stderr",
     "output_type": "stream",
     "text": [
      "BokehUserWarning: ColumnDataSource's columns must be of the same length. Current lengths: ('fill_color', 2459), ('radius', 2459), ('x', 2529), ('y', 2459)\n",
      "BokehUserWarning: ColumnDataSource's columns must be of the same length. Current lengths: ('fill_color', 2459), ('radius', 2459), ('x', 2529), ('y', 2529)\n",
      "BokehUserWarning: ColumnDataSource's columns must be of the same length. Current lengths: ('fill_color', 2459), ('radius', 2529), ('x', 2529), ('y', 2529)\n"
     ]
    },
    {
     "name": "stdout",
     "output_type": "stream",
     "text": [
      " [x] Consuming Queue Message:'plot.2d'\n"
     ]
    },
    {
     "name": "stderr",
     "output_type": "stream",
     "text": [
      "BokehUserWarning: ColumnDataSource's columns must be of the same length. Current lengths: ('fill_color', 2529), ('radius', 2529), ('x', 2493), ('y', 2529)\n",
      "BokehUserWarning: ColumnDataSource's columns must be of the same length. Current lengths: ('fill_color', 2529), ('radius', 2529), ('x', 2493), ('y', 2493)\n",
      "BokehUserWarning: ColumnDataSource's columns must be of the same length. Current lengths: ('fill_color', 2529), ('radius', 2493), ('x', 2493), ('y', 2493)\n"
     ]
    },
    {
     "name": "stdout",
     "output_type": "stream",
     "text": [
      " [x] Consuming Queue Message:'plot.2d'\n"
     ]
    },
    {
     "name": "stderr",
     "output_type": "stream",
     "text": [
      "BokehUserWarning: ColumnDataSource's columns must be of the same length. Current lengths: ('fill_color', 2493), ('radius', 2493), ('x', 2526), ('y', 2493)\n",
      "BokehUserWarning: ColumnDataSource's columns must be of the same length. Current lengths: ('fill_color', 2493), ('radius', 2493), ('x', 2526), ('y', 2526)\n",
      "BokehUserWarning: ColumnDataSource's columns must be of the same length. Current lengths: ('fill_color', 2493), ('radius', 2526), ('x', 2526), ('y', 2526)\n"
     ]
    },
    {
     "name": "stdout",
     "output_type": "stream",
     "text": [
      " [x] Consuming Queue Message:'plot.2d'\n"
     ]
    },
    {
     "name": "stderr",
     "output_type": "stream",
     "text": [
      "BokehUserWarning: ColumnDataSource's columns must be of the same length. Current lengths: ('fill_color', 2526), ('radius', 2526), ('x', 2488), ('y', 2526)\n",
      "BokehUserWarning: ColumnDataSource's columns must be of the same length. Current lengths: ('fill_color', 2526), ('radius', 2526), ('x', 2488), ('y', 2488)\n",
      "BokehUserWarning: ColumnDataSource's columns must be of the same length. Current lengths: ('fill_color', 2526), ('radius', 2488), ('x', 2488), ('y', 2488)\n"
     ]
    },
    {
     "name": "stdout",
     "output_type": "stream",
     "text": [
      " [x] Consuming Queue Message:'plot.2d'\n"
     ]
    },
    {
     "name": "stderr",
     "output_type": "stream",
     "text": [
      "BokehUserWarning: ColumnDataSource's columns must be of the same length. Current lengths: ('fill_color', 2488), ('radius', 2488), ('x', 2566), ('y', 2488)\n",
      "BokehUserWarning: ColumnDataSource's columns must be of the same length. Current lengths: ('fill_color', 2488), ('radius', 2488), ('x', 2566), ('y', 2566)\n",
      "BokehUserWarning: ColumnDataSource's columns must be of the same length. Current lengths: ('fill_color', 2488), ('radius', 2566), ('x', 2566), ('y', 2566)\n"
     ]
    },
    {
     "name": "stdout",
     "output_type": "stream",
     "text": [
      " [x] Consuming Queue Message:'plot.2d'\n"
     ]
    },
    {
     "name": "stderr",
     "output_type": "stream",
     "text": [
      "BokehUserWarning: ColumnDataSource's columns must be of the same length. Current lengths: ('fill_color', 2566), ('radius', 2566), ('x', 2578), ('y', 2566)\n",
      "BokehUserWarning: ColumnDataSource's columns must be of the same length. Current lengths: ('fill_color', 2566), ('radius', 2566), ('x', 2578), ('y', 2578)\n",
      "BokehUserWarning: ColumnDataSource's columns must be of the same length. Current lengths: ('fill_color', 2566), ('radius', 2578), ('x', 2578), ('y', 2578)\n"
     ]
    },
    {
     "name": "stdout",
     "output_type": "stream",
     "text": [
      " [x] Consuming Queue Message:'plot.2d'\n"
     ]
    },
    {
     "name": "stderr",
     "output_type": "stream",
     "text": [
      "BokehUserWarning: ColumnDataSource's columns must be of the same length. Current lengths: ('fill_color', 2578), ('radius', 2578), ('x', 2537), ('y', 2578)\n",
      "BokehUserWarning: ColumnDataSource's columns must be of the same length. Current lengths: ('fill_color', 2578), ('radius', 2578), ('x', 2537), ('y', 2537)\n",
      "BokehUserWarning: ColumnDataSource's columns must be of the same length. Current lengths: ('fill_color', 2578), ('radius', 2537), ('x', 2537), ('y', 2537)\n"
     ]
    },
    {
     "name": "stdout",
     "output_type": "stream",
     "text": [
      " [x] Consuming Queue Message:'plot.2d'\n"
     ]
    },
    {
     "name": "stderr",
     "output_type": "stream",
     "text": [
      "BokehUserWarning: ColumnDataSource's columns must be of the same length. Current lengths: ('fill_color', 2537), ('radius', 2537), ('x', 2451), ('y', 2537)\n",
      "BokehUserWarning: ColumnDataSource's columns must be of the same length. Current lengths: ('fill_color', 2537), ('radius', 2537), ('x', 2451), ('y', 2451)\n",
      "BokehUserWarning: ColumnDataSource's columns must be of the same length. Current lengths: ('fill_color', 2537), ('radius', 2451), ('x', 2451), ('y', 2451)\n"
     ]
    },
    {
     "name": "stdout",
     "output_type": "stream",
     "text": [
      " [x] Consuming Queue Message:'plot.2d'\n"
     ]
    },
    {
     "name": "stderr",
     "output_type": "stream",
     "text": [
      "BokehUserWarning: ColumnDataSource's columns must be of the same length. Current lengths: ('fill_color', 2451), ('radius', 2451), ('x', 2429), ('y', 2451)\n",
      "BokehUserWarning: ColumnDataSource's columns must be of the same length. Current lengths: ('fill_color', 2451), ('radius', 2451), ('x', 2429), ('y', 2429)\n",
      "BokehUserWarning: ColumnDataSource's columns must be of the same length. Current lengths: ('fill_color', 2451), ('radius', 2429), ('x', 2429), ('y', 2429)\n"
     ]
    },
    {
     "name": "stdout",
     "output_type": "stream",
     "text": [
      " [x] Consuming Queue Message:'plot.2d'\n"
     ]
    },
    {
     "name": "stderr",
     "output_type": "stream",
     "text": [
      "BokehUserWarning: ColumnDataSource's columns must be of the same length. Current lengths: ('fill_color', 2429), ('radius', 2429), ('x', 2535), ('y', 2429)\n",
      "BokehUserWarning: ColumnDataSource's columns must be of the same length. Current lengths: ('fill_color', 2429), ('radius', 2429), ('x', 2535), ('y', 2535)\n",
      "BokehUserWarning: ColumnDataSource's columns must be of the same length. Current lengths: ('fill_color', 2429), ('radius', 2535), ('x', 2535), ('y', 2535)\n"
     ]
    },
    {
     "name": "stdout",
     "output_type": "stream",
     "text": [
      " [x] Consuming Queue Message:'plot.2d'\n"
     ]
    },
    {
     "name": "stderr",
     "output_type": "stream",
     "text": [
      "BokehUserWarning: ColumnDataSource's columns must be of the same length. Current lengths: ('fill_color', 2535), ('radius', 2535), ('x', 2456), ('y', 2535)\n",
      "BokehUserWarning: ColumnDataSource's columns must be of the same length. Current lengths: ('fill_color', 2535), ('radius', 2535), ('x', 2456), ('y', 2456)\n",
      "BokehUserWarning: ColumnDataSource's columns must be of the same length. Current lengths: ('fill_color', 2535), ('radius', 2456), ('x', 2456), ('y', 2456)\n"
     ]
    },
    {
     "name": "stdout",
     "output_type": "stream",
     "text": [
      " [x] Consuming Queue Message:'plot.2d'\n"
     ]
    },
    {
     "name": "stderr",
     "output_type": "stream",
     "text": [
      "BokehUserWarning: ColumnDataSource's columns must be of the same length. Current lengths: ('fill_color', 2456), ('radius', 2456), ('x', 2449), ('y', 2456)\n",
      "BokehUserWarning: ColumnDataSource's columns must be of the same length. Current lengths: ('fill_color', 2456), ('radius', 2456), ('x', 2449), ('y', 2449)\n",
      "BokehUserWarning: ColumnDataSource's columns must be of the same length. Current lengths: ('fill_color', 2456), ('radius', 2449), ('x', 2449), ('y', 2449)\n"
     ]
    },
    {
     "name": "stdout",
     "output_type": "stream",
     "text": [
      " [x] Consuming Queue Message:'plot.2d'\n"
     ]
    },
    {
     "name": "stderr",
     "output_type": "stream",
     "text": [
      "BokehUserWarning: ColumnDataSource's columns must be of the same length. Current lengths: ('fill_color', 2449), ('radius', 2449), ('x', 2422), ('y', 2449)\n",
      "BokehUserWarning: ColumnDataSource's columns must be of the same length. Current lengths: ('fill_color', 2449), ('radius', 2449), ('x', 2422), ('y', 2422)\n",
      "BokehUserWarning: ColumnDataSource's columns must be of the same length. Current lengths: ('fill_color', 2449), ('radius', 2422), ('x', 2422), ('y', 2422)\n"
     ]
    },
    {
     "name": "stdout",
     "output_type": "stream",
     "text": [
      " [x] Consuming Queue Message:'plot.2d'\n"
     ]
    },
    {
     "name": "stderr",
     "output_type": "stream",
     "text": [
      "BokehUserWarning: ColumnDataSource's columns must be of the same length. Current lengths: ('fill_color', 2422), ('radius', 2422), ('x', 2646), ('y', 2422)\n",
      "BokehUserWarning: ColumnDataSource's columns must be of the same length. Current lengths: ('fill_color', 2422), ('radius', 2422), ('x', 2646), ('y', 2646)\n",
      "BokehUserWarning: ColumnDataSource's columns must be of the same length. Current lengths: ('fill_color', 2422), ('radius', 2646), ('x', 2646), ('y', 2646)\n"
     ]
    },
    {
     "name": "stdout",
     "output_type": "stream",
     "text": [
      " [x] Consuming Queue Message:'plot.2d'\n"
     ]
    },
    {
     "name": "stderr",
     "output_type": "stream",
     "text": [
      "BokehUserWarning: ColumnDataSource's columns must be of the same length. Current lengths: ('fill_color', 2646), ('radius', 2646), ('x', 2513), ('y', 2646)\n",
      "BokehUserWarning: ColumnDataSource's columns must be of the same length. Current lengths: ('fill_color', 2646), ('radius', 2646), ('x', 2513), ('y', 2513)\n",
      "BokehUserWarning: ColumnDataSource's columns must be of the same length. Current lengths: ('fill_color', 2646), ('radius', 2513), ('x', 2513), ('y', 2513)\n"
     ]
    },
    {
     "name": "stdout",
     "output_type": "stream",
     "text": [
      " [x] Consuming Queue Message:'plot.2d'\n"
     ]
    },
    {
     "name": "stderr",
     "output_type": "stream",
     "text": [
      "BokehUserWarning: ColumnDataSource's columns must be of the same length. Current lengths: ('fill_color', 2513), ('radius', 2513), ('x', 2496), ('y', 2513)\n",
      "BokehUserWarning: ColumnDataSource's columns must be of the same length. Current lengths: ('fill_color', 2513), ('radius', 2513), ('x', 2496), ('y', 2496)\n",
      "BokehUserWarning: ColumnDataSource's columns must be of the same length. Current lengths: ('fill_color', 2513), ('radius', 2496), ('x', 2496), ('y', 2496)\n"
     ]
    },
    {
     "name": "stdout",
     "output_type": "stream",
     "text": [
      " [x] Consuming Queue Message:'plot.2d'\n"
     ]
    },
    {
     "name": "stderr",
     "output_type": "stream",
     "text": [
      "BokehUserWarning: ColumnDataSource's columns must be of the same length. Current lengths: ('fill_color', 2496), ('radius', 2496), ('x', 2555), ('y', 2496)\n",
      "BokehUserWarning: ColumnDataSource's columns must be of the same length. Current lengths: ('fill_color', 2496), ('radius', 2496), ('x', 2555), ('y', 2555)\n",
      "BokehUserWarning: ColumnDataSource's columns must be of the same length. Current lengths: ('fill_color', 2496), ('radius', 2555), ('x', 2555), ('y', 2555)\n"
     ]
    },
    {
     "name": "stdout",
     "output_type": "stream",
     "text": [
      " [x] Consuming Queue Message:'plot.2d'\n"
     ]
    },
    {
     "name": "stderr",
     "output_type": "stream",
     "text": [
      "BokehUserWarning: ColumnDataSource's columns must be of the same length. Current lengths: ('fill_color', 2555), ('radius', 2555), ('x', 2473), ('y', 2555)\n",
      "BokehUserWarning: ColumnDataSource's columns must be of the same length. Current lengths: ('fill_color', 2555), ('radius', 2555), ('x', 2473), ('y', 2473)\n",
      "BokehUserWarning: ColumnDataSource's columns must be of the same length. Current lengths: ('fill_color', 2555), ('radius', 2473), ('x', 2473), ('y', 2473)\n"
     ]
    },
    {
     "name": "stdout",
     "output_type": "stream",
     "text": [
      " [x] Consuming Queue Message:'plot.2d'\n"
     ]
    },
    {
     "name": "stderr",
     "output_type": "stream",
     "text": [
      "BokehUserWarning: ColumnDataSource's columns must be of the same length. Current lengths: ('fill_color', 2473), ('radius', 2473), ('x', 2511), ('y', 2473)\n",
      "BokehUserWarning: ColumnDataSource's columns must be of the same length. Current lengths: ('fill_color', 2473), ('radius', 2473), ('x', 2511), ('y', 2511)\n",
      "BokehUserWarning: ColumnDataSource's columns must be of the same length. Current lengths: ('fill_color', 2473), ('radius', 2511), ('x', 2511), ('y', 2511)\n"
     ]
    },
    {
     "name": "stdout",
     "output_type": "stream",
     "text": [
      " [x] Consuming Queue Message:'plot.2d'\n"
     ]
    },
    {
     "name": "stderr",
     "output_type": "stream",
     "text": [
      "BokehUserWarning: ColumnDataSource's columns must be of the same length. Current lengths: ('fill_color', 2511), ('radius', 2511), ('x', 2503), ('y', 2511)\n",
      "BokehUserWarning: ColumnDataSource's columns must be of the same length. Current lengths: ('fill_color', 2511), ('radius', 2511), ('x', 2503), ('y', 2503)\n",
      "BokehUserWarning: ColumnDataSource's columns must be of the same length. Current lengths: ('fill_color', 2511), ('radius', 2503), ('x', 2503), ('y', 2503)\n"
     ]
    },
    {
     "name": "stdout",
     "output_type": "stream",
     "text": [
      " [x] Consuming Queue Message:'plot.2d'\n"
     ]
    },
    {
     "name": "stderr",
     "output_type": "stream",
     "text": [
      "BokehUserWarning: ColumnDataSource's columns must be of the same length. Current lengths: ('fill_color', 2503), ('radius', 2503), ('x', 2593), ('y', 2503)\n",
      "BokehUserWarning: ColumnDataSource's columns must be of the same length. Current lengths: ('fill_color', 2503), ('radius', 2503), ('x', 2593), ('y', 2593)\n",
      "BokehUserWarning: ColumnDataSource's columns must be of the same length. Current lengths: ('fill_color', 2503), ('radius', 2593), ('x', 2593), ('y', 2593)\n"
     ]
    },
    {
     "name": "stdout",
     "output_type": "stream",
     "text": [
      " [x] Consuming Queue Message:'plot.2d'\n"
     ]
    },
    {
     "name": "stderr",
     "output_type": "stream",
     "text": [
      "BokehUserWarning: ColumnDataSource's columns must be of the same length. Current lengths: ('fill_color', 2593), ('radius', 2593), ('x', 2470), ('y', 2593)\n",
      "BokehUserWarning: ColumnDataSource's columns must be of the same length. Current lengths: ('fill_color', 2593), ('radius', 2593), ('x', 2470), ('y', 2470)\n",
      "BokehUserWarning: ColumnDataSource's columns must be of the same length. Current lengths: ('fill_color', 2593), ('radius', 2470), ('x', 2470), ('y', 2470)\n"
     ]
    },
    {
     "name": "stdout",
     "output_type": "stream",
     "text": [
      " [x] Consuming Queue Message:'plot.2d'\n"
     ]
    },
    {
     "name": "stderr",
     "output_type": "stream",
     "text": [
      "BokehUserWarning: ColumnDataSource's columns must be of the same length. Current lengths: ('fill_color', 2470), ('radius', 2470), ('x', 2499), ('y', 2470)\n",
      "BokehUserWarning: ColumnDataSource's columns must be of the same length. Current lengths: ('fill_color', 2470), ('radius', 2470), ('x', 2499), ('y', 2499)\n",
      "BokehUserWarning: ColumnDataSource's columns must be of the same length. Current lengths: ('fill_color', 2470), ('radius', 2499), ('x', 2499), ('y', 2499)\n"
     ]
    },
    {
     "name": "stdout",
     "output_type": "stream",
     "text": [
      " [x] Consuming Queue Message:'plot.2d'\n"
     ]
    },
    {
     "name": "stderr",
     "output_type": "stream",
     "text": [
      "BokehUserWarning: ColumnDataSource's columns must be of the same length. Current lengths: ('fill_color', 2499), ('radius', 2499), ('x', 2394), ('y', 2499)\n",
      "BokehUserWarning: ColumnDataSource's columns must be of the same length. Current lengths: ('fill_color', 2499), ('radius', 2499), ('x', 2394), ('y', 2394)\n",
      "BokehUserWarning: ColumnDataSource's columns must be of the same length. Current lengths: ('fill_color', 2499), ('radius', 2394), ('x', 2394), ('y', 2394)\n"
     ]
    },
    {
     "name": "stdout",
     "output_type": "stream",
     "text": [
      " [x] Consuming Queue Message:'plot.2d'\n"
     ]
    },
    {
     "name": "stderr",
     "output_type": "stream",
     "text": [
      "BokehUserWarning: ColumnDataSource's columns must be of the same length. Current lengths: ('fill_color', 2394), ('radius', 2394), ('x', 2466), ('y', 2394)\n",
      "BokehUserWarning: ColumnDataSource's columns must be of the same length. Current lengths: ('fill_color', 2394), ('radius', 2394), ('x', 2466), ('y', 2466)\n",
      "BokehUserWarning: ColumnDataSource's columns must be of the same length. Current lengths: ('fill_color', 2394), ('radius', 2466), ('x', 2466), ('y', 2466)\n"
     ]
    },
    {
     "name": "stdout",
     "output_type": "stream",
     "text": [
      " [x] Consuming Queue Message:'plot.2d'\n"
     ]
    },
    {
     "name": "stderr",
     "output_type": "stream",
     "text": [
      "BokehUserWarning: ColumnDataSource's columns must be of the same length. Current lengths: ('fill_color', 2466), ('radius', 2466), ('x', 2440), ('y', 2466)\n",
      "BokehUserWarning: ColumnDataSource's columns must be of the same length. Current lengths: ('fill_color', 2466), ('radius', 2466), ('x', 2440), ('y', 2440)\n",
      "BokehUserWarning: ColumnDataSource's columns must be of the same length. Current lengths: ('fill_color', 2466), ('radius', 2440), ('x', 2440), ('y', 2440)\n"
     ]
    },
    {
     "name": "stdout",
     "output_type": "stream",
     "text": [
      " [x] Consuming Queue Message:'plot.2d'\n"
     ]
    },
    {
     "name": "stderr",
     "output_type": "stream",
     "text": [
      "BokehUserWarning: ColumnDataSource's columns must be of the same length. Current lengths: ('fill_color', 2440), ('radius', 2440), ('x', 2548), ('y', 2440)\n",
      "BokehUserWarning: ColumnDataSource's columns must be of the same length. Current lengths: ('fill_color', 2440), ('radius', 2440), ('x', 2548), ('y', 2548)\n",
      "BokehUserWarning: ColumnDataSource's columns must be of the same length. Current lengths: ('fill_color', 2440), ('radius', 2548), ('x', 2548), ('y', 2548)\n"
     ]
    },
    {
     "name": "stdout",
     "output_type": "stream",
     "text": [
      " [x] Consuming Queue Message:'plot.2d'\n"
     ]
    },
    {
     "name": "stderr",
     "output_type": "stream",
     "text": [
      "BokehUserWarning: ColumnDataSource's columns must be of the same length. Current lengths: ('fill_color', 2548), ('radius', 2548), ('x', 2504), ('y', 2548)\n",
      "BokehUserWarning: ColumnDataSource's columns must be of the same length. Current lengths: ('fill_color', 2548), ('radius', 2548), ('x', 2504), ('y', 2504)\n",
      "BokehUserWarning: ColumnDataSource's columns must be of the same length. Current lengths: ('fill_color', 2548), ('radius', 2504), ('x', 2504), ('y', 2504)\n"
     ]
    },
    {
     "name": "stdout",
     "output_type": "stream",
     "text": [
      " [x] Consuming Queue Message:'plot.2d'\n"
     ]
    },
    {
     "name": "stderr",
     "output_type": "stream",
     "text": [
      "BokehUserWarning: ColumnDataSource's columns must be of the same length. Current lengths: ('fill_color', 2504), ('radius', 2504), ('x', 2599), ('y', 2504)\n",
      "BokehUserWarning: ColumnDataSource's columns must be of the same length. Current lengths: ('fill_color', 2504), ('radius', 2504), ('x', 2599), ('y', 2599)\n",
      "BokehUserWarning: ColumnDataSource's columns must be of the same length. Current lengths: ('fill_color', 2504), ('radius', 2599), ('x', 2599), ('y', 2599)\n"
     ]
    },
    {
     "ename": "KeyboardInterrupt",
     "evalue": "",
     "output_type": "error",
     "traceback": [
      "\u001b[0;31m---------------------------------------------------------------------------\u001b[0m",
      "\u001b[0;31mKeyboardInterrupt\u001b[0m                         Traceback (most recent call last)",
      "\u001b[0;32m<ipython-input-10-18838785661e>\u001b[0m in \u001b[0;36m<module>\u001b[0;34m()\u001b[0m\n\u001b[1;32m      7\u001b[0m \u001b[0;34m\u001b[0m\u001b[0m\n\u001b[1;32m      8\u001b[0m \u001b[0mchannel\u001b[0m\u001b[0;34m.\u001b[0m\u001b[0mbasic_consume\u001b[0m\u001b[0;34m(\u001b[0m\u001b[0mconsumeQueue\u001b[0m\u001b[0;34m,\u001b[0m \u001b[0mqueue\u001b[0m\u001b[0;34m=\u001b[0m\u001b[0;34m'BDAPRO'\u001b[0m\u001b[0;34m,\u001b[0m \u001b[0mno_ack\u001b[0m\u001b[0;34m=\u001b[0m\u001b[0;32mTrue\u001b[0m\u001b[0;34m)\u001b[0m\u001b[0;34m\u001b[0m\u001b[0;34m\u001b[0m\u001b[0m\n\u001b[0;32m----> 9\u001b[0;31m \u001b[0mchannel\u001b[0m\u001b[0;34m.\u001b[0m\u001b[0mstart_consuming\u001b[0m\u001b[0;34m(\u001b[0m\u001b[0;34m)\u001b[0m\u001b[0;34m\u001b[0m\u001b[0;34m\u001b[0m\u001b[0m\n\u001b[0m",
      "\u001b[0;32m/home/chris/.local/lib/python3.6/site-packages/pika/adapters/blocking_connection.py\u001b[0m in \u001b[0;36mstart_consuming\u001b[0;34m(self)\u001b[0m\n\u001b[1;32m   1820\u001b[0m         \u001b[0;31m# Process events as long as consumers exist on this channel\u001b[0m\u001b[0;34m\u001b[0m\u001b[0;34m\u001b[0m\u001b[0;34m\u001b[0m\u001b[0m\n\u001b[1;32m   1821\u001b[0m         \u001b[0;32mwhile\u001b[0m \u001b[0mself\u001b[0m\u001b[0;34m.\u001b[0m\u001b[0m_consumer_infos\u001b[0m\u001b[0;34m:\u001b[0m\u001b[0;34m\u001b[0m\u001b[0;34m\u001b[0m\u001b[0m\n\u001b[0;32m-> 1822\u001b[0;31m             \u001b[0mself\u001b[0m\u001b[0;34m.\u001b[0m\u001b[0mconnection\u001b[0m\u001b[0;34m.\u001b[0m\u001b[0mprocess_data_events\u001b[0m\u001b[0;34m(\u001b[0m\u001b[0mtime_limit\u001b[0m\u001b[0;34m=\u001b[0m\u001b[0;32mNone\u001b[0m\u001b[0;34m)\u001b[0m\u001b[0;34m\u001b[0m\u001b[0;34m\u001b[0m\u001b[0m\n\u001b[0m\u001b[1;32m   1823\u001b[0m \u001b[0;34m\u001b[0m\u001b[0m\n\u001b[1;32m   1824\u001b[0m     \u001b[0;32mdef\u001b[0m \u001b[0mstop_consuming\u001b[0m\u001b[0;34m(\u001b[0m\u001b[0mself\u001b[0m\u001b[0;34m,\u001b[0m \u001b[0mconsumer_tag\u001b[0m\u001b[0;34m=\u001b[0m\u001b[0;32mNone\u001b[0m\u001b[0;34m)\u001b[0m\u001b[0;34m:\u001b[0m\u001b[0;34m\u001b[0m\u001b[0;34m\u001b[0m\u001b[0m\n",
      "\u001b[0;32m/home/chris/.local/lib/python3.6/site-packages/pika/adapters/blocking_connection.py\u001b[0m in \u001b[0;36mprocess_data_events\u001b[0;34m(self, time_limit)\u001b[0m\n\u001b[1;32m    747\u001b[0m                 (self._channels_pending_dispatch or self._ready_events))\n\u001b[1;32m    748\u001b[0m             \u001b[0;32mif\u001b[0m \u001b[0mtime_limit\u001b[0m \u001b[0;32mis\u001b[0m \u001b[0;32mNone\u001b[0m\u001b[0;34m:\u001b[0m\u001b[0;34m\u001b[0m\u001b[0;34m\u001b[0m\u001b[0m\n\u001b[0;32m--> 749\u001b[0;31m                 \u001b[0mself\u001b[0m\u001b[0;34m.\u001b[0m\u001b[0m_flush_output\u001b[0m\u001b[0;34m(\u001b[0m\u001b[0mcommon_terminator\u001b[0m\u001b[0;34m)\u001b[0m\u001b[0;34m\u001b[0m\u001b[0;34m\u001b[0m\u001b[0m\n\u001b[0m\u001b[1;32m    750\u001b[0m             \u001b[0;32melse\u001b[0m\u001b[0;34m:\u001b[0m\u001b[0;34m\u001b[0m\u001b[0;34m\u001b[0m\u001b[0m\n\u001b[1;32m    751\u001b[0m                 \u001b[0;32mwith\u001b[0m \u001b[0m_IoloopTimerContext\u001b[0m\u001b[0;34m(\u001b[0m\u001b[0mtime_limit\u001b[0m\u001b[0;34m,\u001b[0m \u001b[0mself\u001b[0m\u001b[0;34m.\u001b[0m\u001b[0m_impl\u001b[0m\u001b[0;34m)\u001b[0m \u001b[0;32mas\u001b[0m \u001b[0mtimer\u001b[0m\u001b[0;34m:\u001b[0m\u001b[0;34m\u001b[0m\u001b[0;34m\u001b[0m\u001b[0m\n",
      "\u001b[0;32m/home/chris/.local/lib/python3.6/site-packages/pika/adapters/blocking_connection.py\u001b[0m in \u001b[0;36m_flush_output\u001b[0;34m(self, *waiters)\u001b[0m\n\u001b[1;32m    456\u001b[0m         \u001b[0;31m# Process I/O until our completion condition is satisified\u001b[0m\u001b[0;34m\u001b[0m\u001b[0;34m\u001b[0m\u001b[0;34m\u001b[0m\u001b[0m\n\u001b[1;32m    457\u001b[0m         \u001b[0;32mwhile\u001b[0m \u001b[0;32mnot\u001b[0m \u001b[0mis_done\u001b[0m\u001b[0;34m(\u001b[0m\u001b[0;34m)\u001b[0m\u001b[0;34m:\u001b[0m\u001b[0;34m\u001b[0m\u001b[0;34m\u001b[0m\u001b[0m\n\u001b[0;32m--> 458\u001b[0;31m             \u001b[0mself\u001b[0m\u001b[0;34m.\u001b[0m\u001b[0m_impl\u001b[0m\u001b[0;34m.\u001b[0m\u001b[0mioloop\u001b[0m\u001b[0;34m.\u001b[0m\u001b[0mpoll\u001b[0m\u001b[0;34m(\u001b[0m\u001b[0;34m)\u001b[0m\u001b[0;34m\u001b[0m\u001b[0;34m\u001b[0m\u001b[0m\n\u001b[0m\u001b[1;32m    459\u001b[0m             \u001b[0mself\u001b[0m\u001b[0;34m.\u001b[0m\u001b[0m_impl\u001b[0m\u001b[0;34m.\u001b[0m\u001b[0mioloop\u001b[0m\u001b[0;34m.\u001b[0m\u001b[0mprocess_timeouts\u001b[0m\u001b[0;34m(\u001b[0m\u001b[0;34m)\u001b[0m\u001b[0;34m\u001b[0m\u001b[0;34m\u001b[0m\u001b[0m\n\u001b[1;32m    460\u001b[0m \u001b[0;34m\u001b[0m\u001b[0m\n",
      "\u001b[0;32m/home/chris/.local/lib/python3.6/site-packages/pika/adapters/select_connection.py\u001b[0m in \u001b[0;36mpoll\u001b[0;34m(self)\u001b[0m\n\u001b[1;32m    493\u001b[0m \u001b[0;34m\u001b[0m\u001b[0m\n\u001b[1;32m    494\u001b[0m         \"\"\"\n\u001b[0;32m--> 495\u001b[0;31m         \u001b[0mself\u001b[0m\u001b[0;34m.\u001b[0m\u001b[0m_poller\u001b[0m\u001b[0;34m.\u001b[0m\u001b[0mpoll\u001b[0m\u001b[0;34m(\u001b[0m\u001b[0;34m)\u001b[0m\u001b[0;34m\u001b[0m\u001b[0;34m\u001b[0m\u001b[0m\n\u001b[0m\u001b[1;32m    496\u001b[0m \u001b[0;34m\u001b[0m\u001b[0m\n\u001b[1;32m    497\u001b[0m \u001b[0;34m\u001b[0m\u001b[0m\n",
      "\u001b[0;32m/home/chris/.local/lib/python3.6/site-packages/pika/adapters/select_connection.py\u001b[0m in \u001b[0;36mpoll\u001b[0;34m(self)\u001b[0m\n\u001b[1;32m   1100\u001b[0m         \u001b[0;32mwhile\u001b[0m \u001b[0;32mTrue\u001b[0m\u001b[0;34m:\u001b[0m\u001b[0;34m\u001b[0m\u001b[0;34m\u001b[0m\u001b[0m\n\u001b[1;32m   1101\u001b[0m             \u001b[0;32mtry\u001b[0m\u001b[0;34m:\u001b[0m\u001b[0;34m\u001b[0m\u001b[0;34m\u001b[0m\u001b[0m\n\u001b[0;32m-> 1102\u001b[0;31m                 \u001b[0mevents\u001b[0m \u001b[0;34m=\u001b[0m \u001b[0mself\u001b[0m\u001b[0;34m.\u001b[0m\u001b[0m_poll\u001b[0m\u001b[0;34m.\u001b[0m\u001b[0mpoll\u001b[0m\u001b[0;34m(\u001b[0m\u001b[0mself\u001b[0m\u001b[0;34m.\u001b[0m\u001b[0m_get_max_wait\u001b[0m\u001b[0;34m(\u001b[0m\u001b[0;34m)\u001b[0m\u001b[0;34m)\u001b[0m\u001b[0;34m\u001b[0m\u001b[0;34m\u001b[0m\u001b[0m\n\u001b[0m\u001b[1;32m   1103\u001b[0m                 \u001b[0;32mbreak\u001b[0m\u001b[0;34m\u001b[0m\u001b[0;34m\u001b[0m\u001b[0m\n\u001b[1;32m   1104\u001b[0m             \u001b[0;32mexcept\u001b[0m \u001b[0m_SELECT_ERRORS\u001b[0m \u001b[0;32mas\u001b[0m \u001b[0merror\u001b[0m\u001b[0;34m:\u001b[0m\u001b[0;34m\u001b[0m\u001b[0;34m\u001b[0m\u001b[0m\n",
      "\u001b[0;31mKeyboardInterrupt\u001b[0m: "
     ]
    }
   ],
   "source": [
    "#run = 1\n",
    "#\n",
    "#def consume():\n",
    "#    while(run):\n",
    "#        channel.basic_consume(consumeQueue, queue='BDAPRO', no_ack=True)\n",
    "#        time.sleep(MESSAGE_DELAY_SECONDS)\n",
    "\n",
    "channel.basic_consume(consumeQueue, queue='BDAPRO', no_ack=True)        \n",
    "channel.start_consuming()"
   ]
  },
  {
   "cell_type": "code",
   "execution_count": 11,
   "metadata": {
    "scrolled": true
   },
   "outputs": [],
   "source": [
    "\n",
    "connection.close()"
   ]
  },
  {
   "cell_type": "code",
   "execution_count": null,
   "metadata": {},
   "outputs": [],
   "source": []
  },
  {
   "cell_type": "code",
   "execution_count": null,
   "metadata": {
    "scrolled": false
   },
   "outputs": [],
   "source": []
  },
  {
   "cell_type": "code",
   "execution_count": null,
   "metadata": {},
   "outputs": [],
   "source": []
  },
  {
   "cell_type": "code",
   "execution_count": null,
   "metadata": {},
   "outputs": [],
   "source": []
  },
  {
   "cell_type": "code",
   "execution_count": null,
   "metadata": {},
   "outputs": [],
   "source": []
  },
  {
   "cell_type": "code",
   "execution_count": null,
   "metadata": {},
   "outputs": [],
   "source": []
  },
  {
   "cell_type": "code",
   "execution_count": 26,
   "metadata": {},
   "outputs": [],
   "source": [
    "def update(q, f, x=10, y=10, radius=3):\n",
    "    RADIUS = radius\n",
    "    ## pull data from queue\n",
    "    # r.data_source.data['x'] = np.random.random(size=x) * x\n",
    "    # r.data_source.data['y'] = np.random.random(size=y) * y\n",
    "    # r.data_source.data['radius'] = np.random(size=radius) * radius\n",
    "    # push_notebook()"
   ]
  },
  {
   "cell_type": "code",
   "execution_count": null,
   "metadata": {},
   "outputs": [],
   "source": []
  },
  {
   "cell_type": "code",
   "execution_count": 27,
   "metadata": {},
   "outputs": [
    {
     "data": {
      "application/vnd.jupyter.widget-view+json": {
       "model_id": "c0271d8746ae4ce4846106efc5195dd2"
      }
     },
     "metadata": {},
     "output_type": "display_data"
    },
    {
     "data": {
      "text/plain": [
       "<function __main__.update>"
      ]
     },
     "execution_count": 27,
     "metadata": {},
     "output_type": "execute_result"
    }
   ],
   "source": [
    "interact(update, q=[\"taxi data\", \"????\"], f=[\"scatter\", \"cluster\"], x=(10,4000), y=(10,4000), radius=(1,10))"
   ]
  },
  {
   "cell_type": "markdown",
   "metadata": {},
   "source": [
    "also see for growing (appending) scatter plots: https://stackoverflow.com/questions/43101497/how-do-stream-data-to-a-bokeh-plot-in-jupyter-with-a-high-refresh-rate\n",
    "\n"
   ]
  },
  {
   "cell_type": "code",
   "execution_count": 39,
   "metadata": {},
   "outputs": [],
   "source": [
    "# p1.x_range.callback = CustomJS(args=dict(source=source, range=p1.x_range), code=jscode % ('x', 'width'))\n",
    "# p1.y_range.callback = CustomJS(args=dict(source=source, range=p1.y_range), code=jscode % ('y', 'height'))"
   ]
  },
  {
   "cell_type": "code",
   "execution_count": null,
   "metadata": {
    "scrolled": true
   },
   "outputs": [],
   "source": []
  },
  {
   "cell_type": "code",
   "execution_count": null,
   "metadata": {},
   "outputs": [],
   "source": []
  },
  {
   "cell_type": "code",
   "execution_count": null,
   "metadata": {},
   "outputs": [],
   "source": []
  },
  {
   "cell_type": "code",
   "execution_count": null,
   "metadata": {},
   "outputs": [],
   "source": []
  },
  {
   "cell_type": "code",
   "execution_count": 8,
   "metadata": {},
   "outputs": [],
   "source": []
  },
  {
   "cell_type": "code",
   "execution_count": null,
   "metadata": {},
   "outputs": [],
   "source": []
  }
 ],
 "metadata": {
  "kernelspec": {
   "display_name": "Python 3",
   "language": "python",
   "name": "python3"
  },
  "language_info": {
   "codemirror_mode": {
    "name": "ipython",
    "version": 3
   },
   "file_extension": ".py",
   "mimetype": "text/x-python",
   "name": "python",
   "nbconvert_exporter": "python",
   "pygments_lexer": "ipython3",
   "version": "3.6.7"
  }
 },
 "nbformat": 4,
 "nbformat_minor": 2
}
